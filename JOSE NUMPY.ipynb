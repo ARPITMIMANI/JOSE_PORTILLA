{
 "cells": [
  {
   "cell_type": "code",
   "execution_count": 1,
   "id": "99877dd1",
   "metadata": {},
   "outputs": [
    {
     "data": {
      "text/plain": [
       "array([11, 12, 13, 14, 15, 16, 17, 18, 19, 20, 21, 22, 23, 24, 25, 26, 27,\n",
       "       28, 29, 30])"
      ]
     },
     "execution_count": 1,
     "metadata": {},
     "output_type": "execute_result"
    }
   ],
   "source": [
    "import numpy as np\n",
    "arr01 = np.array([11,12,13,14,15,16,17,18,19,20,21,22,23,24,25,26,27,28,29,30])\n",
    "arr01"
   ]
  },
  {
   "cell_type": "code",
   "execution_count": 2,
   "id": "c6f536ca",
   "metadata": {},
   "outputs": [
    {
     "data": {
      "text/plain": [
       "array([12, 14, 16, 18, 20, 22, 24, 26, 28, 30])"
      ]
     },
     "execution_count": 2,
     "metadata": {},
     "output_type": "execute_result"
    }
   ],
   "source": [
    "arr02 = np.arange(12,31,2)\n",
    "arr02"
   ]
  },
  {
   "cell_type": "code",
   "execution_count": 3,
   "id": "555ea57f",
   "metadata": {},
   "outputs": [
    {
     "data": {
      "text/plain": [
       "array([[0., 0., 0., 0., 0., 0.],\n",
       "       [0., 0., 0., 0., 0., 0.],\n",
       "       [0., 0., 0., 0., 0., 0.],\n",
       "       [0., 0., 0., 0., 0., 0.]])"
      ]
     },
     "execution_count": 3,
     "metadata": {},
     "output_type": "execute_result"
    }
   ],
   "source": [
    "arr03 = np.zeros((4,6))\n",
    "arr03"
   ]
  },
  {
   "cell_type": "code",
   "execution_count": 4,
   "id": "a7a34ec1",
   "metadata": {},
   "outputs": [
    {
     "data": {
      "text/plain": [
       "array([[1., 1., 1., 1., 1., 1.],\n",
       "       [1., 1., 1., 1., 1., 1.],\n",
       "       [1., 1., 1., 1., 1., 1.],\n",
       "       [1., 1., 1., 1., 1., 1.]])"
      ]
     },
     "execution_count": 4,
     "metadata": {},
     "output_type": "execute_result"
    }
   ],
   "source": [
    "arr04 = np.ones((4,6))\n",
    "arr04"
   ]
  },
  {
   "cell_type": "code",
   "execution_count": 5,
   "id": "1c3f67c5",
   "metadata": {},
   "outputs": [
    {
     "data": {
      "text/plain": [
       "array([6. , 6.2, 6.4, 6.6, 6.8, 7. , 7.2, 7.4, 7.6, 7.8, 8. ])"
      ]
     },
     "execution_count": 5,
     "metadata": {},
     "output_type": "execute_result"
    }
   ],
   "source": [
    "arr05 = np.linspace(6,8,11)\n",
    "arr05"
   ]
  },
  {
   "cell_type": "code",
   "execution_count": 6,
   "id": "e49a12e9",
   "metadata": {},
   "outputs": [
    {
     "data": {
      "text/plain": [
       "array([ 0. ,  0.5,  1. ,  1.5,  2. ,  2.5,  3. ,  3.5,  4. ,  4.5,  5. ,\n",
       "        5.5,  6. ,  6.5,  7. ,  7.5,  8. ,  8.5,  9. ,  9.5, 10. , 10.5,\n",
       "       11. , 11.5, 12. , 12.5, 13. , 13.5, 14. , 14.5, 15. , 15.5, 16. ,\n",
       "       16.5, 17. , 17.5, 18. , 18.5, 19. , 19.5, 20. ])"
      ]
     },
     "execution_count": 6,
     "metadata": {},
     "output_type": "execute_result"
    }
   ],
   "source": [
    "arr06 = np.linspace(0,20,41)\n",
    "arr06"
   ]
  },
  {
   "cell_type": "code",
   "execution_count": 7,
   "id": "d5044790",
   "metadata": {},
   "outputs": [
    {
     "data": {
      "text/plain": [
       "array([[1., 0., 0., 0., 0., 0.],\n",
       "       [0., 1., 0., 0., 0., 0.],\n",
       "       [0., 0., 1., 0., 0., 0.],\n",
       "       [0., 0., 0., 1., 0., 0.],\n",
       "       [0., 0., 0., 0., 1., 0.],\n",
       "       [0., 0., 0., 0., 0., 1.]])"
      ]
     },
     "execution_count": 7,
     "metadata": {},
     "output_type": "execute_result"
    }
   ],
   "source": [
    "arr07 = np.identity(6)\n",
    "arr07"
   ]
  },
  {
   "cell_type": "code",
   "execution_count": 8,
   "id": "f25b268f",
   "metadata": {},
   "outputs": [
    {
     "data": {
      "text/plain": [
       "array([[1., 0., 0., 0.],\n",
       "       [0., 1., 0., 0.],\n",
       "       [0., 0., 1., 0.],\n",
       "       [0., 0., 0., 1.]])"
      ]
     },
     "execution_count": 8,
     "metadata": {},
     "output_type": "execute_result"
    }
   ],
   "source": [
    "arr08 = np.eye(4)\n",
    "arr08"
   ]
  },
  {
   "cell_type": "code",
   "execution_count": 9,
   "id": "85910717",
   "metadata": {},
   "outputs": [
    {
     "data": {
      "text/plain": [
       "array([[0.77375141, 0.59924579, 0.37017423, 0.29052281],\n",
       "       [0.26644082, 0.29285127, 0.42664362, 0.96815071],\n",
       "       [0.80282903, 0.92371831, 0.43186289, 0.47590984],\n",
       "       [0.46754815, 0.80540718, 0.52196221, 0.84727776],\n",
       "       [0.02649684, 0.22157935, 0.20402519, 0.4773761 ],\n",
       "       [0.78865725, 0.7494257 , 0.36367001, 0.51317297]])"
      ]
     },
     "execution_count": 9,
     "metadata": {},
     "output_type": "execute_result"
    }
   ],
   "source": [
    "arr09 = np.random.rand(6,4)\n",
    "arr09"
   ]
  },
  {
   "cell_type": "code",
   "execution_count": 10,
   "id": "05446910",
   "metadata": {},
   "outputs": [
    {
     "data": {
      "text/plain": [
       "array([[ 1.18923474,  1.50965852, -0.41925684],\n",
       "       [-0.29097692,  1.13357141, -0.31139273],\n",
       "       [-1.36752328, -0.02828115,  0.04419314],\n",
       "       [ 0.12053419,  0.07607873,  1.40861856]])"
      ]
     },
     "execution_count": 10,
     "metadata": {},
     "output_type": "execute_result"
    }
   ],
   "source": [
    "arr10 = np.random.randn(4,3)\n",
    "arr10"
   ]
  },
  {
   "cell_type": "code",
   "execution_count": 11,
   "id": "10bdd331",
   "metadata": {},
   "outputs": [
    {
     "data": {
      "text/plain": [
       "array([ 17,  84,  58,  22,  70,  78,  46,  76,  77,  14,  71,   7,  63,\n",
       "        72,   5,  87,  41,  70,  93,  90,  29,  71,  78,  64,  19,  72,\n",
       "        17,  33,  11,  89,   7,  69,  52,  84,  85,  27,  45,   4,  35,\n",
       "        86,  11,   6,   1,  19,  54,  76,  72,  55,  85,  41,  71,  79,\n",
       "        44,  41,  38,  12,  57,  60,  63,  42,  80,  83,   4,  35,  76,\n",
       "        99,  75,  14,   6,  45,  41,  99,  60,  11,  61,  88,  35,  67,\n",
       "        20,  45,  89,  95,  74,  70,  68,  48,  73,  98,  23,  47,  32,\n",
       "        59,  26,  68,  66,  15,  83,  68,  95,  42,  61,  90,  26,  83,\n",
       "        96,  23,  75,  46,  92,  63,  86,  16,  60,  81,  97,  48,  28,\n",
       "        63,  29,  71,  97,  23,  23,  48,  27,  78,   4,  12,   5,   1,\n",
       "        61,  68,  73,  28,  78,   9,  42,  49,  86,  83,  62,  98,  63,\n",
       "        27,   8,  43,   6,  96,  63,  90,  98,  21,   7,  35,  50,  14,\n",
       "        25,  85,  69,  92,  33,  11,  58,  79,   4,  91,  47,  35, 100,\n",
       "        52,  48,  47,  48,  61,  20,  43,  72,  69,  77,  91,  40,  48,\n",
       "        73,  99,  91,  27,  80,  16,  27,  47,  97,  65,  13,  46,  50,\n",
       "        55,  30,  91,  21,  90])"
      ]
     },
     "execution_count": 11,
     "metadata": {},
     "output_type": "execute_result"
    }
   ],
   "source": [
    "arr11 = np.random.randint(1,101,200)\n",
    "arr11"
   ]
  },
  {
   "cell_type": "code",
   "execution_count": 12,
   "id": "09c66ecb",
   "metadata": {},
   "outputs": [],
   "source": [
    "arr12 = arr11.reshape(10,20)"
   ]
  },
  {
   "cell_type": "code",
   "execution_count": 13,
   "id": "7778ba7b",
   "metadata": {},
   "outputs": [
    {
     "data": {
      "text/plain": [
       "100"
      ]
     },
     "execution_count": 13,
     "metadata": {},
     "output_type": "execute_result"
    }
   ],
   "source": [
    "arr12.max()"
   ]
  },
  {
   "cell_type": "code",
   "execution_count": 14,
   "id": "f760913a",
   "metadata": {},
   "outputs": [
    {
     "data": {
      "text/plain": [
       "1"
      ]
     },
     "execution_count": 14,
     "metadata": {},
     "output_type": "execute_result"
    }
   ],
   "source": [
    "arr12.min()"
   ]
  },
  {
   "cell_type": "code",
   "execution_count": 15,
   "id": "22b16c51",
   "metadata": {},
   "outputs": [
    {
     "data": {
      "text/plain": [
       "53.505"
      ]
     },
     "execution_count": 15,
     "metadata": {},
     "output_type": "execute_result"
    }
   ],
   "source": [
    "arr12.mean()"
   ]
  },
  {
   "cell_type": "code",
   "execution_count": 16,
   "id": "0efabb9e",
   "metadata": {},
   "outputs": [
    {
     "data": {
      "text/plain": [
       "168"
      ]
     },
     "execution_count": 16,
     "metadata": {},
     "output_type": "execute_result"
    }
   ],
   "source": [
    "arr12.argmax()"
   ]
  },
  {
   "cell_type": "code",
   "execution_count": 17,
   "id": "6a5ab108",
   "metadata": {},
   "outputs": [
    {
     "data": {
      "text/plain": [
       "42"
      ]
     },
     "execution_count": 17,
     "metadata": {},
     "output_type": "execute_result"
    }
   ],
   "source": [
    "arr12.argmin()"
   ]
  },
  {
   "cell_type": "code",
   "execution_count": 18,
   "id": "02b028d0",
   "metadata": {},
   "outputs": [
    {
     "data": {
      "text/plain": [
       "(10, 20)"
      ]
     },
     "execution_count": 18,
     "metadata": {},
     "output_type": "execute_result"
    }
   ],
   "source": [
    "arr12.shape"
   ]
  },
  {
   "cell_type": "code",
   "execution_count": 19,
   "id": "d61c5954",
   "metadata": {},
   "outputs": [
    {
     "data": {
      "text/plain": [
       "dtype('int32')"
      ]
     },
     "execution_count": 19,
     "metadata": {},
     "output_type": "execute_result"
    }
   ],
   "source": [
    "arr12.dtype"
   ]
  },
  {
   "cell_type": "code",
   "execution_count": 20,
   "id": "468dc0ce",
   "metadata": {},
   "outputs": [
    {
     "data": {
      "text/plain": [
       "(200,)"
      ]
     },
     "execution_count": 20,
     "metadata": {},
     "output_type": "execute_result"
    }
   ],
   "source": [
    "arr11.shape"
   ]
  },
  {
   "cell_type": "code",
   "execution_count": 21,
   "id": "9da881b7",
   "metadata": {},
   "outputs": [
    {
     "data": {
      "text/plain": [
       "array([[ 17,  84,  58,  22,  70,  78,  46,  76,  77,  14,  71,   7,  63,\n",
       "         72,   5,  87,  41,  70,  93,  90],\n",
       "       [ 29,  71,  78,  64,  19,  72,  17,  33,  11,  89,   7,  69,  52,\n",
       "         84,  85,  27,  45,   4,  35,  86],\n",
       "       [ 11,   6,   1,  19,  54,  76,  72,  55,  85,  41,  71,  79,  44,\n",
       "         41,  38,  12,  57,  60,  63,  42],\n",
       "       [ 80,  83,   4,  35,  76,  99,  75,  14,   6,  45,  41,  99,  60,\n",
       "         11,  61,  88,  35,  67,  20,  45],\n",
       "       [ 89,  95,  74,  70,  68,  48,  73,  98,  23,  47,  32,  59,  26,\n",
       "         68,  66,  15,  83,  68,  95,  42],\n",
       "       [ 61,  90,  26,  83,  96,  23,  75,  46,  92,  63,  86,  16,  60,\n",
       "         81,  97,  48,  28,  63,  29,  71],\n",
       "       [ 97,  23,  23,  48,  27,  78,   4,  12,   5,   1,  61,  68,  73,\n",
       "         28,  78,   9,  42,  49,  86,  83],\n",
       "       [ 62,  98,  63,  27,   8,  43,   6,  96,  63,  90,  98,  21,   7,\n",
       "         35,  50,  14,  25,  85,  69,  92],\n",
       "       [ 33,  11,  58,  79,   4,  91,  47,  35, 100,  52,  48,  47,  48,\n",
       "         61,  20,  43,  72,  69,  77,  91],\n",
       "       [ 40,  48,  73,  99,  91,  27,  80,  16,  27,  47,  97,  65,  13,\n",
       "         46,  50,  55,  30,  91,  21,  90]])"
      ]
     },
     "execution_count": 21,
     "metadata": {},
     "output_type": "execute_result"
    }
   ],
   "source": [
    "arr13 = arr12.copy()\n",
    "arr13"
   ]
  },
  {
   "cell_type": "code",
   "execution_count": 22,
   "id": "66923ce4",
   "metadata": {},
   "outputs": [
    {
     "data": {
      "text/plain": [
       "array([[12, 14, 16],\n",
       "       [18, 20, 22],\n",
       "       [24, 26, 28],\n",
       "       [30, 32, 34]])"
      ]
     },
     "execution_count": 22,
     "metadata": {},
     "output_type": "execute_result"
    }
   ],
   "source": [
    "arr14 = np.array ([ [12,14,16] , [18,20,22] , [24,26,28] , [30,32,34] ])\n",
    "arr14"
   ]
  },
  {
   "cell_type": "code",
   "execution_count": 23,
   "id": "9ac6ae9a",
   "metadata": {},
   "outputs": [
    {
     "data": {
      "text/plain": [
       "32"
      ]
     },
     "execution_count": 23,
     "metadata": {},
     "output_type": "execute_result"
    }
   ],
   "source": [
    "arr14[3][1]"
   ]
  },
  {
   "cell_type": "code",
   "execution_count": 24,
   "id": "ab6919f2",
   "metadata": {},
   "outputs": [
    {
     "data": {
      "text/plain": [
       "32"
      ]
     },
     "execution_count": 24,
     "metadata": {},
     "output_type": "execute_result"
    }
   ],
   "source": [
    "arr14[3,1]"
   ]
  },
  {
   "cell_type": "code",
   "execution_count": 25,
   "id": "49145a07",
   "metadata": {},
   "outputs": [
    {
     "data": {
      "text/plain": [
       "array([[False, False, False],\n",
       "       [False, False, False],\n",
       "       [ True,  True,  True],\n",
       "       [ True,  True,  True]])"
      ]
     },
     "execution_count": 25,
     "metadata": {},
     "output_type": "execute_result"
    }
   ],
   "source": [
    "arr15 = arr14 > 23\n",
    "arr15"
   ]
  },
  {
   "cell_type": "code",
   "execution_count": 26,
   "id": "72a41d29",
   "metadata": {},
   "outputs": [
    {
     "data": {
      "text/plain": [
       "array([24, 26, 28, 30, 32, 34])"
      ]
     },
     "execution_count": 26,
     "metadata": {},
     "output_type": "execute_result"
    }
   ],
   "source": [
    "arr14[arr15]"
   ]
  },
  {
   "cell_type": "code",
   "execution_count": 27,
   "id": "4ce854e5",
   "metadata": {},
   "outputs": [
    {
     "data": {
      "text/plain": [
       "array([24, 26, 28, 30, 32, 34])"
      ]
     },
     "execution_count": 27,
     "metadata": {},
     "output_type": "execute_result"
    }
   ],
   "source": [
    "arr14 [ arr14 > 23 ]"
   ]
  },
  {
   "cell_type": "code",
   "execution_count": 28,
   "id": "c20db891",
   "metadata": {},
   "outputs": [
    {
     "data": {
      "text/plain": [
       "array([[ 1,  2,  3,  4,  5,  6],\n",
       "       [ 7,  8,  9, 10, 11, 12],\n",
       "       [13, 14, 15, 16, 17, 18],\n",
       "       [19, 20, 21, 22, 23, 24],\n",
       "       [25, 26, 27, 28, 29, 30],\n",
       "       [31, 32, 33, 34, 35, 36],\n",
       "       [37, 38, 39, 40, 41, 42],\n",
       "       [43, 44, 45, 46, 47, 48]])"
      ]
     },
     "execution_count": 28,
     "metadata": {},
     "output_type": "execute_result"
    }
   ],
   "source": [
    "arr16 = np.arange(1,49).reshape(8,6)\n",
    "arr16"
   ]
  },
  {
   "cell_type": "code",
   "execution_count": 29,
   "id": "e7a99c64",
   "metadata": {},
   "outputs": [
    {
     "data": {
      "text/plain": [
       "array([[11, 12, 13, 14, 15, 16],\n",
       "       [17, 18, 19, 20, 21, 22],\n",
       "       [23, 24, 25, 26, 27, 28],\n",
       "       [29, 30, 31, 32, 33, 34],\n",
       "       [35, 36, 37, 38, 39, 40]])"
      ]
     },
     "execution_count": 29,
     "metadata": {},
     "output_type": "execute_result"
    }
   ],
   "source": [
    "arr17 = np.arange(11,41).reshape(5,6)\n",
    "arr17"
   ]
  },
  {
   "cell_type": "code",
   "execution_count": 30,
   "id": "3ae1d31e",
   "metadata": {},
   "outputs": [
    {
     "data": {
      "text/plain": [
       "array([[202, 204, 206, 208, 210, 212],\n",
       "       [214, 216, 218, 220, 222, 224],\n",
       "       [226, 228, 230, 232, 234, 236],\n",
       "       [238, 240, 242, 244, 246, 248],\n",
       "       [250, 252, 254, 256, 258, 260]])"
      ]
     },
     "execution_count": 30,
     "metadata": {},
     "output_type": "execute_result"
    }
   ],
   "source": [
    "arr18 = np.arange(202,262,2).reshape(5,6)\n",
    "arr18"
   ]
  },
  {
   "cell_type": "code",
   "execution_count": 31,
   "id": "1bd71424",
   "metadata": {},
   "outputs": [
    {
     "data": {
      "text/plain": [
       "array([[213, 216, 219, 222, 225, 228],\n",
       "       [231, 234, 237, 240, 243, 246],\n",
       "       [249, 252, 255, 258, 261, 264],\n",
       "       [267, 270, 273, 276, 279, 282],\n",
       "       [285, 288, 291, 294, 297, 300]])"
      ]
     },
     "execution_count": 31,
     "metadata": {},
     "output_type": "execute_result"
    }
   ],
   "source": [
    "arr17 + arr18"
   ]
  },
  {
   "cell_type": "code",
   "execution_count": 32,
   "id": "277b0a1d",
   "metadata": {},
   "outputs": [
    {
     "data": {
      "text/plain": [
       "array([[191, 192, 193, 194, 195, 196],\n",
       "       [197, 198, 199, 200, 201, 202],\n",
       "       [203, 204, 205, 206, 207, 208],\n",
       "       [209, 210, 211, 212, 213, 214],\n",
       "       [215, 216, 217, 218, 219, 220]])"
      ]
     },
     "execution_count": 32,
     "metadata": {},
     "output_type": "execute_result"
    }
   ],
   "source": [
    "arr18 - arr17"
   ]
  },
  {
   "cell_type": "code",
   "execution_count": 33,
   "id": "557beb98",
   "metadata": {},
   "outputs": [
    {
     "data": {
      "text/plain": [
       "array([[ 2222,  2448,  2678,  2912,  3150,  3392],\n",
       "       [ 3638,  3888,  4142,  4400,  4662,  4928],\n",
       "       [ 5198,  5472,  5750,  6032,  6318,  6608],\n",
       "       [ 6902,  7200,  7502,  7808,  8118,  8432],\n",
       "       [ 8750,  9072,  9398,  9728, 10062, 10400]])"
      ]
     },
     "execution_count": 33,
     "metadata": {},
     "output_type": "execute_result"
    }
   ],
   "source": [
    "arr17 * arr18"
   ]
  },
  {
   "cell_type": "code",
   "execution_count": 34,
   "id": "dc7eb28e",
   "metadata": {},
   "outputs": [
    {
     "data": {
      "text/plain": [
       "array([[ 44,  48,  52,  56,  60,  64],\n",
       "       [ 68,  72,  76,  80,  84,  88],\n",
       "       [ 92,  96, 100, 104, 108, 112],\n",
       "       [116, 120, 124, 128, 132, 136],\n",
       "       [140, 144, 148, 152, 156, 160]])"
      ]
     },
     "execution_count": 34,
     "metadata": {},
     "output_type": "execute_result"
    }
   ],
   "source": [
    "arr17 * 4"
   ]
  },
  {
   "cell_type": "code",
   "execution_count": 35,
   "id": "98136d83",
   "metadata": {},
   "outputs": [
    {
     "data": {
      "text/plain": [
       "array([[111, 112, 113, 114, 115, 116],\n",
       "       [117, 118, 119, 120, 121, 122],\n",
       "       [123, 124, 125, 126, 127, 128],\n",
       "       [129, 130, 131, 132, 133, 134],\n",
       "       [135, 136, 137, 138, 139, 140]])"
      ]
     },
     "execution_count": 35,
     "metadata": {},
     "output_type": "execute_result"
    }
   ],
   "source": [
    "arr17 + 100"
   ]
  },
  {
   "cell_type": "code",
   "execution_count": 36,
   "id": "48035a90",
   "metadata": {},
   "outputs": [
    {
     "data": {
      "text/plain": [
       "array([[ 121,  144,  169,  196,  225,  256],\n",
       "       [ 289,  324,  361,  400,  441,  484],\n",
       "       [ 529,  576,  625,  676,  729,  784],\n",
       "       [ 841,  900,  961, 1024, 1089, 1156],\n",
       "       [1225, 1296, 1369, 1444, 1521, 1600]])"
      ]
     },
     "execution_count": 36,
     "metadata": {},
     "output_type": "execute_result"
    }
   ],
   "source": [
    "arr17 ** 2"
   ]
  },
  {
   "cell_type": "code",
   "execution_count": 37,
   "id": "4b4acb94",
   "metadata": {},
   "outputs": [
    {
     "data": {
      "text/plain": [
       "array([[0.09090909, 0.08333333, 0.07692308, 0.07142857, 0.06666667,\n",
       "        0.0625    ],\n",
       "       [0.05882353, 0.05555556, 0.05263158, 0.05      , 0.04761905,\n",
       "        0.04545455],\n",
       "       [0.04347826, 0.04166667, 0.04      , 0.03846154, 0.03703704,\n",
       "        0.03571429],\n",
       "       [0.03448276, 0.03333333, 0.03225806, 0.03125   , 0.03030303,\n",
       "        0.02941176],\n",
       "       [0.02857143, 0.02777778, 0.02702703, 0.02631579, 0.02564103,\n",
       "        0.025     ]])"
      ]
     },
     "execution_count": 37,
     "metadata": {},
     "output_type": "execute_result"
    }
   ],
   "source": [
    "1 / arr17"
   ]
  },
  {
   "cell_type": "code",
   "execution_count": 38,
   "id": "828f796d",
   "metadata": {},
   "outputs": [
    {
     "data": {
      "text/plain": [
       "array([[18.36363636, 17.        , 15.84615385, 14.85714286, 14.        ,\n",
       "        13.25      ],\n",
       "       [12.58823529, 12.        , 11.47368421, 11.        , 10.57142857,\n",
       "        10.18181818],\n",
       "       [ 9.82608696,  9.5       ,  9.2       ,  8.92307692,  8.66666667,\n",
       "         8.42857143],\n",
       "       [ 8.20689655,  8.        ,  7.80645161,  7.625     ,  7.45454545,\n",
       "         7.29411765],\n",
       "       [ 7.14285714,  7.        ,  6.86486486,  6.73684211,  6.61538462,\n",
       "         6.5       ]])"
      ]
     },
     "execution_count": 38,
     "metadata": {},
     "output_type": "execute_result"
    }
   ],
   "source": [
    "arr18 / arr17"
   ]
  },
  {
   "cell_type": "code",
   "execution_count": 39,
   "id": "6bb67dc9",
   "metadata": {},
   "outputs": [
    {
     "data": {
      "text/plain": [
       "array([[14.2126704 , 14.28285686, 14.35270009, 14.4222051 , 14.49137675,\n",
       "        14.56021978],\n",
       "       [14.62873884, 14.69693846, 14.76482306, 14.83239697, 14.89966443,\n",
       "        14.96662955],\n",
       "       [15.03329638, 15.09966887, 15.16575089, 15.23154621, 15.29705854,\n",
       "        15.3622915 ],\n",
       "       [15.42724862, 15.49193338, 15.55634919, 15.62049935, 15.68438714,\n",
       "        15.74801575],\n",
       "       [15.8113883 , 15.87450787, 15.93737745, 16.        , 16.0623784 ,\n",
       "        16.1245155 ]])"
      ]
     },
     "execution_count": 39,
     "metadata": {},
     "output_type": "execute_result"
    }
   ],
   "source": [
    "np.sqrt(arr18)"
   ]
  },
  {
   "cell_type": "code",
   "execution_count": 40,
   "id": "5b910d56",
   "metadata": {},
   "outputs": [
    {
     "data": {
      "text/plain": [
       "array([[5.98741417e+04, 1.62754791e+05, 4.42413392e+05, 1.20260428e+06,\n",
       "        3.26901737e+06, 8.88611052e+06],\n",
       "       [2.41549528e+07, 6.56599691e+07, 1.78482301e+08, 4.85165195e+08,\n",
       "        1.31881573e+09, 3.58491285e+09],\n",
       "       [9.74480345e+09, 2.64891221e+10, 7.20048993e+10, 1.95729609e+11,\n",
       "        5.32048241e+11, 1.44625706e+12],\n",
       "       [3.93133430e+12, 1.06864746e+13, 2.90488497e+13, 7.89629602e+13,\n",
       "        2.14643580e+14, 5.83461743e+14],\n",
       "       [1.58601345e+15, 4.31123155e+15, 1.17191424e+16, 3.18559318e+16,\n",
       "        8.65934004e+16, 2.35385267e+17]])"
      ]
     },
     "execution_count": 40,
     "metadata": {},
     "output_type": "execute_result"
    }
   ],
   "source": [
    "np.exp(arr17)"
   ]
  },
  {
   "cell_type": "code",
   "execution_count": 41,
   "id": "7ffb971a",
   "metadata": {},
   "outputs": [
    {
     "data": {
      "text/plain": [
       "260"
      ]
     },
     "execution_count": 41,
     "metadata": {},
     "output_type": "execute_result"
    }
   ],
   "source": [
    "np.max(arr18)"
   ]
  },
  {
   "cell_type": "code",
   "execution_count": 42,
   "id": "58d12c7a",
   "metadata": {},
   "outputs": [
    {
     "data": {
      "text/plain": [
       "202"
      ]
     },
     "execution_count": 42,
     "metadata": {},
     "output_type": "execute_result"
    }
   ],
   "source": [
    "np.min(arr18)"
   ]
  },
  {
   "cell_type": "code",
   "execution_count": 43,
   "id": "9d9280df",
   "metadata": {},
   "outputs": [
    {
     "data": {
      "text/plain": [
       "array([[ 0.80641841,  0.20212036, -0.9746419 ,  0.60906793,  0.46771852,\n",
       "        -0.99834709],\n",
       "       [ 0.36319945,  0.69605849, -0.94252453,  0.08839871,  0.86895084,\n",
       "        -0.811621  ],\n",
       "       [-0.19344382,  0.97262306, -0.6160642 , -0.45987672,  0.99881669,\n",
       "        -0.37143209],\n",
       "       [-0.68967611,  0.94544515, -0.09721191, -0.8645363 ,  0.81676   ,\n",
       "         0.18475212],\n",
       "       [-0.97052802,  0.62301221,  0.4519989 , -0.99920803,  0.37963563,\n",
       "         0.6832397 ]])"
      ]
     },
     "execution_count": 43,
     "metadata": {},
     "output_type": "execute_result"
    }
   ],
   "source": [
    "np.sin(arr18)"
   ]
  },
  {
   "cell_type": "code",
   "execution_count": 44,
   "id": "049a5449",
   "metadata": {},
   "outputs": [
    {
     "data": {
      "text/plain": [
       "array([[ 0.59134538, -0.97936069,  0.22377033,  0.79311806, -0.88387747,\n",
       "        -0.05747243],\n",
       "       [ 0.93171141, -0.71798508, -0.33413697,  0.99608517, -0.49489841,\n",
       "        -0.58418435],\n",
       "       [ 0.98111135, -0.23238842, -0.78769594,  0.88798277,  0.0486335 ,\n",
       "        -0.92846012],\n",
       "       [ 0.72411799,  0.32578131, -0.99526371,  0.50257038,  0.57697756,\n",
       "        -0.98278515],\n",
       "       [ 0.24098831,  0.78221211, -0.8920185 , -0.03979076,  0.92513609,\n",
       "        -0.73019416]])"
      ]
     },
     "execution_count": 44,
     "metadata": {},
     "output_type": "execute_result"
    }
   ],
   "source": [
    "np.cos(arr18)"
   ]
  },
  {
   "cell_type": "code",
   "execution_count": 45,
   "id": "bac2a137",
   "metadata": {},
   "outputs": [
    {
     "data": {
      "text/plain": [
       "array([[ 1.36370121, -0.2063799 , -4.35554572,  0.76794107, -0.52916669,\n",
       "        17.37088686],\n",
       "       [ 0.38981969, -0.96946093,  2.82077294,  0.08874614, -1.75581657,\n",
       "         1.38932341],\n",
       "       [-0.19716805, -4.18533358,  0.78210915, -0.51788924, 20.53762695,\n",
       "         0.40005174],\n",
       "       [-0.9524361 ,  2.90208535,  0.09767452, -1.72022931,  1.41558365,\n",
       "        -0.18798831],\n",
       "       [-4.02728265,  0.79647477, -0.50671472, 25.11155946,  0.41035652,\n",
       "        -0.93569593]])"
      ]
     },
     "execution_count": 45,
     "metadata": {},
     "output_type": "execute_result"
    }
   ],
   "source": [
    "np.tan(arr18)"
   ]
  },
  {
   "cell_type": "code",
   "execution_count": 46,
   "id": "7b159c25",
   "metadata": {},
   "outputs": [
    {
     "data": {
      "text/plain": [
       "array([[5.3082677 , 5.31811999, 5.32787617, 5.33753808, 5.34710753,\n",
       "        5.35658627],\n",
       "       [5.36597602, 5.37527841, 5.38449506, 5.39362755, 5.40267738,\n",
       "        5.41164605],\n",
       "       [5.420535  , 5.42934563, 5.43807931, 5.44673737, 5.45532112,\n",
       "        5.46383181],\n",
       "       [5.47227067, 5.48063892, 5.48893773, 5.49716823, 5.50533154,\n",
       "        5.51342875],\n",
       "       [5.52146092, 5.52942909, 5.53733427, 5.54517744, 5.55295958,\n",
       "        5.56068163]])"
      ]
     },
     "execution_count": 46,
     "metadata": {},
     "output_type": "execute_result"
    }
   ],
   "source": [
    "np.log(arr18)"
   ]
  },
  {
   "cell_type": "code",
   "execution_count": 47,
   "id": "4bdce77f",
   "metadata": {},
   "outputs": [
    {
     "data": {
      "text/plain": [
       "array([[2.30535137, 2.30963017, 2.31386722, 2.31806333, 2.32221929,\n",
       "        2.32633586],\n",
       "       [2.33041377, 2.33445375, 2.33845649, 2.34242268, 2.34635297,\n",
       "        2.35024802],\n",
       "       [2.35410844, 2.35793485, 2.36172784, 2.36548798, 2.36921586,\n",
       "        2.372912  ],\n",
       "       [2.37657696, 2.38021124, 2.38381537, 2.38738983, 2.39093511,\n",
       "        2.39445168],\n",
       "       [2.39794001, 2.40140054, 2.40483372, 2.40823997, 2.41161971,\n",
       "        2.41497335]])"
      ]
     },
     "execution_count": 47,
     "metadata": {},
     "output_type": "execute_result"
    }
   ],
   "source": [
    "np.log10(arr18)"
   ]
  },
  {
   "cell_type": "code",
   "execution_count": 48,
   "id": "36ce8d08",
   "metadata": {},
   "outputs": [
    {
     "data": {
      "text/plain": [
       "array([[7.65821148, 7.67242534, 7.68650053, 7.70043972, 7.71424552,\n",
       "        7.72792045],\n",
       "       [7.74146699, 7.7548875 , 7.76818432, 7.78135971, 7.79441587,\n",
       "        7.80735492],\n",
       "       [7.82017896, 7.83289001, 7.84549005, 7.857981  , 7.87036472,\n",
       "        7.88264305],\n",
       "       [7.89481776, 7.9068906 , 7.91886324, 7.93073734, 7.94251451,\n",
       "        7.95419631],\n",
       "       [7.96578428, 7.97727992, 7.98868469, 8.        , 8.01122726,\n",
       "        8.02236781]])"
      ]
     },
     "execution_count": 48,
     "metadata": {},
     "output_type": "execute_result"
    }
   ],
   "source": [
    "np.log2(arr18)"
   ]
  },
  {
   "cell_type": "code",
   "execution_count": 49,
   "id": "77a5afb7",
   "metadata": {},
   "outputs": [
    {
     "data": {
      "text/plain": [
       "array([6., 6., 6., 6., 6., 6., 6., 6., 6., 6.])"
      ]
     },
     "execution_count": 49,
     "metadata": {},
     "output_type": "execute_result"
    }
   ],
   "source": [
    "arr19 = np.ones(10) * 6\n",
    "arr19"
   ]
  },
  {
   "cell_type": "code",
   "execution_count": 50,
   "id": "2de20ce5",
   "metadata": {},
   "outputs": [
    {
     "data": {
      "text/plain": [
       "array([8., 8., 8., 8., 8., 8., 8., 8., 8., 8.])"
      ]
     },
     "execution_count": 50,
     "metadata": {},
     "output_type": "execute_result"
    }
   ],
   "source": [
    "arr20 = np.zeros(10) + 8\n",
    "arr20"
   ]
  },
  {
   "cell_type": "code",
   "execution_count": 51,
   "id": "854c0b13",
   "metadata": {},
   "outputs": [
    {
     "data": {
      "text/plain": [
       "array([[ 1,  2,  3,  4,  5],\n",
       "       [ 6,  7,  8,  9, 10],\n",
       "       [11, 12, 13, 14, 15],\n",
       "       [16, 17, 18, 19, 20],\n",
       "       [21, 22, 23, 24, 25]])"
      ]
     },
     "execution_count": 51,
     "metadata": {},
     "output_type": "execute_result"
    }
   ],
   "source": [
    "arr21 = np.arange(1,26).reshape(5,5)\n",
    "arr21"
   ]
  },
  {
   "cell_type": "code",
   "execution_count": 52,
   "id": "835f3b16",
   "metadata": {},
   "outputs": [
    {
     "data": {
      "text/plain": [
       "array([[ 1,  2,  3,  4,  5],\n",
       "       [ 6,  7,  8,  9, 10],\n",
       "       [11, 12, 13, 14, 15]])"
      ]
     },
     "execution_count": 52,
     "metadata": {},
     "output_type": "execute_result"
    }
   ],
   "source": [
    "arr21[0:3]"
   ]
  },
  {
   "cell_type": "code",
   "execution_count": 53,
   "id": "9ca5bf56",
   "metadata": {},
   "outputs": [
    {
     "data": {
      "text/plain": [
       "array([ 2,  7, 12])"
      ]
     },
     "execution_count": 53,
     "metadata": {},
     "output_type": "execute_result"
    }
   ],
   "source": [
    "arr21 [ 0:3 , 1 ]"
   ]
  },
  {
   "cell_type": "code",
   "execution_count": 54,
   "id": "1328c17d",
   "metadata": {},
   "outputs": [
    {
     "data": {
      "text/plain": [
       "array([[ 2],\n",
       "       [ 7],\n",
       "       [12]])"
      ]
     },
     "execution_count": 54,
     "metadata": {},
     "output_type": "execute_result"
    }
   ],
   "source": [
    "arr21 [ 0:3 , 1:2 ]"
   ]
  },
  {
   "cell_type": "code",
   "execution_count": 55,
   "id": "13c15cfb",
   "metadata": {},
   "outputs": [
    {
     "data": {
      "text/plain": [
       "325"
      ]
     },
     "execution_count": 55,
     "metadata": {},
     "output_type": "execute_result"
    }
   ],
   "source": [
    "np.sum(arr21)"
   ]
  },
  {
   "cell_type": "code",
   "execution_count": 56,
   "id": "bd609285",
   "metadata": {},
   "outputs": [
    {
     "data": {
      "text/plain": [
       "7.211102550927978"
      ]
     },
     "execution_count": 56,
     "metadata": {},
     "output_type": "execute_result"
    }
   ],
   "source": [
    "np.std(arr21)"
   ]
  },
  {
   "cell_type": "code",
   "execution_count": 57,
   "id": "d5218891",
   "metadata": {},
   "outputs": [
    {
     "data": {
      "text/plain": [
       "array([55, 60, 65, 70, 75])"
      ]
     },
     "execution_count": 57,
     "metadata": {},
     "output_type": "execute_result"
    }
   ],
   "source": [
    "np.sum ( arr21 , axis=0 )"
   ]
  },
  {
   "cell_type": "code",
   "execution_count": 58,
   "id": "c5293b93",
   "metadata": {},
   "outputs": [
    {
     "data": {
      "text/plain": [
       "array([[3., 1., 1., 1.],\n",
       "       [1., 3., 1., 1.],\n",
       "       [1., 1., 3., 1.],\n",
       "       [1., 1., 1., 3.]])"
      ]
     },
     "execution_count": 58,
     "metadata": {},
     "output_type": "execute_result"
    }
   ],
   "source": [
    "arr22 = np.zeros(4) + np.ones(4) + np.eye(4) + np.identity(4)\n",
    "arr22"
   ]
  },
  {
   "cell_type": "code",
   "execution_count": null,
   "id": "4df6574a",
   "metadata": {},
   "outputs": [],
   "source": []
  }
 ],
 "metadata": {
  "kernelspec": {
   "display_name": "Python 3 (ipykernel)",
   "language": "python",
   "name": "python3"
  },
  "language_info": {
   "codemirror_mode": {
    "name": "ipython",
    "version": 3
   },
   "file_extension": ".py",
   "mimetype": "text/x-python",
   "name": "python",
   "nbconvert_exporter": "python",
   "pygments_lexer": "ipython3",
   "version": "3.10.9"
  }
 },
 "nbformat": 4,
 "nbformat_minor": 5
}
