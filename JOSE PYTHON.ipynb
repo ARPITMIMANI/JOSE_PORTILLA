{
 "cells": [
  {
   "cell_type": "code",
   "execution_count": 1,
   "id": "c9faabe6",
   "metadata": {},
   "outputs": [
    {
     "data": {
      "text/plain": [
       "' MY FIRST NAME IS TOM . MY LAST NAME IS CRUISE . MY AGE IS 48 . MY WEIGHT IS 76.16 '"
      ]
     },
     "execution_count": 1,
     "metadata": {},
     "output_type": "execute_result"
    }
   ],
   "source": [
    "\" MY FIRST NAME IS {} . MY LAST NAME IS {} . MY AGE IS {} . MY WEIGHT IS {} \" .format ( \"TOM\" , \"CRUISE\" , 48 , 76.16 )"
   ]
  },
  {
   "cell_type": "code",
   "execution_count": 2,
   "id": "f7ed33ea",
   "metadata": {},
   "outputs": [
    {
     "data": {
      "text/plain": [
       "' \\nMY FIRST NAME IS TOM . \\nMY LAST NAME IS CRUISE . \\nMY AGE IS 48 . \\nMY WEIGHT IS 76.16 .\\n'"
      ]
     },
     "execution_count": 2,
     "metadata": {},
     "output_type": "execute_result"
    }
   ],
   "source": [
    "\"\"\" \n",
    "MY FIRST NAME IS {first} . \n",
    "MY LAST NAME IS {last} . \n",
    "MY AGE IS {age} . \n",
    "MY WEIGHT IS {weight} .\n",
    "\"\"\" .format (  age=48 , weight=76.16 , first=\"TOM\" , last=\"CRUISE\" )"
   ]
  },
  {
   "cell_type": "code",
   "execution_count": 3,
   "id": "0edb9493",
   "metadata": {},
   "outputs": [
    {
     "name": "stdout",
     "output_type": "stream",
     "text": [
      "[121, 144, 169, 196, 225, 256, 289, 324]\n"
     ]
    }
   ],
   "source": [
    "\"FOR LOOP\"\n",
    "val01 = [11,12,13,14,15,16,17,18]\n",
    "val02 = []\n",
    "for num in val01:\n",
    "    val02.append (num**2)\n",
    "\n",
    "print(val02) "
   ]
  },
  {
   "cell_type": "code",
   "execution_count": 4,
   "id": "f3158d7b",
   "metadata": {},
   "outputs": [
    {
     "name": "stdout",
     "output_type": "stream",
     "text": [
      "THE VALUE IS 21 \n",
      "THE VALUE IS 22 \n",
      "THE VALUE IS 23 \n",
      "THE VALUE IS 24 \n",
      "THE VALUE IS 25 \n",
      "THE VALUE IS 26 \n",
      "THE VALUE IS 27 \n",
      "THE VALUE IS 28 \n",
      "THE VALUE IS 29 \n",
      "THE VALUE IS 30 \n"
     ]
    }
   ],
   "source": [
    "\"WHILE LOOP\"\n",
    "val03 = 21 \n",
    "while val03 <= 30 :\n",
    "    print ( \"THE VALUE IS {} \" .format (val03) )\n",
    "    val03 = val03 + 1"
   ]
  },
  {
   "cell_type": "code",
   "execution_count": 5,
   "id": "ec556817",
   "metadata": {},
   "outputs": [
    {
     "data": {
      "text/plain": [
       "[1, 2, 3, 4, 5, 6, 7, 8, 9, 10]"
      ]
     },
     "execution_count": 5,
     "metadata": {},
     "output_type": "execute_result"
    }
   ],
   "source": [
    "list(range(1,11))"
   ]
  },
  {
   "cell_type": "code",
   "execution_count": 6,
   "id": "d22b4695",
   "metadata": {},
   "outputs": [
    {
     "data": {
      "text/plain": [
       "[6, 12, 18, 24, 30, 36, 42, 48, 54, 60, 66, 72, 78, 84, 90, 96]"
      ]
     },
     "execution_count": 6,
     "metadata": {},
     "output_type": "execute_result"
    }
   ],
   "source": [
    "list(range(6,101,6))"
   ]
  },
  {
   "cell_type": "code",
   "execution_count": 7,
   "id": "f775be63",
   "metadata": {},
   "outputs": [
    {
     "data": {
      "text/plain": [
       "256"
      ]
     },
     "execution_count": 7,
     "metadata": {},
     "output_type": "execute_result"
    }
   ],
   "source": [
    "def val04 (num) :\n",
    "    square =  num * num\n",
    "    return square\n",
    "\n",
    "val04(16)"
   ]
  },
  {
   "cell_type": "code",
   "execution_count": 8,
   "id": "63d8044e",
   "metadata": {},
   "outputs": [
    {
     "data": {
      "text/plain": [
       "<function __main__.my_name(full_name='ALAN WALKER')>"
      ]
     },
     "execution_count": 8,
     "metadata": {},
     "output_type": "execute_result"
    }
   ],
   "source": [
    "def my_name ( full_name = \"ALAN WALKER\" ) :\n",
    "    print ( \"MY NAME IS\" , full_name )\n",
    "    \n",
    "my_name"
   ]
  },
  {
   "cell_type": "code",
   "execution_count": 9,
   "id": "8cd004fe",
   "metadata": {},
   "outputs": [
    {
     "name": "stdout",
     "output_type": "stream",
     "text": [
      "MY NAME IS ALAN WALKER\n"
     ]
    }
   ],
   "source": [
    "my_name()"
   ]
  },
  {
   "cell_type": "code",
   "execution_count": 10,
   "id": "e4ba348d",
   "metadata": {},
   "outputs": [
    {
     "name": "stdout",
     "output_type": "stream",
     "text": [
      "MY NAME IS JUSTIN BIEBER\n"
     ]
    }
   ],
   "source": [
    "my_name(\"JUSTIN BIEBER\")"
   ]
  },
  {
   "cell_type": "code",
   "execution_count": 11,
   "id": "096907b9",
   "metadata": {},
   "outputs": [
    {
     "data": {
      "text/plain": [
       "<map at 0x1c3a36a01c0>"
      ]
     },
     "execution_count": 11,
     "metadata": {},
     "output_type": "execute_result"
    }
   ],
   "source": [
    "my_list = [11,12,13,14,15,16,17,18,19,20]\n",
    "def my_func (num) :\n",
    "    square =  num * num\n",
    "    return square\n",
    "\n",
    "map ( my_list , my_list )"
   ]
  },
  {
   "cell_type": "code",
   "execution_count": 12,
   "id": "e556f51e",
   "metadata": {},
   "outputs": [
    {
     "data": {
      "text/plain": [
       "[121, 144, 169, 196, 225, 256, 289, 324, 361, 400]"
      ]
     },
     "execution_count": 12,
     "metadata": {},
     "output_type": "execute_result"
    }
   ],
   "source": [
    "list ( map ( my_func , my_list ) )"
   ]
  },
  {
   "cell_type": "code",
   "execution_count": 13,
   "id": "72e1285e",
   "metadata": {},
   "outputs": [
    {
     "data": {
      "text/plain": [
       "(121, 144, 169, 196, 225, 256, 289, 324, 361, 400)"
      ]
     },
     "execution_count": 13,
     "metadata": {},
     "output_type": "execute_result"
    }
   ],
   "source": [
    "tuple ( map ( my_func , my_list ) )"
   ]
  },
  {
   "cell_type": "code",
   "execution_count": 14,
   "id": "a4c1a53b",
   "metadata": {},
   "outputs": [
    {
     "data": {
      "text/plain": [
       "{121, 144, 169, 196, 225, 256, 289, 324, 361, 400}"
      ]
     },
     "execution_count": 14,
     "metadata": {},
     "output_type": "execute_result"
    }
   ],
   "source": [
    "set ( map ( my_func , my_list ) )"
   ]
  },
  {
   "cell_type": "code",
   "execution_count": 15,
   "id": "fa4e3889",
   "metadata": {},
   "outputs": [
    {
     "data": {
      "text/plain": [
       "<function __main__.<lambda>(num)>"
      ]
     },
     "execution_count": 15,
     "metadata": {},
     "output_type": "execute_result"
    }
   ],
   "source": [
    "my_lambda_01 = lambda num : num**3\n",
    "my_lambda_01"
   ]
  },
  {
   "cell_type": "code",
   "execution_count": 16,
   "id": "d366ef1a",
   "metadata": {},
   "outputs": [
    {
     "data": {
      "text/plain": [
       "1728"
      ]
     },
     "execution_count": 16,
     "metadata": {},
     "output_type": "execute_result"
    }
   ],
   "source": [
    "my_lambda_01(12)"
   ]
  },
  {
   "cell_type": "code",
   "execution_count": 17,
   "id": "45623bbd",
   "metadata": {},
   "outputs": [
    {
     "data": {
      "text/plain": [
       "[1331, 1728, 2197, 2744, 3375, 4096, 4913, 5832, 6859, 8000]"
      ]
     },
     "execution_count": 17,
     "metadata": {},
     "output_type": "execute_result"
    }
   ],
   "source": [
    "my_list = [11,12,13,14,15,16,17,18,19,20]\n",
    "list ( map ( my_lambda_01 , my_list ) )"
   ]
  },
  {
   "cell_type": "code",
   "execution_count": 18,
   "id": "82fc8692",
   "metadata": {},
   "outputs": [
    {
     "data": {
      "text/plain": [
       "<function __main__.<lambda>(num)>"
      ]
     },
     "execution_count": 18,
     "metadata": {},
     "output_type": "execute_result"
    }
   ],
   "source": [
    "my_lambda_02 = lambda num : num % 2 == 0 \n",
    "my_lambda_02"
   ]
  },
  {
   "cell_type": "code",
   "execution_count": 19,
   "id": "847fcba4",
   "metadata": {},
   "outputs": [
    {
     "data": {
      "text/plain": [
       "<filter at 0x1c3a36a0d30>"
      ]
     },
     "execution_count": 19,
     "metadata": {},
     "output_type": "execute_result"
    }
   ],
   "source": [
    "filter ( my_lambda_02 , my_list )"
   ]
  },
  {
   "cell_type": "code",
   "execution_count": 20,
   "id": "b3fe84db",
   "metadata": {},
   "outputs": [
    {
     "data": {
      "text/plain": [
       "[12, 14, 16, 18, 20]"
      ]
     },
     "execution_count": 20,
     "metadata": {},
     "output_type": "execute_result"
    }
   ],
   "source": [
    "list ( filter ( my_lambda_02 , my_list ) )"
   ]
  },
  {
   "cell_type": "code",
   "execution_count": 21,
   "id": "4dce3f9b",
   "metadata": {},
   "outputs": [
    {
     "data": {
      "text/plain": [
       "['my',\n",
       " 'full',\n",
       " 'name',\n",
       " 'is',\n",
       " 'TOM',\n",
       " 'CRUISE',\n",
       " '#',\n",
       " 'my',\n",
       " 'age',\n",
       " 'is',\n",
       " 'FORTY',\n",
       " 'FOUR',\n",
       " '#',\n",
       " 'my',\n",
       " 'country',\n",
       " 'name',\n",
       " 'is',\n",
       " 'UNITED',\n",
       " 'STATES',\n",
       " '#',\n",
       " 'my',\n",
       " 'city',\n",
       " 'name',\n",
       " 'is',\n",
       " 'DALLAS']"
      ]
     },
     "execution_count": 21,
     "metadata": {},
     "output_type": "execute_result"
    }
   ],
   "source": [
    "val05 = \"my full name is TOM CRUISE # my age is FORTY FOUR # my country name is UNITED STATES # my city name is DALLAS\"\n",
    "val05.split()"
   ]
  },
  {
   "cell_type": "code",
   "execution_count": 22,
   "id": "08f4c8d2",
   "metadata": {},
   "outputs": [
    {
     "data": {
      "text/plain": [
       "['my full name is TOM CRUISE ',\n",
       " ' my age is FORTY FOUR ',\n",
       " ' my country name is UNITED STATES ',\n",
       " ' my city name is DALLAS']"
      ]
     },
     "execution_count": 22,
     "metadata": {},
     "output_type": "execute_result"
    }
   ],
   "source": [
    "val05 = \"my full name is TOM CRUISE # my age is FORTY FOUR # my country name is UNITED STATES # my city name is DALLAS\"\n",
    "val05.split(\"#\")"
   ]
  },
  {
   "cell_type": "code",
   "execution_count": 23,
   "id": "08e3f0d2",
   "metadata": {},
   "outputs": [
    {
     "data": {
      "text/plain": [
       "' my city name is DALLAS'"
      ]
     },
     "execution_count": 23,
     "metadata": {},
     "output_type": "execute_result"
    }
   ],
   "source": [
    "val05 = \"my full name is TOM CRUISE # my age is FORTY FOUR # my country name is UNITED STATES # my city name is DALLAS\"\n",
    "val05.split(\"#\")[3]"
   ]
  },
  {
   "cell_type": "code",
   "execution_count": 24,
   "id": "0e01039a",
   "metadata": {},
   "outputs": [
    {
     "data": {
      "text/plain": [
       "36"
      ]
     },
     "execution_count": 24,
     "metadata": {},
     "output_type": "execute_result"
    }
   ],
   "source": [
    "list_tuple = [ (12,14,16) , ( 18,20,22) , (24,26,28) , (30,32,34) , (36,38,40) ]\n",
    "list_tuple[4][0]"
   ]
  },
  {
   "cell_type": "code",
   "execution_count": 25,
   "id": "de6d29a3",
   "metadata": {},
   "outputs": [
    {
     "name": "stdout",
     "output_type": "stream",
     "text": [
      "(12, 14, 16)\n",
      "(18, 20, 22)\n",
      "(24, 26, 28)\n",
      "(30, 32, 34)\n",
      "(36, 38, 40)\n"
     ]
    }
   ],
   "source": [
    "for num in list_tuple :\n",
    "    print(num)"
   ]
  },
  {
   "cell_type": "code",
   "execution_count": 26,
   "id": "77d052a7",
   "metadata": {},
   "outputs": [
    {
     "name": "stdout",
     "output_type": "stream",
     "text": [
      "12 14 16\n",
      "18 20 22\n",
      "24 26 28\n",
      "30 32 34\n",
      "36 38 40\n"
     ]
    }
   ],
   "source": [
    "for a , b , c in list_tuple :\n",
    "    print ( a , b , c )"
   ]
  },
  {
   "cell_type": "code",
   "execution_count": 27,
   "id": "66118425",
   "metadata": {},
   "outputs": [
    {
     "data": {
      "text/plain": [
       "'gmail.com'"
      ]
     },
     "execution_count": 27,
     "metadata": {},
     "output_type": "execute_result"
    }
   ],
   "source": [
    "def get_domain (email) :\n",
    "    return email.split(\"@\")[1]\n",
    "\n",
    "get_domain (\"user@gmail.com\")"
   ]
  },
  {
   "cell_type": "code",
   "execution_count": 28,
   "id": "9f80d229",
   "metadata": {},
   "outputs": [
    {
     "data": {
      "text/plain": [
       "True"
      ]
     },
     "execution_count": 28,
     "metadata": {},
     "output_type": "execute_result"
    }
   ],
   "source": [
    "def find_dog (sentence) :\n",
    "    return \"dog\" in sentence.lower().split()\n",
    "\n",
    "find_dog ( \"DOG RUNS FASTER THAN HUMANS\" )"
   ]
  },
  {
   "cell_type": "code",
   "execution_count": 29,
   "id": "af1ac3da",
   "metadata": {},
   "outputs": [
    {
     "data": {
      "text/plain": [
       "False"
      ]
     },
     "execution_count": 29,
     "metadata": {},
     "output_type": "execute_result"
    }
   ],
   "source": [
    "def find_dog (sentence) :\n",
    "    return \"dog\" in sentence.lower().split()\n",
    "\n",
    "find_dog ( \"FOX RUNS FASTER THAN HUMANS\" )"
   ]
  },
  {
   "cell_type": "code",
   "execution_count": 30,
   "id": "4649982c",
   "metadata": {},
   "outputs": [
    {
     "data": {
      "text/plain": [
       "4"
      ]
     },
     "execution_count": 30,
     "metadata": {},
     "output_type": "execute_result"
    }
   ],
   "source": [
    "def count_dog (phrase) :\n",
    "    count = 0\n",
    "    for word in phrase.lower().split() :\n",
    "        if word == \"dog\" :\n",
    "            count = count + 1\n",
    "    return count\n",
    "\n",
    "count_dog ( \"MY DOG NAME IS TOM MY DOG LIKES TO PLAY WITH BALL MY DOG IS 12 YEARS OLD MY DOG LIKES TO EAT BREAD\" )"
   ]
  },
  {
   "cell_type": "code",
   "execution_count": 31,
   "id": "5a207c03",
   "metadata": {},
   "outputs": [
    {
     "data": {
      "text/plain": [
       "['FEW', 'FAB', 'FAN', 'FAX']"
      ]
     },
     "execution_count": 31,
     "metadata": {},
     "output_type": "execute_result"
    }
   ],
   "source": [
    "val06 = [ \"FEW\" , \"FAB\" , \"HAD\" , \"HIS\" ,  \"FAN\" , \"FAX\" , \"HER\" , \"HEX\" ]\n",
    "my_lambda_03 = lambda word : word[0] == \"F\" \n",
    "list ( filter ( my_lambda_03 , val06 ) )"
   ]
  },
  {
   "cell_type": "code",
   "execution_count": 32,
   "id": "4d2ce665",
   "metadata": {},
   "outputs": [
    {
     "data": {
      "text/plain": [
       "<function __main__.caught_speeding(speed, is_birthday)>"
      ]
     },
     "execution_count": 32,
     "metadata": {},
     "output_type": "execute_result"
    }
   ],
   "source": [
    "def caught_speeding ( speed , is_birthday ) :\n",
    "    \n",
    "    if is_birthday :\n",
    "        speed = speed - 10\n",
    "    else :\n",
    "        speed\n",
    "        \n",
    "    if speed > 80 :\n",
    "        return \"BIG TICKET\"\n",
    "    elif speed > 60 :\n",
    "        return \"MEDIUM TICKET\" \n",
    "    else :\n",
    "        return \"SMALL TICKET\"\n",
    "    \n",
    "caught_speeding    "
   ]
  },
  {
   "cell_type": "code",
   "execution_count": 33,
   "id": "c9c4e508",
   "metadata": {},
   "outputs": [
    {
     "data": {
      "text/plain": [
       "'MEDIUM TICKET'"
      ]
     },
     "execution_count": 33,
     "metadata": {},
     "output_type": "execute_result"
    }
   ],
   "source": [
    "caught_speeding ( 88 , True )"
   ]
  },
  {
   "cell_type": "code",
   "execution_count": 34,
   "id": "ace7c610",
   "metadata": {},
   "outputs": [
    {
     "data": {
      "text/plain": [
       "'BIG TICKET'"
      ]
     },
     "execution_count": 34,
     "metadata": {},
     "output_type": "execute_result"
    }
   ],
   "source": [
    "caught_speeding ( 88 , False )"
   ]
  },
  {
   "cell_type": "code",
   "execution_count": 35,
   "id": "e6e66110",
   "metadata": {},
   "outputs": [
    {
     "data": {
      "text/plain": [
       "'SMALL TICKET'"
      ]
     },
     "execution_count": 35,
     "metadata": {},
     "output_type": "execute_result"
    }
   ],
   "source": [
    "caught_speeding ( 64 , True )"
   ]
  },
  {
   "cell_type": "code",
   "execution_count": 36,
   "id": "f73b9e69",
   "metadata": {},
   "outputs": [
    {
     "data": {
      "text/plain": [
       "'MEDIUM TICKET'"
      ]
     },
     "execution_count": 36,
     "metadata": {},
     "output_type": "execute_result"
    }
   ],
   "source": [
    "caught_speeding ( 64 , False )"
   ]
  },
  {
   "cell_type": "code",
   "execution_count": null,
   "id": "9e3f51fa",
   "metadata": {},
   "outputs": [],
   "source": []
  }
 ],
 "metadata": {
  "kernelspec": {
   "display_name": "Python 3 (ipykernel)",
   "language": "python",
   "name": "python3"
  },
  "language_info": {
   "codemirror_mode": {
    "name": "ipython",
    "version": 3
   },
   "file_extension": ".py",
   "mimetype": "text/x-python",
   "name": "python",
   "nbconvert_exporter": "python",
   "pygments_lexer": "ipython3",
   "version": "3.10.9"
  }
 },
 "nbformat": 4,
 "nbformat_minor": 5
}
