{
 "cells": [
  {
   "cell_type": "code",
   "execution_count": 1,
   "id": "38222a2e",
   "metadata": {},
   "outputs": [
    {
     "data": {
      "text/html": [
       "        <script type=\"text/javascript\">\n",
       "        window.PlotlyConfig = {MathJaxConfig: 'local'};\n",
       "        if (window.MathJax && window.MathJax.Hub && window.MathJax.Hub.Config) {window.MathJax.Hub.Config({SVG: {font: \"STIX-Web\"}});}\n",
       "        if (typeof require !== 'undefined') {\n",
       "        require.undef(\"plotly\");\n",
       "        requirejs.config({\n",
       "            paths: {\n",
       "                'plotly': ['https://cdn.plot.ly/plotly-2.12.1.min']\n",
       "            }\n",
       "        });\n",
       "        require(['plotly'], function(Plotly) {\n",
       "            window._Plotly = Plotly;\n",
       "        });\n",
       "        }\n",
       "        </script>\n",
       "        "
      ]
     },
     "metadata": {},
     "output_type": "display_data"
    },
    {
     "data": {
      "text/html": [
       "        <script type=\"text/javascript\">\n",
       "        window.PlotlyConfig = {MathJaxConfig: 'local'};\n",
       "        if (window.MathJax && window.MathJax.Hub && window.MathJax.Hub.Config) {window.MathJax.Hub.Config({SVG: {font: \"STIX-Web\"}});}\n",
       "        if (typeof require !== 'undefined') {\n",
       "        require.undef(\"plotly\");\n",
       "        requirejs.config({\n",
       "            paths: {\n",
       "                'plotly': ['https://cdn.plot.ly/plotly-2.12.1.min']\n",
       "            }\n",
       "        });\n",
       "        require(['plotly'], function(Plotly) {\n",
       "            window._Plotly = Plotly;\n",
       "        });\n",
       "        }\n",
       "        </script>\n",
       "        "
      ]
     },
     "metadata": {},
     "output_type": "display_data"
    },
    {
     "data": {
      "text/plain": [
       "'5.9.0'"
      ]
     },
     "execution_count": 1,
     "metadata": {},
     "output_type": "execute_result"
    }
   ],
   "source": [
    "import pandas as pd\n",
    "import numpy as np\n",
    "from plotly import __version__\n",
    "import cufflinks as  cf\n",
    "from plotly.offline import download_plotlyjs , init_notebook_mode , plot , iplot\n",
    "import matplotlib.pyplot as plt\n",
    "%matplotlib inline\n",
    "\n",
    "init_notebook_mode ( connected=True )\n",
    "cf.go_offline()\n",
    "__version__"
   ]
  },
  {
   "cell_type": "code",
   "execution_count": 2,
   "id": "031934a6",
   "metadata": {},
   "outputs": [
    {
     "data": {
      "text/html": [
       "<div>\n",
       "<style scoped>\n",
       "    .dataframe tbody tr th:only-of-type {\n",
       "        vertical-align: middle;\n",
       "    }\n",
       "\n",
       "    .dataframe tbody tr th {\n",
       "        vertical-align: top;\n",
       "    }\n",
       "\n",
       "    .dataframe thead th {\n",
       "        text-align: right;\n",
       "    }\n",
       "</style>\n",
       "<table border=\"1\" class=\"dataframe\">\n",
       "  <thead>\n",
       "    <tr style=\"text-align: right;\">\n",
       "      <th></th>\n",
       "      <th>A</th>\n",
       "      <th>B</th>\n",
       "      <th>C</th>\n",
       "      <th>D</th>\n",
       "    </tr>\n",
       "  </thead>\n",
       "  <tbody>\n",
       "    <tr>\n",
       "      <th>0</th>\n",
       "      <td>0.512753</td>\n",
       "      <td>0.949584</td>\n",
       "      <td>0.647918</td>\n",
       "      <td>-0.196320</td>\n",
       "    </tr>\n",
       "    <tr>\n",
       "      <th>1</th>\n",
       "      <td>-0.355342</td>\n",
       "      <td>-0.710019</td>\n",
       "      <td>-0.662987</td>\n",
       "      <td>-0.651971</td>\n",
       "    </tr>\n",
       "    <tr>\n",
       "      <th>2</th>\n",
       "      <td>-0.279291</td>\n",
       "      <td>1.650112</td>\n",
       "      <td>-1.365186</td>\n",
       "      <td>-1.064985</td>\n",
       "    </tr>\n",
       "    <tr>\n",
       "      <th>3</th>\n",
       "      <td>0.137154</td>\n",
       "      <td>0.720707</td>\n",
       "      <td>-2.007523</td>\n",
       "      <td>0.227627</td>\n",
       "    </tr>\n",
       "    <tr>\n",
       "      <th>4</th>\n",
       "      <td>-0.105616</td>\n",
       "      <td>-0.659878</td>\n",
       "      <td>0.356545</td>\n",
       "      <td>0.704816</td>\n",
       "    </tr>\n",
       "    <tr>\n",
       "      <th>...</th>\n",
       "      <td>...</td>\n",
       "      <td>...</td>\n",
       "      <td>...</td>\n",
       "      <td>...</td>\n",
       "    </tr>\n",
       "    <tr>\n",
       "      <th>95</th>\n",
       "      <td>-1.284002</td>\n",
       "      <td>0.661323</td>\n",
       "      <td>-0.956459</td>\n",
       "      <td>0.951512</td>\n",
       "    </tr>\n",
       "    <tr>\n",
       "      <th>96</th>\n",
       "      <td>1.034357</td>\n",
       "      <td>0.743637</td>\n",
       "      <td>-1.081655</td>\n",
       "      <td>-1.245626</td>\n",
       "    </tr>\n",
       "    <tr>\n",
       "      <th>97</th>\n",
       "      <td>0.602204</td>\n",
       "      <td>-1.158186</td>\n",
       "      <td>-0.099100</td>\n",
       "      <td>-0.003231</td>\n",
       "    </tr>\n",
       "    <tr>\n",
       "      <th>98</th>\n",
       "      <td>-0.573479</td>\n",
       "      <td>-0.051737</td>\n",
       "      <td>-0.678037</td>\n",
       "      <td>-0.429702</td>\n",
       "    </tr>\n",
       "    <tr>\n",
       "      <th>99</th>\n",
       "      <td>-0.061518</td>\n",
       "      <td>0.015971</td>\n",
       "      <td>-0.466136</td>\n",
       "      <td>-1.016819</td>\n",
       "    </tr>\n",
       "  </tbody>\n",
       "</table>\n",
       "<p>100 rows × 4 columns</p>\n",
       "</div>"
      ],
      "text/plain": [
       "           A         B         C         D\n",
       "0   0.512753  0.949584  0.647918 -0.196320\n",
       "1  -0.355342 -0.710019 -0.662987 -0.651971\n",
       "2  -0.279291  1.650112 -1.365186 -1.064985\n",
       "3   0.137154  0.720707 -2.007523  0.227627\n",
       "4  -0.105616 -0.659878  0.356545  0.704816\n",
       "..       ...       ...       ...       ...\n",
       "95 -1.284002  0.661323 -0.956459  0.951512\n",
       "96  1.034357  0.743637 -1.081655 -1.245626\n",
       "97  0.602204 -1.158186 -0.099100 -0.003231\n",
       "98 -0.573479 -0.051737 -0.678037 -0.429702\n",
       "99 -0.061518  0.015971 -0.466136 -1.016819\n",
       "\n",
       "[100 rows x 4 columns]"
      ]
     },
     "execution_count": 2,
     "metadata": {},
     "output_type": "execute_result"
    }
   ],
   "source": [
    "nd = np.random.randn ( 100 , 4 )\n",
    "df1 = pd.DataFrame ( nd , columns=\"A B C D\".split() )\n",
    "df1"
   ]
  },
  {
   "cell_type": "code",
   "execution_count": 3,
   "id": "3bbb0f9a",
   "metadata": {},
   "outputs": [
    {
     "data": {
      "text/html": [
       "<div>\n",
       "<style scoped>\n",
       "    .dataframe tbody tr th:only-of-type {\n",
       "        vertical-align: middle;\n",
       "    }\n",
       "\n",
       "    .dataframe tbody tr th {\n",
       "        vertical-align: top;\n",
       "    }\n",
       "\n",
       "    .dataframe thead th {\n",
       "        text-align: right;\n",
       "    }\n",
       "</style>\n",
       "<table border=\"1\" class=\"dataframe\">\n",
       "  <thead>\n",
       "    <tr style=\"text-align: right;\">\n",
       "      <th></th>\n",
       "      <th>CATEGORY</th>\n",
       "      <th>VALUES</th>\n",
       "    </tr>\n",
       "  </thead>\n",
       "  <tbody>\n",
       "    <tr>\n",
       "      <th>0</th>\n",
       "      <td>A</td>\n",
       "      <td>32</td>\n",
       "    </tr>\n",
       "    <tr>\n",
       "      <th>1</th>\n",
       "      <td>B</td>\n",
       "      <td>40</td>\n",
       "    </tr>\n",
       "    <tr>\n",
       "      <th>2</th>\n",
       "      <td>C</td>\n",
       "      <td>48</td>\n",
       "    </tr>\n",
       "    <tr>\n",
       "      <th>3</th>\n",
       "      <td>D</td>\n",
       "      <td>56</td>\n",
       "    </tr>\n",
       "  </tbody>\n",
       "</table>\n",
       "</div>"
      ],
      "text/plain": [
       "  CATEGORY  VALUES\n",
       "0        A      32\n",
       "1        B      40\n",
       "2        C      48\n",
       "3        D      56"
      ]
     },
     "execution_count": 3,
     "metadata": {},
     "output_type": "execute_result"
    }
   ],
   "source": [
    "df2 = pd.DataFrame ({ \"CATEGORY\" : [\"A\",\"B\",\"C\",\"D\"] , \"VALUES\" : [32,40,48,56] })\n",
    "df2"
   ]
  },
  {
   "cell_type": "code",
   "execution_count": 4,
   "id": "84274adf",
   "metadata": {},
   "outputs": [
    {
     "data": {
      "text/plain": [
       "<Axes: >"
      ]
     },
     "execution_count": 4,
     "metadata": {},
     "output_type": "execute_result"
    },
    {
     "data": {
      "image/png": "[encoded data removed]",
      "text/plain": [
       "<Figure size 640x480 with 1 Axes>"
      ]
     },
     "metadata": {},
     "output_type": "display_data"
    }
   ],
   "source": [
    "df1.plot()"
   ]
  },
  {
   "cell_type": "code",
   "execution_count": 5,
   "id": "02029954",
   "metadata": {},
   "outputs": [
    {
     "data": {
      "application/vnd.plotly.v1+json": {
       "config": {
        "linkText": "Export to plot.ly",
        "plotlyServerURL": "https://plot.ly",
        "showLink": true
       },
       "data": [
        {
         "line": {
          "color": "rgba(255, 153, 51, 1.0)",
          "dash": "solid",
          "shape": "linear",
          "width": 1.3
         },
         "mode": "lines",
         "name": "A",
         "text": "",
         "type": "scatter",
         "x": [
          0,
          1,
          2,
          3,
          4,
          5,
          6,
          7,
          8,
          9,
          10,
          11,
          12,
          13,
          14,
          15,
          16,
          17,
          18,
          19,
          20,
          21,
          22,
          23,
          24,
          25,
          26,
          27,
          28,
          29,
          30,
          31,
          32,
          33,
          34,
          35,
          36,
          37,
          38,
          39,
          40,
          41,
          42,
          43,
          44,
          45,
          46,
          47,
          48,
          49,
          50,
          51,
          52,
          53,
          54,
          55,
          56,
          57,
          58,
          59,
          60,
          61,
          62,
          63,
          64,
          65,
          66,
          67,
          68,
          69,
          70,
          71,
          72,
          73,
          74,
          75,
          76,
          77,
          78,
          79,
          80,
          81,
          82,
          83,
          84,
          85,
          86,
          87,
          88,
          89,
          90,
          91,
          92,
          93,
          94,
          95,
          96,
          97,
          98,
          99
         ],
         "y": [
          0.512752939029791,
          -0.3553419617198243,
          -0.27929092762229374,
          0.13715381120273906,
          -0.10561595646288185,
          -0.1599097109111184,
          -0.4979472496059992,
          0.157104113124573,
          -0.46293873496051735,
          2.485418431861522,
          -0.4516734756190726,
          -1.493458861952407,
          -0.026482791768084567,
          -0.2757463899836123,
          2.241694624786081,
          -0.5129572406266717,
          0.15252616393685708,
          1.3865506913062904,
          -0.4983345548729902,
          0.307249958853756,
          -1.128251054831078,
          -0.8075072847154674,
          -0.6363660077137355,
          -0.3713082499903116,
          1.0441461790223507,
          0.3414257868465785,
          -0.5322617919291063,
          -1.2591308173815023,
          0.7009125457086441,
          0.9967249848203381,
          0.5553427242848349,
          -0.1710629029221637,
          -0.09347269250359294,
          -0.06269091796217952,
          -0.8889925758821092,
          1.0218299933351225,
          0.8210081659849187,
          0.44322827056598846,
          -0.4184786434300998,
          -0.08940115509505929,
          0.7269703626378548,
          0.24703444042561,
          0.05660618906374495,
          -0.46715813740333273,
          0.02946942295050563,
          -2.0148452428808628,
          -1.8538320646658921,
          -0.3354297970013657,
          1.6395349929699676,
          1.8490226882208158,
          -0.1512933010494933,
          -0.5005603686679456,
          0.7287108498117928,
          1.298360623953065,
          0.05835482274762789,
          0.05404720881988463,
          1.6448478378071496,
          -0.2165273389788695,
          -0.01089034092055172,
          -0.6396922580512779,
          0.1659230506263948,
          -0.26904140973624013,
          -0.15555495444472764,
          0.9466288861187291,
          0.49900398554713205,
          -2.175214685296227,
          0.09718808811786087,
          2.708148103191192,
          -0.7877907963975526,
          -0.0014491244335431606,
          -0.11955410895494896,
          -0.012562024727582138,
          -0.38147657376126753,
          1.1364951029280372,
          -0.3185237106734018,
          -2.2316850554714165,
          -1.332370837239957,
          1.1773780023580709,
          0.02886572654773463,
          -1.345659142078511,
          0.8985612990834209,
          0.7222788050675611,
          -1.3802880760915244,
          -1.9585194457414203,
          -2.1686577556553375,
          -0.8500871395049288,
          0.10917120767171398,
          0.4795289001080743,
          1.2234004610201688,
          0.8152430704621533,
          1.0968304321670168,
          -1.4067781777797062,
          0.05849673408436882,
          0.7533432362097038,
          0.015432162011626286,
          -1.2840022615670568,
          1.0343567428530556,
          0.6022038052564009,
          -0.5734790425194495,
          -0.061518042568631644
         ]
        },
        {
         "line": {
          "color": "rgba(55, 128, 191, 1.0)",
          "dash": "solid",
          "shape": "linear",
          "width": 1.3
         },
         "mode": "lines",
         "name": "B",
         "text": "",
         "type": "scatter",
         "x": [
          0,
          1,
          2,
          3,
          4,
          5,
          6,
          7,
          8,
          9,
          10,
          11,
          12,
          13,
          14,
          15,
          16,
          17,
          18,
          19,
          20,
          21,
          22,
          23,
          24,
          25,
          26,
          27,
          28,
          29,
          30,
          31,
          32,
          33,
          34,
          35,
          36,
          37,
          38,
          39,
          40,
          41,
          42,
          43,
          44,
          45,
          46,
          47,
          48,
          49,
          50,
          51,
          52,
          53,
          54,
          55,
          56,
          57,
          58,
          59,
          60,
          61,
          62,
          63,
          64,
          65,
          66,
          67,
          68,
          69,
          70,
          71,
          72,
          73,
          74,
          75,
          76,
          77,
          78,
          79,
          80,
          81,
          82,
          83,
          84,
          85,
          86,
          87,
          88,
          89,
          90,
          91,
          92,
          93,
          94,
          95,
          96,
          97,
          98,
          99
         ],
         "y": [
          0.9495836228334081,
          -0.7100194112250915,
          1.650112399487089,
          0.7207073489887325,
          -0.6598783128597964,
          0.18061985623530957,
          -0.4113123196925393,
          -0.8059169160909352,
          -0.45030841232826324,
          -0.8649897640802658,
          1.0102208397481613,
          -1.0723396880437734,
          -0.6968940084156565,
          -0.8645673092942562,
          2.1955425731858553,
          -1.8863114244239756,
          0.8957455972821831,
          0.678767466446716,
          -0.8943159560446318,
          -0.09741963407826157,
          0.7654188247816236,
          -0.3061372125342001,
          0.5819132563211112,
          -0.8670704822495087,
          -1.1685354191395143,
          0.4987062070583795,
          -1.2664917103538968,
          -0.0020470918678063186,
          0.3121952440872714,
          -0.16072843272068324,
          0.11875890069643805,
          0.44986031105381663,
          -1.2372941389702115,
          -0.0699148743189868,
          0.5722458274120602,
          -0.908423657263562,
          0.9938975291952103,
          0.7958846288611234,
          2.301904816453025,
          -0.03442714273076457,
          1.9790174693194467,
          2.610010540348577,
          0.32989197333371956,
          0.8624799408253738,
          0.1139651001292569,
          0.4707004527178716,
          -1.5716325921736916,
          -0.24216538524890424,
          1.2948587449311602,
          2.4104001599038,
          0.06946876011078847,
          0.14121954910246642,
          -1.758843335651598,
          -0.34023316429089806,
          -0.615902806569471,
          0.5258757904723518,
          0.768142038676994,
          -0.6217746021507302,
          0.40561366010531047,
          0.0611695638678798,
          -0.13738126847244095,
          1.0648377553030648,
          -1.8221199689954444,
          -0.8653744519128183,
          0.6777054680280602,
          2.497494640335452,
          0.15104718570411105,
          1.6886883956295087,
          0.2150663109619358,
          1.1726393230041428,
          -0.6033410253786355,
          -1.1128029280466678,
          -1.3753978791796673,
          -1.6083436278421894,
          0.3251529185534095,
          -0.23507903877710437,
          0.6854681379288818,
          -1.041259674279969,
          -0.6804639148664574,
          0.8121246030044645,
          1.3458243345424477,
          -0.11174265897113703,
          0.8968517311317901,
          1.1561368291141871,
          0.14505918969787704,
          -0.18489325889499017,
          0.28894923373935066,
          0.9245649933210359,
          0.09791212574998187,
          1.735864656117559,
          1.8020648684561578,
          1.1660229778070796,
          1.6705341417911646,
          0.7029421504635976,
          -0.09985353358039065,
          0.6613232704319956,
          0.7436371685517646,
          -1.1581864717986816,
          -0.0517374783828689,
          0.01597140932841376
         ]
        },
        {
         "line": {
          "color": "rgba(50, 171, 96, 1.0)",
          "dash": "solid",
          "shape": "linear",
          "width": 1.3
         },
         "mode": "lines",
         "name": "C",
         "text": "",
         "type": "scatter",
         "x": [
          0,
          1,
          2,
          3,
          4,
          5,
          6,
          7,
          8,
          9,
          10,
          11,
          12,
          13,
          14,
          15,
          16,
          17,
          18,
          19,
          20,
          21,
          22,
          23,
          24,
          25,
          26,
          27,
          28,
          29,
          30,
          31,
          32,
          33,
          34,
          35,
          36,
          37,
          38,
          39,
          40,
          41,
          42,
          43,
          44,
          45,
          46,
          47,
          48,
          49,
          50,
          51,
          52,
          53,
          54,
          55,
          56,
          57,
          58,
          59,
          60,
          61,
          62,
          63,
          64,
          65,
          66,
          67,
          68,
          69,
          70,
          71,
          72,
          73,
          74,
          75,
          76,
          77,
          78,
          79,
          80,
          81,
          82,
          83,
          84,
          85,
          86,
          87,
          88,
          89,
          90,
          91,
          92,
          93,
          94,
          95,
          96,
          97,
          98,
          99
         ],
         "y": [
          0.647918339125702,
          -0.6629874159950747,
          -1.365185908111771,
          -2.0075225889599912,
          0.35654496700388316,
          1.3006874023536812,
          0.6835665697629982,
          -0.1401688964319155,
          -0.5803277472699386,
          0.6923895199692292,
          0.11043568798289007,
          -2.04023863493297,
          -1.4862374677794092,
          -0.8038954840842417,
          -0.4135429899954026,
          -0.19033116277557574,
          -0.5832375643284965,
          -0.7939887159905965,
          0.6763710647834456,
          0.622834178952044,
          0.19795849857076636,
          0.9230244541099311,
          0.9102873282566336,
          -1.578134272455675,
          2.248498612388913,
          -0.618276094493357,
          -1.642332191049332,
          -0.04954032303581414,
          1.273426373834263,
          0.05231784690273851,
          0.2170359373006094,
          -0.621871739089189,
          1.7856015664211622,
          0.43911657462324843,
          -1.4061425872715332,
          -0.32187333746658625,
          -0.23938813708705242,
          1.7833946355736527,
          -0.37324468282187484,
          -1.0666543693021822,
          -1.5485146171686575,
          0.20222191754419228,
          1.5230706386496686,
          0.616125792570182,
          -0.060507670904036276,
          -1.2248084283541232,
          -0.044431380557908934,
          2.2728044609439206,
          -1.7719469687907905,
          -0.5033840112064768,
          0.3851516439195813,
          -0.46447582205570065,
          -0.41975194804749727,
          0.04487714083101872,
          -2.008098012532532,
          0.2570531685060416,
          0.4336246485117831,
          0.7873621484585646,
          -0.7858747473947723,
          -2.249721885545336,
          0.2608393620754042,
          -0.35116999546835553,
          -1.4189477335205365,
          0.2452825146149802,
          0.40435417415188973,
          0.09930232430532347,
          -1.6741987610616293,
          0.42798943237457315,
          1.1160057602750102,
          -0.08809469183071897,
          1.0374511726902327,
          0.8647984505493161,
          -2.02602321230138,
          -1.8973360600586375,
          1.3290420228656905,
          -0.08532051099166421,
          -0.1618291189602749,
          3.36589901332965,
          0.2853060111168622,
          1.4909104779129705,
          2.603046817481854,
          0.07057420879162299,
          -0.3349264401219666,
          -0.27214487332199866,
          0.11621477136899505,
          -1.9653993496117967,
          -0.6532103410624271,
          0.2363608302426708,
          0.9248339096229946,
          1.044452994302072,
          -0.568127620861377,
          0.9347943385510102,
          -1.4674844783936958,
          -0.6593242696058286,
          0.33773560085113274,
          -0.9564585499347026,
          -1.0816546603266393,
          -0.0990998967519054,
          -0.6780371610061101,
          -0.4661359234137232
         ]
        },
        {
         "line": {
          "color": "rgba(128, 0, 128, 1.0)",
          "dash": "solid",
          "shape": "linear",
          "width": 1.3
         },
         "mode": "lines",
         "name": "D",
         "text": "",
         "type": "scatter",
         "x": [
          0,
          1,
          2,
          3,
          4,
          5,
          6,
          7,
          8,
          9,
          10,
          11,
          12,
          13,
          14,
          15,
          16,
          17,
          18,
          19,
          20,
          21,
          22,
          23,
          24,
          25,
          26,
          27,
          28,
          29,
          30,
          31,
          32,
          33,
          34,
          35,
          36,
          37,
          38,
          39,
          40,
          41,
          42,
          43,
          44,
          45,
          46,
          47,
          48,
          49,
          50,
          51,
          52,
          53,
          54,
          55,
          56,
          57,
          58,
          59,
          60,
          61,
          62,
          63,
          64,
          65,
          66,
          67,
          68,
          69,
          70,
          71,
          72,
          73,
          74,
          75,
          76,
          77,
          78,
          79,
          80,
          81,
          82,
          83,
          84,
          85,
          86,
          87,
          88,
          89,
          90,
          91,
          92,
          93,
          94,
          95,
          96,
          97,
          98,
          99
         ],
         "y": [
          -0.19631981906212687,
          -0.6519713807353804,
          -1.0649846722973384,
          0.2276268403009993,
          0.7048164209836024,
          -1.4446783704695936,
          -2.033750158183124,
          0.5138908127633827,
          0.5743634695953264,
          -1.3657451693518634,
          0.4637907687699757,
          1.0844078896291873,
          -0.8199961871709128,
          0.7302810084439927,
          1.1501886667067136,
          1.4068956037099702,
          1.508692417359712,
          -0.122429546415331,
          -1.2139029828276917,
          -1.3915936060875007,
          -0.3238322412559266,
          1.3434653001668608,
          -0.5185807775608965,
          -0.7107820957370212,
          -0.4464055579970659,
          -0.9606481511417176,
          -0.295817297356241,
          -0.7965590857577352,
          0.006067325117813681,
          -0.4809220256345543,
          1.028630144482865,
          -0.3991139925170933,
          0.03907052978298096,
          1.4539224977284508,
          1.2368047827803776,
          1.498742536272704,
          0.9555284868160445,
          -0.4319859168096048,
          0.07204665511014491,
          0.15138773782731127,
          -0.0016863454597473644,
          -0.66704262100987,
          0.8234927800554659,
          0.9355289432127771,
          -0.6529971281881106,
          1.5998032068698078,
          -1.158827929365611,
          -0.04136818612304619,
          1.0781454686574732,
          0.21721131798324592,
          1.534521058113346,
          -1.750652204012357,
          0.9872822474417707,
          -1.197496541939758,
          -1.0439173878772081,
          0.09596236413985537,
          -0.6568654252222857,
          0.706633110663512,
          -1.211932613051174,
          0.671873724489011,
          -0.3898892118405459,
          0.9970459716634278,
          -0.28713960225161106,
          -0.010341133054459198,
          -0.9767493981679324,
          -0.18844975221423968,
          -0.7820893042608988,
          -1.8529738370200275,
          1.4738531760079354,
          -0.23686088155185786,
          -0.8470745256434993,
          -2.05765141244495,
          0.8174144337022742,
          -1.4106119727042548,
          -0.7248926917781047,
          -0.8969630071984197,
          -0.6419860011659925,
          -0.375072540951662,
          0.17237805217223748,
          -0.5805831220436499,
          -1.0090042945869997,
          -0.360630514240928,
          0.06712082805980472,
          -1.0222964654995608,
          -1.3111878556748808,
          -0.6265000694373624,
          -0.45147531022127435,
          -1.1298686894301744,
          -1.7403524915989772,
          -0.20931072894096553,
          -0.4243133313934241,
          -0.4252201065654679,
          -0.9829243053422797,
          0.6344429869787069,
          0.4895108597241183,
          0.9515124340705648,
          -1.2456264225617408,
          -0.003231469493402177,
          -0.4297021911016993,
          -1.0168190422430656
         ]
        }
       ],
       "layout": {
        "legend": {
         "bgcolor": "#F5F6F9",
         "font": {
          "color": "#4D5663"
         }
        },
        "paper_bgcolor": "#F5F6F9",
        "plot_bgcolor": "#F5F6F9",
        "template": {
         "data": {
          "bar": [
           {
            "error_x": {
             "color": "#2a3f5f"
            },
            "error_y": {
             "color": "#2a3f5f"
            },
            "marker": {
             "line": {
              "color": "#E5ECF6",
              "width": 0.5
             },
             "pattern": {
              "fillmode": "overlay",
              "size": 10,
              "solidity": 0.2
             }
            },
            "type": "bar"
           }
          ],
          "barpolar": [
           {
            "marker": {
             "line": {
              "color": "#E5ECF6",
              "width": 0.5
             },
             "pattern": {
              "fillmode": "overlay",
              "size": 10,
              "solidity": 0.2
             }
            },
            "type": "barpolar"
           }
          ],
          "carpet": [
           {
            "aaxis": {
             "endlinecolor": "#2a3f5f",
             "gridcolor": "white",
             "linecolor": "white",
             "minorgridcolor": "white",
             "startlinecolor": "#2a3f5f"
            },
            "baxis": {
             "endlinecolor": "#2a3f5f",
             "gridcolor": "white",
             "linecolor": "white",
             "minorgridcolor": "white",
             "startlinecolor": "#2a3f5f"
            },
            "type": "carpet"
           }
          ],
          "choropleth": [
           {
            "colorbar": {
             "outlinewidth": 0,
             "ticks": ""
            },
            "type": "choropleth"
           }
          ],
          "contour": [
           {
            "colorbar": {
             "outlinewidth": 0,
             "ticks": ""
            },
            "colorscale": [
             [
              0,
              "#0d0887"
             ],
             [
              0.1111111111111111,
              "#46039f"
             ],
             [
              0.2222222222222222,
              "#7201a8"
             ],
             [
              0.3333333333333333,
              "#9c179e"
             ],
             [
              0.4444444444444444,
              "#bd3786"
             ],
             [
              0.5555555555555556,
              "#d8576b"
             ],
             [
              0.6666666666666666,
              "#ed7953"
             ],
             [
              0.7777777777777778,
              "#fb9f3a"
             ],
             [
              0.8888888888888888,
              "#fdca26"
             ],
             [
              1,
              "#f0f921"
             ]
            ],
            "type": "contour"
           }
          ],
          "contourcarpet": [
           {
            "colorbar": {
             "outlinewidth": 0,
             "ticks": ""
            },
            "type": "contourcarpet"
           }
          ],
          "heatmap": [
           {
            "colorbar": {
             "outlinewidth": 0,
             "ticks": ""
            },
            "colorscale": [
             [
              0,
              "#0d0887"
             ],
             [
              0.1111111111111111,
              "#46039f"
             ],
             [
              0.2222222222222222,
              "#7201a8"
             ],
             [
              0.3333333333333333,
              "#9c179e"
             ],
             [
              0.4444444444444444,
              "#bd3786"
             ],
             [
              0.5555555555555556,
              "#d8576b"
             ],
             [
              0.6666666666666666,
              "#ed7953"
             ],
             [
              0.7777777777777778,
              "#fb9f3a"
             ],
             [
              0.8888888888888888,
              "#fdca26"
             ],
             [
              1,
              "#f0f921"
             ]
            ],
            "type": "heatmap"
           }
          ],
          "heatmapgl": [
           {
            "colorbar": {
             "outlinewidth": 0,
             "ticks": ""
            },
            "colorscale": [
             [
              0,
              "#0d0887"
             ],
             [
              0.1111111111111111,
              "#46039f"
             ],
             [
              0.2222222222222222,
              "#7201a8"
             ],
             [
              0.3333333333333333,
              "#9c179e"
             ],
             [
              0.4444444444444444,
              "#bd3786"
             ],
             [
              0.5555555555555556,
              "#d8576b"
             ],
             [
              0.6666666666666666,
              "#ed7953"
             ],
             [
              0.7777777777777778,
              "#fb9f3a"
             ],
             [
              0.8888888888888888,
              "#fdca26"
             ],
             [
              1,
              "#f0f921"
             ]
            ],
            "type": "heatmapgl"
           }
          ],
          "histogram": [
           {
            "marker": {
             "pattern": {
              "fillmode": "overlay",
              "size": 10,
              "solidity": 0.2
             }
            },
            "type": "histogram"
           }
          ],
          "histogram2d": [
           {
            "colorbar": {
             "outlinewidth": 0,
             "ticks": ""
            },
            "colorscale": [
             [
              0,
              "#0d0887"
             ],
             [
              0.1111111111111111,
              "#46039f"
             ],
             [
              0.2222222222222222,
              "#7201a8"
             ],
             [
              0.3333333333333333,
              "#9c179e"
             ],
             [
              0.4444444444444444,
              "#bd3786"
             ],
             [
              0.5555555555555556,
              "#d8576b"
             ],
             [
              0.6666666666666666,
              "#ed7953"
             ],
             [
              0.7777777777777778,
              "#fb9f3a"
             ],
             [
              0.8888888888888888,
              "#fdca26"
             ],
             [
              1,
              "#f0f921"
             ]
            ],
            "type": "histogram2d"
           }
          ],
          "histogram2dcontour": [
           {
            "colorbar": {
             "outlinewidth": 0,
             "ticks": ""
            },
            "colorscale": [
             [
              0,
              "#0d0887"
             ],
             [
              0.1111111111111111,
              "#46039f"
             ],
             [
              0.2222222222222222,
              "#7201a8"
             ],
             [
              0.3333333333333333,
              "#9c179e"
             ],
             [
              0.4444444444444444,
              "#bd3786"
             ],
             [
              0.5555555555555556,
              "#d8576b"
             ],
             [
              0.6666666666666666,
              "#ed7953"
             ],
             [
              0.7777777777777778,
              "#fb9f3a"
             ],
             [
              0.8888888888888888,
              "#fdca26"
             ],
             [
              1,
              "#f0f921"
             ]
            ],
            "type": "histogram2dcontour"
           }
          ],
          "mesh3d": [
           {
            "colorbar": {
             "outlinewidth": 0,
             "ticks": ""
            },
            "type": "mesh3d"
           }
          ],
          "parcoords": [
           {
            "line": {
             "colorbar": {
              "outlinewidth": 0,
              "ticks": ""
             }
            },
            "type": "parcoords"
           }
          ],
          "pie": [
           {
            "automargin": true,
            "type": "pie"
           }
          ],
          "scatter": [
           {
            "fillpattern": {
             "fillmode": "overlay",
             "size": 10,
             "solidity": 0.2
            },
            "type": "scatter"
           }
          ],
          "scatter3d": [
           {
            "line": {
             "colorbar": {
              "outlinewidth": 0,
              "ticks": ""
             }
            },
            "marker": {
             "colorbar": {
              "outlinewidth": 0,
              "ticks": ""
             }
            },
            "type": "scatter3d"
           }
          ],
          "scattercarpet": [
           {
            "marker": {
             "colorbar": {
              "outlinewidth": 0,
              "ticks": ""
             }
            },
            "type": "scattercarpet"
           }
          ],
          "scattergeo": [
           {
            "marker": {
             "colorbar": {
              "outlinewidth": 0,
              "ticks": ""
             }
            },
            "type": "scattergeo"
           }
          ],
          "scattergl": [
           {
            "marker": {
             "colorbar": {
              "outlinewidth": 0,
              "ticks": ""
             }
            },
            "type": "scattergl"
           }
          ],
          "scattermapbox": [
           {
            "marker": {
             "colorbar": {
              "outlinewidth": 0,
              "ticks": ""
             }
            },
            "type": "scattermapbox"
           }
          ],
          "scatterpolar": [
           {
            "marker": {
             "colorbar": {
              "outlinewidth": 0,
              "ticks": ""
             }
            },
            "type": "scatterpolar"
           }
          ],
          "scatterpolargl": [
           {
            "marker": {
             "colorbar": {
              "outlinewidth": 0,
              "ticks": ""
             }
            },
            "type": "scatterpolargl"
           }
          ],
          "scatterternary": [
           {
            "marker": {
             "colorbar": {
              "outlinewidth": 0,
              "ticks": ""
             }
            },
            "type": "scatterternary"
           }
          ],
          "surface": [
           {
            "colorbar": {
             "outlinewidth": 0,
             "ticks": ""
            },
            "colorscale": [
             [
              0,
              "#0d0887"
             ],
             [
              0.1111111111111111,
              "#46039f"
             ],
             [
              0.2222222222222222,
              "#7201a8"
             ],
             [
              0.3333333333333333,
              "#9c179e"
             ],
             [
              0.4444444444444444,
              "#bd3786"
             ],
             [
              0.5555555555555556,
              "#d8576b"
             ],
             [
              0.6666666666666666,
              "#ed7953"
             ],
             [
              0.7777777777777778,
              "#fb9f3a"
             ],
             [
              0.8888888888888888,
              "#fdca26"
             ],
             [
              1,
              "#f0f921"
             ]
            ],
            "type": "surface"
           }
          ],
          "table": [
           {
            "cells": {
             "fill": {
              "color": "#EBF0F8"
             },
             "line": {
              "color": "white"
             }
            },
            "header": {
             "fill": {
              "color": "#C8D4E3"
             },
             "line": {
              "color": "white"
             }
            },
            "type": "table"
           }
          ]
         },
         "layout": {
          "annotationdefaults": {
           "arrowcolor": "#2a3f5f",
           "arrowhead": 0,
           "arrowwidth": 1
          },
          "autotypenumbers": "strict",
          "coloraxis": {
           "colorbar": {
            "outlinewidth": 0,
            "ticks": ""
           }
          },
          "colorscale": {
           "diverging": [
            [
             0,
             "#8e0152"
            ],
            [
             0.1,
             "#c51b7d"
            ],
            [
             0.2,
             "#de77ae"
            ],
            [
             0.3,
             "#f1b6da"
            ],
            [
             0.4,
             "#fde0ef"
            ],
            [
             0.5,
             "#f7f7f7"
            ],
            [
             0.6,
             "#e6f5d0"
            ],
            [
             0.7,
             "#b8e186"
            ],
            [
             0.8,
             "#7fbc41"
            ],
            [
             0.9,
             "#4d9221"
            ],
            [
             1,
             "#276419"
            ]
           ],
           "sequential": [
            [
             0,
             "#0d0887"
            ],
            [
             0.1111111111111111,
             "#46039f"
            ],
            [
             0.2222222222222222,
             "#7201a8"
            ],
            [
             0.3333333333333333,
             "#9c179e"
            ],
            [
             0.4444444444444444,
             "#bd3786"
            ],
            [
             0.5555555555555556,
             "#d8576b"
            ],
            [
             0.6666666666666666,
             "#ed7953"
            ],
            [
             0.7777777777777778,
             "#fb9f3a"
            ],
            [
             0.8888888888888888,
             "#fdca26"
            ],
            [
             1,
             "#f0f921"
            ]
           ],
           "sequentialminus": [
            [
             0,
             "#0d0887"
            ],
            [
             0.1111111111111111,
             "#46039f"
            ],
            [
             0.2222222222222222,
             "#7201a8"
            ],
            [
             0.3333333333333333,
             "#9c179e"
            ],
            [
             0.4444444444444444,
             "#bd3786"
            ],
            [
             0.5555555555555556,
             "#d8576b"
            ],
            [
             0.6666666666666666,
             "#ed7953"
            ],
            [
             0.7777777777777778,
             "#fb9f3a"
            ],
            [
             0.8888888888888888,
             "#fdca26"
            ],
            [
             1,
             "#f0f921"
            ]
           ]
          },
          "colorway": [
           "#636efa",
           "#EF553B",
           "#00cc96",
           "#ab63fa",
           "#FFA15A",
           "#19d3f3",
           "#FF6692",
           "#B6E880",
           "#FF97FF",
           "#FECB52"
          ],
          "font": {
           "color": "#2a3f5f"
          },
          "geo": {
           "bgcolor": "white",
           "lakecolor": "white",
           "landcolor": "#E5ECF6",
           "showlakes": true,
           "showland": true,
           "subunitcolor": "white"
          },
          "hoverlabel": {
           "align": "left"
          },
          "hovermode": "closest",
          "mapbox": {
           "style": "light"
          },
          "paper_bgcolor": "white",
          "plot_bgcolor": "#E5ECF6",
          "polar": {
           "angularaxis": {
            "gridcolor": "white",
            "linecolor": "white",
            "ticks": ""
           },
           "bgcolor": "#E5ECF6",
           "radialaxis": {
            "gridcolor": "white",
            "linecolor": "white",
            "ticks": ""
           }
          },
          "scene": {
           "xaxis": {
            "backgroundcolor": "#E5ECF6",
            "gridcolor": "white",
            "gridwidth": 2,
            "linecolor": "white",
            "showbackground": true,
            "ticks": "",
            "zerolinecolor": "white"
           },
           "yaxis": {
            "backgroundcolor": "#E5ECF6",
            "gridcolor": "white",
            "gridwidth": 2,
            "linecolor": "white",
            "showbackground": true,
            "ticks": "",
            "zerolinecolor": "white"
           },
           "zaxis": {
            "backgroundcolor": "#E5ECF6",
            "gridcolor": "white",
            "gridwidth": 2,
            "linecolor": "white",
            "showbackground": true,
            "ticks": "",
            "zerolinecolor": "white"
           }
          },
          "shapedefaults": {
           "line": {
            "color": "#2a3f5f"
           }
          },
          "ternary": {
           "aaxis": {
            "gridcolor": "white",
            "linecolor": "white",
            "ticks": ""
           },
           "baxis": {
            "gridcolor": "white",
            "linecolor": "white",
            "ticks": ""
           },
           "bgcolor": "#E5ECF6",
           "caxis": {
            "gridcolor": "white",
            "linecolor": "white",
            "ticks": ""
           }
          },
          "title": {
           "x": 0.05
          },
          "xaxis": {
           "automargin": true,
           "gridcolor": "white",
           "linecolor": "white",
           "ticks": "",
           "title": {
            "standoff": 15
           },
           "zerolinecolor": "white",
           "zerolinewidth": 2
          },
          "yaxis": {
           "automargin": true,
           "gridcolor": "white",
           "linecolor": "white",
           "ticks": "",
           "title": {
            "standoff": 15
           },
           "zerolinecolor": "white",
           "zerolinewidth": 2
          }
         }
        },
        "title": {
         "font": {
          "color": "#4D5663"
         }
        },
        "xaxis": {
         "gridcolor": "#E1E5ED",
         "showgrid": true,
         "tickfont": {
          "color": "#4D5663"
         },
         "title": {
          "font": {
           "color": "#4D5663"
          },
          "text": ""
         },
         "zerolinecolor": "#E1E5ED"
        },
        "yaxis": {
         "gridcolor": "#E1E5ED",
         "showgrid": true,
         "tickfont": {
          "color": "#4D5663"
         },
         "title": {
          "font": {
           "color": "#4D5663"
          },
          "text": ""
         },
         "zerolinecolor": "#E1E5ED"
        }
       }
      },
      "text/html": [
       "<div>                            <div id=\"ff5edcbf-b34b-433d-a5d7-ead7e8767133\" class=\"plotly-graph-div\" style=\"height:525px; width:100%;\"></div>            <script type=\"text/javascript\">                require([\"plotly\"], function(Plotly) {                    window.PLOTLYENV=window.PLOTLYENV || {};\n",
       "                    window.PLOTLYENV.BASE_URL='https://plot.ly';                                    if (document.getElementById(\"ff5edcbf-b34b-433d-a5d7-ead7e8767133\")) {                    Plotly.newPlot(                        \"ff5edcbf-b34b-433d-a5d7-ead7e8767133\",                        [{\"line\":{\"color\":\"rgba(255, 153, 51, 1.0)\",\"dash\":\"solid\",\"shape\":\"linear\",\"width\":1.3},\"mode\":\"lines\",\"name\":\"A\",\"text\":\"\",\"x\":[0,1,2,3,4,5,6,7,8,9,10,11,12,13,14,15,16,17,18,19,20,21,22,23,24,25,26,27,28,29,30,31,32,33,34,35,36,37,38,39,40,41,42,43,44,45,46,47,48,49,50,51,52,53,54,55,56,57,58,59,60,61,62,63,64,65,66,67,68,69,70,71,72,73,74,75,76,77,78,79,80,81,82,83,84,85,86,87,88,89,90,91,92,93,94,95,96,97,98,99],\"y\":[0.512752939029791,-0.3553419617198243,-0.27929092762229374,0.13715381120273906,-0.10561595646288185,-0.1599097109111184,-0.4979472496059992,0.157104113124573,-0.46293873496051735,2.485418431861522,-0.4516734756190726,-1.493458861952407,-0.026482791768084567,-0.2757463899836123,2.241694624786081,-0.5129572406266717,0.15252616393685708,1.3865506913062904,-0.4983345548729902,0.307249958853756,-1.128251054831078,-0.8075072847154674,-0.6363660077137355,-0.3713082499903116,1.0441461790223507,0.3414257868465785,-0.5322617919291063,-1.2591308173815023,0.7009125457086441,0.9967249848203381,0.5553427242848349,-0.1710629029221637,-0.09347269250359294,-0.06269091796217952,-0.8889925758821092,1.0218299933351225,0.8210081659849187,0.44322827056598846,-0.4184786434300998,-0.08940115509505929,0.7269703626378548,0.24703444042561,0.05660618906374495,-0.46715813740333273,0.02946942295050563,-2.0148452428808628,-1.8538320646658921,-0.3354297970013657,1.6395349929699676,1.8490226882208158,-0.1512933010494933,-0.5005603686679456,0.7287108498117928,1.298360623953065,0.05835482274762789,0.05404720881988463,1.6448478378071496,-0.2165273389788695,-0.01089034092055172,-0.6396922580512779,0.1659230506263948,-0.26904140973624013,-0.15555495444472764,0.9466288861187291,0.49900398554713205,-2.175214685296227,0.09718808811786087,2.708148103191192,-0.7877907963975526,-0.0014491244335431606,-0.11955410895494896,-0.012562024727582138,-0.38147657376126753,1.1364951029280372,-0.3185237106734018,-2.2316850554714165,-1.332370837239957,1.1773780023580709,0.02886572654773463,-1.345659142078511,0.8985612990834209,0.7222788050675611,-1.3802880760915244,-1.9585194457414203,-2.1686577556553375,-0.8500871395049288,0.10917120767171398,0.4795289001080743,1.2234004610201688,0.8152430704621533,1.0968304321670168,-1.4067781777797062,0.05849673408436882,0.7533432362097038,0.015432162011626286,-1.2840022615670568,1.0343567428530556,0.6022038052564009,-0.5734790425194495,-0.061518042568631644],\"type\":\"scatter\"},{\"line\":{\"color\":\"rgba(55, 128, 191, 1.0)\",\"dash\":\"solid\",\"shape\":\"linear\",\"width\":1.3},\"mode\":\"lines\",\"name\":\"B\",\"text\":\"\",\"x\":[0,1,2,3,4,5,6,7,8,9,10,11,12,13,14,15,16,17,18,19,20,21,22,23,24,25,26,27,28,29,30,31,32,33,34,35,36,37,38,39,40,41,42,43,44,45,46,47,48,49,50,51,52,53,54,55,56,57,58,59,60,61,62,63,64,65,66,67,68,69,70,71,72,73,74,75,76,77,78,79,80,81,82,83,84,85,86,87,88,89,90,91,92,93,94,95,96,97,98,99],\"y\":[0.9495836228334081,-0.7100194112250915,1.650112399487089,0.7207073489887325,-0.6598783128597964,0.18061985623530957,-0.4113123196925393,-0.8059169160909352,-0.45030841232826324,-0.8649897640802658,1.0102208397481613,-1.0723396880437734,-0.6968940084156565,-0.8645673092942562,2.1955425731858553,-1.8863114244239756,0.8957455972821831,0.678767466446716,-0.8943159560446318,-0.09741963407826157,0.7654188247816236,-0.3061372125342001,0.5819132563211112,-0.8670704822495087,-1.1685354191395143,0.4987062070583795,-1.2664917103538968,-0.0020470918678063186,0.3121952440872714,-0.16072843272068324,0.11875890069643805,0.44986031105381663,-1.2372941389702115,-0.0699148743189868,0.5722458274120602,-0.908423657263562,0.9938975291952103,0.7958846288611234,2.301904816453025,-0.03442714273076457,1.9790174693194467,2.610010540348577,0.32989197333371956,0.8624799408253738,0.1139651001292569,0.4707004527178716,-1.5716325921736916,-0.24216538524890424,1.2948587449311602,2.4104001599038,0.06946876011078847,0.14121954910246642,-1.758843335651598,-0.34023316429089806,-0.615902806569471,0.5258757904723518,0.768142038676994,-0.6217746021507302,0.40561366010531047,0.0611695638678798,-0.13738126847244095,1.0648377553030648,-1.8221199689954444,-0.8653744519128183,0.6777054680280602,2.497494640335452,0.15104718570411105,1.6886883956295087,0.2150663109619358,1.1726393230041428,-0.6033410253786355,-1.1128029280466678,-1.3753978791796673,-1.6083436278421894,0.3251529185534095,-0.23507903877710437,0.6854681379288818,-1.041259674279969,-0.6804639148664574,0.8121246030044645,1.3458243345424477,-0.11174265897113703,0.8968517311317901,1.1561368291141871,0.14505918969787704,-0.18489325889499017,0.28894923373935066,0.9245649933210359,0.09791212574998187,1.735864656117559,1.8020648684561578,1.1660229778070796,1.6705341417911646,0.7029421504635976,-0.09985353358039065,0.6613232704319956,0.7436371685517646,-1.1581864717986816,-0.0517374783828689,0.01597140932841376],\"type\":\"scatter\"},{\"line\":{\"color\":\"rgba(50, 171, 96, 1.0)\",\"dash\":\"solid\",\"shape\":\"linear\",\"width\":1.3},\"mode\":\"lines\",\"name\":\"C\",\"text\":\"\",\"x\":[0,1,2,3,4,5,6,7,8,9,10,11,12,13,14,15,16,17,18,19,20,21,22,23,24,25,26,27,28,29,30,31,32,33,34,35,36,37,38,39,40,41,42,43,44,45,46,47,48,49,50,51,52,53,54,55,56,57,58,59,60,61,62,63,64,65,66,67,68,69,70,71,72,73,74,75,76,77,78,79,80,81,82,83,84,85,86,87,88,89,90,91,92,93,94,95,96,97,98,99],\"y\":[0.647918339125702,-0.6629874159950747,-1.365185908111771,-2.0075225889599912,0.35654496700388316,1.3006874023536812,0.6835665697629982,-0.1401688964319155,-0.5803277472699386,0.6923895199692292,0.11043568798289007,-2.04023863493297,-1.4862374677794092,-0.8038954840842417,-0.4135429899954026,-0.19033116277557574,-0.5832375643284965,-0.7939887159905965,0.6763710647834456,0.622834178952044,0.19795849857076636,0.9230244541099311,0.9102873282566336,-1.578134272455675,2.248498612388913,-0.618276094493357,-1.642332191049332,-0.04954032303581414,1.273426373834263,0.05231784690273851,0.2170359373006094,-0.621871739089189,1.7856015664211622,0.43911657462324843,-1.4061425872715332,-0.32187333746658625,-0.23938813708705242,1.7833946355736527,-0.37324468282187484,-1.0666543693021822,-1.5485146171686575,0.20222191754419228,1.5230706386496686,0.616125792570182,-0.060507670904036276,-1.2248084283541232,-0.044431380557908934,2.2728044609439206,-1.7719469687907905,-0.5033840112064768,0.3851516439195813,-0.46447582205570065,-0.41975194804749727,0.04487714083101872,-2.008098012532532,0.2570531685060416,0.4336246485117831,0.7873621484585646,-0.7858747473947723,-2.249721885545336,0.2608393620754042,-0.35116999546835553,-1.4189477335205365,0.2452825146149802,0.40435417415188973,0.09930232430532347,-1.6741987610616293,0.42798943237457315,1.1160057602750102,-0.08809469183071897,1.0374511726902327,0.8647984505493161,-2.02602321230138,-1.8973360600586375,1.3290420228656905,-0.08532051099166421,-0.1618291189602749,3.36589901332965,0.2853060111168622,1.4909104779129705,2.603046817481854,0.07057420879162299,-0.3349264401219666,-0.27214487332199866,0.11621477136899505,-1.9653993496117967,-0.6532103410624271,0.2363608302426708,0.9248339096229946,1.044452994302072,-0.568127620861377,0.9347943385510102,-1.4674844783936958,-0.6593242696058286,0.33773560085113274,-0.9564585499347026,-1.0816546603266393,-0.0990998967519054,-0.6780371610061101,-0.4661359234137232],\"type\":\"scatter\"},{\"line\":{\"color\":\"rgba(128, 0, 128, 1.0)\",\"dash\":\"solid\",\"shape\":\"linear\",\"width\":1.3},\"mode\":\"lines\",\"name\":\"D\",\"text\":\"\",\"x\":[0,1,2,3,4,5,6,7,8,9,10,11,12,13,14,15,16,17,18,19,20,21,22,23,24,25,26,27,28,29,30,31,32,33,34,35,36,37,38,39,40,41,42,43,44,45,46,47,48,49,50,51,52,53,54,55,56,57,58,59,60,61,62,63,64,65,66,67,68,69,70,71,72,73,74,75,76,77,78,79,80,81,82,83,84,85,86,87,88,89,90,91,92,93,94,95,96,97,98,99],\"y\":[-0.19631981906212687,-0.6519713807353804,-1.0649846722973384,0.2276268403009993,0.7048164209836024,-1.4446783704695936,-2.033750158183124,0.5138908127633827,0.5743634695953264,-1.3657451693518634,0.4637907687699757,1.0844078896291873,-0.8199961871709128,0.7302810084439927,1.1501886667067136,1.4068956037099702,1.508692417359712,-0.122429546415331,-1.2139029828276917,-1.3915936060875007,-0.3238322412559266,1.3434653001668608,-0.5185807775608965,-0.7107820957370212,-0.4464055579970659,-0.9606481511417176,-0.295817297356241,-0.7965590857577352,0.006067325117813681,-0.4809220256345543,1.028630144482865,-0.3991139925170933,0.03907052978298096,1.4539224977284508,1.2368047827803776,1.498742536272704,0.9555284868160445,-0.4319859168096048,0.07204665511014491,0.15138773782731127,-0.0016863454597473644,-0.66704262100987,0.8234927800554659,0.9355289432127771,-0.6529971281881106,1.5998032068698078,-1.158827929365611,-0.04136818612304619,1.0781454686574732,0.21721131798324592,1.534521058113346,-1.750652204012357,0.9872822474417707,-1.197496541939758,-1.0439173878772081,0.09596236413985537,-0.6568654252222857,0.706633110663512,-1.211932613051174,0.671873724489011,-0.3898892118405459,0.9970459716634278,-0.28713960225161106,-0.010341133054459198,-0.9767493981679324,-0.18844975221423968,-0.7820893042608988,-1.8529738370200275,1.4738531760079354,-0.23686088155185786,-0.8470745256434993,-2.05765141244495,0.8174144337022742,-1.4106119727042548,-0.7248926917781047,-0.8969630071984197,-0.6419860011659925,-0.375072540951662,0.17237805217223748,-0.5805831220436499,-1.0090042945869997,-0.360630514240928,0.06712082805980472,-1.0222964654995608,-1.3111878556748808,-0.6265000694373624,-0.45147531022127435,-1.1298686894301744,-1.7403524915989772,-0.20931072894096553,-0.4243133313934241,-0.4252201065654679,-0.9829243053422797,0.6344429869787069,0.4895108597241183,0.9515124340705648,-1.2456264225617408,-0.003231469493402177,-0.4297021911016993,-1.0168190422430656],\"type\":\"scatter\"}],                        {\"legend\":{\"bgcolor\":\"#F5F6F9\",\"font\":{\"color\":\"#4D5663\"}},\"paper_bgcolor\":\"#F5F6F9\",\"plot_bgcolor\":\"#F5F6F9\",\"template\":{\"data\":{\"barpolar\":[{\"marker\":{\"line\":{\"color\":\"#E5ECF6\",\"width\":0.5},\"pattern\":{\"fillmode\":\"overlay\",\"size\":10,\"solidity\":0.2}},\"type\":\"barpolar\"}],\"bar\":[{\"error_x\":{\"color\":\"#2a3f5f\"},\"error_y\":{\"color\":\"#2a3f5f\"},\"marker\":{\"line\":{\"color\":\"#E5ECF6\",\"width\":0.5},\"pattern\":{\"fillmode\":\"overlay\",\"size\":10,\"solidity\":0.2}},\"type\":\"bar\"}],\"carpet\":[{\"aaxis\":{\"endlinecolor\":\"#2a3f5f\",\"gridcolor\":\"white\",\"linecolor\":\"white\",\"minorgridcolor\":\"white\",\"startlinecolor\":\"#2a3f5f\"},\"baxis\":{\"endlinecolor\":\"#2a3f5f\",\"gridcolor\":\"white\",\"linecolor\":\"white\",\"minorgridcolor\":\"white\",\"startlinecolor\":\"#2a3f5f\"},\"type\":\"carpet\"}],\"choropleth\":[{\"colorbar\":{\"outlinewidth\":0,\"ticks\":\"\"},\"type\":\"choropleth\"}],\"contourcarpet\":[{\"colorbar\":{\"outlinewidth\":0,\"ticks\":\"\"},\"type\":\"contourcarpet\"}],\"contour\":[{\"colorbar\":{\"outlinewidth\":0,\"ticks\":\"\"},\"colorscale\":[[0.0,\"#0d0887\"],[0.1111111111111111,\"#46039f\"],[0.2222222222222222,\"#7201a8\"],[0.3333333333333333,\"#9c179e\"],[0.4444444444444444,\"#bd3786\"],[0.5555555555555556,\"#d8576b\"],[0.6666666666666666,\"#ed7953\"],[0.7777777777777778,\"#fb9f3a\"],[0.8888888888888888,\"#fdca26\"],[1.0,\"#f0f921\"]],\"type\":\"contour\"}],\"heatmapgl\":[{\"colorbar\":{\"outlinewidth\":0,\"ticks\":\"\"},\"colorscale\":[[0.0,\"#0d0887\"],[0.1111111111111111,\"#46039f\"],[0.2222222222222222,\"#7201a8\"],[0.3333333333333333,\"#9c179e\"],[0.4444444444444444,\"#bd3786\"],[0.5555555555555556,\"#d8576b\"],[0.6666666666666666,\"#ed7953\"],[0.7777777777777778,\"#fb9f3a\"],[0.8888888888888888,\"#fdca26\"],[1.0,\"#f0f921\"]],\"type\":\"heatmapgl\"}],\"heatmap\":[{\"colorbar\":{\"outlinewidth\":0,\"ticks\":\"\"},\"colorscale\":[[0.0,\"#0d0887\"],[0.1111111111111111,\"#46039f\"],[0.2222222222222222,\"#7201a8\"],[0.3333333333333333,\"#9c179e\"],[0.4444444444444444,\"#bd3786\"],[0.5555555555555556,\"#d8576b\"],[0.6666666666666666,\"#ed7953\"],[0.7777777777777778,\"#fb9f3a\"],[0.8888888888888888,\"#fdca26\"],[1.0,\"#f0f921\"]],\"type\":\"heatmap\"}],\"histogram2dcontour\":[{\"colorbar\":{\"outlinewidth\":0,\"ticks\":\"\"},\"colorscale\":[[0.0,\"#0d0887\"],[0.1111111111111111,\"#46039f\"],[0.2222222222222222,\"#7201a8\"],[0.3333333333333333,\"#9c179e\"],[0.4444444444444444,\"#bd3786\"],[0.5555555555555556,\"#d8576b\"],[0.6666666666666666,\"#ed7953\"],[0.7777777777777778,\"#fb9f3a\"],[0.8888888888888888,\"#fdca26\"],[1.0,\"#f0f921\"]],\"type\":\"histogram2dcontour\"}],\"histogram2d\":[{\"colorbar\":{\"outlinewidth\":0,\"ticks\":\"\"},\"colorscale\":[[0.0,\"#0d0887\"],[0.1111111111111111,\"#46039f\"],[0.2222222222222222,\"#7201a8\"],[0.3333333333333333,\"#9c179e\"],[0.4444444444444444,\"#bd3786\"],[0.5555555555555556,\"#d8576b\"],[0.6666666666666666,\"#ed7953\"],[0.7777777777777778,\"#fb9f3a\"],[0.8888888888888888,\"#fdca26\"],[1.0,\"#f0f921\"]],\"type\":\"histogram2d\"}],\"histogram\":[{\"marker\":{\"pattern\":{\"fillmode\":\"overlay\",\"size\":10,\"solidity\":0.2}},\"type\":\"histogram\"}],\"mesh3d\":[{\"colorbar\":{\"outlinewidth\":0,\"ticks\":\"\"},\"type\":\"mesh3d\"}],\"parcoords\":[{\"line\":{\"colorbar\":{\"outlinewidth\":0,\"ticks\":\"\"}},\"type\":\"parcoords\"}],\"pie\":[{\"automargin\":true,\"type\":\"pie\"}],\"scatter3d\":[{\"line\":{\"colorbar\":{\"outlinewidth\":0,\"ticks\":\"\"}},\"marker\":{\"colorbar\":{\"outlinewidth\":0,\"ticks\":\"\"}},\"type\":\"scatter3d\"}],\"scattercarpet\":[{\"marker\":{\"colorbar\":{\"outlinewidth\":0,\"ticks\":\"\"}},\"type\":\"scattercarpet\"}],\"scattergeo\":[{\"marker\":{\"colorbar\":{\"outlinewidth\":0,\"ticks\":\"\"}},\"type\":\"scattergeo\"}],\"scattergl\":[{\"marker\":{\"colorbar\":{\"outlinewidth\":0,\"ticks\":\"\"}},\"type\":\"scattergl\"}],\"scattermapbox\":[{\"marker\":{\"colorbar\":{\"outlinewidth\":0,\"ticks\":\"\"}},\"type\":\"scattermapbox\"}],\"scatterpolargl\":[{\"marker\":{\"colorbar\":{\"outlinewidth\":0,\"ticks\":\"\"}},\"type\":\"scatterpolargl\"}],\"scatterpolar\":[{\"marker\":{\"colorbar\":{\"outlinewidth\":0,\"ticks\":\"\"}},\"type\":\"scatterpolar\"}],\"scatter\":[{\"fillpattern\":{\"fillmode\":\"overlay\",\"size\":10,\"solidity\":0.2},\"type\":\"scatter\"}],\"scatterternary\":[{\"marker\":{\"colorbar\":{\"outlinewidth\":0,\"ticks\":\"\"}},\"type\":\"scatterternary\"}],\"surface\":[{\"colorbar\":{\"outlinewidth\":0,\"ticks\":\"\"},\"colorscale\":[[0.0,\"#0d0887\"],[0.1111111111111111,\"#46039f\"],[0.2222222222222222,\"#7201a8\"],[0.3333333333333333,\"#9c179e\"],[0.4444444444444444,\"#bd3786\"],[0.5555555555555556,\"#d8576b\"],[0.6666666666666666,\"#ed7953\"],[0.7777777777777778,\"#fb9f3a\"],[0.8888888888888888,\"#fdca26\"],[1.0,\"#f0f921\"]],\"type\":\"surface\"}],\"table\":[{\"cells\":{\"fill\":{\"color\":\"#EBF0F8\"},\"line\":{\"color\":\"white\"}},\"header\":{\"fill\":{\"color\":\"#C8D4E3\"},\"line\":{\"color\":\"white\"}},\"type\":\"table\"}]},\"layout\":{\"annotationdefaults\":{\"arrowcolor\":\"#2a3f5f\",\"arrowhead\":0,\"arrowwidth\":1},\"autotypenumbers\":\"strict\",\"coloraxis\":{\"colorbar\":{\"outlinewidth\":0,\"ticks\":\"\"}},\"colorscale\":{\"diverging\":[[0,\"#8e0152\"],[0.1,\"#c51b7d\"],[0.2,\"#de77ae\"],[0.3,\"#f1b6da\"],[0.4,\"#fde0ef\"],[0.5,\"#f7f7f7\"],[0.6,\"#e6f5d0\"],[0.7,\"#b8e186\"],[0.8,\"#7fbc41\"],[0.9,\"#4d9221\"],[1,\"#276419\"]],\"sequential\":[[0.0,\"#0d0887\"],[0.1111111111111111,\"#46039f\"],[0.2222222222222222,\"#7201a8\"],[0.3333333333333333,\"#9c179e\"],[0.4444444444444444,\"#bd3786\"],[0.5555555555555556,\"#d8576b\"],[0.6666666666666666,\"#ed7953\"],[0.7777777777777778,\"#fb9f3a\"],[0.8888888888888888,\"#fdca26\"],[1.0,\"#f0f921\"]],\"sequentialminus\":[[0.0,\"#0d0887\"],[0.1111111111111111,\"#46039f\"],[0.2222222222222222,\"#7201a8\"],[0.3333333333333333,\"#9c179e\"],[0.4444444444444444,\"#bd3786\"],[0.5555555555555556,\"#d8576b\"],[0.6666666666666666,\"#ed7953\"],[0.7777777777777778,\"#fb9f3a\"],[0.8888888888888888,\"#fdca26\"],[1.0,\"#f0f921\"]]},\"colorway\":[\"#636efa\",\"#EF553B\",\"#00cc96\",\"#ab63fa\",\"#FFA15A\",\"#19d3f3\",\"#FF6692\",\"#B6E880\",\"#FF97FF\",\"#FECB52\"],\"font\":{\"color\":\"#2a3f5f\"},\"geo\":{\"bgcolor\":\"white\",\"lakecolor\":\"white\",\"landcolor\":\"#E5ECF6\",\"showlakes\":true,\"showland\":true,\"subunitcolor\":\"white\"},\"hoverlabel\":{\"align\":\"left\"},\"hovermode\":\"closest\",\"mapbox\":{\"style\":\"light\"},\"paper_bgcolor\":\"white\",\"plot_bgcolor\":\"#E5ECF6\",\"polar\":{\"angularaxis\":{\"gridcolor\":\"white\",\"linecolor\":\"white\",\"ticks\":\"\"},\"bgcolor\":\"#E5ECF6\",\"radialaxis\":{\"gridcolor\":\"white\",\"linecolor\":\"white\",\"ticks\":\"\"}},\"scene\":{\"xaxis\":{\"backgroundcolor\":\"#E5ECF6\",\"gridcolor\":\"white\",\"gridwidth\":2,\"linecolor\":\"white\",\"showbackground\":true,\"ticks\":\"\",\"zerolinecolor\":\"white\"},\"yaxis\":{\"backgroundcolor\":\"#E5ECF6\",\"gridcolor\":\"white\",\"gridwidth\":2,\"linecolor\":\"white\",\"showbackground\":true,\"ticks\":\"\",\"zerolinecolor\":\"white\"},\"zaxis\":{\"backgroundcolor\":\"#E5ECF6\",\"gridcolor\":\"white\",\"gridwidth\":2,\"linecolor\":\"white\",\"showbackground\":true,\"ticks\":\"\",\"zerolinecolor\":\"white\"}},\"shapedefaults\":{\"line\":{\"color\":\"#2a3f5f\"}},\"ternary\":{\"aaxis\":{\"gridcolor\":\"white\",\"linecolor\":\"white\",\"ticks\":\"\"},\"baxis\":{\"gridcolor\":\"white\",\"linecolor\":\"white\",\"ticks\":\"\"},\"bgcolor\":\"#E5ECF6\",\"caxis\":{\"gridcolor\":\"white\",\"linecolor\":\"white\",\"ticks\":\"\"}},\"title\":{\"x\":0.05},\"xaxis\":{\"automargin\":true,\"gridcolor\":\"white\",\"linecolor\":\"white\",\"ticks\":\"\",\"title\":{\"standoff\":15},\"zerolinecolor\":\"white\",\"zerolinewidth\":2},\"yaxis\":{\"automargin\":true,\"gridcolor\":\"white\",\"linecolor\":\"white\",\"ticks\":\"\",\"title\":{\"standoff\":15},\"zerolinecolor\":\"white\",\"zerolinewidth\":2}}},\"title\":{\"font\":{\"color\":\"#4D5663\"}},\"xaxis\":{\"gridcolor\":\"#E1E5ED\",\"showgrid\":true,\"tickfont\":{\"color\":\"#4D5663\"},\"title\":{\"font\":{\"color\":\"#4D5663\"},\"text\":\"\"},\"zerolinecolor\":\"#E1E5ED\"},\"yaxis\":{\"gridcolor\":\"#E1E5ED\",\"showgrid\":true,\"tickfont\":{\"color\":\"#4D5663\"},\"title\":{\"font\":{\"color\":\"#4D5663\"},\"text\":\"\"},\"zerolinecolor\":\"#E1E5ED\"}},                        {\"showLink\": true, \"linkText\": \"Export to plot.ly\", \"plotlyServerURL\": \"https://plot.ly\", \"responsive\": true}                    ).then(function(){\n",
       "                            \n",
       "var gd = document.getElementById('ff5edcbf-b34b-433d-a5d7-ead7e8767133');\n",
       "var x = new MutationObserver(function (mutations, observer) {{\n",
       "        var display = window.getComputedStyle(gd).display;\n",
       "        if (!display || display === 'none') {{\n",
       "            console.log([gd, 'removed!']);\n",
       "            Plotly.purge(gd);\n",
       "            observer.disconnect();\n",
       "        }}\n",
       "}});\n",
       "\n",
       "// Listen for the removal of the full notebook cells\n",
       "var notebookContainer = gd.closest('#notebook-container');\n",
       "if (notebookContainer) {{\n",
       "    x.observe(notebookContainer, {childList: true});\n",
       "}}\n",
       "\n",
       "// Listen for the clearing of the current output cell\n",
       "var outputEl = gd.closest('.output');\n",
       "if (outputEl) {{\n",
       "    x.observe(outputEl, {childList: true});\n",
       "}}\n",
       "\n",
       "                        })                };                });            </script>        </div>"
      ]
     },
     "metadata": {},
     "output_type": "display_data"
    }
   ],
   "source": [
    "df1.iplot()"
   ]
  },
  {
   "cell_type": "code",
   "execution_count": 6,
   "id": "720d6d2e",
   "metadata": {},
   "outputs": [
    {
     "data": {
      "application/vnd.plotly.v1+json": {
       "config": {
        "linkText": "Export to plot.ly",
        "plotlyServerURL": "https://plot.ly",
        "showLink": true
       },
       "data": [
        {
         "line": {
          "color": "rgba(255, 153, 51, 1.0)",
          "dash": "solid",
          "shape": "linear",
          "width": 1.3
         },
         "marker": {
          "size": 12,
          "symbol": "circle"
         },
         "mode": "markers",
         "name": "B",
         "text": "",
         "type": "scatter",
         "x": [
          0.512752939029791,
          -0.3553419617198243,
          -0.27929092762229374,
          0.13715381120273906,
          -0.10561595646288185,
          -0.1599097109111184,
          -0.4979472496059992,
          0.157104113124573,
          -0.46293873496051735,
          2.485418431861522,
          -0.4516734756190726,
          -1.493458861952407,
          -0.026482791768084567,
          -0.2757463899836123,
          2.241694624786081,
          -0.5129572406266717,
          0.15252616393685708,
          1.3865506913062904,
          -0.4983345548729902,
          0.307249958853756,
          -1.128251054831078,
          -0.8075072847154674,
          -0.6363660077137355,
          -0.3713082499903116,
          1.0441461790223507,
          0.3414257868465785,
          -0.5322617919291063,
          -1.2591308173815023,
          0.7009125457086441,
          0.9967249848203381,
          0.5553427242848349,
          -0.1710629029221637,
          -0.09347269250359294,
          -0.06269091796217952,
          -0.8889925758821092,
          1.0218299933351225,
          0.8210081659849187,
          0.44322827056598846,
          -0.4184786434300998,
          -0.08940115509505929,
          0.7269703626378548,
          0.24703444042561,
          0.05660618906374495,
          -0.46715813740333273,
          0.02946942295050563,
          -2.0148452428808628,
          -1.8538320646658921,
          -0.3354297970013657,
          1.6395349929699676,
          1.8490226882208158,
          -0.1512933010494933,
          -0.5005603686679456,
          0.7287108498117928,
          1.298360623953065,
          0.05835482274762789,
          0.05404720881988463,
          1.6448478378071496,
          -0.2165273389788695,
          -0.01089034092055172,
          -0.6396922580512779,
          0.1659230506263948,
          -0.26904140973624013,
          -0.15555495444472764,
          0.9466288861187291,
          0.49900398554713205,
          -2.175214685296227,
          0.09718808811786087,
          2.708148103191192,
          -0.7877907963975526,
          -0.0014491244335431606,
          -0.11955410895494896,
          -0.012562024727582138,
          -0.38147657376126753,
          1.1364951029280372,
          -0.3185237106734018,
          -2.2316850554714165,
          -1.332370837239957,
          1.1773780023580709,
          0.02886572654773463,
          -1.345659142078511,
          0.8985612990834209,
          0.7222788050675611,
          -1.3802880760915244,
          -1.9585194457414203,
          -2.1686577556553375,
          -0.8500871395049288,
          0.10917120767171398,
          0.4795289001080743,
          1.2234004610201688,
          0.8152430704621533,
          1.0968304321670168,
          -1.4067781777797062,
          0.05849673408436882,
          0.7533432362097038,
          0.015432162011626286,
          -1.2840022615670568,
          1.0343567428530556,
          0.6022038052564009,
          -0.5734790425194495,
          -0.061518042568631644
         ],
         "y": [
          0.9495836228334081,
          -0.7100194112250915,
          1.650112399487089,
          0.7207073489887325,
          -0.6598783128597964,
          0.18061985623530957,
          -0.4113123196925393,
          -0.8059169160909352,
          -0.45030841232826324,
          -0.8649897640802658,
          1.0102208397481613,
          -1.0723396880437734,
          -0.6968940084156565,
          -0.8645673092942562,
          2.1955425731858553,
          -1.8863114244239756,
          0.8957455972821831,
          0.678767466446716,
          -0.8943159560446318,
          -0.09741963407826157,
          0.7654188247816236,
          -0.3061372125342001,
          0.5819132563211112,
          -0.8670704822495087,
          -1.1685354191395143,
          0.4987062070583795,
          -1.2664917103538968,
          -0.0020470918678063186,
          0.3121952440872714,
          -0.16072843272068324,
          0.11875890069643805,
          0.44986031105381663,
          -1.2372941389702115,
          -0.0699148743189868,
          0.5722458274120602,
          -0.908423657263562,
          0.9938975291952103,
          0.7958846288611234,
          2.301904816453025,
          -0.03442714273076457,
          1.9790174693194467,
          2.610010540348577,
          0.32989197333371956,
          0.8624799408253738,
          0.1139651001292569,
          0.4707004527178716,
          -1.5716325921736916,
          -0.24216538524890424,
          1.2948587449311602,
          2.4104001599038,
          0.06946876011078847,
          0.14121954910246642,
          -1.758843335651598,
          -0.34023316429089806,
          -0.615902806569471,
          0.5258757904723518,
          0.768142038676994,
          -0.6217746021507302,
          0.40561366010531047,
          0.0611695638678798,
          -0.13738126847244095,
          1.0648377553030648,
          -1.8221199689954444,
          -0.8653744519128183,
          0.6777054680280602,
          2.497494640335452,
          0.15104718570411105,
          1.6886883956295087,
          0.2150663109619358,
          1.1726393230041428,
          -0.6033410253786355,
          -1.1128029280466678,
          -1.3753978791796673,
          -1.6083436278421894,
          0.3251529185534095,
          -0.23507903877710437,
          0.6854681379288818,
          -1.041259674279969,
          -0.6804639148664574,
          0.8121246030044645,
          1.3458243345424477,
          -0.11174265897113703,
          0.8968517311317901,
          1.1561368291141871,
          0.14505918969787704,
          -0.18489325889499017,
          0.28894923373935066,
          0.9245649933210359,
          0.09791212574998187,
          1.735864656117559,
          1.8020648684561578,
          1.1660229778070796,
          1.6705341417911646,
          0.7029421504635976,
          -0.09985353358039065,
          0.6613232704319956,
          0.7436371685517646,
          -1.1581864717986816,
          -0.0517374783828689,
          0.01597140932841376
         ]
        }
       ],
       "layout": {
        "legend": {
         "bgcolor": "#F5F6F9",
         "font": {
          "color": "#4D5663"
         }
        },
        "paper_bgcolor": "#F5F6F9",
        "plot_bgcolor": "#F5F6F9",
        "template": {
         "data": {
          "bar": [
           {
            "error_x": {
             "color": "#2a3f5f"
            },
            "error_y": {
             "color": "#2a3f5f"
            },
            "marker": {
             "line": {
              "color": "#E5ECF6",
              "width": 0.5
             },
             "pattern": {
              "fillmode": "overlay",
              "size": 10,
              "solidity": 0.2
             }
            },
            "type": "bar"
           }
          ],
          "barpolar": [
           {
            "marker": {
             "line": {
              "color": "#E5ECF6",
              "width": 0.5
             },
             "pattern": {
              "fillmode": "overlay",
              "size": 10,
              "solidity": 0.2
             }
            },
            "type": "barpolar"
           }
          ],
          "carpet": [
           {
            "aaxis": {
             "endlinecolor": "#2a3f5f",
             "gridcolor": "white",
             "linecolor": "white",
             "minorgridcolor": "white",
             "startlinecolor": "#2a3f5f"
            },
            "baxis": {
             "endlinecolor": "#2a3f5f",
             "gridcolor": "white",
             "linecolor": "white",
             "minorgridcolor": "white",
             "startlinecolor": "#2a3f5f"
            },
            "type": "carpet"
           }
          ],
          "choropleth": [
           {
            "colorbar": {
             "outlinewidth": 0,
             "ticks": ""
            },
            "type": "choropleth"
           }
          ],
          "contour": [
           {
            "colorbar": {
             "outlinewidth": 0,
             "ticks": ""
            },
            "colorscale": [
             [
              0,
              "#0d0887"
             ],
             [
              0.1111111111111111,
              "#46039f"
             ],
             [
              0.2222222222222222,
              "#7201a8"
             ],
             [
              0.3333333333333333,
              "#9c179e"
             ],
             [
              0.4444444444444444,
              "#bd3786"
             ],
             [
              0.5555555555555556,
              "#d8576b"
             ],
             [
              0.6666666666666666,
              "#ed7953"
             ],
             [
              0.7777777777777778,
              "#fb9f3a"
             ],
             [
              0.8888888888888888,
              "#fdca26"
             ],
             [
              1,
              "#f0f921"
             ]
            ],
            "type": "contour"
           }
          ],
          "contourcarpet": [
           {
            "colorbar": {
             "outlinewidth": 0,
             "ticks": ""
            },
            "type": "contourcarpet"
           }
          ],
          "heatmap": [
           {
            "colorbar": {
             "outlinewidth": 0,
             "ticks": ""
            },
            "colorscale": [
             [
              0,
              "#0d0887"
             ],
             [
              0.1111111111111111,
              "#46039f"
             ],
             [
              0.2222222222222222,
              "#7201a8"
             ],
             [
              0.3333333333333333,
              "#9c179e"
             ],
             [
              0.4444444444444444,
              "#bd3786"
             ],
             [
              0.5555555555555556,
              "#d8576b"
             ],
             [
              0.6666666666666666,
              "#ed7953"
             ],
             [
              0.7777777777777778,
              "#fb9f3a"
             ],
             [
              0.8888888888888888,
              "#fdca26"
             ],
             [
              1,
              "#f0f921"
             ]
            ],
            "type": "heatmap"
           }
          ],
          "heatmapgl": [
           {
            "colorbar": {
             "outlinewidth": 0,
             "ticks": ""
            },
            "colorscale": [
             [
              0,
              "#0d0887"
             ],
             [
              0.1111111111111111,
              "#46039f"
             ],
             [
              0.2222222222222222,
              "#7201a8"
             ],
             [
              0.3333333333333333,
              "#9c179e"
             ],
             [
              0.4444444444444444,
              "#bd3786"
             ],
             [
              0.5555555555555556,
              "#d8576b"
             ],
             [
              0.6666666666666666,
              "#ed7953"
             ],
             [
              0.7777777777777778,
              "#fb9f3a"
             ],
             [
              0.8888888888888888,
              "#fdca26"
             ],
             [
              1,
              "#f0f921"
             ]
            ],
            "type": "heatmapgl"
           }
          ],
          "histogram": [
           {
            "marker": {
             "pattern": {
              "fillmode": "overlay",
              "size": 10,
              "solidity": 0.2
             }
            },
            "type": "histogram"
           }
          ],
          "histogram2d": [
           {
            "colorbar": {
             "outlinewidth": 0,
             "ticks": ""
            },
            "colorscale": [
             [
              0,
              "#0d0887"
             ],
             [
              0.1111111111111111,
              "#46039f"
             ],
             [
              0.2222222222222222,
              "#7201a8"
             ],
             [
              0.3333333333333333,
              "#9c179e"
             ],
             [
              0.4444444444444444,
              "#bd3786"
             ],
             [
              0.5555555555555556,
              "#d8576b"
             ],
             [
              0.6666666666666666,
              "#ed7953"
             ],
             [
              0.7777777777777778,
              "#fb9f3a"
             ],
             [
              0.8888888888888888,
              "#fdca26"
             ],
             [
              1,
              "#f0f921"
             ]
            ],
            "type": "histogram2d"
           }
          ],
          "histogram2dcontour": [
           {
            "colorbar": {
             "outlinewidth": 0,
             "ticks": ""
            },
            "colorscale": [
             [
              0,
              "#0d0887"
             ],
             [
              0.1111111111111111,
              "#46039f"
             ],
             [
              0.2222222222222222,
              "#7201a8"
             ],
             [
              0.3333333333333333,
              "#9c179e"
             ],
             [
              0.4444444444444444,
              "#bd3786"
             ],
             [
              0.5555555555555556,
              "#d8576b"
             ],
             [
              0.6666666666666666,
              "#ed7953"
             ],
             [
              0.7777777777777778,
              "#fb9f3a"
             ],
             [
              0.8888888888888888,
              "#fdca26"
             ],
             [
              1,
              "#f0f921"
             ]
            ],
            "type": "histogram2dcontour"
           }
          ],
          "mesh3d": [
           {
            "colorbar": {
             "outlinewidth": 0,
             "ticks": ""
            },
            "type": "mesh3d"
           }
          ],
          "parcoords": [
           {
            "line": {
             "colorbar": {
              "outlinewidth": 0,
              "ticks": ""
             }
            },
            "type": "parcoords"
           }
          ],
          "pie": [
           {
            "automargin": true,
            "type": "pie"
           }
          ],
          "scatter": [
           {
            "fillpattern": {
             "fillmode": "overlay",
             "size": 10,
             "solidity": 0.2
            },
            "type": "scatter"
           }
          ],
          "scatter3d": [
           {
            "line": {
             "colorbar": {
              "outlinewidth": 0,
              "ticks": ""
             }
            },
            "marker": {
             "colorbar": {
              "outlinewidth": 0,
              "ticks": ""
             }
            },
            "type": "scatter3d"
           }
          ],
          "scattercarpet": [
           {
            "marker": {
             "colorbar": {
              "outlinewidth": 0,
              "ticks": ""
             }
            },
            "type": "scattercarpet"
           }
          ],
          "scattergeo": [
           {
            "marker": {
             "colorbar": {
              "outlinewidth": 0,
              "ticks": ""
             }
            },
            "type": "scattergeo"
           }
          ],
          "scattergl": [
           {
            "marker": {
             "colorbar": {
              "outlinewidth": 0,
              "ticks": ""
             }
            },
            "type": "scattergl"
           }
          ],
          "scattermapbox": [
           {
            "marker": {
             "colorbar": {
              "outlinewidth": 0,
              "ticks": ""
             }
            },
            "type": "scattermapbox"
           }
          ],
          "scatterpolar": [
           {
            "marker": {
             "colorbar": {
              "outlinewidth": 0,
              "ticks": ""
             }
            },
            "type": "scatterpolar"
           }
          ],
          "scatterpolargl": [
           {
            "marker": {
             "colorbar": {
              "outlinewidth": 0,
              "ticks": ""
             }
            },
            "type": "scatterpolargl"
           }
          ],
          "scatterternary": [
           {
            "marker": {
             "colorbar": {
              "outlinewidth": 0,
              "ticks": ""
             }
            },
            "type": "scatterternary"
           }
          ],
          "surface": [
           {
            "colorbar": {
             "outlinewidth": 0,
             "ticks": ""
            },
            "colorscale": [
             [
              0,
              "#0d0887"
             ],
             [
              0.1111111111111111,
              "#46039f"
             ],
             [
              0.2222222222222222,
              "#7201a8"
             ],
             [
              0.3333333333333333,
              "#9c179e"
             ],
             [
              0.4444444444444444,
              "#bd3786"
             ],
             [
              0.5555555555555556,
              "#d8576b"
             ],
             [
              0.6666666666666666,
              "#ed7953"
             ],
             [
              0.7777777777777778,
              "#fb9f3a"
             ],
             [
              0.8888888888888888,
              "#fdca26"
             ],
             [
              1,
              "#f0f921"
             ]
            ],
            "type": "surface"
           }
          ],
          "table": [
           {
            "cells": {
             "fill": {
              "color": "#EBF0F8"
             },
             "line": {
              "color": "white"
             }
            },
            "header": {
             "fill": {
              "color": "#C8D4E3"
             },
             "line": {
              "color": "white"
             }
            },
            "type": "table"
           }
          ]
         },
         "layout": {
          "annotationdefaults": {
           "arrowcolor": "#2a3f5f",
           "arrowhead": 0,
           "arrowwidth": 1
          },
          "autotypenumbers": "strict",
          "coloraxis": {
           "colorbar": {
            "outlinewidth": 0,
            "ticks": ""
           }
          },
          "colorscale": {
           "diverging": [
            [
             0,
             "#8e0152"
            ],
            [
             0.1,
             "#c51b7d"
            ],
            [
             0.2,
             "#de77ae"
            ],
            [
             0.3,
             "#f1b6da"
            ],
            [
             0.4,
             "#fde0ef"
            ],
            [
             0.5,
             "#f7f7f7"
            ],
            [
             0.6,
             "#e6f5d0"
            ],
            [
             0.7,
             "#b8e186"
            ],
            [
             0.8,
             "#7fbc41"
            ],
            [
             0.9,
             "#4d9221"
            ],
            [
             1,
             "#276419"
            ]
           ],
           "sequential": [
            [
             0,
             "#0d0887"
            ],
            [
             0.1111111111111111,
             "#46039f"
            ],
            [
             0.2222222222222222,
             "#7201a8"
            ],
            [
             0.3333333333333333,
             "#9c179e"
            ],
            [
             0.4444444444444444,
             "#bd3786"
            ],
            [
             0.5555555555555556,
             "#d8576b"
            ],
            [
             0.6666666666666666,
             "#ed7953"
            ],
            [
             0.7777777777777778,
             "#fb9f3a"
            ],
            [
             0.8888888888888888,
             "#fdca26"
            ],
            [
             1,
             "#f0f921"
            ]
           ],
           "sequentialminus": [
            [
             0,
             "#0d0887"
            ],
            [
             0.1111111111111111,
             "#46039f"
            ],
            [
             0.2222222222222222,
             "#7201a8"
            ],
            [
             0.3333333333333333,
             "#9c179e"
            ],
            [
             0.4444444444444444,
             "#bd3786"
            ],
            [
             0.5555555555555556,
             "#d8576b"
            ],
            [
             0.6666666666666666,
             "#ed7953"
            ],
            [
             0.7777777777777778,
             "#fb9f3a"
            ],
            [
             0.8888888888888888,
             "#fdca26"
            ],
            [
             1,
             "#f0f921"
            ]
           ]
          },
          "colorway": [
           "#636efa",
           "#EF553B",
           "#00cc96",
           "#ab63fa",
           "#FFA15A",
           "#19d3f3",
           "#FF6692",
           "#B6E880",
           "#FF97FF",
           "#FECB52"
          ],
          "font": {
           "color": "#2a3f5f"
          },
          "geo": {
           "bgcolor": "white",
           "lakecolor": "white",
           "landcolor": "#E5ECF6",
           "showlakes": true,
           "showland": true,
           "subunitcolor": "white"
          },
          "hoverlabel": {
           "align": "left"
          },
          "hovermode": "closest",
          "mapbox": {
           "style": "light"
          },
          "paper_bgcolor": "white",
          "plot_bgcolor": "#E5ECF6",
          "polar": {
           "angularaxis": {
            "gridcolor": "white",
            "linecolor": "white",
            "ticks": ""
           },
           "bgcolor": "#E5ECF6",
           "radialaxis": {
            "gridcolor": "white",
            "linecolor": "white",
            "ticks": ""
           }
          },
          "scene": {
           "xaxis": {
            "backgroundcolor": "#E5ECF6",
            "gridcolor": "white",
            "gridwidth": 2,
            "linecolor": "white",
            "showbackground": true,
            "ticks": "",
            "zerolinecolor": "white"
           },
           "yaxis": {
            "backgroundcolor": "#E5ECF6",
            "gridcolor": "white",
            "gridwidth": 2,
            "linecolor": "white",
            "showbackground": true,
            "ticks": "",
            "zerolinecolor": "white"
           },
           "zaxis": {
            "backgroundcolor": "#E5ECF6",
            "gridcolor": "white",
            "gridwidth": 2,
            "linecolor": "white",
            "showbackground": true,
            "ticks": "",
            "zerolinecolor": "white"
           }
          },
          "shapedefaults": {
           "line": {
            "color": "#2a3f5f"
           }
          },
          "ternary": {
           "aaxis": {
            "gridcolor": "white",
            "linecolor": "white",
            "ticks": ""
           },
           "baxis": {
            "gridcolor": "white",
            "linecolor": "white",
            "ticks": ""
           },
           "bgcolor": "#E5ECF6",
           "caxis": {
            "gridcolor": "white",
            "linecolor": "white",
            "ticks": ""
           }
          },
          "title": {
           "x": 0.05
          },
          "xaxis": {
           "automargin": true,
           "gridcolor": "white",
           "linecolor": "white",
           "ticks": "",
           "title": {
            "standoff": 15
           },
           "zerolinecolor": "white",
           "zerolinewidth": 2
          },
          "yaxis": {
           "automargin": true,
           "gridcolor": "white",
           "linecolor": "white",
           "ticks": "",
           "title": {
            "standoff": 15
           },
           "zerolinecolor": "white",
           "zerolinewidth": 2
          }
         }
        },
        "title": {
         "font": {
          "color": "#4D5663"
         }
        },
        "xaxis": {
         "gridcolor": "#E1E5ED",
         "showgrid": true,
         "tickfont": {
          "color": "#4D5663"
         },
         "title": {
          "font": {
           "color": "#4D5663"
          },
          "text": ""
         },
         "zerolinecolor": "#E1E5ED"
        },
        "yaxis": {
         "gridcolor": "#E1E5ED",
         "showgrid": true,
         "tickfont": {
          "color": "#4D5663"
         },
         "title": {
          "font": {
           "color": "#4D5663"
          },
          "text": ""
         },
         "zerolinecolor": "#E1E5ED"
        }
       }
      },
      "text/html": [
       "<div>                            <div id=\"84bef2a3-5479-465e-83e6-d63781df5501\" class=\"plotly-graph-div\" style=\"height:525px; width:100%;\"></div>            <script type=\"text/javascript\">                require([\"plotly\"], function(Plotly) {                    window.PLOTLYENV=window.PLOTLYENV || {};\n",
       "                    window.PLOTLYENV.BASE_URL='https://plot.ly';                                    if (document.getElementById(\"84bef2a3-5479-465e-83e6-d63781df5501\")) {                    Plotly.newPlot(                        \"84bef2a3-5479-465e-83e6-d63781df5501\",                        [{\"line\":{\"color\":\"rgba(255, 153, 51, 1.0)\",\"dash\":\"solid\",\"shape\":\"linear\",\"width\":1.3},\"marker\":{\"size\":12,\"symbol\":\"circle\"},\"mode\":\"markers\",\"name\":\"B\",\"text\":\"\",\"x\":[0.512752939029791,-0.3553419617198243,-0.27929092762229374,0.13715381120273906,-0.10561595646288185,-0.1599097109111184,-0.4979472496059992,0.157104113124573,-0.46293873496051735,2.485418431861522,-0.4516734756190726,-1.493458861952407,-0.026482791768084567,-0.2757463899836123,2.241694624786081,-0.5129572406266717,0.15252616393685708,1.3865506913062904,-0.4983345548729902,0.307249958853756,-1.128251054831078,-0.8075072847154674,-0.6363660077137355,-0.3713082499903116,1.0441461790223507,0.3414257868465785,-0.5322617919291063,-1.2591308173815023,0.7009125457086441,0.9967249848203381,0.5553427242848349,-0.1710629029221637,-0.09347269250359294,-0.06269091796217952,-0.8889925758821092,1.0218299933351225,0.8210081659849187,0.44322827056598846,-0.4184786434300998,-0.08940115509505929,0.7269703626378548,0.24703444042561,0.05660618906374495,-0.46715813740333273,0.02946942295050563,-2.0148452428808628,-1.8538320646658921,-0.3354297970013657,1.6395349929699676,1.8490226882208158,-0.1512933010494933,-0.5005603686679456,0.7287108498117928,1.298360623953065,0.05835482274762789,0.05404720881988463,1.6448478378071496,-0.2165273389788695,-0.01089034092055172,-0.6396922580512779,0.1659230506263948,-0.26904140973624013,-0.15555495444472764,0.9466288861187291,0.49900398554713205,-2.175214685296227,0.09718808811786087,2.708148103191192,-0.7877907963975526,-0.0014491244335431606,-0.11955410895494896,-0.012562024727582138,-0.38147657376126753,1.1364951029280372,-0.3185237106734018,-2.2316850554714165,-1.332370837239957,1.1773780023580709,0.02886572654773463,-1.345659142078511,0.8985612990834209,0.7222788050675611,-1.3802880760915244,-1.9585194457414203,-2.1686577556553375,-0.8500871395049288,0.10917120767171398,0.4795289001080743,1.2234004610201688,0.8152430704621533,1.0968304321670168,-1.4067781777797062,0.05849673408436882,0.7533432362097038,0.015432162011626286,-1.2840022615670568,1.0343567428530556,0.6022038052564009,-0.5734790425194495,-0.061518042568631644],\"y\":[0.9495836228334081,-0.7100194112250915,1.650112399487089,0.7207073489887325,-0.6598783128597964,0.18061985623530957,-0.4113123196925393,-0.8059169160909352,-0.45030841232826324,-0.8649897640802658,1.0102208397481613,-1.0723396880437734,-0.6968940084156565,-0.8645673092942562,2.1955425731858553,-1.8863114244239756,0.8957455972821831,0.678767466446716,-0.8943159560446318,-0.09741963407826157,0.7654188247816236,-0.3061372125342001,0.5819132563211112,-0.8670704822495087,-1.1685354191395143,0.4987062070583795,-1.2664917103538968,-0.0020470918678063186,0.3121952440872714,-0.16072843272068324,0.11875890069643805,0.44986031105381663,-1.2372941389702115,-0.0699148743189868,0.5722458274120602,-0.908423657263562,0.9938975291952103,0.7958846288611234,2.301904816453025,-0.03442714273076457,1.9790174693194467,2.610010540348577,0.32989197333371956,0.8624799408253738,0.1139651001292569,0.4707004527178716,-1.5716325921736916,-0.24216538524890424,1.2948587449311602,2.4104001599038,0.06946876011078847,0.14121954910246642,-1.758843335651598,-0.34023316429089806,-0.615902806569471,0.5258757904723518,0.768142038676994,-0.6217746021507302,0.40561366010531047,0.0611695638678798,-0.13738126847244095,1.0648377553030648,-1.8221199689954444,-0.8653744519128183,0.6777054680280602,2.497494640335452,0.15104718570411105,1.6886883956295087,0.2150663109619358,1.1726393230041428,-0.6033410253786355,-1.1128029280466678,-1.3753978791796673,-1.6083436278421894,0.3251529185534095,-0.23507903877710437,0.6854681379288818,-1.041259674279969,-0.6804639148664574,0.8121246030044645,1.3458243345424477,-0.11174265897113703,0.8968517311317901,1.1561368291141871,0.14505918969787704,-0.18489325889499017,0.28894923373935066,0.9245649933210359,0.09791212574998187,1.735864656117559,1.8020648684561578,1.1660229778070796,1.6705341417911646,0.7029421504635976,-0.09985353358039065,0.6613232704319956,0.7436371685517646,-1.1581864717986816,-0.0517374783828689,0.01597140932841376],\"type\":\"scatter\"}],                        {\"legend\":{\"bgcolor\":\"#F5F6F9\",\"font\":{\"color\":\"#4D5663\"}},\"paper_bgcolor\":\"#F5F6F9\",\"plot_bgcolor\":\"#F5F6F9\",\"template\":{\"data\":{\"barpolar\":[{\"marker\":{\"line\":{\"color\":\"#E5ECF6\",\"width\":0.5},\"pattern\":{\"fillmode\":\"overlay\",\"size\":10,\"solidity\":0.2}},\"type\":\"barpolar\"}],\"bar\":[{\"error_x\":{\"color\":\"#2a3f5f\"},\"error_y\":{\"color\":\"#2a3f5f\"},\"marker\":{\"line\":{\"color\":\"#E5ECF6\",\"width\":0.5},\"pattern\":{\"fillmode\":\"overlay\",\"size\":10,\"solidity\":0.2}},\"type\":\"bar\"}],\"carpet\":[{\"aaxis\":{\"endlinecolor\":\"#2a3f5f\",\"gridcolor\":\"white\",\"linecolor\":\"white\",\"minorgridcolor\":\"white\",\"startlinecolor\":\"#2a3f5f\"},\"baxis\":{\"endlinecolor\":\"#2a3f5f\",\"gridcolor\":\"white\",\"linecolor\":\"white\",\"minorgridcolor\":\"white\",\"startlinecolor\":\"#2a3f5f\"},\"type\":\"carpet\"}],\"choropleth\":[{\"colorbar\":{\"outlinewidth\":0,\"ticks\":\"\"},\"type\":\"choropleth\"}],\"contourcarpet\":[{\"colorbar\":{\"outlinewidth\":0,\"ticks\":\"\"},\"type\":\"contourcarpet\"}],\"contour\":[{\"colorbar\":{\"outlinewidth\":0,\"ticks\":\"\"},\"colorscale\":[[0.0,\"#0d0887\"],[0.1111111111111111,\"#46039f\"],[0.2222222222222222,\"#7201a8\"],[0.3333333333333333,\"#9c179e\"],[0.4444444444444444,\"#bd3786\"],[0.5555555555555556,\"#d8576b\"],[0.6666666666666666,\"#ed7953\"],[0.7777777777777778,\"#fb9f3a\"],[0.8888888888888888,\"#fdca26\"],[1.0,\"#f0f921\"]],\"type\":\"contour\"}],\"heatmapgl\":[{\"colorbar\":{\"outlinewidth\":0,\"ticks\":\"\"},\"colorscale\":[[0.0,\"#0d0887\"],[0.1111111111111111,\"#46039f\"],[0.2222222222222222,\"#7201a8\"],[0.3333333333333333,\"#9c179e\"],[0.4444444444444444,\"#bd3786\"],[0.5555555555555556,\"#d8576b\"],[0.6666666666666666,\"#ed7953\"],[0.7777777777777778,\"#fb9f3a\"],[0.8888888888888888,\"#fdca26\"],[1.0,\"#f0f921\"]],\"type\":\"heatmapgl\"}],\"heatmap\":[{\"colorbar\":{\"outlinewidth\":0,\"ticks\":\"\"},\"colorscale\":[[0.0,\"#0d0887\"],[0.1111111111111111,\"#46039f\"],[0.2222222222222222,\"#7201a8\"],[0.3333333333333333,\"#9c179e\"],[0.4444444444444444,\"#bd3786\"],[0.5555555555555556,\"#d8576b\"],[0.6666666666666666,\"#ed7953\"],[0.7777777777777778,\"#fb9f3a\"],[0.8888888888888888,\"#fdca26\"],[1.0,\"#f0f921\"]],\"type\":\"heatmap\"}],\"histogram2dcontour\":[{\"colorbar\":{\"outlinewidth\":0,\"ticks\":\"\"},\"colorscale\":[[0.0,\"#0d0887\"],[0.1111111111111111,\"#46039f\"],[0.2222222222222222,\"#7201a8\"],[0.3333333333333333,\"#9c179e\"],[0.4444444444444444,\"#bd3786\"],[0.5555555555555556,\"#d8576b\"],[0.6666666666666666,\"#ed7953\"],[0.7777777777777778,\"#fb9f3a\"],[0.8888888888888888,\"#fdca26\"],[1.0,\"#f0f921\"]],\"type\":\"histogram2dcontour\"}],\"histogram2d\":[{\"colorbar\":{\"outlinewidth\":0,\"ticks\":\"\"},\"colorscale\":[[0.0,\"#0d0887\"],[0.1111111111111111,\"#46039f\"],[0.2222222222222222,\"#7201a8\"],[0.3333333333333333,\"#9c179e\"],[0.4444444444444444,\"#bd3786\"],[0.5555555555555556,\"#d8576b\"],[0.6666666666666666,\"#ed7953\"],[0.7777777777777778,\"#fb9f3a\"],[0.8888888888888888,\"#fdca26\"],[1.0,\"#f0f921\"]],\"type\":\"histogram2d\"}],\"histogram\":[{\"marker\":{\"pattern\":{\"fillmode\":\"overlay\",\"size\":10,\"solidity\":0.2}},\"type\":\"histogram\"}],\"mesh3d\":[{\"colorbar\":{\"outlinewidth\":0,\"ticks\":\"\"},\"type\":\"mesh3d\"}],\"parcoords\":[{\"line\":{\"colorbar\":{\"outlinewidth\":0,\"ticks\":\"\"}},\"type\":\"parcoords\"}],\"pie\":[{\"automargin\":true,\"type\":\"pie\"}],\"scatter3d\":[{\"line\":{\"colorbar\":{\"outlinewidth\":0,\"ticks\":\"\"}},\"marker\":{\"colorbar\":{\"outlinewidth\":0,\"ticks\":\"\"}},\"type\":\"scatter3d\"}],\"scattercarpet\":[{\"marker\":{\"colorbar\":{\"outlinewidth\":0,\"ticks\":\"\"}},\"type\":\"scattercarpet\"}],\"scattergeo\":[{\"marker\":{\"colorbar\":{\"outlinewidth\":0,\"ticks\":\"\"}},\"type\":\"scattergeo\"}],\"scattergl\":[{\"marker\":{\"colorbar\":{\"outlinewidth\":0,\"ticks\":\"\"}},\"type\":\"scattergl\"}],\"scattermapbox\":[{\"marker\":{\"colorbar\":{\"outlinewidth\":0,\"ticks\":\"\"}},\"type\":\"scattermapbox\"}],\"scatterpolargl\":[{\"marker\":{\"colorbar\":{\"outlinewidth\":0,\"ticks\":\"\"}},\"type\":\"scatterpolargl\"}],\"scatterpolar\":[{\"marker\":{\"colorbar\":{\"outlinewidth\":0,\"ticks\":\"\"}},\"type\":\"scatterpolar\"}],\"scatter\":[{\"fillpattern\":{\"fillmode\":\"overlay\",\"size\":10,\"solidity\":0.2},\"type\":\"scatter\"}],\"scatterternary\":[{\"marker\":{\"colorbar\":{\"outlinewidth\":0,\"ticks\":\"\"}},\"type\":\"scatterternary\"}],\"surface\":[{\"colorbar\":{\"outlinewidth\":0,\"ticks\":\"\"},\"colorscale\":[[0.0,\"#0d0887\"],[0.1111111111111111,\"#46039f\"],[0.2222222222222222,\"#7201a8\"],[0.3333333333333333,\"#9c179e\"],[0.4444444444444444,\"#bd3786\"],[0.5555555555555556,\"#d8576b\"],[0.6666666666666666,\"#ed7953\"],[0.7777777777777778,\"#fb9f3a\"],[0.8888888888888888,\"#fdca26\"],[1.0,\"#f0f921\"]],\"type\":\"surface\"}],\"table\":[{\"cells\":{\"fill\":{\"color\":\"#EBF0F8\"},\"line\":{\"color\":\"white\"}},\"header\":{\"fill\":{\"color\":\"#C8D4E3\"},\"line\":{\"color\":\"white\"}},\"type\":\"table\"}]},\"layout\":{\"annotationdefaults\":{\"arrowcolor\":\"#2a3f5f\",\"arrowhead\":0,\"arrowwidth\":1},\"autotypenumbers\":\"strict\",\"coloraxis\":{\"colorbar\":{\"outlinewidth\":0,\"ticks\":\"\"}},\"colorscale\":{\"diverging\":[[0,\"#8e0152\"],[0.1,\"#c51b7d\"],[0.2,\"#de77ae\"],[0.3,\"#f1b6da\"],[0.4,\"#fde0ef\"],[0.5,\"#f7f7f7\"],[0.6,\"#e6f5d0\"],[0.7,\"#b8e186\"],[0.8,\"#7fbc41\"],[0.9,\"#4d9221\"],[1,\"#276419\"]],\"sequential\":[[0.0,\"#0d0887\"],[0.1111111111111111,\"#46039f\"],[0.2222222222222222,\"#7201a8\"],[0.3333333333333333,\"#9c179e\"],[0.4444444444444444,\"#bd3786\"],[0.5555555555555556,\"#d8576b\"],[0.6666666666666666,\"#ed7953\"],[0.7777777777777778,\"#fb9f3a\"],[0.8888888888888888,\"#fdca26\"],[1.0,\"#f0f921\"]],\"sequentialminus\":[[0.0,\"#0d0887\"],[0.1111111111111111,\"#46039f\"],[0.2222222222222222,\"#7201a8\"],[0.3333333333333333,\"#9c179e\"],[0.4444444444444444,\"#bd3786\"],[0.5555555555555556,\"#d8576b\"],[0.6666666666666666,\"#ed7953\"],[0.7777777777777778,\"#fb9f3a\"],[0.8888888888888888,\"#fdca26\"],[1.0,\"#f0f921\"]]},\"colorway\":[\"#636efa\",\"#EF553B\",\"#00cc96\",\"#ab63fa\",\"#FFA15A\",\"#19d3f3\",\"#FF6692\",\"#B6E880\",\"#FF97FF\",\"#FECB52\"],\"font\":{\"color\":\"#2a3f5f\"},\"geo\":{\"bgcolor\":\"white\",\"lakecolor\":\"white\",\"landcolor\":\"#E5ECF6\",\"showlakes\":true,\"showland\":true,\"subunitcolor\":\"white\"},\"hoverlabel\":{\"align\":\"left\"},\"hovermode\":\"closest\",\"mapbox\":{\"style\":\"light\"},\"paper_bgcolor\":\"white\",\"plot_bgcolor\":\"#E5ECF6\",\"polar\":{\"angularaxis\":{\"gridcolor\":\"white\",\"linecolor\":\"white\",\"ticks\":\"\"},\"bgcolor\":\"#E5ECF6\",\"radialaxis\":{\"gridcolor\":\"white\",\"linecolor\":\"white\",\"ticks\":\"\"}},\"scene\":{\"xaxis\":{\"backgroundcolor\":\"#E5ECF6\",\"gridcolor\":\"white\",\"gridwidth\":2,\"linecolor\":\"white\",\"showbackground\":true,\"ticks\":\"\",\"zerolinecolor\":\"white\"},\"yaxis\":{\"backgroundcolor\":\"#E5ECF6\",\"gridcolor\":\"white\",\"gridwidth\":2,\"linecolor\":\"white\",\"showbackground\":true,\"ticks\":\"\",\"zerolinecolor\":\"white\"},\"zaxis\":{\"backgroundcolor\":\"#E5ECF6\",\"gridcolor\":\"white\",\"gridwidth\":2,\"linecolor\":\"white\",\"showbackground\":true,\"ticks\":\"\",\"zerolinecolor\":\"white\"}},\"shapedefaults\":{\"line\":{\"color\":\"#2a3f5f\"}},\"ternary\":{\"aaxis\":{\"gridcolor\":\"white\",\"linecolor\":\"white\",\"ticks\":\"\"},\"baxis\":{\"gridcolor\":\"white\",\"linecolor\":\"white\",\"ticks\":\"\"},\"bgcolor\":\"#E5ECF6\",\"caxis\":{\"gridcolor\":\"white\",\"linecolor\":\"white\",\"ticks\":\"\"}},\"title\":{\"x\":0.05},\"xaxis\":{\"automargin\":true,\"gridcolor\":\"white\",\"linecolor\":\"white\",\"ticks\":\"\",\"title\":{\"standoff\":15},\"zerolinecolor\":\"white\",\"zerolinewidth\":2},\"yaxis\":{\"automargin\":true,\"gridcolor\":\"white\",\"linecolor\":\"white\",\"ticks\":\"\",\"title\":{\"standoff\":15},\"zerolinecolor\":\"white\",\"zerolinewidth\":2}}},\"title\":{\"font\":{\"color\":\"#4D5663\"}},\"xaxis\":{\"gridcolor\":\"#E1E5ED\",\"showgrid\":true,\"tickfont\":{\"color\":\"#4D5663\"},\"title\":{\"font\":{\"color\":\"#4D5663\"},\"text\":\"\"},\"zerolinecolor\":\"#E1E5ED\"},\"yaxis\":{\"gridcolor\":\"#E1E5ED\",\"showgrid\":true,\"tickfont\":{\"color\":\"#4D5663\"},\"title\":{\"font\":{\"color\":\"#4D5663\"},\"text\":\"\"},\"zerolinecolor\":\"#E1E5ED\"}},                        {\"showLink\": true, \"linkText\": \"Export to plot.ly\", \"plotlyServerURL\": \"https://plot.ly\", \"responsive\": true}                    ).then(function(){\n",
       "                            \n",
       "var gd = document.getElementById('84bef2a3-5479-465e-83e6-d63781df5501');\n",
       "var x = new MutationObserver(function (mutations, observer) {{\n",
       "        var display = window.getComputedStyle(gd).display;\n",
       "        if (!display || display === 'none') {{\n",
       "            console.log([gd, 'removed!']);\n",
       "            Plotly.purge(gd);\n",
       "            observer.disconnect();\n",
       "        }}\n",
       "}});\n",
       "\n",
       "// Listen for the removal of the full notebook cells\n",
       "var notebookContainer = gd.closest('#notebook-container');\n",
       "if (notebookContainer) {{\n",
       "    x.observe(notebookContainer, {childList: true});\n",
       "}}\n",
       "\n",
       "// Listen for the clearing of the current output cell\n",
       "var outputEl = gd.closest('.output');\n",
       "if (outputEl) {{\n",
       "    x.observe(outputEl, {childList: true});\n",
       "}}\n",
       "\n",
       "                        })                };                });            </script>        </div>"
      ]
     },
     "metadata": {},
     "output_type": "display_data"
    }
   ],
   "source": [
    "df1.iplot ( kind=\"scatter\" , x=\"A\" , y=\"B\" , mode=\"markers\" )"
   ]
  },
  {
   "cell_type": "code",
   "execution_count": 7,
   "id": "aaf0e7cd",
   "metadata": {},
   "outputs": [
    {
     "data": {
      "application/vnd.plotly.v1+json": {
       "config": {
        "linkText": "Export to plot.ly",
        "plotlyServerURL": "https://plot.ly",
        "showLink": true
       },
       "data": [
        {
         "line": {
          "color": "rgba(255, 153, 51, 1.0)",
          "dash": "solid",
          "shape": "linear",
          "width": 1.3
         },
         "marker": {
          "size": 20,
          "symbol": "circle"
         },
         "mode": "markers",
         "name": "B",
         "text": "",
         "type": "scatter",
         "x": [
          0.512752939029791,
          -0.3553419617198243,
          -0.27929092762229374,
          0.13715381120273906,
          -0.10561595646288185,
          -0.1599097109111184,
          -0.4979472496059992,
          0.157104113124573,
          -0.46293873496051735,
          2.485418431861522,
          -0.4516734756190726,
          -1.493458861952407,
          -0.026482791768084567,
          -0.2757463899836123,
          2.241694624786081,
          -0.5129572406266717,
          0.15252616393685708,
          1.3865506913062904,
          -0.4983345548729902,
          0.307249958853756,
          -1.128251054831078,
          -0.8075072847154674,
          -0.6363660077137355,
          -0.3713082499903116,
          1.0441461790223507,
          0.3414257868465785,
          -0.5322617919291063,
          -1.2591308173815023,
          0.7009125457086441,
          0.9967249848203381,
          0.5553427242848349,
          -0.1710629029221637,
          -0.09347269250359294,
          -0.06269091796217952,
          -0.8889925758821092,
          1.0218299933351225,
          0.8210081659849187,
          0.44322827056598846,
          -0.4184786434300998,
          -0.08940115509505929,
          0.7269703626378548,
          0.24703444042561,
          0.05660618906374495,
          -0.46715813740333273,
          0.02946942295050563,
          -2.0148452428808628,
          -1.8538320646658921,
          -0.3354297970013657,
          1.6395349929699676,
          1.8490226882208158,
          -0.1512933010494933,
          -0.5005603686679456,
          0.7287108498117928,
          1.298360623953065,
          0.05835482274762789,
          0.05404720881988463,
          1.6448478378071496,
          -0.2165273389788695,
          -0.01089034092055172,
          -0.6396922580512779,
          0.1659230506263948,
          -0.26904140973624013,
          -0.15555495444472764,
          0.9466288861187291,
          0.49900398554713205,
          -2.175214685296227,
          0.09718808811786087,
          2.708148103191192,
          -0.7877907963975526,
          -0.0014491244335431606,
          -0.11955410895494896,
          -0.012562024727582138,
          -0.38147657376126753,
          1.1364951029280372,
          -0.3185237106734018,
          -2.2316850554714165,
          -1.332370837239957,
          1.1773780023580709,
          0.02886572654773463,
          -1.345659142078511,
          0.8985612990834209,
          0.7222788050675611,
          -1.3802880760915244,
          -1.9585194457414203,
          -2.1686577556553375,
          -0.8500871395049288,
          0.10917120767171398,
          0.4795289001080743,
          1.2234004610201688,
          0.8152430704621533,
          1.0968304321670168,
          -1.4067781777797062,
          0.05849673408436882,
          0.7533432362097038,
          0.015432162011626286,
          -1.2840022615670568,
          1.0343567428530556,
          0.6022038052564009,
          -0.5734790425194495,
          -0.061518042568631644
         ],
         "y": [
          0.9495836228334081,
          -0.7100194112250915,
          1.650112399487089,
          0.7207073489887325,
          -0.6598783128597964,
          0.18061985623530957,
          -0.4113123196925393,
          -0.8059169160909352,
          -0.45030841232826324,
          -0.8649897640802658,
          1.0102208397481613,
          -1.0723396880437734,
          -0.6968940084156565,
          -0.8645673092942562,
          2.1955425731858553,
          -1.8863114244239756,
          0.8957455972821831,
          0.678767466446716,
          -0.8943159560446318,
          -0.09741963407826157,
          0.7654188247816236,
          -0.3061372125342001,
          0.5819132563211112,
          -0.8670704822495087,
          -1.1685354191395143,
          0.4987062070583795,
          -1.2664917103538968,
          -0.0020470918678063186,
          0.3121952440872714,
          -0.16072843272068324,
          0.11875890069643805,
          0.44986031105381663,
          -1.2372941389702115,
          -0.0699148743189868,
          0.5722458274120602,
          -0.908423657263562,
          0.9938975291952103,
          0.7958846288611234,
          2.301904816453025,
          -0.03442714273076457,
          1.9790174693194467,
          2.610010540348577,
          0.32989197333371956,
          0.8624799408253738,
          0.1139651001292569,
          0.4707004527178716,
          -1.5716325921736916,
          -0.24216538524890424,
          1.2948587449311602,
          2.4104001599038,
          0.06946876011078847,
          0.14121954910246642,
          -1.758843335651598,
          -0.34023316429089806,
          -0.615902806569471,
          0.5258757904723518,
          0.768142038676994,
          -0.6217746021507302,
          0.40561366010531047,
          0.0611695638678798,
          -0.13738126847244095,
          1.0648377553030648,
          -1.8221199689954444,
          -0.8653744519128183,
          0.6777054680280602,
          2.497494640335452,
          0.15104718570411105,
          1.6886883956295087,
          0.2150663109619358,
          1.1726393230041428,
          -0.6033410253786355,
          -1.1128029280466678,
          -1.3753978791796673,
          -1.6083436278421894,
          0.3251529185534095,
          -0.23507903877710437,
          0.6854681379288818,
          -1.041259674279969,
          -0.6804639148664574,
          0.8121246030044645,
          1.3458243345424477,
          -0.11174265897113703,
          0.8968517311317901,
          1.1561368291141871,
          0.14505918969787704,
          -0.18489325889499017,
          0.28894923373935066,
          0.9245649933210359,
          0.09791212574998187,
          1.735864656117559,
          1.8020648684561578,
          1.1660229778070796,
          1.6705341417911646,
          0.7029421504635976,
          -0.09985353358039065,
          0.6613232704319956,
          0.7436371685517646,
          -1.1581864717986816,
          -0.0517374783828689,
          0.01597140932841376
         ]
        }
       ],
       "layout": {
        "legend": {
         "bgcolor": "#F5F6F9",
         "font": {
          "color": "#4D5663"
         }
        },
        "paper_bgcolor": "#F5F6F9",
        "plot_bgcolor": "#F5F6F9",
        "template": {
         "data": {
          "bar": [
           {
            "error_x": {
             "color": "#2a3f5f"
            },
            "error_y": {
             "color": "#2a3f5f"
            },
            "marker": {
             "line": {
              "color": "#E5ECF6",
              "width": 0.5
             },
             "pattern": {
              "fillmode": "overlay",
              "size": 10,
              "solidity": 0.2
             }
            },
            "type": "bar"
           }
          ],
          "barpolar": [
           {
            "marker": {
             "line": {
              "color": "#E5ECF6",
              "width": 0.5
             },
             "pattern": {
              "fillmode": "overlay",
              "size": 10,
              "solidity": 0.2
             }
            },
            "type": "barpolar"
           }
          ],
          "carpet": [
           {
            "aaxis": {
             "endlinecolor": "#2a3f5f",
             "gridcolor": "white",
             "linecolor": "white",
             "minorgridcolor": "white",
             "startlinecolor": "#2a3f5f"
            },
            "baxis": {
             "endlinecolor": "#2a3f5f",
             "gridcolor": "white",
             "linecolor": "white",
             "minorgridcolor": "white",
             "startlinecolor": "#2a3f5f"
            },
            "type": "carpet"
           }
          ],
          "choropleth": [
           {
            "colorbar": {
             "outlinewidth": 0,
             "ticks": ""
            },
            "type": "choropleth"
           }
          ],
          "contour": [
           {
            "colorbar": {
             "outlinewidth": 0,
             "ticks": ""
            },
            "colorscale": [
             [
              0,
              "#0d0887"
             ],
             [
              0.1111111111111111,
              "#46039f"
             ],
             [
              0.2222222222222222,
              "#7201a8"
             ],
             [
              0.3333333333333333,
              "#9c179e"
             ],
             [
              0.4444444444444444,
              "#bd3786"
             ],
             [
              0.5555555555555556,
              "#d8576b"
             ],
             [
              0.6666666666666666,
              "#ed7953"
             ],
             [
              0.7777777777777778,
              "#fb9f3a"
             ],
             [
              0.8888888888888888,
              "#fdca26"
             ],
             [
              1,
              "#f0f921"
             ]
            ],
            "type": "contour"
           }
          ],
          "contourcarpet": [
           {
            "colorbar": {
             "outlinewidth": 0,
             "ticks": ""
            },
            "type": "contourcarpet"
           }
          ],
          "heatmap": [
           {
            "colorbar": {
             "outlinewidth": 0,
             "ticks": ""
            },
            "colorscale": [
             [
              0,
              "#0d0887"
             ],
             [
              0.1111111111111111,
              "#46039f"
             ],
             [
              0.2222222222222222,
              "#7201a8"
             ],
             [
              0.3333333333333333,
              "#9c179e"
             ],
             [
              0.4444444444444444,
              "#bd3786"
             ],
             [
              0.5555555555555556,
              "#d8576b"
             ],
             [
              0.6666666666666666,
              "#ed7953"
             ],
             [
              0.7777777777777778,
              "#fb9f3a"
             ],
             [
              0.8888888888888888,
              "#fdca26"
             ],
             [
              1,
              "#f0f921"
             ]
            ],
            "type": "heatmap"
           }
          ],
          "heatmapgl": [
           {
            "colorbar": {
             "outlinewidth": 0,
             "ticks": ""
            },
            "colorscale": [
             [
              0,
              "#0d0887"
             ],
             [
              0.1111111111111111,
              "#46039f"
             ],
             [
              0.2222222222222222,
              "#7201a8"
             ],
             [
              0.3333333333333333,
              "#9c179e"
             ],
             [
              0.4444444444444444,
              "#bd3786"
             ],
             [
              0.5555555555555556,
              "#d8576b"
             ],
             [
              0.6666666666666666,
              "#ed7953"
             ],
             [
              0.7777777777777778,
              "#fb9f3a"
             ],
             [
              0.8888888888888888,
              "#fdca26"
             ],
             [
              1,
              "#f0f921"
             ]
            ],
            "type": "heatmapgl"
           }
          ],
          "histogram": [
           {
            "marker": {
             "pattern": {
              "fillmode": "overlay",
              "size": 10,
              "solidity": 0.2
             }
            },
            "type": "histogram"
           }
          ],
          "histogram2d": [
           {
            "colorbar": {
             "outlinewidth": 0,
             "ticks": ""
            },
            "colorscale": [
             [
              0,
              "#0d0887"
             ],
             [
              0.1111111111111111,
              "#46039f"
             ],
             [
              0.2222222222222222,
              "#7201a8"
             ],
             [
              0.3333333333333333,
              "#9c179e"
             ],
             [
              0.4444444444444444,
              "#bd3786"
             ],
             [
              0.5555555555555556,
              "#d8576b"
             ],
             [
              0.6666666666666666,
              "#ed7953"
             ],
             [
              0.7777777777777778,
              "#fb9f3a"
             ],
             [
              0.8888888888888888,
              "#fdca26"
             ],
             [
              1,
              "#f0f921"
             ]
            ],
            "type": "histogram2d"
           }
          ],
          "histogram2dcontour": [
           {
            "colorbar": {
             "outlinewidth": 0,
             "ticks": ""
            },
            "colorscale": [
             [
              0,
              "#0d0887"
             ],
             [
              0.1111111111111111,
              "#46039f"
             ],
             [
              0.2222222222222222,
              "#7201a8"
             ],
             [
              0.3333333333333333,
              "#9c179e"
             ],
             [
              0.4444444444444444,
              "#bd3786"
             ],
             [
              0.5555555555555556,
              "#d8576b"
             ],
             [
              0.6666666666666666,
              "#ed7953"
             ],
             [
              0.7777777777777778,
              "#fb9f3a"
             ],
             [
              0.8888888888888888,
              "#fdca26"
             ],
             [
              1,
              "#f0f921"
             ]
            ],
            "type": "histogram2dcontour"
           }
          ],
          "mesh3d": [
           {
            "colorbar": {
             "outlinewidth": 0,
             "ticks": ""
            },
            "type": "mesh3d"
           }
          ],
          "parcoords": [
           {
            "line": {
             "colorbar": {
              "outlinewidth": 0,
              "ticks": ""
             }
            },
            "type": "parcoords"
           }
          ],
          "pie": [
           {
            "automargin": true,
            "type": "pie"
           }
          ],
          "scatter": [
           {
            "fillpattern": {
             "fillmode": "overlay",
             "size": 10,
             "solidity": 0.2
            },
            "type": "scatter"
           }
          ],
          "scatter3d": [
           {
            "line": {
             "colorbar": {
              "outlinewidth": 0,
              "ticks": ""
             }
            },
            "marker": {
             "colorbar": {
              "outlinewidth": 0,
              "ticks": ""
             }
            },
            "type": "scatter3d"
           }
          ],
          "scattercarpet": [
           {
            "marker": {
             "colorbar": {
              "outlinewidth": 0,
              "ticks": ""
             }
            },
            "type": "scattercarpet"
           }
          ],
          "scattergeo": [
           {
            "marker": {
             "colorbar": {
              "outlinewidth": 0,
              "ticks": ""
             }
            },
            "type": "scattergeo"
           }
          ],
          "scattergl": [
           {
            "marker": {
             "colorbar": {
              "outlinewidth": 0,
              "ticks": ""
             }
            },
            "type": "scattergl"
           }
          ],
          "scattermapbox": [
           {
            "marker": {
             "colorbar": {
              "outlinewidth": 0,
              "ticks": ""
             }
            },
            "type": "scattermapbox"
           }
          ],
          "scatterpolar": [
           {
            "marker": {
             "colorbar": {
              "outlinewidth": 0,
              "ticks": ""
             }
            },
            "type": "scatterpolar"
           }
          ],
          "scatterpolargl": [
           {
            "marker": {
             "colorbar": {
              "outlinewidth": 0,
              "ticks": ""
             }
            },
            "type": "scatterpolargl"
           }
          ],
          "scatterternary": [
           {
            "marker": {
             "colorbar": {
              "outlinewidth": 0,
              "ticks": ""
             }
            },
            "type": "scatterternary"
           }
          ],
          "surface": [
           {
            "colorbar": {
             "outlinewidth": 0,
             "ticks": ""
            },
            "colorscale": [
             [
              0,
              "#0d0887"
             ],
             [
              0.1111111111111111,
              "#46039f"
             ],
             [
              0.2222222222222222,
              "#7201a8"
             ],
             [
              0.3333333333333333,
              "#9c179e"
             ],
             [
              0.4444444444444444,
              "#bd3786"
             ],
             [
              0.5555555555555556,
              "#d8576b"
             ],
             [
              0.6666666666666666,
              "#ed7953"
             ],
             [
              0.7777777777777778,
              "#fb9f3a"
             ],
             [
              0.8888888888888888,
              "#fdca26"
             ],
             [
              1,
              "#f0f921"
             ]
            ],
            "type": "surface"
           }
          ],
          "table": [
           {
            "cells": {
             "fill": {
              "color": "#EBF0F8"
             },
             "line": {
              "color": "white"
             }
            },
            "header": {
             "fill": {
              "color": "#C8D4E3"
             },
             "line": {
              "color": "white"
             }
            },
            "type": "table"
           }
          ]
         },
         "layout": {
          "annotationdefaults": {
           "arrowcolor": "#2a3f5f",
           "arrowhead": 0,
           "arrowwidth": 1
          },
          "autotypenumbers": "strict",
          "coloraxis": {
           "colorbar": {
            "outlinewidth": 0,
            "ticks": ""
           }
          },
          "colorscale": {
           "diverging": [
            [
             0,
             "#8e0152"
            ],
            [
             0.1,
             "#c51b7d"
            ],
            [
             0.2,
             "#de77ae"
            ],
            [
             0.3,
             "#f1b6da"
            ],
            [
             0.4,
             "#fde0ef"
            ],
            [
             0.5,
             "#f7f7f7"
            ],
            [
             0.6,
             "#e6f5d0"
            ],
            [
             0.7,
             "#b8e186"
            ],
            [
             0.8,
             "#7fbc41"
            ],
            [
             0.9,
             "#4d9221"
            ],
            [
             1,
             "#276419"
            ]
           ],
           "sequential": [
            [
             0,
             "#0d0887"
            ],
            [
             0.1111111111111111,
             "#46039f"
            ],
            [
             0.2222222222222222,
             "#7201a8"
            ],
            [
             0.3333333333333333,
             "#9c179e"
            ],
            [
             0.4444444444444444,
             "#bd3786"
            ],
            [
             0.5555555555555556,
             "#d8576b"
            ],
            [
             0.6666666666666666,
             "#ed7953"
            ],
            [
             0.7777777777777778,
             "#fb9f3a"
            ],
            [
             0.8888888888888888,
             "#fdca26"
            ],
            [
             1,
             "#f0f921"
            ]
           ],
           "sequentialminus": [
            [
             0,
             "#0d0887"
            ],
            [
             0.1111111111111111,
             "#46039f"
            ],
            [
             0.2222222222222222,
             "#7201a8"
            ],
            [
             0.3333333333333333,
             "#9c179e"
            ],
            [
             0.4444444444444444,
             "#bd3786"
            ],
            [
             0.5555555555555556,
             "#d8576b"
            ],
            [
             0.6666666666666666,
             "#ed7953"
            ],
            [
             0.7777777777777778,
             "#fb9f3a"
            ],
            [
             0.8888888888888888,
             "#fdca26"
            ],
            [
             1,
             "#f0f921"
            ]
           ]
          },
          "colorway": [
           "#636efa",
           "#EF553B",
           "#00cc96",
           "#ab63fa",
           "#FFA15A",
           "#19d3f3",
           "#FF6692",
           "#B6E880",
           "#FF97FF",
           "#FECB52"
          ],
          "font": {
           "color": "#2a3f5f"
          },
          "geo": {
           "bgcolor": "white",
           "lakecolor": "white",
           "landcolor": "#E5ECF6",
           "showlakes": true,
           "showland": true,
           "subunitcolor": "white"
          },
          "hoverlabel": {
           "align": "left"
          },
          "hovermode": "closest",
          "mapbox": {
           "style": "light"
          },
          "paper_bgcolor": "white",
          "plot_bgcolor": "#E5ECF6",
          "polar": {
           "angularaxis": {
            "gridcolor": "white",
            "linecolor": "white",
            "ticks": ""
           },
           "bgcolor": "#E5ECF6",
           "radialaxis": {
            "gridcolor": "white",
            "linecolor": "white",
            "ticks": ""
           }
          },
          "scene": {
           "xaxis": {
            "backgroundcolor": "#E5ECF6",
            "gridcolor": "white",
            "gridwidth": 2,
            "linecolor": "white",
            "showbackground": true,
            "ticks": "",
            "zerolinecolor": "white"
           },
           "yaxis": {
            "backgroundcolor": "#E5ECF6",
            "gridcolor": "white",
            "gridwidth": 2,
            "linecolor": "white",
            "showbackground": true,
            "ticks": "",
            "zerolinecolor": "white"
           },
           "zaxis": {
            "backgroundcolor": "#E5ECF6",
            "gridcolor": "white",
            "gridwidth": 2,
            "linecolor": "white",
            "showbackground": true,
            "ticks": "",
            "zerolinecolor": "white"
           }
          },
          "shapedefaults": {
           "line": {
            "color": "#2a3f5f"
           }
          },
          "ternary": {
           "aaxis": {
            "gridcolor": "white",
            "linecolor": "white",
            "ticks": ""
           },
           "baxis": {
            "gridcolor": "white",
            "linecolor": "white",
            "ticks": ""
           },
           "bgcolor": "#E5ECF6",
           "caxis": {
            "gridcolor": "white",
            "linecolor": "white",
            "ticks": ""
           }
          },
          "title": {
           "x": 0.05
          },
          "xaxis": {
           "automargin": true,
           "gridcolor": "white",
           "linecolor": "white",
           "ticks": "",
           "title": {
            "standoff": 15
           },
           "zerolinecolor": "white",
           "zerolinewidth": 2
          },
          "yaxis": {
           "automargin": true,
           "gridcolor": "white",
           "linecolor": "white",
           "ticks": "",
           "title": {
            "standoff": 15
           },
           "zerolinecolor": "white",
           "zerolinewidth": 2
          }
         }
        },
        "title": {
         "font": {
          "color": "#4D5663"
         }
        },
        "xaxis": {
         "gridcolor": "#E1E5ED",
         "showgrid": true,
         "tickfont": {
          "color": "#4D5663"
         },
         "title": {
          "font": {
           "color": "#4D5663"
          },
          "text": ""
         },
         "zerolinecolor": "#E1E5ED"
        },
        "yaxis": {
         "gridcolor": "#E1E5ED",
         "showgrid": true,
         "tickfont": {
          "color": "#4D5663"
         },
         "title": {
          "font": {
           "color": "#4D5663"
          },
          "text": ""
         },
         "zerolinecolor": "#E1E5ED"
        }
       }
      },
      "text/html": [
       "<div>                            <div id=\"b5266321-8b8c-45de-a4e9-77e15e7ad720\" class=\"plotly-graph-div\" style=\"height:525px; width:100%;\"></div>            <script type=\"text/javascript\">                require([\"plotly\"], function(Plotly) {                    window.PLOTLYENV=window.PLOTLYENV || {};\n",
       "                    window.PLOTLYENV.BASE_URL='https://plot.ly';                                    if (document.getElementById(\"b5266321-8b8c-45de-a4e9-77e15e7ad720\")) {                    Plotly.newPlot(                        \"b5266321-8b8c-45de-a4e9-77e15e7ad720\",                        [{\"line\":{\"color\":\"rgba(255, 153, 51, 1.0)\",\"dash\":\"solid\",\"shape\":\"linear\",\"width\":1.3},\"marker\":{\"size\":20,\"symbol\":\"circle\"},\"mode\":\"markers\",\"name\":\"B\",\"text\":\"\",\"x\":[0.512752939029791,-0.3553419617198243,-0.27929092762229374,0.13715381120273906,-0.10561595646288185,-0.1599097109111184,-0.4979472496059992,0.157104113124573,-0.46293873496051735,2.485418431861522,-0.4516734756190726,-1.493458861952407,-0.026482791768084567,-0.2757463899836123,2.241694624786081,-0.5129572406266717,0.15252616393685708,1.3865506913062904,-0.4983345548729902,0.307249958853756,-1.128251054831078,-0.8075072847154674,-0.6363660077137355,-0.3713082499903116,1.0441461790223507,0.3414257868465785,-0.5322617919291063,-1.2591308173815023,0.7009125457086441,0.9967249848203381,0.5553427242848349,-0.1710629029221637,-0.09347269250359294,-0.06269091796217952,-0.8889925758821092,1.0218299933351225,0.8210081659849187,0.44322827056598846,-0.4184786434300998,-0.08940115509505929,0.7269703626378548,0.24703444042561,0.05660618906374495,-0.46715813740333273,0.02946942295050563,-2.0148452428808628,-1.8538320646658921,-0.3354297970013657,1.6395349929699676,1.8490226882208158,-0.1512933010494933,-0.5005603686679456,0.7287108498117928,1.298360623953065,0.05835482274762789,0.05404720881988463,1.6448478378071496,-0.2165273389788695,-0.01089034092055172,-0.6396922580512779,0.1659230506263948,-0.26904140973624013,-0.15555495444472764,0.9466288861187291,0.49900398554713205,-2.175214685296227,0.09718808811786087,2.708148103191192,-0.7877907963975526,-0.0014491244335431606,-0.11955410895494896,-0.012562024727582138,-0.38147657376126753,1.1364951029280372,-0.3185237106734018,-2.2316850554714165,-1.332370837239957,1.1773780023580709,0.02886572654773463,-1.345659142078511,0.8985612990834209,0.7222788050675611,-1.3802880760915244,-1.9585194457414203,-2.1686577556553375,-0.8500871395049288,0.10917120767171398,0.4795289001080743,1.2234004610201688,0.8152430704621533,1.0968304321670168,-1.4067781777797062,0.05849673408436882,0.7533432362097038,0.015432162011626286,-1.2840022615670568,1.0343567428530556,0.6022038052564009,-0.5734790425194495,-0.061518042568631644],\"y\":[0.9495836228334081,-0.7100194112250915,1.650112399487089,0.7207073489887325,-0.6598783128597964,0.18061985623530957,-0.4113123196925393,-0.8059169160909352,-0.45030841232826324,-0.8649897640802658,1.0102208397481613,-1.0723396880437734,-0.6968940084156565,-0.8645673092942562,2.1955425731858553,-1.8863114244239756,0.8957455972821831,0.678767466446716,-0.8943159560446318,-0.09741963407826157,0.7654188247816236,-0.3061372125342001,0.5819132563211112,-0.8670704822495087,-1.1685354191395143,0.4987062070583795,-1.2664917103538968,-0.0020470918678063186,0.3121952440872714,-0.16072843272068324,0.11875890069643805,0.44986031105381663,-1.2372941389702115,-0.0699148743189868,0.5722458274120602,-0.908423657263562,0.9938975291952103,0.7958846288611234,2.301904816453025,-0.03442714273076457,1.9790174693194467,2.610010540348577,0.32989197333371956,0.8624799408253738,0.1139651001292569,0.4707004527178716,-1.5716325921736916,-0.24216538524890424,1.2948587449311602,2.4104001599038,0.06946876011078847,0.14121954910246642,-1.758843335651598,-0.34023316429089806,-0.615902806569471,0.5258757904723518,0.768142038676994,-0.6217746021507302,0.40561366010531047,0.0611695638678798,-0.13738126847244095,1.0648377553030648,-1.8221199689954444,-0.8653744519128183,0.6777054680280602,2.497494640335452,0.15104718570411105,1.6886883956295087,0.2150663109619358,1.1726393230041428,-0.6033410253786355,-1.1128029280466678,-1.3753978791796673,-1.6083436278421894,0.3251529185534095,-0.23507903877710437,0.6854681379288818,-1.041259674279969,-0.6804639148664574,0.8121246030044645,1.3458243345424477,-0.11174265897113703,0.8968517311317901,1.1561368291141871,0.14505918969787704,-0.18489325889499017,0.28894923373935066,0.9245649933210359,0.09791212574998187,1.735864656117559,1.8020648684561578,1.1660229778070796,1.6705341417911646,0.7029421504635976,-0.09985353358039065,0.6613232704319956,0.7436371685517646,-1.1581864717986816,-0.0517374783828689,0.01597140932841376],\"type\":\"scatter\"}],                        {\"legend\":{\"bgcolor\":\"#F5F6F9\",\"font\":{\"color\":\"#4D5663\"}},\"paper_bgcolor\":\"#F5F6F9\",\"plot_bgcolor\":\"#F5F6F9\",\"template\":{\"data\":{\"barpolar\":[{\"marker\":{\"line\":{\"color\":\"#E5ECF6\",\"width\":0.5},\"pattern\":{\"fillmode\":\"overlay\",\"size\":10,\"solidity\":0.2}},\"type\":\"barpolar\"}],\"bar\":[{\"error_x\":{\"color\":\"#2a3f5f\"},\"error_y\":{\"color\":\"#2a3f5f\"},\"marker\":{\"line\":{\"color\":\"#E5ECF6\",\"width\":0.5},\"pattern\":{\"fillmode\":\"overlay\",\"size\":10,\"solidity\":0.2}},\"type\":\"bar\"}],\"carpet\":[{\"aaxis\":{\"endlinecolor\":\"#2a3f5f\",\"gridcolor\":\"white\",\"linecolor\":\"white\",\"minorgridcolor\":\"white\",\"startlinecolor\":\"#2a3f5f\"},\"baxis\":{\"endlinecolor\":\"#2a3f5f\",\"gridcolor\":\"white\",\"linecolor\":\"white\",\"minorgridcolor\":\"white\",\"startlinecolor\":\"#2a3f5f\"},\"type\":\"carpet\"}],\"choropleth\":[{\"colorbar\":{\"outlinewidth\":0,\"ticks\":\"\"},\"type\":\"choropleth\"}],\"contourcarpet\":[{\"colorbar\":{\"outlinewidth\":0,\"ticks\":\"\"},\"type\":\"contourcarpet\"}],\"contour\":[{\"colorbar\":{\"outlinewidth\":0,\"ticks\":\"\"},\"colorscale\":[[0.0,\"#0d0887\"],[0.1111111111111111,\"#46039f\"],[0.2222222222222222,\"#7201a8\"],[0.3333333333333333,\"#9c179e\"],[0.4444444444444444,\"#bd3786\"],[0.5555555555555556,\"#d8576b\"],[0.6666666666666666,\"#ed7953\"],[0.7777777777777778,\"#fb9f3a\"],[0.8888888888888888,\"#fdca26\"],[1.0,\"#f0f921\"]],\"type\":\"contour\"}],\"heatmapgl\":[{\"colorbar\":{\"outlinewidth\":0,\"ticks\":\"\"},\"colorscale\":[[0.0,\"#0d0887\"],[0.1111111111111111,\"#46039f\"],[0.2222222222222222,\"#7201a8\"],[0.3333333333333333,\"#9c179e\"],[0.4444444444444444,\"#bd3786\"],[0.5555555555555556,\"#d8576b\"],[0.6666666666666666,\"#ed7953\"],[0.7777777777777778,\"#fb9f3a\"],[0.8888888888888888,\"#fdca26\"],[1.0,\"#f0f921\"]],\"type\":\"heatmapgl\"}],\"heatmap\":[{\"colorbar\":{\"outlinewidth\":0,\"ticks\":\"\"},\"colorscale\":[[0.0,\"#0d0887\"],[0.1111111111111111,\"#46039f\"],[0.2222222222222222,\"#7201a8\"],[0.3333333333333333,\"#9c179e\"],[0.4444444444444444,\"#bd3786\"],[0.5555555555555556,\"#d8576b\"],[0.6666666666666666,\"#ed7953\"],[0.7777777777777778,\"#fb9f3a\"],[0.8888888888888888,\"#fdca26\"],[1.0,\"#f0f921\"]],\"type\":\"heatmap\"}],\"histogram2dcontour\":[{\"colorbar\":{\"outlinewidth\":0,\"ticks\":\"\"},\"colorscale\":[[0.0,\"#0d0887\"],[0.1111111111111111,\"#46039f\"],[0.2222222222222222,\"#7201a8\"],[0.3333333333333333,\"#9c179e\"],[0.4444444444444444,\"#bd3786\"],[0.5555555555555556,\"#d8576b\"],[0.6666666666666666,\"#ed7953\"],[0.7777777777777778,\"#fb9f3a\"],[0.8888888888888888,\"#fdca26\"],[1.0,\"#f0f921\"]],\"type\":\"histogram2dcontour\"}],\"histogram2d\":[{\"colorbar\":{\"outlinewidth\":0,\"ticks\":\"\"},\"colorscale\":[[0.0,\"#0d0887\"],[0.1111111111111111,\"#46039f\"],[0.2222222222222222,\"#7201a8\"],[0.3333333333333333,\"#9c179e\"],[0.4444444444444444,\"#bd3786\"],[0.5555555555555556,\"#d8576b\"],[0.6666666666666666,\"#ed7953\"],[0.7777777777777778,\"#fb9f3a\"],[0.8888888888888888,\"#fdca26\"],[1.0,\"#f0f921\"]],\"type\":\"histogram2d\"}],\"histogram\":[{\"marker\":{\"pattern\":{\"fillmode\":\"overlay\",\"size\":10,\"solidity\":0.2}},\"type\":\"histogram\"}],\"mesh3d\":[{\"colorbar\":{\"outlinewidth\":0,\"ticks\":\"\"},\"type\":\"mesh3d\"}],\"parcoords\":[{\"line\":{\"colorbar\":{\"outlinewidth\":0,\"ticks\":\"\"}},\"type\":\"parcoords\"}],\"pie\":[{\"automargin\":true,\"type\":\"pie\"}],\"scatter3d\":[{\"line\":{\"colorbar\":{\"outlinewidth\":0,\"ticks\":\"\"}},\"marker\":{\"colorbar\":{\"outlinewidth\":0,\"ticks\":\"\"}},\"type\":\"scatter3d\"}],\"scattercarpet\":[{\"marker\":{\"colorbar\":{\"outlinewidth\":0,\"ticks\":\"\"}},\"type\":\"scattercarpet\"}],\"scattergeo\":[{\"marker\":{\"colorbar\":{\"outlinewidth\":0,\"ticks\":\"\"}},\"type\":\"scattergeo\"}],\"scattergl\":[{\"marker\":{\"colorbar\":{\"outlinewidth\":0,\"ticks\":\"\"}},\"type\":\"scattergl\"}],\"scattermapbox\":[{\"marker\":{\"colorbar\":{\"outlinewidth\":0,\"ticks\":\"\"}},\"type\":\"scattermapbox\"}],\"scatterpolargl\":[{\"marker\":{\"colorbar\":{\"outlinewidth\":0,\"ticks\":\"\"}},\"type\":\"scatterpolargl\"}],\"scatterpolar\":[{\"marker\":{\"colorbar\":{\"outlinewidth\":0,\"ticks\":\"\"}},\"type\":\"scatterpolar\"}],\"scatter\":[{\"fillpattern\":{\"fillmode\":\"overlay\",\"size\":10,\"solidity\":0.2},\"type\":\"scatter\"}],\"scatterternary\":[{\"marker\":{\"colorbar\":{\"outlinewidth\":0,\"ticks\":\"\"}},\"type\":\"scatterternary\"}],\"surface\":[{\"colorbar\":{\"outlinewidth\":0,\"ticks\":\"\"},\"colorscale\":[[0.0,\"#0d0887\"],[0.1111111111111111,\"#46039f\"],[0.2222222222222222,\"#7201a8\"],[0.3333333333333333,\"#9c179e\"],[0.4444444444444444,\"#bd3786\"],[0.5555555555555556,\"#d8576b\"],[0.6666666666666666,\"#ed7953\"],[0.7777777777777778,\"#fb9f3a\"],[0.8888888888888888,\"#fdca26\"],[1.0,\"#f0f921\"]],\"type\":\"surface\"}],\"table\":[{\"cells\":{\"fill\":{\"color\":\"#EBF0F8\"},\"line\":{\"color\":\"white\"}},\"header\":{\"fill\":{\"color\":\"#C8D4E3\"},\"line\":{\"color\":\"white\"}},\"type\":\"table\"}]},\"layout\":{\"annotationdefaults\":{\"arrowcolor\":\"#2a3f5f\",\"arrowhead\":0,\"arrowwidth\":1},\"autotypenumbers\":\"strict\",\"coloraxis\":{\"colorbar\":{\"outlinewidth\":0,\"ticks\":\"\"}},\"colorscale\":{\"diverging\":[[0,\"#8e0152\"],[0.1,\"#c51b7d\"],[0.2,\"#de77ae\"],[0.3,\"#f1b6da\"],[0.4,\"#fde0ef\"],[0.5,\"#f7f7f7\"],[0.6,\"#e6f5d0\"],[0.7,\"#b8e186\"],[0.8,\"#7fbc41\"],[0.9,\"#4d9221\"],[1,\"#276419\"]],\"sequential\":[[0.0,\"#0d0887\"],[0.1111111111111111,\"#46039f\"],[0.2222222222222222,\"#7201a8\"],[0.3333333333333333,\"#9c179e\"],[0.4444444444444444,\"#bd3786\"],[0.5555555555555556,\"#d8576b\"],[0.6666666666666666,\"#ed7953\"],[0.7777777777777778,\"#fb9f3a\"],[0.8888888888888888,\"#fdca26\"],[1.0,\"#f0f921\"]],\"sequentialminus\":[[0.0,\"#0d0887\"],[0.1111111111111111,\"#46039f\"],[0.2222222222222222,\"#7201a8\"],[0.3333333333333333,\"#9c179e\"],[0.4444444444444444,\"#bd3786\"],[0.5555555555555556,\"#d8576b\"],[0.6666666666666666,\"#ed7953\"],[0.7777777777777778,\"#fb9f3a\"],[0.8888888888888888,\"#fdca26\"],[1.0,\"#f0f921\"]]},\"colorway\":[\"#636efa\",\"#EF553B\",\"#00cc96\",\"#ab63fa\",\"#FFA15A\",\"#19d3f3\",\"#FF6692\",\"#B6E880\",\"#FF97FF\",\"#FECB52\"],\"font\":{\"color\":\"#2a3f5f\"},\"geo\":{\"bgcolor\":\"white\",\"lakecolor\":\"white\",\"landcolor\":\"#E5ECF6\",\"showlakes\":true,\"showland\":true,\"subunitcolor\":\"white\"},\"hoverlabel\":{\"align\":\"left\"},\"hovermode\":\"closest\",\"mapbox\":{\"style\":\"light\"},\"paper_bgcolor\":\"white\",\"plot_bgcolor\":\"#E5ECF6\",\"polar\":{\"angularaxis\":{\"gridcolor\":\"white\",\"linecolor\":\"white\",\"ticks\":\"\"},\"bgcolor\":\"#E5ECF6\",\"radialaxis\":{\"gridcolor\":\"white\",\"linecolor\":\"white\",\"ticks\":\"\"}},\"scene\":{\"xaxis\":{\"backgroundcolor\":\"#E5ECF6\",\"gridcolor\":\"white\",\"gridwidth\":2,\"linecolor\":\"white\",\"showbackground\":true,\"ticks\":\"\",\"zerolinecolor\":\"white\"},\"yaxis\":{\"backgroundcolor\":\"#E5ECF6\",\"gridcolor\":\"white\",\"gridwidth\":2,\"linecolor\":\"white\",\"showbackground\":true,\"ticks\":\"\",\"zerolinecolor\":\"white\"},\"zaxis\":{\"backgroundcolor\":\"#E5ECF6\",\"gridcolor\":\"white\",\"gridwidth\":2,\"linecolor\":\"white\",\"showbackground\":true,\"ticks\":\"\",\"zerolinecolor\":\"white\"}},\"shapedefaults\":{\"line\":{\"color\":\"#2a3f5f\"}},\"ternary\":{\"aaxis\":{\"gridcolor\":\"white\",\"linecolor\":\"white\",\"ticks\":\"\"},\"baxis\":{\"gridcolor\":\"white\",\"linecolor\":\"white\",\"ticks\":\"\"},\"bgcolor\":\"#E5ECF6\",\"caxis\":{\"gridcolor\":\"white\",\"linecolor\":\"white\",\"ticks\":\"\"}},\"title\":{\"x\":0.05},\"xaxis\":{\"automargin\":true,\"gridcolor\":\"white\",\"linecolor\":\"white\",\"ticks\":\"\",\"title\":{\"standoff\":15},\"zerolinecolor\":\"white\",\"zerolinewidth\":2},\"yaxis\":{\"automargin\":true,\"gridcolor\":\"white\",\"linecolor\":\"white\",\"ticks\":\"\",\"title\":{\"standoff\":15},\"zerolinecolor\":\"white\",\"zerolinewidth\":2}}},\"title\":{\"font\":{\"color\":\"#4D5663\"}},\"xaxis\":{\"gridcolor\":\"#E1E5ED\",\"showgrid\":true,\"tickfont\":{\"color\":\"#4D5663\"},\"title\":{\"font\":{\"color\":\"#4D5663\"},\"text\":\"\"},\"zerolinecolor\":\"#E1E5ED\"},\"yaxis\":{\"gridcolor\":\"#E1E5ED\",\"showgrid\":true,\"tickfont\":{\"color\":\"#4D5663\"},\"title\":{\"font\":{\"color\":\"#4D5663\"},\"text\":\"\"},\"zerolinecolor\":\"#E1E5ED\"}},                        {\"showLink\": true, \"linkText\": \"Export to plot.ly\", \"plotlyServerURL\": \"https://plot.ly\", \"responsive\": true}                    ).then(function(){\n",
       "                            \n",
       "var gd = document.getElementById('b5266321-8b8c-45de-a4e9-77e15e7ad720');\n",
       "var x = new MutationObserver(function (mutations, observer) {{\n",
       "        var display = window.getComputedStyle(gd).display;\n",
       "        if (!display || display === 'none') {{\n",
       "            console.log([gd, 'removed!']);\n",
       "            Plotly.purge(gd);\n",
       "            observer.disconnect();\n",
       "        }}\n",
       "}});\n",
       "\n",
       "// Listen for the removal of the full notebook cells\n",
       "var notebookContainer = gd.closest('#notebook-container');\n",
       "if (notebookContainer) {{\n",
       "    x.observe(notebookContainer, {childList: true});\n",
       "}}\n",
       "\n",
       "// Listen for the clearing of the current output cell\n",
       "var outputEl = gd.closest('.output');\n",
       "if (outputEl) {{\n",
       "    x.observe(outputEl, {childList: true});\n",
       "}}\n",
       "\n",
       "                        })                };                });            </script>        </div>"
      ]
     },
     "metadata": {},
     "output_type": "display_data"
    }
   ],
   "source": [
    "df1.iplot ( kind=\"scatter\" , x=\"A\" , y=\"B\" , mode=\"markers\" , size=20 )"
   ]
  },
  {
   "cell_type": "code",
   "execution_count": 8,
   "id": "76cc5ecb",
   "metadata": {},
   "outputs": [
    {
     "data": {
      "application/vnd.plotly.v1+json": {
       "config": {
        "linkText": "Export to plot.ly",
        "plotlyServerURL": "https://plot.ly",
        "showLink": true
       },
       "data": [
        {
         "marker": {
          "color": "rgba(255, 153, 51, 0.6)",
          "line": {
           "color": "rgba(255, 153, 51, 1.0)",
           "width": 1
          }
         },
         "name": "VALUES",
         "orientation": "v",
         "text": "",
         "type": "bar",
         "x": [
          "A",
          "B",
          "C",
          "D"
         ],
         "y": [
          32,
          40,
          48,
          56
         ]
        }
       ],
       "layout": {
        "legend": {
         "bgcolor": "#F5F6F9",
         "font": {
          "color": "#4D5663"
         }
        },
        "paper_bgcolor": "#F5F6F9",
        "plot_bgcolor": "#F5F6F9",
        "template": {
         "data": {
          "bar": [
           {
            "error_x": {
             "color": "#2a3f5f"
            },
            "error_y": {
             "color": "#2a3f5f"
            },
            "marker": {
             "line": {
              "color": "#E5ECF6",
              "width": 0.5
             },
             "pattern": {
              "fillmode": "overlay",
              "size": 10,
              "solidity": 0.2
             }
            },
            "type": "bar"
           }
          ],
          "barpolar": [
           {
            "marker": {
             "line": {
              "color": "#E5ECF6",
              "width": 0.5
             },
             "pattern": {
              "fillmode": "overlay",
              "size": 10,
              "solidity": 0.2
             }
            },
            "type": "barpolar"
           }
          ],
          "carpet": [
           {
            "aaxis": {
             "endlinecolor": "#2a3f5f",
             "gridcolor": "white",
             "linecolor": "white",
             "minorgridcolor": "white",
             "startlinecolor": "#2a3f5f"
            },
            "baxis": {
             "endlinecolor": "#2a3f5f",
             "gridcolor": "white",
             "linecolor": "white",
             "minorgridcolor": "white",
             "startlinecolor": "#2a3f5f"
            },
            "type": "carpet"
           }
          ],
          "choropleth": [
           {
            "colorbar": {
             "outlinewidth": 0,
             "ticks": ""
            },
            "type": "choropleth"
           }
          ],
          "contour": [
           {
            "colorbar": {
             "outlinewidth": 0,
             "ticks": ""
            },
            "colorscale": [
             [
              0,
              "#0d0887"
             ],
             [
              0.1111111111111111,
              "#46039f"
             ],
             [
              0.2222222222222222,
              "#7201a8"
             ],
             [
              0.3333333333333333,
              "#9c179e"
             ],
             [
              0.4444444444444444,
              "#bd3786"
             ],
             [
              0.5555555555555556,
              "#d8576b"
             ],
             [
              0.6666666666666666,
              "#ed7953"
             ],
             [
              0.7777777777777778,
              "#fb9f3a"
             ],
             [
              0.8888888888888888,
              "#fdca26"
             ],
             [
              1,
              "#f0f921"
             ]
            ],
            "type": "contour"
           }
          ],
          "contourcarpet": [
           {
            "colorbar": {
             "outlinewidth": 0,
             "ticks": ""
            },
            "type": "contourcarpet"
           }
          ],
          "heatmap": [
           {
            "colorbar": {
             "outlinewidth": 0,
             "ticks": ""
            },
            "colorscale": [
             [
              0,
              "#0d0887"
             ],
             [
              0.1111111111111111,
              "#46039f"
             ],
             [
              0.2222222222222222,
              "#7201a8"
             ],
             [
              0.3333333333333333,
              "#9c179e"
             ],
             [
              0.4444444444444444,
              "#bd3786"
             ],
             [
              0.5555555555555556,
              "#d8576b"
             ],
             [
              0.6666666666666666,
              "#ed7953"
             ],
             [
              0.7777777777777778,
              "#fb9f3a"
             ],
             [
              0.8888888888888888,
              "#fdca26"
             ],
             [
              1,
              "#f0f921"
             ]
            ],
            "type": "heatmap"
           }
          ],
          "heatmapgl": [
           {
            "colorbar": {
             "outlinewidth": 0,
             "ticks": ""
            },
            "colorscale": [
             [
              0,
              "#0d0887"
             ],
             [
              0.1111111111111111,
              "#46039f"
             ],
             [
              0.2222222222222222,
              "#7201a8"
             ],
             [
              0.3333333333333333,
              "#9c179e"
             ],
             [
              0.4444444444444444,
              "#bd3786"
             ],
             [
              0.5555555555555556,
              "#d8576b"
             ],
             [
              0.6666666666666666,
              "#ed7953"
             ],
             [
              0.7777777777777778,
              "#fb9f3a"
             ],
             [
              0.8888888888888888,
              "#fdca26"
             ],
             [
              1,
              "#f0f921"
             ]
            ],
            "type": "heatmapgl"
           }
          ],
          "histogram": [
           {
            "marker": {
             "pattern": {
              "fillmode": "overlay",
              "size": 10,
              "solidity": 0.2
             }
            },
            "type": "histogram"
           }
          ],
          "histogram2d": [
           {
            "colorbar": {
             "outlinewidth": 0,
             "ticks": ""
            },
            "colorscale": [
             [
              0,
              "#0d0887"
             ],
             [
              0.1111111111111111,
              "#46039f"
             ],
             [
              0.2222222222222222,
              "#7201a8"
             ],
             [
              0.3333333333333333,
              "#9c179e"
             ],
             [
              0.4444444444444444,
              "#bd3786"
             ],
             [
              0.5555555555555556,
              "#d8576b"
             ],
             [
              0.6666666666666666,
              "#ed7953"
             ],
             [
              0.7777777777777778,
              "#fb9f3a"
             ],
             [
              0.8888888888888888,
              "#fdca26"
             ],
             [
              1,
              "#f0f921"
             ]
            ],
            "type": "histogram2d"
           }
          ],
          "histogram2dcontour": [
           {
            "colorbar": {
             "outlinewidth": 0,
             "ticks": ""
            },
            "colorscale": [
             [
              0,
              "#0d0887"
             ],
             [
              0.1111111111111111,
              "#46039f"
             ],
             [
              0.2222222222222222,
              "#7201a8"
             ],
             [
              0.3333333333333333,
              "#9c179e"
             ],
             [
              0.4444444444444444,
              "#bd3786"
             ],
             [
              0.5555555555555556,
              "#d8576b"
             ],
             [
              0.6666666666666666,
              "#ed7953"
             ],
             [
              0.7777777777777778,
              "#fb9f3a"
             ],
             [
              0.8888888888888888,
              "#fdca26"
             ],
             [
              1,
              "#f0f921"
             ]
            ],
            "type": "histogram2dcontour"
           }
          ],
          "mesh3d": [
           {
            "colorbar": {
             "outlinewidth": 0,
             "ticks": ""
            },
            "type": "mesh3d"
           }
          ],
          "parcoords": [
           {
            "line": {
             "colorbar": {
              "outlinewidth": 0,
              "ticks": ""
             }
            },
            "type": "parcoords"
           }
          ],
          "pie": [
           {
            "automargin": true,
            "type": "pie"
           }
          ],
          "scatter": [
           {
            "fillpattern": {
             "fillmode": "overlay",
             "size": 10,
             "solidity": 0.2
            },
            "type": "scatter"
           }
          ],
          "scatter3d": [
           {
            "line": {
             "colorbar": {
              "outlinewidth": 0,
              "ticks": ""
             }
            },
            "marker": {
             "colorbar": {
              "outlinewidth": 0,
              "ticks": ""
             }
            },
            "type": "scatter3d"
           }
          ],
          "scattercarpet": [
           {
            "marker": {
             "colorbar": {
              "outlinewidth": 0,
              "ticks": ""
             }
            },
            "type": "scattercarpet"
           }
          ],
          "scattergeo": [
           {
            "marker": {
             "colorbar": {
              "outlinewidth": 0,
              "ticks": ""
             }
            },
            "type": "scattergeo"
           }
          ],
          "scattergl": [
           {
            "marker": {
             "colorbar": {
              "outlinewidth": 0,
              "ticks": ""
             }
            },
            "type": "scattergl"
           }
          ],
          "scattermapbox": [
           {
            "marker": {
             "colorbar": {
              "outlinewidth": 0,
              "ticks": ""
             }
            },
            "type": "scattermapbox"
           }
          ],
          "scatterpolar": [
           {
            "marker": {
             "colorbar": {
              "outlinewidth": 0,
              "ticks": ""
             }
            },
            "type": "scatterpolar"
           }
          ],
          "scatterpolargl": [
           {
            "marker": {
             "colorbar": {
              "outlinewidth": 0,
              "ticks": ""
             }
            },
            "type": "scatterpolargl"
           }
          ],
          "scatterternary": [
           {
            "marker": {
             "colorbar": {
              "outlinewidth": 0,
              "ticks": ""
             }
            },
            "type": "scatterternary"
           }
          ],
          "surface": [
           {
            "colorbar": {
             "outlinewidth": 0,
             "ticks": ""
            },
            "colorscale": [
             [
              0,
              "#0d0887"
             ],
             [
              0.1111111111111111,
              "#46039f"
             ],
             [
              0.2222222222222222,
              "#7201a8"
             ],
             [
              0.3333333333333333,
              "#9c179e"
             ],
             [
              0.4444444444444444,
              "#bd3786"
             ],
             [
              0.5555555555555556,
              "#d8576b"
             ],
             [
              0.6666666666666666,
              "#ed7953"
             ],
             [
              0.7777777777777778,
              "#fb9f3a"
             ],
             [
              0.8888888888888888,
              "#fdca26"
             ],
             [
              1,
              "#f0f921"
             ]
            ],
            "type": "surface"
           }
          ],
          "table": [
           {
            "cells": {
             "fill": {
              "color": "#EBF0F8"
             },
             "line": {
              "color": "white"
             }
            },
            "header": {
             "fill": {
              "color": "#C8D4E3"
             },
             "line": {
              "color": "white"
             }
            },
            "type": "table"
           }
          ]
         },
         "layout": {
          "annotationdefaults": {
           "arrowcolor": "#2a3f5f",
           "arrowhead": 0,
           "arrowwidth": 1
          },
          "autotypenumbers": "strict",
          "coloraxis": {
           "colorbar": {
            "outlinewidth": 0,
            "ticks": ""
           }
          },
          "colorscale": {
           "diverging": [
            [
             0,
             "#8e0152"
            ],
            [
             0.1,
             "#c51b7d"
            ],
            [
             0.2,
             "#de77ae"
            ],
            [
             0.3,
             "#f1b6da"
            ],
            [
             0.4,
             "#fde0ef"
            ],
            [
             0.5,
             "#f7f7f7"
            ],
            [
             0.6,
             "#e6f5d0"
            ],
            [
             0.7,
             "#b8e186"
            ],
            [
             0.8,
             "#7fbc41"
            ],
            [
             0.9,
             "#4d9221"
            ],
            [
             1,
             "#276419"
            ]
           ],
           "sequential": [
            [
             0,
             "#0d0887"
            ],
            [
             0.1111111111111111,
             "#46039f"
            ],
            [
             0.2222222222222222,
             "#7201a8"
            ],
            [
             0.3333333333333333,
             "#9c179e"
            ],
            [
             0.4444444444444444,
             "#bd3786"
            ],
            [
             0.5555555555555556,
             "#d8576b"
            ],
            [
             0.6666666666666666,
             "#ed7953"
            ],
            [
             0.7777777777777778,
             "#fb9f3a"
            ],
            [
             0.8888888888888888,
             "#fdca26"
            ],
            [
             1,
             "#f0f921"
            ]
           ],
           "sequentialminus": [
            [
             0,
             "#0d0887"
            ],
            [
             0.1111111111111111,
             "#46039f"
            ],
            [
             0.2222222222222222,
             "#7201a8"
            ],
            [
             0.3333333333333333,
             "#9c179e"
            ],
            [
             0.4444444444444444,
             "#bd3786"
            ],
            [
             0.5555555555555556,
             "#d8576b"
            ],
            [
             0.6666666666666666,
             "#ed7953"
            ],
            [
             0.7777777777777778,
             "#fb9f3a"
            ],
            [
             0.8888888888888888,
             "#fdca26"
            ],
            [
             1,
             "#f0f921"
            ]
           ]
          },
          "colorway": [
           "#636efa",
           "#EF553B",
           "#00cc96",
           "#ab63fa",
           "#FFA15A",
           "#19d3f3",
           "#FF6692",
           "#B6E880",
           "#FF97FF",
           "#FECB52"
          ],
          "font": {
           "color": "#2a3f5f"
          },
          "geo": {
           "bgcolor": "white",
           "lakecolor": "white",
           "landcolor": "#E5ECF6",
           "showlakes": true,
           "showland": true,
           "subunitcolor": "white"
          },
          "hoverlabel": {
           "align": "left"
          },
          "hovermode": "closest",
          "mapbox": {
           "style": "light"
          },
          "paper_bgcolor": "white",
          "plot_bgcolor": "#E5ECF6",
          "polar": {
           "angularaxis": {
            "gridcolor": "white",
            "linecolor": "white",
            "ticks": ""
           },
           "bgcolor": "#E5ECF6",
           "radialaxis": {
            "gridcolor": "white",
            "linecolor": "white",
            "ticks": ""
           }
          },
          "scene": {
           "xaxis": {
            "backgroundcolor": "#E5ECF6",
            "gridcolor": "white",
            "gridwidth": 2,
            "linecolor": "white",
            "showbackground": true,
            "ticks": "",
            "zerolinecolor": "white"
           },
           "yaxis": {
            "backgroundcolor": "#E5ECF6",
            "gridcolor": "white",
            "gridwidth": 2,
            "linecolor": "white",
            "showbackground": true,
            "ticks": "",
            "zerolinecolor": "white"
           },
           "zaxis": {
            "backgroundcolor": "#E5ECF6",
            "gridcolor": "white",
            "gridwidth": 2,
            "linecolor": "white",
            "showbackground": true,
            "ticks": "",
            "zerolinecolor": "white"
           }
          },
          "shapedefaults": {
           "line": {
            "color": "#2a3f5f"
           }
          },
          "ternary": {
           "aaxis": {
            "gridcolor": "white",
            "linecolor": "white",
            "ticks": ""
           },
           "baxis": {
            "gridcolor": "white",
            "linecolor": "white",
            "ticks": ""
           },
           "bgcolor": "#E5ECF6",
           "caxis": {
            "gridcolor": "white",
            "linecolor": "white",
            "ticks": ""
           }
          },
          "title": {
           "x": 0.05
          },
          "xaxis": {
           "automargin": true,
           "gridcolor": "white",
           "linecolor": "white",
           "ticks": "",
           "title": {
            "standoff": 15
           },
           "zerolinecolor": "white",
           "zerolinewidth": 2
          },
          "yaxis": {
           "automargin": true,
           "gridcolor": "white",
           "linecolor": "white",
           "ticks": "",
           "title": {
            "standoff": 15
           },
           "zerolinecolor": "white",
           "zerolinewidth": 2
          }
         }
        },
        "title": {
         "font": {
          "color": "#4D5663"
         }
        },
        "xaxis": {
         "gridcolor": "#E1E5ED",
         "showgrid": true,
         "tickfont": {
          "color": "#4D5663"
         },
         "title": {
          "font": {
           "color": "#4D5663"
          },
          "text": ""
         },
         "zerolinecolor": "#E1E5ED"
        },
        "yaxis": {
         "gridcolor": "#E1E5ED",
         "showgrid": true,
         "tickfont": {
          "color": "#4D5663"
         },
         "title": {
          "font": {
           "color": "#4D5663"
          },
          "text": ""
         },
         "zerolinecolor": "#E1E5ED"
        }
       }
      },
      "text/html": [
       "<div>                            <div id=\"6be9fdc0-dabf-4f6f-ade8-e52792097446\" class=\"plotly-graph-div\" style=\"height:525px; width:100%;\"></div>            <script type=\"text/javascript\">                require([\"plotly\"], function(Plotly) {                    window.PLOTLYENV=window.PLOTLYENV || {};\n",
       "                    window.PLOTLYENV.BASE_URL='https://plot.ly';                                    if (document.getElementById(\"6be9fdc0-dabf-4f6f-ade8-e52792097446\")) {                    Plotly.newPlot(                        \"6be9fdc0-dabf-4f6f-ade8-e52792097446\",                        [{\"marker\":{\"color\":\"rgba(255, 153, 51, 0.6)\",\"line\":{\"color\":\"rgba(255, 153, 51, 1.0)\",\"width\":1}},\"name\":\"VALUES\",\"orientation\":\"v\",\"text\":\"\",\"x\":[\"A\",\"B\",\"C\",\"D\"],\"y\":[32,40,48,56],\"type\":\"bar\"}],                        {\"legend\":{\"bgcolor\":\"#F5F6F9\",\"font\":{\"color\":\"#4D5663\"}},\"paper_bgcolor\":\"#F5F6F9\",\"plot_bgcolor\":\"#F5F6F9\",\"template\":{\"data\":{\"barpolar\":[{\"marker\":{\"line\":{\"color\":\"#E5ECF6\",\"width\":0.5},\"pattern\":{\"fillmode\":\"overlay\",\"size\":10,\"solidity\":0.2}},\"type\":\"barpolar\"}],\"bar\":[{\"error_x\":{\"color\":\"#2a3f5f\"},\"error_y\":{\"color\":\"#2a3f5f\"},\"marker\":{\"line\":{\"color\":\"#E5ECF6\",\"width\":0.5},\"pattern\":{\"fillmode\":\"overlay\",\"size\":10,\"solidity\":0.2}},\"type\":\"bar\"}],\"carpet\":[{\"aaxis\":{\"endlinecolor\":\"#2a3f5f\",\"gridcolor\":\"white\",\"linecolor\":\"white\",\"minorgridcolor\":\"white\",\"startlinecolor\":\"#2a3f5f\"},\"baxis\":{\"endlinecolor\":\"#2a3f5f\",\"gridcolor\":\"white\",\"linecolor\":\"white\",\"minorgridcolor\":\"white\",\"startlinecolor\":\"#2a3f5f\"},\"type\":\"carpet\"}],\"choropleth\":[{\"colorbar\":{\"outlinewidth\":0,\"ticks\":\"\"},\"type\":\"choropleth\"}],\"contourcarpet\":[{\"colorbar\":{\"outlinewidth\":0,\"ticks\":\"\"},\"type\":\"contourcarpet\"}],\"contour\":[{\"colorbar\":{\"outlinewidth\":0,\"ticks\":\"\"},\"colorscale\":[[0.0,\"#0d0887\"],[0.1111111111111111,\"#46039f\"],[0.2222222222222222,\"#7201a8\"],[0.3333333333333333,\"#9c179e\"],[0.4444444444444444,\"#bd3786\"],[0.5555555555555556,\"#d8576b\"],[0.6666666666666666,\"#ed7953\"],[0.7777777777777778,\"#fb9f3a\"],[0.8888888888888888,\"#fdca26\"],[1.0,\"#f0f921\"]],\"type\":\"contour\"}],\"heatmapgl\":[{\"colorbar\":{\"outlinewidth\":0,\"ticks\":\"\"},\"colorscale\":[[0.0,\"#0d0887\"],[0.1111111111111111,\"#46039f\"],[0.2222222222222222,\"#7201a8\"],[0.3333333333333333,\"#9c179e\"],[0.4444444444444444,\"#bd3786\"],[0.5555555555555556,\"#d8576b\"],[0.6666666666666666,\"#ed7953\"],[0.7777777777777778,\"#fb9f3a\"],[0.8888888888888888,\"#fdca26\"],[1.0,\"#f0f921\"]],\"type\":\"heatmapgl\"}],\"heatmap\":[{\"colorbar\":{\"outlinewidth\":0,\"ticks\":\"\"},\"colorscale\":[[0.0,\"#0d0887\"],[0.1111111111111111,\"#46039f\"],[0.2222222222222222,\"#7201a8\"],[0.3333333333333333,\"#9c179e\"],[0.4444444444444444,\"#bd3786\"],[0.5555555555555556,\"#d8576b\"],[0.6666666666666666,\"#ed7953\"],[0.7777777777777778,\"#fb9f3a\"],[0.8888888888888888,\"#fdca26\"],[1.0,\"#f0f921\"]],\"type\":\"heatmap\"}],\"histogram2dcontour\":[{\"colorbar\":{\"outlinewidth\":0,\"ticks\":\"\"},\"colorscale\":[[0.0,\"#0d0887\"],[0.1111111111111111,\"#46039f\"],[0.2222222222222222,\"#7201a8\"],[0.3333333333333333,\"#9c179e\"],[0.4444444444444444,\"#bd3786\"],[0.5555555555555556,\"#d8576b\"],[0.6666666666666666,\"#ed7953\"],[0.7777777777777778,\"#fb9f3a\"],[0.8888888888888888,\"#fdca26\"],[1.0,\"#f0f921\"]],\"type\":\"histogram2dcontour\"}],\"histogram2d\":[{\"colorbar\":{\"outlinewidth\":0,\"ticks\":\"\"},\"colorscale\":[[0.0,\"#0d0887\"],[0.1111111111111111,\"#46039f\"],[0.2222222222222222,\"#7201a8\"],[0.3333333333333333,\"#9c179e\"],[0.4444444444444444,\"#bd3786\"],[0.5555555555555556,\"#d8576b\"],[0.6666666666666666,\"#ed7953\"],[0.7777777777777778,\"#fb9f3a\"],[0.8888888888888888,\"#fdca26\"],[1.0,\"#f0f921\"]],\"type\":\"histogram2d\"}],\"histogram\":[{\"marker\":{\"pattern\":{\"fillmode\":\"overlay\",\"size\":10,\"solidity\":0.2}},\"type\":\"histogram\"}],\"mesh3d\":[{\"colorbar\":{\"outlinewidth\":0,\"ticks\":\"\"},\"type\":\"mesh3d\"}],\"parcoords\":[{\"line\":{\"colorbar\":{\"outlinewidth\":0,\"ticks\":\"\"}},\"type\":\"parcoords\"}],\"pie\":[{\"automargin\":true,\"type\":\"pie\"}],\"scatter3d\":[{\"line\":{\"colorbar\":{\"outlinewidth\":0,\"ticks\":\"\"}},\"marker\":{\"colorbar\":{\"outlinewidth\":0,\"ticks\":\"\"}},\"type\":\"scatter3d\"}],\"scattercarpet\":[{\"marker\":{\"colorbar\":{\"outlinewidth\":0,\"ticks\":\"\"}},\"type\":\"scattercarpet\"}],\"scattergeo\":[{\"marker\":{\"colorbar\":{\"outlinewidth\":0,\"ticks\":\"\"}},\"type\":\"scattergeo\"}],\"scattergl\":[{\"marker\":{\"colorbar\":{\"outlinewidth\":0,\"ticks\":\"\"}},\"type\":\"scattergl\"}],\"scattermapbox\":[{\"marker\":{\"colorbar\":{\"outlinewidth\":0,\"ticks\":\"\"}},\"type\":\"scattermapbox\"}],\"scatterpolargl\":[{\"marker\":{\"colorbar\":{\"outlinewidth\":0,\"ticks\":\"\"}},\"type\":\"scatterpolargl\"}],\"scatterpolar\":[{\"marker\":{\"colorbar\":{\"outlinewidth\":0,\"ticks\":\"\"}},\"type\":\"scatterpolar\"}],\"scatter\":[{\"fillpattern\":{\"fillmode\":\"overlay\",\"size\":10,\"solidity\":0.2},\"type\":\"scatter\"}],\"scatterternary\":[{\"marker\":{\"colorbar\":{\"outlinewidth\":0,\"ticks\":\"\"}},\"type\":\"scatterternary\"}],\"surface\":[{\"colorbar\":{\"outlinewidth\":0,\"ticks\":\"\"},\"colorscale\":[[0.0,\"#0d0887\"],[0.1111111111111111,\"#46039f\"],[0.2222222222222222,\"#7201a8\"],[0.3333333333333333,\"#9c179e\"],[0.4444444444444444,\"#bd3786\"],[0.5555555555555556,\"#d8576b\"],[0.6666666666666666,\"#ed7953\"],[0.7777777777777778,\"#fb9f3a\"],[0.8888888888888888,\"#fdca26\"],[1.0,\"#f0f921\"]],\"type\":\"surface\"}],\"table\":[{\"cells\":{\"fill\":{\"color\":\"#EBF0F8\"},\"line\":{\"color\":\"white\"}},\"header\":{\"fill\":{\"color\":\"#C8D4E3\"},\"line\":{\"color\":\"white\"}},\"type\":\"table\"}]},\"layout\":{\"annotationdefaults\":{\"arrowcolor\":\"#2a3f5f\",\"arrowhead\":0,\"arrowwidth\":1},\"autotypenumbers\":\"strict\",\"coloraxis\":{\"colorbar\":{\"outlinewidth\":0,\"ticks\":\"\"}},\"colorscale\":{\"diverging\":[[0,\"#8e0152\"],[0.1,\"#c51b7d\"],[0.2,\"#de77ae\"],[0.3,\"#f1b6da\"],[0.4,\"#fde0ef\"],[0.5,\"#f7f7f7\"],[0.6,\"#e6f5d0\"],[0.7,\"#b8e186\"],[0.8,\"#7fbc41\"],[0.9,\"#4d9221\"],[1,\"#276419\"]],\"sequential\":[[0.0,\"#0d0887\"],[0.1111111111111111,\"#46039f\"],[0.2222222222222222,\"#7201a8\"],[0.3333333333333333,\"#9c179e\"],[0.4444444444444444,\"#bd3786\"],[0.5555555555555556,\"#d8576b\"],[0.6666666666666666,\"#ed7953\"],[0.7777777777777778,\"#fb9f3a\"],[0.8888888888888888,\"#fdca26\"],[1.0,\"#f0f921\"]],\"sequentialminus\":[[0.0,\"#0d0887\"],[0.1111111111111111,\"#46039f\"],[0.2222222222222222,\"#7201a8\"],[0.3333333333333333,\"#9c179e\"],[0.4444444444444444,\"#bd3786\"],[0.5555555555555556,\"#d8576b\"],[0.6666666666666666,\"#ed7953\"],[0.7777777777777778,\"#fb9f3a\"],[0.8888888888888888,\"#fdca26\"],[1.0,\"#f0f921\"]]},\"colorway\":[\"#636efa\",\"#EF553B\",\"#00cc96\",\"#ab63fa\",\"#FFA15A\",\"#19d3f3\",\"#FF6692\",\"#B6E880\",\"#FF97FF\",\"#FECB52\"],\"font\":{\"color\":\"#2a3f5f\"},\"geo\":{\"bgcolor\":\"white\",\"lakecolor\":\"white\",\"landcolor\":\"#E5ECF6\",\"showlakes\":true,\"showland\":true,\"subunitcolor\":\"white\"},\"hoverlabel\":{\"align\":\"left\"},\"hovermode\":\"closest\",\"mapbox\":{\"style\":\"light\"},\"paper_bgcolor\":\"white\",\"plot_bgcolor\":\"#E5ECF6\",\"polar\":{\"angularaxis\":{\"gridcolor\":\"white\",\"linecolor\":\"white\",\"ticks\":\"\"},\"bgcolor\":\"#E5ECF6\",\"radialaxis\":{\"gridcolor\":\"white\",\"linecolor\":\"white\",\"ticks\":\"\"}},\"scene\":{\"xaxis\":{\"backgroundcolor\":\"#E5ECF6\",\"gridcolor\":\"white\",\"gridwidth\":2,\"linecolor\":\"white\",\"showbackground\":true,\"ticks\":\"\",\"zerolinecolor\":\"white\"},\"yaxis\":{\"backgroundcolor\":\"#E5ECF6\",\"gridcolor\":\"white\",\"gridwidth\":2,\"linecolor\":\"white\",\"showbackground\":true,\"ticks\":\"\",\"zerolinecolor\":\"white\"},\"zaxis\":{\"backgroundcolor\":\"#E5ECF6\",\"gridcolor\":\"white\",\"gridwidth\":2,\"linecolor\":\"white\",\"showbackground\":true,\"ticks\":\"\",\"zerolinecolor\":\"white\"}},\"shapedefaults\":{\"line\":{\"color\":\"#2a3f5f\"}},\"ternary\":{\"aaxis\":{\"gridcolor\":\"white\",\"linecolor\":\"white\",\"ticks\":\"\"},\"baxis\":{\"gridcolor\":\"white\",\"linecolor\":\"white\",\"ticks\":\"\"},\"bgcolor\":\"#E5ECF6\",\"caxis\":{\"gridcolor\":\"white\",\"linecolor\":\"white\",\"ticks\":\"\"}},\"title\":{\"x\":0.05},\"xaxis\":{\"automargin\":true,\"gridcolor\":\"white\",\"linecolor\":\"white\",\"ticks\":\"\",\"title\":{\"standoff\":15},\"zerolinecolor\":\"white\",\"zerolinewidth\":2},\"yaxis\":{\"automargin\":true,\"gridcolor\":\"white\",\"linecolor\":\"white\",\"ticks\":\"\",\"title\":{\"standoff\":15},\"zerolinecolor\":\"white\",\"zerolinewidth\":2}}},\"title\":{\"font\":{\"color\":\"#4D5663\"}},\"xaxis\":{\"gridcolor\":\"#E1E5ED\",\"showgrid\":true,\"tickfont\":{\"color\":\"#4D5663\"},\"title\":{\"font\":{\"color\":\"#4D5663\"},\"text\":\"\"},\"zerolinecolor\":\"#E1E5ED\"},\"yaxis\":{\"gridcolor\":\"#E1E5ED\",\"showgrid\":true,\"tickfont\":{\"color\":\"#4D5663\"},\"title\":{\"font\":{\"color\":\"#4D5663\"},\"text\":\"\"},\"zerolinecolor\":\"#E1E5ED\"}},                        {\"showLink\": true, \"linkText\": \"Export to plot.ly\", \"plotlyServerURL\": \"https://plot.ly\", \"responsive\": true}                    ).then(function(){\n",
       "                            \n",
       "var gd = document.getElementById('6be9fdc0-dabf-4f6f-ade8-e52792097446');\n",
       "var x = new MutationObserver(function (mutations, observer) {{\n",
       "        var display = window.getComputedStyle(gd).display;\n",
       "        if (!display || display === 'none') {{\n",
       "            console.log([gd, 'removed!']);\n",
       "            Plotly.purge(gd);\n",
       "            observer.disconnect();\n",
       "        }}\n",
       "}});\n",
       "\n",
       "// Listen for the removal of the full notebook cells\n",
       "var notebookContainer = gd.closest('#notebook-container');\n",
       "if (notebookContainer) {{\n",
       "    x.observe(notebookContainer, {childList: true});\n",
       "}}\n",
       "\n",
       "// Listen for the clearing of the current output cell\n",
       "var outputEl = gd.closest('.output');\n",
       "if (outputEl) {{\n",
       "    x.observe(outputEl, {childList: true});\n",
       "}}\n",
       "\n",
       "                        })                };                });            </script>        </div>"
      ]
     },
     "metadata": {},
     "output_type": "display_data"
    }
   ],
   "source": [
    "df2.iplot ( kind=\"bar\" , x=\"CATEGORY\" , y=\"VALUES\" )"
   ]
  },
  {
   "cell_type": "code",
   "execution_count": 9,
   "id": "62e2966e",
   "metadata": {},
   "outputs": [
    {
     "data": {
      "application/vnd.plotly.v1+json": {
       "config": {
        "linkText": "Export to plot.ly",
        "plotlyServerURL": "https://plot.ly",
        "showLink": true
       },
       "data": [
        {
         "marker": {
          "color": "rgba(255, 153, 51, 0.6)",
          "line": {
           "color": "rgba(255, 153, 51, 1.0)",
           "width": 1
          }
         },
         "name": "A",
         "orientation": "v",
         "text": "",
         "type": "bar",
         "x": [
          0,
          1,
          2,
          3,
          4,
          5,
          6,
          7,
          8,
          9,
          10,
          11,
          12,
          13,
          14,
          15,
          16,
          17,
          18,
          19,
          20,
          21,
          22,
          23,
          24,
          25,
          26,
          27,
          28,
          29,
          30,
          31,
          32,
          33,
          34,
          35,
          36,
          37,
          38,
          39,
          40,
          41,
          42,
          43,
          44,
          45,
          46,
          47,
          48,
          49,
          50,
          51,
          52,
          53,
          54,
          55,
          56,
          57,
          58,
          59,
          60,
          61,
          62,
          63,
          64,
          65,
          66,
          67,
          68,
          69,
          70,
          71,
          72,
          73,
          74,
          75,
          76,
          77,
          78,
          79,
          80,
          81,
          82,
          83,
          84,
          85,
          86,
          87,
          88,
          89,
          90,
          91,
          92,
          93,
          94,
          95,
          96,
          97,
          98,
          99
         ],
         "y": [
          0.512752939029791,
          -0.3553419617198243,
          -0.27929092762229374,
          0.13715381120273906,
          -0.10561595646288185,
          -0.1599097109111184,
          -0.4979472496059992,
          0.157104113124573,
          -0.46293873496051735,
          2.485418431861522,
          -0.4516734756190726,
          -1.493458861952407,
          -0.026482791768084567,
          -0.2757463899836123,
          2.241694624786081,
          -0.5129572406266717,
          0.15252616393685708,
          1.3865506913062904,
          -0.4983345548729902,
          0.307249958853756,
          -1.128251054831078,
          -0.8075072847154674,
          -0.6363660077137355,
          -0.3713082499903116,
          1.0441461790223507,
          0.3414257868465785,
          -0.5322617919291063,
          -1.2591308173815023,
          0.7009125457086441,
          0.9967249848203381,
          0.5553427242848349,
          -0.1710629029221637,
          -0.09347269250359294,
          -0.06269091796217952,
          -0.8889925758821092,
          1.0218299933351225,
          0.8210081659849187,
          0.44322827056598846,
          -0.4184786434300998,
          -0.08940115509505929,
          0.7269703626378548,
          0.24703444042561,
          0.05660618906374495,
          -0.46715813740333273,
          0.02946942295050563,
          -2.0148452428808628,
          -1.8538320646658921,
          -0.3354297970013657,
          1.6395349929699676,
          1.8490226882208158,
          -0.1512933010494933,
          -0.5005603686679456,
          0.7287108498117928,
          1.298360623953065,
          0.05835482274762789,
          0.05404720881988463,
          1.6448478378071496,
          -0.2165273389788695,
          -0.01089034092055172,
          -0.6396922580512779,
          0.1659230506263948,
          -0.26904140973624013,
          -0.15555495444472764,
          0.9466288861187291,
          0.49900398554713205,
          -2.175214685296227,
          0.09718808811786087,
          2.708148103191192,
          -0.7877907963975526,
          -0.0014491244335431606,
          -0.11955410895494896,
          -0.012562024727582138,
          -0.38147657376126753,
          1.1364951029280372,
          -0.3185237106734018,
          -2.2316850554714165,
          -1.332370837239957,
          1.1773780023580709,
          0.02886572654773463,
          -1.345659142078511,
          0.8985612990834209,
          0.7222788050675611,
          -1.3802880760915244,
          -1.9585194457414203,
          -2.1686577556553375,
          -0.8500871395049288,
          0.10917120767171398,
          0.4795289001080743,
          1.2234004610201688,
          0.8152430704621533,
          1.0968304321670168,
          -1.4067781777797062,
          0.05849673408436882,
          0.7533432362097038,
          0.015432162011626286,
          -1.2840022615670568,
          1.0343567428530556,
          0.6022038052564009,
          -0.5734790425194495,
          -0.061518042568631644
         ]
        },
        {
         "marker": {
          "color": "rgba(55, 128, 191, 0.6)",
          "line": {
           "color": "rgba(55, 128, 191, 1.0)",
           "width": 1
          }
         },
         "name": "B",
         "orientation": "v",
         "text": "",
         "type": "bar",
         "x": [
          0,
          1,
          2,
          3,
          4,
          5,
          6,
          7,
          8,
          9,
          10,
          11,
          12,
          13,
          14,
          15,
          16,
          17,
          18,
          19,
          20,
          21,
          22,
          23,
          24,
          25,
          26,
          27,
          28,
          29,
          30,
          31,
          32,
          33,
          34,
          35,
          36,
          37,
          38,
          39,
          40,
          41,
          42,
          43,
          44,
          45,
          46,
          47,
          48,
          49,
          50,
          51,
          52,
          53,
          54,
          55,
          56,
          57,
          58,
          59,
          60,
          61,
          62,
          63,
          64,
          65,
          66,
          67,
          68,
          69,
          70,
          71,
          72,
          73,
          74,
          75,
          76,
          77,
          78,
          79,
          80,
          81,
          82,
          83,
          84,
          85,
          86,
          87,
          88,
          89,
          90,
          91,
          92,
          93,
          94,
          95,
          96,
          97,
          98,
          99
         ],
         "y": [
          0.9495836228334081,
          -0.7100194112250915,
          1.650112399487089,
          0.7207073489887325,
          -0.6598783128597964,
          0.18061985623530957,
          -0.4113123196925393,
          -0.8059169160909352,
          -0.45030841232826324,
          -0.8649897640802658,
          1.0102208397481613,
          -1.0723396880437734,
          -0.6968940084156565,
          -0.8645673092942562,
          2.1955425731858553,
          -1.8863114244239756,
          0.8957455972821831,
          0.678767466446716,
          -0.8943159560446318,
          -0.09741963407826157,
          0.7654188247816236,
          -0.3061372125342001,
          0.5819132563211112,
          -0.8670704822495087,
          -1.1685354191395143,
          0.4987062070583795,
          -1.2664917103538968,
          -0.0020470918678063186,
          0.3121952440872714,
          -0.16072843272068324,
          0.11875890069643805,
          0.44986031105381663,
          -1.2372941389702115,
          -0.0699148743189868,
          0.5722458274120602,
          -0.908423657263562,
          0.9938975291952103,
          0.7958846288611234,
          2.301904816453025,
          -0.03442714273076457,
          1.9790174693194467,
          2.610010540348577,
          0.32989197333371956,
          0.8624799408253738,
          0.1139651001292569,
          0.4707004527178716,
          -1.5716325921736916,
          -0.24216538524890424,
          1.2948587449311602,
          2.4104001599038,
          0.06946876011078847,
          0.14121954910246642,
          -1.758843335651598,
          -0.34023316429089806,
          -0.615902806569471,
          0.5258757904723518,
          0.768142038676994,
          -0.6217746021507302,
          0.40561366010531047,
          0.0611695638678798,
          -0.13738126847244095,
          1.0648377553030648,
          -1.8221199689954444,
          -0.8653744519128183,
          0.6777054680280602,
          2.497494640335452,
          0.15104718570411105,
          1.6886883956295087,
          0.2150663109619358,
          1.1726393230041428,
          -0.6033410253786355,
          -1.1128029280466678,
          -1.3753978791796673,
          -1.6083436278421894,
          0.3251529185534095,
          -0.23507903877710437,
          0.6854681379288818,
          -1.041259674279969,
          -0.6804639148664574,
          0.8121246030044645,
          1.3458243345424477,
          -0.11174265897113703,
          0.8968517311317901,
          1.1561368291141871,
          0.14505918969787704,
          -0.18489325889499017,
          0.28894923373935066,
          0.9245649933210359,
          0.09791212574998187,
          1.735864656117559,
          1.8020648684561578,
          1.1660229778070796,
          1.6705341417911646,
          0.7029421504635976,
          -0.09985353358039065,
          0.6613232704319956,
          0.7436371685517646,
          -1.1581864717986816,
          -0.0517374783828689,
          0.01597140932841376
         ]
        },
        {
         "marker": {
          "color": "rgba(50, 171, 96, 0.6)",
          "line": {
           "color": "rgba(50, 171, 96, 1.0)",
           "width": 1
          }
         },
         "name": "C",
         "orientation": "v",
         "text": "",
         "type": "bar",
         "x": [
          0,
          1,
          2,
          3,
          4,
          5,
          6,
          7,
          8,
          9,
          10,
          11,
          12,
          13,
          14,
          15,
          16,
          17,
          18,
          19,
          20,
          21,
          22,
          23,
          24,
          25,
          26,
          27,
          28,
          29,
          30,
          31,
          32,
          33,
          34,
          35,
          36,
          37,
          38,
          39,
          40,
          41,
          42,
          43,
          44,
          45,
          46,
          47,
          48,
          49,
          50,
          51,
          52,
          53,
          54,
          55,
          56,
          57,
          58,
          59,
          60,
          61,
          62,
          63,
          64,
          65,
          66,
          67,
          68,
          69,
          70,
          71,
          72,
          73,
          74,
          75,
          76,
          77,
          78,
          79,
          80,
          81,
          82,
          83,
          84,
          85,
          86,
          87,
          88,
          89,
          90,
          91,
          92,
          93,
          94,
          95,
          96,
          97,
          98,
          99
         ],
         "y": [
          0.647918339125702,
          -0.6629874159950747,
          -1.365185908111771,
          -2.0075225889599912,
          0.35654496700388316,
          1.3006874023536812,
          0.6835665697629982,
          -0.1401688964319155,
          -0.5803277472699386,
          0.6923895199692292,
          0.11043568798289007,
          -2.04023863493297,
          -1.4862374677794092,
          -0.8038954840842417,
          -0.4135429899954026,
          -0.19033116277557574,
          -0.5832375643284965,
          -0.7939887159905965,
          0.6763710647834456,
          0.622834178952044,
          0.19795849857076636,
          0.9230244541099311,
          0.9102873282566336,
          -1.578134272455675,
          2.248498612388913,
          -0.618276094493357,
          -1.642332191049332,
          -0.04954032303581414,
          1.273426373834263,
          0.05231784690273851,
          0.2170359373006094,
          -0.621871739089189,
          1.7856015664211622,
          0.43911657462324843,
          -1.4061425872715332,
          -0.32187333746658625,
          -0.23938813708705242,
          1.7833946355736527,
          -0.37324468282187484,
          -1.0666543693021822,
          -1.5485146171686575,
          0.20222191754419228,
          1.5230706386496686,
          0.616125792570182,
          -0.060507670904036276,
          -1.2248084283541232,
          -0.044431380557908934,
          2.2728044609439206,
          -1.7719469687907905,
          -0.5033840112064768,
          0.3851516439195813,
          -0.46447582205570065,
          -0.41975194804749727,
          0.04487714083101872,
          -2.008098012532532,
          0.2570531685060416,
          0.4336246485117831,
          0.7873621484585646,
          -0.7858747473947723,
          -2.249721885545336,
          0.2608393620754042,
          -0.35116999546835553,
          -1.4189477335205365,
          0.2452825146149802,
          0.40435417415188973,
          0.09930232430532347,
          -1.6741987610616293,
          0.42798943237457315,
          1.1160057602750102,
          -0.08809469183071897,
          1.0374511726902327,
          0.8647984505493161,
          -2.02602321230138,
          -1.8973360600586375,
          1.3290420228656905,
          -0.08532051099166421,
          -0.1618291189602749,
          3.36589901332965,
          0.2853060111168622,
          1.4909104779129705,
          2.603046817481854,
          0.07057420879162299,
          -0.3349264401219666,
          -0.27214487332199866,
          0.11621477136899505,
          -1.9653993496117967,
          -0.6532103410624271,
          0.2363608302426708,
          0.9248339096229946,
          1.044452994302072,
          -0.568127620861377,
          0.9347943385510102,
          -1.4674844783936958,
          -0.6593242696058286,
          0.33773560085113274,
          -0.9564585499347026,
          -1.0816546603266393,
          -0.0990998967519054,
          -0.6780371610061101,
          -0.4661359234137232
         ]
        },
        {
         "marker": {
          "color": "rgba(128, 0, 128, 0.6)",
          "line": {
           "color": "rgba(128, 0, 128, 1.0)",
           "width": 1
          }
         },
         "name": "D",
         "orientation": "v",
         "text": "",
         "type": "bar",
         "x": [
          0,
          1,
          2,
          3,
          4,
          5,
          6,
          7,
          8,
          9,
          10,
          11,
          12,
          13,
          14,
          15,
          16,
          17,
          18,
          19,
          20,
          21,
          22,
          23,
          24,
          25,
          26,
          27,
          28,
          29,
          30,
          31,
          32,
          33,
          34,
          35,
          36,
          37,
          38,
          39,
          40,
          41,
          42,
          43,
          44,
          45,
          46,
          47,
          48,
          49,
          50,
          51,
          52,
          53,
          54,
          55,
          56,
          57,
          58,
          59,
          60,
          61,
          62,
          63,
          64,
          65,
          66,
          67,
          68,
          69,
          70,
          71,
          72,
          73,
          74,
          75,
          76,
          77,
          78,
          79,
          80,
          81,
          82,
          83,
          84,
          85,
          86,
          87,
          88,
          89,
          90,
          91,
          92,
          93,
          94,
          95,
          96,
          97,
          98,
          99
         ],
         "y": [
          -0.19631981906212687,
          -0.6519713807353804,
          -1.0649846722973384,
          0.2276268403009993,
          0.7048164209836024,
          -1.4446783704695936,
          -2.033750158183124,
          0.5138908127633827,
          0.5743634695953264,
          -1.3657451693518634,
          0.4637907687699757,
          1.0844078896291873,
          -0.8199961871709128,
          0.7302810084439927,
          1.1501886667067136,
          1.4068956037099702,
          1.508692417359712,
          -0.122429546415331,
          -1.2139029828276917,
          -1.3915936060875007,
          -0.3238322412559266,
          1.3434653001668608,
          -0.5185807775608965,
          -0.7107820957370212,
          -0.4464055579970659,
          -0.9606481511417176,
          -0.295817297356241,
          -0.7965590857577352,
          0.006067325117813681,
          -0.4809220256345543,
          1.028630144482865,
          -0.3991139925170933,
          0.03907052978298096,
          1.4539224977284508,
          1.2368047827803776,
          1.498742536272704,
          0.9555284868160445,
          -0.4319859168096048,
          0.07204665511014491,
          0.15138773782731127,
          -0.0016863454597473644,
          -0.66704262100987,
          0.8234927800554659,
          0.9355289432127771,
          -0.6529971281881106,
          1.5998032068698078,
          -1.158827929365611,
          -0.04136818612304619,
          1.0781454686574732,
          0.21721131798324592,
          1.534521058113346,
          -1.750652204012357,
          0.9872822474417707,
          -1.197496541939758,
          -1.0439173878772081,
          0.09596236413985537,
          -0.6568654252222857,
          0.706633110663512,
          -1.211932613051174,
          0.671873724489011,
          -0.3898892118405459,
          0.9970459716634278,
          -0.28713960225161106,
          -0.010341133054459198,
          -0.9767493981679324,
          -0.18844975221423968,
          -0.7820893042608988,
          -1.8529738370200275,
          1.4738531760079354,
          -0.23686088155185786,
          -0.8470745256434993,
          -2.05765141244495,
          0.8174144337022742,
          -1.4106119727042548,
          -0.7248926917781047,
          -0.8969630071984197,
          -0.6419860011659925,
          -0.375072540951662,
          0.17237805217223748,
          -0.5805831220436499,
          -1.0090042945869997,
          -0.360630514240928,
          0.06712082805980472,
          -1.0222964654995608,
          -1.3111878556748808,
          -0.6265000694373624,
          -0.45147531022127435,
          -1.1298686894301744,
          -1.7403524915989772,
          -0.20931072894096553,
          -0.4243133313934241,
          -0.4252201065654679,
          -0.9829243053422797,
          0.6344429869787069,
          0.4895108597241183,
          0.9515124340705648,
          -1.2456264225617408,
          -0.003231469493402177,
          -0.4297021911016993,
          -1.0168190422430656
         ]
        }
       ],
       "layout": {
        "legend": {
         "bgcolor": "#F5F6F9",
         "font": {
          "color": "#4D5663"
         }
        },
        "paper_bgcolor": "#F5F6F9",
        "plot_bgcolor": "#F5F6F9",
        "template": {
         "data": {
          "bar": [
           {
            "error_x": {
             "color": "#2a3f5f"
            },
            "error_y": {
             "color": "#2a3f5f"
            },
            "marker": {
             "line": {
              "color": "#E5ECF6",
              "width": 0.5
             },
             "pattern": {
              "fillmode": "overlay",
              "size": 10,
              "solidity": 0.2
             }
            },
            "type": "bar"
           }
          ],
          "barpolar": [
           {
            "marker": {
             "line": {
              "color": "#E5ECF6",
              "width": 0.5
             },
             "pattern": {
              "fillmode": "overlay",
              "size": 10,
              "solidity": 0.2
             }
            },
            "type": "barpolar"
           }
          ],
          "carpet": [
           {
            "aaxis": {
             "endlinecolor": "#2a3f5f",
             "gridcolor": "white",
             "linecolor": "white",
             "minorgridcolor": "white",
             "startlinecolor": "#2a3f5f"
            },
            "baxis": {
             "endlinecolor": "#2a3f5f",
             "gridcolor": "white",
             "linecolor": "white",
             "minorgridcolor": "white",
             "startlinecolor": "#2a3f5f"
            },
            "type": "carpet"
           }
          ],
          "choropleth": [
           {
            "colorbar": {
             "outlinewidth": 0,
             "ticks": ""
            },
            "type": "choropleth"
           }
          ],
          "contour": [
           {
            "colorbar": {
             "outlinewidth": 0,
             "ticks": ""
            },
            "colorscale": [
             [
              0,
              "#0d0887"
             ],
             [
              0.1111111111111111,
              "#46039f"
             ],
             [
              0.2222222222222222,
              "#7201a8"
             ],
             [
              0.3333333333333333,
              "#9c179e"
             ],
             [
              0.4444444444444444,
              "#bd3786"
             ],
             [
              0.5555555555555556,
              "#d8576b"
             ],
             [
              0.6666666666666666,
              "#ed7953"
             ],
             [
              0.7777777777777778,
              "#fb9f3a"
             ],
             [
              0.8888888888888888,
              "#fdca26"
             ],
             [
              1,
              "#f0f921"
             ]
            ],
            "type": "contour"
           }
          ],
          "contourcarpet": [
           {
            "colorbar": {
             "outlinewidth": 0,
             "ticks": ""
            },
            "type": "contourcarpet"
           }
          ],
          "heatmap": [
           {
            "colorbar": {
             "outlinewidth": 0,
             "ticks": ""
            },
            "colorscale": [
             [
              0,
              "#0d0887"
             ],
             [
              0.1111111111111111,
              "#46039f"
             ],
             [
              0.2222222222222222,
              "#7201a8"
             ],
             [
              0.3333333333333333,
              "#9c179e"
             ],
             [
              0.4444444444444444,
              "#bd3786"
             ],
             [
              0.5555555555555556,
              "#d8576b"
             ],
             [
              0.6666666666666666,
              "#ed7953"
             ],
             [
              0.7777777777777778,
              "#fb9f3a"
             ],
             [
              0.8888888888888888,
              "#fdca26"
             ],
             [
              1,
              "#f0f921"
             ]
            ],
            "type": "heatmap"
           }
          ],
          "heatmapgl": [
           {
            "colorbar": {
             "outlinewidth": 0,
             "ticks": ""
            },
            "colorscale": [
             [
              0,
              "#0d0887"
             ],
             [
              0.1111111111111111,
              "#46039f"
             ],
             [
              0.2222222222222222,
              "#7201a8"
             ],
             [
              0.3333333333333333,
              "#9c179e"
             ],
             [
              0.4444444444444444,
              "#bd3786"
             ],
             [
              0.5555555555555556,
              "#d8576b"
             ],
             [
              0.6666666666666666,
              "#ed7953"
             ],
             [
              0.7777777777777778,
              "#fb9f3a"
             ],
             [
              0.8888888888888888,
              "#fdca26"
             ],
             [
              1,
              "#f0f921"
             ]
            ],
            "type": "heatmapgl"
           }
          ],
          "histogram": [
           {
            "marker": {
             "pattern": {
              "fillmode": "overlay",
              "size": 10,
              "solidity": 0.2
             }
            },
            "type": "histogram"
           }
          ],
          "histogram2d": [
           {
            "colorbar": {
             "outlinewidth": 0,
             "ticks": ""
            },
            "colorscale": [
             [
              0,
              "#0d0887"
             ],
             [
              0.1111111111111111,
              "#46039f"
             ],
             [
              0.2222222222222222,
              "#7201a8"
             ],
             [
              0.3333333333333333,
              "#9c179e"
             ],
             [
              0.4444444444444444,
              "#bd3786"
             ],
             [
              0.5555555555555556,
              "#d8576b"
             ],
             [
              0.6666666666666666,
              "#ed7953"
             ],
             [
              0.7777777777777778,
              "#fb9f3a"
             ],
             [
              0.8888888888888888,
              "#fdca26"
             ],
             [
              1,
              "#f0f921"
             ]
            ],
            "type": "histogram2d"
           }
          ],
          "histogram2dcontour": [
           {
            "colorbar": {
             "outlinewidth": 0,
             "ticks": ""
            },
            "colorscale": [
             [
              0,
              "#0d0887"
             ],
             [
              0.1111111111111111,
              "#46039f"
             ],
             [
              0.2222222222222222,
              "#7201a8"
             ],
             [
              0.3333333333333333,
              "#9c179e"
             ],
             [
              0.4444444444444444,
              "#bd3786"
             ],
             [
              0.5555555555555556,
              "#d8576b"
             ],
             [
              0.6666666666666666,
              "#ed7953"
             ],
             [
              0.7777777777777778,
              "#fb9f3a"
             ],
             [
              0.8888888888888888,
              "#fdca26"
             ],
             [
              1,
              "#f0f921"
             ]
            ],
            "type": "histogram2dcontour"
           }
          ],
          "mesh3d": [
           {
            "colorbar": {
             "outlinewidth": 0,
             "ticks": ""
            },
            "type": "mesh3d"
           }
          ],
          "parcoords": [
           {
            "line": {
             "colorbar": {
              "outlinewidth": 0,
              "ticks": ""
             }
            },
            "type": "parcoords"
           }
          ],
          "pie": [
           {
            "automargin": true,
            "type": "pie"
           }
          ],
          "scatter": [
           {
            "fillpattern": {
             "fillmode": "overlay",
             "size": 10,
             "solidity": 0.2
            },
            "type": "scatter"
           }
          ],
          "scatter3d": [
           {
            "line": {
             "colorbar": {
              "outlinewidth": 0,
              "ticks": ""
             }
            },
            "marker": {
             "colorbar": {
              "outlinewidth": 0,
              "ticks": ""
             }
            },
            "type": "scatter3d"
           }
          ],
          "scattercarpet": [
           {
            "marker": {
             "colorbar": {
              "outlinewidth": 0,
              "ticks": ""
             }
            },
            "type": "scattercarpet"
           }
          ],
          "scattergeo": [
           {
            "marker": {
             "colorbar": {
              "outlinewidth": 0,
              "ticks": ""
             }
            },
            "type": "scattergeo"
           }
          ],
          "scattergl": [
           {
            "marker": {
             "colorbar": {
              "outlinewidth": 0,
              "ticks": ""
             }
            },
            "type": "scattergl"
           }
          ],
          "scattermapbox": [
           {
            "marker": {
             "colorbar": {
              "outlinewidth": 0,
              "ticks": ""
             }
            },
            "type": "scattermapbox"
           }
          ],
          "scatterpolar": [
           {
            "marker": {
             "colorbar": {
              "outlinewidth": 0,
              "ticks": ""
             }
            },
            "type": "scatterpolar"
           }
          ],
          "scatterpolargl": [
           {
            "marker": {
             "colorbar": {
              "outlinewidth": 0,
              "ticks": ""
             }
            },
            "type": "scatterpolargl"
           }
          ],
          "scatterternary": [
           {
            "marker": {
             "colorbar": {
              "outlinewidth": 0,
              "ticks": ""
             }
            },
            "type": "scatterternary"
           }
          ],
          "surface": [
           {
            "colorbar": {
             "outlinewidth": 0,
             "ticks": ""
            },
            "colorscale": [
             [
              0,
              "#0d0887"
             ],
             [
              0.1111111111111111,
              "#46039f"
             ],
             [
              0.2222222222222222,
              "#7201a8"
             ],
             [
              0.3333333333333333,
              "#9c179e"
             ],
             [
              0.4444444444444444,
              "#bd3786"
             ],
             [
              0.5555555555555556,
              "#d8576b"
             ],
             [
              0.6666666666666666,
              "#ed7953"
             ],
             [
              0.7777777777777778,
              "#fb9f3a"
             ],
             [
              0.8888888888888888,
              "#fdca26"
             ],
             [
              1,
              "#f0f921"
             ]
            ],
            "type": "surface"
           }
          ],
          "table": [
           {
            "cells": {
             "fill": {
              "color": "#EBF0F8"
             },
             "line": {
              "color": "white"
             }
            },
            "header": {
             "fill": {
              "color": "#C8D4E3"
             },
             "line": {
              "color": "white"
             }
            },
            "type": "table"
           }
          ]
         },
         "layout": {
          "annotationdefaults": {
           "arrowcolor": "#2a3f5f",
           "arrowhead": 0,
           "arrowwidth": 1
          },
          "autotypenumbers": "strict",
          "coloraxis": {
           "colorbar": {
            "outlinewidth": 0,
            "ticks": ""
           }
          },
          "colorscale": {
           "diverging": [
            [
             0,
             "#8e0152"
            ],
            [
             0.1,
             "#c51b7d"
            ],
            [
             0.2,
             "#de77ae"
            ],
            [
             0.3,
             "#f1b6da"
            ],
            [
             0.4,
             "#fde0ef"
            ],
            [
             0.5,
             "#f7f7f7"
            ],
            [
             0.6,
             "#e6f5d0"
            ],
            [
             0.7,
             "#b8e186"
            ],
            [
             0.8,
             "#7fbc41"
            ],
            [
             0.9,
             "#4d9221"
            ],
            [
             1,
             "#276419"
            ]
           ],
           "sequential": [
            [
             0,
             "#0d0887"
            ],
            [
             0.1111111111111111,
             "#46039f"
            ],
            [
             0.2222222222222222,
             "#7201a8"
            ],
            [
             0.3333333333333333,
             "#9c179e"
            ],
            [
             0.4444444444444444,
             "#bd3786"
            ],
            [
             0.5555555555555556,
             "#d8576b"
            ],
            [
             0.6666666666666666,
             "#ed7953"
            ],
            [
             0.7777777777777778,
             "#fb9f3a"
            ],
            [
             0.8888888888888888,
             "#fdca26"
            ],
            [
             1,
             "#f0f921"
            ]
           ],
           "sequentialminus": [
            [
             0,
             "#0d0887"
            ],
            [
             0.1111111111111111,
             "#46039f"
            ],
            [
             0.2222222222222222,
             "#7201a8"
            ],
            [
             0.3333333333333333,
             "#9c179e"
            ],
            [
             0.4444444444444444,
             "#bd3786"
            ],
            [
             0.5555555555555556,
             "#d8576b"
            ],
            [
             0.6666666666666666,
             "#ed7953"
            ],
            [
             0.7777777777777778,
             "#fb9f3a"
            ],
            [
             0.8888888888888888,
             "#fdca26"
            ],
            [
             1,
             "#f0f921"
            ]
           ]
          },
          "colorway": [
           "#636efa",
           "#EF553B",
           "#00cc96",
           "#ab63fa",
           "#FFA15A",
           "#19d3f3",
           "#FF6692",
           "#B6E880",
           "#FF97FF",
           "#FECB52"
          ],
          "font": {
           "color": "#2a3f5f"
          },
          "geo": {
           "bgcolor": "white",
           "lakecolor": "white",
           "landcolor": "#E5ECF6",
           "showlakes": true,
           "showland": true,
           "subunitcolor": "white"
          },
          "hoverlabel": {
           "align": "left"
          },
          "hovermode": "closest",
          "mapbox": {
           "style": "light"
          },
          "paper_bgcolor": "white",
          "plot_bgcolor": "#E5ECF6",
          "polar": {
           "angularaxis": {
            "gridcolor": "white",
            "linecolor": "white",
            "ticks": ""
           },
           "bgcolor": "#E5ECF6",
           "radialaxis": {
            "gridcolor": "white",
            "linecolor": "white",
            "ticks": ""
           }
          },
          "scene": {
           "xaxis": {
            "backgroundcolor": "#E5ECF6",
            "gridcolor": "white",
            "gridwidth": 2,
            "linecolor": "white",
            "showbackground": true,
            "ticks": "",
            "zerolinecolor": "white"
           },
           "yaxis": {
            "backgroundcolor": "#E5ECF6",
            "gridcolor": "white",
            "gridwidth": 2,
            "linecolor": "white",
            "showbackground": true,
            "ticks": "",
            "zerolinecolor": "white"
           },
           "zaxis": {
            "backgroundcolor": "#E5ECF6",
            "gridcolor": "white",
            "gridwidth": 2,
            "linecolor": "white",
            "showbackground": true,
            "ticks": "",
            "zerolinecolor": "white"
           }
          },
          "shapedefaults": {
           "line": {
            "color": "#2a3f5f"
           }
          },
          "ternary": {
           "aaxis": {
            "gridcolor": "white",
            "linecolor": "white",
            "ticks": ""
           },
           "baxis": {
            "gridcolor": "white",
            "linecolor": "white",
            "ticks": ""
           },
           "bgcolor": "#E5ECF6",
           "caxis": {
            "gridcolor": "white",
            "linecolor": "white",
            "ticks": ""
           }
          },
          "title": {
           "x": 0.05
          },
          "xaxis": {
           "automargin": true,
           "gridcolor": "white",
           "linecolor": "white",
           "ticks": "",
           "title": {
            "standoff": 15
           },
           "zerolinecolor": "white",
           "zerolinewidth": 2
          },
          "yaxis": {
           "automargin": true,
           "gridcolor": "white",
           "linecolor": "white",
           "ticks": "",
           "title": {
            "standoff": 15
           },
           "zerolinecolor": "white",
           "zerolinewidth": 2
          }
         }
        },
        "title": {
         "font": {
          "color": "#4D5663"
         }
        },
        "xaxis": {
         "gridcolor": "#E1E5ED",
         "showgrid": true,
         "tickfont": {
          "color": "#4D5663"
         },
         "title": {
          "font": {
           "color": "#4D5663"
          },
          "text": ""
         },
         "zerolinecolor": "#E1E5ED"
        },
        "yaxis": {
         "gridcolor": "#E1E5ED",
         "showgrid": true,
         "tickfont": {
          "color": "#4D5663"
         },
         "title": {
          "font": {
           "color": "#4D5663"
          },
          "text": ""
         },
         "zerolinecolor": "#E1E5ED"
        }
       }
      },
      "text/html": [
       "<div>                            <div id=\"13fcbf20-c1ae-46ba-9709-f11a8898c65e\" class=\"plotly-graph-div\" style=\"height:525px; width:100%;\"></div>            <script type=\"text/javascript\">                require([\"plotly\"], function(Plotly) {                    window.PLOTLYENV=window.PLOTLYENV || {};\n",
       "                    window.PLOTLYENV.BASE_URL='https://plot.ly';                                    if (document.getElementById(\"13fcbf20-c1ae-46ba-9709-f11a8898c65e\")) {                    Plotly.newPlot(                        \"13fcbf20-c1ae-46ba-9709-f11a8898c65e\",                        [{\"marker\":{\"color\":\"rgba(255, 153, 51, 0.6)\",\"line\":{\"color\":\"rgba(255, 153, 51, 1.0)\",\"width\":1}},\"name\":\"A\",\"orientation\":\"v\",\"text\":\"\",\"x\":[0,1,2,3,4,5,6,7,8,9,10,11,12,13,14,15,16,17,18,19,20,21,22,23,24,25,26,27,28,29,30,31,32,33,34,35,36,37,38,39,40,41,42,43,44,45,46,47,48,49,50,51,52,53,54,55,56,57,58,59,60,61,62,63,64,65,66,67,68,69,70,71,72,73,74,75,76,77,78,79,80,81,82,83,84,85,86,87,88,89,90,91,92,93,94,95,96,97,98,99],\"y\":[0.512752939029791,-0.3553419617198243,-0.27929092762229374,0.13715381120273906,-0.10561595646288185,-0.1599097109111184,-0.4979472496059992,0.157104113124573,-0.46293873496051735,2.485418431861522,-0.4516734756190726,-1.493458861952407,-0.026482791768084567,-0.2757463899836123,2.241694624786081,-0.5129572406266717,0.15252616393685708,1.3865506913062904,-0.4983345548729902,0.307249958853756,-1.128251054831078,-0.8075072847154674,-0.6363660077137355,-0.3713082499903116,1.0441461790223507,0.3414257868465785,-0.5322617919291063,-1.2591308173815023,0.7009125457086441,0.9967249848203381,0.5553427242848349,-0.1710629029221637,-0.09347269250359294,-0.06269091796217952,-0.8889925758821092,1.0218299933351225,0.8210081659849187,0.44322827056598846,-0.4184786434300998,-0.08940115509505929,0.7269703626378548,0.24703444042561,0.05660618906374495,-0.46715813740333273,0.02946942295050563,-2.0148452428808628,-1.8538320646658921,-0.3354297970013657,1.6395349929699676,1.8490226882208158,-0.1512933010494933,-0.5005603686679456,0.7287108498117928,1.298360623953065,0.05835482274762789,0.05404720881988463,1.6448478378071496,-0.2165273389788695,-0.01089034092055172,-0.6396922580512779,0.1659230506263948,-0.26904140973624013,-0.15555495444472764,0.9466288861187291,0.49900398554713205,-2.175214685296227,0.09718808811786087,2.708148103191192,-0.7877907963975526,-0.0014491244335431606,-0.11955410895494896,-0.012562024727582138,-0.38147657376126753,1.1364951029280372,-0.3185237106734018,-2.2316850554714165,-1.332370837239957,1.1773780023580709,0.02886572654773463,-1.345659142078511,0.8985612990834209,0.7222788050675611,-1.3802880760915244,-1.9585194457414203,-2.1686577556553375,-0.8500871395049288,0.10917120767171398,0.4795289001080743,1.2234004610201688,0.8152430704621533,1.0968304321670168,-1.4067781777797062,0.05849673408436882,0.7533432362097038,0.015432162011626286,-1.2840022615670568,1.0343567428530556,0.6022038052564009,-0.5734790425194495,-0.061518042568631644],\"type\":\"bar\"},{\"marker\":{\"color\":\"rgba(55, 128, 191, 0.6)\",\"line\":{\"color\":\"rgba(55, 128, 191, 1.0)\",\"width\":1}},\"name\":\"B\",\"orientation\":\"v\",\"text\":\"\",\"x\":[0,1,2,3,4,5,6,7,8,9,10,11,12,13,14,15,16,17,18,19,20,21,22,23,24,25,26,27,28,29,30,31,32,33,34,35,36,37,38,39,40,41,42,43,44,45,46,47,48,49,50,51,52,53,54,55,56,57,58,59,60,61,62,63,64,65,66,67,68,69,70,71,72,73,74,75,76,77,78,79,80,81,82,83,84,85,86,87,88,89,90,91,92,93,94,95,96,97,98,99],\"y\":[0.9495836228334081,-0.7100194112250915,1.650112399487089,0.7207073489887325,-0.6598783128597964,0.18061985623530957,-0.4113123196925393,-0.8059169160909352,-0.45030841232826324,-0.8649897640802658,1.0102208397481613,-1.0723396880437734,-0.6968940084156565,-0.8645673092942562,2.1955425731858553,-1.8863114244239756,0.8957455972821831,0.678767466446716,-0.8943159560446318,-0.09741963407826157,0.7654188247816236,-0.3061372125342001,0.5819132563211112,-0.8670704822495087,-1.1685354191395143,0.4987062070583795,-1.2664917103538968,-0.0020470918678063186,0.3121952440872714,-0.16072843272068324,0.11875890069643805,0.44986031105381663,-1.2372941389702115,-0.0699148743189868,0.5722458274120602,-0.908423657263562,0.9938975291952103,0.7958846288611234,2.301904816453025,-0.03442714273076457,1.9790174693194467,2.610010540348577,0.32989197333371956,0.8624799408253738,0.1139651001292569,0.4707004527178716,-1.5716325921736916,-0.24216538524890424,1.2948587449311602,2.4104001599038,0.06946876011078847,0.14121954910246642,-1.758843335651598,-0.34023316429089806,-0.615902806569471,0.5258757904723518,0.768142038676994,-0.6217746021507302,0.40561366010531047,0.0611695638678798,-0.13738126847244095,1.0648377553030648,-1.8221199689954444,-0.8653744519128183,0.6777054680280602,2.497494640335452,0.15104718570411105,1.6886883956295087,0.2150663109619358,1.1726393230041428,-0.6033410253786355,-1.1128029280466678,-1.3753978791796673,-1.6083436278421894,0.3251529185534095,-0.23507903877710437,0.6854681379288818,-1.041259674279969,-0.6804639148664574,0.8121246030044645,1.3458243345424477,-0.11174265897113703,0.8968517311317901,1.1561368291141871,0.14505918969787704,-0.18489325889499017,0.28894923373935066,0.9245649933210359,0.09791212574998187,1.735864656117559,1.8020648684561578,1.1660229778070796,1.6705341417911646,0.7029421504635976,-0.09985353358039065,0.6613232704319956,0.7436371685517646,-1.1581864717986816,-0.0517374783828689,0.01597140932841376],\"type\":\"bar\"},{\"marker\":{\"color\":\"rgba(50, 171, 96, 0.6)\",\"line\":{\"color\":\"rgba(50, 171, 96, 1.0)\",\"width\":1}},\"name\":\"C\",\"orientation\":\"v\",\"text\":\"\",\"x\":[0,1,2,3,4,5,6,7,8,9,10,11,12,13,14,15,16,17,18,19,20,21,22,23,24,25,26,27,28,29,30,31,32,33,34,35,36,37,38,39,40,41,42,43,44,45,46,47,48,49,50,51,52,53,54,55,56,57,58,59,60,61,62,63,64,65,66,67,68,69,70,71,72,73,74,75,76,77,78,79,80,81,82,83,84,85,86,87,88,89,90,91,92,93,94,95,96,97,98,99],\"y\":[0.647918339125702,-0.6629874159950747,-1.365185908111771,-2.0075225889599912,0.35654496700388316,1.3006874023536812,0.6835665697629982,-0.1401688964319155,-0.5803277472699386,0.6923895199692292,0.11043568798289007,-2.04023863493297,-1.4862374677794092,-0.8038954840842417,-0.4135429899954026,-0.19033116277557574,-0.5832375643284965,-0.7939887159905965,0.6763710647834456,0.622834178952044,0.19795849857076636,0.9230244541099311,0.9102873282566336,-1.578134272455675,2.248498612388913,-0.618276094493357,-1.642332191049332,-0.04954032303581414,1.273426373834263,0.05231784690273851,0.2170359373006094,-0.621871739089189,1.7856015664211622,0.43911657462324843,-1.4061425872715332,-0.32187333746658625,-0.23938813708705242,1.7833946355736527,-0.37324468282187484,-1.0666543693021822,-1.5485146171686575,0.20222191754419228,1.5230706386496686,0.616125792570182,-0.060507670904036276,-1.2248084283541232,-0.044431380557908934,2.2728044609439206,-1.7719469687907905,-0.5033840112064768,0.3851516439195813,-0.46447582205570065,-0.41975194804749727,0.04487714083101872,-2.008098012532532,0.2570531685060416,0.4336246485117831,0.7873621484585646,-0.7858747473947723,-2.249721885545336,0.2608393620754042,-0.35116999546835553,-1.4189477335205365,0.2452825146149802,0.40435417415188973,0.09930232430532347,-1.6741987610616293,0.42798943237457315,1.1160057602750102,-0.08809469183071897,1.0374511726902327,0.8647984505493161,-2.02602321230138,-1.8973360600586375,1.3290420228656905,-0.08532051099166421,-0.1618291189602749,3.36589901332965,0.2853060111168622,1.4909104779129705,2.603046817481854,0.07057420879162299,-0.3349264401219666,-0.27214487332199866,0.11621477136899505,-1.9653993496117967,-0.6532103410624271,0.2363608302426708,0.9248339096229946,1.044452994302072,-0.568127620861377,0.9347943385510102,-1.4674844783936958,-0.6593242696058286,0.33773560085113274,-0.9564585499347026,-1.0816546603266393,-0.0990998967519054,-0.6780371610061101,-0.4661359234137232],\"type\":\"bar\"},{\"marker\":{\"color\":\"rgba(128, 0, 128, 0.6)\",\"line\":{\"color\":\"rgba(128, 0, 128, 1.0)\",\"width\":1}},\"name\":\"D\",\"orientation\":\"v\",\"text\":\"\",\"x\":[0,1,2,3,4,5,6,7,8,9,10,11,12,13,14,15,16,17,18,19,20,21,22,23,24,25,26,27,28,29,30,31,32,33,34,35,36,37,38,39,40,41,42,43,44,45,46,47,48,49,50,51,52,53,54,55,56,57,58,59,60,61,62,63,64,65,66,67,68,69,70,71,72,73,74,75,76,77,78,79,80,81,82,83,84,85,86,87,88,89,90,91,92,93,94,95,96,97,98,99],\"y\":[-0.19631981906212687,-0.6519713807353804,-1.0649846722973384,0.2276268403009993,0.7048164209836024,-1.4446783704695936,-2.033750158183124,0.5138908127633827,0.5743634695953264,-1.3657451693518634,0.4637907687699757,1.0844078896291873,-0.8199961871709128,0.7302810084439927,1.1501886667067136,1.4068956037099702,1.508692417359712,-0.122429546415331,-1.2139029828276917,-1.3915936060875007,-0.3238322412559266,1.3434653001668608,-0.5185807775608965,-0.7107820957370212,-0.4464055579970659,-0.9606481511417176,-0.295817297356241,-0.7965590857577352,0.006067325117813681,-0.4809220256345543,1.028630144482865,-0.3991139925170933,0.03907052978298096,1.4539224977284508,1.2368047827803776,1.498742536272704,0.9555284868160445,-0.4319859168096048,0.07204665511014491,0.15138773782731127,-0.0016863454597473644,-0.66704262100987,0.8234927800554659,0.9355289432127771,-0.6529971281881106,1.5998032068698078,-1.158827929365611,-0.04136818612304619,1.0781454686574732,0.21721131798324592,1.534521058113346,-1.750652204012357,0.9872822474417707,-1.197496541939758,-1.0439173878772081,0.09596236413985537,-0.6568654252222857,0.706633110663512,-1.211932613051174,0.671873724489011,-0.3898892118405459,0.9970459716634278,-0.28713960225161106,-0.010341133054459198,-0.9767493981679324,-0.18844975221423968,-0.7820893042608988,-1.8529738370200275,1.4738531760079354,-0.23686088155185786,-0.8470745256434993,-2.05765141244495,0.8174144337022742,-1.4106119727042548,-0.7248926917781047,-0.8969630071984197,-0.6419860011659925,-0.375072540951662,0.17237805217223748,-0.5805831220436499,-1.0090042945869997,-0.360630514240928,0.06712082805980472,-1.0222964654995608,-1.3111878556748808,-0.6265000694373624,-0.45147531022127435,-1.1298686894301744,-1.7403524915989772,-0.20931072894096553,-0.4243133313934241,-0.4252201065654679,-0.9829243053422797,0.6344429869787069,0.4895108597241183,0.9515124340705648,-1.2456264225617408,-0.003231469493402177,-0.4297021911016993,-1.0168190422430656],\"type\":\"bar\"}],                        {\"legend\":{\"bgcolor\":\"#F5F6F9\",\"font\":{\"color\":\"#4D5663\"}},\"paper_bgcolor\":\"#F5F6F9\",\"plot_bgcolor\":\"#F5F6F9\",\"template\":{\"data\":{\"barpolar\":[{\"marker\":{\"line\":{\"color\":\"#E5ECF6\",\"width\":0.5},\"pattern\":{\"fillmode\":\"overlay\",\"size\":10,\"solidity\":0.2}},\"type\":\"barpolar\"}],\"bar\":[{\"error_x\":{\"color\":\"#2a3f5f\"},\"error_y\":{\"color\":\"#2a3f5f\"},\"marker\":{\"line\":{\"color\":\"#E5ECF6\",\"width\":0.5},\"pattern\":{\"fillmode\":\"overlay\",\"size\":10,\"solidity\":0.2}},\"type\":\"bar\"}],\"carpet\":[{\"aaxis\":{\"endlinecolor\":\"#2a3f5f\",\"gridcolor\":\"white\",\"linecolor\":\"white\",\"minorgridcolor\":\"white\",\"startlinecolor\":\"#2a3f5f\"},\"baxis\":{\"endlinecolor\":\"#2a3f5f\",\"gridcolor\":\"white\",\"linecolor\":\"white\",\"minorgridcolor\":\"white\",\"startlinecolor\":\"#2a3f5f\"},\"type\":\"carpet\"}],\"choropleth\":[{\"colorbar\":{\"outlinewidth\":0,\"ticks\":\"\"},\"type\":\"choropleth\"}],\"contourcarpet\":[{\"colorbar\":{\"outlinewidth\":0,\"ticks\":\"\"},\"type\":\"contourcarpet\"}],\"contour\":[{\"colorbar\":{\"outlinewidth\":0,\"ticks\":\"\"},\"colorscale\":[[0.0,\"#0d0887\"],[0.1111111111111111,\"#46039f\"],[0.2222222222222222,\"#7201a8\"],[0.3333333333333333,\"#9c179e\"],[0.4444444444444444,\"#bd3786\"],[0.5555555555555556,\"#d8576b\"],[0.6666666666666666,\"#ed7953\"],[0.7777777777777778,\"#fb9f3a\"],[0.8888888888888888,\"#fdca26\"],[1.0,\"#f0f921\"]],\"type\":\"contour\"}],\"heatmapgl\":[{\"colorbar\":{\"outlinewidth\":0,\"ticks\":\"\"},\"colorscale\":[[0.0,\"#0d0887\"],[0.1111111111111111,\"#46039f\"],[0.2222222222222222,\"#7201a8\"],[0.3333333333333333,\"#9c179e\"],[0.4444444444444444,\"#bd3786\"],[0.5555555555555556,\"#d8576b\"],[0.6666666666666666,\"#ed7953\"],[0.7777777777777778,\"#fb9f3a\"],[0.8888888888888888,\"#fdca26\"],[1.0,\"#f0f921\"]],\"type\":\"heatmapgl\"}],\"heatmap\":[{\"colorbar\":{\"outlinewidth\":0,\"ticks\":\"\"},\"colorscale\":[[0.0,\"#0d0887\"],[0.1111111111111111,\"#46039f\"],[0.2222222222222222,\"#7201a8\"],[0.3333333333333333,\"#9c179e\"],[0.4444444444444444,\"#bd3786\"],[0.5555555555555556,\"#d8576b\"],[0.6666666666666666,\"#ed7953\"],[0.7777777777777778,\"#fb9f3a\"],[0.8888888888888888,\"#fdca26\"],[1.0,\"#f0f921\"]],\"type\":\"heatmap\"}],\"histogram2dcontour\":[{\"colorbar\":{\"outlinewidth\":0,\"ticks\":\"\"},\"colorscale\":[[0.0,\"#0d0887\"],[0.1111111111111111,\"#46039f\"],[0.2222222222222222,\"#7201a8\"],[0.3333333333333333,\"#9c179e\"],[0.4444444444444444,\"#bd3786\"],[0.5555555555555556,\"#d8576b\"],[0.6666666666666666,\"#ed7953\"],[0.7777777777777778,\"#fb9f3a\"],[0.8888888888888888,\"#fdca26\"],[1.0,\"#f0f921\"]],\"type\":\"histogram2dcontour\"}],\"histogram2d\":[{\"colorbar\":{\"outlinewidth\":0,\"ticks\":\"\"},\"colorscale\":[[0.0,\"#0d0887\"],[0.1111111111111111,\"#46039f\"],[0.2222222222222222,\"#7201a8\"],[0.3333333333333333,\"#9c179e\"],[0.4444444444444444,\"#bd3786\"],[0.5555555555555556,\"#d8576b\"],[0.6666666666666666,\"#ed7953\"],[0.7777777777777778,\"#fb9f3a\"],[0.8888888888888888,\"#fdca26\"],[1.0,\"#f0f921\"]],\"type\":\"histogram2d\"}],\"histogram\":[{\"marker\":{\"pattern\":{\"fillmode\":\"overlay\",\"size\":10,\"solidity\":0.2}},\"type\":\"histogram\"}],\"mesh3d\":[{\"colorbar\":{\"outlinewidth\":0,\"ticks\":\"\"},\"type\":\"mesh3d\"}],\"parcoords\":[{\"line\":{\"colorbar\":{\"outlinewidth\":0,\"ticks\":\"\"}},\"type\":\"parcoords\"}],\"pie\":[{\"automargin\":true,\"type\":\"pie\"}],\"scatter3d\":[{\"line\":{\"colorbar\":{\"outlinewidth\":0,\"ticks\":\"\"}},\"marker\":{\"colorbar\":{\"outlinewidth\":0,\"ticks\":\"\"}},\"type\":\"scatter3d\"}],\"scattercarpet\":[{\"marker\":{\"colorbar\":{\"outlinewidth\":0,\"ticks\":\"\"}},\"type\":\"scattercarpet\"}],\"scattergeo\":[{\"marker\":{\"colorbar\":{\"outlinewidth\":0,\"ticks\":\"\"}},\"type\":\"scattergeo\"}],\"scattergl\":[{\"marker\":{\"colorbar\":{\"outlinewidth\":0,\"ticks\":\"\"}},\"type\":\"scattergl\"}],\"scattermapbox\":[{\"marker\":{\"colorbar\":{\"outlinewidth\":0,\"ticks\":\"\"}},\"type\":\"scattermapbox\"}],\"scatterpolargl\":[{\"marker\":{\"colorbar\":{\"outlinewidth\":0,\"ticks\":\"\"}},\"type\":\"scatterpolargl\"}],\"scatterpolar\":[{\"marker\":{\"colorbar\":{\"outlinewidth\":0,\"ticks\":\"\"}},\"type\":\"scatterpolar\"}],\"scatter\":[{\"fillpattern\":{\"fillmode\":\"overlay\",\"size\":10,\"solidity\":0.2},\"type\":\"scatter\"}],\"scatterternary\":[{\"marker\":{\"colorbar\":{\"outlinewidth\":0,\"ticks\":\"\"}},\"type\":\"scatterternary\"}],\"surface\":[{\"colorbar\":{\"outlinewidth\":0,\"ticks\":\"\"},\"colorscale\":[[0.0,\"#0d0887\"],[0.1111111111111111,\"#46039f\"],[0.2222222222222222,\"#7201a8\"],[0.3333333333333333,\"#9c179e\"],[0.4444444444444444,\"#bd3786\"],[0.5555555555555556,\"#d8576b\"],[0.6666666666666666,\"#ed7953\"],[0.7777777777777778,\"#fb9f3a\"],[0.8888888888888888,\"#fdca26\"],[1.0,\"#f0f921\"]],\"type\":\"surface\"}],\"table\":[{\"cells\":{\"fill\":{\"color\":\"#EBF0F8\"},\"line\":{\"color\":\"white\"}},\"header\":{\"fill\":{\"color\":\"#C8D4E3\"},\"line\":{\"color\":\"white\"}},\"type\":\"table\"}]},\"layout\":{\"annotationdefaults\":{\"arrowcolor\":\"#2a3f5f\",\"arrowhead\":0,\"arrowwidth\":1},\"autotypenumbers\":\"strict\",\"coloraxis\":{\"colorbar\":{\"outlinewidth\":0,\"ticks\":\"\"}},\"colorscale\":{\"diverging\":[[0,\"#8e0152\"],[0.1,\"#c51b7d\"],[0.2,\"#de77ae\"],[0.3,\"#f1b6da\"],[0.4,\"#fde0ef\"],[0.5,\"#f7f7f7\"],[0.6,\"#e6f5d0\"],[0.7,\"#b8e186\"],[0.8,\"#7fbc41\"],[0.9,\"#4d9221\"],[1,\"#276419\"]],\"sequential\":[[0.0,\"#0d0887\"],[0.1111111111111111,\"#46039f\"],[0.2222222222222222,\"#7201a8\"],[0.3333333333333333,\"#9c179e\"],[0.4444444444444444,\"#bd3786\"],[0.5555555555555556,\"#d8576b\"],[0.6666666666666666,\"#ed7953\"],[0.7777777777777778,\"#fb9f3a\"],[0.8888888888888888,\"#fdca26\"],[1.0,\"#f0f921\"]],\"sequentialminus\":[[0.0,\"#0d0887\"],[0.1111111111111111,\"#46039f\"],[0.2222222222222222,\"#7201a8\"],[0.3333333333333333,\"#9c179e\"],[0.4444444444444444,\"#bd3786\"],[0.5555555555555556,\"#d8576b\"],[0.6666666666666666,\"#ed7953\"],[0.7777777777777778,\"#fb9f3a\"],[0.8888888888888888,\"#fdca26\"],[1.0,\"#f0f921\"]]},\"colorway\":[\"#636efa\",\"#EF553B\",\"#00cc96\",\"#ab63fa\",\"#FFA15A\",\"#19d3f3\",\"#FF6692\",\"#B6E880\",\"#FF97FF\",\"#FECB52\"],\"font\":{\"color\":\"#2a3f5f\"},\"geo\":{\"bgcolor\":\"white\",\"lakecolor\":\"white\",\"landcolor\":\"#E5ECF6\",\"showlakes\":true,\"showland\":true,\"subunitcolor\":\"white\"},\"hoverlabel\":{\"align\":\"left\"},\"hovermode\":\"closest\",\"mapbox\":{\"style\":\"light\"},\"paper_bgcolor\":\"white\",\"plot_bgcolor\":\"#E5ECF6\",\"polar\":{\"angularaxis\":{\"gridcolor\":\"white\",\"linecolor\":\"white\",\"ticks\":\"\"},\"bgcolor\":\"#E5ECF6\",\"radialaxis\":{\"gridcolor\":\"white\",\"linecolor\":\"white\",\"ticks\":\"\"}},\"scene\":{\"xaxis\":{\"backgroundcolor\":\"#E5ECF6\",\"gridcolor\":\"white\",\"gridwidth\":2,\"linecolor\":\"white\",\"showbackground\":true,\"ticks\":\"\",\"zerolinecolor\":\"white\"},\"yaxis\":{\"backgroundcolor\":\"#E5ECF6\",\"gridcolor\":\"white\",\"gridwidth\":2,\"linecolor\":\"white\",\"showbackground\":true,\"ticks\":\"\",\"zerolinecolor\":\"white\"},\"zaxis\":{\"backgroundcolor\":\"#E5ECF6\",\"gridcolor\":\"white\",\"gridwidth\":2,\"linecolor\":\"white\",\"showbackground\":true,\"ticks\":\"\",\"zerolinecolor\":\"white\"}},\"shapedefaults\":{\"line\":{\"color\":\"#2a3f5f\"}},\"ternary\":{\"aaxis\":{\"gridcolor\":\"white\",\"linecolor\":\"white\",\"ticks\":\"\"},\"baxis\":{\"gridcolor\":\"white\",\"linecolor\":\"white\",\"ticks\":\"\"},\"bgcolor\":\"#E5ECF6\",\"caxis\":{\"gridcolor\":\"white\",\"linecolor\":\"white\",\"ticks\":\"\"}},\"title\":{\"x\":0.05},\"xaxis\":{\"automargin\":true,\"gridcolor\":\"white\",\"linecolor\":\"white\",\"ticks\":\"\",\"title\":{\"standoff\":15},\"zerolinecolor\":\"white\",\"zerolinewidth\":2},\"yaxis\":{\"automargin\":true,\"gridcolor\":\"white\",\"linecolor\":\"white\",\"ticks\":\"\",\"title\":{\"standoff\":15},\"zerolinecolor\":\"white\",\"zerolinewidth\":2}}},\"title\":{\"font\":{\"color\":\"#4D5663\"}},\"xaxis\":{\"gridcolor\":\"#E1E5ED\",\"showgrid\":true,\"tickfont\":{\"color\":\"#4D5663\"},\"title\":{\"font\":{\"color\":\"#4D5663\"},\"text\":\"\"},\"zerolinecolor\":\"#E1E5ED\"},\"yaxis\":{\"gridcolor\":\"#E1E5ED\",\"showgrid\":true,\"tickfont\":{\"color\":\"#4D5663\"},\"title\":{\"font\":{\"color\":\"#4D5663\"},\"text\":\"\"},\"zerolinecolor\":\"#E1E5ED\"}},                        {\"showLink\": true, \"linkText\": \"Export to plot.ly\", \"plotlyServerURL\": \"https://plot.ly\", \"responsive\": true}                    ).then(function(){\n",
       "                            \n",
       "var gd = document.getElementById('13fcbf20-c1ae-46ba-9709-f11a8898c65e');\n",
       "var x = new MutationObserver(function (mutations, observer) {{\n",
       "        var display = window.getComputedStyle(gd).display;\n",
       "        if (!display || display === 'none') {{\n",
       "            console.log([gd, 'removed!']);\n",
       "            Plotly.purge(gd);\n",
       "            observer.disconnect();\n",
       "        }}\n",
       "}});\n",
       "\n",
       "// Listen for the removal of the full notebook cells\n",
       "var notebookContainer = gd.closest('#notebook-container');\n",
       "if (notebookContainer) {{\n",
       "    x.observe(notebookContainer, {childList: true});\n",
       "}}\n",
       "\n",
       "// Listen for the clearing of the current output cell\n",
       "var outputEl = gd.closest('.output');\n",
       "if (outputEl) {{\n",
       "    x.observe(outputEl, {childList: true});\n",
       "}}\n",
       "\n",
       "                        })                };                });            </script>        </div>"
      ]
     },
     "metadata": {},
     "output_type": "display_data"
    }
   ],
   "source": [
    "df1.iplot ( kind=\"bar\" )"
   ]
  },
  {
   "cell_type": "code",
   "execution_count": 10,
   "id": "45d3db5b",
   "metadata": {},
   "outputs": [
    {
     "data": {
      "application/vnd.plotly.v1+json": {
       "config": {
        "linkText": "Export to plot.ly",
        "plotlyServerURL": "https://plot.ly",
        "showLink": true
       },
       "data": [
        {
         "marker": {
          "color": "rgba(255, 153, 51, 0.6)",
          "line": {
           "color": "rgba(255, 153, 51, 1.0)",
           "width": 1
          }
         },
         "name": "None",
         "orientation": "v",
         "text": "",
         "type": "bar",
         "x": [
          "A",
          "B",
          "C",
          "D"
         ],
         "y": [
          100,
          100,
          100,
          100
         ]
        }
       ],
       "layout": {
        "legend": {
         "bgcolor": "#F5F6F9",
         "font": {
          "color": "#4D5663"
         }
        },
        "paper_bgcolor": "#F5F6F9",
        "plot_bgcolor": "#F5F6F9",
        "template": {
         "data": {
          "bar": [
           {
            "error_x": {
             "color": "#2a3f5f"
            },
            "error_y": {
             "color": "#2a3f5f"
            },
            "marker": {
             "line": {
              "color": "#E5ECF6",
              "width": 0.5
             },
             "pattern": {
              "fillmode": "overlay",
              "size": 10,
              "solidity": 0.2
             }
            },
            "type": "bar"
           }
          ],
          "barpolar": [
           {
            "marker": {
             "line": {
              "color": "#E5ECF6",
              "width": 0.5
             },
             "pattern": {
              "fillmode": "overlay",
              "size": 10,
              "solidity": 0.2
             }
            },
            "type": "barpolar"
           }
          ],
          "carpet": [
           {
            "aaxis": {
             "endlinecolor": "#2a3f5f",
             "gridcolor": "white",
             "linecolor": "white",
             "minorgridcolor": "white",
             "startlinecolor": "#2a3f5f"
            },
            "baxis": {
             "endlinecolor": "#2a3f5f",
             "gridcolor": "white",
             "linecolor": "white",
             "minorgridcolor": "white",
             "startlinecolor": "#2a3f5f"
            },
            "type": "carpet"
           }
          ],
          "choropleth": [
           {
            "colorbar": {
             "outlinewidth": 0,
             "ticks": ""
            },
            "type": "choropleth"
           }
          ],
          "contour": [
           {
            "colorbar": {
             "outlinewidth": 0,
             "ticks": ""
            },
            "colorscale": [
             [
              0,
              "#0d0887"
             ],
             [
              0.1111111111111111,
              "#46039f"
             ],
             [
              0.2222222222222222,
              "#7201a8"
             ],
             [
              0.3333333333333333,
              "#9c179e"
             ],
             [
              0.4444444444444444,
              "#bd3786"
             ],
             [
              0.5555555555555556,
              "#d8576b"
             ],
             [
              0.6666666666666666,
              "#ed7953"
             ],
             [
              0.7777777777777778,
              "#fb9f3a"
             ],
             [
              0.8888888888888888,
              "#fdca26"
             ],
             [
              1,
              "#f0f921"
             ]
            ],
            "type": "contour"
           }
          ],
          "contourcarpet": [
           {
            "colorbar": {
             "outlinewidth": 0,
             "ticks": ""
            },
            "type": "contourcarpet"
           }
          ],
          "heatmap": [
           {
            "colorbar": {
             "outlinewidth": 0,
             "ticks": ""
            },
            "colorscale": [
             [
              0,
              "#0d0887"
             ],
             [
              0.1111111111111111,
              "#46039f"
             ],
             [
              0.2222222222222222,
              "#7201a8"
             ],
             [
              0.3333333333333333,
              "#9c179e"
             ],
             [
              0.4444444444444444,
              "#bd3786"
             ],
             [
              0.5555555555555556,
              "#d8576b"
             ],
             [
              0.6666666666666666,
              "#ed7953"
             ],
             [
              0.7777777777777778,
              "#fb9f3a"
             ],
             [
              0.8888888888888888,
              "#fdca26"
             ],
             [
              1,
              "#f0f921"
             ]
            ],
            "type": "heatmap"
           }
          ],
          "heatmapgl": [
           {
            "colorbar": {
             "outlinewidth": 0,
             "ticks": ""
            },
            "colorscale": [
             [
              0,
              "#0d0887"
             ],
             [
              0.1111111111111111,
              "#46039f"
             ],
             [
              0.2222222222222222,
              "#7201a8"
             ],
             [
              0.3333333333333333,
              "#9c179e"
             ],
             [
              0.4444444444444444,
              "#bd3786"
             ],
             [
              0.5555555555555556,
              "#d8576b"
             ],
             [
              0.6666666666666666,
              "#ed7953"
             ],
             [
              0.7777777777777778,
              "#fb9f3a"
             ],
             [
              0.8888888888888888,
              "#fdca26"
             ],
             [
              1,
              "#f0f921"
             ]
            ],
            "type": "heatmapgl"
           }
          ],
          "histogram": [
           {
            "marker": {
             "pattern": {
              "fillmode": "overlay",
              "size": 10,
              "solidity": 0.2
             }
            },
            "type": "histogram"
           }
          ],
          "histogram2d": [
           {
            "colorbar": {
             "outlinewidth": 0,
             "ticks": ""
            },
            "colorscale": [
             [
              0,
              "#0d0887"
             ],
             [
              0.1111111111111111,
              "#46039f"
             ],
             [
              0.2222222222222222,
              "#7201a8"
             ],
             [
              0.3333333333333333,
              "#9c179e"
             ],
             [
              0.4444444444444444,
              "#bd3786"
             ],
             [
              0.5555555555555556,
              "#d8576b"
             ],
             [
              0.6666666666666666,
              "#ed7953"
             ],
             [
              0.7777777777777778,
              "#fb9f3a"
             ],
             [
              0.8888888888888888,
              "#fdca26"
             ],
             [
              1,
              "#f0f921"
             ]
            ],
            "type": "histogram2d"
           }
          ],
          "histogram2dcontour": [
           {
            "colorbar": {
             "outlinewidth": 0,
             "ticks": ""
            },
            "colorscale": [
             [
              0,
              "#0d0887"
             ],
             [
              0.1111111111111111,
              "#46039f"
             ],
             [
              0.2222222222222222,
              "#7201a8"
             ],
             [
              0.3333333333333333,
              "#9c179e"
             ],
             [
              0.4444444444444444,
              "#bd3786"
             ],
             [
              0.5555555555555556,
              "#d8576b"
             ],
             [
              0.6666666666666666,
              "#ed7953"
             ],
             [
              0.7777777777777778,
              "#fb9f3a"
             ],
             [
              0.8888888888888888,
              "#fdca26"
             ],
             [
              1,
              "#f0f921"
             ]
            ],
            "type": "histogram2dcontour"
           }
          ],
          "mesh3d": [
           {
            "colorbar": {
             "outlinewidth": 0,
             "ticks": ""
            },
            "type": "mesh3d"
           }
          ],
          "parcoords": [
           {
            "line": {
             "colorbar": {
              "outlinewidth": 0,
              "ticks": ""
             }
            },
            "type": "parcoords"
           }
          ],
          "pie": [
           {
            "automargin": true,
            "type": "pie"
           }
          ],
          "scatter": [
           {
            "fillpattern": {
             "fillmode": "overlay",
             "size": 10,
             "solidity": 0.2
            },
            "type": "scatter"
           }
          ],
          "scatter3d": [
           {
            "line": {
             "colorbar": {
              "outlinewidth": 0,
              "ticks": ""
             }
            },
            "marker": {
             "colorbar": {
              "outlinewidth": 0,
              "ticks": ""
             }
            },
            "type": "scatter3d"
           }
          ],
          "scattercarpet": [
           {
            "marker": {
             "colorbar": {
              "outlinewidth": 0,
              "ticks": ""
             }
            },
            "type": "scattercarpet"
           }
          ],
          "scattergeo": [
           {
            "marker": {
             "colorbar": {
              "outlinewidth": 0,
              "ticks": ""
             }
            },
            "type": "scattergeo"
           }
          ],
          "scattergl": [
           {
            "marker": {
             "colorbar": {
              "outlinewidth": 0,
              "ticks": ""
             }
            },
            "type": "scattergl"
           }
          ],
          "scattermapbox": [
           {
            "marker": {
             "colorbar": {
              "outlinewidth": 0,
              "ticks": ""
             }
            },
            "type": "scattermapbox"
           }
          ],
          "scatterpolar": [
           {
            "marker": {
             "colorbar": {
              "outlinewidth": 0,
              "ticks": ""
             }
            },
            "type": "scatterpolar"
           }
          ],
          "scatterpolargl": [
           {
            "marker": {
             "colorbar": {
              "outlinewidth": 0,
              "ticks": ""
             }
            },
            "type": "scatterpolargl"
           }
          ],
          "scatterternary": [
           {
            "marker": {
             "colorbar": {
              "outlinewidth": 0,
              "ticks": ""
             }
            },
            "type": "scatterternary"
           }
          ],
          "surface": [
           {
            "colorbar": {
             "outlinewidth": 0,
             "ticks": ""
            },
            "colorscale": [
             [
              0,
              "#0d0887"
             ],
             [
              0.1111111111111111,
              "#46039f"
             ],
             [
              0.2222222222222222,
              "#7201a8"
             ],
             [
              0.3333333333333333,
              "#9c179e"
             ],
             [
              0.4444444444444444,
              "#bd3786"
             ],
             [
              0.5555555555555556,
              "#d8576b"
             ],
             [
              0.6666666666666666,
              "#ed7953"
             ],
             [
              0.7777777777777778,
              "#fb9f3a"
             ],
             [
              0.8888888888888888,
              "#fdca26"
             ],
             [
              1,
              "#f0f921"
             ]
            ],
            "type": "surface"
           }
          ],
          "table": [
           {
            "cells": {
             "fill": {
              "color": "#EBF0F8"
             },
             "line": {
              "color": "white"
             }
            },
            "header": {
             "fill": {
              "color": "#C8D4E3"
             },
             "line": {
              "color": "white"
             }
            },
            "type": "table"
           }
          ]
         },
         "layout": {
          "annotationdefaults": {
           "arrowcolor": "#2a3f5f",
           "arrowhead": 0,
           "arrowwidth": 1
          },
          "autotypenumbers": "strict",
          "coloraxis": {
           "colorbar": {
            "outlinewidth": 0,
            "ticks": ""
           }
          },
          "colorscale": {
           "diverging": [
            [
             0,
             "#8e0152"
            ],
            [
             0.1,
             "#c51b7d"
            ],
            [
             0.2,
             "#de77ae"
            ],
            [
             0.3,
             "#f1b6da"
            ],
            [
             0.4,
             "#fde0ef"
            ],
            [
             0.5,
             "#f7f7f7"
            ],
            [
             0.6,
             "#e6f5d0"
            ],
            [
             0.7,
             "#b8e186"
            ],
            [
             0.8,
             "#7fbc41"
            ],
            [
             0.9,
             "#4d9221"
            ],
            [
             1,
             "#276419"
            ]
           ],
           "sequential": [
            [
             0,
             "#0d0887"
            ],
            [
             0.1111111111111111,
             "#46039f"
            ],
            [
             0.2222222222222222,
             "#7201a8"
            ],
            [
             0.3333333333333333,
             "#9c179e"
            ],
            [
             0.4444444444444444,
             "#bd3786"
            ],
            [
             0.5555555555555556,
             "#d8576b"
            ],
            [
             0.6666666666666666,
             "#ed7953"
            ],
            [
             0.7777777777777778,
             "#fb9f3a"
            ],
            [
             0.8888888888888888,
             "#fdca26"
            ],
            [
             1,
             "#f0f921"
            ]
           ],
           "sequentialminus": [
            [
             0,
             "#0d0887"
            ],
            [
             0.1111111111111111,
             "#46039f"
            ],
            [
             0.2222222222222222,
             "#7201a8"
            ],
            [
             0.3333333333333333,
             "#9c179e"
            ],
            [
             0.4444444444444444,
             "#bd3786"
            ],
            [
             0.5555555555555556,
             "#d8576b"
            ],
            [
             0.6666666666666666,
             "#ed7953"
            ],
            [
             0.7777777777777778,
             "#fb9f3a"
            ],
            [
             0.8888888888888888,
             "#fdca26"
            ],
            [
             1,
             "#f0f921"
            ]
           ]
          },
          "colorway": [
           "#636efa",
           "#EF553B",
           "#00cc96",
           "#ab63fa",
           "#FFA15A",
           "#19d3f3",
           "#FF6692",
           "#B6E880",
           "#FF97FF",
           "#FECB52"
          ],
          "font": {
           "color": "#2a3f5f"
          },
          "geo": {
           "bgcolor": "white",
           "lakecolor": "white",
           "landcolor": "#E5ECF6",
           "showlakes": true,
           "showland": true,
           "subunitcolor": "white"
          },
          "hoverlabel": {
           "align": "left"
          },
          "hovermode": "closest",
          "mapbox": {
           "style": "light"
          },
          "paper_bgcolor": "white",
          "plot_bgcolor": "#E5ECF6",
          "polar": {
           "angularaxis": {
            "gridcolor": "white",
            "linecolor": "white",
            "ticks": ""
           },
           "bgcolor": "#E5ECF6",
           "radialaxis": {
            "gridcolor": "white",
            "linecolor": "white",
            "ticks": ""
           }
          },
          "scene": {
           "xaxis": {
            "backgroundcolor": "#E5ECF6",
            "gridcolor": "white",
            "gridwidth": 2,
            "linecolor": "white",
            "showbackground": true,
            "ticks": "",
            "zerolinecolor": "white"
           },
           "yaxis": {
            "backgroundcolor": "#E5ECF6",
            "gridcolor": "white",
            "gridwidth": 2,
            "linecolor": "white",
            "showbackground": true,
            "ticks": "",
            "zerolinecolor": "white"
           },
           "zaxis": {
            "backgroundcolor": "#E5ECF6",
            "gridcolor": "white",
            "gridwidth": 2,
            "linecolor": "white",
            "showbackground": true,
            "ticks": "",
            "zerolinecolor": "white"
           }
          },
          "shapedefaults": {
           "line": {
            "color": "#2a3f5f"
           }
          },
          "ternary": {
           "aaxis": {
            "gridcolor": "white",
            "linecolor": "white",
            "ticks": ""
           },
           "baxis": {
            "gridcolor": "white",
            "linecolor": "white",
            "ticks": ""
           },
           "bgcolor": "#E5ECF6",
           "caxis": {
            "gridcolor": "white",
            "linecolor": "white",
            "ticks": ""
           }
          },
          "title": {
           "x": 0.05
          },
          "xaxis": {
           "automargin": true,
           "gridcolor": "white",
           "linecolor": "white",
           "ticks": "",
           "title": {
            "standoff": 15
           },
           "zerolinecolor": "white",
           "zerolinewidth": 2
          },
          "yaxis": {
           "automargin": true,
           "gridcolor": "white",
           "linecolor": "white",
           "ticks": "",
           "title": {
            "standoff": 15
           },
           "zerolinecolor": "white",
           "zerolinewidth": 2
          }
         }
        },
        "title": {
         "font": {
          "color": "#4D5663"
         }
        },
        "xaxis": {
         "gridcolor": "#E1E5ED",
         "showgrid": true,
         "tickfont": {
          "color": "#4D5663"
         },
         "title": {
          "font": {
           "color": "#4D5663"
          },
          "text": ""
         },
         "zerolinecolor": "#E1E5ED"
        },
        "yaxis": {
         "gridcolor": "#E1E5ED",
         "showgrid": true,
         "tickfont": {
          "color": "#4D5663"
         },
         "title": {
          "font": {
           "color": "#4D5663"
          },
          "text": ""
         },
         "zerolinecolor": "#E1E5ED"
        }
       }
      },
      "text/html": [
       "<div>                            <div id=\"3db370a1-209c-4202-8578-aea6244db0dc\" class=\"plotly-graph-div\" style=\"height:525px; width:100%;\"></div>            <script type=\"text/javascript\">                require([\"plotly\"], function(Plotly) {                    window.PLOTLYENV=window.PLOTLYENV || {};\n",
       "                    window.PLOTLYENV.BASE_URL='https://plot.ly';                                    if (document.getElementById(\"3db370a1-209c-4202-8578-aea6244db0dc\")) {                    Plotly.newPlot(                        \"3db370a1-209c-4202-8578-aea6244db0dc\",                        [{\"marker\":{\"color\":\"rgba(255, 153, 51, 0.6)\",\"line\":{\"color\":\"rgba(255, 153, 51, 1.0)\",\"width\":1}},\"name\":\"None\",\"orientation\":\"v\",\"text\":\"\",\"x\":[\"A\",\"B\",\"C\",\"D\"],\"y\":[100,100,100,100],\"type\":\"bar\"}],                        {\"legend\":{\"bgcolor\":\"#F5F6F9\",\"font\":{\"color\":\"#4D5663\"}},\"paper_bgcolor\":\"#F5F6F9\",\"plot_bgcolor\":\"#F5F6F9\",\"template\":{\"data\":{\"barpolar\":[{\"marker\":{\"line\":{\"color\":\"#E5ECF6\",\"width\":0.5},\"pattern\":{\"fillmode\":\"overlay\",\"size\":10,\"solidity\":0.2}},\"type\":\"barpolar\"}],\"bar\":[{\"error_x\":{\"color\":\"#2a3f5f\"},\"error_y\":{\"color\":\"#2a3f5f\"},\"marker\":{\"line\":{\"color\":\"#E5ECF6\",\"width\":0.5},\"pattern\":{\"fillmode\":\"overlay\",\"size\":10,\"solidity\":0.2}},\"type\":\"bar\"}],\"carpet\":[{\"aaxis\":{\"endlinecolor\":\"#2a3f5f\",\"gridcolor\":\"white\",\"linecolor\":\"white\",\"minorgridcolor\":\"white\",\"startlinecolor\":\"#2a3f5f\"},\"baxis\":{\"endlinecolor\":\"#2a3f5f\",\"gridcolor\":\"white\",\"linecolor\":\"white\",\"minorgridcolor\":\"white\",\"startlinecolor\":\"#2a3f5f\"},\"type\":\"carpet\"}],\"choropleth\":[{\"colorbar\":{\"outlinewidth\":0,\"ticks\":\"\"},\"type\":\"choropleth\"}],\"contourcarpet\":[{\"colorbar\":{\"outlinewidth\":0,\"ticks\":\"\"},\"type\":\"contourcarpet\"}],\"contour\":[{\"colorbar\":{\"outlinewidth\":0,\"ticks\":\"\"},\"colorscale\":[[0.0,\"#0d0887\"],[0.1111111111111111,\"#46039f\"],[0.2222222222222222,\"#7201a8\"],[0.3333333333333333,\"#9c179e\"],[0.4444444444444444,\"#bd3786\"],[0.5555555555555556,\"#d8576b\"],[0.6666666666666666,\"#ed7953\"],[0.7777777777777778,\"#fb9f3a\"],[0.8888888888888888,\"#fdca26\"],[1.0,\"#f0f921\"]],\"type\":\"contour\"}],\"heatmapgl\":[{\"colorbar\":{\"outlinewidth\":0,\"ticks\":\"\"},\"colorscale\":[[0.0,\"#0d0887\"],[0.1111111111111111,\"#46039f\"],[0.2222222222222222,\"#7201a8\"],[0.3333333333333333,\"#9c179e\"],[0.4444444444444444,\"#bd3786\"],[0.5555555555555556,\"#d8576b\"],[0.6666666666666666,\"#ed7953\"],[0.7777777777777778,\"#fb9f3a\"],[0.8888888888888888,\"#fdca26\"],[1.0,\"#f0f921\"]],\"type\":\"heatmapgl\"}],\"heatmap\":[{\"colorbar\":{\"outlinewidth\":0,\"ticks\":\"\"},\"colorscale\":[[0.0,\"#0d0887\"],[0.1111111111111111,\"#46039f\"],[0.2222222222222222,\"#7201a8\"],[0.3333333333333333,\"#9c179e\"],[0.4444444444444444,\"#bd3786\"],[0.5555555555555556,\"#d8576b\"],[0.6666666666666666,\"#ed7953\"],[0.7777777777777778,\"#fb9f3a\"],[0.8888888888888888,\"#fdca26\"],[1.0,\"#f0f921\"]],\"type\":\"heatmap\"}],\"histogram2dcontour\":[{\"colorbar\":{\"outlinewidth\":0,\"ticks\":\"\"},\"colorscale\":[[0.0,\"#0d0887\"],[0.1111111111111111,\"#46039f\"],[0.2222222222222222,\"#7201a8\"],[0.3333333333333333,\"#9c179e\"],[0.4444444444444444,\"#bd3786\"],[0.5555555555555556,\"#d8576b\"],[0.6666666666666666,\"#ed7953\"],[0.7777777777777778,\"#fb9f3a\"],[0.8888888888888888,\"#fdca26\"],[1.0,\"#f0f921\"]],\"type\":\"histogram2dcontour\"}],\"histogram2d\":[{\"colorbar\":{\"outlinewidth\":0,\"ticks\":\"\"},\"colorscale\":[[0.0,\"#0d0887\"],[0.1111111111111111,\"#46039f\"],[0.2222222222222222,\"#7201a8\"],[0.3333333333333333,\"#9c179e\"],[0.4444444444444444,\"#bd3786\"],[0.5555555555555556,\"#d8576b\"],[0.6666666666666666,\"#ed7953\"],[0.7777777777777778,\"#fb9f3a\"],[0.8888888888888888,\"#fdca26\"],[1.0,\"#f0f921\"]],\"type\":\"histogram2d\"}],\"histogram\":[{\"marker\":{\"pattern\":{\"fillmode\":\"overlay\",\"size\":10,\"solidity\":0.2}},\"type\":\"histogram\"}],\"mesh3d\":[{\"colorbar\":{\"outlinewidth\":0,\"ticks\":\"\"},\"type\":\"mesh3d\"}],\"parcoords\":[{\"line\":{\"colorbar\":{\"outlinewidth\":0,\"ticks\":\"\"}},\"type\":\"parcoords\"}],\"pie\":[{\"automargin\":true,\"type\":\"pie\"}],\"scatter3d\":[{\"line\":{\"colorbar\":{\"outlinewidth\":0,\"ticks\":\"\"}},\"marker\":{\"colorbar\":{\"outlinewidth\":0,\"ticks\":\"\"}},\"type\":\"scatter3d\"}],\"scattercarpet\":[{\"marker\":{\"colorbar\":{\"outlinewidth\":0,\"ticks\":\"\"}},\"type\":\"scattercarpet\"}],\"scattergeo\":[{\"marker\":{\"colorbar\":{\"outlinewidth\":0,\"ticks\":\"\"}},\"type\":\"scattergeo\"}],\"scattergl\":[{\"marker\":{\"colorbar\":{\"outlinewidth\":0,\"ticks\":\"\"}},\"type\":\"scattergl\"}],\"scattermapbox\":[{\"marker\":{\"colorbar\":{\"outlinewidth\":0,\"ticks\":\"\"}},\"type\":\"scattermapbox\"}],\"scatterpolargl\":[{\"marker\":{\"colorbar\":{\"outlinewidth\":0,\"ticks\":\"\"}},\"type\":\"scatterpolargl\"}],\"scatterpolar\":[{\"marker\":{\"colorbar\":{\"outlinewidth\":0,\"ticks\":\"\"}},\"type\":\"scatterpolar\"}],\"scatter\":[{\"fillpattern\":{\"fillmode\":\"overlay\",\"size\":10,\"solidity\":0.2},\"type\":\"scatter\"}],\"scatterternary\":[{\"marker\":{\"colorbar\":{\"outlinewidth\":0,\"ticks\":\"\"}},\"type\":\"scatterternary\"}],\"surface\":[{\"colorbar\":{\"outlinewidth\":0,\"ticks\":\"\"},\"colorscale\":[[0.0,\"#0d0887\"],[0.1111111111111111,\"#46039f\"],[0.2222222222222222,\"#7201a8\"],[0.3333333333333333,\"#9c179e\"],[0.4444444444444444,\"#bd3786\"],[0.5555555555555556,\"#d8576b\"],[0.6666666666666666,\"#ed7953\"],[0.7777777777777778,\"#fb9f3a\"],[0.8888888888888888,\"#fdca26\"],[1.0,\"#f0f921\"]],\"type\":\"surface\"}],\"table\":[{\"cells\":{\"fill\":{\"color\":\"#EBF0F8\"},\"line\":{\"color\":\"white\"}},\"header\":{\"fill\":{\"color\":\"#C8D4E3\"},\"line\":{\"color\":\"white\"}},\"type\":\"table\"}]},\"layout\":{\"annotationdefaults\":{\"arrowcolor\":\"#2a3f5f\",\"arrowhead\":0,\"arrowwidth\":1},\"autotypenumbers\":\"strict\",\"coloraxis\":{\"colorbar\":{\"outlinewidth\":0,\"ticks\":\"\"}},\"colorscale\":{\"diverging\":[[0,\"#8e0152\"],[0.1,\"#c51b7d\"],[0.2,\"#de77ae\"],[0.3,\"#f1b6da\"],[0.4,\"#fde0ef\"],[0.5,\"#f7f7f7\"],[0.6,\"#e6f5d0\"],[0.7,\"#b8e186\"],[0.8,\"#7fbc41\"],[0.9,\"#4d9221\"],[1,\"#276419\"]],\"sequential\":[[0.0,\"#0d0887\"],[0.1111111111111111,\"#46039f\"],[0.2222222222222222,\"#7201a8\"],[0.3333333333333333,\"#9c179e\"],[0.4444444444444444,\"#bd3786\"],[0.5555555555555556,\"#d8576b\"],[0.6666666666666666,\"#ed7953\"],[0.7777777777777778,\"#fb9f3a\"],[0.8888888888888888,\"#fdca26\"],[1.0,\"#f0f921\"]],\"sequentialminus\":[[0.0,\"#0d0887\"],[0.1111111111111111,\"#46039f\"],[0.2222222222222222,\"#7201a8\"],[0.3333333333333333,\"#9c179e\"],[0.4444444444444444,\"#bd3786\"],[0.5555555555555556,\"#d8576b\"],[0.6666666666666666,\"#ed7953\"],[0.7777777777777778,\"#fb9f3a\"],[0.8888888888888888,\"#fdca26\"],[1.0,\"#f0f921\"]]},\"colorway\":[\"#636efa\",\"#EF553B\",\"#00cc96\",\"#ab63fa\",\"#FFA15A\",\"#19d3f3\",\"#FF6692\",\"#B6E880\",\"#FF97FF\",\"#FECB52\"],\"font\":{\"color\":\"#2a3f5f\"},\"geo\":{\"bgcolor\":\"white\",\"lakecolor\":\"white\",\"landcolor\":\"#E5ECF6\",\"showlakes\":true,\"showland\":true,\"subunitcolor\":\"white\"},\"hoverlabel\":{\"align\":\"left\"},\"hovermode\":\"closest\",\"mapbox\":{\"style\":\"light\"},\"paper_bgcolor\":\"white\",\"plot_bgcolor\":\"#E5ECF6\",\"polar\":{\"angularaxis\":{\"gridcolor\":\"white\",\"linecolor\":\"white\",\"ticks\":\"\"},\"bgcolor\":\"#E5ECF6\",\"radialaxis\":{\"gridcolor\":\"white\",\"linecolor\":\"white\",\"ticks\":\"\"}},\"scene\":{\"xaxis\":{\"backgroundcolor\":\"#E5ECF6\",\"gridcolor\":\"white\",\"gridwidth\":2,\"linecolor\":\"white\",\"showbackground\":true,\"ticks\":\"\",\"zerolinecolor\":\"white\"},\"yaxis\":{\"backgroundcolor\":\"#E5ECF6\",\"gridcolor\":\"white\",\"gridwidth\":2,\"linecolor\":\"white\",\"showbackground\":true,\"ticks\":\"\",\"zerolinecolor\":\"white\"},\"zaxis\":{\"backgroundcolor\":\"#E5ECF6\",\"gridcolor\":\"white\",\"gridwidth\":2,\"linecolor\":\"white\",\"showbackground\":true,\"ticks\":\"\",\"zerolinecolor\":\"white\"}},\"shapedefaults\":{\"line\":{\"color\":\"#2a3f5f\"}},\"ternary\":{\"aaxis\":{\"gridcolor\":\"white\",\"linecolor\":\"white\",\"ticks\":\"\"},\"baxis\":{\"gridcolor\":\"white\",\"linecolor\":\"white\",\"ticks\":\"\"},\"bgcolor\":\"#E5ECF6\",\"caxis\":{\"gridcolor\":\"white\",\"linecolor\":\"white\",\"ticks\":\"\"}},\"title\":{\"x\":0.05},\"xaxis\":{\"automargin\":true,\"gridcolor\":\"white\",\"linecolor\":\"white\",\"ticks\":\"\",\"title\":{\"standoff\":15},\"zerolinecolor\":\"white\",\"zerolinewidth\":2},\"yaxis\":{\"automargin\":true,\"gridcolor\":\"white\",\"linecolor\":\"white\",\"ticks\":\"\",\"title\":{\"standoff\":15},\"zerolinecolor\":\"white\",\"zerolinewidth\":2}}},\"title\":{\"font\":{\"color\":\"#4D5663\"}},\"xaxis\":{\"gridcolor\":\"#E1E5ED\",\"showgrid\":true,\"tickfont\":{\"color\":\"#4D5663\"},\"title\":{\"font\":{\"color\":\"#4D5663\"},\"text\":\"\"},\"zerolinecolor\":\"#E1E5ED\"},\"yaxis\":{\"gridcolor\":\"#E1E5ED\",\"showgrid\":true,\"tickfont\":{\"color\":\"#4D5663\"},\"title\":{\"font\":{\"color\":\"#4D5663\"},\"text\":\"\"},\"zerolinecolor\":\"#E1E5ED\"}},                        {\"showLink\": true, \"linkText\": \"Export to plot.ly\", \"plotlyServerURL\": \"https://plot.ly\", \"responsive\": true}                    ).then(function(){\n",
       "                            \n",
       "var gd = document.getElementById('3db370a1-209c-4202-8578-aea6244db0dc');\n",
       "var x = new MutationObserver(function (mutations, observer) {{\n",
       "        var display = window.getComputedStyle(gd).display;\n",
       "        if (!display || display === 'none') {{\n",
       "            console.log([gd, 'removed!']);\n",
       "            Plotly.purge(gd);\n",
       "            observer.disconnect();\n",
       "        }}\n",
       "}});\n",
       "\n",
       "// Listen for the removal of the full notebook cells\n",
       "var notebookContainer = gd.closest('#notebook-container');\n",
       "if (notebookContainer) {{\n",
       "    x.observe(notebookContainer, {childList: true});\n",
       "}}\n",
       "\n",
       "// Listen for the clearing of the current output cell\n",
       "var outputEl = gd.closest('.output');\n",
       "if (outputEl) {{\n",
       "    x.observe(outputEl, {childList: true});\n",
       "}}\n",
       "\n",
       "                        })                };                });            </script>        </div>"
      ]
     },
     "metadata": {},
     "output_type": "display_data"
    }
   ],
   "source": [
    "df1.count().iplot ( kind=\"bar\" )"
   ]
  },
  {
   "cell_type": "code",
   "execution_count": 11,
   "id": "701a01cf",
   "metadata": {},
   "outputs": [
    {
     "data": {
      "application/vnd.plotly.v1+json": {
       "config": {
        "linkText": "Export to plot.ly",
        "plotlyServerURL": "https://plot.ly",
        "showLink": true
       },
       "data": [
        {
         "marker": {
          "color": "rgba(255, 153, 51, 0.6)",
          "line": {
           "color": "rgba(255, 153, 51, 1.0)",
           "width": 1
          }
         },
         "name": "None",
         "orientation": "v",
         "text": "",
         "type": "bar",
         "x": [
          "A",
          "B",
          "C",
          "D"
         ],
         "y": [
          -0.37655653921608084,
          18.684910428478616,
          -8.332666146566181,
          -18.296244240888445
         ]
        }
       ],
       "layout": {
        "legend": {
         "bgcolor": "#F5F6F9",
         "font": {
          "color": "#4D5663"
         }
        },
        "paper_bgcolor": "#F5F6F9",
        "plot_bgcolor": "#F5F6F9",
        "template": {
         "data": {
          "bar": [
           {
            "error_x": {
             "color": "#2a3f5f"
            },
            "error_y": {
             "color": "#2a3f5f"
            },
            "marker": {
             "line": {
              "color": "#E5ECF6",
              "width": 0.5
             },
             "pattern": {
              "fillmode": "overlay",
              "size": 10,
              "solidity": 0.2
             }
            },
            "type": "bar"
           }
          ],
          "barpolar": [
           {
            "marker": {
             "line": {
              "color": "#E5ECF6",
              "width": 0.5
             },
             "pattern": {
              "fillmode": "overlay",
              "size": 10,
              "solidity": 0.2
             }
            },
            "type": "barpolar"
           }
          ],
          "carpet": [
           {
            "aaxis": {
             "endlinecolor": "#2a3f5f",
             "gridcolor": "white",
             "linecolor": "white",
             "minorgridcolor": "white",
             "startlinecolor": "#2a3f5f"
            },
            "baxis": {
             "endlinecolor": "#2a3f5f",
             "gridcolor": "white",
             "linecolor": "white",
             "minorgridcolor": "white",
             "startlinecolor": "#2a3f5f"
            },
            "type": "carpet"
           }
          ],
          "choropleth": [
           {
            "colorbar": {
             "outlinewidth": 0,
             "ticks": ""
            },
            "type": "choropleth"
           }
          ],
          "contour": [
           {
            "colorbar": {
             "outlinewidth": 0,
             "ticks": ""
            },
            "colorscale": [
             [
              0,
              "#0d0887"
             ],
             [
              0.1111111111111111,
              "#46039f"
             ],
             [
              0.2222222222222222,
              "#7201a8"
             ],
             [
              0.3333333333333333,
              "#9c179e"
             ],
             [
              0.4444444444444444,
              "#bd3786"
             ],
             [
              0.5555555555555556,
              "#d8576b"
             ],
             [
              0.6666666666666666,
              "#ed7953"
             ],
             [
              0.7777777777777778,
              "#fb9f3a"
             ],
             [
              0.8888888888888888,
              "#fdca26"
             ],
             [
              1,
              "#f0f921"
             ]
            ],
            "type": "contour"
           }
          ],
          "contourcarpet": [
           {
            "colorbar": {
             "outlinewidth": 0,
             "ticks": ""
            },
            "type": "contourcarpet"
           }
          ],
          "heatmap": [
           {
            "colorbar": {
             "outlinewidth": 0,
             "ticks": ""
            },
            "colorscale": [
             [
              0,
              "#0d0887"
             ],
             [
              0.1111111111111111,
              "#46039f"
             ],
             [
              0.2222222222222222,
              "#7201a8"
             ],
             [
              0.3333333333333333,
              "#9c179e"
             ],
             [
              0.4444444444444444,
              "#bd3786"
             ],
             [
              0.5555555555555556,
              "#d8576b"
             ],
             [
              0.6666666666666666,
              "#ed7953"
             ],
             [
              0.7777777777777778,
              "#fb9f3a"
             ],
             [
              0.8888888888888888,
              "#fdca26"
             ],
             [
              1,
              "#f0f921"
             ]
            ],
            "type": "heatmap"
           }
          ],
          "heatmapgl": [
           {
            "colorbar": {
             "outlinewidth": 0,
             "ticks": ""
            },
            "colorscale": [
             [
              0,
              "#0d0887"
             ],
             [
              0.1111111111111111,
              "#46039f"
             ],
             [
              0.2222222222222222,
              "#7201a8"
             ],
             [
              0.3333333333333333,
              "#9c179e"
             ],
             [
              0.4444444444444444,
              "#bd3786"
             ],
             [
              0.5555555555555556,
              "#d8576b"
             ],
             [
              0.6666666666666666,
              "#ed7953"
             ],
             [
              0.7777777777777778,
              "#fb9f3a"
             ],
             [
              0.8888888888888888,
              "#fdca26"
             ],
             [
              1,
              "#f0f921"
             ]
            ],
            "type": "heatmapgl"
           }
          ],
          "histogram": [
           {
            "marker": {
             "pattern": {
              "fillmode": "overlay",
              "size": 10,
              "solidity": 0.2
             }
            },
            "type": "histogram"
           }
          ],
          "histogram2d": [
           {
            "colorbar": {
             "outlinewidth": 0,
             "ticks": ""
            },
            "colorscale": [
             [
              0,
              "#0d0887"
             ],
             [
              0.1111111111111111,
              "#46039f"
             ],
             [
              0.2222222222222222,
              "#7201a8"
             ],
             [
              0.3333333333333333,
              "#9c179e"
             ],
             [
              0.4444444444444444,
              "#bd3786"
             ],
             [
              0.5555555555555556,
              "#d8576b"
             ],
             [
              0.6666666666666666,
              "#ed7953"
             ],
             [
              0.7777777777777778,
              "#fb9f3a"
             ],
             [
              0.8888888888888888,
              "#fdca26"
             ],
             [
              1,
              "#f0f921"
             ]
            ],
            "type": "histogram2d"
           }
          ],
          "histogram2dcontour": [
           {
            "colorbar": {
             "outlinewidth": 0,
             "ticks": ""
            },
            "colorscale": [
             [
              0,
              "#0d0887"
             ],
             [
              0.1111111111111111,
              "#46039f"
             ],
             [
              0.2222222222222222,
              "#7201a8"
             ],
             [
              0.3333333333333333,
              "#9c179e"
             ],
             [
              0.4444444444444444,
              "#bd3786"
             ],
             [
              0.5555555555555556,
              "#d8576b"
             ],
             [
              0.6666666666666666,
              "#ed7953"
             ],
             [
              0.7777777777777778,
              "#fb9f3a"
             ],
             [
              0.8888888888888888,
              "#fdca26"
             ],
             [
              1,
              "#f0f921"
             ]
            ],
            "type": "histogram2dcontour"
           }
          ],
          "mesh3d": [
           {
            "colorbar": {
             "outlinewidth": 0,
             "ticks": ""
            },
            "type": "mesh3d"
           }
          ],
          "parcoords": [
           {
            "line": {
             "colorbar": {
              "outlinewidth": 0,
              "ticks": ""
             }
            },
            "type": "parcoords"
           }
          ],
          "pie": [
           {
            "automargin": true,
            "type": "pie"
           }
          ],
          "scatter": [
           {
            "fillpattern": {
             "fillmode": "overlay",
             "size": 10,
             "solidity": 0.2
            },
            "type": "scatter"
           }
          ],
          "scatter3d": [
           {
            "line": {
             "colorbar": {
              "outlinewidth": 0,
              "ticks": ""
             }
            },
            "marker": {
             "colorbar": {
              "outlinewidth": 0,
              "ticks": ""
             }
            },
            "type": "scatter3d"
           }
          ],
          "scattercarpet": [
           {
            "marker": {
             "colorbar": {
              "outlinewidth": 0,
              "ticks": ""
             }
            },
            "type": "scattercarpet"
           }
          ],
          "scattergeo": [
           {
            "marker": {
             "colorbar": {
              "outlinewidth": 0,
              "ticks": ""
             }
            },
            "type": "scattergeo"
           }
          ],
          "scattergl": [
           {
            "marker": {
             "colorbar": {
              "outlinewidth": 0,
              "ticks": ""
             }
            },
            "type": "scattergl"
           }
          ],
          "scattermapbox": [
           {
            "marker": {
             "colorbar": {
              "outlinewidth": 0,
              "ticks": ""
             }
            },
            "type": "scattermapbox"
           }
          ],
          "scatterpolar": [
           {
            "marker": {
             "colorbar": {
              "outlinewidth": 0,
              "ticks": ""
             }
            },
            "type": "scatterpolar"
           }
          ],
          "scatterpolargl": [
           {
            "marker": {
             "colorbar": {
              "outlinewidth": 0,
              "ticks": ""
             }
            },
            "type": "scatterpolargl"
           }
          ],
          "scatterternary": [
           {
            "marker": {
             "colorbar": {
              "outlinewidth": 0,
              "ticks": ""
             }
            },
            "type": "scatterternary"
           }
          ],
          "surface": [
           {
            "colorbar": {
             "outlinewidth": 0,
             "ticks": ""
            },
            "colorscale": [
             [
              0,
              "#0d0887"
             ],
             [
              0.1111111111111111,
              "#46039f"
             ],
             [
              0.2222222222222222,
              "#7201a8"
             ],
             [
              0.3333333333333333,
              "#9c179e"
             ],
             [
              0.4444444444444444,
              "#bd3786"
             ],
             [
              0.5555555555555556,
              "#d8576b"
             ],
             [
              0.6666666666666666,
              "#ed7953"
             ],
             [
              0.7777777777777778,
              "#fb9f3a"
             ],
             [
              0.8888888888888888,
              "#fdca26"
             ],
             [
              1,
              "#f0f921"
             ]
            ],
            "type": "surface"
           }
          ],
          "table": [
           {
            "cells": {
             "fill": {
              "color": "#EBF0F8"
             },
             "line": {
              "color": "white"
             }
            },
            "header": {
             "fill": {
              "color": "#C8D4E3"
             },
             "line": {
              "color": "white"
             }
            },
            "type": "table"
           }
          ]
         },
         "layout": {
          "annotationdefaults": {
           "arrowcolor": "#2a3f5f",
           "arrowhead": 0,
           "arrowwidth": 1
          },
          "autotypenumbers": "strict",
          "coloraxis": {
           "colorbar": {
            "outlinewidth": 0,
            "ticks": ""
           }
          },
          "colorscale": {
           "diverging": [
            [
             0,
             "#8e0152"
            ],
            [
             0.1,
             "#c51b7d"
            ],
            [
             0.2,
             "#de77ae"
            ],
            [
             0.3,
             "#f1b6da"
            ],
            [
             0.4,
             "#fde0ef"
            ],
            [
             0.5,
             "#f7f7f7"
            ],
            [
             0.6,
             "#e6f5d0"
            ],
            [
             0.7,
             "#b8e186"
            ],
            [
             0.8,
             "#7fbc41"
            ],
            [
             0.9,
             "#4d9221"
            ],
            [
             1,
             "#276419"
            ]
           ],
           "sequential": [
            [
             0,
             "#0d0887"
            ],
            [
             0.1111111111111111,
             "#46039f"
            ],
            [
             0.2222222222222222,
             "#7201a8"
            ],
            [
             0.3333333333333333,
             "#9c179e"
            ],
            [
             0.4444444444444444,
             "#bd3786"
            ],
            [
             0.5555555555555556,
             "#d8576b"
            ],
            [
             0.6666666666666666,
             "#ed7953"
            ],
            [
             0.7777777777777778,
             "#fb9f3a"
            ],
            [
             0.8888888888888888,
             "#fdca26"
            ],
            [
             1,
             "#f0f921"
            ]
           ],
           "sequentialminus": [
            [
             0,
             "#0d0887"
            ],
            [
             0.1111111111111111,
             "#46039f"
            ],
            [
             0.2222222222222222,
             "#7201a8"
            ],
            [
             0.3333333333333333,
             "#9c179e"
            ],
            [
             0.4444444444444444,
             "#bd3786"
            ],
            [
             0.5555555555555556,
             "#d8576b"
            ],
            [
             0.6666666666666666,
             "#ed7953"
            ],
            [
             0.7777777777777778,
             "#fb9f3a"
            ],
            [
             0.8888888888888888,
             "#fdca26"
            ],
            [
             1,
             "#f0f921"
            ]
           ]
          },
          "colorway": [
           "#636efa",
           "#EF553B",
           "#00cc96",
           "#ab63fa",
           "#FFA15A",
           "#19d3f3",
           "#FF6692",
           "#B6E880",
           "#FF97FF",
           "#FECB52"
          ],
          "font": {
           "color": "#2a3f5f"
          },
          "geo": {
           "bgcolor": "white",
           "lakecolor": "white",
           "landcolor": "#E5ECF6",
           "showlakes": true,
           "showland": true,
           "subunitcolor": "white"
          },
          "hoverlabel": {
           "align": "left"
          },
          "hovermode": "closest",
          "mapbox": {
           "style": "light"
          },
          "paper_bgcolor": "white",
          "plot_bgcolor": "#E5ECF6",
          "polar": {
           "angularaxis": {
            "gridcolor": "white",
            "linecolor": "white",
            "ticks": ""
           },
           "bgcolor": "#E5ECF6",
           "radialaxis": {
            "gridcolor": "white",
            "linecolor": "white",
            "ticks": ""
           }
          },
          "scene": {
           "xaxis": {
            "backgroundcolor": "#E5ECF6",
            "gridcolor": "white",
            "gridwidth": 2,
            "linecolor": "white",
            "showbackground": true,
            "ticks": "",
            "zerolinecolor": "white"
           },
           "yaxis": {
            "backgroundcolor": "#E5ECF6",
            "gridcolor": "white",
            "gridwidth": 2,
            "linecolor": "white",
            "showbackground": true,
            "ticks": "",
            "zerolinecolor": "white"
           },
           "zaxis": {
            "backgroundcolor": "#E5ECF6",
            "gridcolor": "white",
            "gridwidth": 2,
            "linecolor": "white",
            "showbackground": true,
            "ticks": "",
            "zerolinecolor": "white"
           }
          },
          "shapedefaults": {
           "line": {
            "color": "#2a3f5f"
           }
          },
          "ternary": {
           "aaxis": {
            "gridcolor": "white",
            "linecolor": "white",
            "ticks": ""
           },
           "baxis": {
            "gridcolor": "white",
            "linecolor": "white",
            "ticks": ""
           },
           "bgcolor": "#E5ECF6",
           "caxis": {
            "gridcolor": "white",
            "linecolor": "white",
            "ticks": ""
           }
          },
          "title": {
           "x": 0.05
          },
          "xaxis": {
           "automargin": true,
           "gridcolor": "white",
           "linecolor": "white",
           "ticks": "",
           "title": {
            "standoff": 15
           },
           "zerolinecolor": "white",
           "zerolinewidth": 2
          },
          "yaxis": {
           "automargin": true,
           "gridcolor": "white",
           "linecolor": "white",
           "ticks": "",
           "title": {
            "standoff": 15
           },
           "zerolinecolor": "white",
           "zerolinewidth": 2
          }
         }
        },
        "title": {
         "font": {
          "color": "#4D5663"
         }
        },
        "xaxis": {
         "gridcolor": "#E1E5ED",
         "showgrid": true,
         "tickfont": {
          "color": "#4D5663"
         },
         "title": {
          "font": {
           "color": "#4D5663"
          },
          "text": ""
         },
         "zerolinecolor": "#E1E5ED"
        },
        "yaxis": {
         "gridcolor": "#E1E5ED",
         "showgrid": true,
         "tickfont": {
          "color": "#4D5663"
         },
         "title": {
          "font": {
           "color": "#4D5663"
          },
          "text": ""
         },
         "zerolinecolor": "#E1E5ED"
        }
       }
      },
      "text/html": [
       "<div>                            <div id=\"81dd340c-4f8e-4cfe-8fc0-080ba52dbbb2\" class=\"plotly-graph-div\" style=\"height:525px; width:100%;\"></div>            <script type=\"text/javascript\">                require([\"plotly\"], function(Plotly) {                    window.PLOTLYENV=window.PLOTLYENV || {};\n",
       "                    window.PLOTLYENV.BASE_URL='https://plot.ly';                                    if (document.getElementById(\"81dd340c-4f8e-4cfe-8fc0-080ba52dbbb2\")) {                    Plotly.newPlot(                        \"81dd340c-4f8e-4cfe-8fc0-080ba52dbbb2\",                        [{\"marker\":{\"color\":\"rgba(255, 153, 51, 0.6)\",\"line\":{\"color\":\"rgba(255, 153, 51, 1.0)\",\"width\":1}},\"name\":\"None\",\"orientation\":\"v\",\"text\":\"\",\"x\":[\"A\",\"B\",\"C\",\"D\"],\"y\":[-0.37655653921608084,18.684910428478616,-8.332666146566181,-18.296244240888445],\"type\":\"bar\"}],                        {\"legend\":{\"bgcolor\":\"#F5F6F9\",\"font\":{\"color\":\"#4D5663\"}},\"paper_bgcolor\":\"#F5F6F9\",\"plot_bgcolor\":\"#F5F6F9\",\"template\":{\"data\":{\"barpolar\":[{\"marker\":{\"line\":{\"color\":\"#E5ECF6\",\"width\":0.5},\"pattern\":{\"fillmode\":\"overlay\",\"size\":10,\"solidity\":0.2}},\"type\":\"barpolar\"}],\"bar\":[{\"error_x\":{\"color\":\"#2a3f5f\"},\"error_y\":{\"color\":\"#2a3f5f\"},\"marker\":{\"line\":{\"color\":\"#E5ECF6\",\"width\":0.5},\"pattern\":{\"fillmode\":\"overlay\",\"size\":10,\"solidity\":0.2}},\"type\":\"bar\"}],\"carpet\":[{\"aaxis\":{\"endlinecolor\":\"#2a3f5f\",\"gridcolor\":\"white\",\"linecolor\":\"white\",\"minorgridcolor\":\"white\",\"startlinecolor\":\"#2a3f5f\"},\"baxis\":{\"endlinecolor\":\"#2a3f5f\",\"gridcolor\":\"white\",\"linecolor\":\"white\",\"minorgridcolor\":\"white\",\"startlinecolor\":\"#2a3f5f\"},\"type\":\"carpet\"}],\"choropleth\":[{\"colorbar\":{\"outlinewidth\":0,\"ticks\":\"\"},\"type\":\"choropleth\"}],\"contourcarpet\":[{\"colorbar\":{\"outlinewidth\":0,\"ticks\":\"\"},\"type\":\"contourcarpet\"}],\"contour\":[{\"colorbar\":{\"outlinewidth\":0,\"ticks\":\"\"},\"colorscale\":[[0.0,\"#0d0887\"],[0.1111111111111111,\"#46039f\"],[0.2222222222222222,\"#7201a8\"],[0.3333333333333333,\"#9c179e\"],[0.4444444444444444,\"#bd3786\"],[0.5555555555555556,\"#d8576b\"],[0.6666666666666666,\"#ed7953\"],[0.7777777777777778,\"#fb9f3a\"],[0.8888888888888888,\"#fdca26\"],[1.0,\"#f0f921\"]],\"type\":\"contour\"}],\"heatmapgl\":[{\"colorbar\":{\"outlinewidth\":0,\"ticks\":\"\"},\"colorscale\":[[0.0,\"#0d0887\"],[0.1111111111111111,\"#46039f\"],[0.2222222222222222,\"#7201a8\"],[0.3333333333333333,\"#9c179e\"],[0.4444444444444444,\"#bd3786\"],[0.5555555555555556,\"#d8576b\"],[0.6666666666666666,\"#ed7953\"],[0.7777777777777778,\"#fb9f3a\"],[0.8888888888888888,\"#fdca26\"],[1.0,\"#f0f921\"]],\"type\":\"heatmapgl\"}],\"heatmap\":[{\"colorbar\":{\"outlinewidth\":0,\"ticks\":\"\"},\"colorscale\":[[0.0,\"#0d0887\"],[0.1111111111111111,\"#46039f\"],[0.2222222222222222,\"#7201a8\"],[0.3333333333333333,\"#9c179e\"],[0.4444444444444444,\"#bd3786\"],[0.5555555555555556,\"#d8576b\"],[0.6666666666666666,\"#ed7953\"],[0.7777777777777778,\"#fb9f3a\"],[0.8888888888888888,\"#fdca26\"],[1.0,\"#f0f921\"]],\"type\":\"heatmap\"}],\"histogram2dcontour\":[{\"colorbar\":{\"outlinewidth\":0,\"ticks\":\"\"},\"colorscale\":[[0.0,\"#0d0887\"],[0.1111111111111111,\"#46039f\"],[0.2222222222222222,\"#7201a8\"],[0.3333333333333333,\"#9c179e\"],[0.4444444444444444,\"#bd3786\"],[0.5555555555555556,\"#d8576b\"],[0.6666666666666666,\"#ed7953\"],[0.7777777777777778,\"#fb9f3a\"],[0.8888888888888888,\"#fdca26\"],[1.0,\"#f0f921\"]],\"type\":\"histogram2dcontour\"}],\"histogram2d\":[{\"colorbar\":{\"outlinewidth\":0,\"ticks\":\"\"},\"colorscale\":[[0.0,\"#0d0887\"],[0.1111111111111111,\"#46039f\"],[0.2222222222222222,\"#7201a8\"],[0.3333333333333333,\"#9c179e\"],[0.4444444444444444,\"#bd3786\"],[0.5555555555555556,\"#d8576b\"],[0.6666666666666666,\"#ed7953\"],[0.7777777777777778,\"#fb9f3a\"],[0.8888888888888888,\"#fdca26\"],[1.0,\"#f0f921\"]],\"type\":\"histogram2d\"}],\"histogram\":[{\"marker\":{\"pattern\":{\"fillmode\":\"overlay\",\"size\":10,\"solidity\":0.2}},\"type\":\"histogram\"}],\"mesh3d\":[{\"colorbar\":{\"outlinewidth\":0,\"ticks\":\"\"},\"type\":\"mesh3d\"}],\"parcoords\":[{\"line\":{\"colorbar\":{\"outlinewidth\":0,\"ticks\":\"\"}},\"type\":\"parcoords\"}],\"pie\":[{\"automargin\":true,\"type\":\"pie\"}],\"scatter3d\":[{\"line\":{\"colorbar\":{\"outlinewidth\":0,\"ticks\":\"\"}},\"marker\":{\"colorbar\":{\"outlinewidth\":0,\"ticks\":\"\"}},\"type\":\"scatter3d\"}],\"scattercarpet\":[{\"marker\":{\"colorbar\":{\"outlinewidth\":0,\"ticks\":\"\"}},\"type\":\"scattercarpet\"}],\"scattergeo\":[{\"marker\":{\"colorbar\":{\"outlinewidth\":0,\"ticks\":\"\"}},\"type\":\"scattergeo\"}],\"scattergl\":[{\"marker\":{\"colorbar\":{\"outlinewidth\":0,\"ticks\":\"\"}},\"type\":\"scattergl\"}],\"scattermapbox\":[{\"marker\":{\"colorbar\":{\"outlinewidth\":0,\"ticks\":\"\"}},\"type\":\"scattermapbox\"}],\"scatterpolargl\":[{\"marker\":{\"colorbar\":{\"outlinewidth\":0,\"ticks\":\"\"}},\"type\":\"scatterpolargl\"}],\"scatterpolar\":[{\"marker\":{\"colorbar\":{\"outlinewidth\":0,\"ticks\":\"\"}},\"type\":\"scatterpolar\"}],\"scatter\":[{\"fillpattern\":{\"fillmode\":\"overlay\",\"size\":10,\"solidity\":0.2},\"type\":\"scatter\"}],\"scatterternary\":[{\"marker\":{\"colorbar\":{\"outlinewidth\":0,\"ticks\":\"\"}},\"type\":\"scatterternary\"}],\"surface\":[{\"colorbar\":{\"outlinewidth\":0,\"ticks\":\"\"},\"colorscale\":[[0.0,\"#0d0887\"],[0.1111111111111111,\"#46039f\"],[0.2222222222222222,\"#7201a8\"],[0.3333333333333333,\"#9c179e\"],[0.4444444444444444,\"#bd3786\"],[0.5555555555555556,\"#d8576b\"],[0.6666666666666666,\"#ed7953\"],[0.7777777777777778,\"#fb9f3a\"],[0.8888888888888888,\"#fdca26\"],[1.0,\"#f0f921\"]],\"type\":\"surface\"}],\"table\":[{\"cells\":{\"fill\":{\"color\":\"#EBF0F8\"},\"line\":{\"color\":\"white\"}},\"header\":{\"fill\":{\"color\":\"#C8D4E3\"},\"line\":{\"color\":\"white\"}},\"type\":\"table\"}]},\"layout\":{\"annotationdefaults\":{\"arrowcolor\":\"#2a3f5f\",\"arrowhead\":0,\"arrowwidth\":1},\"autotypenumbers\":\"strict\",\"coloraxis\":{\"colorbar\":{\"outlinewidth\":0,\"ticks\":\"\"}},\"colorscale\":{\"diverging\":[[0,\"#8e0152\"],[0.1,\"#c51b7d\"],[0.2,\"#de77ae\"],[0.3,\"#f1b6da\"],[0.4,\"#fde0ef\"],[0.5,\"#f7f7f7\"],[0.6,\"#e6f5d0\"],[0.7,\"#b8e186\"],[0.8,\"#7fbc41\"],[0.9,\"#4d9221\"],[1,\"#276419\"]],\"sequential\":[[0.0,\"#0d0887\"],[0.1111111111111111,\"#46039f\"],[0.2222222222222222,\"#7201a8\"],[0.3333333333333333,\"#9c179e\"],[0.4444444444444444,\"#bd3786\"],[0.5555555555555556,\"#d8576b\"],[0.6666666666666666,\"#ed7953\"],[0.7777777777777778,\"#fb9f3a\"],[0.8888888888888888,\"#fdca26\"],[1.0,\"#f0f921\"]],\"sequentialminus\":[[0.0,\"#0d0887\"],[0.1111111111111111,\"#46039f\"],[0.2222222222222222,\"#7201a8\"],[0.3333333333333333,\"#9c179e\"],[0.4444444444444444,\"#bd3786\"],[0.5555555555555556,\"#d8576b\"],[0.6666666666666666,\"#ed7953\"],[0.7777777777777778,\"#fb9f3a\"],[0.8888888888888888,\"#fdca26\"],[1.0,\"#f0f921\"]]},\"colorway\":[\"#636efa\",\"#EF553B\",\"#00cc96\",\"#ab63fa\",\"#FFA15A\",\"#19d3f3\",\"#FF6692\",\"#B6E880\",\"#FF97FF\",\"#FECB52\"],\"font\":{\"color\":\"#2a3f5f\"},\"geo\":{\"bgcolor\":\"white\",\"lakecolor\":\"white\",\"landcolor\":\"#E5ECF6\",\"showlakes\":true,\"showland\":true,\"subunitcolor\":\"white\"},\"hoverlabel\":{\"align\":\"left\"},\"hovermode\":\"closest\",\"mapbox\":{\"style\":\"light\"},\"paper_bgcolor\":\"white\",\"plot_bgcolor\":\"#E5ECF6\",\"polar\":{\"angularaxis\":{\"gridcolor\":\"white\",\"linecolor\":\"white\",\"ticks\":\"\"},\"bgcolor\":\"#E5ECF6\",\"radialaxis\":{\"gridcolor\":\"white\",\"linecolor\":\"white\",\"ticks\":\"\"}},\"scene\":{\"xaxis\":{\"backgroundcolor\":\"#E5ECF6\",\"gridcolor\":\"white\",\"gridwidth\":2,\"linecolor\":\"white\",\"showbackground\":true,\"ticks\":\"\",\"zerolinecolor\":\"white\"},\"yaxis\":{\"backgroundcolor\":\"#E5ECF6\",\"gridcolor\":\"white\",\"gridwidth\":2,\"linecolor\":\"white\",\"showbackground\":true,\"ticks\":\"\",\"zerolinecolor\":\"white\"},\"zaxis\":{\"backgroundcolor\":\"#E5ECF6\",\"gridcolor\":\"white\",\"gridwidth\":2,\"linecolor\":\"white\",\"showbackground\":true,\"ticks\":\"\",\"zerolinecolor\":\"white\"}},\"shapedefaults\":{\"line\":{\"color\":\"#2a3f5f\"}},\"ternary\":{\"aaxis\":{\"gridcolor\":\"white\",\"linecolor\":\"white\",\"ticks\":\"\"},\"baxis\":{\"gridcolor\":\"white\",\"linecolor\":\"white\",\"ticks\":\"\"},\"bgcolor\":\"#E5ECF6\",\"caxis\":{\"gridcolor\":\"white\",\"linecolor\":\"white\",\"ticks\":\"\"}},\"title\":{\"x\":0.05},\"xaxis\":{\"automargin\":true,\"gridcolor\":\"white\",\"linecolor\":\"white\",\"ticks\":\"\",\"title\":{\"standoff\":15},\"zerolinecolor\":\"white\",\"zerolinewidth\":2},\"yaxis\":{\"automargin\":true,\"gridcolor\":\"white\",\"linecolor\":\"white\",\"ticks\":\"\",\"title\":{\"standoff\":15},\"zerolinecolor\":\"white\",\"zerolinewidth\":2}}},\"title\":{\"font\":{\"color\":\"#4D5663\"}},\"xaxis\":{\"gridcolor\":\"#E1E5ED\",\"showgrid\":true,\"tickfont\":{\"color\":\"#4D5663\"},\"title\":{\"font\":{\"color\":\"#4D5663\"},\"text\":\"\"},\"zerolinecolor\":\"#E1E5ED\"},\"yaxis\":{\"gridcolor\":\"#E1E5ED\",\"showgrid\":true,\"tickfont\":{\"color\":\"#4D5663\"},\"title\":{\"font\":{\"color\":\"#4D5663\"},\"text\":\"\"},\"zerolinecolor\":\"#E1E5ED\"}},                        {\"showLink\": true, \"linkText\": \"Export to plot.ly\", \"plotlyServerURL\": \"https://plot.ly\", \"responsive\": true}                    ).then(function(){\n",
       "                            \n",
       "var gd = document.getElementById('81dd340c-4f8e-4cfe-8fc0-080ba52dbbb2');\n",
       "var x = new MutationObserver(function (mutations, observer) {{\n",
       "        var display = window.getComputedStyle(gd).display;\n",
       "        if (!display || display === 'none') {{\n",
       "            console.log([gd, 'removed!']);\n",
       "            Plotly.purge(gd);\n",
       "            observer.disconnect();\n",
       "        }}\n",
       "}});\n",
       "\n",
       "// Listen for the removal of the full notebook cells\n",
       "var notebookContainer = gd.closest('#notebook-container');\n",
       "if (notebookContainer) {{\n",
       "    x.observe(notebookContainer, {childList: true});\n",
       "}}\n",
       "\n",
       "// Listen for the clearing of the current output cell\n",
       "var outputEl = gd.closest('.output');\n",
       "if (outputEl) {{\n",
       "    x.observe(outputEl, {childList: true});\n",
       "}}\n",
       "\n",
       "                        })                };                });            </script>        </div>"
      ]
     },
     "metadata": {},
     "output_type": "display_data"
    }
   ],
   "source": [
    "df1.sum().iplot ( kind=\"bar\" )"
   ]
  },
  {
   "cell_type": "code",
   "execution_count": 12,
   "id": "28055761",
   "metadata": {},
   "outputs": [
    {
     "data": {
      "application/vnd.plotly.v1+json": {
       "config": {
        "linkText": "Export to plot.ly",
        "plotlyServerURL": "https://plot.ly",
        "showLink": true
       },
       "data": [
        {
         "boxpoints": false,
         "line": {
          "width": 1.3
         },
         "marker": {
          "color": "rgba(255, 153, 51, 1.0)"
         },
         "name": "A",
         "orientation": "v",
         "type": "box",
         "y": [
          0.512752939029791,
          -0.3553419617198243,
          -0.27929092762229374,
          0.13715381120273906,
          -0.10561595646288185,
          -0.1599097109111184,
          -0.4979472496059992,
          0.157104113124573,
          -0.46293873496051735,
          2.485418431861522,
          -0.4516734756190726,
          -1.493458861952407,
          -0.026482791768084567,
          -0.2757463899836123,
          2.241694624786081,
          -0.5129572406266717,
          0.15252616393685708,
          1.3865506913062904,
          -0.4983345548729902,
          0.307249958853756,
          -1.128251054831078,
          -0.8075072847154674,
          -0.6363660077137355,
          -0.3713082499903116,
          1.0441461790223507,
          0.3414257868465785,
          -0.5322617919291063,
          -1.2591308173815023,
          0.7009125457086441,
          0.9967249848203381,
          0.5553427242848349,
          -0.1710629029221637,
          -0.09347269250359294,
          -0.06269091796217952,
          -0.8889925758821092,
          1.0218299933351225,
          0.8210081659849187,
          0.44322827056598846,
          -0.4184786434300998,
          -0.08940115509505929,
          0.7269703626378548,
          0.24703444042561,
          0.05660618906374495,
          -0.46715813740333273,
          0.02946942295050563,
          -2.0148452428808628,
          -1.8538320646658921,
          -0.3354297970013657,
          1.6395349929699676,
          1.8490226882208158,
          -0.1512933010494933,
          -0.5005603686679456,
          0.7287108498117928,
          1.298360623953065,
          0.05835482274762789,
          0.05404720881988463,
          1.6448478378071496,
          -0.2165273389788695,
          -0.01089034092055172,
          -0.6396922580512779,
          0.1659230506263948,
          -0.26904140973624013,
          -0.15555495444472764,
          0.9466288861187291,
          0.49900398554713205,
          -2.175214685296227,
          0.09718808811786087,
          2.708148103191192,
          -0.7877907963975526,
          -0.0014491244335431606,
          -0.11955410895494896,
          -0.012562024727582138,
          -0.38147657376126753,
          1.1364951029280372,
          -0.3185237106734018,
          -2.2316850554714165,
          -1.332370837239957,
          1.1773780023580709,
          0.02886572654773463,
          -1.345659142078511,
          0.8985612990834209,
          0.7222788050675611,
          -1.3802880760915244,
          -1.9585194457414203,
          -2.1686577556553375,
          -0.8500871395049288,
          0.10917120767171398,
          0.4795289001080743,
          1.2234004610201688,
          0.8152430704621533,
          1.0968304321670168,
          -1.4067781777797062,
          0.05849673408436882,
          0.7533432362097038,
          0.015432162011626286,
          -1.2840022615670568,
          1.0343567428530556,
          0.6022038052564009,
          -0.5734790425194495,
          -0.061518042568631644
         ]
        },
        {
         "boxpoints": false,
         "line": {
          "width": 1.3
         },
         "marker": {
          "color": "rgba(55, 128, 191, 1.0)"
         },
         "name": "B",
         "orientation": "v",
         "type": "box",
         "y": [
          0.9495836228334081,
          -0.7100194112250915,
          1.650112399487089,
          0.7207073489887325,
          -0.6598783128597964,
          0.18061985623530957,
          -0.4113123196925393,
          -0.8059169160909352,
          -0.45030841232826324,
          -0.8649897640802658,
          1.0102208397481613,
          -1.0723396880437734,
          -0.6968940084156565,
          -0.8645673092942562,
          2.1955425731858553,
          -1.8863114244239756,
          0.8957455972821831,
          0.678767466446716,
          -0.8943159560446318,
          -0.09741963407826157,
          0.7654188247816236,
          -0.3061372125342001,
          0.5819132563211112,
          -0.8670704822495087,
          -1.1685354191395143,
          0.4987062070583795,
          -1.2664917103538968,
          -0.0020470918678063186,
          0.3121952440872714,
          -0.16072843272068324,
          0.11875890069643805,
          0.44986031105381663,
          -1.2372941389702115,
          -0.0699148743189868,
          0.5722458274120602,
          -0.908423657263562,
          0.9938975291952103,
          0.7958846288611234,
          2.301904816453025,
          -0.03442714273076457,
          1.9790174693194467,
          2.610010540348577,
          0.32989197333371956,
          0.8624799408253738,
          0.1139651001292569,
          0.4707004527178716,
          -1.5716325921736916,
          -0.24216538524890424,
          1.2948587449311602,
          2.4104001599038,
          0.06946876011078847,
          0.14121954910246642,
          -1.758843335651598,
          -0.34023316429089806,
          -0.615902806569471,
          0.5258757904723518,
          0.768142038676994,
          -0.6217746021507302,
          0.40561366010531047,
          0.0611695638678798,
          -0.13738126847244095,
          1.0648377553030648,
          -1.8221199689954444,
          -0.8653744519128183,
          0.6777054680280602,
          2.497494640335452,
          0.15104718570411105,
          1.6886883956295087,
          0.2150663109619358,
          1.1726393230041428,
          -0.6033410253786355,
          -1.1128029280466678,
          -1.3753978791796673,
          -1.6083436278421894,
          0.3251529185534095,
          -0.23507903877710437,
          0.6854681379288818,
          -1.041259674279969,
          -0.6804639148664574,
          0.8121246030044645,
          1.3458243345424477,
          -0.11174265897113703,
          0.8968517311317901,
          1.1561368291141871,
          0.14505918969787704,
          -0.18489325889499017,
          0.28894923373935066,
          0.9245649933210359,
          0.09791212574998187,
          1.735864656117559,
          1.8020648684561578,
          1.1660229778070796,
          1.6705341417911646,
          0.7029421504635976,
          -0.09985353358039065,
          0.6613232704319956,
          0.7436371685517646,
          -1.1581864717986816,
          -0.0517374783828689,
          0.01597140932841376
         ]
        },
        {
         "boxpoints": false,
         "line": {
          "width": 1.3
         },
         "marker": {
          "color": "rgba(50, 171, 96, 1.0)"
         },
         "name": "C",
         "orientation": "v",
         "type": "box",
         "y": [
          0.647918339125702,
          -0.6629874159950747,
          -1.365185908111771,
          -2.0075225889599912,
          0.35654496700388316,
          1.3006874023536812,
          0.6835665697629982,
          -0.1401688964319155,
          -0.5803277472699386,
          0.6923895199692292,
          0.11043568798289007,
          -2.04023863493297,
          -1.4862374677794092,
          -0.8038954840842417,
          -0.4135429899954026,
          -0.19033116277557574,
          -0.5832375643284965,
          -0.7939887159905965,
          0.6763710647834456,
          0.622834178952044,
          0.19795849857076636,
          0.9230244541099311,
          0.9102873282566336,
          -1.578134272455675,
          2.248498612388913,
          -0.618276094493357,
          -1.642332191049332,
          -0.04954032303581414,
          1.273426373834263,
          0.05231784690273851,
          0.2170359373006094,
          -0.621871739089189,
          1.7856015664211622,
          0.43911657462324843,
          -1.4061425872715332,
          -0.32187333746658625,
          -0.23938813708705242,
          1.7833946355736527,
          -0.37324468282187484,
          -1.0666543693021822,
          -1.5485146171686575,
          0.20222191754419228,
          1.5230706386496686,
          0.616125792570182,
          -0.060507670904036276,
          -1.2248084283541232,
          -0.044431380557908934,
          2.2728044609439206,
          -1.7719469687907905,
          -0.5033840112064768,
          0.3851516439195813,
          -0.46447582205570065,
          -0.41975194804749727,
          0.04487714083101872,
          -2.008098012532532,
          0.2570531685060416,
          0.4336246485117831,
          0.7873621484585646,
          -0.7858747473947723,
          -2.249721885545336,
          0.2608393620754042,
          -0.35116999546835553,
          -1.4189477335205365,
          0.2452825146149802,
          0.40435417415188973,
          0.09930232430532347,
          -1.6741987610616293,
          0.42798943237457315,
          1.1160057602750102,
          -0.08809469183071897,
          1.0374511726902327,
          0.8647984505493161,
          -2.02602321230138,
          -1.8973360600586375,
          1.3290420228656905,
          -0.08532051099166421,
          -0.1618291189602749,
          3.36589901332965,
          0.2853060111168622,
          1.4909104779129705,
          2.603046817481854,
          0.07057420879162299,
          -0.3349264401219666,
          -0.27214487332199866,
          0.11621477136899505,
          -1.9653993496117967,
          -0.6532103410624271,
          0.2363608302426708,
          0.9248339096229946,
          1.044452994302072,
          -0.568127620861377,
          0.9347943385510102,
          -1.4674844783936958,
          -0.6593242696058286,
          0.33773560085113274,
          -0.9564585499347026,
          -1.0816546603266393,
          -0.0990998967519054,
          -0.6780371610061101,
          -0.4661359234137232
         ]
        },
        {
         "boxpoints": false,
         "line": {
          "width": 1.3
         },
         "marker": {
          "color": "rgba(128, 0, 128, 1.0)"
         },
         "name": "D",
         "orientation": "v",
         "type": "box",
         "y": [
          -0.19631981906212687,
          -0.6519713807353804,
          -1.0649846722973384,
          0.2276268403009993,
          0.7048164209836024,
          -1.4446783704695936,
          -2.033750158183124,
          0.5138908127633827,
          0.5743634695953264,
          -1.3657451693518634,
          0.4637907687699757,
          1.0844078896291873,
          -0.8199961871709128,
          0.7302810084439927,
          1.1501886667067136,
          1.4068956037099702,
          1.508692417359712,
          -0.122429546415331,
          -1.2139029828276917,
          -1.3915936060875007,
          -0.3238322412559266,
          1.3434653001668608,
          -0.5185807775608965,
          -0.7107820957370212,
          -0.4464055579970659,
          -0.9606481511417176,
          -0.295817297356241,
          -0.7965590857577352,
          0.006067325117813681,
          -0.4809220256345543,
          1.028630144482865,
          -0.3991139925170933,
          0.03907052978298096,
          1.4539224977284508,
          1.2368047827803776,
          1.498742536272704,
          0.9555284868160445,
          -0.4319859168096048,
          0.07204665511014491,
          0.15138773782731127,
          -0.0016863454597473644,
          -0.66704262100987,
          0.8234927800554659,
          0.9355289432127771,
          -0.6529971281881106,
          1.5998032068698078,
          -1.158827929365611,
          -0.04136818612304619,
          1.0781454686574732,
          0.21721131798324592,
          1.534521058113346,
          -1.750652204012357,
          0.9872822474417707,
          -1.197496541939758,
          -1.0439173878772081,
          0.09596236413985537,
          -0.6568654252222857,
          0.706633110663512,
          -1.211932613051174,
          0.671873724489011,
          -0.3898892118405459,
          0.9970459716634278,
          -0.28713960225161106,
          -0.010341133054459198,
          -0.9767493981679324,
          -0.18844975221423968,
          -0.7820893042608988,
          -1.8529738370200275,
          1.4738531760079354,
          -0.23686088155185786,
          -0.8470745256434993,
          -2.05765141244495,
          0.8174144337022742,
          -1.4106119727042548,
          -0.7248926917781047,
          -0.8969630071984197,
          -0.6419860011659925,
          -0.375072540951662,
          0.17237805217223748,
          -0.5805831220436499,
          -1.0090042945869997,
          -0.360630514240928,
          0.06712082805980472,
          -1.0222964654995608,
          -1.3111878556748808,
          -0.6265000694373624,
          -0.45147531022127435,
          -1.1298686894301744,
          -1.7403524915989772,
          -0.20931072894096553,
          -0.4243133313934241,
          -0.4252201065654679,
          -0.9829243053422797,
          0.6344429869787069,
          0.4895108597241183,
          0.9515124340705648,
          -1.2456264225617408,
          -0.003231469493402177,
          -0.4297021911016993,
          -1.0168190422430656
         ]
        }
       ],
       "layout": {
        "legend": {
         "bgcolor": "#F5F6F9",
         "font": {
          "color": "#4D5663"
         }
        },
        "paper_bgcolor": "#F5F6F9",
        "plot_bgcolor": "#F5F6F9",
        "template": {
         "data": {
          "bar": [
           {
            "error_x": {
             "color": "#2a3f5f"
            },
            "error_y": {
             "color": "#2a3f5f"
            },
            "marker": {
             "line": {
              "color": "#E5ECF6",
              "width": 0.5
             },
             "pattern": {
              "fillmode": "overlay",
              "size": 10,
              "solidity": 0.2
             }
            },
            "type": "bar"
           }
          ],
          "barpolar": [
           {
            "marker": {
             "line": {
              "color": "#E5ECF6",
              "width": 0.5
             },
             "pattern": {
              "fillmode": "overlay",
              "size": 10,
              "solidity": 0.2
             }
            },
            "type": "barpolar"
           }
          ],
          "carpet": [
           {
            "aaxis": {
             "endlinecolor": "#2a3f5f",
             "gridcolor": "white",
             "linecolor": "white",
             "minorgridcolor": "white",
             "startlinecolor": "#2a3f5f"
            },
            "baxis": {
             "endlinecolor": "#2a3f5f",
             "gridcolor": "white",
             "linecolor": "white",
             "minorgridcolor": "white",
             "startlinecolor": "#2a3f5f"
            },
            "type": "carpet"
           }
          ],
          "choropleth": [
           {
            "colorbar": {
             "outlinewidth": 0,
             "ticks": ""
            },
            "type": "choropleth"
           }
          ],
          "contour": [
           {
            "colorbar": {
             "outlinewidth": 0,
             "ticks": ""
            },
            "colorscale": [
             [
              0,
              "#0d0887"
             ],
             [
              0.1111111111111111,
              "#46039f"
             ],
             [
              0.2222222222222222,
              "#7201a8"
             ],
             [
              0.3333333333333333,
              "#9c179e"
             ],
             [
              0.4444444444444444,
              "#bd3786"
             ],
             [
              0.5555555555555556,
              "#d8576b"
             ],
             [
              0.6666666666666666,
              "#ed7953"
             ],
             [
              0.7777777777777778,
              "#fb9f3a"
             ],
             [
              0.8888888888888888,
              "#fdca26"
             ],
             [
              1,
              "#f0f921"
             ]
            ],
            "type": "contour"
           }
          ],
          "contourcarpet": [
           {
            "colorbar": {
             "outlinewidth": 0,
             "ticks": ""
            },
            "type": "contourcarpet"
           }
          ],
          "heatmap": [
           {
            "colorbar": {
             "outlinewidth": 0,
             "ticks": ""
            },
            "colorscale": [
             [
              0,
              "#0d0887"
             ],
             [
              0.1111111111111111,
              "#46039f"
             ],
             [
              0.2222222222222222,
              "#7201a8"
             ],
             [
              0.3333333333333333,
              "#9c179e"
             ],
             [
              0.4444444444444444,
              "#bd3786"
             ],
             [
              0.5555555555555556,
              "#d8576b"
             ],
             [
              0.6666666666666666,
              "#ed7953"
             ],
             [
              0.7777777777777778,
              "#fb9f3a"
             ],
             [
              0.8888888888888888,
              "#fdca26"
             ],
             [
              1,
              "#f0f921"
             ]
            ],
            "type": "heatmap"
           }
          ],
          "heatmapgl": [
           {
            "colorbar": {
             "outlinewidth": 0,
             "ticks": ""
            },
            "colorscale": [
             [
              0,
              "#0d0887"
             ],
             [
              0.1111111111111111,
              "#46039f"
             ],
             [
              0.2222222222222222,
              "#7201a8"
             ],
             [
              0.3333333333333333,
              "#9c179e"
             ],
             [
              0.4444444444444444,
              "#bd3786"
             ],
             [
              0.5555555555555556,
              "#d8576b"
             ],
             [
              0.6666666666666666,
              "#ed7953"
             ],
             [
              0.7777777777777778,
              "#fb9f3a"
             ],
             [
              0.8888888888888888,
              "#fdca26"
             ],
             [
              1,
              "#f0f921"
             ]
            ],
            "type": "heatmapgl"
           }
          ],
          "histogram": [
           {
            "marker": {
             "pattern": {
              "fillmode": "overlay",
              "size": 10,
              "solidity": 0.2
             }
            },
            "type": "histogram"
           }
          ],
          "histogram2d": [
           {
            "colorbar": {
             "outlinewidth": 0,
             "ticks": ""
            },
            "colorscale": [
             [
              0,
              "#0d0887"
             ],
             [
              0.1111111111111111,
              "#46039f"
             ],
             [
              0.2222222222222222,
              "#7201a8"
             ],
             [
              0.3333333333333333,
              "#9c179e"
             ],
             [
              0.4444444444444444,
              "#bd3786"
             ],
             [
              0.5555555555555556,
              "#d8576b"
             ],
             [
              0.6666666666666666,
              "#ed7953"
             ],
             [
              0.7777777777777778,
              "#fb9f3a"
             ],
             [
              0.8888888888888888,
              "#fdca26"
             ],
             [
              1,
              "#f0f921"
             ]
            ],
            "type": "histogram2d"
           }
          ],
          "histogram2dcontour": [
           {
            "colorbar": {
             "outlinewidth": 0,
             "ticks": ""
            },
            "colorscale": [
             [
              0,
              "#0d0887"
             ],
             [
              0.1111111111111111,
              "#46039f"
             ],
             [
              0.2222222222222222,
              "#7201a8"
             ],
             [
              0.3333333333333333,
              "#9c179e"
             ],
             [
              0.4444444444444444,
              "#bd3786"
             ],
             [
              0.5555555555555556,
              "#d8576b"
             ],
             [
              0.6666666666666666,
              "#ed7953"
             ],
             [
              0.7777777777777778,
              "#fb9f3a"
             ],
             [
              0.8888888888888888,
              "#fdca26"
             ],
             [
              1,
              "#f0f921"
             ]
            ],
            "type": "histogram2dcontour"
           }
          ],
          "mesh3d": [
           {
            "colorbar": {
             "outlinewidth": 0,
             "ticks": ""
            },
            "type": "mesh3d"
           }
          ],
          "parcoords": [
           {
            "line": {
             "colorbar": {
              "outlinewidth": 0,
              "ticks": ""
             }
            },
            "type": "parcoords"
           }
          ],
          "pie": [
           {
            "automargin": true,
            "type": "pie"
           }
          ],
          "scatter": [
           {
            "fillpattern": {
             "fillmode": "overlay",
             "size": 10,
             "solidity": 0.2
            },
            "type": "scatter"
           }
          ],
          "scatter3d": [
           {
            "line": {
             "colorbar": {
              "outlinewidth": 0,
              "ticks": ""
             }
            },
            "marker": {
             "colorbar": {
              "outlinewidth": 0,
              "ticks": ""
             }
            },
            "type": "scatter3d"
           }
          ],
          "scattercarpet": [
           {
            "marker": {
             "colorbar": {
              "outlinewidth": 0,
              "ticks": ""
             }
            },
            "type": "scattercarpet"
           }
          ],
          "scattergeo": [
           {
            "marker": {
             "colorbar": {
              "outlinewidth": 0,
              "ticks": ""
             }
            },
            "type": "scattergeo"
           }
          ],
          "scattergl": [
           {
            "marker": {
             "colorbar": {
              "outlinewidth": 0,
              "ticks": ""
             }
            },
            "type": "scattergl"
           }
          ],
          "scattermapbox": [
           {
            "marker": {
             "colorbar": {
              "outlinewidth": 0,
              "ticks": ""
             }
            },
            "type": "scattermapbox"
           }
          ],
          "scatterpolar": [
           {
            "marker": {
             "colorbar": {
              "outlinewidth": 0,
              "ticks": ""
             }
            },
            "type": "scatterpolar"
           }
          ],
          "scatterpolargl": [
           {
            "marker": {
             "colorbar": {
              "outlinewidth": 0,
              "ticks": ""
             }
            },
            "type": "scatterpolargl"
           }
          ],
          "scatterternary": [
           {
            "marker": {
             "colorbar": {
              "outlinewidth": 0,
              "ticks": ""
             }
            },
            "type": "scatterternary"
           }
          ],
          "surface": [
           {
            "colorbar": {
             "outlinewidth": 0,
             "ticks": ""
            },
            "colorscale": [
             [
              0,
              "#0d0887"
             ],
             [
              0.1111111111111111,
              "#46039f"
             ],
             [
              0.2222222222222222,
              "#7201a8"
             ],
             [
              0.3333333333333333,
              "#9c179e"
             ],
             [
              0.4444444444444444,
              "#bd3786"
             ],
             [
              0.5555555555555556,
              "#d8576b"
             ],
             [
              0.6666666666666666,
              "#ed7953"
             ],
             [
              0.7777777777777778,
              "#fb9f3a"
             ],
             [
              0.8888888888888888,
              "#fdca26"
             ],
             [
              1,
              "#f0f921"
             ]
            ],
            "type": "surface"
           }
          ],
          "table": [
           {
            "cells": {
             "fill": {
              "color": "#EBF0F8"
             },
             "line": {
              "color": "white"
             }
            },
            "header": {
             "fill": {
              "color": "#C8D4E3"
             },
             "line": {
              "color": "white"
             }
            },
            "type": "table"
           }
          ]
         },
         "layout": {
          "annotationdefaults": {
           "arrowcolor": "#2a3f5f",
           "arrowhead": 0,
           "arrowwidth": 1
          },
          "autotypenumbers": "strict",
          "coloraxis": {
           "colorbar": {
            "outlinewidth": 0,
            "ticks": ""
           }
          },
          "colorscale": {
           "diverging": [
            [
             0,
             "#8e0152"
            ],
            [
             0.1,
             "#c51b7d"
            ],
            [
             0.2,
             "#de77ae"
            ],
            [
             0.3,
             "#f1b6da"
            ],
            [
             0.4,
             "#fde0ef"
            ],
            [
             0.5,
             "#f7f7f7"
            ],
            [
             0.6,
             "#e6f5d0"
            ],
            [
             0.7,
             "#b8e186"
            ],
            [
             0.8,
             "#7fbc41"
            ],
            [
             0.9,
             "#4d9221"
            ],
            [
             1,
             "#276419"
            ]
           ],
           "sequential": [
            [
             0,
             "#0d0887"
            ],
            [
             0.1111111111111111,
             "#46039f"
            ],
            [
             0.2222222222222222,
             "#7201a8"
            ],
            [
             0.3333333333333333,
             "#9c179e"
            ],
            [
             0.4444444444444444,
             "#bd3786"
            ],
            [
             0.5555555555555556,
             "#d8576b"
            ],
            [
             0.6666666666666666,
             "#ed7953"
            ],
            [
             0.7777777777777778,
             "#fb9f3a"
            ],
            [
             0.8888888888888888,
             "#fdca26"
            ],
            [
             1,
             "#f0f921"
            ]
           ],
           "sequentialminus": [
            [
             0,
             "#0d0887"
            ],
            [
             0.1111111111111111,
             "#46039f"
            ],
            [
             0.2222222222222222,
             "#7201a8"
            ],
            [
             0.3333333333333333,
             "#9c179e"
            ],
            [
             0.4444444444444444,
             "#bd3786"
            ],
            [
             0.5555555555555556,
             "#d8576b"
            ],
            [
             0.6666666666666666,
             "#ed7953"
            ],
            [
             0.7777777777777778,
             "#fb9f3a"
            ],
            [
             0.8888888888888888,
             "#fdca26"
            ],
            [
             1,
             "#f0f921"
            ]
           ]
          },
          "colorway": [
           "#636efa",
           "#EF553B",
           "#00cc96",
           "#ab63fa",
           "#FFA15A",
           "#19d3f3",
           "#FF6692",
           "#B6E880",
           "#FF97FF",
           "#FECB52"
          ],
          "font": {
           "color": "#2a3f5f"
          },
          "geo": {
           "bgcolor": "white",
           "lakecolor": "white",
           "landcolor": "#E5ECF6",
           "showlakes": true,
           "showland": true,
           "subunitcolor": "white"
          },
          "hoverlabel": {
           "align": "left"
          },
          "hovermode": "closest",
          "mapbox": {
           "style": "light"
          },
          "paper_bgcolor": "white",
          "plot_bgcolor": "#E5ECF6",
          "polar": {
           "angularaxis": {
            "gridcolor": "white",
            "linecolor": "white",
            "ticks": ""
           },
           "bgcolor": "#E5ECF6",
           "radialaxis": {
            "gridcolor": "white",
            "linecolor": "white",
            "ticks": ""
           }
          },
          "scene": {
           "xaxis": {
            "backgroundcolor": "#E5ECF6",
            "gridcolor": "white",
            "gridwidth": 2,
            "linecolor": "white",
            "showbackground": true,
            "ticks": "",
            "zerolinecolor": "white"
           },
           "yaxis": {
            "backgroundcolor": "#E5ECF6",
            "gridcolor": "white",
            "gridwidth": 2,
            "linecolor": "white",
            "showbackground": true,
            "ticks": "",
            "zerolinecolor": "white"
           },
           "zaxis": {
            "backgroundcolor": "#E5ECF6",
            "gridcolor": "white",
            "gridwidth": 2,
            "linecolor": "white",
            "showbackground": true,
            "ticks": "",
            "zerolinecolor": "white"
           }
          },
          "shapedefaults": {
           "line": {
            "color": "#2a3f5f"
           }
          },
          "ternary": {
           "aaxis": {
            "gridcolor": "white",
            "linecolor": "white",
            "ticks": ""
           },
           "baxis": {
            "gridcolor": "white",
            "linecolor": "white",
            "ticks": ""
           },
           "bgcolor": "#E5ECF6",
           "caxis": {
            "gridcolor": "white",
            "linecolor": "white",
            "ticks": ""
           }
          },
          "title": {
           "x": 0.05
          },
          "xaxis": {
           "automargin": true,
           "gridcolor": "white",
           "linecolor": "white",
           "ticks": "",
           "title": {
            "standoff": 15
           },
           "zerolinecolor": "white",
           "zerolinewidth": 2
          },
          "yaxis": {
           "automargin": true,
           "gridcolor": "white",
           "linecolor": "white",
           "ticks": "",
           "title": {
            "standoff": 15
           },
           "zerolinecolor": "white",
           "zerolinewidth": 2
          }
         }
        },
        "title": {
         "font": {
          "color": "#4D5663"
         }
        },
        "xaxis": {
         "gridcolor": "#E1E5ED",
         "showgrid": true,
         "tickfont": {
          "color": "#4D5663"
         },
         "title": {
          "font": {
           "color": "#4D5663"
          },
          "text": ""
         },
         "zerolinecolor": "#E1E5ED"
        },
        "yaxis": {
         "gridcolor": "#E1E5ED",
         "showgrid": true,
         "tickfont": {
          "color": "#4D5663"
         },
         "title": {
          "font": {
           "color": "#4D5663"
          },
          "text": ""
         },
         "zerolinecolor": "#E1E5ED"
        }
       }
      },
      "text/html": [
       "<div>                            <div id=\"5b45267c-4bb8-4fa9-b903-52874a4ccb23\" class=\"plotly-graph-div\" style=\"height:525px; width:100%;\"></div>            <script type=\"text/javascript\">                require([\"plotly\"], function(Plotly) {                    window.PLOTLYENV=window.PLOTLYENV || {};\n",
       "                    window.PLOTLYENV.BASE_URL='https://plot.ly';                                    if (document.getElementById(\"5b45267c-4bb8-4fa9-b903-52874a4ccb23\")) {                    Plotly.newPlot(                        \"5b45267c-4bb8-4fa9-b903-52874a4ccb23\",                        [{\"boxpoints\":false,\"line\":{\"width\":1.3},\"marker\":{\"color\":\"rgba(255, 153, 51, 1.0)\"},\"name\":\"A\",\"orientation\":\"v\",\"y\":[0.512752939029791,-0.3553419617198243,-0.27929092762229374,0.13715381120273906,-0.10561595646288185,-0.1599097109111184,-0.4979472496059992,0.157104113124573,-0.46293873496051735,2.485418431861522,-0.4516734756190726,-1.493458861952407,-0.026482791768084567,-0.2757463899836123,2.241694624786081,-0.5129572406266717,0.15252616393685708,1.3865506913062904,-0.4983345548729902,0.307249958853756,-1.128251054831078,-0.8075072847154674,-0.6363660077137355,-0.3713082499903116,1.0441461790223507,0.3414257868465785,-0.5322617919291063,-1.2591308173815023,0.7009125457086441,0.9967249848203381,0.5553427242848349,-0.1710629029221637,-0.09347269250359294,-0.06269091796217952,-0.8889925758821092,1.0218299933351225,0.8210081659849187,0.44322827056598846,-0.4184786434300998,-0.08940115509505929,0.7269703626378548,0.24703444042561,0.05660618906374495,-0.46715813740333273,0.02946942295050563,-2.0148452428808628,-1.8538320646658921,-0.3354297970013657,1.6395349929699676,1.8490226882208158,-0.1512933010494933,-0.5005603686679456,0.7287108498117928,1.298360623953065,0.05835482274762789,0.05404720881988463,1.6448478378071496,-0.2165273389788695,-0.01089034092055172,-0.6396922580512779,0.1659230506263948,-0.26904140973624013,-0.15555495444472764,0.9466288861187291,0.49900398554713205,-2.175214685296227,0.09718808811786087,2.708148103191192,-0.7877907963975526,-0.0014491244335431606,-0.11955410895494896,-0.012562024727582138,-0.38147657376126753,1.1364951029280372,-0.3185237106734018,-2.2316850554714165,-1.332370837239957,1.1773780023580709,0.02886572654773463,-1.345659142078511,0.8985612990834209,0.7222788050675611,-1.3802880760915244,-1.9585194457414203,-2.1686577556553375,-0.8500871395049288,0.10917120767171398,0.4795289001080743,1.2234004610201688,0.8152430704621533,1.0968304321670168,-1.4067781777797062,0.05849673408436882,0.7533432362097038,0.015432162011626286,-1.2840022615670568,1.0343567428530556,0.6022038052564009,-0.5734790425194495,-0.061518042568631644],\"type\":\"box\"},{\"boxpoints\":false,\"line\":{\"width\":1.3},\"marker\":{\"color\":\"rgba(55, 128, 191, 1.0)\"},\"name\":\"B\",\"orientation\":\"v\",\"y\":[0.9495836228334081,-0.7100194112250915,1.650112399487089,0.7207073489887325,-0.6598783128597964,0.18061985623530957,-0.4113123196925393,-0.8059169160909352,-0.45030841232826324,-0.8649897640802658,1.0102208397481613,-1.0723396880437734,-0.6968940084156565,-0.8645673092942562,2.1955425731858553,-1.8863114244239756,0.8957455972821831,0.678767466446716,-0.8943159560446318,-0.09741963407826157,0.7654188247816236,-0.3061372125342001,0.5819132563211112,-0.8670704822495087,-1.1685354191395143,0.4987062070583795,-1.2664917103538968,-0.0020470918678063186,0.3121952440872714,-0.16072843272068324,0.11875890069643805,0.44986031105381663,-1.2372941389702115,-0.0699148743189868,0.5722458274120602,-0.908423657263562,0.9938975291952103,0.7958846288611234,2.301904816453025,-0.03442714273076457,1.9790174693194467,2.610010540348577,0.32989197333371956,0.8624799408253738,0.1139651001292569,0.4707004527178716,-1.5716325921736916,-0.24216538524890424,1.2948587449311602,2.4104001599038,0.06946876011078847,0.14121954910246642,-1.758843335651598,-0.34023316429089806,-0.615902806569471,0.5258757904723518,0.768142038676994,-0.6217746021507302,0.40561366010531047,0.0611695638678798,-0.13738126847244095,1.0648377553030648,-1.8221199689954444,-0.8653744519128183,0.6777054680280602,2.497494640335452,0.15104718570411105,1.6886883956295087,0.2150663109619358,1.1726393230041428,-0.6033410253786355,-1.1128029280466678,-1.3753978791796673,-1.6083436278421894,0.3251529185534095,-0.23507903877710437,0.6854681379288818,-1.041259674279969,-0.6804639148664574,0.8121246030044645,1.3458243345424477,-0.11174265897113703,0.8968517311317901,1.1561368291141871,0.14505918969787704,-0.18489325889499017,0.28894923373935066,0.9245649933210359,0.09791212574998187,1.735864656117559,1.8020648684561578,1.1660229778070796,1.6705341417911646,0.7029421504635976,-0.09985353358039065,0.6613232704319956,0.7436371685517646,-1.1581864717986816,-0.0517374783828689,0.01597140932841376],\"type\":\"box\"},{\"boxpoints\":false,\"line\":{\"width\":1.3},\"marker\":{\"color\":\"rgba(50, 171, 96, 1.0)\"},\"name\":\"C\",\"orientation\":\"v\",\"y\":[0.647918339125702,-0.6629874159950747,-1.365185908111771,-2.0075225889599912,0.35654496700388316,1.3006874023536812,0.6835665697629982,-0.1401688964319155,-0.5803277472699386,0.6923895199692292,0.11043568798289007,-2.04023863493297,-1.4862374677794092,-0.8038954840842417,-0.4135429899954026,-0.19033116277557574,-0.5832375643284965,-0.7939887159905965,0.6763710647834456,0.622834178952044,0.19795849857076636,0.9230244541099311,0.9102873282566336,-1.578134272455675,2.248498612388913,-0.618276094493357,-1.642332191049332,-0.04954032303581414,1.273426373834263,0.05231784690273851,0.2170359373006094,-0.621871739089189,1.7856015664211622,0.43911657462324843,-1.4061425872715332,-0.32187333746658625,-0.23938813708705242,1.7833946355736527,-0.37324468282187484,-1.0666543693021822,-1.5485146171686575,0.20222191754419228,1.5230706386496686,0.616125792570182,-0.060507670904036276,-1.2248084283541232,-0.044431380557908934,2.2728044609439206,-1.7719469687907905,-0.5033840112064768,0.3851516439195813,-0.46447582205570065,-0.41975194804749727,0.04487714083101872,-2.008098012532532,0.2570531685060416,0.4336246485117831,0.7873621484585646,-0.7858747473947723,-2.249721885545336,0.2608393620754042,-0.35116999546835553,-1.4189477335205365,0.2452825146149802,0.40435417415188973,0.09930232430532347,-1.6741987610616293,0.42798943237457315,1.1160057602750102,-0.08809469183071897,1.0374511726902327,0.8647984505493161,-2.02602321230138,-1.8973360600586375,1.3290420228656905,-0.08532051099166421,-0.1618291189602749,3.36589901332965,0.2853060111168622,1.4909104779129705,2.603046817481854,0.07057420879162299,-0.3349264401219666,-0.27214487332199866,0.11621477136899505,-1.9653993496117967,-0.6532103410624271,0.2363608302426708,0.9248339096229946,1.044452994302072,-0.568127620861377,0.9347943385510102,-1.4674844783936958,-0.6593242696058286,0.33773560085113274,-0.9564585499347026,-1.0816546603266393,-0.0990998967519054,-0.6780371610061101,-0.4661359234137232],\"type\":\"box\"},{\"boxpoints\":false,\"line\":{\"width\":1.3},\"marker\":{\"color\":\"rgba(128, 0, 128, 1.0)\"},\"name\":\"D\",\"orientation\":\"v\",\"y\":[-0.19631981906212687,-0.6519713807353804,-1.0649846722973384,0.2276268403009993,0.7048164209836024,-1.4446783704695936,-2.033750158183124,0.5138908127633827,0.5743634695953264,-1.3657451693518634,0.4637907687699757,1.0844078896291873,-0.8199961871709128,0.7302810084439927,1.1501886667067136,1.4068956037099702,1.508692417359712,-0.122429546415331,-1.2139029828276917,-1.3915936060875007,-0.3238322412559266,1.3434653001668608,-0.5185807775608965,-0.7107820957370212,-0.4464055579970659,-0.9606481511417176,-0.295817297356241,-0.7965590857577352,0.006067325117813681,-0.4809220256345543,1.028630144482865,-0.3991139925170933,0.03907052978298096,1.4539224977284508,1.2368047827803776,1.498742536272704,0.9555284868160445,-0.4319859168096048,0.07204665511014491,0.15138773782731127,-0.0016863454597473644,-0.66704262100987,0.8234927800554659,0.9355289432127771,-0.6529971281881106,1.5998032068698078,-1.158827929365611,-0.04136818612304619,1.0781454686574732,0.21721131798324592,1.534521058113346,-1.750652204012357,0.9872822474417707,-1.197496541939758,-1.0439173878772081,0.09596236413985537,-0.6568654252222857,0.706633110663512,-1.211932613051174,0.671873724489011,-0.3898892118405459,0.9970459716634278,-0.28713960225161106,-0.010341133054459198,-0.9767493981679324,-0.18844975221423968,-0.7820893042608988,-1.8529738370200275,1.4738531760079354,-0.23686088155185786,-0.8470745256434993,-2.05765141244495,0.8174144337022742,-1.4106119727042548,-0.7248926917781047,-0.8969630071984197,-0.6419860011659925,-0.375072540951662,0.17237805217223748,-0.5805831220436499,-1.0090042945869997,-0.360630514240928,0.06712082805980472,-1.0222964654995608,-1.3111878556748808,-0.6265000694373624,-0.45147531022127435,-1.1298686894301744,-1.7403524915989772,-0.20931072894096553,-0.4243133313934241,-0.4252201065654679,-0.9829243053422797,0.6344429869787069,0.4895108597241183,0.9515124340705648,-1.2456264225617408,-0.003231469493402177,-0.4297021911016993,-1.0168190422430656],\"type\":\"box\"}],                        {\"legend\":{\"bgcolor\":\"#F5F6F9\",\"font\":{\"color\":\"#4D5663\"}},\"paper_bgcolor\":\"#F5F6F9\",\"plot_bgcolor\":\"#F5F6F9\",\"template\":{\"data\":{\"barpolar\":[{\"marker\":{\"line\":{\"color\":\"#E5ECF6\",\"width\":0.5},\"pattern\":{\"fillmode\":\"overlay\",\"size\":10,\"solidity\":0.2}},\"type\":\"barpolar\"}],\"bar\":[{\"error_x\":{\"color\":\"#2a3f5f\"},\"error_y\":{\"color\":\"#2a3f5f\"},\"marker\":{\"line\":{\"color\":\"#E5ECF6\",\"width\":0.5},\"pattern\":{\"fillmode\":\"overlay\",\"size\":10,\"solidity\":0.2}},\"type\":\"bar\"}],\"carpet\":[{\"aaxis\":{\"endlinecolor\":\"#2a3f5f\",\"gridcolor\":\"white\",\"linecolor\":\"white\",\"minorgridcolor\":\"white\",\"startlinecolor\":\"#2a3f5f\"},\"baxis\":{\"endlinecolor\":\"#2a3f5f\",\"gridcolor\":\"white\",\"linecolor\":\"white\",\"minorgridcolor\":\"white\",\"startlinecolor\":\"#2a3f5f\"},\"type\":\"carpet\"}],\"choropleth\":[{\"colorbar\":{\"outlinewidth\":0,\"ticks\":\"\"},\"type\":\"choropleth\"}],\"contourcarpet\":[{\"colorbar\":{\"outlinewidth\":0,\"ticks\":\"\"},\"type\":\"contourcarpet\"}],\"contour\":[{\"colorbar\":{\"outlinewidth\":0,\"ticks\":\"\"},\"colorscale\":[[0.0,\"#0d0887\"],[0.1111111111111111,\"#46039f\"],[0.2222222222222222,\"#7201a8\"],[0.3333333333333333,\"#9c179e\"],[0.4444444444444444,\"#bd3786\"],[0.5555555555555556,\"#d8576b\"],[0.6666666666666666,\"#ed7953\"],[0.7777777777777778,\"#fb9f3a\"],[0.8888888888888888,\"#fdca26\"],[1.0,\"#f0f921\"]],\"type\":\"contour\"}],\"heatmapgl\":[{\"colorbar\":{\"outlinewidth\":0,\"ticks\":\"\"},\"colorscale\":[[0.0,\"#0d0887\"],[0.1111111111111111,\"#46039f\"],[0.2222222222222222,\"#7201a8\"],[0.3333333333333333,\"#9c179e\"],[0.4444444444444444,\"#bd3786\"],[0.5555555555555556,\"#d8576b\"],[0.6666666666666666,\"#ed7953\"],[0.7777777777777778,\"#fb9f3a\"],[0.8888888888888888,\"#fdca26\"],[1.0,\"#f0f921\"]],\"type\":\"heatmapgl\"}],\"heatmap\":[{\"colorbar\":{\"outlinewidth\":0,\"ticks\":\"\"},\"colorscale\":[[0.0,\"#0d0887\"],[0.1111111111111111,\"#46039f\"],[0.2222222222222222,\"#7201a8\"],[0.3333333333333333,\"#9c179e\"],[0.4444444444444444,\"#bd3786\"],[0.5555555555555556,\"#d8576b\"],[0.6666666666666666,\"#ed7953\"],[0.7777777777777778,\"#fb9f3a\"],[0.8888888888888888,\"#fdca26\"],[1.0,\"#f0f921\"]],\"type\":\"heatmap\"}],\"histogram2dcontour\":[{\"colorbar\":{\"outlinewidth\":0,\"ticks\":\"\"},\"colorscale\":[[0.0,\"#0d0887\"],[0.1111111111111111,\"#46039f\"],[0.2222222222222222,\"#7201a8\"],[0.3333333333333333,\"#9c179e\"],[0.4444444444444444,\"#bd3786\"],[0.5555555555555556,\"#d8576b\"],[0.6666666666666666,\"#ed7953\"],[0.7777777777777778,\"#fb9f3a\"],[0.8888888888888888,\"#fdca26\"],[1.0,\"#f0f921\"]],\"type\":\"histogram2dcontour\"}],\"histogram2d\":[{\"colorbar\":{\"outlinewidth\":0,\"ticks\":\"\"},\"colorscale\":[[0.0,\"#0d0887\"],[0.1111111111111111,\"#46039f\"],[0.2222222222222222,\"#7201a8\"],[0.3333333333333333,\"#9c179e\"],[0.4444444444444444,\"#bd3786\"],[0.5555555555555556,\"#d8576b\"],[0.6666666666666666,\"#ed7953\"],[0.7777777777777778,\"#fb9f3a\"],[0.8888888888888888,\"#fdca26\"],[1.0,\"#f0f921\"]],\"type\":\"histogram2d\"}],\"histogram\":[{\"marker\":{\"pattern\":{\"fillmode\":\"overlay\",\"size\":10,\"solidity\":0.2}},\"type\":\"histogram\"}],\"mesh3d\":[{\"colorbar\":{\"outlinewidth\":0,\"ticks\":\"\"},\"type\":\"mesh3d\"}],\"parcoords\":[{\"line\":{\"colorbar\":{\"outlinewidth\":0,\"ticks\":\"\"}},\"type\":\"parcoords\"}],\"pie\":[{\"automargin\":true,\"type\":\"pie\"}],\"scatter3d\":[{\"line\":{\"colorbar\":{\"outlinewidth\":0,\"ticks\":\"\"}},\"marker\":{\"colorbar\":{\"outlinewidth\":0,\"ticks\":\"\"}},\"type\":\"scatter3d\"}],\"scattercarpet\":[{\"marker\":{\"colorbar\":{\"outlinewidth\":0,\"ticks\":\"\"}},\"type\":\"scattercarpet\"}],\"scattergeo\":[{\"marker\":{\"colorbar\":{\"outlinewidth\":0,\"ticks\":\"\"}},\"type\":\"scattergeo\"}],\"scattergl\":[{\"marker\":{\"colorbar\":{\"outlinewidth\":0,\"ticks\":\"\"}},\"type\":\"scattergl\"}],\"scattermapbox\":[{\"marker\":{\"colorbar\":{\"outlinewidth\":0,\"ticks\":\"\"}},\"type\":\"scattermapbox\"}],\"scatterpolargl\":[{\"marker\":{\"colorbar\":{\"outlinewidth\":0,\"ticks\":\"\"}},\"type\":\"scatterpolargl\"}],\"scatterpolar\":[{\"marker\":{\"colorbar\":{\"outlinewidth\":0,\"ticks\":\"\"}},\"type\":\"scatterpolar\"}],\"scatter\":[{\"fillpattern\":{\"fillmode\":\"overlay\",\"size\":10,\"solidity\":0.2},\"type\":\"scatter\"}],\"scatterternary\":[{\"marker\":{\"colorbar\":{\"outlinewidth\":0,\"ticks\":\"\"}},\"type\":\"scatterternary\"}],\"surface\":[{\"colorbar\":{\"outlinewidth\":0,\"ticks\":\"\"},\"colorscale\":[[0.0,\"#0d0887\"],[0.1111111111111111,\"#46039f\"],[0.2222222222222222,\"#7201a8\"],[0.3333333333333333,\"#9c179e\"],[0.4444444444444444,\"#bd3786\"],[0.5555555555555556,\"#d8576b\"],[0.6666666666666666,\"#ed7953\"],[0.7777777777777778,\"#fb9f3a\"],[0.8888888888888888,\"#fdca26\"],[1.0,\"#f0f921\"]],\"type\":\"surface\"}],\"table\":[{\"cells\":{\"fill\":{\"color\":\"#EBF0F8\"},\"line\":{\"color\":\"white\"}},\"header\":{\"fill\":{\"color\":\"#C8D4E3\"},\"line\":{\"color\":\"white\"}},\"type\":\"table\"}]},\"layout\":{\"annotationdefaults\":{\"arrowcolor\":\"#2a3f5f\",\"arrowhead\":0,\"arrowwidth\":1},\"autotypenumbers\":\"strict\",\"coloraxis\":{\"colorbar\":{\"outlinewidth\":0,\"ticks\":\"\"}},\"colorscale\":{\"diverging\":[[0,\"#8e0152\"],[0.1,\"#c51b7d\"],[0.2,\"#de77ae\"],[0.3,\"#f1b6da\"],[0.4,\"#fde0ef\"],[0.5,\"#f7f7f7\"],[0.6,\"#e6f5d0\"],[0.7,\"#b8e186\"],[0.8,\"#7fbc41\"],[0.9,\"#4d9221\"],[1,\"#276419\"]],\"sequential\":[[0.0,\"#0d0887\"],[0.1111111111111111,\"#46039f\"],[0.2222222222222222,\"#7201a8\"],[0.3333333333333333,\"#9c179e\"],[0.4444444444444444,\"#bd3786\"],[0.5555555555555556,\"#d8576b\"],[0.6666666666666666,\"#ed7953\"],[0.7777777777777778,\"#fb9f3a\"],[0.8888888888888888,\"#fdca26\"],[1.0,\"#f0f921\"]],\"sequentialminus\":[[0.0,\"#0d0887\"],[0.1111111111111111,\"#46039f\"],[0.2222222222222222,\"#7201a8\"],[0.3333333333333333,\"#9c179e\"],[0.4444444444444444,\"#bd3786\"],[0.5555555555555556,\"#d8576b\"],[0.6666666666666666,\"#ed7953\"],[0.7777777777777778,\"#fb9f3a\"],[0.8888888888888888,\"#fdca26\"],[1.0,\"#f0f921\"]]},\"colorway\":[\"#636efa\",\"#EF553B\",\"#00cc96\",\"#ab63fa\",\"#FFA15A\",\"#19d3f3\",\"#FF6692\",\"#B6E880\",\"#FF97FF\",\"#FECB52\"],\"font\":{\"color\":\"#2a3f5f\"},\"geo\":{\"bgcolor\":\"white\",\"lakecolor\":\"white\",\"landcolor\":\"#E5ECF6\",\"showlakes\":true,\"showland\":true,\"subunitcolor\":\"white\"},\"hoverlabel\":{\"align\":\"left\"},\"hovermode\":\"closest\",\"mapbox\":{\"style\":\"light\"},\"paper_bgcolor\":\"white\",\"plot_bgcolor\":\"#E5ECF6\",\"polar\":{\"angularaxis\":{\"gridcolor\":\"white\",\"linecolor\":\"white\",\"ticks\":\"\"},\"bgcolor\":\"#E5ECF6\",\"radialaxis\":{\"gridcolor\":\"white\",\"linecolor\":\"white\",\"ticks\":\"\"}},\"scene\":{\"xaxis\":{\"backgroundcolor\":\"#E5ECF6\",\"gridcolor\":\"white\",\"gridwidth\":2,\"linecolor\":\"white\",\"showbackground\":true,\"ticks\":\"\",\"zerolinecolor\":\"white\"},\"yaxis\":{\"backgroundcolor\":\"#E5ECF6\",\"gridcolor\":\"white\",\"gridwidth\":2,\"linecolor\":\"white\",\"showbackground\":true,\"ticks\":\"\",\"zerolinecolor\":\"white\"},\"zaxis\":{\"backgroundcolor\":\"#E5ECF6\",\"gridcolor\":\"white\",\"gridwidth\":2,\"linecolor\":\"white\",\"showbackground\":true,\"ticks\":\"\",\"zerolinecolor\":\"white\"}},\"shapedefaults\":{\"line\":{\"color\":\"#2a3f5f\"}},\"ternary\":{\"aaxis\":{\"gridcolor\":\"white\",\"linecolor\":\"white\",\"ticks\":\"\"},\"baxis\":{\"gridcolor\":\"white\",\"linecolor\":\"white\",\"ticks\":\"\"},\"bgcolor\":\"#E5ECF6\",\"caxis\":{\"gridcolor\":\"white\",\"linecolor\":\"white\",\"ticks\":\"\"}},\"title\":{\"x\":0.05},\"xaxis\":{\"automargin\":true,\"gridcolor\":\"white\",\"linecolor\":\"white\",\"ticks\":\"\",\"title\":{\"standoff\":15},\"zerolinecolor\":\"white\",\"zerolinewidth\":2},\"yaxis\":{\"automargin\":true,\"gridcolor\":\"white\",\"linecolor\":\"white\",\"ticks\":\"\",\"title\":{\"standoff\":15},\"zerolinecolor\":\"white\",\"zerolinewidth\":2}}},\"title\":{\"font\":{\"color\":\"#4D5663\"}},\"xaxis\":{\"gridcolor\":\"#E1E5ED\",\"showgrid\":true,\"tickfont\":{\"color\":\"#4D5663\"},\"title\":{\"font\":{\"color\":\"#4D5663\"},\"text\":\"\"},\"zerolinecolor\":\"#E1E5ED\"},\"yaxis\":{\"gridcolor\":\"#E1E5ED\",\"showgrid\":true,\"tickfont\":{\"color\":\"#4D5663\"},\"title\":{\"font\":{\"color\":\"#4D5663\"},\"text\":\"\"},\"zerolinecolor\":\"#E1E5ED\"}},                        {\"showLink\": true, \"linkText\": \"Export to plot.ly\", \"plotlyServerURL\": \"https://plot.ly\", \"responsive\": true}                    ).then(function(){\n",
       "                            \n",
       "var gd = document.getElementById('5b45267c-4bb8-4fa9-b903-52874a4ccb23');\n",
       "var x = new MutationObserver(function (mutations, observer) {{\n",
       "        var display = window.getComputedStyle(gd).display;\n",
       "        if (!display || display === 'none') {{\n",
       "            console.log([gd, 'removed!']);\n",
       "            Plotly.purge(gd);\n",
       "            observer.disconnect();\n",
       "        }}\n",
       "}});\n",
       "\n",
       "// Listen for the removal of the full notebook cells\n",
       "var notebookContainer = gd.closest('#notebook-container');\n",
       "if (notebookContainer) {{\n",
       "    x.observe(notebookContainer, {childList: true});\n",
       "}}\n",
       "\n",
       "// Listen for the clearing of the current output cell\n",
       "var outputEl = gd.closest('.output');\n",
       "if (outputEl) {{\n",
       "    x.observe(outputEl, {childList: true});\n",
       "}}\n",
       "\n",
       "                        })                };                });            </script>        </div>"
      ]
     },
     "metadata": {},
     "output_type": "display_data"
    }
   ],
   "source": [
    "df1.iplot ( kind=\"box\" )"
   ]
  },
  {
   "cell_type": "code",
   "execution_count": 13,
   "id": "900e95c7",
   "metadata": {},
   "outputs": [
    {
     "data": {
      "text/html": [
       "<div>\n",
       "<style scoped>\n",
       "    .dataframe tbody tr th:only-of-type {\n",
       "        vertical-align: middle;\n",
       "    }\n",
       "\n",
       "    .dataframe tbody tr th {\n",
       "        vertical-align: top;\n",
       "    }\n",
       "\n",
       "    .dataframe thead th {\n",
       "        text-align: right;\n",
       "    }\n",
       "</style>\n",
       "<table border=\"1\" class=\"dataframe\">\n",
       "  <thead>\n",
       "    <tr style=\"text-align: right;\">\n",
       "      <th></th>\n",
       "      <th>x</th>\n",
       "      <th>y</th>\n",
       "      <th>z</th>\n",
       "    </tr>\n",
       "  </thead>\n",
       "  <tbody>\n",
       "    <tr>\n",
       "      <th>0</th>\n",
       "      <td>1</td>\n",
       "      <td>10</td>\n",
       "      <td>5</td>\n",
       "    </tr>\n",
       "    <tr>\n",
       "      <th>1</th>\n",
       "      <td>2</td>\n",
       "      <td>20</td>\n",
       "      <td>4</td>\n",
       "    </tr>\n",
       "    <tr>\n",
       "      <th>2</th>\n",
       "      <td>3</td>\n",
       "      <td>30</td>\n",
       "      <td>3</td>\n",
       "    </tr>\n",
       "    <tr>\n",
       "      <th>3</th>\n",
       "      <td>4</td>\n",
       "      <td>20</td>\n",
       "      <td>2</td>\n",
       "    </tr>\n",
       "    <tr>\n",
       "      <th>4</th>\n",
       "      <td>5</td>\n",
       "      <td>10</td>\n",
       "      <td>1</td>\n",
       "    </tr>\n",
       "  </tbody>\n",
       "</table>\n",
       "</div>"
      ],
      "text/plain": [
       "   x   y  z\n",
       "0  1  10  5\n",
       "1  2  20  4\n",
       "2  3  30  3\n",
       "3  4  20  2\n",
       "4  5  10  1"
      ]
     },
     "execution_count": 13,
     "metadata": {},
     "output_type": "execute_result"
    }
   ],
   "source": [
    "df3 = pd.DataFrame ({ \"x\": [1,2,3,4,5] , \"y\": [10,20,30,20,10] , \"z\": [5,4,3,2,1] })\n",
    "df3"
   ]
  },
  {
   "cell_type": "code",
   "execution_count": 14,
   "id": "b08c7364",
   "metadata": {},
   "outputs": [
    {
     "data": {
      "text/html": [
       "<div>\n",
       "<style scoped>\n",
       "    .dataframe tbody tr th:only-of-type {\n",
       "        vertical-align: middle;\n",
       "    }\n",
       "\n",
       "    .dataframe tbody tr th {\n",
       "        vertical-align: top;\n",
       "    }\n",
       "\n",
       "    .dataframe thead th {\n",
       "        text-align: right;\n",
       "    }\n",
       "</style>\n",
       "<table border=\"1\" class=\"dataframe\">\n",
       "  <thead>\n",
       "    <tr style=\"text-align: right;\">\n",
       "      <th></th>\n",
       "      <th>x</th>\n",
       "      <th>y</th>\n",
       "      <th>z</th>\n",
       "    </tr>\n",
       "  </thead>\n",
       "  <tbody>\n",
       "    <tr>\n",
       "      <th>count</th>\n",
       "      <td>5.000000</td>\n",
       "      <td>5.0000</td>\n",
       "      <td>5.000000</td>\n",
       "    </tr>\n",
       "    <tr>\n",
       "      <th>mean</th>\n",
       "      <td>3.000000</td>\n",
       "      <td>18.0000</td>\n",
       "      <td>3.000000</td>\n",
       "    </tr>\n",
       "    <tr>\n",
       "      <th>std</th>\n",
       "      <td>1.581139</td>\n",
       "      <td>8.3666</td>\n",
       "      <td>1.581139</td>\n",
       "    </tr>\n",
       "    <tr>\n",
       "      <th>min</th>\n",
       "      <td>1.000000</td>\n",
       "      <td>10.0000</td>\n",
       "      <td>1.000000</td>\n",
       "    </tr>\n",
       "    <tr>\n",
       "      <th>25%</th>\n",
       "      <td>2.000000</td>\n",
       "      <td>10.0000</td>\n",
       "      <td>2.000000</td>\n",
       "    </tr>\n",
       "    <tr>\n",
       "      <th>50%</th>\n",
       "      <td>3.000000</td>\n",
       "      <td>20.0000</td>\n",
       "      <td>3.000000</td>\n",
       "    </tr>\n",
       "    <tr>\n",
       "      <th>75%</th>\n",
       "      <td>4.000000</td>\n",
       "      <td>20.0000</td>\n",
       "      <td>4.000000</td>\n",
       "    </tr>\n",
       "    <tr>\n",
       "      <th>max</th>\n",
       "      <td>5.000000</td>\n",
       "      <td>30.0000</td>\n",
       "      <td>5.000000</td>\n",
       "    </tr>\n",
       "  </tbody>\n",
       "</table>\n",
       "</div>"
      ],
      "text/plain": [
       "              x        y         z\n",
       "count  5.000000   5.0000  5.000000\n",
       "mean   3.000000  18.0000  3.000000\n",
       "std    1.581139   8.3666  1.581139\n",
       "min    1.000000  10.0000  1.000000\n",
       "25%    2.000000  10.0000  2.000000\n",
       "50%    3.000000  20.0000  3.000000\n",
       "75%    4.000000  20.0000  4.000000\n",
       "max    5.000000  30.0000  5.000000"
      ]
     },
     "execution_count": 14,
     "metadata": {},
     "output_type": "execute_result"
    }
   ],
   "source": [
    "df3.describe()"
   ]
  },
  {
   "cell_type": "code",
   "execution_count": 15,
   "id": "bc9045f5",
   "metadata": {},
   "outputs": [
    {
     "data": {
      "application/vnd.plotly.v1+json": {
       "config": {
        "linkText": "Export to plot.ly",
        "plotlyServerURL": "https://plot.ly",
        "showLink": true
       },
       "data": [
        {
         "colorscale": [
          [
           0,
           "rgb(255, 153, 51)"
          ],
          [
           0.1111111111111111,
           "rgb(55, 128, 191)"
          ],
          [
           0.2222222222222222,
           "rgb(50, 171, 96)"
          ],
          [
           0.3333333333333333,
           "rgb(128, 0, 128)"
          ],
          [
           0.4444444444444444,
           "rgb(219, 64, 82)"
          ],
          [
           0.5555555555555556,
           "rgb(0, 128, 128)"
          ],
          [
           0.6666666666666666,
           "rgb(255, 255, 51)"
          ],
          [
           0.7777777777777778,
           "rgb(128, 128, 0)"
          ],
          [
           0.8888888888888888,
           "rgb(251, 128, 114)"
          ],
          [
           1,
           "rgb(128, 177, 211)"
          ]
         ],
         "type": "surface",
         "x": [
          0,
          1,
          2,
          3,
          4
         ],
         "y": [
          "x",
          "y",
          "z"
         ],
         "z": [
          [
           1,
           2,
           3,
           4,
           5
          ],
          [
           10,
           20,
           30,
           20,
           10
          ],
          [
           5,
           4,
           3,
           2,
           1
          ]
         ]
        }
       ],
       "layout": {
        "legend": {
         "bgcolor": "#F5F6F9",
         "font": {
          "color": "#4D5663"
         }
        },
        "paper_bgcolor": "#F5F6F9",
        "plot_bgcolor": "#F5F6F9",
        "template": {
         "data": {
          "bar": [
           {
            "error_x": {
             "color": "#2a3f5f"
            },
            "error_y": {
             "color": "#2a3f5f"
            },
            "marker": {
             "line": {
              "color": "#E5ECF6",
              "width": 0.5
             },
             "pattern": {
              "fillmode": "overlay",
              "size": 10,
              "solidity": 0.2
             }
            },
            "type": "bar"
           }
          ],
          "barpolar": [
           {
            "marker": {
             "line": {
              "color": "#E5ECF6",
              "width": 0.5
             },
             "pattern": {
              "fillmode": "overlay",
              "size": 10,
              "solidity": 0.2
             }
            },
            "type": "barpolar"
           }
          ],
          "carpet": [
           {
            "aaxis": {
             "endlinecolor": "#2a3f5f",
             "gridcolor": "white",
             "linecolor": "white",
             "minorgridcolor": "white",
             "startlinecolor": "#2a3f5f"
            },
            "baxis": {
             "endlinecolor": "#2a3f5f",
             "gridcolor": "white",
             "linecolor": "white",
             "minorgridcolor": "white",
             "startlinecolor": "#2a3f5f"
            },
            "type": "carpet"
           }
          ],
          "choropleth": [
           {
            "colorbar": {
             "outlinewidth": 0,
             "ticks": ""
            },
            "type": "choropleth"
           }
          ],
          "contour": [
           {
            "colorbar": {
             "outlinewidth": 0,
             "ticks": ""
            },
            "colorscale": [
             [
              0,
              "#0d0887"
             ],
             [
              0.1111111111111111,
              "#46039f"
             ],
             [
              0.2222222222222222,
              "#7201a8"
             ],
             [
              0.3333333333333333,
              "#9c179e"
             ],
             [
              0.4444444444444444,
              "#bd3786"
             ],
             [
              0.5555555555555556,
              "#d8576b"
             ],
             [
              0.6666666666666666,
              "#ed7953"
             ],
             [
              0.7777777777777778,
              "#fb9f3a"
             ],
             [
              0.8888888888888888,
              "#fdca26"
             ],
             [
              1,
              "#f0f921"
             ]
            ],
            "type": "contour"
           }
          ],
          "contourcarpet": [
           {
            "colorbar": {
             "outlinewidth": 0,
             "ticks": ""
            },
            "type": "contourcarpet"
           }
          ],
          "heatmap": [
           {
            "colorbar": {
             "outlinewidth": 0,
             "ticks": ""
            },
            "colorscale": [
             [
              0,
              "#0d0887"
             ],
             [
              0.1111111111111111,
              "#46039f"
             ],
             [
              0.2222222222222222,
              "#7201a8"
             ],
             [
              0.3333333333333333,
              "#9c179e"
             ],
             [
              0.4444444444444444,
              "#bd3786"
             ],
             [
              0.5555555555555556,
              "#d8576b"
             ],
             [
              0.6666666666666666,
              "#ed7953"
             ],
             [
              0.7777777777777778,
              "#fb9f3a"
             ],
             [
              0.8888888888888888,
              "#fdca26"
             ],
             [
              1,
              "#f0f921"
             ]
            ],
            "type": "heatmap"
           }
          ],
          "heatmapgl": [
           {
            "colorbar": {
             "outlinewidth": 0,
             "ticks": ""
            },
            "colorscale": [
             [
              0,
              "#0d0887"
             ],
             [
              0.1111111111111111,
              "#46039f"
             ],
             [
              0.2222222222222222,
              "#7201a8"
             ],
             [
              0.3333333333333333,
              "#9c179e"
             ],
             [
              0.4444444444444444,
              "#bd3786"
             ],
             [
              0.5555555555555556,
              "#d8576b"
             ],
             [
              0.6666666666666666,
              "#ed7953"
             ],
             [
              0.7777777777777778,
              "#fb9f3a"
             ],
             [
              0.8888888888888888,
              "#fdca26"
             ],
             [
              1,
              "#f0f921"
             ]
            ],
            "type": "heatmapgl"
           }
          ],
          "histogram": [
           {
            "marker": {
             "pattern": {
              "fillmode": "overlay",
              "size": 10,
              "solidity": 0.2
             }
            },
            "type": "histogram"
           }
          ],
          "histogram2d": [
           {
            "colorbar": {
             "outlinewidth": 0,
             "ticks": ""
            },
            "colorscale": [
             [
              0,
              "#0d0887"
             ],
             [
              0.1111111111111111,
              "#46039f"
             ],
             [
              0.2222222222222222,
              "#7201a8"
             ],
             [
              0.3333333333333333,
              "#9c179e"
             ],
             [
              0.4444444444444444,
              "#bd3786"
             ],
             [
              0.5555555555555556,
              "#d8576b"
             ],
             [
              0.6666666666666666,
              "#ed7953"
             ],
             [
              0.7777777777777778,
              "#fb9f3a"
             ],
             [
              0.8888888888888888,
              "#fdca26"
             ],
             [
              1,
              "#f0f921"
             ]
            ],
            "type": "histogram2d"
           }
          ],
          "histogram2dcontour": [
           {
            "colorbar": {
             "outlinewidth": 0,
             "ticks": ""
            },
            "colorscale": [
             [
              0,
              "#0d0887"
             ],
             [
              0.1111111111111111,
              "#46039f"
             ],
             [
              0.2222222222222222,
              "#7201a8"
             ],
             [
              0.3333333333333333,
              "#9c179e"
             ],
             [
              0.4444444444444444,
              "#bd3786"
             ],
             [
              0.5555555555555556,
              "#d8576b"
             ],
             [
              0.6666666666666666,
              "#ed7953"
             ],
             [
              0.7777777777777778,
              "#fb9f3a"
             ],
             [
              0.8888888888888888,
              "#fdca26"
             ],
             [
              1,
              "#f0f921"
             ]
            ],
            "type": "histogram2dcontour"
           }
          ],
          "mesh3d": [
           {
            "colorbar": {
             "outlinewidth": 0,
             "ticks": ""
            },
            "type": "mesh3d"
           }
          ],
          "parcoords": [
           {
            "line": {
             "colorbar": {
              "outlinewidth": 0,
              "ticks": ""
             }
            },
            "type": "parcoords"
           }
          ],
          "pie": [
           {
            "automargin": true,
            "type": "pie"
           }
          ],
          "scatter": [
           {
            "fillpattern": {
             "fillmode": "overlay",
             "size": 10,
             "solidity": 0.2
            },
            "type": "scatter"
           }
          ],
          "scatter3d": [
           {
            "line": {
             "colorbar": {
              "outlinewidth": 0,
              "ticks": ""
             }
            },
            "marker": {
             "colorbar": {
              "outlinewidth": 0,
              "ticks": ""
             }
            },
            "type": "scatter3d"
           }
          ],
          "scattercarpet": [
           {
            "marker": {
             "colorbar": {
              "outlinewidth": 0,
              "ticks": ""
             }
            },
            "type": "scattercarpet"
           }
          ],
          "scattergeo": [
           {
            "marker": {
             "colorbar": {
              "outlinewidth": 0,
              "ticks": ""
             }
            },
            "type": "scattergeo"
           }
          ],
          "scattergl": [
           {
            "marker": {
             "colorbar": {
              "outlinewidth": 0,
              "ticks": ""
             }
            },
            "type": "scattergl"
           }
          ],
          "scattermapbox": [
           {
            "marker": {
             "colorbar": {
              "outlinewidth": 0,
              "ticks": ""
             }
            },
            "type": "scattermapbox"
           }
          ],
          "scatterpolar": [
           {
            "marker": {
             "colorbar": {
              "outlinewidth": 0,
              "ticks": ""
             }
            },
            "type": "scatterpolar"
           }
          ],
          "scatterpolargl": [
           {
            "marker": {
             "colorbar": {
              "outlinewidth": 0,
              "ticks": ""
             }
            },
            "type": "scatterpolargl"
           }
          ],
          "scatterternary": [
           {
            "marker": {
             "colorbar": {
              "outlinewidth": 0,
              "ticks": ""
             }
            },
            "type": "scatterternary"
           }
          ],
          "surface": [
           {
            "colorbar": {
             "outlinewidth": 0,
             "ticks": ""
            },
            "colorscale": [
             [
              0,
              "#0d0887"
             ],
             [
              0.1111111111111111,
              "#46039f"
             ],
             [
              0.2222222222222222,
              "#7201a8"
             ],
             [
              0.3333333333333333,
              "#9c179e"
             ],
             [
              0.4444444444444444,
              "#bd3786"
             ],
             [
              0.5555555555555556,
              "#d8576b"
             ],
             [
              0.6666666666666666,
              "#ed7953"
             ],
             [
              0.7777777777777778,
              "#fb9f3a"
             ],
             [
              0.8888888888888888,
              "#fdca26"
             ],
             [
              1,
              "#f0f921"
             ]
            ],
            "type": "surface"
           }
          ],
          "table": [
           {
            "cells": {
             "fill": {
              "color": "#EBF0F8"
             },
             "line": {
              "color": "white"
             }
            },
            "header": {
             "fill": {
              "color": "#C8D4E3"
             },
             "line": {
              "color": "white"
             }
            },
            "type": "table"
           }
          ]
         },
         "layout": {
          "annotationdefaults": {
           "arrowcolor": "#2a3f5f",
           "arrowhead": 0,
           "arrowwidth": 1
          },
          "autotypenumbers": "strict",
          "coloraxis": {
           "colorbar": {
            "outlinewidth": 0,
            "ticks": ""
           }
          },
          "colorscale": {
           "diverging": [
            [
             0,
             "#8e0152"
            ],
            [
             0.1,
             "#c51b7d"
            ],
            [
             0.2,
             "#de77ae"
            ],
            [
             0.3,
             "#f1b6da"
            ],
            [
             0.4,
             "#fde0ef"
            ],
            [
             0.5,
             "#f7f7f7"
            ],
            [
             0.6,
             "#e6f5d0"
            ],
            [
             0.7,
             "#b8e186"
            ],
            [
             0.8,
             "#7fbc41"
            ],
            [
             0.9,
             "#4d9221"
            ],
            [
             1,
             "#276419"
            ]
           ],
           "sequential": [
            [
             0,
             "#0d0887"
            ],
            [
             0.1111111111111111,
             "#46039f"
            ],
            [
             0.2222222222222222,
             "#7201a8"
            ],
            [
             0.3333333333333333,
             "#9c179e"
            ],
            [
             0.4444444444444444,
             "#bd3786"
            ],
            [
             0.5555555555555556,
             "#d8576b"
            ],
            [
             0.6666666666666666,
             "#ed7953"
            ],
            [
             0.7777777777777778,
             "#fb9f3a"
            ],
            [
             0.8888888888888888,
             "#fdca26"
            ],
            [
             1,
             "#f0f921"
            ]
           ],
           "sequentialminus": [
            [
             0,
             "#0d0887"
            ],
            [
             0.1111111111111111,
             "#46039f"
            ],
            [
             0.2222222222222222,
             "#7201a8"
            ],
            [
             0.3333333333333333,
             "#9c179e"
            ],
            [
             0.4444444444444444,
             "#bd3786"
            ],
            [
             0.5555555555555556,
             "#d8576b"
            ],
            [
             0.6666666666666666,
             "#ed7953"
            ],
            [
             0.7777777777777778,
             "#fb9f3a"
            ],
            [
             0.8888888888888888,
             "#fdca26"
            ],
            [
             1,
             "#f0f921"
            ]
           ]
          },
          "colorway": [
           "#636efa",
           "#EF553B",
           "#00cc96",
           "#ab63fa",
           "#FFA15A",
           "#19d3f3",
           "#FF6692",
           "#B6E880",
           "#FF97FF",
           "#FECB52"
          ],
          "font": {
           "color": "#2a3f5f"
          },
          "geo": {
           "bgcolor": "white",
           "lakecolor": "white",
           "landcolor": "#E5ECF6",
           "showlakes": true,
           "showland": true,
           "subunitcolor": "white"
          },
          "hoverlabel": {
           "align": "left"
          },
          "hovermode": "closest",
          "mapbox": {
           "style": "light"
          },
          "paper_bgcolor": "white",
          "plot_bgcolor": "#E5ECF6",
          "polar": {
           "angularaxis": {
            "gridcolor": "white",
            "linecolor": "white",
            "ticks": ""
           },
           "bgcolor": "#E5ECF6",
           "radialaxis": {
            "gridcolor": "white",
            "linecolor": "white",
            "ticks": ""
           }
          },
          "scene": {
           "xaxis": {
            "backgroundcolor": "#E5ECF6",
            "gridcolor": "white",
            "gridwidth": 2,
            "linecolor": "white",
            "showbackground": true,
            "ticks": "",
            "zerolinecolor": "white"
           },
           "yaxis": {
            "backgroundcolor": "#E5ECF6",
            "gridcolor": "white",
            "gridwidth": 2,
            "linecolor": "white",
            "showbackground": true,
            "ticks": "",
            "zerolinecolor": "white"
           },
           "zaxis": {
            "backgroundcolor": "#E5ECF6",
            "gridcolor": "white",
            "gridwidth": 2,
            "linecolor": "white",
            "showbackground": true,
            "ticks": "",
            "zerolinecolor": "white"
           }
          },
          "shapedefaults": {
           "line": {
            "color": "#2a3f5f"
           }
          },
          "ternary": {
           "aaxis": {
            "gridcolor": "white",
            "linecolor": "white",
            "ticks": ""
           },
           "baxis": {
            "gridcolor": "white",
            "linecolor": "white",
            "ticks": ""
           },
           "bgcolor": "#E5ECF6",
           "caxis": {
            "gridcolor": "white",
            "linecolor": "white",
            "ticks": ""
           }
          },
          "title": {
           "x": 0.05
          },
          "xaxis": {
           "automargin": true,
           "gridcolor": "white",
           "linecolor": "white",
           "ticks": "",
           "title": {
            "standoff": 15
           },
           "zerolinecolor": "white",
           "zerolinewidth": 2
          },
          "yaxis": {
           "automargin": true,
           "gridcolor": "white",
           "linecolor": "white",
           "ticks": "",
           "title": {
            "standoff": 15
           },
           "zerolinecolor": "white",
           "zerolinewidth": 2
          }
         }
        },
        "title": {
         "font": {
          "color": "#4D5663"
         }
        },
        "xaxis": {
         "gridcolor": "#E1E5ED",
         "showgrid": true,
         "tickfont": {
          "color": "#4D5663"
         },
         "title": {
          "font": {
           "color": "#4D5663"
          },
          "text": ""
         },
         "zerolinecolor": "#E1E5ED"
        },
        "yaxis": {
         "gridcolor": "#E1E5ED",
         "showgrid": true,
         "tickfont": {
          "color": "#4D5663"
         },
         "title": {
          "font": {
           "color": "#4D5663"
          },
          "text": ""
         },
         "zerolinecolor": "#E1E5ED"
        }
       }
      },
      "text/html": [
       "<div>                            <div id=\"9c8a7d02-6d5b-4e3d-b125-09a774a9d49f\" class=\"plotly-graph-div\" style=\"height:525px; width:100%;\"></div>            <script type=\"text/javascript\">                require([\"plotly\"], function(Plotly) {                    window.PLOTLYENV=window.PLOTLYENV || {};\n",
       "                    window.PLOTLYENV.BASE_URL='https://plot.ly';                                    if (document.getElementById(\"9c8a7d02-6d5b-4e3d-b125-09a774a9d49f\")) {                    Plotly.newPlot(                        \"9c8a7d02-6d5b-4e3d-b125-09a774a9d49f\",                        [{\"colorscale\":[[0.0,\"rgb(255, 153, 51)\"],[0.1111111111111111,\"rgb(55, 128, 191)\"],[0.2222222222222222,\"rgb(50, 171, 96)\"],[0.3333333333333333,\"rgb(128, 0, 128)\"],[0.4444444444444444,\"rgb(219, 64, 82)\"],[0.5555555555555556,\"rgb(0, 128, 128)\"],[0.6666666666666666,\"rgb(255, 255, 51)\"],[0.7777777777777778,\"rgb(128, 128, 0)\"],[0.8888888888888888,\"rgb(251, 128, 114)\"],[1.0,\"rgb(128, 177, 211)\"]],\"x\":[0,1,2,3,4],\"y\":[\"x\",\"y\",\"z\"],\"z\":[[1,2,3,4,5],[10,20,30,20,10],[5,4,3,2,1]],\"type\":\"surface\"}],                        {\"legend\":{\"bgcolor\":\"#F5F6F9\",\"font\":{\"color\":\"#4D5663\"}},\"paper_bgcolor\":\"#F5F6F9\",\"plot_bgcolor\":\"#F5F6F9\",\"template\":{\"data\":{\"barpolar\":[{\"marker\":{\"line\":{\"color\":\"#E5ECF6\",\"width\":0.5},\"pattern\":{\"fillmode\":\"overlay\",\"size\":10,\"solidity\":0.2}},\"type\":\"barpolar\"}],\"bar\":[{\"error_x\":{\"color\":\"#2a3f5f\"},\"error_y\":{\"color\":\"#2a3f5f\"},\"marker\":{\"line\":{\"color\":\"#E5ECF6\",\"width\":0.5},\"pattern\":{\"fillmode\":\"overlay\",\"size\":10,\"solidity\":0.2}},\"type\":\"bar\"}],\"carpet\":[{\"aaxis\":{\"endlinecolor\":\"#2a3f5f\",\"gridcolor\":\"white\",\"linecolor\":\"white\",\"minorgridcolor\":\"white\",\"startlinecolor\":\"#2a3f5f\"},\"baxis\":{\"endlinecolor\":\"#2a3f5f\",\"gridcolor\":\"white\",\"linecolor\":\"white\",\"minorgridcolor\":\"white\",\"startlinecolor\":\"#2a3f5f\"},\"type\":\"carpet\"}],\"choropleth\":[{\"colorbar\":{\"outlinewidth\":0,\"ticks\":\"\"},\"type\":\"choropleth\"}],\"contourcarpet\":[{\"colorbar\":{\"outlinewidth\":0,\"ticks\":\"\"},\"type\":\"contourcarpet\"}],\"contour\":[{\"colorbar\":{\"outlinewidth\":0,\"ticks\":\"\"},\"colorscale\":[[0.0,\"#0d0887\"],[0.1111111111111111,\"#46039f\"],[0.2222222222222222,\"#7201a8\"],[0.3333333333333333,\"#9c179e\"],[0.4444444444444444,\"#bd3786\"],[0.5555555555555556,\"#d8576b\"],[0.6666666666666666,\"#ed7953\"],[0.7777777777777778,\"#fb9f3a\"],[0.8888888888888888,\"#fdca26\"],[1.0,\"#f0f921\"]],\"type\":\"contour\"}],\"heatmapgl\":[{\"colorbar\":{\"outlinewidth\":0,\"ticks\":\"\"},\"colorscale\":[[0.0,\"#0d0887\"],[0.1111111111111111,\"#46039f\"],[0.2222222222222222,\"#7201a8\"],[0.3333333333333333,\"#9c179e\"],[0.4444444444444444,\"#bd3786\"],[0.5555555555555556,\"#d8576b\"],[0.6666666666666666,\"#ed7953\"],[0.7777777777777778,\"#fb9f3a\"],[0.8888888888888888,\"#fdca26\"],[1.0,\"#f0f921\"]],\"type\":\"heatmapgl\"}],\"heatmap\":[{\"colorbar\":{\"outlinewidth\":0,\"ticks\":\"\"},\"colorscale\":[[0.0,\"#0d0887\"],[0.1111111111111111,\"#46039f\"],[0.2222222222222222,\"#7201a8\"],[0.3333333333333333,\"#9c179e\"],[0.4444444444444444,\"#bd3786\"],[0.5555555555555556,\"#d8576b\"],[0.6666666666666666,\"#ed7953\"],[0.7777777777777778,\"#fb9f3a\"],[0.8888888888888888,\"#fdca26\"],[1.0,\"#f0f921\"]],\"type\":\"heatmap\"}],\"histogram2dcontour\":[{\"colorbar\":{\"outlinewidth\":0,\"ticks\":\"\"},\"colorscale\":[[0.0,\"#0d0887\"],[0.1111111111111111,\"#46039f\"],[0.2222222222222222,\"#7201a8\"],[0.3333333333333333,\"#9c179e\"],[0.4444444444444444,\"#bd3786\"],[0.5555555555555556,\"#d8576b\"],[0.6666666666666666,\"#ed7953\"],[0.7777777777777778,\"#fb9f3a\"],[0.8888888888888888,\"#fdca26\"],[1.0,\"#f0f921\"]],\"type\":\"histogram2dcontour\"}],\"histogram2d\":[{\"colorbar\":{\"outlinewidth\":0,\"ticks\":\"\"},\"colorscale\":[[0.0,\"#0d0887\"],[0.1111111111111111,\"#46039f\"],[0.2222222222222222,\"#7201a8\"],[0.3333333333333333,\"#9c179e\"],[0.4444444444444444,\"#bd3786\"],[0.5555555555555556,\"#d8576b\"],[0.6666666666666666,\"#ed7953\"],[0.7777777777777778,\"#fb9f3a\"],[0.8888888888888888,\"#fdca26\"],[1.0,\"#f0f921\"]],\"type\":\"histogram2d\"}],\"histogram\":[{\"marker\":{\"pattern\":{\"fillmode\":\"overlay\",\"size\":10,\"solidity\":0.2}},\"type\":\"histogram\"}],\"mesh3d\":[{\"colorbar\":{\"outlinewidth\":0,\"ticks\":\"\"},\"type\":\"mesh3d\"}],\"parcoords\":[{\"line\":{\"colorbar\":{\"outlinewidth\":0,\"ticks\":\"\"}},\"type\":\"parcoords\"}],\"pie\":[{\"automargin\":true,\"type\":\"pie\"}],\"scatter3d\":[{\"line\":{\"colorbar\":{\"outlinewidth\":0,\"ticks\":\"\"}},\"marker\":{\"colorbar\":{\"outlinewidth\":0,\"ticks\":\"\"}},\"type\":\"scatter3d\"}],\"scattercarpet\":[{\"marker\":{\"colorbar\":{\"outlinewidth\":0,\"ticks\":\"\"}},\"type\":\"scattercarpet\"}],\"scattergeo\":[{\"marker\":{\"colorbar\":{\"outlinewidth\":0,\"ticks\":\"\"}},\"type\":\"scattergeo\"}],\"scattergl\":[{\"marker\":{\"colorbar\":{\"outlinewidth\":0,\"ticks\":\"\"}},\"type\":\"scattergl\"}],\"scattermapbox\":[{\"marker\":{\"colorbar\":{\"outlinewidth\":0,\"ticks\":\"\"}},\"type\":\"scattermapbox\"}],\"scatterpolargl\":[{\"marker\":{\"colorbar\":{\"outlinewidth\":0,\"ticks\":\"\"}},\"type\":\"scatterpolargl\"}],\"scatterpolar\":[{\"marker\":{\"colorbar\":{\"outlinewidth\":0,\"ticks\":\"\"}},\"type\":\"scatterpolar\"}],\"scatter\":[{\"fillpattern\":{\"fillmode\":\"overlay\",\"size\":10,\"solidity\":0.2},\"type\":\"scatter\"}],\"scatterternary\":[{\"marker\":{\"colorbar\":{\"outlinewidth\":0,\"ticks\":\"\"}},\"type\":\"scatterternary\"}],\"surface\":[{\"colorbar\":{\"outlinewidth\":0,\"ticks\":\"\"},\"colorscale\":[[0.0,\"#0d0887\"],[0.1111111111111111,\"#46039f\"],[0.2222222222222222,\"#7201a8\"],[0.3333333333333333,\"#9c179e\"],[0.4444444444444444,\"#bd3786\"],[0.5555555555555556,\"#d8576b\"],[0.6666666666666666,\"#ed7953\"],[0.7777777777777778,\"#fb9f3a\"],[0.8888888888888888,\"#fdca26\"],[1.0,\"#f0f921\"]],\"type\":\"surface\"}],\"table\":[{\"cells\":{\"fill\":{\"color\":\"#EBF0F8\"},\"line\":{\"color\":\"white\"}},\"header\":{\"fill\":{\"color\":\"#C8D4E3\"},\"line\":{\"color\":\"white\"}},\"type\":\"table\"}]},\"layout\":{\"annotationdefaults\":{\"arrowcolor\":\"#2a3f5f\",\"arrowhead\":0,\"arrowwidth\":1},\"autotypenumbers\":\"strict\",\"coloraxis\":{\"colorbar\":{\"outlinewidth\":0,\"ticks\":\"\"}},\"colorscale\":{\"diverging\":[[0,\"#8e0152\"],[0.1,\"#c51b7d\"],[0.2,\"#de77ae\"],[0.3,\"#f1b6da\"],[0.4,\"#fde0ef\"],[0.5,\"#f7f7f7\"],[0.6,\"#e6f5d0\"],[0.7,\"#b8e186\"],[0.8,\"#7fbc41\"],[0.9,\"#4d9221\"],[1,\"#276419\"]],\"sequential\":[[0.0,\"#0d0887\"],[0.1111111111111111,\"#46039f\"],[0.2222222222222222,\"#7201a8\"],[0.3333333333333333,\"#9c179e\"],[0.4444444444444444,\"#bd3786\"],[0.5555555555555556,\"#d8576b\"],[0.6666666666666666,\"#ed7953\"],[0.7777777777777778,\"#fb9f3a\"],[0.8888888888888888,\"#fdca26\"],[1.0,\"#f0f921\"]],\"sequentialminus\":[[0.0,\"#0d0887\"],[0.1111111111111111,\"#46039f\"],[0.2222222222222222,\"#7201a8\"],[0.3333333333333333,\"#9c179e\"],[0.4444444444444444,\"#bd3786\"],[0.5555555555555556,\"#d8576b\"],[0.6666666666666666,\"#ed7953\"],[0.7777777777777778,\"#fb9f3a\"],[0.8888888888888888,\"#fdca26\"],[1.0,\"#f0f921\"]]},\"colorway\":[\"#636efa\",\"#EF553B\",\"#00cc96\",\"#ab63fa\",\"#FFA15A\",\"#19d3f3\",\"#FF6692\",\"#B6E880\",\"#FF97FF\",\"#FECB52\"],\"font\":{\"color\":\"#2a3f5f\"},\"geo\":{\"bgcolor\":\"white\",\"lakecolor\":\"white\",\"landcolor\":\"#E5ECF6\",\"showlakes\":true,\"showland\":true,\"subunitcolor\":\"white\"},\"hoverlabel\":{\"align\":\"left\"},\"hovermode\":\"closest\",\"mapbox\":{\"style\":\"light\"},\"paper_bgcolor\":\"white\",\"plot_bgcolor\":\"#E5ECF6\",\"polar\":{\"angularaxis\":{\"gridcolor\":\"white\",\"linecolor\":\"white\",\"ticks\":\"\"},\"bgcolor\":\"#E5ECF6\",\"radialaxis\":{\"gridcolor\":\"white\",\"linecolor\":\"white\",\"ticks\":\"\"}},\"scene\":{\"xaxis\":{\"backgroundcolor\":\"#E5ECF6\",\"gridcolor\":\"white\",\"gridwidth\":2,\"linecolor\":\"white\",\"showbackground\":true,\"ticks\":\"\",\"zerolinecolor\":\"white\"},\"yaxis\":{\"backgroundcolor\":\"#E5ECF6\",\"gridcolor\":\"white\",\"gridwidth\":2,\"linecolor\":\"white\",\"showbackground\":true,\"ticks\":\"\",\"zerolinecolor\":\"white\"},\"zaxis\":{\"backgroundcolor\":\"#E5ECF6\",\"gridcolor\":\"white\",\"gridwidth\":2,\"linecolor\":\"white\",\"showbackground\":true,\"ticks\":\"\",\"zerolinecolor\":\"white\"}},\"shapedefaults\":{\"line\":{\"color\":\"#2a3f5f\"}},\"ternary\":{\"aaxis\":{\"gridcolor\":\"white\",\"linecolor\":\"white\",\"ticks\":\"\"},\"baxis\":{\"gridcolor\":\"white\",\"linecolor\":\"white\",\"ticks\":\"\"},\"bgcolor\":\"#E5ECF6\",\"caxis\":{\"gridcolor\":\"white\",\"linecolor\":\"white\",\"ticks\":\"\"}},\"title\":{\"x\":0.05},\"xaxis\":{\"automargin\":true,\"gridcolor\":\"white\",\"linecolor\":\"white\",\"ticks\":\"\",\"title\":{\"standoff\":15},\"zerolinecolor\":\"white\",\"zerolinewidth\":2},\"yaxis\":{\"automargin\":true,\"gridcolor\":\"white\",\"linecolor\":\"white\",\"ticks\":\"\",\"title\":{\"standoff\":15},\"zerolinecolor\":\"white\",\"zerolinewidth\":2}}},\"title\":{\"font\":{\"color\":\"#4D5663\"}},\"xaxis\":{\"gridcolor\":\"#E1E5ED\",\"showgrid\":true,\"tickfont\":{\"color\":\"#4D5663\"},\"title\":{\"font\":{\"color\":\"#4D5663\"},\"text\":\"\"},\"zerolinecolor\":\"#E1E5ED\"},\"yaxis\":{\"gridcolor\":\"#E1E5ED\",\"showgrid\":true,\"tickfont\":{\"color\":\"#4D5663\"},\"title\":{\"font\":{\"color\":\"#4D5663\"},\"text\":\"\"},\"zerolinecolor\":\"#E1E5ED\"}},                        {\"showLink\": true, \"linkText\": \"Export to plot.ly\", \"plotlyServerURL\": \"https://plot.ly\", \"responsive\": true}                    ).then(function(){\n",
       "                            \n",
       "var gd = document.getElementById('9c8a7d02-6d5b-4e3d-b125-09a774a9d49f');\n",
       "var x = new MutationObserver(function (mutations, observer) {{\n",
       "        var display = window.getComputedStyle(gd).display;\n",
       "        if (!display || display === 'none') {{\n",
       "            console.log([gd, 'removed!']);\n",
       "            Plotly.purge(gd);\n",
       "            observer.disconnect();\n",
       "        }}\n",
       "}});\n",
       "\n",
       "// Listen for the removal of the full notebook cells\n",
       "var notebookContainer = gd.closest('#notebook-container');\n",
       "if (notebookContainer) {{\n",
       "    x.observe(notebookContainer, {childList: true});\n",
       "}}\n",
       "\n",
       "// Listen for the clearing of the current output cell\n",
       "var outputEl = gd.closest('.output');\n",
       "if (outputEl) {{\n",
       "    x.observe(outputEl, {childList: true});\n",
       "}}\n",
       "\n",
       "                        })                };                });            </script>        </div>"
      ]
     },
     "metadata": {},
     "output_type": "display_data"
    }
   ],
   "source": [
    "df3.iplot ( kind=\"surface\" )"
   ]
  },
  {
   "cell_type": "code",
   "execution_count": 16,
   "id": "034f26cc",
   "metadata": {},
   "outputs": [
    {
     "data": {
      "application/vnd.plotly.v1+json": {
       "config": {
        "linkText": "Export to plot.ly",
        "plotlyServerURL": "https://plot.ly",
        "showLink": true
       },
       "data": [
        {
         "colorscale": [
          [
           0,
           "rgb(165,0,38)"
          ],
          [
           0.1,
           "rgb(215,48,39)"
          ],
          [
           0.2,
           "rgb(244,109,67)"
          ],
          [
           0.3,
           "rgb(253,174,97)"
          ],
          [
           0.4,
           "rgb(254,224,144)"
          ],
          [
           0.5,
           "rgb(255,255,191)"
          ],
          [
           0.6,
           "rgb(224,243,248)"
          ],
          [
           0.7,
           "rgb(171,217,233)"
          ],
          [
           0.8,
           "rgb(116,173,209)"
          ],
          [
           0.9,
           "rgb(69,117,180)"
          ],
          [
           1,
           "rgb(49,54,149)"
          ]
         ],
         "type": "surface",
         "x": [
          0,
          1,
          2,
          3,
          4
         ],
         "y": [
          "x",
          "y",
          "z"
         ],
         "z": [
          [
           1,
           2,
           3,
           4,
           5
          ],
          [
           10,
           20,
           30,
           20,
           10
          ],
          [
           5,
           4,
           3,
           2,
           1
          ]
         ]
        }
       ],
       "layout": {
        "legend": {
         "bgcolor": "#F5F6F9",
         "font": {
          "color": "#4D5663"
         }
        },
        "paper_bgcolor": "#F5F6F9",
        "plot_bgcolor": "#F5F6F9",
        "template": {
         "data": {
          "bar": [
           {
            "error_x": {
             "color": "#2a3f5f"
            },
            "error_y": {
             "color": "#2a3f5f"
            },
            "marker": {
             "line": {
              "color": "#E5ECF6",
              "width": 0.5
             },
             "pattern": {
              "fillmode": "overlay",
              "size": 10,
              "solidity": 0.2
             }
            },
            "type": "bar"
           }
          ],
          "barpolar": [
           {
            "marker": {
             "line": {
              "color": "#E5ECF6",
              "width": 0.5
             },
             "pattern": {
              "fillmode": "overlay",
              "size": 10,
              "solidity": 0.2
             }
            },
            "type": "barpolar"
           }
          ],
          "carpet": [
           {
            "aaxis": {
             "endlinecolor": "#2a3f5f",
             "gridcolor": "white",
             "linecolor": "white",
             "minorgridcolor": "white",
             "startlinecolor": "#2a3f5f"
            },
            "baxis": {
             "endlinecolor": "#2a3f5f",
             "gridcolor": "white",
             "linecolor": "white",
             "minorgridcolor": "white",
             "startlinecolor": "#2a3f5f"
            },
            "type": "carpet"
           }
          ],
          "choropleth": [
           {
            "colorbar": {
             "outlinewidth": 0,
             "ticks": ""
            },
            "type": "choropleth"
           }
          ],
          "contour": [
           {
            "colorbar": {
             "outlinewidth": 0,
             "ticks": ""
            },
            "colorscale": [
             [
              0,
              "#0d0887"
             ],
             [
              0.1111111111111111,
              "#46039f"
             ],
             [
              0.2222222222222222,
              "#7201a8"
             ],
             [
              0.3333333333333333,
              "#9c179e"
             ],
             [
              0.4444444444444444,
              "#bd3786"
             ],
             [
              0.5555555555555556,
              "#d8576b"
             ],
             [
              0.6666666666666666,
              "#ed7953"
             ],
             [
              0.7777777777777778,
              "#fb9f3a"
             ],
             [
              0.8888888888888888,
              "#fdca26"
             ],
             [
              1,
              "#f0f921"
             ]
            ],
            "type": "contour"
           }
          ],
          "contourcarpet": [
           {
            "colorbar": {
             "outlinewidth": 0,
             "ticks": ""
            },
            "type": "contourcarpet"
           }
          ],
          "heatmap": [
           {
            "colorbar": {
             "outlinewidth": 0,
             "ticks": ""
            },
            "colorscale": [
             [
              0,
              "#0d0887"
             ],
             [
              0.1111111111111111,
              "#46039f"
             ],
             [
              0.2222222222222222,
              "#7201a8"
             ],
             [
              0.3333333333333333,
              "#9c179e"
             ],
             [
              0.4444444444444444,
              "#bd3786"
             ],
             [
              0.5555555555555556,
              "#d8576b"
             ],
             [
              0.6666666666666666,
              "#ed7953"
             ],
             [
              0.7777777777777778,
              "#fb9f3a"
             ],
             [
              0.8888888888888888,
              "#fdca26"
             ],
             [
              1,
              "#f0f921"
             ]
            ],
            "type": "heatmap"
           }
          ],
          "heatmapgl": [
           {
            "colorbar": {
             "outlinewidth": 0,
             "ticks": ""
            },
            "colorscale": [
             [
              0,
              "#0d0887"
             ],
             [
              0.1111111111111111,
              "#46039f"
             ],
             [
              0.2222222222222222,
              "#7201a8"
             ],
             [
              0.3333333333333333,
              "#9c179e"
             ],
             [
              0.4444444444444444,
              "#bd3786"
             ],
             [
              0.5555555555555556,
              "#d8576b"
             ],
             [
              0.6666666666666666,
              "#ed7953"
             ],
             [
              0.7777777777777778,
              "#fb9f3a"
             ],
             [
              0.8888888888888888,
              "#fdca26"
             ],
             [
              1,
              "#f0f921"
             ]
            ],
            "type": "heatmapgl"
           }
          ],
          "histogram": [
           {
            "marker": {
             "pattern": {
              "fillmode": "overlay",
              "size": 10,
              "solidity": 0.2
             }
            },
            "type": "histogram"
           }
          ],
          "histogram2d": [
           {
            "colorbar": {
             "outlinewidth": 0,
             "ticks": ""
            },
            "colorscale": [
             [
              0,
              "#0d0887"
             ],
             [
              0.1111111111111111,
              "#46039f"
             ],
             [
              0.2222222222222222,
              "#7201a8"
             ],
             [
              0.3333333333333333,
              "#9c179e"
             ],
             [
              0.4444444444444444,
              "#bd3786"
             ],
             [
              0.5555555555555556,
              "#d8576b"
             ],
             [
              0.6666666666666666,
              "#ed7953"
             ],
             [
              0.7777777777777778,
              "#fb9f3a"
             ],
             [
              0.8888888888888888,
              "#fdca26"
             ],
             [
              1,
              "#f0f921"
             ]
            ],
            "type": "histogram2d"
           }
          ],
          "histogram2dcontour": [
           {
            "colorbar": {
             "outlinewidth": 0,
             "ticks": ""
            },
            "colorscale": [
             [
              0,
              "#0d0887"
             ],
             [
              0.1111111111111111,
              "#46039f"
             ],
             [
              0.2222222222222222,
              "#7201a8"
             ],
             [
              0.3333333333333333,
              "#9c179e"
             ],
             [
              0.4444444444444444,
              "#bd3786"
             ],
             [
              0.5555555555555556,
              "#d8576b"
             ],
             [
              0.6666666666666666,
              "#ed7953"
             ],
             [
              0.7777777777777778,
              "#fb9f3a"
             ],
             [
              0.8888888888888888,
              "#fdca26"
             ],
             [
              1,
              "#f0f921"
             ]
            ],
            "type": "histogram2dcontour"
           }
          ],
          "mesh3d": [
           {
            "colorbar": {
             "outlinewidth": 0,
             "ticks": ""
            },
            "type": "mesh3d"
           }
          ],
          "parcoords": [
           {
            "line": {
             "colorbar": {
              "outlinewidth": 0,
              "ticks": ""
             }
            },
            "type": "parcoords"
           }
          ],
          "pie": [
           {
            "automargin": true,
            "type": "pie"
           }
          ],
          "scatter": [
           {
            "fillpattern": {
             "fillmode": "overlay",
             "size": 10,
             "solidity": 0.2
            },
            "type": "scatter"
           }
          ],
          "scatter3d": [
           {
            "line": {
             "colorbar": {
              "outlinewidth": 0,
              "ticks": ""
             }
            },
            "marker": {
             "colorbar": {
              "outlinewidth": 0,
              "ticks": ""
             }
            },
            "type": "scatter3d"
           }
          ],
          "scattercarpet": [
           {
            "marker": {
             "colorbar": {
              "outlinewidth": 0,
              "ticks": ""
             }
            },
            "type": "scattercarpet"
           }
          ],
          "scattergeo": [
           {
            "marker": {
             "colorbar": {
              "outlinewidth": 0,
              "ticks": ""
             }
            },
            "type": "scattergeo"
           }
          ],
          "scattergl": [
           {
            "marker": {
             "colorbar": {
              "outlinewidth": 0,
              "ticks": ""
             }
            },
            "type": "scattergl"
           }
          ],
          "scattermapbox": [
           {
            "marker": {
             "colorbar": {
              "outlinewidth": 0,
              "ticks": ""
             }
            },
            "type": "scattermapbox"
           }
          ],
          "scatterpolar": [
           {
            "marker": {
             "colorbar": {
              "outlinewidth": 0,
              "ticks": ""
             }
            },
            "type": "scatterpolar"
           }
          ],
          "scatterpolargl": [
           {
            "marker": {
             "colorbar": {
              "outlinewidth": 0,
              "ticks": ""
             }
            },
            "type": "scatterpolargl"
           }
          ],
          "scatterternary": [
           {
            "marker": {
             "colorbar": {
              "outlinewidth": 0,
              "ticks": ""
             }
            },
            "type": "scatterternary"
           }
          ],
          "surface": [
           {
            "colorbar": {
             "outlinewidth": 0,
             "ticks": ""
            },
            "colorscale": [
             [
              0,
              "#0d0887"
             ],
             [
              0.1111111111111111,
              "#46039f"
             ],
             [
              0.2222222222222222,
              "#7201a8"
             ],
             [
              0.3333333333333333,
              "#9c179e"
             ],
             [
              0.4444444444444444,
              "#bd3786"
             ],
             [
              0.5555555555555556,
              "#d8576b"
             ],
             [
              0.6666666666666666,
              "#ed7953"
             ],
             [
              0.7777777777777778,
              "#fb9f3a"
             ],
             [
              0.8888888888888888,
              "#fdca26"
             ],
             [
              1,
              "#f0f921"
             ]
            ],
            "type": "surface"
           }
          ],
          "table": [
           {
            "cells": {
             "fill": {
              "color": "#EBF0F8"
             },
             "line": {
              "color": "white"
             }
            },
            "header": {
             "fill": {
              "color": "#C8D4E3"
             },
             "line": {
              "color": "white"
             }
            },
            "type": "table"
           }
          ]
         },
         "layout": {
          "annotationdefaults": {
           "arrowcolor": "#2a3f5f",
           "arrowhead": 0,
           "arrowwidth": 1
          },
          "autotypenumbers": "strict",
          "coloraxis": {
           "colorbar": {
            "outlinewidth": 0,
            "ticks": ""
           }
          },
          "colorscale": {
           "diverging": [
            [
             0,
             "#8e0152"
            ],
            [
             0.1,
             "#c51b7d"
            ],
            [
             0.2,
             "#de77ae"
            ],
            [
             0.3,
             "#f1b6da"
            ],
            [
             0.4,
             "#fde0ef"
            ],
            [
             0.5,
             "#f7f7f7"
            ],
            [
             0.6,
             "#e6f5d0"
            ],
            [
             0.7,
             "#b8e186"
            ],
            [
             0.8,
             "#7fbc41"
            ],
            [
             0.9,
             "#4d9221"
            ],
            [
             1,
             "#276419"
            ]
           ],
           "sequential": [
            [
             0,
             "#0d0887"
            ],
            [
             0.1111111111111111,
             "#46039f"
            ],
            [
             0.2222222222222222,
             "#7201a8"
            ],
            [
             0.3333333333333333,
             "#9c179e"
            ],
            [
             0.4444444444444444,
             "#bd3786"
            ],
            [
             0.5555555555555556,
             "#d8576b"
            ],
            [
             0.6666666666666666,
             "#ed7953"
            ],
            [
             0.7777777777777778,
             "#fb9f3a"
            ],
            [
             0.8888888888888888,
             "#fdca26"
            ],
            [
             1,
             "#f0f921"
            ]
           ],
           "sequentialminus": [
            [
             0,
             "#0d0887"
            ],
            [
             0.1111111111111111,
             "#46039f"
            ],
            [
             0.2222222222222222,
             "#7201a8"
            ],
            [
             0.3333333333333333,
             "#9c179e"
            ],
            [
             0.4444444444444444,
             "#bd3786"
            ],
            [
             0.5555555555555556,
             "#d8576b"
            ],
            [
             0.6666666666666666,
             "#ed7953"
            ],
            [
             0.7777777777777778,
             "#fb9f3a"
            ],
            [
             0.8888888888888888,
             "#fdca26"
            ],
            [
             1,
             "#f0f921"
            ]
           ]
          },
          "colorway": [
           "#636efa",
           "#EF553B",
           "#00cc96",
           "#ab63fa",
           "#FFA15A",
           "#19d3f3",
           "#FF6692",
           "#B6E880",
           "#FF97FF",
           "#FECB52"
          ],
          "font": {
           "color": "#2a3f5f"
          },
          "geo": {
           "bgcolor": "white",
           "lakecolor": "white",
           "landcolor": "#E5ECF6",
           "showlakes": true,
           "showland": true,
           "subunitcolor": "white"
          },
          "hoverlabel": {
           "align": "left"
          },
          "hovermode": "closest",
          "mapbox": {
           "style": "light"
          },
          "paper_bgcolor": "white",
          "plot_bgcolor": "#E5ECF6",
          "polar": {
           "angularaxis": {
            "gridcolor": "white",
            "linecolor": "white",
            "ticks": ""
           },
           "bgcolor": "#E5ECF6",
           "radialaxis": {
            "gridcolor": "white",
            "linecolor": "white",
            "ticks": ""
           }
          },
          "scene": {
           "xaxis": {
            "backgroundcolor": "#E5ECF6",
            "gridcolor": "white",
            "gridwidth": 2,
            "linecolor": "white",
            "showbackground": true,
            "ticks": "",
            "zerolinecolor": "white"
           },
           "yaxis": {
            "backgroundcolor": "#E5ECF6",
            "gridcolor": "white",
            "gridwidth": 2,
            "linecolor": "white",
            "showbackground": true,
            "ticks": "",
            "zerolinecolor": "white"
           },
           "zaxis": {
            "backgroundcolor": "#E5ECF6",
            "gridcolor": "white",
            "gridwidth": 2,
            "linecolor": "white",
            "showbackground": true,
            "ticks": "",
            "zerolinecolor": "white"
           }
          },
          "shapedefaults": {
           "line": {
            "color": "#2a3f5f"
           }
          },
          "ternary": {
           "aaxis": {
            "gridcolor": "white",
            "linecolor": "white",
            "ticks": ""
           },
           "baxis": {
            "gridcolor": "white",
            "linecolor": "white",
            "ticks": ""
           },
           "bgcolor": "#E5ECF6",
           "caxis": {
            "gridcolor": "white",
            "linecolor": "white",
            "ticks": ""
           }
          },
          "title": {
           "x": 0.05
          },
          "xaxis": {
           "automargin": true,
           "gridcolor": "white",
           "linecolor": "white",
           "ticks": "",
           "title": {
            "standoff": 15
           },
           "zerolinecolor": "white",
           "zerolinewidth": 2
          },
          "yaxis": {
           "automargin": true,
           "gridcolor": "white",
           "linecolor": "white",
           "ticks": "",
           "title": {
            "standoff": 15
           },
           "zerolinecolor": "white",
           "zerolinewidth": 2
          }
         }
        },
        "title": {
         "font": {
          "color": "#4D5663"
         }
        },
        "xaxis": {
         "gridcolor": "#E1E5ED",
         "showgrid": true,
         "tickfont": {
          "color": "#4D5663"
         },
         "title": {
          "font": {
           "color": "#4D5663"
          },
          "text": ""
         },
         "zerolinecolor": "#E1E5ED"
        },
        "yaxis": {
         "gridcolor": "#E1E5ED",
         "showgrid": true,
         "tickfont": {
          "color": "#4D5663"
         },
         "title": {
          "font": {
           "color": "#4D5663"
          },
          "text": ""
         },
         "zerolinecolor": "#E1E5ED"
        }
       }
      },
      "text/html": [
       "<div>                            <div id=\"6ee3790d-681f-45e1-8b83-f2d60002fed5\" class=\"plotly-graph-div\" style=\"height:525px; width:100%;\"></div>            <script type=\"text/javascript\">                require([\"plotly\"], function(Plotly) {                    window.PLOTLYENV=window.PLOTLYENV || {};\n",
       "                    window.PLOTLYENV.BASE_URL='https://plot.ly';                                    if (document.getElementById(\"6ee3790d-681f-45e1-8b83-f2d60002fed5\")) {                    Plotly.newPlot(                        \"6ee3790d-681f-45e1-8b83-f2d60002fed5\",                        [{\"colorscale\":[[0.0,\"rgb(165,0,38)\"],[0.1,\"rgb(215,48,39)\"],[0.2,\"rgb(244,109,67)\"],[0.3,\"rgb(253,174,97)\"],[0.4,\"rgb(254,224,144)\"],[0.5,\"rgb(255,255,191)\"],[0.6,\"rgb(224,243,248)\"],[0.7,\"rgb(171,217,233)\"],[0.8,\"rgb(116,173,209)\"],[0.9,\"rgb(69,117,180)\"],[1.0,\"rgb(49,54,149)\"]],\"x\":[0,1,2,3,4],\"y\":[\"x\",\"y\",\"z\"],\"z\":[[1,2,3,4,5],[10,20,30,20,10],[5,4,3,2,1]],\"type\":\"surface\"}],                        {\"legend\":{\"bgcolor\":\"#F5F6F9\",\"font\":{\"color\":\"#4D5663\"}},\"paper_bgcolor\":\"#F5F6F9\",\"plot_bgcolor\":\"#F5F6F9\",\"template\":{\"data\":{\"barpolar\":[{\"marker\":{\"line\":{\"color\":\"#E5ECF6\",\"width\":0.5},\"pattern\":{\"fillmode\":\"overlay\",\"size\":10,\"solidity\":0.2}},\"type\":\"barpolar\"}],\"bar\":[{\"error_x\":{\"color\":\"#2a3f5f\"},\"error_y\":{\"color\":\"#2a3f5f\"},\"marker\":{\"line\":{\"color\":\"#E5ECF6\",\"width\":0.5},\"pattern\":{\"fillmode\":\"overlay\",\"size\":10,\"solidity\":0.2}},\"type\":\"bar\"}],\"carpet\":[{\"aaxis\":{\"endlinecolor\":\"#2a3f5f\",\"gridcolor\":\"white\",\"linecolor\":\"white\",\"minorgridcolor\":\"white\",\"startlinecolor\":\"#2a3f5f\"},\"baxis\":{\"endlinecolor\":\"#2a3f5f\",\"gridcolor\":\"white\",\"linecolor\":\"white\",\"minorgridcolor\":\"white\",\"startlinecolor\":\"#2a3f5f\"},\"type\":\"carpet\"}],\"choropleth\":[{\"colorbar\":{\"outlinewidth\":0,\"ticks\":\"\"},\"type\":\"choropleth\"}],\"contourcarpet\":[{\"colorbar\":{\"outlinewidth\":0,\"ticks\":\"\"},\"type\":\"contourcarpet\"}],\"contour\":[{\"colorbar\":{\"outlinewidth\":0,\"ticks\":\"\"},\"colorscale\":[[0.0,\"#0d0887\"],[0.1111111111111111,\"#46039f\"],[0.2222222222222222,\"#7201a8\"],[0.3333333333333333,\"#9c179e\"],[0.4444444444444444,\"#bd3786\"],[0.5555555555555556,\"#d8576b\"],[0.6666666666666666,\"#ed7953\"],[0.7777777777777778,\"#fb9f3a\"],[0.8888888888888888,\"#fdca26\"],[1.0,\"#f0f921\"]],\"type\":\"contour\"}],\"heatmapgl\":[{\"colorbar\":{\"outlinewidth\":0,\"ticks\":\"\"},\"colorscale\":[[0.0,\"#0d0887\"],[0.1111111111111111,\"#46039f\"],[0.2222222222222222,\"#7201a8\"],[0.3333333333333333,\"#9c179e\"],[0.4444444444444444,\"#bd3786\"],[0.5555555555555556,\"#d8576b\"],[0.6666666666666666,\"#ed7953\"],[0.7777777777777778,\"#fb9f3a\"],[0.8888888888888888,\"#fdca26\"],[1.0,\"#f0f921\"]],\"type\":\"heatmapgl\"}],\"heatmap\":[{\"colorbar\":{\"outlinewidth\":0,\"ticks\":\"\"},\"colorscale\":[[0.0,\"#0d0887\"],[0.1111111111111111,\"#46039f\"],[0.2222222222222222,\"#7201a8\"],[0.3333333333333333,\"#9c179e\"],[0.4444444444444444,\"#bd3786\"],[0.5555555555555556,\"#d8576b\"],[0.6666666666666666,\"#ed7953\"],[0.7777777777777778,\"#fb9f3a\"],[0.8888888888888888,\"#fdca26\"],[1.0,\"#f0f921\"]],\"type\":\"heatmap\"}],\"histogram2dcontour\":[{\"colorbar\":{\"outlinewidth\":0,\"ticks\":\"\"},\"colorscale\":[[0.0,\"#0d0887\"],[0.1111111111111111,\"#46039f\"],[0.2222222222222222,\"#7201a8\"],[0.3333333333333333,\"#9c179e\"],[0.4444444444444444,\"#bd3786\"],[0.5555555555555556,\"#d8576b\"],[0.6666666666666666,\"#ed7953\"],[0.7777777777777778,\"#fb9f3a\"],[0.8888888888888888,\"#fdca26\"],[1.0,\"#f0f921\"]],\"type\":\"histogram2dcontour\"}],\"histogram2d\":[{\"colorbar\":{\"outlinewidth\":0,\"ticks\":\"\"},\"colorscale\":[[0.0,\"#0d0887\"],[0.1111111111111111,\"#46039f\"],[0.2222222222222222,\"#7201a8\"],[0.3333333333333333,\"#9c179e\"],[0.4444444444444444,\"#bd3786\"],[0.5555555555555556,\"#d8576b\"],[0.6666666666666666,\"#ed7953\"],[0.7777777777777778,\"#fb9f3a\"],[0.8888888888888888,\"#fdca26\"],[1.0,\"#f0f921\"]],\"type\":\"histogram2d\"}],\"histogram\":[{\"marker\":{\"pattern\":{\"fillmode\":\"overlay\",\"size\":10,\"solidity\":0.2}},\"type\":\"histogram\"}],\"mesh3d\":[{\"colorbar\":{\"outlinewidth\":0,\"ticks\":\"\"},\"type\":\"mesh3d\"}],\"parcoords\":[{\"line\":{\"colorbar\":{\"outlinewidth\":0,\"ticks\":\"\"}},\"type\":\"parcoords\"}],\"pie\":[{\"automargin\":true,\"type\":\"pie\"}],\"scatter3d\":[{\"line\":{\"colorbar\":{\"outlinewidth\":0,\"ticks\":\"\"}},\"marker\":{\"colorbar\":{\"outlinewidth\":0,\"ticks\":\"\"}},\"type\":\"scatter3d\"}],\"scattercarpet\":[{\"marker\":{\"colorbar\":{\"outlinewidth\":0,\"ticks\":\"\"}},\"type\":\"scattercarpet\"}],\"scattergeo\":[{\"marker\":{\"colorbar\":{\"outlinewidth\":0,\"ticks\":\"\"}},\"type\":\"scattergeo\"}],\"scattergl\":[{\"marker\":{\"colorbar\":{\"outlinewidth\":0,\"ticks\":\"\"}},\"type\":\"scattergl\"}],\"scattermapbox\":[{\"marker\":{\"colorbar\":{\"outlinewidth\":0,\"ticks\":\"\"}},\"type\":\"scattermapbox\"}],\"scatterpolargl\":[{\"marker\":{\"colorbar\":{\"outlinewidth\":0,\"ticks\":\"\"}},\"type\":\"scatterpolargl\"}],\"scatterpolar\":[{\"marker\":{\"colorbar\":{\"outlinewidth\":0,\"ticks\":\"\"}},\"type\":\"scatterpolar\"}],\"scatter\":[{\"fillpattern\":{\"fillmode\":\"overlay\",\"size\":10,\"solidity\":0.2},\"type\":\"scatter\"}],\"scatterternary\":[{\"marker\":{\"colorbar\":{\"outlinewidth\":0,\"ticks\":\"\"}},\"type\":\"scatterternary\"}],\"surface\":[{\"colorbar\":{\"outlinewidth\":0,\"ticks\":\"\"},\"colorscale\":[[0.0,\"#0d0887\"],[0.1111111111111111,\"#46039f\"],[0.2222222222222222,\"#7201a8\"],[0.3333333333333333,\"#9c179e\"],[0.4444444444444444,\"#bd3786\"],[0.5555555555555556,\"#d8576b\"],[0.6666666666666666,\"#ed7953\"],[0.7777777777777778,\"#fb9f3a\"],[0.8888888888888888,\"#fdca26\"],[1.0,\"#f0f921\"]],\"type\":\"surface\"}],\"table\":[{\"cells\":{\"fill\":{\"color\":\"#EBF0F8\"},\"line\":{\"color\":\"white\"}},\"header\":{\"fill\":{\"color\":\"#C8D4E3\"},\"line\":{\"color\":\"white\"}},\"type\":\"table\"}]},\"layout\":{\"annotationdefaults\":{\"arrowcolor\":\"#2a3f5f\",\"arrowhead\":0,\"arrowwidth\":1},\"autotypenumbers\":\"strict\",\"coloraxis\":{\"colorbar\":{\"outlinewidth\":0,\"ticks\":\"\"}},\"colorscale\":{\"diverging\":[[0,\"#8e0152\"],[0.1,\"#c51b7d\"],[0.2,\"#de77ae\"],[0.3,\"#f1b6da\"],[0.4,\"#fde0ef\"],[0.5,\"#f7f7f7\"],[0.6,\"#e6f5d0\"],[0.7,\"#b8e186\"],[0.8,\"#7fbc41\"],[0.9,\"#4d9221\"],[1,\"#276419\"]],\"sequential\":[[0.0,\"#0d0887\"],[0.1111111111111111,\"#46039f\"],[0.2222222222222222,\"#7201a8\"],[0.3333333333333333,\"#9c179e\"],[0.4444444444444444,\"#bd3786\"],[0.5555555555555556,\"#d8576b\"],[0.6666666666666666,\"#ed7953\"],[0.7777777777777778,\"#fb9f3a\"],[0.8888888888888888,\"#fdca26\"],[1.0,\"#f0f921\"]],\"sequentialminus\":[[0.0,\"#0d0887\"],[0.1111111111111111,\"#46039f\"],[0.2222222222222222,\"#7201a8\"],[0.3333333333333333,\"#9c179e\"],[0.4444444444444444,\"#bd3786\"],[0.5555555555555556,\"#d8576b\"],[0.6666666666666666,\"#ed7953\"],[0.7777777777777778,\"#fb9f3a\"],[0.8888888888888888,\"#fdca26\"],[1.0,\"#f0f921\"]]},\"colorway\":[\"#636efa\",\"#EF553B\",\"#00cc96\",\"#ab63fa\",\"#FFA15A\",\"#19d3f3\",\"#FF6692\",\"#B6E880\",\"#FF97FF\",\"#FECB52\"],\"font\":{\"color\":\"#2a3f5f\"},\"geo\":{\"bgcolor\":\"white\",\"lakecolor\":\"white\",\"landcolor\":\"#E5ECF6\",\"showlakes\":true,\"showland\":true,\"subunitcolor\":\"white\"},\"hoverlabel\":{\"align\":\"left\"},\"hovermode\":\"closest\",\"mapbox\":{\"style\":\"light\"},\"paper_bgcolor\":\"white\",\"plot_bgcolor\":\"#E5ECF6\",\"polar\":{\"angularaxis\":{\"gridcolor\":\"white\",\"linecolor\":\"white\",\"ticks\":\"\"},\"bgcolor\":\"#E5ECF6\",\"radialaxis\":{\"gridcolor\":\"white\",\"linecolor\":\"white\",\"ticks\":\"\"}},\"scene\":{\"xaxis\":{\"backgroundcolor\":\"#E5ECF6\",\"gridcolor\":\"white\",\"gridwidth\":2,\"linecolor\":\"white\",\"showbackground\":true,\"ticks\":\"\",\"zerolinecolor\":\"white\"},\"yaxis\":{\"backgroundcolor\":\"#E5ECF6\",\"gridcolor\":\"white\",\"gridwidth\":2,\"linecolor\":\"white\",\"showbackground\":true,\"ticks\":\"\",\"zerolinecolor\":\"white\"},\"zaxis\":{\"backgroundcolor\":\"#E5ECF6\",\"gridcolor\":\"white\",\"gridwidth\":2,\"linecolor\":\"white\",\"showbackground\":true,\"ticks\":\"\",\"zerolinecolor\":\"white\"}},\"shapedefaults\":{\"line\":{\"color\":\"#2a3f5f\"}},\"ternary\":{\"aaxis\":{\"gridcolor\":\"white\",\"linecolor\":\"white\",\"ticks\":\"\"},\"baxis\":{\"gridcolor\":\"white\",\"linecolor\":\"white\",\"ticks\":\"\"},\"bgcolor\":\"#E5ECF6\",\"caxis\":{\"gridcolor\":\"white\",\"linecolor\":\"white\",\"ticks\":\"\"}},\"title\":{\"x\":0.05},\"xaxis\":{\"automargin\":true,\"gridcolor\":\"white\",\"linecolor\":\"white\",\"ticks\":\"\",\"title\":{\"standoff\":15},\"zerolinecolor\":\"white\",\"zerolinewidth\":2},\"yaxis\":{\"automargin\":true,\"gridcolor\":\"white\",\"linecolor\":\"white\",\"ticks\":\"\",\"title\":{\"standoff\":15},\"zerolinecolor\":\"white\",\"zerolinewidth\":2}}},\"title\":{\"font\":{\"color\":\"#4D5663\"}},\"xaxis\":{\"gridcolor\":\"#E1E5ED\",\"showgrid\":true,\"tickfont\":{\"color\":\"#4D5663\"},\"title\":{\"font\":{\"color\":\"#4D5663\"},\"text\":\"\"},\"zerolinecolor\":\"#E1E5ED\"},\"yaxis\":{\"gridcolor\":\"#E1E5ED\",\"showgrid\":true,\"tickfont\":{\"color\":\"#4D5663\"},\"title\":{\"font\":{\"color\":\"#4D5663\"},\"text\":\"\"},\"zerolinecolor\":\"#E1E5ED\"}},                        {\"showLink\": true, \"linkText\": \"Export to plot.ly\", \"plotlyServerURL\": \"https://plot.ly\", \"responsive\": true}                    ).then(function(){\n",
       "                            \n",
       "var gd = document.getElementById('6ee3790d-681f-45e1-8b83-f2d60002fed5');\n",
       "var x = new MutationObserver(function (mutations, observer) {{\n",
       "        var display = window.getComputedStyle(gd).display;\n",
       "        if (!display || display === 'none') {{\n",
       "            console.log([gd, 'removed!']);\n",
       "            Plotly.purge(gd);\n",
       "            observer.disconnect();\n",
       "        }}\n",
       "}});\n",
       "\n",
       "// Listen for the removal of the full notebook cells\n",
       "var notebookContainer = gd.closest('#notebook-container');\n",
       "if (notebookContainer) {{\n",
       "    x.observe(notebookContainer, {childList: true});\n",
       "}}\n",
       "\n",
       "// Listen for the clearing of the current output cell\n",
       "var outputEl = gd.closest('.output');\n",
       "if (outputEl) {{\n",
       "    x.observe(outputEl, {childList: true});\n",
       "}}\n",
       "\n",
       "                        })                };                });            </script>        </div>"
      ]
     },
     "metadata": {},
     "output_type": "display_data"
    }
   ],
   "source": [
    "df3.iplot ( kind=\"surface\" , colorscale=\"rdylbu\" )"
   ]
  },
  {
   "cell_type": "code",
   "execution_count": 17,
   "id": "3b9767f6",
   "metadata": {},
   "outputs": [
    {
     "data": {
      "application/vnd.plotly.v1+json": {
       "config": {
        "linkText": "Export to plot.ly",
        "plotlyServerURL": "https://plot.ly",
        "showLink": true
       },
       "data": [
        {
         "histfunc": "count",
         "histnorm": "",
         "marker": {
          "color": "rgba(255, 153, 51, 1.0)",
          "line": {
           "color": "#4D5663",
           "width": 1.3
          }
         },
         "name": "A",
         "opacity": 0.8,
         "orientation": "v",
         "type": "histogram",
         "x": [
          0.512752939029791,
          -0.3553419617198243,
          -0.27929092762229374,
          0.13715381120273906,
          -0.10561595646288185,
          -0.1599097109111184,
          -0.4979472496059992,
          0.157104113124573,
          -0.46293873496051735,
          2.485418431861522,
          -0.4516734756190726,
          -1.493458861952407,
          -0.026482791768084567,
          -0.2757463899836123,
          2.241694624786081,
          -0.5129572406266717,
          0.15252616393685708,
          1.3865506913062904,
          -0.4983345548729902,
          0.307249958853756,
          -1.128251054831078,
          -0.8075072847154674,
          -0.6363660077137355,
          -0.3713082499903116,
          1.0441461790223507,
          0.3414257868465785,
          -0.5322617919291063,
          -1.2591308173815023,
          0.7009125457086441,
          0.9967249848203381,
          0.5553427242848349,
          -0.1710629029221637,
          -0.09347269250359294,
          -0.06269091796217952,
          -0.8889925758821092,
          1.0218299933351225,
          0.8210081659849187,
          0.44322827056598846,
          -0.4184786434300998,
          -0.08940115509505929,
          0.7269703626378548,
          0.24703444042561,
          0.05660618906374495,
          -0.46715813740333273,
          0.02946942295050563,
          -2.0148452428808628,
          -1.8538320646658921,
          -0.3354297970013657,
          1.6395349929699676,
          1.8490226882208158,
          -0.1512933010494933,
          -0.5005603686679456,
          0.7287108498117928,
          1.298360623953065,
          0.05835482274762789,
          0.05404720881988463,
          1.6448478378071496,
          -0.2165273389788695,
          -0.01089034092055172,
          -0.6396922580512779,
          0.1659230506263948,
          -0.26904140973624013,
          -0.15555495444472764,
          0.9466288861187291,
          0.49900398554713205,
          -2.175214685296227,
          0.09718808811786087,
          2.708148103191192,
          -0.7877907963975526,
          -0.0014491244335431606,
          -0.11955410895494896,
          -0.012562024727582138,
          -0.38147657376126753,
          1.1364951029280372,
          -0.3185237106734018,
          -2.2316850554714165,
          -1.332370837239957,
          1.1773780023580709,
          0.02886572654773463,
          -1.345659142078511,
          0.8985612990834209,
          0.7222788050675611,
          -1.3802880760915244,
          -1.9585194457414203,
          -2.1686577556553375,
          -0.8500871395049288,
          0.10917120767171398,
          0.4795289001080743,
          1.2234004610201688,
          0.8152430704621533,
          1.0968304321670168,
          -1.4067781777797062,
          0.05849673408436882,
          0.7533432362097038,
          0.015432162011626286,
          -1.2840022615670568,
          1.0343567428530556,
          0.6022038052564009,
          -0.5734790425194495,
          -0.061518042568631644
         ]
        }
       ],
       "layout": {
        "barmode": "overlay",
        "legend": {
         "bgcolor": "#F5F6F9",
         "font": {
          "color": "#4D5663"
         }
        },
        "paper_bgcolor": "#F5F6F9",
        "plot_bgcolor": "#F5F6F9",
        "template": {
         "data": {
          "bar": [
           {
            "error_x": {
             "color": "#2a3f5f"
            },
            "error_y": {
             "color": "#2a3f5f"
            },
            "marker": {
             "line": {
              "color": "#E5ECF6",
              "width": 0.5
             },
             "pattern": {
              "fillmode": "overlay",
              "size": 10,
              "solidity": 0.2
             }
            },
            "type": "bar"
           }
          ],
          "barpolar": [
           {
            "marker": {
             "line": {
              "color": "#E5ECF6",
              "width": 0.5
             },
             "pattern": {
              "fillmode": "overlay",
              "size": 10,
              "solidity": 0.2
             }
            },
            "type": "barpolar"
           }
          ],
          "carpet": [
           {
            "aaxis": {
             "endlinecolor": "#2a3f5f",
             "gridcolor": "white",
             "linecolor": "white",
             "minorgridcolor": "white",
             "startlinecolor": "#2a3f5f"
            },
            "baxis": {
             "endlinecolor": "#2a3f5f",
             "gridcolor": "white",
             "linecolor": "white",
             "minorgridcolor": "white",
             "startlinecolor": "#2a3f5f"
            },
            "type": "carpet"
           }
          ],
          "choropleth": [
           {
            "colorbar": {
             "outlinewidth": 0,
             "ticks": ""
            },
            "type": "choropleth"
           }
          ],
          "contour": [
           {
            "colorbar": {
             "outlinewidth": 0,
             "ticks": ""
            },
            "colorscale": [
             [
              0,
              "#0d0887"
             ],
             [
              0.1111111111111111,
              "#46039f"
             ],
             [
              0.2222222222222222,
              "#7201a8"
             ],
             [
              0.3333333333333333,
              "#9c179e"
             ],
             [
              0.4444444444444444,
              "#bd3786"
             ],
             [
              0.5555555555555556,
              "#d8576b"
             ],
             [
              0.6666666666666666,
              "#ed7953"
             ],
             [
              0.7777777777777778,
              "#fb9f3a"
             ],
             [
              0.8888888888888888,
              "#fdca26"
             ],
             [
              1,
              "#f0f921"
             ]
            ],
            "type": "contour"
           }
          ],
          "contourcarpet": [
           {
            "colorbar": {
             "outlinewidth": 0,
             "ticks": ""
            },
            "type": "contourcarpet"
           }
          ],
          "heatmap": [
           {
            "colorbar": {
             "outlinewidth": 0,
             "ticks": ""
            },
            "colorscale": [
             [
              0,
              "#0d0887"
             ],
             [
              0.1111111111111111,
              "#46039f"
             ],
             [
              0.2222222222222222,
              "#7201a8"
             ],
             [
              0.3333333333333333,
              "#9c179e"
             ],
             [
              0.4444444444444444,
              "#bd3786"
             ],
             [
              0.5555555555555556,
              "#d8576b"
             ],
             [
              0.6666666666666666,
              "#ed7953"
             ],
             [
              0.7777777777777778,
              "#fb9f3a"
             ],
             [
              0.8888888888888888,
              "#fdca26"
             ],
             [
              1,
              "#f0f921"
             ]
            ],
            "type": "heatmap"
           }
          ],
          "heatmapgl": [
           {
            "colorbar": {
             "outlinewidth": 0,
             "ticks": ""
            },
            "colorscale": [
             [
              0,
              "#0d0887"
             ],
             [
              0.1111111111111111,
              "#46039f"
             ],
             [
              0.2222222222222222,
              "#7201a8"
             ],
             [
              0.3333333333333333,
              "#9c179e"
             ],
             [
              0.4444444444444444,
              "#bd3786"
             ],
             [
              0.5555555555555556,
              "#d8576b"
             ],
             [
              0.6666666666666666,
              "#ed7953"
             ],
             [
              0.7777777777777778,
              "#fb9f3a"
             ],
             [
              0.8888888888888888,
              "#fdca26"
             ],
             [
              1,
              "#f0f921"
             ]
            ],
            "type": "heatmapgl"
           }
          ],
          "histogram": [
           {
            "marker": {
             "pattern": {
              "fillmode": "overlay",
              "size": 10,
              "solidity": 0.2
             }
            },
            "type": "histogram"
           }
          ],
          "histogram2d": [
           {
            "colorbar": {
             "outlinewidth": 0,
             "ticks": ""
            },
            "colorscale": [
             [
              0,
              "#0d0887"
             ],
             [
              0.1111111111111111,
              "#46039f"
             ],
             [
              0.2222222222222222,
              "#7201a8"
             ],
             [
              0.3333333333333333,
              "#9c179e"
             ],
             [
              0.4444444444444444,
              "#bd3786"
             ],
             [
              0.5555555555555556,
              "#d8576b"
             ],
             [
              0.6666666666666666,
              "#ed7953"
             ],
             [
              0.7777777777777778,
              "#fb9f3a"
             ],
             [
              0.8888888888888888,
              "#fdca26"
             ],
             [
              1,
              "#f0f921"
             ]
            ],
            "type": "histogram2d"
           }
          ],
          "histogram2dcontour": [
           {
            "colorbar": {
             "outlinewidth": 0,
             "ticks": ""
            },
            "colorscale": [
             [
              0,
              "#0d0887"
             ],
             [
              0.1111111111111111,
              "#46039f"
             ],
             [
              0.2222222222222222,
              "#7201a8"
             ],
             [
              0.3333333333333333,
              "#9c179e"
             ],
             [
              0.4444444444444444,
              "#bd3786"
             ],
             [
              0.5555555555555556,
              "#d8576b"
             ],
             [
              0.6666666666666666,
              "#ed7953"
             ],
             [
              0.7777777777777778,
              "#fb9f3a"
             ],
             [
              0.8888888888888888,
              "#fdca26"
             ],
             [
              1,
              "#f0f921"
             ]
            ],
            "type": "histogram2dcontour"
           }
          ],
          "mesh3d": [
           {
            "colorbar": {
             "outlinewidth": 0,
             "ticks": ""
            },
            "type": "mesh3d"
           }
          ],
          "parcoords": [
           {
            "line": {
             "colorbar": {
              "outlinewidth": 0,
              "ticks": ""
             }
            },
            "type": "parcoords"
           }
          ],
          "pie": [
           {
            "automargin": true,
            "type": "pie"
           }
          ],
          "scatter": [
           {
            "fillpattern": {
             "fillmode": "overlay",
             "size": 10,
             "solidity": 0.2
            },
            "type": "scatter"
           }
          ],
          "scatter3d": [
           {
            "line": {
             "colorbar": {
              "outlinewidth": 0,
              "ticks": ""
             }
            },
            "marker": {
             "colorbar": {
              "outlinewidth": 0,
              "ticks": ""
             }
            },
            "type": "scatter3d"
           }
          ],
          "scattercarpet": [
           {
            "marker": {
             "colorbar": {
              "outlinewidth": 0,
              "ticks": ""
             }
            },
            "type": "scattercarpet"
           }
          ],
          "scattergeo": [
           {
            "marker": {
             "colorbar": {
              "outlinewidth": 0,
              "ticks": ""
             }
            },
            "type": "scattergeo"
           }
          ],
          "scattergl": [
           {
            "marker": {
             "colorbar": {
              "outlinewidth": 0,
              "ticks": ""
             }
            },
            "type": "scattergl"
           }
          ],
          "scattermapbox": [
           {
            "marker": {
             "colorbar": {
              "outlinewidth": 0,
              "ticks": ""
             }
            },
            "type": "scattermapbox"
           }
          ],
          "scatterpolar": [
           {
            "marker": {
             "colorbar": {
              "outlinewidth": 0,
              "ticks": ""
             }
            },
            "type": "scatterpolar"
           }
          ],
          "scatterpolargl": [
           {
            "marker": {
             "colorbar": {
              "outlinewidth": 0,
              "ticks": ""
             }
            },
            "type": "scatterpolargl"
           }
          ],
          "scatterternary": [
           {
            "marker": {
             "colorbar": {
              "outlinewidth": 0,
              "ticks": ""
             }
            },
            "type": "scatterternary"
           }
          ],
          "surface": [
           {
            "colorbar": {
             "outlinewidth": 0,
             "ticks": ""
            },
            "colorscale": [
             [
              0,
              "#0d0887"
             ],
             [
              0.1111111111111111,
              "#46039f"
             ],
             [
              0.2222222222222222,
              "#7201a8"
             ],
             [
              0.3333333333333333,
              "#9c179e"
             ],
             [
              0.4444444444444444,
              "#bd3786"
             ],
             [
              0.5555555555555556,
              "#d8576b"
             ],
             [
              0.6666666666666666,
              "#ed7953"
             ],
             [
              0.7777777777777778,
              "#fb9f3a"
             ],
             [
              0.8888888888888888,
              "#fdca26"
             ],
             [
              1,
              "#f0f921"
             ]
            ],
            "type": "surface"
           }
          ],
          "table": [
           {
            "cells": {
             "fill": {
              "color": "#EBF0F8"
             },
             "line": {
              "color": "white"
             }
            },
            "header": {
             "fill": {
              "color": "#C8D4E3"
             },
             "line": {
              "color": "white"
             }
            },
            "type": "table"
           }
          ]
         },
         "layout": {
          "annotationdefaults": {
           "arrowcolor": "#2a3f5f",
           "arrowhead": 0,
           "arrowwidth": 1
          },
          "autotypenumbers": "strict",
          "coloraxis": {
           "colorbar": {
            "outlinewidth": 0,
            "ticks": ""
           }
          },
          "colorscale": {
           "diverging": [
            [
             0,
             "#8e0152"
            ],
            [
             0.1,
             "#c51b7d"
            ],
            [
             0.2,
             "#de77ae"
            ],
            [
             0.3,
             "#f1b6da"
            ],
            [
             0.4,
             "#fde0ef"
            ],
            [
             0.5,
             "#f7f7f7"
            ],
            [
             0.6,
             "#e6f5d0"
            ],
            [
             0.7,
             "#b8e186"
            ],
            [
             0.8,
             "#7fbc41"
            ],
            [
             0.9,
             "#4d9221"
            ],
            [
             1,
             "#276419"
            ]
           ],
           "sequential": [
            [
             0,
             "#0d0887"
            ],
            [
             0.1111111111111111,
             "#46039f"
            ],
            [
             0.2222222222222222,
             "#7201a8"
            ],
            [
             0.3333333333333333,
             "#9c179e"
            ],
            [
             0.4444444444444444,
             "#bd3786"
            ],
            [
             0.5555555555555556,
             "#d8576b"
            ],
            [
             0.6666666666666666,
             "#ed7953"
            ],
            [
             0.7777777777777778,
             "#fb9f3a"
            ],
            [
             0.8888888888888888,
             "#fdca26"
            ],
            [
             1,
             "#f0f921"
            ]
           ],
           "sequentialminus": [
            [
             0,
             "#0d0887"
            ],
            [
             0.1111111111111111,
             "#46039f"
            ],
            [
             0.2222222222222222,
             "#7201a8"
            ],
            [
             0.3333333333333333,
             "#9c179e"
            ],
            [
             0.4444444444444444,
             "#bd3786"
            ],
            [
             0.5555555555555556,
             "#d8576b"
            ],
            [
             0.6666666666666666,
             "#ed7953"
            ],
            [
             0.7777777777777778,
             "#fb9f3a"
            ],
            [
             0.8888888888888888,
             "#fdca26"
            ],
            [
             1,
             "#f0f921"
            ]
           ]
          },
          "colorway": [
           "#636efa",
           "#EF553B",
           "#00cc96",
           "#ab63fa",
           "#FFA15A",
           "#19d3f3",
           "#FF6692",
           "#B6E880",
           "#FF97FF",
           "#FECB52"
          ],
          "font": {
           "color": "#2a3f5f"
          },
          "geo": {
           "bgcolor": "white",
           "lakecolor": "white",
           "landcolor": "#E5ECF6",
           "showlakes": true,
           "showland": true,
           "subunitcolor": "white"
          },
          "hoverlabel": {
           "align": "left"
          },
          "hovermode": "closest",
          "mapbox": {
           "style": "light"
          },
          "paper_bgcolor": "white",
          "plot_bgcolor": "#E5ECF6",
          "polar": {
           "angularaxis": {
            "gridcolor": "white",
            "linecolor": "white",
            "ticks": ""
           },
           "bgcolor": "#E5ECF6",
           "radialaxis": {
            "gridcolor": "white",
            "linecolor": "white",
            "ticks": ""
           }
          },
          "scene": {
           "xaxis": {
            "backgroundcolor": "#E5ECF6",
            "gridcolor": "white",
            "gridwidth": 2,
            "linecolor": "white",
            "showbackground": true,
            "ticks": "",
            "zerolinecolor": "white"
           },
           "yaxis": {
            "backgroundcolor": "#E5ECF6",
            "gridcolor": "white",
            "gridwidth": 2,
            "linecolor": "white",
            "showbackground": true,
            "ticks": "",
            "zerolinecolor": "white"
           },
           "zaxis": {
            "backgroundcolor": "#E5ECF6",
            "gridcolor": "white",
            "gridwidth": 2,
            "linecolor": "white",
            "showbackground": true,
            "ticks": "",
            "zerolinecolor": "white"
           }
          },
          "shapedefaults": {
           "line": {
            "color": "#2a3f5f"
           }
          },
          "ternary": {
           "aaxis": {
            "gridcolor": "white",
            "linecolor": "white",
            "ticks": ""
           },
           "baxis": {
            "gridcolor": "white",
            "linecolor": "white",
            "ticks": ""
           },
           "bgcolor": "#E5ECF6",
           "caxis": {
            "gridcolor": "white",
            "linecolor": "white",
            "ticks": ""
           }
          },
          "title": {
           "x": 0.05
          },
          "xaxis": {
           "automargin": true,
           "gridcolor": "white",
           "linecolor": "white",
           "ticks": "",
           "title": {
            "standoff": 15
           },
           "zerolinecolor": "white",
           "zerolinewidth": 2
          },
          "yaxis": {
           "automargin": true,
           "gridcolor": "white",
           "linecolor": "white",
           "ticks": "",
           "title": {
            "standoff": 15
           },
           "zerolinecolor": "white",
           "zerolinewidth": 2
          }
         }
        },
        "title": {
         "font": {
          "color": "#4D5663"
         }
        },
        "xaxis": {
         "gridcolor": "#E1E5ED",
         "showgrid": true,
         "tickfont": {
          "color": "#4D5663"
         },
         "title": {
          "font": {
           "color": "#4D5663"
          },
          "text": ""
         },
         "zerolinecolor": "#E1E5ED"
        },
        "yaxis": {
         "gridcolor": "#E1E5ED",
         "showgrid": true,
         "tickfont": {
          "color": "#4D5663"
         },
         "title": {
          "font": {
           "color": "#4D5663"
          },
          "text": ""
         },
         "zerolinecolor": "#E1E5ED"
        }
       }
      },
      "text/html": [
       "<div>                            <div id=\"cc9658c9-8232-4b53-b10d-6c7c1d47a555\" class=\"plotly-graph-div\" style=\"height:525px; width:100%;\"></div>            <script type=\"text/javascript\">                require([\"plotly\"], function(Plotly) {                    window.PLOTLYENV=window.PLOTLYENV || {};\n",
       "                    window.PLOTLYENV.BASE_URL='https://plot.ly';                                    if (document.getElementById(\"cc9658c9-8232-4b53-b10d-6c7c1d47a555\")) {                    Plotly.newPlot(                        \"cc9658c9-8232-4b53-b10d-6c7c1d47a555\",                        [{\"histfunc\":\"count\",\"histnorm\":\"\",\"marker\":{\"color\":\"rgba(255, 153, 51, 1.0)\",\"line\":{\"color\":\"#4D5663\",\"width\":1.3}},\"name\":\"A\",\"opacity\":0.8,\"orientation\":\"v\",\"x\":[0.512752939029791,-0.3553419617198243,-0.27929092762229374,0.13715381120273906,-0.10561595646288185,-0.1599097109111184,-0.4979472496059992,0.157104113124573,-0.46293873496051735,2.485418431861522,-0.4516734756190726,-1.493458861952407,-0.026482791768084567,-0.2757463899836123,2.241694624786081,-0.5129572406266717,0.15252616393685708,1.3865506913062904,-0.4983345548729902,0.307249958853756,-1.128251054831078,-0.8075072847154674,-0.6363660077137355,-0.3713082499903116,1.0441461790223507,0.3414257868465785,-0.5322617919291063,-1.2591308173815023,0.7009125457086441,0.9967249848203381,0.5553427242848349,-0.1710629029221637,-0.09347269250359294,-0.06269091796217952,-0.8889925758821092,1.0218299933351225,0.8210081659849187,0.44322827056598846,-0.4184786434300998,-0.08940115509505929,0.7269703626378548,0.24703444042561,0.05660618906374495,-0.46715813740333273,0.02946942295050563,-2.0148452428808628,-1.8538320646658921,-0.3354297970013657,1.6395349929699676,1.8490226882208158,-0.1512933010494933,-0.5005603686679456,0.7287108498117928,1.298360623953065,0.05835482274762789,0.05404720881988463,1.6448478378071496,-0.2165273389788695,-0.01089034092055172,-0.6396922580512779,0.1659230506263948,-0.26904140973624013,-0.15555495444472764,0.9466288861187291,0.49900398554713205,-2.175214685296227,0.09718808811786087,2.708148103191192,-0.7877907963975526,-0.0014491244335431606,-0.11955410895494896,-0.012562024727582138,-0.38147657376126753,1.1364951029280372,-0.3185237106734018,-2.2316850554714165,-1.332370837239957,1.1773780023580709,0.02886572654773463,-1.345659142078511,0.8985612990834209,0.7222788050675611,-1.3802880760915244,-1.9585194457414203,-2.1686577556553375,-0.8500871395049288,0.10917120767171398,0.4795289001080743,1.2234004610201688,0.8152430704621533,1.0968304321670168,-1.4067781777797062,0.05849673408436882,0.7533432362097038,0.015432162011626286,-1.2840022615670568,1.0343567428530556,0.6022038052564009,-0.5734790425194495,-0.061518042568631644],\"type\":\"histogram\"}],                        {\"barmode\":\"overlay\",\"legend\":{\"bgcolor\":\"#F5F6F9\",\"font\":{\"color\":\"#4D5663\"}},\"paper_bgcolor\":\"#F5F6F9\",\"plot_bgcolor\":\"#F5F6F9\",\"template\":{\"data\":{\"barpolar\":[{\"marker\":{\"line\":{\"color\":\"#E5ECF6\",\"width\":0.5},\"pattern\":{\"fillmode\":\"overlay\",\"size\":10,\"solidity\":0.2}},\"type\":\"barpolar\"}],\"bar\":[{\"error_x\":{\"color\":\"#2a3f5f\"},\"error_y\":{\"color\":\"#2a3f5f\"},\"marker\":{\"line\":{\"color\":\"#E5ECF6\",\"width\":0.5},\"pattern\":{\"fillmode\":\"overlay\",\"size\":10,\"solidity\":0.2}},\"type\":\"bar\"}],\"carpet\":[{\"aaxis\":{\"endlinecolor\":\"#2a3f5f\",\"gridcolor\":\"white\",\"linecolor\":\"white\",\"minorgridcolor\":\"white\",\"startlinecolor\":\"#2a3f5f\"},\"baxis\":{\"endlinecolor\":\"#2a3f5f\",\"gridcolor\":\"white\",\"linecolor\":\"white\",\"minorgridcolor\":\"white\",\"startlinecolor\":\"#2a3f5f\"},\"type\":\"carpet\"}],\"choropleth\":[{\"colorbar\":{\"outlinewidth\":0,\"ticks\":\"\"},\"type\":\"choropleth\"}],\"contourcarpet\":[{\"colorbar\":{\"outlinewidth\":0,\"ticks\":\"\"},\"type\":\"contourcarpet\"}],\"contour\":[{\"colorbar\":{\"outlinewidth\":0,\"ticks\":\"\"},\"colorscale\":[[0.0,\"#0d0887\"],[0.1111111111111111,\"#46039f\"],[0.2222222222222222,\"#7201a8\"],[0.3333333333333333,\"#9c179e\"],[0.4444444444444444,\"#bd3786\"],[0.5555555555555556,\"#d8576b\"],[0.6666666666666666,\"#ed7953\"],[0.7777777777777778,\"#fb9f3a\"],[0.8888888888888888,\"#fdca26\"],[1.0,\"#f0f921\"]],\"type\":\"contour\"}],\"heatmapgl\":[{\"colorbar\":{\"outlinewidth\":0,\"ticks\":\"\"},\"colorscale\":[[0.0,\"#0d0887\"],[0.1111111111111111,\"#46039f\"],[0.2222222222222222,\"#7201a8\"],[0.3333333333333333,\"#9c179e\"],[0.4444444444444444,\"#bd3786\"],[0.5555555555555556,\"#d8576b\"],[0.6666666666666666,\"#ed7953\"],[0.7777777777777778,\"#fb9f3a\"],[0.8888888888888888,\"#fdca26\"],[1.0,\"#f0f921\"]],\"type\":\"heatmapgl\"}],\"heatmap\":[{\"colorbar\":{\"outlinewidth\":0,\"ticks\":\"\"},\"colorscale\":[[0.0,\"#0d0887\"],[0.1111111111111111,\"#46039f\"],[0.2222222222222222,\"#7201a8\"],[0.3333333333333333,\"#9c179e\"],[0.4444444444444444,\"#bd3786\"],[0.5555555555555556,\"#d8576b\"],[0.6666666666666666,\"#ed7953\"],[0.7777777777777778,\"#fb9f3a\"],[0.8888888888888888,\"#fdca26\"],[1.0,\"#f0f921\"]],\"type\":\"heatmap\"}],\"histogram2dcontour\":[{\"colorbar\":{\"outlinewidth\":0,\"ticks\":\"\"},\"colorscale\":[[0.0,\"#0d0887\"],[0.1111111111111111,\"#46039f\"],[0.2222222222222222,\"#7201a8\"],[0.3333333333333333,\"#9c179e\"],[0.4444444444444444,\"#bd3786\"],[0.5555555555555556,\"#d8576b\"],[0.6666666666666666,\"#ed7953\"],[0.7777777777777778,\"#fb9f3a\"],[0.8888888888888888,\"#fdca26\"],[1.0,\"#f0f921\"]],\"type\":\"histogram2dcontour\"}],\"histogram2d\":[{\"colorbar\":{\"outlinewidth\":0,\"ticks\":\"\"},\"colorscale\":[[0.0,\"#0d0887\"],[0.1111111111111111,\"#46039f\"],[0.2222222222222222,\"#7201a8\"],[0.3333333333333333,\"#9c179e\"],[0.4444444444444444,\"#bd3786\"],[0.5555555555555556,\"#d8576b\"],[0.6666666666666666,\"#ed7953\"],[0.7777777777777778,\"#fb9f3a\"],[0.8888888888888888,\"#fdca26\"],[1.0,\"#f0f921\"]],\"type\":\"histogram2d\"}],\"histogram\":[{\"marker\":{\"pattern\":{\"fillmode\":\"overlay\",\"size\":10,\"solidity\":0.2}},\"type\":\"histogram\"}],\"mesh3d\":[{\"colorbar\":{\"outlinewidth\":0,\"ticks\":\"\"},\"type\":\"mesh3d\"}],\"parcoords\":[{\"line\":{\"colorbar\":{\"outlinewidth\":0,\"ticks\":\"\"}},\"type\":\"parcoords\"}],\"pie\":[{\"automargin\":true,\"type\":\"pie\"}],\"scatter3d\":[{\"line\":{\"colorbar\":{\"outlinewidth\":0,\"ticks\":\"\"}},\"marker\":{\"colorbar\":{\"outlinewidth\":0,\"ticks\":\"\"}},\"type\":\"scatter3d\"}],\"scattercarpet\":[{\"marker\":{\"colorbar\":{\"outlinewidth\":0,\"ticks\":\"\"}},\"type\":\"scattercarpet\"}],\"scattergeo\":[{\"marker\":{\"colorbar\":{\"outlinewidth\":0,\"ticks\":\"\"}},\"type\":\"scattergeo\"}],\"scattergl\":[{\"marker\":{\"colorbar\":{\"outlinewidth\":0,\"ticks\":\"\"}},\"type\":\"scattergl\"}],\"scattermapbox\":[{\"marker\":{\"colorbar\":{\"outlinewidth\":0,\"ticks\":\"\"}},\"type\":\"scattermapbox\"}],\"scatterpolargl\":[{\"marker\":{\"colorbar\":{\"outlinewidth\":0,\"ticks\":\"\"}},\"type\":\"scatterpolargl\"}],\"scatterpolar\":[{\"marker\":{\"colorbar\":{\"outlinewidth\":0,\"ticks\":\"\"}},\"type\":\"scatterpolar\"}],\"scatter\":[{\"fillpattern\":{\"fillmode\":\"overlay\",\"size\":10,\"solidity\":0.2},\"type\":\"scatter\"}],\"scatterternary\":[{\"marker\":{\"colorbar\":{\"outlinewidth\":0,\"ticks\":\"\"}},\"type\":\"scatterternary\"}],\"surface\":[{\"colorbar\":{\"outlinewidth\":0,\"ticks\":\"\"},\"colorscale\":[[0.0,\"#0d0887\"],[0.1111111111111111,\"#46039f\"],[0.2222222222222222,\"#7201a8\"],[0.3333333333333333,\"#9c179e\"],[0.4444444444444444,\"#bd3786\"],[0.5555555555555556,\"#d8576b\"],[0.6666666666666666,\"#ed7953\"],[0.7777777777777778,\"#fb9f3a\"],[0.8888888888888888,\"#fdca26\"],[1.0,\"#f0f921\"]],\"type\":\"surface\"}],\"table\":[{\"cells\":{\"fill\":{\"color\":\"#EBF0F8\"},\"line\":{\"color\":\"white\"}},\"header\":{\"fill\":{\"color\":\"#C8D4E3\"},\"line\":{\"color\":\"white\"}},\"type\":\"table\"}]},\"layout\":{\"annotationdefaults\":{\"arrowcolor\":\"#2a3f5f\",\"arrowhead\":0,\"arrowwidth\":1},\"autotypenumbers\":\"strict\",\"coloraxis\":{\"colorbar\":{\"outlinewidth\":0,\"ticks\":\"\"}},\"colorscale\":{\"diverging\":[[0,\"#8e0152\"],[0.1,\"#c51b7d\"],[0.2,\"#de77ae\"],[0.3,\"#f1b6da\"],[0.4,\"#fde0ef\"],[0.5,\"#f7f7f7\"],[0.6,\"#e6f5d0\"],[0.7,\"#b8e186\"],[0.8,\"#7fbc41\"],[0.9,\"#4d9221\"],[1,\"#276419\"]],\"sequential\":[[0.0,\"#0d0887\"],[0.1111111111111111,\"#46039f\"],[0.2222222222222222,\"#7201a8\"],[0.3333333333333333,\"#9c179e\"],[0.4444444444444444,\"#bd3786\"],[0.5555555555555556,\"#d8576b\"],[0.6666666666666666,\"#ed7953\"],[0.7777777777777778,\"#fb9f3a\"],[0.8888888888888888,\"#fdca26\"],[1.0,\"#f0f921\"]],\"sequentialminus\":[[0.0,\"#0d0887\"],[0.1111111111111111,\"#46039f\"],[0.2222222222222222,\"#7201a8\"],[0.3333333333333333,\"#9c179e\"],[0.4444444444444444,\"#bd3786\"],[0.5555555555555556,\"#d8576b\"],[0.6666666666666666,\"#ed7953\"],[0.7777777777777778,\"#fb9f3a\"],[0.8888888888888888,\"#fdca26\"],[1.0,\"#f0f921\"]]},\"colorway\":[\"#636efa\",\"#EF553B\",\"#00cc96\",\"#ab63fa\",\"#FFA15A\",\"#19d3f3\",\"#FF6692\",\"#B6E880\",\"#FF97FF\",\"#FECB52\"],\"font\":{\"color\":\"#2a3f5f\"},\"geo\":{\"bgcolor\":\"white\",\"lakecolor\":\"white\",\"landcolor\":\"#E5ECF6\",\"showlakes\":true,\"showland\":true,\"subunitcolor\":\"white\"},\"hoverlabel\":{\"align\":\"left\"},\"hovermode\":\"closest\",\"mapbox\":{\"style\":\"light\"},\"paper_bgcolor\":\"white\",\"plot_bgcolor\":\"#E5ECF6\",\"polar\":{\"angularaxis\":{\"gridcolor\":\"white\",\"linecolor\":\"white\",\"ticks\":\"\"},\"bgcolor\":\"#E5ECF6\",\"radialaxis\":{\"gridcolor\":\"white\",\"linecolor\":\"white\",\"ticks\":\"\"}},\"scene\":{\"xaxis\":{\"backgroundcolor\":\"#E5ECF6\",\"gridcolor\":\"white\",\"gridwidth\":2,\"linecolor\":\"white\",\"showbackground\":true,\"ticks\":\"\",\"zerolinecolor\":\"white\"},\"yaxis\":{\"backgroundcolor\":\"#E5ECF6\",\"gridcolor\":\"white\",\"gridwidth\":2,\"linecolor\":\"white\",\"showbackground\":true,\"ticks\":\"\",\"zerolinecolor\":\"white\"},\"zaxis\":{\"backgroundcolor\":\"#E5ECF6\",\"gridcolor\":\"white\",\"gridwidth\":2,\"linecolor\":\"white\",\"showbackground\":true,\"ticks\":\"\",\"zerolinecolor\":\"white\"}},\"shapedefaults\":{\"line\":{\"color\":\"#2a3f5f\"}},\"ternary\":{\"aaxis\":{\"gridcolor\":\"white\",\"linecolor\":\"white\",\"ticks\":\"\"},\"baxis\":{\"gridcolor\":\"white\",\"linecolor\":\"white\",\"ticks\":\"\"},\"bgcolor\":\"#E5ECF6\",\"caxis\":{\"gridcolor\":\"white\",\"linecolor\":\"white\",\"ticks\":\"\"}},\"title\":{\"x\":0.05},\"xaxis\":{\"automargin\":true,\"gridcolor\":\"white\",\"linecolor\":\"white\",\"ticks\":\"\",\"title\":{\"standoff\":15},\"zerolinecolor\":\"white\",\"zerolinewidth\":2},\"yaxis\":{\"automargin\":true,\"gridcolor\":\"white\",\"linecolor\":\"white\",\"ticks\":\"\",\"title\":{\"standoff\":15},\"zerolinecolor\":\"white\",\"zerolinewidth\":2}}},\"title\":{\"font\":{\"color\":\"#4D5663\"}},\"xaxis\":{\"gridcolor\":\"#E1E5ED\",\"showgrid\":true,\"tickfont\":{\"color\":\"#4D5663\"},\"title\":{\"font\":{\"color\":\"#4D5663\"},\"text\":\"\"},\"zerolinecolor\":\"#E1E5ED\"},\"yaxis\":{\"gridcolor\":\"#E1E5ED\",\"showgrid\":true,\"tickfont\":{\"color\":\"#4D5663\"},\"title\":{\"font\":{\"color\":\"#4D5663\"},\"text\":\"\"},\"zerolinecolor\":\"#E1E5ED\"}},                        {\"showLink\": true, \"linkText\": \"Export to plot.ly\", \"plotlyServerURL\": \"https://plot.ly\", \"responsive\": true}                    ).then(function(){\n",
       "                            \n",
       "var gd = document.getElementById('cc9658c9-8232-4b53-b10d-6c7c1d47a555');\n",
       "var x = new MutationObserver(function (mutations, observer) {{\n",
       "        var display = window.getComputedStyle(gd).display;\n",
       "        if (!display || display === 'none') {{\n",
       "            console.log([gd, 'removed!']);\n",
       "            Plotly.purge(gd);\n",
       "            observer.disconnect();\n",
       "        }}\n",
       "}});\n",
       "\n",
       "// Listen for the removal of the full notebook cells\n",
       "var notebookContainer = gd.closest('#notebook-container');\n",
       "if (notebookContainer) {{\n",
       "    x.observe(notebookContainer, {childList: true});\n",
       "}}\n",
       "\n",
       "// Listen for the clearing of the current output cell\n",
       "var outputEl = gd.closest('.output');\n",
       "if (outputEl) {{\n",
       "    x.observe(outputEl, {childList: true});\n",
       "}}\n",
       "\n",
       "                        })                };                });            </script>        </div>"
      ]
     },
     "metadata": {},
     "output_type": "display_data"
    }
   ],
   "source": [
    "df1[\"A\"].iplot ( kind=\"hist\" )"
   ]
  },
  {
   "cell_type": "code",
   "execution_count": 18,
   "id": "33631769",
   "metadata": {},
   "outputs": [
    {
     "data": {
      "application/vnd.plotly.v1+json": {
       "config": {
        "linkText": "Export to plot.ly",
        "plotlyServerURL": "https://plot.ly",
        "showLink": true
       },
       "data": [
        {
         "histfunc": "count",
         "histnorm": "",
         "marker": {
          "color": "rgba(255, 153, 51, 1.0)",
          "line": {
           "color": "#4D5663",
           "width": 1.3
          }
         },
         "name": "A",
         "nbinsx": 5,
         "opacity": 0.8,
         "orientation": "v",
         "type": "histogram",
         "x": [
          0.512752939029791,
          -0.3553419617198243,
          -0.27929092762229374,
          0.13715381120273906,
          -0.10561595646288185,
          -0.1599097109111184,
          -0.4979472496059992,
          0.157104113124573,
          -0.46293873496051735,
          2.485418431861522,
          -0.4516734756190726,
          -1.493458861952407,
          -0.026482791768084567,
          -0.2757463899836123,
          2.241694624786081,
          -0.5129572406266717,
          0.15252616393685708,
          1.3865506913062904,
          -0.4983345548729902,
          0.307249958853756,
          -1.128251054831078,
          -0.8075072847154674,
          -0.6363660077137355,
          -0.3713082499903116,
          1.0441461790223507,
          0.3414257868465785,
          -0.5322617919291063,
          -1.2591308173815023,
          0.7009125457086441,
          0.9967249848203381,
          0.5553427242848349,
          -0.1710629029221637,
          -0.09347269250359294,
          -0.06269091796217952,
          -0.8889925758821092,
          1.0218299933351225,
          0.8210081659849187,
          0.44322827056598846,
          -0.4184786434300998,
          -0.08940115509505929,
          0.7269703626378548,
          0.24703444042561,
          0.05660618906374495,
          -0.46715813740333273,
          0.02946942295050563,
          -2.0148452428808628,
          -1.8538320646658921,
          -0.3354297970013657,
          1.6395349929699676,
          1.8490226882208158,
          -0.1512933010494933,
          -0.5005603686679456,
          0.7287108498117928,
          1.298360623953065,
          0.05835482274762789,
          0.05404720881988463,
          1.6448478378071496,
          -0.2165273389788695,
          -0.01089034092055172,
          -0.6396922580512779,
          0.1659230506263948,
          -0.26904140973624013,
          -0.15555495444472764,
          0.9466288861187291,
          0.49900398554713205,
          -2.175214685296227,
          0.09718808811786087,
          2.708148103191192,
          -0.7877907963975526,
          -0.0014491244335431606,
          -0.11955410895494896,
          -0.012562024727582138,
          -0.38147657376126753,
          1.1364951029280372,
          -0.3185237106734018,
          -2.2316850554714165,
          -1.332370837239957,
          1.1773780023580709,
          0.02886572654773463,
          -1.345659142078511,
          0.8985612990834209,
          0.7222788050675611,
          -1.3802880760915244,
          -1.9585194457414203,
          -2.1686577556553375,
          -0.8500871395049288,
          0.10917120767171398,
          0.4795289001080743,
          1.2234004610201688,
          0.8152430704621533,
          1.0968304321670168,
          -1.4067781777797062,
          0.05849673408436882,
          0.7533432362097038,
          0.015432162011626286,
          -1.2840022615670568,
          1.0343567428530556,
          0.6022038052564009,
          -0.5734790425194495,
          -0.061518042568631644
         ]
        }
       ],
       "layout": {
        "barmode": "overlay",
        "legend": {
         "bgcolor": "#F5F6F9",
         "font": {
          "color": "#4D5663"
         }
        },
        "paper_bgcolor": "#F5F6F9",
        "plot_bgcolor": "#F5F6F9",
        "template": {
         "data": {
          "bar": [
           {
            "error_x": {
             "color": "#2a3f5f"
            },
            "error_y": {
             "color": "#2a3f5f"
            },
            "marker": {
             "line": {
              "color": "#E5ECF6",
              "width": 0.5
             },
             "pattern": {
              "fillmode": "overlay",
              "size": 10,
              "solidity": 0.2
             }
            },
            "type": "bar"
           }
          ],
          "barpolar": [
           {
            "marker": {
             "line": {
              "color": "#E5ECF6",
              "width": 0.5
             },
             "pattern": {
              "fillmode": "overlay",
              "size": 10,
              "solidity": 0.2
             }
            },
            "type": "barpolar"
           }
          ],
          "carpet": [
           {
            "aaxis": {
             "endlinecolor": "#2a3f5f",
             "gridcolor": "white",
             "linecolor": "white",
             "minorgridcolor": "white",
             "startlinecolor": "#2a3f5f"
            },
            "baxis": {
             "endlinecolor": "#2a3f5f",
             "gridcolor": "white",
             "linecolor": "white",
             "minorgridcolor": "white",
             "startlinecolor": "#2a3f5f"
            },
            "type": "carpet"
           }
          ],
          "choropleth": [
           {
            "colorbar": {
             "outlinewidth": 0,
             "ticks": ""
            },
            "type": "choropleth"
           }
          ],
          "contour": [
           {
            "colorbar": {
             "outlinewidth": 0,
             "ticks": ""
            },
            "colorscale": [
             [
              0,
              "#0d0887"
             ],
             [
              0.1111111111111111,
              "#46039f"
             ],
             [
              0.2222222222222222,
              "#7201a8"
             ],
             [
              0.3333333333333333,
              "#9c179e"
             ],
             [
              0.4444444444444444,
              "#bd3786"
             ],
             [
              0.5555555555555556,
              "#d8576b"
             ],
             [
              0.6666666666666666,
              "#ed7953"
             ],
             [
              0.7777777777777778,
              "#fb9f3a"
             ],
             [
              0.8888888888888888,
              "#fdca26"
             ],
             [
              1,
              "#f0f921"
             ]
            ],
            "type": "contour"
           }
          ],
          "contourcarpet": [
           {
            "colorbar": {
             "outlinewidth": 0,
             "ticks": ""
            },
            "type": "contourcarpet"
           }
          ],
          "heatmap": [
           {
            "colorbar": {
             "outlinewidth": 0,
             "ticks": ""
            },
            "colorscale": [
             [
              0,
              "#0d0887"
             ],
             [
              0.1111111111111111,
              "#46039f"
             ],
             [
              0.2222222222222222,
              "#7201a8"
             ],
             [
              0.3333333333333333,
              "#9c179e"
             ],
             [
              0.4444444444444444,
              "#bd3786"
             ],
             [
              0.5555555555555556,
              "#d8576b"
             ],
             [
              0.6666666666666666,
              "#ed7953"
             ],
             [
              0.7777777777777778,
              "#fb9f3a"
             ],
             [
              0.8888888888888888,
              "#fdca26"
             ],
             [
              1,
              "#f0f921"
             ]
            ],
            "type": "heatmap"
           }
          ],
          "heatmapgl": [
           {
            "colorbar": {
             "outlinewidth": 0,
             "ticks": ""
            },
            "colorscale": [
             [
              0,
              "#0d0887"
             ],
             [
              0.1111111111111111,
              "#46039f"
             ],
             [
              0.2222222222222222,
              "#7201a8"
             ],
             [
              0.3333333333333333,
              "#9c179e"
             ],
             [
              0.4444444444444444,
              "#bd3786"
             ],
             [
              0.5555555555555556,
              "#d8576b"
             ],
             [
              0.6666666666666666,
              "#ed7953"
             ],
             [
              0.7777777777777778,
              "#fb9f3a"
             ],
             [
              0.8888888888888888,
              "#fdca26"
             ],
             [
              1,
              "#f0f921"
             ]
            ],
            "type": "heatmapgl"
           }
          ],
          "histogram": [
           {
            "marker": {
             "pattern": {
              "fillmode": "overlay",
              "size": 10,
              "solidity": 0.2
             }
            },
            "type": "histogram"
           }
          ],
          "histogram2d": [
           {
            "colorbar": {
             "outlinewidth": 0,
             "ticks": ""
            },
            "colorscale": [
             [
              0,
              "#0d0887"
             ],
             [
              0.1111111111111111,
              "#46039f"
             ],
             [
              0.2222222222222222,
              "#7201a8"
             ],
             [
              0.3333333333333333,
              "#9c179e"
             ],
             [
              0.4444444444444444,
              "#bd3786"
             ],
             [
              0.5555555555555556,
              "#d8576b"
             ],
             [
              0.6666666666666666,
              "#ed7953"
             ],
             [
              0.7777777777777778,
              "#fb9f3a"
             ],
             [
              0.8888888888888888,
              "#fdca26"
             ],
             [
              1,
              "#f0f921"
             ]
            ],
            "type": "histogram2d"
           }
          ],
          "histogram2dcontour": [
           {
            "colorbar": {
             "outlinewidth": 0,
             "ticks": ""
            },
            "colorscale": [
             [
              0,
              "#0d0887"
             ],
             [
              0.1111111111111111,
              "#46039f"
             ],
             [
              0.2222222222222222,
              "#7201a8"
             ],
             [
              0.3333333333333333,
              "#9c179e"
             ],
             [
              0.4444444444444444,
              "#bd3786"
             ],
             [
              0.5555555555555556,
              "#d8576b"
             ],
             [
              0.6666666666666666,
              "#ed7953"
             ],
             [
              0.7777777777777778,
              "#fb9f3a"
             ],
             [
              0.8888888888888888,
              "#fdca26"
             ],
             [
              1,
              "#f0f921"
             ]
            ],
            "type": "histogram2dcontour"
           }
          ],
          "mesh3d": [
           {
            "colorbar": {
             "outlinewidth": 0,
             "ticks": ""
            },
            "type": "mesh3d"
           }
          ],
          "parcoords": [
           {
            "line": {
             "colorbar": {
              "outlinewidth": 0,
              "ticks": ""
             }
            },
            "type": "parcoords"
           }
          ],
          "pie": [
           {
            "automargin": true,
            "type": "pie"
           }
          ],
          "scatter": [
           {
            "fillpattern": {
             "fillmode": "overlay",
             "size": 10,
             "solidity": 0.2
            },
            "type": "scatter"
           }
          ],
          "scatter3d": [
           {
            "line": {
             "colorbar": {
              "outlinewidth": 0,
              "ticks": ""
             }
            },
            "marker": {
             "colorbar": {
              "outlinewidth": 0,
              "ticks": ""
             }
            },
            "type": "scatter3d"
           }
          ],
          "scattercarpet": [
           {
            "marker": {
             "colorbar": {
              "outlinewidth": 0,
              "ticks": ""
             }
            },
            "type": "scattercarpet"
           }
          ],
          "scattergeo": [
           {
            "marker": {
             "colorbar": {
              "outlinewidth": 0,
              "ticks": ""
             }
            },
            "type": "scattergeo"
           }
          ],
          "scattergl": [
           {
            "marker": {
             "colorbar": {
              "outlinewidth": 0,
              "ticks": ""
             }
            },
            "type": "scattergl"
           }
          ],
          "scattermapbox": [
           {
            "marker": {
             "colorbar": {
              "outlinewidth": 0,
              "ticks": ""
             }
            },
            "type": "scattermapbox"
           }
          ],
          "scatterpolar": [
           {
            "marker": {
             "colorbar": {
              "outlinewidth": 0,
              "ticks": ""
             }
            },
            "type": "scatterpolar"
           }
          ],
          "scatterpolargl": [
           {
            "marker": {
             "colorbar": {
              "outlinewidth": 0,
              "ticks": ""
             }
            },
            "type": "scatterpolargl"
           }
          ],
          "scatterternary": [
           {
            "marker": {
             "colorbar": {
              "outlinewidth": 0,
              "ticks": ""
             }
            },
            "type": "scatterternary"
           }
          ],
          "surface": [
           {
            "colorbar": {
             "outlinewidth": 0,
             "ticks": ""
            },
            "colorscale": [
             [
              0,
              "#0d0887"
             ],
             [
              0.1111111111111111,
              "#46039f"
             ],
             [
              0.2222222222222222,
              "#7201a8"
             ],
             [
              0.3333333333333333,
              "#9c179e"
             ],
             [
              0.4444444444444444,
              "#bd3786"
             ],
             [
              0.5555555555555556,
              "#d8576b"
             ],
             [
              0.6666666666666666,
              "#ed7953"
             ],
             [
              0.7777777777777778,
              "#fb9f3a"
             ],
             [
              0.8888888888888888,
              "#fdca26"
             ],
             [
              1,
              "#f0f921"
             ]
            ],
            "type": "surface"
           }
          ],
          "table": [
           {
            "cells": {
             "fill": {
              "color": "#EBF0F8"
             },
             "line": {
              "color": "white"
             }
            },
            "header": {
             "fill": {
              "color": "#C8D4E3"
             },
             "line": {
              "color": "white"
             }
            },
            "type": "table"
           }
          ]
         },
         "layout": {
          "annotationdefaults": {
           "arrowcolor": "#2a3f5f",
           "arrowhead": 0,
           "arrowwidth": 1
          },
          "autotypenumbers": "strict",
          "coloraxis": {
           "colorbar": {
            "outlinewidth": 0,
            "ticks": ""
           }
          },
          "colorscale": {
           "diverging": [
            [
             0,
             "#8e0152"
            ],
            [
             0.1,
             "#c51b7d"
            ],
            [
             0.2,
             "#de77ae"
            ],
            [
             0.3,
             "#f1b6da"
            ],
            [
             0.4,
             "#fde0ef"
            ],
            [
             0.5,
             "#f7f7f7"
            ],
            [
             0.6,
             "#e6f5d0"
            ],
            [
             0.7,
             "#b8e186"
            ],
            [
             0.8,
             "#7fbc41"
            ],
            [
             0.9,
             "#4d9221"
            ],
            [
             1,
             "#276419"
            ]
           ],
           "sequential": [
            [
             0,
             "#0d0887"
            ],
            [
             0.1111111111111111,
             "#46039f"
            ],
            [
             0.2222222222222222,
             "#7201a8"
            ],
            [
             0.3333333333333333,
             "#9c179e"
            ],
            [
             0.4444444444444444,
             "#bd3786"
            ],
            [
             0.5555555555555556,
             "#d8576b"
            ],
            [
             0.6666666666666666,
             "#ed7953"
            ],
            [
             0.7777777777777778,
             "#fb9f3a"
            ],
            [
             0.8888888888888888,
             "#fdca26"
            ],
            [
             1,
             "#f0f921"
            ]
           ],
           "sequentialminus": [
            [
             0,
             "#0d0887"
            ],
            [
             0.1111111111111111,
             "#46039f"
            ],
            [
             0.2222222222222222,
             "#7201a8"
            ],
            [
             0.3333333333333333,
             "#9c179e"
            ],
            [
             0.4444444444444444,
             "#bd3786"
            ],
            [
             0.5555555555555556,
             "#d8576b"
            ],
            [
             0.6666666666666666,
             "#ed7953"
            ],
            [
             0.7777777777777778,
             "#fb9f3a"
            ],
            [
             0.8888888888888888,
             "#fdca26"
            ],
            [
             1,
             "#f0f921"
            ]
           ]
          },
          "colorway": [
           "#636efa",
           "#EF553B",
           "#00cc96",
           "#ab63fa",
           "#FFA15A",
           "#19d3f3",
           "#FF6692",
           "#B6E880",
           "#FF97FF",
           "#FECB52"
          ],
          "font": {
           "color": "#2a3f5f"
          },
          "geo": {
           "bgcolor": "white",
           "lakecolor": "white",
           "landcolor": "#E5ECF6",
           "showlakes": true,
           "showland": true,
           "subunitcolor": "white"
          },
          "hoverlabel": {
           "align": "left"
          },
          "hovermode": "closest",
          "mapbox": {
           "style": "light"
          },
          "paper_bgcolor": "white",
          "plot_bgcolor": "#E5ECF6",
          "polar": {
           "angularaxis": {
            "gridcolor": "white",
            "linecolor": "white",
            "ticks": ""
           },
           "bgcolor": "#E5ECF6",
           "radialaxis": {
            "gridcolor": "white",
            "linecolor": "white",
            "ticks": ""
           }
          },
          "scene": {
           "xaxis": {
            "backgroundcolor": "#E5ECF6",
            "gridcolor": "white",
            "gridwidth": 2,
            "linecolor": "white",
            "showbackground": true,
            "ticks": "",
            "zerolinecolor": "white"
           },
           "yaxis": {
            "backgroundcolor": "#E5ECF6",
            "gridcolor": "white",
            "gridwidth": 2,
            "linecolor": "white",
            "showbackground": true,
            "ticks": "",
            "zerolinecolor": "white"
           },
           "zaxis": {
            "backgroundcolor": "#E5ECF6",
            "gridcolor": "white",
            "gridwidth": 2,
            "linecolor": "white",
            "showbackground": true,
            "ticks": "",
            "zerolinecolor": "white"
           }
          },
          "shapedefaults": {
           "line": {
            "color": "#2a3f5f"
           }
          },
          "ternary": {
           "aaxis": {
            "gridcolor": "white",
            "linecolor": "white",
            "ticks": ""
           },
           "baxis": {
            "gridcolor": "white",
            "linecolor": "white",
            "ticks": ""
           },
           "bgcolor": "#E5ECF6",
           "caxis": {
            "gridcolor": "white",
            "linecolor": "white",
            "ticks": ""
           }
          },
          "title": {
           "x": 0.05
          },
          "xaxis": {
           "automargin": true,
           "gridcolor": "white",
           "linecolor": "white",
           "ticks": "",
           "title": {
            "standoff": 15
           },
           "zerolinecolor": "white",
           "zerolinewidth": 2
          },
          "yaxis": {
           "automargin": true,
           "gridcolor": "white",
           "linecolor": "white",
           "ticks": "",
           "title": {
            "standoff": 15
           },
           "zerolinecolor": "white",
           "zerolinewidth": 2
          }
         }
        },
        "title": {
         "font": {
          "color": "#4D5663"
         }
        },
        "xaxis": {
         "gridcolor": "#E1E5ED",
         "showgrid": true,
         "tickfont": {
          "color": "#4D5663"
         },
         "title": {
          "font": {
           "color": "#4D5663"
          },
          "text": ""
         },
         "zerolinecolor": "#E1E5ED"
        },
        "yaxis": {
         "gridcolor": "#E1E5ED",
         "showgrid": true,
         "tickfont": {
          "color": "#4D5663"
         },
         "title": {
          "font": {
           "color": "#4D5663"
          },
          "text": ""
         },
         "zerolinecolor": "#E1E5ED"
        }
       }
      },
      "text/html": [
       "<div>                            <div id=\"578a8822-11b6-4508-b2af-7ed5c40b3a33\" class=\"plotly-graph-div\" style=\"height:525px; width:100%;\"></div>            <script type=\"text/javascript\">                require([\"plotly\"], function(Plotly) {                    window.PLOTLYENV=window.PLOTLYENV || {};\n",
       "                    window.PLOTLYENV.BASE_URL='https://plot.ly';                                    if (document.getElementById(\"578a8822-11b6-4508-b2af-7ed5c40b3a33\")) {                    Plotly.newPlot(                        \"578a8822-11b6-4508-b2af-7ed5c40b3a33\",                        [{\"histfunc\":\"count\",\"histnorm\":\"\",\"marker\":{\"color\":\"rgba(255, 153, 51, 1.0)\",\"line\":{\"color\":\"#4D5663\",\"width\":1.3}},\"name\":\"A\",\"nbinsx\":5,\"opacity\":0.8,\"orientation\":\"v\",\"x\":[0.512752939029791,-0.3553419617198243,-0.27929092762229374,0.13715381120273906,-0.10561595646288185,-0.1599097109111184,-0.4979472496059992,0.157104113124573,-0.46293873496051735,2.485418431861522,-0.4516734756190726,-1.493458861952407,-0.026482791768084567,-0.2757463899836123,2.241694624786081,-0.5129572406266717,0.15252616393685708,1.3865506913062904,-0.4983345548729902,0.307249958853756,-1.128251054831078,-0.8075072847154674,-0.6363660077137355,-0.3713082499903116,1.0441461790223507,0.3414257868465785,-0.5322617919291063,-1.2591308173815023,0.7009125457086441,0.9967249848203381,0.5553427242848349,-0.1710629029221637,-0.09347269250359294,-0.06269091796217952,-0.8889925758821092,1.0218299933351225,0.8210081659849187,0.44322827056598846,-0.4184786434300998,-0.08940115509505929,0.7269703626378548,0.24703444042561,0.05660618906374495,-0.46715813740333273,0.02946942295050563,-2.0148452428808628,-1.8538320646658921,-0.3354297970013657,1.6395349929699676,1.8490226882208158,-0.1512933010494933,-0.5005603686679456,0.7287108498117928,1.298360623953065,0.05835482274762789,0.05404720881988463,1.6448478378071496,-0.2165273389788695,-0.01089034092055172,-0.6396922580512779,0.1659230506263948,-0.26904140973624013,-0.15555495444472764,0.9466288861187291,0.49900398554713205,-2.175214685296227,0.09718808811786087,2.708148103191192,-0.7877907963975526,-0.0014491244335431606,-0.11955410895494896,-0.012562024727582138,-0.38147657376126753,1.1364951029280372,-0.3185237106734018,-2.2316850554714165,-1.332370837239957,1.1773780023580709,0.02886572654773463,-1.345659142078511,0.8985612990834209,0.7222788050675611,-1.3802880760915244,-1.9585194457414203,-2.1686577556553375,-0.8500871395049288,0.10917120767171398,0.4795289001080743,1.2234004610201688,0.8152430704621533,1.0968304321670168,-1.4067781777797062,0.05849673408436882,0.7533432362097038,0.015432162011626286,-1.2840022615670568,1.0343567428530556,0.6022038052564009,-0.5734790425194495,-0.061518042568631644],\"type\":\"histogram\"}],                        {\"barmode\":\"overlay\",\"legend\":{\"bgcolor\":\"#F5F6F9\",\"font\":{\"color\":\"#4D5663\"}},\"paper_bgcolor\":\"#F5F6F9\",\"plot_bgcolor\":\"#F5F6F9\",\"template\":{\"data\":{\"barpolar\":[{\"marker\":{\"line\":{\"color\":\"#E5ECF6\",\"width\":0.5},\"pattern\":{\"fillmode\":\"overlay\",\"size\":10,\"solidity\":0.2}},\"type\":\"barpolar\"}],\"bar\":[{\"error_x\":{\"color\":\"#2a3f5f\"},\"error_y\":{\"color\":\"#2a3f5f\"},\"marker\":{\"line\":{\"color\":\"#E5ECF6\",\"width\":0.5},\"pattern\":{\"fillmode\":\"overlay\",\"size\":10,\"solidity\":0.2}},\"type\":\"bar\"}],\"carpet\":[{\"aaxis\":{\"endlinecolor\":\"#2a3f5f\",\"gridcolor\":\"white\",\"linecolor\":\"white\",\"minorgridcolor\":\"white\",\"startlinecolor\":\"#2a3f5f\"},\"baxis\":{\"endlinecolor\":\"#2a3f5f\",\"gridcolor\":\"white\",\"linecolor\":\"white\",\"minorgridcolor\":\"white\",\"startlinecolor\":\"#2a3f5f\"},\"type\":\"carpet\"}],\"choropleth\":[{\"colorbar\":{\"outlinewidth\":0,\"ticks\":\"\"},\"type\":\"choropleth\"}],\"contourcarpet\":[{\"colorbar\":{\"outlinewidth\":0,\"ticks\":\"\"},\"type\":\"contourcarpet\"}],\"contour\":[{\"colorbar\":{\"outlinewidth\":0,\"ticks\":\"\"},\"colorscale\":[[0.0,\"#0d0887\"],[0.1111111111111111,\"#46039f\"],[0.2222222222222222,\"#7201a8\"],[0.3333333333333333,\"#9c179e\"],[0.4444444444444444,\"#bd3786\"],[0.5555555555555556,\"#d8576b\"],[0.6666666666666666,\"#ed7953\"],[0.7777777777777778,\"#fb9f3a\"],[0.8888888888888888,\"#fdca26\"],[1.0,\"#f0f921\"]],\"type\":\"contour\"}],\"heatmapgl\":[{\"colorbar\":{\"outlinewidth\":0,\"ticks\":\"\"},\"colorscale\":[[0.0,\"#0d0887\"],[0.1111111111111111,\"#46039f\"],[0.2222222222222222,\"#7201a8\"],[0.3333333333333333,\"#9c179e\"],[0.4444444444444444,\"#bd3786\"],[0.5555555555555556,\"#d8576b\"],[0.6666666666666666,\"#ed7953\"],[0.7777777777777778,\"#fb9f3a\"],[0.8888888888888888,\"#fdca26\"],[1.0,\"#f0f921\"]],\"type\":\"heatmapgl\"}],\"heatmap\":[{\"colorbar\":{\"outlinewidth\":0,\"ticks\":\"\"},\"colorscale\":[[0.0,\"#0d0887\"],[0.1111111111111111,\"#46039f\"],[0.2222222222222222,\"#7201a8\"],[0.3333333333333333,\"#9c179e\"],[0.4444444444444444,\"#bd3786\"],[0.5555555555555556,\"#d8576b\"],[0.6666666666666666,\"#ed7953\"],[0.7777777777777778,\"#fb9f3a\"],[0.8888888888888888,\"#fdca26\"],[1.0,\"#f0f921\"]],\"type\":\"heatmap\"}],\"histogram2dcontour\":[{\"colorbar\":{\"outlinewidth\":0,\"ticks\":\"\"},\"colorscale\":[[0.0,\"#0d0887\"],[0.1111111111111111,\"#46039f\"],[0.2222222222222222,\"#7201a8\"],[0.3333333333333333,\"#9c179e\"],[0.4444444444444444,\"#bd3786\"],[0.5555555555555556,\"#d8576b\"],[0.6666666666666666,\"#ed7953\"],[0.7777777777777778,\"#fb9f3a\"],[0.8888888888888888,\"#fdca26\"],[1.0,\"#f0f921\"]],\"type\":\"histogram2dcontour\"}],\"histogram2d\":[{\"colorbar\":{\"outlinewidth\":0,\"ticks\":\"\"},\"colorscale\":[[0.0,\"#0d0887\"],[0.1111111111111111,\"#46039f\"],[0.2222222222222222,\"#7201a8\"],[0.3333333333333333,\"#9c179e\"],[0.4444444444444444,\"#bd3786\"],[0.5555555555555556,\"#d8576b\"],[0.6666666666666666,\"#ed7953\"],[0.7777777777777778,\"#fb9f3a\"],[0.8888888888888888,\"#fdca26\"],[1.0,\"#f0f921\"]],\"type\":\"histogram2d\"}],\"histogram\":[{\"marker\":{\"pattern\":{\"fillmode\":\"overlay\",\"size\":10,\"solidity\":0.2}},\"type\":\"histogram\"}],\"mesh3d\":[{\"colorbar\":{\"outlinewidth\":0,\"ticks\":\"\"},\"type\":\"mesh3d\"}],\"parcoords\":[{\"line\":{\"colorbar\":{\"outlinewidth\":0,\"ticks\":\"\"}},\"type\":\"parcoords\"}],\"pie\":[{\"automargin\":true,\"type\":\"pie\"}],\"scatter3d\":[{\"line\":{\"colorbar\":{\"outlinewidth\":0,\"ticks\":\"\"}},\"marker\":{\"colorbar\":{\"outlinewidth\":0,\"ticks\":\"\"}},\"type\":\"scatter3d\"}],\"scattercarpet\":[{\"marker\":{\"colorbar\":{\"outlinewidth\":0,\"ticks\":\"\"}},\"type\":\"scattercarpet\"}],\"scattergeo\":[{\"marker\":{\"colorbar\":{\"outlinewidth\":0,\"ticks\":\"\"}},\"type\":\"scattergeo\"}],\"scattergl\":[{\"marker\":{\"colorbar\":{\"outlinewidth\":0,\"ticks\":\"\"}},\"type\":\"scattergl\"}],\"scattermapbox\":[{\"marker\":{\"colorbar\":{\"outlinewidth\":0,\"ticks\":\"\"}},\"type\":\"scattermapbox\"}],\"scatterpolargl\":[{\"marker\":{\"colorbar\":{\"outlinewidth\":0,\"ticks\":\"\"}},\"type\":\"scatterpolargl\"}],\"scatterpolar\":[{\"marker\":{\"colorbar\":{\"outlinewidth\":0,\"ticks\":\"\"}},\"type\":\"scatterpolar\"}],\"scatter\":[{\"fillpattern\":{\"fillmode\":\"overlay\",\"size\":10,\"solidity\":0.2},\"type\":\"scatter\"}],\"scatterternary\":[{\"marker\":{\"colorbar\":{\"outlinewidth\":0,\"ticks\":\"\"}},\"type\":\"scatterternary\"}],\"surface\":[{\"colorbar\":{\"outlinewidth\":0,\"ticks\":\"\"},\"colorscale\":[[0.0,\"#0d0887\"],[0.1111111111111111,\"#46039f\"],[0.2222222222222222,\"#7201a8\"],[0.3333333333333333,\"#9c179e\"],[0.4444444444444444,\"#bd3786\"],[0.5555555555555556,\"#d8576b\"],[0.6666666666666666,\"#ed7953\"],[0.7777777777777778,\"#fb9f3a\"],[0.8888888888888888,\"#fdca26\"],[1.0,\"#f0f921\"]],\"type\":\"surface\"}],\"table\":[{\"cells\":{\"fill\":{\"color\":\"#EBF0F8\"},\"line\":{\"color\":\"white\"}},\"header\":{\"fill\":{\"color\":\"#C8D4E3\"},\"line\":{\"color\":\"white\"}},\"type\":\"table\"}]},\"layout\":{\"annotationdefaults\":{\"arrowcolor\":\"#2a3f5f\",\"arrowhead\":0,\"arrowwidth\":1},\"autotypenumbers\":\"strict\",\"coloraxis\":{\"colorbar\":{\"outlinewidth\":0,\"ticks\":\"\"}},\"colorscale\":{\"diverging\":[[0,\"#8e0152\"],[0.1,\"#c51b7d\"],[0.2,\"#de77ae\"],[0.3,\"#f1b6da\"],[0.4,\"#fde0ef\"],[0.5,\"#f7f7f7\"],[0.6,\"#e6f5d0\"],[0.7,\"#b8e186\"],[0.8,\"#7fbc41\"],[0.9,\"#4d9221\"],[1,\"#276419\"]],\"sequential\":[[0.0,\"#0d0887\"],[0.1111111111111111,\"#46039f\"],[0.2222222222222222,\"#7201a8\"],[0.3333333333333333,\"#9c179e\"],[0.4444444444444444,\"#bd3786\"],[0.5555555555555556,\"#d8576b\"],[0.6666666666666666,\"#ed7953\"],[0.7777777777777778,\"#fb9f3a\"],[0.8888888888888888,\"#fdca26\"],[1.0,\"#f0f921\"]],\"sequentialminus\":[[0.0,\"#0d0887\"],[0.1111111111111111,\"#46039f\"],[0.2222222222222222,\"#7201a8\"],[0.3333333333333333,\"#9c179e\"],[0.4444444444444444,\"#bd3786\"],[0.5555555555555556,\"#d8576b\"],[0.6666666666666666,\"#ed7953\"],[0.7777777777777778,\"#fb9f3a\"],[0.8888888888888888,\"#fdca26\"],[1.0,\"#f0f921\"]]},\"colorway\":[\"#636efa\",\"#EF553B\",\"#00cc96\",\"#ab63fa\",\"#FFA15A\",\"#19d3f3\",\"#FF6692\",\"#B6E880\",\"#FF97FF\",\"#FECB52\"],\"font\":{\"color\":\"#2a3f5f\"},\"geo\":{\"bgcolor\":\"white\",\"lakecolor\":\"white\",\"landcolor\":\"#E5ECF6\",\"showlakes\":true,\"showland\":true,\"subunitcolor\":\"white\"},\"hoverlabel\":{\"align\":\"left\"},\"hovermode\":\"closest\",\"mapbox\":{\"style\":\"light\"},\"paper_bgcolor\":\"white\",\"plot_bgcolor\":\"#E5ECF6\",\"polar\":{\"angularaxis\":{\"gridcolor\":\"white\",\"linecolor\":\"white\",\"ticks\":\"\"},\"bgcolor\":\"#E5ECF6\",\"radialaxis\":{\"gridcolor\":\"white\",\"linecolor\":\"white\",\"ticks\":\"\"}},\"scene\":{\"xaxis\":{\"backgroundcolor\":\"#E5ECF6\",\"gridcolor\":\"white\",\"gridwidth\":2,\"linecolor\":\"white\",\"showbackground\":true,\"ticks\":\"\",\"zerolinecolor\":\"white\"},\"yaxis\":{\"backgroundcolor\":\"#E5ECF6\",\"gridcolor\":\"white\",\"gridwidth\":2,\"linecolor\":\"white\",\"showbackground\":true,\"ticks\":\"\",\"zerolinecolor\":\"white\"},\"zaxis\":{\"backgroundcolor\":\"#E5ECF6\",\"gridcolor\":\"white\",\"gridwidth\":2,\"linecolor\":\"white\",\"showbackground\":true,\"ticks\":\"\",\"zerolinecolor\":\"white\"}},\"shapedefaults\":{\"line\":{\"color\":\"#2a3f5f\"}},\"ternary\":{\"aaxis\":{\"gridcolor\":\"white\",\"linecolor\":\"white\",\"ticks\":\"\"},\"baxis\":{\"gridcolor\":\"white\",\"linecolor\":\"white\",\"ticks\":\"\"},\"bgcolor\":\"#E5ECF6\",\"caxis\":{\"gridcolor\":\"white\",\"linecolor\":\"white\",\"ticks\":\"\"}},\"title\":{\"x\":0.05},\"xaxis\":{\"automargin\":true,\"gridcolor\":\"white\",\"linecolor\":\"white\",\"ticks\":\"\",\"title\":{\"standoff\":15},\"zerolinecolor\":\"white\",\"zerolinewidth\":2},\"yaxis\":{\"automargin\":true,\"gridcolor\":\"white\",\"linecolor\":\"white\",\"ticks\":\"\",\"title\":{\"standoff\":15},\"zerolinecolor\":\"white\",\"zerolinewidth\":2}}},\"title\":{\"font\":{\"color\":\"#4D5663\"}},\"xaxis\":{\"gridcolor\":\"#E1E5ED\",\"showgrid\":true,\"tickfont\":{\"color\":\"#4D5663\"},\"title\":{\"font\":{\"color\":\"#4D5663\"},\"text\":\"\"},\"zerolinecolor\":\"#E1E5ED\"},\"yaxis\":{\"gridcolor\":\"#E1E5ED\",\"showgrid\":true,\"tickfont\":{\"color\":\"#4D5663\"},\"title\":{\"font\":{\"color\":\"#4D5663\"},\"text\":\"\"},\"zerolinecolor\":\"#E1E5ED\"}},                        {\"showLink\": true, \"linkText\": \"Export to plot.ly\", \"plotlyServerURL\": \"https://plot.ly\", \"responsive\": true}                    ).then(function(){\n",
       "                            \n",
       "var gd = document.getElementById('578a8822-11b6-4508-b2af-7ed5c40b3a33');\n",
       "var x = new MutationObserver(function (mutations, observer) {{\n",
       "        var display = window.getComputedStyle(gd).display;\n",
       "        if (!display || display === 'none') {{\n",
       "            console.log([gd, 'removed!']);\n",
       "            Plotly.purge(gd);\n",
       "            observer.disconnect();\n",
       "        }}\n",
       "}});\n",
       "\n",
       "// Listen for the removal of the full notebook cells\n",
       "var notebookContainer = gd.closest('#notebook-container');\n",
       "if (notebookContainer) {{\n",
       "    x.observe(notebookContainer, {childList: true});\n",
       "}}\n",
       "\n",
       "// Listen for the clearing of the current output cell\n",
       "var outputEl = gd.closest('.output');\n",
       "if (outputEl) {{\n",
       "    x.observe(outputEl, {childList: true});\n",
       "}}\n",
       "\n",
       "                        })                };                });            </script>        </div>"
      ]
     },
     "metadata": {},
     "output_type": "display_data"
    }
   ],
   "source": [
    "df1[\"A\"].iplot ( kind=\"hist\" , bins=5 )"
   ]
  },
  {
   "cell_type": "code",
   "execution_count": 19,
   "id": "30279681",
   "metadata": {},
   "outputs": [
    {
     "data": {
      "application/vnd.plotly.v1+json": {
       "config": {
        "linkText": "Export to plot.ly",
        "plotlyServerURL": "https://plot.ly",
        "showLink": true
       },
       "data": [
        {
         "histfunc": "count",
         "histnorm": "",
         "marker": {
          "color": "rgba(255, 153, 51, 1.0)",
          "line": {
           "color": "#4D5663",
           "width": 1.3
          }
         },
         "name": "A",
         "opacity": 0.8,
         "orientation": "v",
         "type": "histogram",
         "x": [
          0.512752939029791,
          -0.3553419617198243,
          -0.27929092762229374,
          0.13715381120273906,
          -0.10561595646288185,
          -0.1599097109111184,
          -0.4979472496059992,
          0.157104113124573,
          -0.46293873496051735,
          2.485418431861522,
          -0.4516734756190726,
          -1.493458861952407,
          -0.026482791768084567,
          -0.2757463899836123,
          2.241694624786081,
          -0.5129572406266717,
          0.15252616393685708,
          1.3865506913062904,
          -0.4983345548729902,
          0.307249958853756,
          -1.128251054831078,
          -0.8075072847154674,
          -0.6363660077137355,
          -0.3713082499903116,
          1.0441461790223507,
          0.3414257868465785,
          -0.5322617919291063,
          -1.2591308173815023,
          0.7009125457086441,
          0.9967249848203381,
          0.5553427242848349,
          -0.1710629029221637,
          -0.09347269250359294,
          -0.06269091796217952,
          -0.8889925758821092,
          1.0218299933351225,
          0.8210081659849187,
          0.44322827056598846,
          -0.4184786434300998,
          -0.08940115509505929,
          0.7269703626378548,
          0.24703444042561,
          0.05660618906374495,
          -0.46715813740333273,
          0.02946942295050563,
          -2.0148452428808628,
          -1.8538320646658921,
          -0.3354297970013657,
          1.6395349929699676,
          1.8490226882208158,
          -0.1512933010494933,
          -0.5005603686679456,
          0.7287108498117928,
          1.298360623953065,
          0.05835482274762789,
          0.05404720881988463,
          1.6448478378071496,
          -0.2165273389788695,
          -0.01089034092055172,
          -0.6396922580512779,
          0.1659230506263948,
          -0.26904140973624013,
          -0.15555495444472764,
          0.9466288861187291,
          0.49900398554713205,
          -2.175214685296227,
          0.09718808811786087,
          2.708148103191192,
          -0.7877907963975526,
          -0.0014491244335431606,
          -0.11955410895494896,
          -0.012562024727582138,
          -0.38147657376126753,
          1.1364951029280372,
          -0.3185237106734018,
          -2.2316850554714165,
          -1.332370837239957,
          1.1773780023580709,
          0.02886572654773463,
          -1.345659142078511,
          0.8985612990834209,
          0.7222788050675611,
          -1.3802880760915244,
          -1.9585194457414203,
          -2.1686577556553375,
          -0.8500871395049288,
          0.10917120767171398,
          0.4795289001080743,
          1.2234004610201688,
          0.8152430704621533,
          1.0968304321670168,
          -1.4067781777797062,
          0.05849673408436882,
          0.7533432362097038,
          0.015432162011626286,
          -1.2840022615670568,
          1.0343567428530556,
          0.6022038052564009,
          -0.5734790425194495,
          -0.061518042568631644
         ]
        },
        {
         "histfunc": "count",
         "histnorm": "",
         "marker": {
          "color": "rgba(55, 128, 191, 1.0)",
          "line": {
           "color": "#4D5663",
           "width": 1.3
          }
         },
         "name": "B",
         "opacity": 0.8,
         "orientation": "v",
         "type": "histogram",
         "x": [
          0.9495836228334081,
          -0.7100194112250915,
          1.650112399487089,
          0.7207073489887325,
          -0.6598783128597964,
          0.18061985623530957,
          -0.4113123196925393,
          -0.8059169160909352,
          -0.45030841232826324,
          -0.8649897640802658,
          1.0102208397481613,
          -1.0723396880437734,
          -0.6968940084156565,
          -0.8645673092942562,
          2.1955425731858553,
          -1.8863114244239756,
          0.8957455972821831,
          0.678767466446716,
          -0.8943159560446318,
          -0.09741963407826157,
          0.7654188247816236,
          -0.3061372125342001,
          0.5819132563211112,
          -0.8670704822495087,
          -1.1685354191395143,
          0.4987062070583795,
          -1.2664917103538968,
          -0.0020470918678063186,
          0.3121952440872714,
          -0.16072843272068324,
          0.11875890069643805,
          0.44986031105381663,
          -1.2372941389702115,
          -0.0699148743189868,
          0.5722458274120602,
          -0.908423657263562,
          0.9938975291952103,
          0.7958846288611234,
          2.301904816453025,
          -0.03442714273076457,
          1.9790174693194467,
          2.610010540348577,
          0.32989197333371956,
          0.8624799408253738,
          0.1139651001292569,
          0.4707004527178716,
          -1.5716325921736916,
          -0.24216538524890424,
          1.2948587449311602,
          2.4104001599038,
          0.06946876011078847,
          0.14121954910246642,
          -1.758843335651598,
          -0.34023316429089806,
          -0.615902806569471,
          0.5258757904723518,
          0.768142038676994,
          -0.6217746021507302,
          0.40561366010531047,
          0.0611695638678798,
          -0.13738126847244095,
          1.0648377553030648,
          -1.8221199689954444,
          -0.8653744519128183,
          0.6777054680280602,
          2.497494640335452,
          0.15104718570411105,
          1.6886883956295087,
          0.2150663109619358,
          1.1726393230041428,
          -0.6033410253786355,
          -1.1128029280466678,
          -1.3753978791796673,
          -1.6083436278421894,
          0.3251529185534095,
          -0.23507903877710437,
          0.6854681379288818,
          -1.041259674279969,
          -0.6804639148664574,
          0.8121246030044645,
          1.3458243345424477,
          -0.11174265897113703,
          0.8968517311317901,
          1.1561368291141871,
          0.14505918969787704,
          -0.18489325889499017,
          0.28894923373935066,
          0.9245649933210359,
          0.09791212574998187,
          1.735864656117559,
          1.8020648684561578,
          1.1660229778070796,
          1.6705341417911646,
          0.7029421504635976,
          -0.09985353358039065,
          0.6613232704319956,
          0.7436371685517646,
          -1.1581864717986816,
          -0.0517374783828689,
          0.01597140932841376
         ]
        },
        {
         "histfunc": "count",
         "histnorm": "",
         "marker": {
          "color": "rgba(50, 171, 96, 1.0)",
          "line": {
           "color": "#4D5663",
           "width": 1.3
          }
         },
         "name": "C",
         "opacity": 0.8,
         "orientation": "v",
         "type": "histogram",
         "x": [
          0.647918339125702,
          -0.6629874159950747,
          -1.365185908111771,
          -2.0075225889599912,
          0.35654496700388316,
          1.3006874023536812,
          0.6835665697629982,
          -0.1401688964319155,
          -0.5803277472699386,
          0.6923895199692292,
          0.11043568798289007,
          -2.04023863493297,
          -1.4862374677794092,
          -0.8038954840842417,
          -0.4135429899954026,
          -0.19033116277557574,
          -0.5832375643284965,
          -0.7939887159905965,
          0.6763710647834456,
          0.622834178952044,
          0.19795849857076636,
          0.9230244541099311,
          0.9102873282566336,
          -1.578134272455675,
          2.248498612388913,
          -0.618276094493357,
          -1.642332191049332,
          -0.04954032303581414,
          1.273426373834263,
          0.05231784690273851,
          0.2170359373006094,
          -0.621871739089189,
          1.7856015664211622,
          0.43911657462324843,
          -1.4061425872715332,
          -0.32187333746658625,
          -0.23938813708705242,
          1.7833946355736527,
          -0.37324468282187484,
          -1.0666543693021822,
          -1.5485146171686575,
          0.20222191754419228,
          1.5230706386496686,
          0.616125792570182,
          -0.060507670904036276,
          -1.2248084283541232,
          -0.044431380557908934,
          2.2728044609439206,
          -1.7719469687907905,
          -0.5033840112064768,
          0.3851516439195813,
          -0.46447582205570065,
          -0.41975194804749727,
          0.04487714083101872,
          -2.008098012532532,
          0.2570531685060416,
          0.4336246485117831,
          0.7873621484585646,
          -0.7858747473947723,
          -2.249721885545336,
          0.2608393620754042,
          -0.35116999546835553,
          -1.4189477335205365,
          0.2452825146149802,
          0.40435417415188973,
          0.09930232430532347,
          -1.6741987610616293,
          0.42798943237457315,
          1.1160057602750102,
          -0.08809469183071897,
          1.0374511726902327,
          0.8647984505493161,
          -2.02602321230138,
          -1.8973360600586375,
          1.3290420228656905,
          -0.08532051099166421,
          -0.1618291189602749,
          3.36589901332965,
          0.2853060111168622,
          1.4909104779129705,
          2.603046817481854,
          0.07057420879162299,
          -0.3349264401219666,
          -0.27214487332199866,
          0.11621477136899505,
          -1.9653993496117967,
          -0.6532103410624271,
          0.2363608302426708,
          0.9248339096229946,
          1.044452994302072,
          -0.568127620861377,
          0.9347943385510102,
          -1.4674844783936958,
          -0.6593242696058286,
          0.33773560085113274,
          -0.9564585499347026,
          -1.0816546603266393,
          -0.0990998967519054,
          -0.6780371610061101,
          -0.4661359234137232
         ]
        },
        {
         "histfunc": "count",
         "histnorm": "",
         "marker": {
          "color": "rgba(128, 0, 128, 1.0)",
          "line": {
           "color": "#4D5663",
           "width": 1.3
          }
         },
         "name": "D",
         "opacity": 0.8,
         "orientation": "v",
         "type": "histogram",
         "x": [
          -0.19631981906212687,
          -0.6519713807353804,
          -1.0649846722973384,
          0.2276268403009993,
          0.7048164209836024,
          -1.4446783704695936,
          -2.033750158183124,
          0.5138908127633827,
          0.5743634695953264,
          -1.3657451693518634,
          0.4637907687699757,
          1.0844078896291873,
          -0.8199961871709128,
          0.7302810084439927,
          1.1501886667067136,
          1.4068956037099702,
          1.508692417359712,
          -0.122429546415331,
          -1.2139029828276917,
          -1.3915936060875007,
          -0.3238322412559266,
          1.3434653001668608,
          -0.5185807775608965,
          -0.7107820957370212,
          -0.4464055579970659,
          -0.9606481511417176,
          -0.295817297356241,
          -0.7965590857577352,
          0.006067325117813681,
          -0.4809220256345543,
          1.028630144482865,
          -0.3991139925170933,
          0.03907052978298096,
          1.4539224977284508,
          1.2368047827803776,
          1.498742536272704,
          0.9555284868160445,
          -0.4319859168096048,
          0.07204665511014491,
          0.15138773782731127,
          -0.0016863454597473644,
          -0.66704262100987,
          0.8234927800554659,
          0.9355289432127771,
          -0.6529971281881106,
          1.5998032068698078,
          -1.158827929365611,
          -0.04136818612304619,
          1.0781454686574732,
          0.21721131798324592,
          1.534521058113346,
          -1.750652204012357,
          0.9872822474417707,
          -1.197496541939758,
          -1.0439173878772081,
          0.09596236413985537,
          -0.6568654252222857,
          0.706633110663512,
          -1.211932613051174,
          0.671873724489011,
          -0.3898892118405459,
          0.9970459716634278,
          -0.28713960225161106,
          -0.010341133054459198,
          -0.9767493981679324,
          -0.18844975221423968,
          -0.7820893042608988,
          -1.8529738370200275,
          1.4738531760079354,
          -0.23686088155185786,
          -0.8470745256434993,
          -2.05765141244495,
          0.8174144337022742,
          -1.4106119727042548,
          -0.7248926917781047,
          -0.8969630071984197,
          -0.6419860011659925,
          -0.375072540951662,
          0.17237805217223748,
          -0.5805831220436499,
          -1.0090042945869997,
          -0.360630514240928,
          0.06712082805980472,
          -1.0222964654995608,
          -1.3111878556748808,
          -0.6265000694373624,
          -0.45147531022127435,
          -1.1298686894301744,
          -1.7403524915989772,
          -0.20931072894096553,
          -0.4243133313934241,
          -0.4252201065654679,
          -0.9829243053422797,
          0.6344429869787069,
          0.4895108597241183,
          0.9515124340705648,
          -1.2456264225617408,
          -0.003231469493402177,
          -0.4297021911016993,
          -1.0168190422430656
         ]
        }
       ],
       "layout": {
        "barmode": "overlay",
        "legend": {
         "bgcolor": "#F5F6F9",
         "font": {
          "color": "#4D5663"
         }
        },
        "paper_bgcolor": "#F5F6F9",
        "plot_bgcolor": "#F5F6F9",
        "template": {
         "data": {
          "bar": [
           {
            "error_x": {
             "color": "#2a3f5f"
            },
            "error_y": {
             "color": "#2a3f5f"
            },
            "marker": {
             "line": {
              "color": "#E5ECF6",
              "width": 0.5
             },
             "pattern": {
              "fillmode": "overlay",
              "size": 10,
              "solidity": 0.2
             }
            },
            "type": "bar"
           }
          ],
          "barpolar": [
           {
            "marker": {
             "line": {
              "color": "#E5ECF6",
              "width": 0.5
             },
             "pattern": {
              "fillmode": "overlay",
              "size": 10,
              "solidity": 0.2
             }
            },
            "type": "barpolar"
           }
          ],
          "carpet": [
           {
            "aaxis": {
             "endlinecolor": "#2a3f5f",
             "gridcolor": "white",
             "linecolor": "white",
             "minorgridcolor": "white",
             "startlinecolor": "#2a3f5f"
            },
            "baxis": {
             "endlinecolor": "#2a3f5f",
             "gridcolor": "white",
             "linecolor": "white",
             "minorgridcolor": "white",
             "startlinecolor": "#2a3f5f"
            },
            "type": "carpet"
           }
          ],
          "choropleth": [
           {
            "colorbar": {
             "outlinewidth": 0,
             "ticks": ""
            },
            "type": "choropleth"
           }
          ],
          "contour": [
           {
            "colorbar": {
             "outlinewidth": 0,
             "ticks": ""
            },
            "colorscale": [
             [
              0,
              "#0d0887"
             ],
             [
              0.1111111111111111,
              "#46039f"
             ],
             [
              0.2222222222222222,
              "#7201a8"
             ],
             [
              0.3333333333333333,
              "#9c179e"
             ],
             [
              0.4444444444444444,
              "#bd3786"
             ],
             [
              0.5555555555555556,
              "#d8576b"
             ],
             [
              0.6666666666666666,
              "#ed7953"
             ],
             [
              0.7777777777777778,
              "#fb9f3a"
             ],
             [
              0.8888888888888888,
              "#fdca26"
             ],
             [
              1,
              "#f0f921"
             ]
            ],
            "type": "contour"
           }
          ],
          "contourcarpet": [
           {
            "colorbar": {
             "outlinewidth": 0,
             "ticks": ""
            },
            "type": "contourcarpet"
           }
          ],
          "heatmap": [
           {
            "colorbar": {
             "outlinewidth": 0,
             "ticks": ""
            },
            "colorscale": [
             [
              0,
              "#0d0887"
             ],
             [
              0.1111111111111111,
              "#46039f"
             ],
             [
              0.2222222222222222,
              "#7201a8"
             ],
             [
              0.3333333333333333,
              "#9c179e"
             ],
             [
              0.4444444444444444,
              "#bd3786"
             ],
             [
              0.5555555555555556,
              "#d8576b"
             ],
             [
              0.6666666666666666,
              "#ed7953"
             ],
             [
              0.7777777777777778,
              "#fb9f3a"
             ],
             [
              0.8888888888888888,
              "#fdca26"
             ],
             [
              1,
              "#f0f921"
             ]
            ],
            "type": "heatmap"
           }
          ],
          "heatmapgl": [
           {
            "colorbar": {
             "outlinewidth": 0,
             "ticks": ""
            },
            "colorscale": [
             [
              0,
              "#0d0887"
             ],
             [
              0.1111111111111111,
              "#46039f"
             ],
             [
              0.2222222222222222,
              "#7201a8"
             ],
             [
              0.3333333333333333,
              "#9c179e"
             ],
             [
              0.4444444444444444,
              "#bd3786"
             ],
             [
              0.5555555555555556,
              "#d8576b"
             ],
             [
              0.6666666666666666,
              "#ed7953"
             ],
             [
              0.7777777777777778,
              "#fb9f3a"
             ],
             [
              0.8888888888888888,
              "#fdca26"
             ],
             [
              1,
              "#f0f921"
             ]
            ],
            "type": "heatmapgl"
           }
          ],
          "histogram": [
           {
            "marker": {
             "pattern": {
              "fillmode": "overlay",
              "size": 10,
              "solidity": 0.2
             }
            },
            "type": "histogram"
           }
          ],
          "histogram2d": [
           {
            "colorbar": {
             "outlinewidth": 0,
             "ticks": ""
            },
            "colorscale": [
             [
              0,
              "#0d0887"
             ],
             [
              0.1111111111111111,
              "#46039f"
             ],
             [
              0.2222222222222222,
              "#7201a8"
             ],
             [
              0.3333333333333333,
              "#9c179e"
             ],
             [
              0.4444444444444444,
              "#bd3786"
             ],
             [
              0.5555555555555556,
              "#d8576b"
             ],
             [
              0.6666666666666666,
              "#ed7953"
             ],
             [
              0.7777777777777778,
              "#fb9f3a"
             ],
             [
              0.8888888888888888,
              "#fdca26"
             ],
             [
              1,
              "#f0f921"
             ]
            ],
            "type": "histogram2d"
           }
          ],
          "histogram2dcontour": [
           {
            "colorbar": {
             "outlinewidth": 0,
             "ticks": ""
            },
            "colorscale": [
             [
              0,
              "#0d0887"
             ],
             [
              0.1111111111111111,
              "#46039f"
             ],
             [
              0.2222222222222222,
              "#7201a8"
             ],
             [
              0.3333333333333333,
              "#9c179e"
             ],
             [
              0.4444444444444444,
              "#bd3786"
             ],
             [
              0.5555555555555556,
              "#d8576b"
             ],
             [
              0.6666666666666666,
              "#ed7953"
             ],
             [
              0.7777777777777778,
              "#fb9f3a"
             ],
             [
              0.8888888888888888,
              "#fdca26"
             ],
             [
              1,
              "#f0f921"
             ]
            ],
            "type": "histogram2dcontour"
           }
          ],
          "mesh3d": [
           {
            "colorbar": {
             "outlinewidth": 0,
             "ticks": ""
            },
            "type": "mesh3d"
           }
          ],
          "parcoords": [
           {
            "line": {
             "colorbar": {
              "outlinewidth": 0,
              "ticks": ""
             }
            },
            "type": "parcoords"
           }
          ],
          "pie": [
           {
            "automargin": true,
            "type": "pie"
           }
          ],
          "scatter": [
           {
            "fillpattern": {
             "fillmode": "overlay",
             "size": 10,
             "solidity": 0.2
            },
            "type": "scatter"
           }
          ],
          "scatter3d": [
           {
            "line": {
             "colorbar": {
              "outlinewidth": 0,
              "ticks": ""
             }
            },
            "marker": {
             "colorbar": {
              "outlinewidth": 0,
              "ticks": ""
             }
            },
            "type": "scatter3d"
           }
          ],
          "scattercarpet": [
           {
            "marker": {
             "colorbar": {
              "outlinewidth": 0,
              "ticks": ""
             }
            },
            "type": "scattercarpet"
           }
          ],
          "scattergeo": [
           {
            "marker": {
             "colorbar": {
              "outlinewidth": 0,
              "ticks": ""
             }
            },
            "type": "scattergeo"
           }
          ],
          "scattergl": [
           {
            "marker": {
             "colorbar": {
              "outlinewidth": 0,
              "ticks": ""
             }
            },
            "type": "scattergl"
           }
          ],
          "scattermapbox": [
           {
            "marker": {
             "colorbar": {
              "outlinewidth": 0,
              "ticks": ""
             }
            },
            "type": "scattermapbox"
           }
          ],
          "scatterpolar": [
           {
            "marker": {
             "colorbar": {
              "outlinewidth": 0,
              "ticks": ""
             }
            },
            "type": "scatterpolar"
           }
          ],
          "scatterpolargl": [
           {
            "marker": {
             "colorbar": {
              "outlinewidth": 0,
              "ticks": ""
             }
            },
            "type": "scatterpolargl"
           }
          ],
          "scatterternary": [
           {
            "marker": {
             "colorbar": {
              "outlinewidth": 0,
              "ticks": ""
             }
            },
            "type": "scatterternary"
           }
          ],
          "surface": [
           {
            "colorbar": {
             "outlinewidth": 0,
             "ticks": ""
            },
            "colorscale": [
             [
              0,
              "#0d0887"
             ],
             [
              0.1111111111111111,
              "#46039f"
             ],
             [
              0.2222222222222222,
              "#7201a8"
             ],
             [
              0.3333333333333333,
              "#9c179e"
             ],
             [
              0.4444444444444444,
              "#bd3786"
             ],
             [
              0.5555555555555556,
              "#d8576b"
             ],
             [
              0.6666666666666666,
              "#ed7953"
             ],
             [
              0.7777777777777778,
              "#fb9f3a"
             ],
             [
              0.8888888888888888,
              "#fdca26"
             ],
             [
              1,
              "#f0f921"
             ]
            ],
            "type": "surface"
           }
          ],
          "table": [
           {
            "cells": {
             "fill": {
              "color": "#EBF0F8"
             },
             "line": {
              "color": "white"
             }
            },
            "header": {
             "fill": {
              "color": "#C8D4E3"
             },
             "line": {
              "color": "white"
             }
            },
            "type": "table"
           }
          ]
         },
         "layout": {
          "annotationdefaults": {
           "arrowcolor": "#2a3f5f",
           "arrowhead": 0,
           "arrowwidth": 1
          },
          "autotypenumbers": "strict",
          "coloraxis": {
           "colorbar": {
            "outlinewidth": 0,
            "ticks": ""
           }
          },
          "colorscale": {
           "diverging": [
            [
             0,
             "#8e0152"
            ],
            [
             0.1,
             "#c51b7d"
            ],
            [
             0.2,
             "#de77ae"
            ],
            [
             0.3,
             "#f1b6da"
            ],
            [
             0.4,
             "#fde0ef"
            ],
            [
             0.5,
             "#f7f7f7"
            ],
            [
             0.6,
             "#e6f5d0"
            ],
            [
             0.7,
             "#b8e186"
            ],
            [
             0.8,
             "#7fbc41"
            ],
            [
             0.9,
             "#4d9221"
            ],
            [
             1,
             "#276419"
            ]
           ],
           "sequential": [
            [
             0,
             "#0d0887"
            ],
            [
             0.1111111111111111,
             "#46039f"
            ],
            [
             0.2222222222222222,
             "#7201a8"
            ],
            [
             0.3333333333333333,
             "#9c179e"
            ],
            [
             0.4444444444444444,
             "#bd3786"
            ],
            [
             0.5555555555555556,
             "#d8576b"
            ],
            [
             0.6666666666666666,
             "#ed7953"
            ],
            [
             0.7777777777777778,
             "#fb9f3a"
            ],
            [
             0.8888888888888888,
             "#fdca26"
            ],
            [
             1,
             "#f0f921"
            ]
           ],
           "sequentialminus": [
            [
             0,
             "#0d0887"
            ],
            [
             0.1111111111111111,
             "#46039f"
            ],
            [
             0.2222222222222222,
             "#7201a8"
            ],
            [
             0.3333333333333333,
             "#9c179e"
            ],
            [
             0.4444444444444444,
             "#bd3786"
            ],
            [
             0.5555555555555556,
             "#d8576b"
            ],
            [
             0.6666666666666666,
             "#ed7953"
            ],
            [
             0.7777777777777778,
             "#fb9f3a"
            ],
            [
             0.8888888888888888,
             "#fdca26"
            ],
            [
             1,
             "#f0f921"
            ]
           ]
          },
          "colorway": [
           "#636efa",
           "#EF553B",
           "#00cc96",
           "#ab63fa",
           "#FFA15A",
           "#19d3f3",
           "#FF6692",
           "#B6E880",
           "#FF97FF",
           "#FECB52"
          ],
          "font": {
           "color": "#2a3f5f"
          },
          "geo": {
           "bgcolor": "white",
           "lakecolor": "white",
           "landcolor": "#E5ECF6",
           "showlakes": true,
           "showland": true,
           "subunitcolor": "white"
          },
          "hoverlabel": {
           "align": "left"
          },
          "hovermode": "closest",
          "mapbox": {
           "style": "light"
          },
          "paper_bgcolor": "white",
          "plot_bgcolor": "#E5ECF6",
          "polar": {
           "angularaxis": {
            "gridcolor": "white",
            "linecolor": "white",
            "ticks": ""
           },
           "bgcolor": "#E5ECF6",
           "radialaxis": {
            "gridcolor": "white",
            "linecolor": "white",
            "ticks": ""
           }
          },
          "scene": {
           "xaxis": {
            "backgroundcolor": "#E5ECF6",
            "gridcolor": "white",
            "gridwidth": 2,
            "linecolor": "white",
            "showbackground": true,
            "ticks": "",
            "zerolinecolor": "white"
           },
           "yaxis": {
            "backgroundcolor": "#E5ECF6",
            "gridcolor": "white",
            "gridwidth": 2,
            "linecolor": "white",
            "showbackground": true,
            "ticks": "",
            "zerolinecolor": "white"
           },
           "zaxis": {
            "backgroundcolor": "#E5ECF6",
            "gridcolor": "white",
            "gridwidth": 2,
            "linecolor": "white",
            "showbackground": true,
            "ticks": "",
            "zerolinecolor": "white"
           }
          },
          "shapedefaults": {
           "line": {
            "color": "#2a3f5f"
           }
          },
          "ternary": {
           "aaxis": {
            "gridcolor": "white",
            "linecolor": "white",
            "ticks": ""
           },
           "baxis": {
            "gridcolor": "white",
            "linecolor": "white",
            "ticks": ""
           },
           "bgcolor": "#E5ECF6",
           "caxis": {
            "gridcolor": "white",
            "linecolor": "white",
            "ticks": ""
           }
          },
          "title": {
           "x": 0.05
          },
          "xaxis": {
           "automargin": true,
           "gridcolor": "white",
           "linecolor": "white",
           "ticks": "",
           "title": {
            "standoff": 15
           },
           "zerolinecolor": "white",
           "zerolinewidth": 2
          },
          "yaxis": {
           "automargin": true,
           "gridcolor": "white",
           "linecolor": "white",
           "ticks": "",
           "title": {
            "standoff": 15
           },
           "zerolinecolor": "white",
           "zerolinewidth": 2
          }
         }
        },
        "title": {
         "font": {
          "color": "#4D5663"
         }
        },
        "xaxis": {
         "gridcolor": "#E1E5ED",
         "showgrid": true,
         "tickfont": {
          "color": "#4D5663"
         },
         "title": {
          "font": {
           "color": "#4D5663"
          },
          "text": ""
         },
         "zerolinecolor": "#E1E5ED"
        },
        "yaxis": {
         "gridcolor": "#E1E5ED",
         "showgrid": true,
         "tickfont": {
          "color": "#4D5663"
         },
         "title": {
          "font": {
           "color": "#4D5663"
          },
          "text": ""
         },
         "zerolinecolor": "#E1E5ED"
        }
       }
      },
      "text/html": [
       "<div>                            <div id=\"e162988e-dc3b-46cd-9ace-94e0f3c79249\" class=\"plotly-graph-div\" style=\"height:525px; width:100%;\"></div>            <script type=\"text/javascript\">                require([\"plotly\"], function(Plotly) {                    window.PLOTLYENV=window.PLOTLYENV || {};\n",
       "                    window.PLOTLYENV.BASE_URL='https://plot.ly';                                    if (document.getElementById(\"e162988e-dc3b-46cd-9ace-94e0f3c79249\")) {                    Plotly.newPlot(                        \"e162988e-dc3b-46cd-9ace-94e0f3c79249\",                        [{\"histfunc\":\"count\",\"histnorm\":\"\",\"marker\":{\"color\":\"rgba(255, 153, 51, 1.0)\",\"line\":{\"color\":\"#4D5663\",\"width\":1.3}},\"name\":\"A\",\"opacity\":0.8,\"orientation\":\"v\",\"x\":[0.512752939029791,-0.3553419617198243,-0.27929092762229374,0.13715381120273906,-0.10561595646288185,-0.1599097109111184,-0.4979472496059992,0.157104113124573,-0.46293873496051735,2.485418431861522,-0.4516734756190726,-1.493458861952407,-0.026482791768084567,-0.2757463899836123,2.241694624786081,-0.5129572406266717,0.15252616393685708,1.3865506913062904,-0.4983345548729902,0.307249958853756,-1.128251054831078,-0.8075072847154674,-0.6363660077137355,-0.3713082499903116,1.0441461790223507,0.3414257868465785,-0.5322617919291063,-1.2591308173815023,0.7009125457086441,0.9967249848203381,0.5553427242848349,-0.1710629029221637,-0.09347269250359294,-0.06269091796217952,-0.8889925758821092,1.0218299933351225,0.8210081659849187,0.44322827056598846,-0.4184786434300998,-0.08940115509505929,0.7269703626378548,0.24703444042561,0.05660618906374495,-0.46715813740333273,0.02946942295050563,-2.0148452428808628,-1.8538320646658921,-0.3354297970013657,1.6395349929699676,1.8490226882208158,-0.1512933010494933,-0.5005603686679456,0.7287108498117928,1.298360623953065,0.05835482274762789,0.05404720881988463,1.6448478378071496,-0.2165273389788695,-0.01089034092055172,-0.6396922580512779,0.1659230506263948,-0.26904140973624013,-0.15555495444472764,0.9466288861187291,0.49900398554713205,-2.175214685296227,0.09718808811786087,2.708148103191192,-0.7877907963975526,-0.0014491244335431606,-0.11955410895494896,-0.012562024727582138,-0.38147657376126753,1.1364951029280372,-0.3185237106734018,-2.2316850554714165,-1.332370837239957,1.1773780023580709,0.02886572654773463,-1.345659142078511,0.8985612990834209,0.7222788050675611,-1.3802880760915244,-1.9585194457414203,-2.1686577556553375,-0.8500871395049288,0.10917120767171398,0.4795289001080743,1.2234004610201688,0.8152430704621533,1.0968304321670168,-1.4067781777797062,0.05849673408436882,0.7533432362097038,0.015432162011626286,-1.2840022615670568,1.0343567428530556,0.6022038052564009,-0.5734790425194495,-0.061518042568631644],\"type\":\"histogram\"},{\"histfunc\":\"count\",\"histnorm\":\"\",\"marker\":{\"color\":\"rgba(55, 128, 191, 1.0)\",\"line\":{\"color\":\"#4D5663\",\"width\":1.3}},\"name\":\"B\",\"opacity\":0.8,\"orientation\":\"v\",\"x\":[0.9495836228334081,-0.7100194112250915,1.650112399487089,0.7207073489887325,-0.6598783128597964,0.18061985623530957,-0.4113123196925393,-0.8059169160909352,-0.45030841232826324,-0.8649897640802658,1.0102208397481613,-1.0723396880437734,-0.6968940084156565,-0.8645673092942562,2.1955425731858553,-1.8863114244239756,0.8957455972821831,0.678767466446716,-0.8943159560446318,-0.09741963407826157,0.7654188247816236,-0.3061372125342001,0.5819132563211112,-0.8670704822495087,-1.1685354191395143,0.4987062070583795,-1.2664917103538968,-0.0020470918678063186,0.3121952440872714,-0.16072843272068324,0.11875890069643805,0.44986031105381663,-1.2372941389702115,-0.0699148743189868,0.5722458274120602,-0.908423657263562,0.9938975291952103,0.7958846288611234,2.301904816453025,-0.03442714273076457,1.9790174693194467,2.610010540348577,0.32989197333371956,0.8624799408253738,0.1139651001292569,0.4707004527178716,-1.5716325921736916,-0.24216538524890424,1.2948587449311602,2.4104001599038,0.06946876011078847,0.14121954910246642,-1.758843335651598,-0.34023316429089806,-0.615902806569471,0.5258757904723518,0.768142038676994,-0.6217746021507302,0.40561366010531047,0.0611695638678798,-0.13738126847244095,1.0648377553030648,-1.8221199689954444,-0.8653744519128183,0.6777054680280602,2.497494640335452,0.15104718570411105,1.6886883956295087,0.2150663109619358,1.1726393230041428,-0.6033410253786355,-1.1128029280466678,-1.3753978791796673,-1.6083436278421894,0.3251529185534095,-0.23507903877710437,0.6854681379288818,-1.041259674279969,-0.6804639148664574,0.8121246030044645,1.3458243345424477,-0.11174265897113703,0.8968517311317901,1.1561368291141871,0.14505918969787704,-0.18489325889499017,0.28894923373935066,0.9245649933210359,0.09791212574998187,1.735864656117559,1.8020648684561578,1.1660229778070796,1.6705341417911646,0.7029421504635976,-0.09985353358039065,0.6613232704319956,0.7436371685517646,-1.1581864717986816,-0.0517374783828689,0.01597140932841376],\"type\":\"histogram\"},{\"histfunc\":\"count\",\"histnorm\":\"\",\"marker\":{\"color\":\"rgba(50, 171, 96, 1.0)\",\"line\":{\"color\":\"#4D5663\",\"width\":1.3}},\"name\":\"C\",\"opacity\":0.8,\"orientation\":\"v\",\"x\":[0.647918339125702,-0.6629874159950747,-1.365185908111771,-2.0075225889599912,0.35654496700388316,1.3006874023536812,0.6835665697629982,-0.1401688964319155,-0.5803277472699386,0.6923895199692292,0.11043568798289007,-2.04023863493297,-1.4862374677794092,-0.8038954840842417,-0.4135429899954026,-0.19033116277557574,-0.5832375643284965,-0.7939887159905965,0.6763710647834456,0.622834178952044,0.19795849857076636,0.9230244541099311,0.9102873282566336,-1.578134272455675,2.248498612388913,-0.618276094493357,-1.642332191049332,-0.04954032303581414,1.273426373834263,0.05231784690273851,0.2170359373006094,-0.621871739089189,1.7856015664211622,0.43911657462324843,-1.4061425872715332,-0.32187333746658625,-0.23938813708705242,1.7833946355736527,-0.37324468282187484,-1.0666543693021822,-1.5485146171686575,0.20222191754419228,1.5230706386496686,0.616125792570182,-0.060507670904036276,-1.2248084283541232,-0.044431380557908934,2.2728044609439206,-1.7719469687907905,-0.5033840112064768,0.3851516439195813,-0.46447582205570065,-0.41975194804749727,0.04487714083101872,-2.008098012532532,0.2570531685060416,0.4336246485117831,0.7873621484585646,-0.7858747473947723,-2.249721885545336,0.2608393620754042,-0.35116999546835553,-1.4189477335205365,0.2452825146149802,0.40435417415188973,0.09930232430532347,-1.6741987610616293,0.42798943237457315,1.1160057602750102,-0.08809469183071897,1.0374511726902327,0.8647984505493161,-2.02602321230138,-1.8973360600586375,1.3290420228656905,-0.08532051099166421,-0.1618291189602749,3.36589901332965,0.2853060111168622,1.4909104779129705,2.603046817481854,0.07057420879162299,-0.3349264401219666,-0.27214487332199866,0.11621477136899505,-1.9653993496117967,-0.6532103410624271,0.2363608302426708,0.9248339096229946,1.044452994302072,-0.568127620861377,0.9347943385510102,-1.4674844783936958,-0.6593242696058286,0.33773560085113274,-0.9564585499347026,-1.0816546603266393,-0.0990998967519054,-0.6780371610061101,-0.4661359234137232],\"type\":\"histogram\"},{\"histfunc\":\"count\",\"histnorm\":\"\",\"marker\":{\"color\":\"rgba(128, 0, 128, 1.0)\",\"line\":{\"color\":\"#4D5663\",\"width\":1.3}},\"name\":\"D\",\"opacity\":0.8,\"orientation\":\"v\",\"x\":[-0.19631981906212687,-0.6519713807353804,-1.0649846722973384,0.2276268403009993,0.7048164209836024,-1.4446783704695936,-2.033750158183124,0.5138908127633827,0.5743634695953264,-1.3657451693518634,0.4637907687699757,1.0844078896291873,-0.8199961871709128,0.7302810084439927,1.1501886667067136,1.4068956037099702,1.508692417359712,-0.122429546415331,-1.2139029828276917,-1.3915936060875007,-0.3238322412559266,1.3434653001668608,-0.5185807775608965,-0.7107820957370212,-0.4464055579970659,-0.9606481511417176,-0.295817297356241,-0.7965590857577352,0.006067325117813681,-0.4809220256345543,1.028630144482865,-0.3991139925170933,0.03907052978298096,1.4539224977284508,1.2368047827803776,1.498742536272704,0.9555284868160445,-0.4319859168096048,0.07204665511014491,0.15138773782731127,-0.0016863454597473644,-0.66704262100987,0.8234927800554659,0.9355289432127771,-0.6529971281881106,1.5998032068698078,-1.158827929365611,-0.04136818612304619,1.0781454686574732,0.21721131798324592,1.534521058113346,-1.750652204012357,0.9872822474417707,-1.197496541939758,-1.0439173878772081,0.09596236413985537,-0.6568654252222857,0.706633110663512,-1.211932613051174,0.671873724489011,-0.3898892118405459,0.9970459716634278,-0.28713960225161106,-0.010341133054459198,-0.9767493981679324,-0.18844975221423968,-0.7820893042608988,-1.8529738370200275,1.4738531760079354,-0.23686088155185786,-0.8470745256434993,-2.05765141244495,0.8174144337022742,-1.4106119727042548,-0.7248926917781047,-0.8969630071984197,-0.6419860011659925,-0.375072540951662,0.17237805217223748,-0.5805831220436499,-1.0090042945869997,-0.360630514240928,0.06712082805980472,-1.0222964654995608,-1.3111878556748808,-0.6265000694373624,-0.45147531022127435,-1.1298686894301744,-1.7403524915989772,-0.20931072894096553,-0.4243133313934241,-0.4252201065654679,-0.9829243053422797,0.6344429869787069,0.4895108597241183,0.9515124340705648,-1.2456264225617408,-0.003231469493402177,-0.4297021911016993,-1.0168190422430656],\"type\":\"histogram\"}],                        {\"barmode\":\"overlay\",\"legend\":{\"bgcolor\":\"#F5F6F9\",\"font\":{\"color\":\"#4D5663\"}},\"paper_bgcolor\":\"#F5F6F9\",\"plot_bgcolor\":\"#F5F6F9\",\"template\":{\"data\":{\"barpolar\":[{\"marker\":{\"line\":{\"color\":\"#E5ECF6\",\"width\":0.5},\"pattern\":{\"fillmode\":\"overlay\",\"size\":10,\"solidity\":0.2}},\"type\":\"barpolar\"}],\"bar\":[{\"error_x\":{\"color\":\"#2a3f5f\"},\"error_y\":{\"color\":\"#2a3f5f\"},\"marker\":{\"line\":{\"color\":\"#E5ECF6\",\"width\":0.5},\"pattern\":{\"fillmode\":\"overlay\",\"size\":10,\"solidity\":0.2}},\"type\":\"bar\"}],\"carpet\":[{\"aaxis\":{\"endlinecolor\":\"#2a3f5f\",\"gridcolor\":\"white\",\"linecolor\":\"white\",\"minorgridcolor\":\"white\",\"startlinecolor\":\"#2a3f5f\"},\"baxis\":{\"endlinecolor\":\"#2a3f5f\",\"gridcolor\":\"white\",\"linecolor\":\"white\",\"minorgridcolor\":\"white\",\"startlinecolor\":\"#2a3f5f\"},\"type\":\"carpet\"}],\"choropleth\":[{\"colorbar\":{\"outlinewidth\":0,\"ticks\":\"\"},\"type\":\"choropleth\"}],\"contourcarpet\":[{\"colorbar\":{\"outlinewidth\":0,\"ticks\":\"\"},\"type\":\"contourcarpet\"}],\"contour\":[{\"colorbar\":{\"outlinewidth\":0,\"ticks\":\"\"},\"colorscale\":[[0.0,\"#0d0887\"],[0.1111111111111111,\"#46039f\"],[0.2222222222222222,\"#7201a8\"],[0.3333333333333333,\"#9c179e\"],[0.4444444444444444,\"#bd3786\"],[0.5555555555555556,\"#d8576b\"],[0.6666666666666666,\"#ed7953\"],[0.7777777777777778,\"#fb9f3a\"],[0.8888888888888888,\"#fdca26\"],[1.0,\"#f0f921\"]],\"type\":\"contour\"}],\"heatmapgl\":[{\"colorbar\":{\"outlinewidth\":0,\"ticks\":\"\"},\"colorscale\":[[0.0,\"#0d0887\"],[0.1111111111111111,\"#46039f\"],[0.2222222222222222,\"#7201a8\"],[0.3333333333333333,\"#9c179e\"],[0.4444444444444444,\"#bd3786\"],[0.5555555555555556,\"#d8576b\"],[0.6666666666666666,\"#ed7953\"],[0.7777777777777778,\"#fb9f3a\"],[0.8888888888888888,\"#fdca26\"],[1.0,\"#f0f921\"]],\"type\":\"heatmapgl\"}],\"heatmap\":[{\"colorbar\":{\"outlinewidth\":0,\"ticks\":\"\"},\"colorscale\":[[0.0,\"#0d0887\"],[0.1111111111111111,\"#46039f\"],[0.2222222222222222,\"#7201a8\"],[0.3333333333333333,\"#9c179e\"],[0.4444444444444444,\"#bd3786\"],[0.5555555555555556,\"#d8576b\"],[0.6666666666666666,\"#ed7953\"],[0.7777777777777778,\"#fb9f3a\"],[0.8888888888888888,\"#fdca26\"],[1.0,\"#f0f921\"]],\"type\":\"heatmap\"}],\"histogram2dcontour\":[{\"colorbar\":{\"outlinewidth\":0,\"ticks\":\"\"},\"colorscale\":[[0.0,\"#0d0887\"],[0.1111111111111111,\"#46039f\"],[0.2222222222222222,\"#7201a8\"],[0.3333333333333333,\"#9c179e\"],[0.4444444444444444,\"#bd3786\"],[0.5555555555555556,\"#d8576b\"],[0.6666666666666666,\"#ed7953\"],[0.7777777777777778,\"#fb9f3a\"],[0.8888888888888888,\"#fdca26\"],[1.0,\"#f0f921\"]],\"type\":\"histogram2dcontour\"}],\"histogram2d\":[{\"colorbar\":{\"outlinewidth\":0,\"ticks\":\"\"},\"colorscale\":[[0.0,\"#0d0887\"],[0.1111111111111111,\"#46039f\"],[0.2222222222222222,\"#7201a8\"],[0.3333333333333333,\"#9c179e\"],[0.4444444444444444,\"#bd3786\"],[0.5555555555555556,\"#d8576b\"],[0.6666666666666666,\"#ed7953\"],[0.7777777777777778,\"#fb9f3a\"],[0.8888888888888888,\"#fdca26\"],[1.0,\"#f0f921\"]],\"type\":\"histogram2d\"}],\"histogram\":[{\"marker\":{\"pattern\":{\"fillmode\":\"overlay\",\"size\":10,\"solidity\":0.2}},\"type\":\"histogram\"}],\"mesh3d\":[{\"colorbar\":{\"outlinewidth\":0,\"ticks\":\"\"},\"type\":\"mesh3d\"}],\"parcoords\":[{\"line\":{\"colorbar\":{\"outlinewidth\":0,\"ticks\":\"\"}},\"type\":\"parcoords\"}],\"pie\":[{\"automargin\":true,\"type\":\"pie\"}],\"scatter3d\":[{\"line\":{\"colorbar\":{\"outlinewidth\":0,\"ticks\":\"\"}},\"marker\":{\"colorbar\":{\"outlinewidth\":0,\"ticks\":\"\"}},\"type\":\"scatter3d\"}],\"scattercarpet\":[{\"marker\":{\"colorbar\":{\"outlinewidth\":0,\"ticks\":\"\"}},\"type\":\"scattercarpet\"}],\"scattergeo\":[{\"marker\":{\"colorbar\":{\"outlinewidth\":0,\"ticks\":\"\"}},\"type\":\"scattergeo\"}],\"scattergl\":[{\"marker\":{\"colorbar\":{\"outlinewidth\":0,\"ticks\":\"\"}},\"type\":\"scattergl\"}],\"scattermapbox\":[{\"marker\":{\"colorbar\":{\"outlinewidth\":0,\"ticks\":\"\"}},\"type\":\"scattermapbox\"}],\"scatterpolargl\":[{\"marker\":{\"colorbar\":{\"outlinewidth\":0,\"ticks\":\"\"}},\"type\":\"scatterpolargl\"}],\"scatterpolar\":[{\"marker\":{\"colorbar\":{\"outlinewidth\":0,\"ticks\":\"\"}},\"type\":\"scatterpolar\"}],\"scatter\":[{\"fillpattern\":{\"fillmode\":\"overlay\",\"size\":10,\"solidity\":0.2},\"type\":\"scatter\"}],\"scatterternary\":[{\"marker\":{\"colorbar\":{\"outlinewidth\":0,\"ticks\":\"\"}},\"type\":\"scatterternary\"}],\"surface\":[{\"colorbar\":{\"outlinewidth\":0,\"ticks\":\"\"},\"colorscale\":[[0.0,\"#0d0887\"],[0.1111111111111111,\"#46039f\"],[0.2222222222222222,\"#7201a8\"],[0.3333333333333333,\"#9c179e\"],[0.4444444444444444,\"#bd3786\"],[0.5555555555555556,\"#d8576b\"],[0.6666666666666666,\"#ed7953\"],[0.7777777777777778,\"#fb9f3a\"],[0.8888888888888888,\"#fdca26\"],[1.0,\"#f0f921\"]],\"type\":\"surface\"}],\"table\":[{\"cells\":{\"fill\":{\"color\":\"#EBF0F8\"},\"line\":{\"color\":\"white\"}},\"header\":{\"fill\":{\"color\":\"#C8D4E3\"},\"line\":{\"color\":\"white\"}},\"type\":\"table\"}]},\"layout\":{\"annotationdefaults\":{\"arrowcolor\":\"#2a3f5f\",\"arrowhead\":0,\"arrowwidth\":1},\"autotypenumbers\":\"strict\",\"coloraxis\":{\"colorbar\":{\"outlinewidth\":0,\"ticks\":\"\"}},\"colorscale\":{\"diverging\":[[0,\"#8e0152\"],[0.1,\"#c51b7d\"],[0.2,\"#de77ae\"],[0.3,\"#f1b6da\"],[0.4,\"#fde0ef\"],[0.5,\"#f7f7f7\"],[0.6,\"#e6f5d0\"],[0.7,\"#b8e186\"],[0.8,\"#7fbc41\"],[0.9,\"#4d9221\"],[1,\"#276419\"]],\"sequential\":[[0.0,\"#0d0887\"],[0.1111111111111111,\"#46039f\"],[0.2222222222222222,\"#7201a8\"],[0.3333333333333333,\"#9c179e\"],[0.4444444444444444,\"#bd3786\"],[0.5555555555555556,\"#d8576b\"],[0.6666666666666666,\"#ed7953\"],[0.7777777777777778,\"#fb9f3a\"],[0.8888888888888888,\"#fdca26\"],[1.0,\"#f0f921\"]],\"sequentialminus\":[[0.0,\"#0d0887\"],[0.1111111111111111,\"#46039f\"],[0.2222222222222222,\"#7201a8\"],[0.3333333333333333,\"#9c179e\"],[0.4444444444444444,\"#bd3786\"],[0.5555555555555556,\"#d8576b\"],[0.6666666666666666,\"#ed7953\"],[0.7777777777777778,\"#fb9f3a\"],[0.8888888888888888,\"#fdca26\"],[1.0,\"#f0f921\"]]},\"colorway\":[\"#636efa\",\"#EF553B\",\"#00cc96\",\"#ab63fa\",\"#FFA15A\",\"#19d3f3\",\"#FF6692\",\"#B6E880\",\"#FF97FF\",\"#FECB52\"],\"font\":{\"color\":\"#2a3f5f\"},\"geo\":{\"bgcolor\":\"white\",\"lakecolor\":\"white\",\"landcolor\":\"#E5ECF6\",\"showlakes\":true,\"showland\":true,\"subunitcolor\":\"white\"},\"hoverlabel\":{\"align\":\"left\"},\"hovermode\":\"closest\",\"mapbox\":{\"style\":\"light\"},\"paper_bgcolor\":\"white\",\"plot_bgcolor\":\"#E5ECF6\",\"polar\":{\"angularaxis\":{\"gridcolor\":\"white\",\"linecolor\":\"white\",\"ticks\":\"\"},\"bgcolor\":\"#E5ECF6\",\"radialaxis\":{\"gridcolor\":\"white\",\"linecolor\":\"white\",\"ticks\":\"\"}},\"scene\":{\"xaxis\":{\"backgroundcolor\":\"#E5ECF6\",\"gridcolor\":\"white\",\"gridwidth\":2,\"linecolor\":\"white\",\"showbackground\":true,\"ticks\":\"\",\"zerolinecolor\":\"white\"},\"yaxis\":{\"backgroundcolor\":\"#E5ECF6\",\"gridcolor\":\"white\",\"gridwidth\":2,\"linecolor\":\"white\",\"showbackground\":true,\"ticks\":\"\",\"zerolinecolor\":\"white\"},\"zaxis\":{\"backgroundcolor\":\"#E5ECF6\",\"gridcolor\":\"white\",\"gridwidth\":2,\"linecolor\":\"white\",\"showbackground\":true,\"ticks\":\"\",\"zerolinecolor\":\"white\"}},\"shapedefaults\":{\"line\":{\"color\":\"#2a3f5f\"}},\"ternary\":{\"aaxis\":{\"gridcolor\":\"white\",\"linecolor\":\"white\",\"ticks\":\"\"},\"baxis\":{\"gridcolor\":\"white\",\"linecolor\":\"white\",\"ticks\":\"\"},\"bgcolor\":\"#E5ECF6\",\"caxis\":{\"gridcolor\":\"white\",\"linecolor\":\"white\",\"ticks\":\"\"}},\"title\":{\"x\":0.05},\"xaxis\":{\"automargin\":true,\"gridcolor\":\"white\",\"linecolor\":\"white\",\"ticks\":\"\",\"title\":{\"standoff\":15},\"zerolinecolor\":\"white\",\"zerolinewidth\":2},\"yaxis\":{\"automargin\":true,\"gridcolor\":\"white\",\"linecolor\":\"white\",\"ticks\":\"\",\"title\":{\"standoff\":15},\"zerolinecolor\":\"white\",\"zerolinewidth\":2}}},\"title\":{\"font\":{\"color\":\"#4D5663\"}},\"xaxis\":{\"gridcolor\":\"#E1E5ED\",\"showgrid\":true,\"tickfont\":{\"color\":\"#4D5663\"},\"title\":{\"font\":{\"color\":\"#4D5663\"},\"text\":\"\"},\"zerolinecolor\":\"#E1E5ED\"},\"yaxis\":{\"gridcolor\":\"#E1E5ED\",\"showgrid\":true,\"tickfont\":{\"color\":\"#4D5663\"},\"title\":{\"font\":{\"color\":\"#4D5663\"},\"text\":\"\"},\"zerolinecolor\":\"#E1E5ED\"}},                        {\"showLink\": true, \"linkText\": \"Export to plot.ly\", \"plotlyServerURL\": \"https://plot.ly\", \"responsive\": true}                    ).then(function(){\n",
       "                            \n",
       "var gd = document.getElementById('e162988e-dc3b-46cd-9ace-94e0f3c79249');\n",
       "var x = new MutationObserver(function (mutations, observer) {{\n",
       "        var display = window.getComputedStyle(gd).display;\n",
       "        if (!display || display === 'none') {{\n",
       "            console.log([gd, 'removed!']);\n",
       "            Plotly.purge(gd);\n",
       "            observer.disconnect();\n",
       "        }}\n",
       "}});\n",
       "\n",
       "// Listen for the removal of the full notebook cells\n",
       "var notebookContainer = gd.closest('#notebook-container');\n",
       "if (notebookContainer) {{\n",
       "    x.observe(notebookContainer, {childList: true});\n",
       "}}\n",
       "\n",
       "// Listen for the clearing of the current output cell\n",
       "var outputEl = gd.closest('.output');\n",
       "if (outputEl) {{\n",
       "    x.observe(outputEl, {childList: true});\n",
       "}}\n",
       "\n",
       "                        })                };                });            </script>        </div>"
      ]
     },
     "metadata": {},
     "output_type": "display_data"
    }
   ],
   "source": [
    "df1.iplot ( kind=\"hist\" )"
   ]
  },
  {
   "cell_type": "code",
   "execution_count": 20,
   "id": "ac0c3bd7",
   "metadata": {},
   "outputs": [
    {
     "name": "stderr",
     "output_type": "stream",
     "text": [
      "C:\\Users\\ARPIT-MIMANI\\anaconda3\\lib\\site-packages\\cufflinks\\plotlytools.py:849: FutureWarning:\n",
      "\n",
      "The pandas.np module is deprecated and will be removed from pandas in a future version. Import numpy directly instead.\n",
      "\n",
      "C:\\Users\\ARPIT-MIMANI\\anaconda3\\lib\\site-packages\\cufflinks\\plotlytools.py:850: FutureWarning:\n",
      "\n",
      "The pandas.np module is deprecated and will be removed from pandas in a future version. Import numpy directly instead.\n",
      "\n"
     ]
    },
    {
     "data": {
      "application/vnd.plotly.v1+json": {
       "config": {
        "linkText": "Export to plot.ly",
        "plotlyServerURL": "https://plot.ly",
        "showLink": true
       },
       "data": [
        {
         "line": {
          "color": "rgba(255, 153, 51, 1.0)",
          "dash": "solid",
          "shape": "linear",
          "width": 1.3
         },
         "mode": "lines",
         "name": "A",
         "text": "",
         "type": "scatter",
         "x": [
          0,
          1,
          2,
          3,
          4,
          5,
          6,
          7,
          8,
          9,
          10,
          11,
          12,
          13,
          14,
          15,
          16,
          17,
          18,
          19,
          20,
          21,
          22,
          23,
          24,
          25,
          26,
          27,
          28,
          29,
          30,
          31,
          32,
          33,
          34,
          35,
          36,
          37,
          38,
          39,
          40,
          41,
          42,
          43,
          44,
          45,
          46,
          47,
          48,
          49,
          50,
          51,
          52,
          53,
          54,
          55,
          56,
          57,
          58,
          59,
          60,
          61,
          62,
          63,
          64,
          65,
          66,
          67,
          68,
          69,
          70,
          71,
          72,
          73,
          74,
          75,
          76,
          77,
          78,
          79,
          80,
          81,
          82,
          83,
          84,
          85,
          86,
          87,
          88,
          89,
          90,
          91,
          92,
          93,
          94,
          95,
          96,
          97,
          98,
          99
         ],
         "y": [
          0.512752939029791,
          -0.3553419617198243,
          -0.27929092762229374,
          0.13715381120273906,
          -0.10561595646288185,
          -0.1599097109111184,
          -0.4979472496059992,
          0.157104113124573,
          -0.46293873496051735,
          2.485418431861522,
          -0.4516734756190726,
          -1.493458861952407,
          -0.026482791768084567,
          -0.2757463899836123,
          2.241694624786081,
          -0.5129572406266717,
          0.15252616393685708,
          1.3865506913062904,
          -0.4983345548729902,
          0.307249958853756,
          -1.128251054831078,
          -0.8075072847154674,
          -0.6363660077137355,
          -0.3713082499903116,
          1.0441461790223507,
          0.3414257868465785,
          -0.5322617919291063,
          -1.2591308173815023,
          0.7009125457086441,
          0.9967249848203381,
          0.5553427242848349,
          -0.1710629029221637,
          -0.09347269250359294,
          -0.06269091796217952,
          -0.8889925758821092,
          1.0218299933351225,
          0.8210081659849187,
          0.44322827056598846,
          -0.4184786434300998,
          -0.08940115509505929,
          0.7269703626378548,
          0.24703444042561,
          0.05660618906374495,
          -0.46715813740333273,
          0.02946942295050563,
          -2.0148452428808628,
          -1.8538320646658921,
          -0.3354297970013657,
          1.6395349929699676,
          1.8490226882208158,
          -0.1512933010494933,
          -0.5005603686679456,
          0.7287108498117928,
          1.298360623953065,
          0.05835482274762789,
          0.05404720881988463,
          1.6448478378071496,
          -0.2165273389788695,
          -0.01089034092055172,
          -0.6396922580512779,
          0.1659230506263948,
          -0.26904140973624013,
          -0.15555495444472764,
          0.9466288861187291,
          0.49900398554713205,
          -2.175214685296227,
          0.09718808811786087,
          2.708148103191192,
          -0.7877907963975526,
          -0.0014491244335431606,
          -0.11955410895494896,
          -0.012562024727582138,
          -0.38147657376126753,
          1.1364951029280372,
          -0.3185237106734018,
          -2.2316850554714165,
          -1.332370837239957,
          1.1773780023580709,
          0.02886572654773463,
          -1.345659142078511,
          0.8985612990834209,
          0.7222788050675611,
          -1.3802880760915244,
          -1.9585194457414203,
          -2.1686577556553375,
          -0.8500871395049288,
          0.10917120767171398,
          0.4795289001080743,
          1.2234004610201688,
          0.8152430704621533,
          1.0968304321670168,
          -1.4067781777797062,
          0.05849673408436882,
          0.7533432362097038,
          0.015432162011626286,
          -1.2840022615670568,
          1.0343567428530556,
          0.6022038052564009,
          -0.5734790425194495,
          -0.061518042568631644
         ]
        },
        {
         "line": {
          "color": "rgba(55, 128, 191, 1.0)",
          "dash": "solid",
          "shape": "linear",
          "width": 1.3
         },
         "mode": "lines",
         "name": "B",
         "text": "",
         "type": "scatter",
         "x": [
          0,
          1,
          2,
          3,
          4,
          5,
          6,
          7,
          8,
          9,
          10,
          11,
          12,
          13,
          14,
          15,
          16,
          17,
          18,
          19,
          20,
          21,
          22,
          23,
          24,
          25,
          26,
          27,
          28,
          29,
          30,
          31,
          32,
          33,
          34,
          35,
          36,
          37,
          38,
          39,
          40,
          41,
          42,
          43,
          44,
          45,
          46,
          47,
          48,
          49,
          50,
          51,
          52,
          53,
          54,
          55,
          56,
          57,
          58,
          59,
          60,
          61,
          62,
          63,
          64,
          65,
          66,
          67,
          68,
          69,
          70,
          71,
          72,
          73,
          74,
          75,
          76,
          77,
          78,
          79,
          80,
          81,
          82,
          83,
          84,
          85,
          86,
          87,
          88,
          89,
          90,
          91,
          92,
          93,
          94,
          95,
          96,
          97,
          98,
          99
         ],
         "y": [
          0.9495836228334081,
          -0.7100194112250915,
          1.650112399487089,
          0.7207073489887325,
          -0.6598783128597964,
          0.18061985623530957,
          -0.4113123196925393,
          -0.8059169160909352,
          -0.45030841232826324,
          -0.8649897640802658,
          1.0102208397481613,
          -1.0723396880437734,
          -0.6968940084156565,
          -0.8645673092942562,
          2.1955425731858553,
          -1.8863114244239756,
          0.8957455972821831,
          0.678767466446716,
          -0.8943159560446318,
          -0.09741963407826157,
          0.7654188247816236,
          -0.3061372125342001,
          0.5819132563211112,
          -0.8670704822495087,
          -1.1685354191395143,
          0.4987062070583795,
          -1.2664917103538968,
          -0.0020470918678063186,
          0.3121952440872714,
          -0.16072843272068324,
          0.11875890069643805,
          0.44986031105381663,
          -1.2372941389702115,
          -0.0699148743189868,
          0.5722458274120602,
          -0.908423657263562,
          0.9938975291952103,
          0.7958846288611234,
          2.301904816453025,
          -0.03442714273076457,
          1.9790174693194467,
          2.610010540348577,
          0.32989197333371956,
          0.8624799408253738,
          0.1139651001292569,
          0.4707004527178716,
          -1.5716325921736916,
          -0.24216538524890424,
          1.2948587449311602,
          2.4104001599038,
          0.06946876011078847,
          0.14121954910246642,
          -1.758843335651598,
          -0.34023316429089806,
          -0.615902806569471,
          0.5258757904723518,
          0.768142038676994,
          -0.6217746021507302,
          0.40561366010531047,
          0.0611695638678798,
          -0.13738126847244095,
          1.0648377553030648,
          -1.8221199689954444,
          -0.8653744519128183,
          0.6777054680280602,
          2.497494640335452,
          0.15104718570411105,
          1.6886883956295087,
          0.2150663109619358,
          1.1726393230041428,
          -0.6033410253786355,
          -1.1128029280466678,
          -1.3753978791796673,
          -1.6083436278421894,
          0.3251529185534095,
          -0.23507903877710437,
          0.6854681379288818,
          -1.041259674279969,
          -0.6804639148664574,
          0.8121246030044645,
          1.3458243345424477,
          -0.11174265897113703,
          0.8968517311317901,
          1.1561368291141871,
          0.14505918969787704,
          -0.18489325889499017,
          0.28894923373935066,
          0.9245649933210359,
          0.09791212574998187,
          1.735864656117559,
          1.8020648684561578,
          1.1660229778070796,
          1.6705341417911646,
          0.7029421504635976,
          -0.09985353358039065,
          0.6613232704319956,
          0.7436371685517646,
          -1.1581864717986816,
          -0.0517374783828689,
          0.01597140932841376
         ]
        },
        {
         "connectgaps": false,
         "fill": "tozeroy",
         "line": {
          "color": "green",
          "dash": "solid",
          "shape": "linear",
          "width": 0.5
         },
         "mode": "lines",
         "name": "Spread",
         "showlegend": false,
         "type": "scatter",
         "x": [
          0,
          1,
          2,
          3,
          4,
          5,
          6,
          7,
          8,
          9,
          10,
          11,
          12,
          13,
          14,
          15,
          16,
          17,
          18,
          19,
          20,
          21,
          22,
          23,
          24,
          25,
          26,
          27,
          28,
          29,
          30,
          31,
          32,
          33,
          34,
          35,
          36,
          37,
          38,
          39,
          40,
          41,
          42,
          43,
          44,
          45,
          46,
          47,
          48,
          49,
          50,
          51,
          52,
          53,
          54,
          55,
          56,
          57,
          58,
          59,
          60,
          61,
          62,
          63,
          64,
          65,
          66,
          67,
          68,
          69,
          70,
          71,
          72,
          73,
          74,
          75,
          76,
          77,
          78,
          79,
          80,
          81,
          82,
          83,
          84,
          85,
          86,
          87,
          88,
          89,
          90,
          91,
          92,
          93,
          94,
          95,
          96,
          97,
          98,
          99
         ],
         "xaxis": "x2",
         "y": [
          "",
          0.3546774495052672,
          "",
          "",
          0.5542623563969145,
          "",
          "",
          0.9630210292155081,
          "",
          3.3504081959417875,
          "",
          "",
          0.670411216647572,
          0.588820919310644,
          0.04615205160022562,
          1.373354183797304,
          "",
          0.7077832248595743,
          0.39598140117164154,
          0.40466959293201754,
          "",
          "",
          "",
          0.4957622322591971,
          2.212681598161865,
          "",
          0.7342299184247906,
          "",
          0.38871730162137275,
          1.1574534175410214,
          0.43658382358839687,
          "",
          1.1438214464666185,
          0.007223956356807282,
          "",
          1.9302536505986845,
          "",
          "",
          "",
          "",
          "",
          "",
          "",
          "",
          "",
          "",
          "",
          "",
          0.3446762480388075,
          "",
          "",
          "",
          2.4875541854633907,
          1.638593788243963,
          0.674257629317099,
          "",
          0.8767057991301556,
          0.4052472631718607,
          "",
          "",
          0.30330431909883576,
          "",
          1.6665650145507167,
          1.8120033380315475,
          "",
          "",
          "",
          1.0194597075616834,
          "",
          "",
          0.4837869164236866,
          1.1002409033190856,
          0.9939213054183997,
          2.7448387307702267,
          "",
          "",
          "",
          2.21863767663804,
          0.7093296414141921,
          "",
          "",
          0.8340214640386981,
          "",
          "",
          "",
          "",
          "",
          "",
          1.125488335270187,
          "",
          "",
          "",
          "",
          0.05040108574610613,
          0.11528569559201693,
          "",
          0.2907195743012909,
          1.7603902770550826,
          "",
          ""
         ],
         "yaxis": "y2"
        },
        {
         "connectgaps": false,
         "fill": "tozeroy",
         "line": {
          "color": "red",
          "dash": "solid",
          "shape": "linear",
          "width": 0.5
         },
         "mode": "lines",
         "name": "Spread",
         "showlegend": false,
         "type": "scatter",
         "x": [
          0,
          1,
          2,
          3,
          4,
          5,
          6,
          7,
          8,
          9,
          10,
          11,
          12,
          13,
          14,
          15,
          16,
          17,
          18,
          19,
          20,
          21,
          22,
          23,
          24,
          25,
          26,
          27,
          28,
          29,
          30,
          31,
          32,
          33,
          34,
          35,
          36,
          37,
          38,
          39,
          40,
          41,
          42,
          43,
          44,
          45,
          46,
          47,
          48,
          49,
          50,
          51,
          52,
          53,
          54,
          55,
          56,
          57,
          58,
          59,
          60,
          61,
          62,
          63,
          64,
          65,
          66,
          67,
          68,
          69,
          70,
          71,
          72,
          73,
          74,
          75,
          76,
          77,
          78,
          79,
          80,
          81,
          82,
          83,
          84,
          85,
          86,
          87,
          88,
          89,
          90,
          91,
          92,
          93,
          94,
          95,
          96,
          97,
          98,
          99
         ],
         "xaxis": "x2",
         "y": [
          -0.4368306838036171,
          "",
          -1.9294033271093827,
          -0.5835535377859934,
          "",
          -0.340529567146428,
          -0.08663492991345989,
          "",
          -0.01263032263225411,
          "",
          -1.461894315367234,
          -0.4211191739086335,
          "",
          "",
          "",
          "",
          -0.7432194333453259,
          "",
          "",
          "",
          -1.8936698796127016,
          -0.5013700721812673,
          -1.2182792640348468,
          "",
          "",
          -0.157280420211801,
          "",
          -1.257083725513696,
          "",
          "",
          "",
          -0.6209232139759804,
          "",
          "",
          -1.4612384032941694,
          "",
          -0.1728893632102917,
          -0.352656358295135,
          -2.720383459883125,
          -0.05497401236429472,
          -1.252047106681592,
          -2.362976099922967,
          -0.27328578426997463,
          -1.3296380782287065,
          -0.08449567717875127,
          -2.4855456955987343,
          -0.28219947249220056,
          -0.09326441175246147,
          "",
          -0.5613774716829842,
          -0.22076206116028174,
          -0.641779917770412,
          "",
          "",
          "",
          -0.47182858165246716,
          "",
          "",
          -0.4165040010258622,
          -0.7008618219191577,
          "",
          -1.333879165039305,
          "",
          "",
          -0.17870148248092815,
          -4.672709325631679,
          -0.05385909758625018,
          "",
          -1.0028571073594883,
          -1.1740884474376858,
          "",
          "",
          "",
          "",
          -0.6436766292268112,
          -1.996606016694312,
          -2.017838975168839,
          "",
          "",
          -2.1577837450829755,
          -0.4472630354590268,
          "",
          -2.2771398072233144,
          -3.1146562748556077,
          -2.3137169453532147,
          -0.6651938806099386,
          -0.17977802606763668,
          -0.4450360932129616,
          "",
          -0.9206215856554057,
          -0.705234436289141,
          -2.572801155586786,
          -1.6120374077067958,
          "",
          "",
          -1.9453255319990523,
          "",
          "",
          -0.5217415641365806,
          -0.0774894518970454
         ],
         "yaxis": "y2"
        }
       ],
       "layout": {
        "hovermode": "x",
        "legend": {
         "bgcolor": "#F5F6F9",
         "font": {
          "color": "#4D5663"
         }
        },
        "paper_bgcolor": "#F5F6F9",
        "plot_bgcolor": "#F5F6F9",
        "template": {
         "data": {
          "bar": [
           {
            "error_x": {
             "color": "#2a3f5f"
            },
            "error_y": {
             "color": "#2a3f5f"
            },
            "marker": {
             "line": {
              "color": "#E5ECF6",
              "width": 0.5
             },
             "pattern": {
              "fillmode": "overlay",
              "size": 10,
              "solidity": 0.2
             }
            },
            "type": "bar"
           }
          ],
          "barpolar": [
           {
            "marker": {
             "line": {
              "color": "#E5ECF6",
              "width": 0.5
             },
             "pattern": {
              "fillmode": "overlay",
              "size": 10,
              "solidity": 0.2
             }
            },
            "type": "barpolar"
           }
          ],
          "carpet": [
           {
            "aaxis": {
             "endlinecolor": "#2a3f5f",
             "gridcolor": "white",
             "linecolor": "white",
             "minorgridcolor": "white",
             "startlinecolor": "#2a3f5f"
            },
            "baxis": {
             "endlinecolor": "#2a3f5f",
             "gridcolor": "white",
             "linecolor": "white",
             "minorgridcolor": "white",
             "startlinecolor": "#2a3f5f"
            },
            "type": "carpet"
           }
          ],
          "choropleth": [
           {
            "colorbar": {
             "outlinewidth": 0,
             "ticks": ""
            },
            "type": "choropleth"
           }
          ],
          "contour": [
           {
            "colorbar": {
             "outlinewidth": 0,
             "ticks": ""
            },
            "colorscale": [
             [
              0,
              "#0d0887"
             ],
             [
              0.1111111111111111,
              "#46039f"
             ],
             [
              0.2222222222222222,
              "#7201a8"
             ],
             [
              0.3333333333333333,
              "#9c179e"
             ],
             [
              0.4444444444444444,
              "#bd3786"
             ],
             [
              0.5555555555555556,
              "#d8576b"
             ],
             [
              0.6666666666666666,
              "#ed7953"
             ],
             [
              0.7777777777777778,
              "#fb9f3a"
             ],
             [
              0.8888888888888888,
              "#fdca26"
             ],
             [
              1,
              "#f0f921"
             ]
            ],
            "type": "contour"
           }
          ],
          "contourcarpet": [
           {
            "colorbar": {
             "outlinewidth": 0,
             "ticks": ""
            },
            "type": "contourcarpet"
           }
          ],
          "heatmap": [
           {
            "colorbar": {
             "outlinewidth": 0,
             "ticks": ""
            },
            "colorscale": [
             [
              0,
              "#0d0887"
             ],
             [
              0.1111111111111111,
              "#46039f"
             ],
             [
              0.2222222222222222,
              "#7201a8"
             ],
             [
              0.3333333333333333,
              "#9c179e"
             ],
             [
              0.4444444444444444,
              "#bd3786"
             ],
             [
              0.5555555555555556,
              "#d8576b"
             ],
             [
              0.6666666666666666,
              "#ed7953"
             ],
             [
              0.7777777777777778,
              "#fb9f3a"
             ],
             [
              0.8888888888888888,
              "#fdca26"
             ],
             [
              1,
              "#f0f921"
             ]
            ],
            "type": "heatmap"
           }
          ],
          "heatmapgl": [
           {
            "colorbar": {
             "outlinewidth": 0,
             "ticks": ""
            },
            "colorscale": [
             [
              0,
              "#0d0887"
             ],
             [
              0.1111111111111111,
              "#46039f"
             ],
             [
              0.2222222222222222,
              "#7201a8"
             ],
             [
              0.3333333333333333,
              "#9c179e"
             ],
             [
              0.4444444444444444,
              "#bd3786"
             ],
             [
              0.5555555555555556,
              "#d8576b"
             ],
             [
              0.6666666666666666,
              "#ed7953"
             ],
             [
              0.7777777777777778,
              "#fb9f3a"
             ],
             [
              0.8888888888888888,
              "#fdca26"
             ],
             [
              1,
              "#f0f921"
             ]
            ],
            "type": "heatmapgl"
           }
          ],
          "histogram": [
           {
            "marker": {
             "pattern": {
              "fillmode": "overlay",
              "size": 10,
              "solidity": 0.2
             }
            },
            "type": "histogram"
           }
          ],
          "histogram2d": [
           {
            "colorbar": {
             "outlinewidth": 0,
             "ticks": ""
            },
            "colorscale": [
             [
              0,
              "#0d0887"
             ],
             [
              0.1111111111111111,
              "#46039f"
             ],
             [
              0.2222222222222222,
              "#7201a8"
             ],
             [
              0.3333333333333333,
              "#9c179e"
             ],
             [
              0.4444444444444444,
              "#bd3786"
             ],
             [
              0.5555555555555556,
              "#d8576b"
             ],
             [
              0.6666666666666666,
              "#ed7953"
             ],
             [
              0.7777777777777778,
              "#fb9f3a"
             ],
             [
              0.8888888888888888,
              "#fdca26"
             ],
             [
              1,
              "#f0f921"
             ]
            ],
            "type": "histogram2d"
           }
          ],
          "histogram2dcontour": [
           {
            "colorbar": {
             "outlinewidth": 0,
             "ticks": ""
            },
            "colorscale": [
             [
              0,
              "#0d0887"
             ],
             [
              0.1111111111111111,
              "#46039f"
             ],
             [
              0.2222222222222222,
              "#7201a8"
             ],
             [
              0.3333333333333333,
              "#9c179e"
             ],
             [
              0.4444444444444444,
              "#bd3786"
             ],
             [
              0.5555555555555556,
              "#d8576b"
             ],
             [
              0.6666666666666666,
              "#ed7953"
             ],
             [
              0.7777777777777778,
              "#fb9f3a"
             ],
             [
              0.8888888888888888,
              "#fdca26"
             ],
             [
              1,
              "#f0f921"
             ]
            ],
            "type": "histogram2dcontour"
           }
          ],
          "mesh3d": [
           {
            "colorbar": {
             "outlinewidth": 0,
             "ticks": ""
            },
            "type": "mesh3d"
           }
          ],
          "parcoords": [
           {
            "line": {
             "colorbar": {
              "outlinewidth": 0,
              "ticks": ""
             }
            },
            "type": "parcoords"
           }
          ],
          "pie": [
           {
            "automargin": true,
            "type": "pie"
           }
          ],
          "scatter": [
           {
            "fillpattern": {
             "fillmode": "overlay",
             "size": 10,
             "solidity": 0.2
            },
            "type": "scatter"
           }
          ],
          "scatter3d": [
           {
            "line": {
             "colorbar": {
              "outlinewidth": 0,
              "ticks": ""
             }
            },
            "marker": {
             "colorbar": {
              "outlinewidth": 0,
              "ticks": ""
             }
            },
            "type": "scatter3d"
           }
          ],
          "scattercarpet": [
           {
            "marker": {
             "colorbar": {
              "outlinewidth": 0,
              "ticks": ""
             }
            },
            "type": "scattercarpet"
           }
          ],
          "scattergeo": [
           {
            "marker": {
             "colorbar": {
              "outlinewidth": 0,
              "ticks": ""
             }
            },
            "type": "scattergeo"
           }
          ],
          "scattergl": [
           {
            "marker": {
             "colorbar": {
              "outlinewidth": 0,
              "ticks": ""
             }
            },
            "type": "scattergl"
           }
          ],
          "scattermapbox": [
           {
            "marker": {
             "colorbar": {
              "outlinewidth": 0,
              "ticks": ""
             }
            },
            "type": "scattermapbox"
           }
          ],
          "scatterpolar": [
           {
            "marker": {
             "colorbar": {
              "outlinewidth": 0,
              "ticks": ""
             }
            },
            "type": "scatterpolar"
           }
          ],
          "scatterpolargl": [
           {
            "marker": {
             "colorbar": {
              "outlinewidth": 0,
              "ticks": ""
             }
            },
            "type": "scatterpolargl"
           }
          ],
          "scatterternary": [
           {
            "marker": {
             "colorbar": {
              "outlinewidth": 0,
              "ticks": ""
             }
            },
            "type": "scatterternary"
           }
          ],
          "surface": [
           {
            "colorbar": {
             "outlinewidth": 0,
             "ticks": ""
            },
            "colorscale": [
             [
              0,
              "#0d0887"
             ],
             [
              0.1111111111111111,
              "#46039f"
             ],
             [
              0.2222222222222222,
              "#7201a8"
             ],
             [
              0.3333333333333333,
              "#9c179e"
             ],
             [
              0.4444444444444444,
              "#bd3786"
             ],
             [
              0.5555555555555556,
              "#d8576b"
             ],
             [
              0.6666666666666666,
              "#ed7953"
             ],
             [
              0.7777777777777778,
              "#fb9f3a"
             ],
             [
              0.8888888888888888,
              "#fdca26"
             ],
             [
              1,
              "#f0f921"
             ]
            ],
            "type": "surface"
           }
          ],
          "table": [
           {
            "cells": {
             "fill": {
              "color": "#EBF0F8"
             },
             "line": {
              "color": "white"
             }
            },
            "header": {
             "fill": {
              "color": "#C8D4E3"
             },
             "line": {
              "color": "white"
             }
            },
            "type": "table"
           }
          ]
         },
         "layout": {
          "annotationdefaults": {
           "arrowcolor": "#2a3f5f",
           "arrowhead": 0,
           "arrowwidth": 1
          },
          "autotypenumbers": "strict",
          "coloraxis": {
           "colorbar": {
            "outlinewidth": 0,
            "ticks": ""
           }
          },
          "colorscale": {
           "diverging": [
            [
             0,
             "#8e0152"
            ],
            [
             0.1,
             "#c51b7d"
            ],
            [
             0.2,
             "#de77ae"
            ],
            [
             0.3,
             "#f1b6da"
            ],
            [
             0.4,
             "#fde0ef"
            ],
            [
             0.5,
             "#f7f7f7"
            ],
            [
             0.6,
             "#e6f5d0"
            ],
            [
             0.7,
             "#b8e186"
            ],
            [
             0.8,
             "#7fbc41"
            ],
            [
             0.9,
             "#4d9221"
            ],
            [
             1,
             "#276419"
            ]
           ],
           "sequential": [
            [
             0,
             "#0d0887"
            ],
            [
             0.1111111111111111,
             "#46039f"
            ],
            [
             0.2222222222222222,
             "#7201a8"
            ],
            [
             0.3333333333333333,
             "#9c179e"
            ],
            [
             0.4444444444444444,
             "#bd3786"
            ],
            [
             0.5555555555555556,
             "#d8576b"
            ],
            [
             0.6666666666666666,
             "#ed7953"
            ],
            [
             0.7777777777777778,
             "#fb9f3a"
            ],
            [
             0.8888888888888888,
             "#fdca26"
            ],
            [
             1,
             "#f0f921"
            ]
           ],
           "sequentialminus": [
            [
             0,
             "#0d0887"
            ],
            [
             0.1111111111111111,
             "#46039f"
            ],
            [
             0.2222222222222222,
             "#7201a8"
            ],
            [
             0.3333333333333333,
             "#9c179e"
            ],
            [
             0.4444444444444444,
             "#bd3786"
            ],
            [
             0.5555555555555556,
             "#d8576b"
            ],
            [
             0.6666666666666666,
             "#ed7953"
            ],
            [
             0.7777777777777778,
             "#fb9f3a"
            ],
            [
             0.8888888888888888,
             "#fdca26"
            ],
            [
             1,
             "#f0f921"
            ]
           ]
          },
          "colorway": [
           "#636efa",
           "#EF553B",
           "#00cc96",
           "#ab63fa",
           "#FFA15A",
           "#19d3f3",
           "#FF6692",
           "#B6E880",
           "#FF97FF",
           "#FECB52"
          ],
          "font": {
           "color": "#2a3f5f"
          },
          "geo": {
           "bgcolor": "white",
           "lakecolor": "white",
           "landcolor": "#E5ECF6",
           "showlakes": true,
           "showland": true,
           "subunitcolor": "white"
          },
          "hoverlabel": {
           "align": "left"
          },
          "hovermode": "closest",
          "mapbox": {
           "style": "light"
          },
          "paper_bgcolor": "white",
          "plot_bgcolor": "#E5ECF6",
          "polar": {
           "angularaxis": {
            "gridcolor": "white",
            "linecolor": "white",
            "ticks": ""
           },
           "bgcolor": "#E5ECF6",
           "radialaxis": {
            "gridcolor": "white",
            "linecolor": "white",
            "ticks": ""
           }
          },
          "scene": {
           "xaxis": {
            "backgroundcolor": "#E5ECF6",
            "gridcolor": "white",
            "gridwidth": 2,
            "linecolor": "white",
            "showbackground": true,
            "ticks": "",
            "zerolinecolor": "white"
           },
           "yaxis": {
            "backgroundcolor": "#E5ECF6",
            "gridcolor": "white",
            "gridwidth": 2,
            "linecolor": "white",
            "showbackground": true,
            "ticks": "",
            "zerolinecolor": "white"
           },
           "zaxis": {
            "backgroundcolor": "#E5ECF6",
            "gridcolor": "white",
            "gridwidth": 2,
            "linecolor": "white",
            "showbackground": true,
            "ticks": "",
            "zerolinecolor": "white"
           }
          },
          "shapedefaults": {
           "line": {
            "color": "#2a3f5f"
           }
          },
          "ternary": {
           "aaxis": {
            "gridcolor": "white",
            "linecolor": "white",
            "ticks": ""
           },
           "baxis": {
            "gridcolor": "white",
            "linecolor": "white",
            "ticks": ""
           },
           "bgcolor": "#E5ECF6",
           "caxis": {
            "gridcolor": "white",
            "linecolor": "white",
            "ticks": ""
           }
          },
          "title": {
           "x": 0.05
          },
          "xaxis": {
           "automargin": true,
           "gridcolor": "white",
           "linecolor": "white",
           "ticks": "",
           "title": {
            "standoff": 15
           },
           "zerolinecolor": "white",
           "zerolinewidth": 2
          },
          "yaxis": {
           "automargin": true,
           "gridcolor": "white",
           "linecolor": "white",
           "ticks": "",
           "title": {
            "standoff": 15
           },
           "zerolinecolor": "white",
           "zerolinewidth": 2
          }
         }
        },
        "title": {
         "font": {
          "color": "#4D5663"
         }
        },
        "xaxis": {
         "gridcolor": "#E1E5ED",
         "showgrid": true,
         "tickfont": {
          "color": "#4D5663"
         },
         "title": {
          "font": {
           "color": "#4D5663"
          },
          "text": ""
         },
         "zerolinecolor": "#E1E5ED"
        },
        "xaxis2": {
         "anchor": "y2",
         "gridcolor": "#E1E5ED",
         "showgrid": true,
         "showticklabels": false,
         "tickfont": {
          "color": "#4D5663"
         },
         "title": {
          "font": {
           "color": "#4D5663"
          },
          "text": ""
         },
         "zerolinecolor": "#E1E5ED"
        },
        "yaxis": {
         "domain": [
          0.3,
          1
         ],
         "gridcolor": "#E1E5ED",
         "showgrid": true,
         "tickfont": {
          "color": "#4D5663"
         },
         "title": {
          "font": {
           "color": "#4D5663"
          },
          "text": ""
         },
         "zerolinecolor": "#E1E5ED"
        },
        "yaxis2": {
         "domain": [
          0,
          0.25
         ],
         "gridcolor": "#E1E5ED",
         "showgrid": true,
         "tickfont": {
          "color": "#4D5663"
         },
         "title": {
          "font": {
           "color": "#4D5663"
          },
          "text": "Spread"
         },
         "zerolinecolor": "#E1E5ED"
        }
       }
      },
      "text/html": [
       "<div>                            <div id=\"aa99b203-bc2a-4346-b4b6-f47148c3aad4\" class=\"plotly-graph-div\" style=\"height:525px; width:100%;\"></div>            <script type=\"text/javascript\">                require([\"plotly\"], function(Plotly) {                    window.PLOTLYENV=window.PLOTLYENV || {};\n",
       "                    window.PLOTLYENV.BASE_URL='https://plot.ly';                                    if (document.getElementById(\"aa99b203-bc2a-4346-b4b6-f47148c3aad4\")) {                    Plotly.newPlot(                        \"aa99b203-bc2a-4346-b4b6-f47148c3aad4\",                        [{\"line\":{\"color\":\"rgba(255, 153, 51, 1.0)\",\"dash\":\"solid\",\"shape\":\"linear\",\"width\":1.3},\"mode\":\"lines\",\"name\":\"A\",\"text\":\"\",\"x\":[0,1,2,3,4,5,6,7,8,9,10,11,12,13,14,15,16,17,18,19,20,21,22,23,24,25,26,27,28,29,30,31,32,33,34,35,36,37,38,39,40,41,42,43,44,45,46,47,48,49,50,51,52,53,54,55,56,57,58,59,60,61,62,63,64,65,66,67,68,69,70,71,72,73,74,75,76,77,78,79,80,81,82,83,84,85,86,87,88,89,90,91,92,93,94,95,96,97,98,99],\"y\":[0.512752939029791,-0.3553419617198243,-0.27929092762229374,0.13715381120273906,-0.10561595646288185,-0.1599097109111184,-0.4979472496059992,0.157104113124573,-0.46293873496051735,2.485418431861522,-0.4516734756190726,-1.493458861952407,-0.026482791768084567,-0.2757463899836123,2.241694624786081,-0.5129572406266717,0.15252616393685708,1.3865506913062904,-0.4983345548729902,0.307249958853756,-1.128251054831078,-0.8075072847154674,-0.6363660077137355,-0.3713082499903116,1.0441461790223507,0.3414257868465785,-0.5322617919291063,-1.2591308173815023,0.7009125457086441,0.9967249848203381,0.5553427242848349,-0.1710629029221637,-0.09347269250359294,-0.06269091796217952,-0.8889925758821092,1.0218299933351225,0.8210081659849187,0.44322827056598846,-0.4184786434300998,-0.08940115509505929,0.7269703626378548,0.24703444042561,0.05660618906374495,-0.46715813740333273,0.02946942295050563,-2.0148452428808628,-1.8538320646658921,-0.3354297970013657,1.6395349929699676,1.8490226882208158,-0.1512933010494933,-0.5005603686679456,0.7287108498117928,1.298360623953065,0.05835482274762789,0.05404720881988463,1.6448478378071496,-0.2165273389788695,-0.01089034092055172,-0.6396922580512779,0.1659230506263948,-0.26904140973624013,-0.15555495444472764,0.9466288861187291,0.49900398554713205,-2.175214685296227,0.09718808811786087,2.708148103191192,-0.7877907963975526,-0.0014491244335431606,-0.11955410895494896,-0.012562024727582138,-0.38147657376126753,1.1364951029280372,-0.3185237106734018,-2.2316850554714165,-1.332370837239957,1.1773780023580709,0.02886572654773463,-1.345659142078511,0.8985612990834209,0.7222788050675611,-1.3802880760915244,-1.9585194457414203,-2.1686577556553375,-0.8500871395049288,0.10917120767171398,0.4795289001080743,1.2234004610201688,0.8152430704621533,1.0968304321670168,-1.4067781777797062,0.05849673408436882,0.7533432362097038,0.015432162011626286,-1.2840022615670568,1.0343567428530556,0.6022038052564009,-0.5734790425194495,-0.061518042568631644],\"type\":\"scatter\"},{\"line\":{\"color\":\"rgba(55, 128, 191, 1.0)\",\"dash\":\"solid\",\"shape\":\"linear\",\"width\":1.3},\"mode\":\"lines\",\"name\":\"B\",\"text\":\"\",\"x\":[0,1,2,3,4,5,6,7,8,9,10,11,12,13,14,15,16,17,18,19,20,21,22,23,24,25,26,27,28,29,30,31,32,33,34,35,36,37,38,39,40,41,42,43,44,45,46,47,48,49,50,51,52,53,54,55,56,57,58,59,60,61,62,63,64,65,66,67,68,69,70,71,72,73,74,75,76,77,78,79,80,81,82,83,84,85,86,87,88,89,90,91,92,93,94,95,96,97,98,99],\"y\":[0.9495836228334081,-0.7100194112250915,1.650112399487089,0.7207073489887325,-0.6598783128597964,0.18061985623530957,-0.4113123196925393,-0.8059169160909352,-0.45030841232826324,-0.8649897640802658,1.0102208397481613,-1.0723396880437734,-0.6968940084156565,-0.8645673092942562,2.1955425731858553,-1.8863114244239756,0.8957455972821831,0.678767466446716,-0.8943159560446318,-0.09741963407826157,0.7654188247816236,-0.3061372125342001,0.5819132563211112,-0.8670704822495087,-1.1685354191395143,0.4987062070583795,-1.2664917103538968,-0.0020470918678063186,0.3121952440872714,-0.16072843272068324,0.11875890069643805,0.44986031105381663,-1.2372941389702115,-0.0699148743189868,0.5722458274120602,-0.908423657263562,0.9938975291952103,0.7958846288611234,2.301904816453025,-0.03442714273076457,1.9790174693194467,2.610010540348577,0.32989197333371956,0.8624799408253738,0.1139651001292569,0.4707004527178716,-1.5716325921736916,-0.24216538524890424,1.2948587449311602,2.4104001599038,0.06946876011078847,0.14121954910246642,-1.758843335651598,-0.34023316429089806,-0.615902806569471,0.5258757904723518,0.768142038676994,-0.6217746021507302,0.40561366010531047,0.0611695638678798,-0.13738126847244095,1.0648377553030648,-1.8221199689954444,-0.8653744519128183,0.6777054680280602,2.497494640335452,0.15104718570411105,1.6886883956295087,0.2150663109619358,1.1726393230041428,-0.6033410253786355,-1.1128029280466678,-1.3753978791796673,-1.6083436278421894,0.3251529185534095,-0.23507903877710437,0.6854681379288818,-1.041259674279969,-0.6804639148664574,0.8121246030044645,1.3458243345424477,-0.11174265897113703,0.8968517311317901,1.1561368291141871,0.14505918969787704,-0.18489325889499017,0.28894923373935066,0.9245649933210359,0.09791212574998187,1.735864656117559,1.8020648684561578,1.1660229778070796,1.6705341417911646,0.7029421504635976,-0.09985353358039065,0.6613232704319956,0.7436371685517646,-1.1581864717986816,-0.0517374783828689,0.01597140932841376],\"type\":\"scatter\"},{\"connectgaps\":false,\"fill\":\"tozeroy\",\"line\":{\"color\":\"green\",\"dash\":\"solid\",\"shape\":\"linear\",\"width\":0.5},\"mode\":\"lines\",\"name\":\"Spread\",\"showlegend\":false,\"x\":[0,1,2,3,4,5,6,7,8,9,10,11,12,13,14,15,16,17,18,19,20,21,22,23,24,25,26,27,28,29,30,31,32,33,34,35,36,37,38,39,40,41,42,43,44,45,46,47,48,49,50,51,52,53,54,55,56,57,58,59,60,61,62,63,64,65,66,67,68,69,70,71,72,73,74,75,76,77,78,79,80,81,82,83,84,85,86,87,88,89,90,91,92,93,94,95,96,97,98,99],\"xaxis\":\"x2\",\"y\":[\"\",0.3546774495052672,\"\",\"\",0.5542623563969145,\"\",\"\",0.9630210292155081,\"\",3.3504081959417875,\"\",\"\",0.670411216647572,0.588820919310644,0.04615205160022562,1.373354183797304,\"\",0.7077832248595743,0.39598140117164154,0.40466959293201754,\"\",\"\",\"\",0.4957622322591971,2.212681598161865,\"\",0.7342299184247906,\"\",0.38871730162137275,1.1574534175410214,0.43658382358839687,\"\",1.1438214464666185,0.007223956356807282,\"\",1.9302536505986845,\"\",\"\",\"\",\"\",\"\",\"\",\"\",\"\",\"\",\"\",\"\",\"\",0.3446762480388075,\"\",\"\",\"\",2.4875541854633907,1.638593788243963,0.674257629317099,\"\",0.8767057991301556,0.4052472631718607,\"\",\"\",0.30330431909883576,\"\",1.6665650145507167,1.8120033380315475,\"\",\"\",\"\",1.0194597075616834,\"\",\"\",0.4837869164236866,1.1002409033190856,0.9939213054183997,2.7448387307702267,\"\",\"\",\"\",2.21863767663804,0.7093296414141921,\"\",\"\",0.8340214640386981,\"\",\"\",\"\",\"\",\"\",\"\",1.125488335270187,\"\",\"\",\"\",\"\",0.05040108574610613,0.11528569559201693,\"\",0.2907195743012909,1.7603902770550826,\"\",\"\"],\"yaxis\":\"y2\",\"type\":\"scatter\"},{\"connectgaps\":false,\"fill\":\"tozeroy\",\"line\":{\"color\":\"red\",\"dash\":\"solid\",\"shape\":\"linear\",\"width\":0.5},\"mode\":\"lines\",\"name\":\"Spread\",\"showlegend\":false,\"x\":[0,1,2,3,4,5,6,7,8,9,10,11,12,13,14,15,16,17,18,19,20,21,22,23,24,25,26,27,28,29,30,31,32,33,34,35,36,37,38,39,40,41,42,43,44,45,46,47,48,49,50,51,52,53,54,55,56,57,58,59,60,61,62,63,64,65,66,67,68,69,70,71,72,73,74,75,76,77,78,79,80,81,82,83,84,85,86,87,88,89,90,91,92,93,94,95,96,97,98,99],\"xaxis\":\"x2\",\"y\":[-0.4368306838036171,\"\",-1.9294033271093827,-0.5835535377859934,\"\",-0.340529567146428,-0.08663492991345989,\"\",-0.01263032263225411,\"\",-1.461894315367234,-0.4211191739086335,\"\",\"\",\"\",\"\",-0.7432194333453259,\"\",\"\",\"\",-1.8936698796127016,-0.5013700721812673,-1.2182792640348468,\"\",\"\",-0.157280420211801,\"\",-1.257083725513696,\"\",\"\",\"\",-0.6209232139759804,\"\",\"\",-1.4612384032941694,\"\",-0.1728893632102917,-0.352656358295135,-2.720383459883125,-0.05497401236429472,-1.252047106681592,-2.362976099922967,-0.27328578426997463,-1.3296380782287065,-0.08449567717875127,-2.4855456955987343,-0.28219947249220056,-0.09326441175246147,\"\",-0.5613774716829842,-0.22076206116028174,-0.641779917770412,\"\",\"\",\"\",-0.47182858165246716,\"\",\"\",-0.4165040010258622,-0.7008618219191577,\"\",-1.333879165039305,\"\",\"\",-0.17870148248092815,-4.672709325631679,-0.05385909758625018,\"\",-1.0028571073594883,-1.1740884474376858,\"\",\"\",\"\",\"\",-0.6436766292268112,-1.996606016694312,-2.017838975168839,\"\",\"\",-2.1577837450829755,-0.4472630354590268,\"\",-2.2771398072233144,-3.1146562748556077,-2.3137169453532147,-0.6651938806099386,-0.17977802606763668,-0.4450360932129616,\"\",-0.9206215856554057,-0.705234436289141,-2.572801155586786,-1.6120374077067958,\"\",\"\",-1.9453255319990523,\"\",\"\",-0.5217415641365806,-0.0774894518970454],\"yaxis\":\"y2\",\"type\":\"scatter\"}],                        {\"hovermode\":\"x\",\"legend\":{\"bgcolor\":\"#F5F6F9\",\"font\":{\"color\":\"#4D5663\"}},\"paper_bgcolor\":\"#F5F6F9\",\"plot_bgcolor\":\"#F5F6F9\",\"template\":{\"data\":{\"barpolar\":[{\"marker\":{\"line\":{\"color\":\"#E5ECF6\",\"width\":0.5},\"pattern\":{\"fillmode\":\"overlay\",\"size\":10,\"solidity\":0.2}},\"type\":\"barpolar\"}],\"bar\":[{\"error_x\":{\"color\":\"#2a3f5f\"},\"error_y\":{\"color\":\"#2a3f5f\"},\"marker\":{\"line\":{\"color\":\"#E5ECF6\",\"width\":0.5},\"pattern\":{\"fillmode\":\"overlay\",\"size\":10,\"solidity\":0.2}},\"type\":\"bar\"}],\"carpet\":[{\"aaxis\":{\"endlinecolor\":\"#2a3f5f\",\"gridcolor\":\"white\",\"linecolor\":\"white\",\"minorgridcolor\":\"white\",\"startlinecolor\":\"#2a3f5f\"},\"baxis\":{\"endlinecolor\":\"#2a3f5f\",\"gridcolor\":\"white\",\"linecolor\":\"white\",\"minorgridcolor\":\"white\",\"startlinecolor\":\"#2a3f5f\"},\"type\":\"carpet\"}],\"choropleth\":[{\"colorbar\":{\"outlinewidth\":0,\"ticks\":\"\"},\"type\":\"choropleth\"}],\"contourcarpet\":[{\"colorbar\":{\"outlinewidth\":0,\"ticks\":\"\"},\"type\":\"contourcarpet\"}],\"contour\":[{\"colorbar\":{\"outlinewidth\":0,\"ticks\":\"\"},\"colorscale\":[[0.0,\"#0d0887\"],[0.1111111111111111,\"#46039f\"],[0.2222222222222222,\"#7201a8\"],[0.3333333333333333,\"#9c179e\"],[0.4444444444444444,\"#bd3786\"],[0.5555555555555556,\"#d8576b\"],[0.6666666666666666,\"#ed7953\"],[0.7777777777777778,\"#fb9f3a\"],[0.8888888888888888,\"#fdca26\"],[1.0,\"#f0f921\"]],\"type\":\"contour\"}],\"heatmapgl\":[{\"colorbar\":{\"outlinewidth\":0,\"ticks\":\"\"},\"colorscale\":[[0.0,\"#0d0887\"],[0.1111111111111111,\"#46039f\"],[0.2222222222222222,\"#7201a8\"],[0.3333333333333333,\"#9c179e\"],[0.4444444444444444,\"#bd3786\"],[0.5555555555555556,\"#d8576b\"],[0.6666666666666666,\"#ed7953\"],[0.7777777777777778,\"#fb9f3a\"],[0.8888888888888888,\"#fdca26\"],[1.0,\"#f0f921\"]],\"type\":\"heatmapgl\"}],\"heatmap\":[{\"colorbar\":{\"outlinewidth\":0,\"ticks\":\"\"},\"colorscale\":[[0.0,\"#0d0887\"],[0.1111111111111111,\"#46039f\"],[0.2222222222222222,\"#7201a8\"],[0.3333333333333333,\"#9c179e\"],[0.4444444444444444,\"#bd3786\"],[0.5555555555555556,\"#d8576b\"],[0.6666666666666666,\"#ed7953\"],[0.7777777777777778,\"#fb9f3a\"],[0.8888888888888888,\"#fdca26\"],[1.0,\"#f0f921\"]],\"type\":\"heatmap\"}],\"histogram2dcontour\":[{\"colorbar\":{\"outlinewidth\":0,\"ticks\":\"\"},\"colorscale\":[[0.0,\"#0d0887\"],[0.1111111111111111,\"#46039f\"],[0.2222222222222222,\"#7201a8\"],[0.3333333333333333,\"#9c179e\"],[0.4444444444444444,\"#bd3786\"],[0.5555555555555556,\"#d8576b\"],[0.6666666666666666,\"#ed7953\"],[0.7777777777777778,\"#fb9f3a\"],[0.8888888888888888,\"#fdca26\"],[1.0,\"#f0f921\"]],\"type\":\"histogram2dcontour\"}],\"histogram2d\":[{\"colorbar\":{\"outlinewidth\":0,\"ticks\":\"\"},\"colorscale\":[[0.0,\"#0d0887\"],[0.1111111111111111,\"#46039f\"],[0.2222222222222222,\"#7201a8\"],[0.3333333333333333,\"#9c179e\"],[0.4444444444444444,\"#bd3786\"],[0.5555555555555556,\"#d8576b\"],[0.6666666666666666,\"#ed7953\"],[0.7777777777777778,\"#fb9f3a\"],[0.8888888888888888,\"#fdca26\"],[1.0,\"#f0f921\"]],\"type\":\"histogram2d\"}],\"histogram\":[{\"marker\":{\"pattern\":{\"fillmode\":\"overlay\",\"size\":10,\"solidity\":0.2}},\"type\":\"histogram\"}],\"mesh3d\":[{\"colorbar\":{\"outlinewidth\":0,\"ticks\":\"\"},\"type\":\"mesh3d\"}],\"parcoords\":[{\"line\":{\"colorbar\":{\"outlinewidth\":0,\"ticks\":\"\"}},\"type\":\"parcoords\"}],\"pie\":[{\"automargin\":true,\"type\":\"pie\"}],\"scatter3d\":[{\"line\":{\"colorbar\":{\"outlinewidth\":0,\"ticks\":\"\"}},\"marker\":{\"colorbar\":{\"outlinewidth\":0,\"ticks\":\"\"}},\"type\":\"scatter3d\"}],\"scattercarpet\":[{\"marker\":{\"colorbar\":{\"outlinewidth\":0,\"ticks\":\"\"}},\"type\":\"scattercarpet\"}],\"scattergeo\":[{\"marker\":{\"colorbar\":{\"outlinewidth\":0,\"ticks\":\"\"}},\"type\":\"scattergeo\"}],\"scattergl\":[{\"marker\":{\"colorbar\":{\"outlinewidth\":0,\"ticks\":\"\"}},\"type\":\"scattergl\"}],\"scattermapbox\":[{\"marker\":{\"colorbar\":{\"outlinewidth\":0,\"ticks\":\"\"}},\"type\":\"scattermapbox\"}],\"scatterpolargl\":[{\"marker\":{\"colorbar\":{\"outlinewidth\":0,\"ticks\":\"\"}},\"type\":\"scatterpolargl\"}],\"scatterpolar\":[{\"marker\":{\"colorbar\":{\"outlinewidth\":0,\"ticks\":\"\"}},\"type\":\"scatterpolar\"}],\"scatter\":[{\"fillpattern\":{\"fillmode\":\"overlay\",\"size\":10,\"solidity\":0.2},\"type\":\"scatter\"}],\"scatterternary\":[{\"marker\":{\"colorbar\":{\"outlinewidth\":0,\"ticks\":\"\"}},\"type\":\"scatterternary\"}],\"surface\":[{\"colorbar\":{\"outlinewidth\":0,\"ticks\":\"\"},\"colorscale\":[[0.0,\"#0d0887\"],[0.1111111111111111,\"#46039f\"],[0.2222222222222222,\"#7201a8\"],[0.3333333333333333,\"#9c179e\"],[0.4444444444444444,\"#bd3786\"],[0.5555555555555556,\"#d8576b\"],[0.6666666666666666,\"#ed7953\"],[0.7777777777777778,\"#fb9f3a\"],[0.8888888888888888,\"#fdca26\"],[1.0,\"#f0f921\"]],\"type\":\"surface\"}],\"table\":[{\"cells\":{\"fill\":{\"color\":\"#EBF0F8\"},\"line\":{\"color\":\"white\"}},\"header\":{\"fill\":{\"color\":\"#C8D4E3\"},\"line\":{\"color\":\"white\"}},\"type\":\"table\"}]},\"layout\":{\"annotationdefaults\":{\"arrowcolor\":\"#2a3f5f\",\"arrowhead\":0,\"arrowwidth\":1},\"autotypenumbers\":\"strict\",\"coloraxis\":{\"colorbar\":{\"outlinewidth\":0,\"ticks\":\"\"}},\"colorscale\":{\"diverging\":[[0,\"#8e0152\"],[0.1,\"#c51b7d\"],[0.2,\"#de77ae\"],[0.3,\"#f1b6da\"],[0.4,\"#fde0ef\"],[0.5,\"#f7f7f7\"],[0.6,\"#e6f5d0\"],[0.7,\"#b8e186\"],[0.8,\"#7fbc41\"],[0.9,\"#4d9221\"],[1,\"#276419\"]],\"sequential\":[[0.0,\"#0d0887\"],[0.1111111111111111,\"#46039f\"],[0.2222222222222222,\"#7201a8\"],[0.3333333333333333,\"#9c179e\"],[0.4444444444444444,\"#bd3786\"],[0.5555555555555556,\"#d8576b\"],[0.6666666666666666,\"#ed7953\"],[0.7777777777777778,\"#fb9f3a\"],[0.8888888888888888,\"#fdca26\"],[1.0,\"#f0f921\"]],\"sequentialminus\":[[0.0,\"#0d0887\"],[0.1111111111111111,\"#46039f\"],[0.2222222222222222,\"#7201a8\"],[0.3333333333333333,\"#9c179e\"],[0.4444444444444444,\"#bd3786\"],[0.5555555555555556,\"#d8576b\"],[0.6666666666666666,\"#ed7953\"],[0.7777777777777778,\"#fb9f3a\"],[0.8888888888888888,\"#fdca26\"],[1.0,\"#f0f921\"]]},\"colorway\":[\"#636efa\",\"#EF553B\",\"#00cc96\",\"#ab63fa\",\"#FFA15A\",\"#19d3f3\",\"#FF6692\",\"#B6E880\",\"#FF97FF\",\"#FECB52\"],\"font\":{\"color\":\"#2a3f5f\"},\"geo\":{\"bgcolor\":\"white\",\"lakecolor\":\"white\",\"landcolor\":\"#E5ECF6\",\"showlakes\":true,\"showland\":true,\"subunitcolor\":\"white\"},\"hoverlabel\":{\"align\":\"left\"},\"hovermode\":\"closest\",\"mapbox\":{\"style\":\"light\"},\"paper_bgcolor\":\"white\",\"plot_bgcolor\":\"#E5ECF6\",\"polar\":{\"angularaxis\":{\"gridcolor\":\"white\",\"linecolor\":\"white\",\"ticks\":\"\"},\"bgcolor\":\"#E5ECF6\",\"radialaxis\":{\"gridcolor\":\"white\",\"linecolor\":\"white\",\"ticks\":\"\"}},\"scene\":{\"xaxis\":{\"backgroundcolor\":\"#E5ECF6\",\"gridcolor\":\"white\",\"gridwidth\":2,\"linecolor\":\"white\",\"showbackground\":true,\"ticks\":\"\",\"zerolinecolor\":\"white\"},\"yaxis\":{\"backgroundcolor\":\"#E5ECF6\",\"gridcolor\":\"white\",\"gridwidth\":2,\"linecolor\":\"white\",\"showbackground\":true,\"ticks\":\"\",\"zerolinecolor\":\"white\"},\"zaxis\":{\"backgroundcolor\":\"#E5ECF6\",\"gridcolor\":\"white\",\"gridwidth\":2,\"linecolor\":\"white\",\"showbackground\":true,\"ticks\":\"\",\"zerolinecolor\":\"white\"}},\"shapedefaults\":{\"line\":{\"color\":\"#2a3f5f\"}},\"ternary\":{\"aaxis\":{\"gridcolor\":\"white\",\"linecolor\":\"white\",\"ticks\":\"\"},\"baxis\":{\"gridcolor\":\"white\",\"linecolor\":\"white\",\"ticks\":\"\"},\"bgcolor\":\"#E5ECF6\",\"caxis\":{\"gridcolor\":\"white\",\"linecolor\":\"white\",\"ticks\":\"\"}},\"title\":{\"x\":0.05},\"xaxis\":{\"automargin\":true,\"gridcolor\":\"white\",\"linecolor\":\"white\",\"ticks\":\"\",\"title\":{\"standoff\":15},\"zerolinecolor\":\"white\",\"zerolinewidth\":2},\"yaxis\":{\"automargin\":true,\"gridcolor\":\"white\",\"linecolor\":\"white\",\"ticks\":\"\",\"title\":{\"standoff\":15},\"zerolinecolor\":\"white\",\"zerolinewidth\":2}}},\"title\":{\"font\":{\"color\":\"#4D5663\"}},\"xaxis\":{\"gridcolor\":\"#E1E5ED\",\"showgrid\":true,\"tickfont\":{\"color\":\"#4D5663\"},\"title\":{\"font\":{\"color\":\"#4D5663\"},\"text\":\"\"},\"zerolinecolor\":\"#E1E5ED\"},\"yaxis\":{\"domain\":[0.3,1],\"gridcolor\":\"#E1E5ED\",\"showgrid\":true,\"tickfont\":{\"color\":\"#4D5663\"},\"title\":{\"font\":{\"color\":\"#4D5663\"},\"text\":\"\"},\"zerolinecolor\":\"#E1E5ED\"},\"yaxis2\":{\"domain\":[0,0.25],\"gridcolor\":\"#E1E5ED\",\"showgrid\":true,\"tickfont\":{\"color\":\"#4D5663\"},\"title\":{\"font\":{\"color\":\"#4D5663\"},\"text\":\"Spread\"},\"zerolinecolor\":\"#E1E5ED\"},\"xaxis2\":{\"anchor\":\"y2\",\"gridcolor\":\"#E1E5ED\",\"showgrid\":true,\"showticklabels\":false,\"tickfont\":{\"color\":\"#4D5663\"},\"title\":{\"font\":{\"color\":\"#4D5663\"},\"text\":\"\"},\"zerolinecolor\":\"#E1E5ED\"}},                        {\"showLink\": true, \"linkText\": \"Export to plot.ly\", \"plotlyServerURL\": \"https://plot.ly\", \"responsive\": true}                    ).then(function(){\n",
       "                            \n",
       "var gd = document.getElementById('aa99b203-bc2a-4346-b4b6-f47148c3aad4');\n",
       "var x = new MutationObserver(function (mutations, observer) {{\n",
       "        var display = window.getComputedStyle(gd).display;\n",
       "        if (!display || display === 'none') {{\n",
       "            console.log([gd, 'removed!']);\n",
       "            Plotly.purge(gd);\n",
       "            observer.disconnect();\n",
       "        }}\n",
       "}});\n",
       "\n",
       "// Listen for the removal of the full notebook cells\n",
       "var notebookContainer = gd.closest('#notebook-container');\n",
       "if (notebookContainer) {{\n",
       "    x.observe(notebookContainer, {childList: true});\n",
       "}}\n",
       "\n",
       "// Listen for the clearing of the current output cell\n",
       "var outputEl = gd.closest('.output');\n",
       "if (outputEl) {{\n",
       "    x.observe(outputEl, {childList: true});\n",
       "}}\n",
       "\n",
       "                        })                };                });            </script>        </div>"
      ]
     },
     "metadata": {},
     "output_type": "display_data"
    }
   ],
   "source": [
    "df1[[\"A\",\"B\"]].iplot ( kind=\"spread\" )"
   ]
  },
  {
   "cell_type": "code",
   "execution_count": 21,
   "id": "1938c1e1",
   "metadata": {},
   "outputs": [
    {
     "data": {
      "application/vnd.plotly.v1+json": {
       "config": {
        "linkText": "Export to plot.ly",
        "plotlyServerURL": "https://plot.ly",
        "showLink": true
       },
       "data": [
        {
         "marker": {
          "color": [
           "rgb(255, 153, 51)",
           "rgb(55, 128, 191)",
           "rgb(50, 171, 96)",
           "rgb(128, 0, 128)",
           "rgb(219, 64, 82)",
           "rgb(0, 128, 128)",
           "rgb(255, 255, 51)",
           "rgb(128, 128, 0)",
           "rgb(251, 128, 114)",
           "rgb(128, 177, 211)"
          ],
          "line": {
           "width": 1.3
          },
          "size": [
           63,
           40,
           27,
           16,
           58,
           75,
           64,
           49,
           41,
           64,
           54,
           15,
           25,
           37,
           44,
           48,
           41,
           37,
           64,
           63,
           55,
           68,
           68,
           23,
           92,
           41,
           22,
           51,
           74,
           52,
           55,
           40,
           83,
           59,
           27,
           46,
           47,
           83,
           45,
           33,
           24,
           55,
           79,
           63,
           50,
           30,
           51,
           92,
           20,
           43,
           58,
           43,
           44,
           52,
           16,
           56,
           59,
           66,
           38,
           12,
           56,
           45,
           26,
           56,
           59,
           53,
           22,
           59,
           71,
           50,
           70,
           67,
           15,
           18,
           75,
           50,
           49,
           112,
           57,
           78,
           98,
           53,
           46,
           47,
           54,
           17,
           40,
           56,
           68,
           70,
           41,
           68,
           25,
           40,
           58,
           35,
           32,
           50,
           39,
           43
          ],
          "symbol": "circle"
         },
         "mode": "markers",
         "text": "",
         "type": "scatter",
         "x": [
          0.512752939029791,
          -0.3553419617198243,
          -0.27929092762229374,
          0.13715381120273906,
          -0.10561595646288185,
          -0.1599097109111184,
          -0.4979472496059992,
          0.157104113124573,
          -0.46293873496051735,
          2.485418431861522,
          -0.4516734756190726,
          -1.493458861952407,
          -0.026482791768084567,
          -0.2757463899836123,
          2.241694624786081,
          -0.5129572406266717,
          0.15252616393685708,
          1.3865506913062904,
          -0.4983345548729902,
          0.307249958853756,
          -1.128251054831078,
          -0.8075072847154674,
          -0.6363660077137355,
          -0.3713082499903116,
          1.0441461790223507,
          0.3414257868465785,
          -0.5322617919291063,
          -1.2591308173815023,
          0.7009125457086441,
          0.9967249848203381,
          0.5553427242848349,
          -0.1710629029221637,
          -0.09347269250359294,
          -0.06269091796217952,
          -0.8889925758821092,
          1.0218299933351225,
          0.8210081659849187,
          0.44322827056598846,
          -0.4184786434300998,
          -0.08940115509505929,
          0.7269703626378548,
          0.24703444042561,
          0.05660618906374495,
          -0.46715813740333273,
          0.02946942295050563,
          -2.0148452428808628,
          -1.8538320646658921,
          -0.3354297970013657,
          1.6395349929699676,
          1.8490226882208158,
          -0.1512933010494933,
          -0.5005603686679456,
          0.7287108498117928,
          1.298360623953065,
          0.05835482274762789,
          0.05404720881988463,
          1.6448478378071496,
          -0.2165273389788695,
          -0.01089034092055172,
          -0.6396922580512779,
          0.1659230506263948,
          -0.26904140973624013,
          -0.15555495444472764,
          0.9466288861187291,
          0.49900398554713205,
          -2.175214685296227,
          0.09718808811786087,
          2.708148103191192,
          -0.7877907963975526,
          -0.0014491244335431606,
          -0.11955410895494896,
          -0.012562024727582138,
          -0.38147657376126753,
          1.1364951029280372,
          -0.3185237106734018,
          -2.2316850554714165,
          -1.332370837239957,
          1.1773780023580709,
          0.02886572654773463,
          -1.345659142078511,
          0.8985612990834209,
          0.7222788050675611,
          -1.3802880760915244,
          -1.9585194457414203,
          -2.1686577556553375,
          -0.8500871395049288,
          0.10917120767171398,
          0.4795289001080743,
          1.2234004610201688,
          0.8152430704621533,
          1.0968304321670168,
          -1.4067781777797062,
          0.05849673408436882,
          0.7533432362097038,
          0.015432162011626286,
          -1.2840022615670568,
          1.0343567428530556,
          0.6022038052564009,
          -0.5734790425194495,
          -0.061518042568631644
         ],
         "y": [
          0.9495836228334081,
          -0.7100194112250915,
          1.650112399487089,
          0.7207073489887325,
          -0.6598783128597964,
          0.18061985623530957,
          -0.4113123196925393,
          -0.8059169160909352,
          -0.45030841232826324,
          -0.8649897640802658,
          1.0102208397481613,
          -1.0723396880437734,
          -0.6968940084156565,
          -0.8645673092942562,
          2.1955425731858553,
          -1.8863114244239756,
          0.8957455972821831,
          0.678767466446716,
          -0.8943159560446318,
          -0.09741963407826157,
          0.7654188247816236,
          -0.3061372125342001,
          0.5819132563211112,
          -0.8670704822495087,
          -1.1685354191395143,
          0.4987062070583795,
          -1.2664917103538968,
          -0.0020470918678063186,
          0.3121952440872714,
          -0.16072843272068324,
          0.11875890069643805,
          0.44986031105381663,
          -1.2372941389702115,
          -0.0699148743189868,
          0.5722458274120602,
          -0.908423657263562,
          0.9938975291952103,
          0.7958846288611234,
          2.301904816453025,
          -0.03442714273076457,
          1.9790174693194467,
          2.610010540348577,
          0.32989197333371956,
          0.8624799408253738,
          0.1139651001292569,
          0.4707004527178716,
          -1.5716325921736916,
          -0.24216538524890424,
          1.2948587449311602,
          2.4104001599038,
          0.06946876011078847,
          0.14121954910246642,
          -1.758843335651598,
          -0.34023316429089806,
          -0.615902806569471,
          0.5258757904723518,
          0.768142038676994,
          -0.6217746021507302,
          0.40561366010531047,
          0.0611695638678798,
          -0.13738126847244095,
          1.0648377553030648,
          -1.8221199689954444,
          -0.8653744519128183,
          0.6777054680280602,
          2.497494640335452,
          0.15104718570411105,
          1.6886883956295087,
          0.2150663109619358,
          1.1726393230041428,
          -0.6033410253786355,
          -1.1128029280466678,
          -1.3753978791796673,
          -1.6083436278421894,
          0.3251529185534095,
          -0.23507903877710437,
          0.6854681379288818,
          -1.041259674279969,
          -0.6804639148664574,
          0.8121246030044645,
          1.3458243345424477,
          -0.11174265897113703,
          0.8968517311317901,
          1.1561368291141871,
          0.14505918969787704,
          -0.18489325889499017,
          0.28894923373935066,
          0.9245649933210359,
          0.09791212574998187,
          1.735864656117559,
          1.8020648684561578,
          1.1660229778070796,
          1.6705341417911646,
          0.7029421504635976,
          -0.09985353358039065,
          0.6613232704319956,
          0.7436371685517646,
          -1.1581864717986816,
          -0.0517374783828689,
          0.01597140932841376
         ]
        }
       ],
       "layout": {
        "legend": {
         "bgcolor": "#F5F6F9",
         "font": {
          "color": "#4D5663"
         }
        },
        "paper_bgcolor": "#F5F6F9",
        "plot_bgcolor": "#F5F6F9",
        "template": {
         "data": {
          "bar": [
           {
            "error_x": {
             "color": "#2a3f5f"
            },
            "error_y": {
             "color": "#2a3f5f"
            },
            "marker": {
             "line": {
              "color": "#E5ECF6",
              "width": 0.5
             },
             "pattern": {
              "fillmode": "overlay",
              "size": 10,
              "solidity": 0.2
             }
            },
            "type": "bar"
           }
          ],
          "barpolar": [
           {
            "marker": {
             "line": {
              "color": "#E5ECF6",
              "width": 0.5
             },
             "pattern": {
              "fillmode": "overlay",
              "size": 10,
              "solidity": 0.2
             }
            },
            "type": "barpolar"
           }
          ],
          "carpet": [
           {
            "aaxis": {
             "endlinecolor": "#2a3f5f",
             "gridcolor": "white",
             "linecolor": "white",
             "minorgridcolor": "white",
             "startlinecolor": "#2a3f5f"
            },
            "baxis": {
             "endlinecolor": "#2a3f5f",
             "gridcolor": "white",
             "linecolor": "white",
             "minorgridcolor": "white",
             "startlinecolor": "#2a3f5f"
            },
            "type": "carpet"
           }
          ],
          "choropleth": [
           {
            "colorbar": {
             "outlinewidth": 0,
             "ticks": ""
            },
            "type": "choropleth"
           }
          ],
          "contour": [
           {
            "colorbar": {
             "outlinewidth": 0,
             "ticks": ""
            },
            "colorscale": [
             [
              0,
              "#0d0887"
             ],
             [
              0.1111111111111111,
              "#46039f"
             ],
             [
              0.2222222222222222,
              "#7201a8"
             ],
             [
              0.3333333333333333,
              "#9c179e"
             ],
             [
              0.4444444444444444,
              "#bd3786"
             ],
             [
              0.5555555555555556,
              "#d8576b"
             ],
             [
              0.6666666666666666,
              "#ed7953"
             ],
             [
              0.7777777777777778,
              "#fb9f3a"
             ],
             [
              0.8888888888888888,
              "#fdca26"
             ],
             [
              1,
              "#f0f921"
             ]
            ],
            "type": "contour"
           }
          ],
          "contourcarpet": [
           {
            "colorbar": {
             "outlinewidth": 0,
             "ticks": ""
            },
            "type": "contourcarpet"
           }
          ],
          "heatmap": [
           {
            "colorbar": {
             "outlinewidth": 0,
             "ticks": ""
            },
            "colorscale": [
             [
              0,
              "#0d0887"
             ],
             [
              0.1111111111111111,
              "#46039f"
             ],
             [
              0.2222222222222222,
              "#7201a8"
             ],
             [
              0.3333333333333333,
              "#9c179e"
             ],
             [
              0.4444444444444444,
              "#bd3786"
             ],
             [
              0.5555555555555556,
              "#d8576b"
             ],
             [
              0.6666666666666666,
              "#ed7953"
             ],
             [
              0.7777777777777778,
              "#fb9f3a"
             ],
             [
              0.8888888888888888,
              "#fdca26"
             ],
             [
              1,
              "#f0f921"
             ]
            ],
            "type": "heatmap"
           }
          ],
          "heatmapgl": [
           {
            "colorbar": {
             "outlinewidth": 0,
             "ticks": ""
            },
            "colorscale": [
             [
              0,
              "#0d0887"
             ],
             [
              0.1111111111111111,
              "#46039f"
             ],
             [
              0.2222222222222222,
              "#7201a8"
             ],
             [
              0.3333333333333333,
              "#9c179e"
             ],
             [
              0.4444444444444444,
              "#bd3786"
             ],
             [
              0.5555555555555556,
              "#d8576b"
             ],
             [
              0.6666666666666666,
              "#ed7953"
             ],
             [
              0.7777777777777778,
              "#fb9f3a"
             ],
             [
              0.8888888888888888,
              "#fdca26"
             ],
             [
              1,
              "#f0f921"
             ]
            ],
            "type": "heatmapgl"
           }
          ],
          "histogram": [
           {
            "marker": {
             "pattern": {
              "fillmode": "overlay",
              "size": 10,
              "solidity": 0.2
             }
            },
            "type": "histogram"
           }
          ],
          "histogram2d": [
           {
            "colorbar": {
             "outlinewidth": 0,
             "ticks": ""
            },
            "colorscale": [
             [
              0,
              "#0d0887"
             ],
             [
              0.1111111111111111,
              "#46039f"
             ],
             [
              0.2222222222222222,
              "#7201a8"
             ],
             [
              0.3333333333333333,
              "#9c179e"
             ],
             [
              0.4444444444444444,
              "#bd3786"
             ],
             [
              0.5555555555555556,
              "#d8576b"
             ],
             [
              0.6666666666666666,
              "#ed7953"
             ],
             [
              0.7777777777777778,
              "#fb9f3a"
             ],
             [
              0.8888888888888888,
              "#fdca26"
             ],
             [
              1,
              "#f0f921"
             ]
            ],
            "type": "histogram2d"
           }
          ],
          "histogram2dcontour": [
           {
            "colorbar": {
             "outlinewidth": 0,
             "ticks": ""
            },
            "colorscale": [
             [
              0,
              "#0d0887"
             ],
             [
              0.1111111111111111,
              "#46039f"
             ],
             [
              0.2222222222222222,
              "#7201a8"
             ],
             [
              0.3333333333333333,
              "#9c179e"
             ],
             [
              0.4444444444444444,
              "#bd3786"
             ],
             [
              0.5555555555555556,
              "#d8576b"
             ],
             [
              0.6666666666666666,
              "#ed7953"
             ],
             [
              0.7777777777777778,
              "#fb9f3a"
             ],
             [
              0.8888888888888888,
              "#fdca26"
             ],
             [
              1,
              "#f0f921"
             ]
            ],
            "type": "histogram2dcontour"
           }
          ],
          "mesh3d": [
           {
            "colorbar": {
             "outlinewidth": 0,
             "ticks": ""
            },
            "type": "mesh3d"
           }
          ],
          "parcoords": [
           {
            "line": {
             "colorbar": {
              "outlinewidth": 0,
              "ticks": ""
             }
            },
            "type": "parcoords"
           }
          ],
          "pie": [
           {
            "automargin": true,
            "type": "pie"
           }
          ],
          "scatter": [
           {
            "fillpattern": {
             "fillmode": "overlay",
             "size": 10,
             "solidity": 0.2
            },
            "type": "scatter"
           }
          ],
          "scatter3d": [
           {
            "line": {
             "colorbar": {
              "outlinewidth": 0,
              "ticks": ""
             }
            },
            "marker": {
             "colorbar": {
              "outlinewidth": 0,
              "ticks": ""
             }
            },
            "type": "scatter3d"
           }
          ],
          "scattercarpet": [
           {
            "marker": {
             "colorbar": {
              "outlinewidth": 0,
              "ticks": ""
             }
            },
            "type": "scattercarpet"
           }
          ],
          "scattergeo": [
           {
            "marker": {
             "colorbar": {
              "outlinewidth": 0,
              "ticks": ""
             }
            },
            "type": "scattergeo"
           }
          ],
          "scattergl": [
           {
            "marker": {
             "colorbar": {
              "outlinewidth": 0,
              "ticks": ""
             }
            },
            "type": "scattergl"
           }
          ],
          "scattermapbox": [
           {
            "marker": {
             "colorbar": {
              "outlinewidth": 0,
              "ticks": ""
             }
            },
            "type": "scattermapbox"
           }
          ],
          "scatterpolar": [
           {
            "marker": {
             "colorbar": {
              "outlinewidth": 0,
              "ticks": ""
             }
            },
            "type": "scatterpolar"
           }
          ],
          "scatterpolargl": [
           {
            "marker": {
             "colorbar": {
              "outlinewidth": 0,
              "ticks": ""
             }
            },
            "type": "scatterpolargl"
           }
          ],
          "scatterternary": [
           {
            "marker": {
             "colorbar": {
              "outlinewidth": 0,
              "ticks": ""
             }
            },
            "type": "scatterternary"
           }
          ],
          "surface": [
           {
            "colorbar": {
             "outlinewidth": 0,
             "ticks": ""
            },
            "colorscale": [
             [
              0,
              "#0d0887"
             ],
             [
              0.1111111111111111,
              "#46039f"
             ],
             [
              0.2222222222222222,
              "#7201a8"
             ],
             [
              0.3333333333333333,
              "#9c179e"
             ],
             [
              0.4444444444444444,
              "#bd3786"
             ],
             [
              0.5555555555555556,
              "#d8576b"
             ],
             [
              0.6666666666666666,
              "#ed7953"
             ],
             [
              0.7777777777777778,
              "#fb9f3a"
             ],
             [
              0.8888888888888888,
              "#fdca26"
             ],
             [
              1,
              "#f0f921"
             ]
            ],
            "type": "surface"
           }
          ],
          "table": [
           {
            "cells": {
             "fill": {
              "color": "#EBF0F8"
             },
             "line": {
              "color": "white"
             }
            },
            "header": {
             "fill": {
              "color": "#C8D4E3"
             },
             "line": {
              "color": "white"
             }
            },
            "type": "table"
           }
          ]
         },
         "layout": {
          "annotationdefaults": {
           "arrowcolor": "#2a3f5f",
           "arrowhead": 0,
           "arrowwidth": 1
          },
          "autotypenumbers": "strict",
          "coloraxis": {
           "colorbar": {
            "outlinewidth": 0,
            "ticks": ""
           }
          },
          "colorscale": {
           "diverging": [
            [
             0,
             "#8e0152"
            ],
            [
             0.1,
             "#c51b7d"
            ],
            [
             0.2,
             "#de77ae"
            ],
            [
             0.3,
             "#f1b6da"
            ],
            [
             0.4,
             "#fde0ef"
            ],
            [
             0.5,
             "#f7f7f7"
            ],
            [
             0.6,
             "#e6f5d0"
            ],
            [
             0.7,
             "#b8e186"
            ],
            [
             0.8,
             "#7fbc41"
            ],
            [
             0.9,
             "#4d9221"
            ],
            [
             1,
             "#276419"
            ]
           ],
           "sequential": [
            [
             0,
             "#0d0887"
            ],
            [
             0.1111111111111111,
             "#46039f"
            ],
            [
             0.2222222222222222,
             "#7201a8"
            ],
            [
             0.3333333333333333,
             "#9c179e"
            ],
            [
             0.4444444444444444,
             "#bd3786"
            ],
            [
             0.5555555555555556,
             "#d8576b"
            ],
            [
             0.6666666666666666,
             "#ed7953"
            ],
            [
             0.7777777777777778,
             "#fb9f3a"
            ],
            [
             0.8888888888888888,
             "#fdca26"
            ],
            [
             1,
             "#f0f921"
            ]
           ],
           "sequentialminus": [
            [
             0,
             "#0d0887"
            ],
            [
             0.1111111111111111,
             "#46039f"
            ],
            [
             0.2222222222222222,
             "#7201a8"
            ],
            [
             0.3333333333333333,
             "#9c179e"
            ],
            [
             0.4444444444444444,
             "#bd3786"
            ],
            [
             0.5555555555555556,
             "#d8576b"
            ],
            [
             0.6666666666666666,
             "#ed7953"
            ],
            [
             0.7777777777777778,
             "#fb9f3a"
            ],
            [
             0.8888888888888888,
             "#fdca26"
            ],
            [
             1,
             "#f0f921"
            ]
           ]
          },
          "colorway": [
           "#636efa",
           "#EF553B",
           "#00cc96",
           "#ab63fa",
           "#FFA15A",
           "#19d3f3",
           "#FF6692",
           "#B6E880",
           "#FF97FF",
           "#FECB52"
          ],
          "font": {
           "color": "#2a3f5f"
          },
          "geo": {
           "bgcolor": "white",
           "lakecolor": "white",
           "landcolor": "#E5ECF6",
           "showlakes": true,
           "showland": true,
           "subunitcolor": "white"
          },
          "hoverlabel": {
           "align": "left"
          },
          "hovermode": "closest",
          "mapbox": {
           "style": "light"
          },
          "paper_bgcolor": "white",
          "plot_bgcolor": "#E5ECF6",
          "polar": {
           "angularaxis": {
            "gridcolor": "white",
            "linecolor": "white",
            "ticks": ""
           },
           "bgcolor": "#E5ECF6",
           "radialaxis": {
            "gridcolor": "white",
            "linecolor": "white",
            "ticks": ""
           }
          },
          "scene": {
           "xaxis": {
            "backgroundcolor": "#E5ECF6",
            "gridcolor": "white",
            "gridwidth": 2,
            "linecolor": "white",
            "showbackground": true,
            "ticks": "",
            "zerolinecolor": "white"
           },
           "yaxis": {
            "backgroundcolor": "#E5ECF6",
            "gridcolor": "white",
            "gridwidth": 2,
            "linecolor": "white",
            "showbackground": true,
            "ticks": "",
            "zerolinecolor": "white"
           },
           "zaxis": {
            "backgroundcolor": "#E5ECF6",
            "gridcolor": "white",
            "gridwidth": 2,
            "linecolor": "white",
            "showbackground": true,
            "ticks": "",
            "zerolinecolor": "white"
           }
          },
          "shapedefaults": {
           "line": {
            "color": "#2a3f5f"
           }
          },
          "ternary": {
           "aaxis": {
            "gridcolor": "white",
            "linecolor": "white",
            "ticks": ""
           },
           "baxis": {
            "gridcolor": "white",
            "linecolor": "white",
            "ticks": ""
           },
           "bgcolor": "#E5ECF6",
           "caxis": {
            "gridcolor": "white",
            "linecolor": "white",
            "ticks": ""
           }
          },
          "title": {
           "x": 0.05
          },
          "xaxis": {
           "automargin": true,
           "gridcolor": "white",
           "linecolor": "white",
           "ticks": "",
           "title": {
            "standoff": 15
           },
           "zerolinecolor": "white",
           "zerolinewidth": 2
          },
          "yaxis": {
           "automargin": true,
           "gridcolor": "white",
           "linecolor": "white",
           "ticks": "",
           "title": {
            "standoff": 15
           },
           "zerolinecolor": "white",
           "zerolinewidth": 2
          }
         }
        },
        "title": {
         "font": {
          "color": "#4D5663"
         }
        },
        "xaxis": {
         "gridcolor": "#E1E5ED",
         "showgrid": true,
         "tickfont": {
          "color": "#4D5663"
         },
         "title": {
          "font": {
           "color": "#4D5663"
          },
          "text": ""
         },
         "zerolinecolor": "#E1E5ED"
        },
        "yaxis": {
         "gridcolor": "#E1E5ED",
         "showgrid": true,
         "tickfont": {
          "color": "#4D5663"
         },
         "title": {
          "font": {
           "color": "#4D5663"
          },
          "text": ""
         },
         "zerolinecolor": "#E1E5ED"
        }
       }
      },
      "text/html": [
       "<div>                            <div id=\"7ee60c66-b919-457d-9c55-bd1264746633\" class=\"plotly-graph-div\" style=\"height:525px; width:100%;\"></div>            <script type=\"text/javascript\">                require([\"plotly\"], function(Plotly) {                    window.PLOTLYENV=window.PLOTLYENV || {};\n",
       "                    window.PLOTLYENV.BASE_URL='https://plot.ly';                                    if (document.getElementById(\"7ee60c66-b919-457d-9c55-bd1264746633\")) {                    Plotly.newPlot(                        \"7ee60c66-b919-457d-9c55-bd1264746633\",                        [{\"marker\":{\"color\":[\"rgb(255, 153, 51)\",\"rgb(55, 128, 191)\",\"rgb(50, 171, 96)\",\"rgb(128, 0, 128)\",\"rgb(219, 64, 82)\",\"rgb(0, 128, 128)\",\"rgb(255, 255, 51)\",\"rgb(128, 128, 0)\",\"rgb(251, 128, 114)\",\"rgb(128, 177, 211)\"],\"line\":{\"width\":1.3},\"size\":[63,40,27,16,58,75,64,49,41,64,54,15,25,37,44,48,41,37,64,63,55,68,68,23,92,41,22,51,74,52,55,40,83,59,27,46,47,83,45,33,24,55,79,63,50,30,51,92,20,43,58,43,44,52,16,56,59,66,38,12,56,45,26,56,59,53,22,59,71,50,70,67,15,18,75,50,49,112,57,78,98,53,46,47,54,17,40,56,68,70,41,68,25,40,58,35,32,50,39,43],\"symbol\":\"circle\"},\"mode\":\"markers\",\"text\":\"\",\"x\":[0.512752939029791,-0.3553419617198243,-0.27929092762229374,0.13715381120273906,-0.10561595646288185,-0.1599097109111184,-0.4979472496059992,0.157104113124573,-0.46293873496051735,2.485418431861522,-0.4516734756190726,-1.493458861952407,-0.026482791768084567,-0.2757463899836123,2.241694624786081,-0.5129572406266717,0.15252616393685708,1.3865506913062904,-0.4983345548729902,0.307249958853756,-1.128251054831078,-0.8075072847154674,-0.6363660077137355,-0.3713082499903116,1.0441461790223507,0.3414257868465785,-0.5322617919291063,-1.2591308173815023,0.7009125457086441,0.9967249848203381,0.5553427242848349,-0.1710629029221637,-0.09347269250359294,-0.06269091796217952,-0.8889925758821092,1.0218299933351225,0.8210081659849187,0.44322827056598846,-0.4184786434300998,-0.08940115509505929,0.7269703626378548,0.24703444042561,0.05660618906374495,-0.46715813740333273,0.02946942295050563,-2.0148452428808628,-1.8538320646658921,-0.3354297970013657,1.6395349929699676,1.8490226882208158,-0.1512933010494933,-0.5005603686679456,0.7287108498117928,1.298360623953065,0.05835482274762789,0.05404720881988463,1.6448478378071496,-0.2165273389788695,-0.01089034092055172,-0.6396922580512779,0.1659230506263948,-0.26904140973624013,-0.15555495444472764,0.9466288861187291,0.49900398554713205,-2.175214685296227,0.09718808811786087,2.708148103191192,-0.7877907963975526,-0.0014491244335431606,-0.11955410895494896,-0.012562024727582138,-0.38147657376126753,1.1364951029280372,-0.3185237106734018,-2.2316850554714165,-1.332370837239957,1.1773780023580709,0.02886572654773463,-1.345659142078511,0.8985612990834209,0.7222788050675611,-1.3802880760915244,-1.9585194457414203,-2.1686577556553375,-0.8500871395049288,0.10917120767171398,0.4795289001080743,1.2234004610201688,0.8152430704621533,1.0968304321670168,-1.4067781777797062,0.05849673408436882,0.7533432362097038,0.015432162011626286,-1.2840022615670568,1.0343567428530556,0.6022038052564009,-0.5734790425194495,-0.061518042568631644],\"y\":[0.9495836228334081,-0.7100194112250915,1.650112399487089,0.7207073489887325,-0.6598783128597964,0.18061985623530957,-0.4113123196925393,-0.8059169160909352,-0.45030841232826324,-0.8649897640802658,1.0102208397481613,-1.0723396880437734,-0.6968940084156565,-0.8645673092942562,2.1955425731858553,-1.8863114244239756,0.8957455972821831,0.678767466446716,-0.8943159560446318,-0.09741963407826157,0.7654188247816236,-0.3061372125342001,0.5819132563211112,-0.8670704822495087,-1.1685354191395143,0.4987062070583795,-1.2664917103538968,-0.0020470918678063186,0.3121952440872714,-0.16072843272068324,0.11875890069643805,0.44986031105381663,-1.2372941389702115,-0.0699148743189868,0.5722458274120602,-0.908423657263562,0.9938975291952103,0.7958846288611234,2.301904816453025,-0.03442714273076457,1.9790174693194467,2.610010540348577,0.32989197333371956,0.8624799408253738,0.1139651001292569,0.4707004527178716,-1.5716325921736916,-0.24216538524890424,1.2948587449311602,2.4104001599038,0.06946876011078847,0.14121954910246642,-1.758843335651598,-0.34023316429089806,-0.615902806569471,0.5258757904723518,0.768142038676994,-0.6217746021507302,0.40561366010531047,0.0611695638678798,-0.13738126847244095,1.0648377553030648,-1.8221199689954444,-0.8653744519128183,0.6777054680280602,2.497494640335452,0.15104718570411105,1.6886883956295087,0.2150663109619358,1.1726393230041428,-0.6033410253786355,-1.1128029280466678,-1.3753978791796673,-1.6083436278421894,0.3251529185534095,-0.23507903877710437,0.6854681379288818,-1.041259674279969,-0.6804639148664574,0.8121246030044645,1.3458243345424477,-0.11174265897113703,0.8968517311317901,1.1561368291141871,0.14505918969787704,-0.18489325889499017,0.28894923373935066,0.9245649933210359,0.09791212574998187,1.735864656117559,1.8020648684561578,1.1660229778070796,1.6705341417911646,0.7029421504635976,-0.09985353358039065,0.6613232704319956,0.7436371685517646,-1.1581864717986816,-0.0517374783828689,0.01597140932841376],\"type\":\"scatter\"}],                        {\"legend\":{\"bgcolor\":\"#F5F6F9\",\"font\":{\"color\":\"#4D5663\"}},\"paper_bgcolor\":\"#F5F6F9\",\"plot_bgcolor\":\"#F5F6F9\",\"template\":{\"data\":{\"barpolar\":[{\"marker\":{\"line\":{\"color\":\"#E5ECF6\",\"width\":0.5},\"pattern\":{\"fillmode\":\"overlay\",\"size\":10,\"solidity\":0.2}},\"type\":\"barpolar\"}],\"bar\":[{\"error_x\":{\"color\":\"#2a3f5f\"},\"error_y\":{\"color\":\"#2a3f5f\"},\"marker\":{\"line\":{\"color\":\"#E5ECF6\",\"width\":0.5},\"pattern\":{\"fillmode\":\"overlay\",\"size\":10,\"solidity\":0.2}},\"type\":\"bar\"}],\"carpet\":[{\"aaxis\":{\"endlinecolor\":\"#2a3f5f\",\"gridcolor\":\"white\",\"linecolor\":\"white\",\"minorgridcolor\":\"white\",\"startlinecolor\":\"#2a3f5f\"},\"baxis\":{\"endlinecolor\":\"#2a3f5f\",\"gridcolor\":\"white\",\"linecolor\":\"white\",\"minorgridcolor\":\"white\",\"startlinecolor\":\"#2a3f5f\"},\"type\":\"carpet\"}],\"choropleth\":[{\"colorbar\":{\"outlinewidth\":0,\"ticks\":\"\"},\"type\":\"choropleth\"}],\"contourcarpet\":[{\"colorbar\":{\"outlinewidth\":0,\"ticks\":\"\"},\"type\":\"contourcarpet\"}],\"contour\":[{\"colorbar\":{\"outlinewidth\":0,\"ticks\":\"\"},\"colorscale\":[[0.0,\"#0d0887\"],[0.1111111111111111,\"#46039f\"],[0.2222222222222222,\"#7201a8\"],[0.3333333333333333,\"#9c179e\"],[0.4444444444444444,\"#bd3786\"],[0.5555555555555556,\"#d8576b\"],[0.6666666666666666,\"#ed7953\"],[0.7777777777777778,\"#fb9f3a\"],[0.8888888888888888,\"#fdca26\"],[1.0,\"#f0f921\"]],\"type\":\"contour\"}],\"heatmapgl\":[{\"colorbar\":{\"outlinewidth\":0,\"ticks\":\"\"},\"colorscale\":[[0.0,\"#0d0887\"],[0.1111111111111111,\"#46039f\"],[0.2222222222222222,\"#7201a8\"],[0.3333333333333333,\"#9c179e\"],[0.4444444444444444,\"#bd3786\"],[0.5555555555555556,\"#d8576b\"],[0.6666666666666666,\"#ed7953\"],[0.7777777777777778,\"#fb9f3a\"],[0.8888888888888888,\"#fdca26\"],[1.0,\"#f0f921\"]],\"type\":\"heatmapgl\"}],\"heatmap\":[{\"colorbar\":{\"outlinewidth\":0,\"ticks\":\"\"},\"colorscale\":[[0.0,\"#0d0887\"],[0.1111111111111111,\"#46039f\"],[0.2222222222222222,\"#7201a8\"],[0.3333333333333333,\"#9c179e\"],[0.4444444444444444,\"#bd3786\"],[0.5555555555555556,\"#d8576b\"],[0.6666666666666666,\"#ed7953\"],[0.7777777777777778,\"#fb9f3a\"],[0.8888888888888888,\"#fdca26\"],[1.0,\"#f0f921\"]],\"type\":\"heatmap\"}],\"histogram2dcontour\":[{\"colorbar\":{\"outlinewidth\":0,\"ticks\":\"\"},\"colorscale\":[[0.0,\"#0d0887\"],[0.1111111111111111,\"#46039f\"],[0.2222222222222222,\"#7201a8\"],[0.3333333333333333,\"#9c179e\"],[0.4444444444444444,\"#bd3786\"],[0.5555555555555556,\"#d8576b\"],[0.6666666666666666,\"#ed7953\"],[0.7777777777777778,\"#fb9f3a\"],[0.8888888888888888,\"#fdca26\"],[1.0,\"#f0f921\"]],\"type\":\"histogram2dcontour\"}],\"histogram2d\":[{\"colorbar\":{\"outlinewidth\":0,\"ticks\":\"\"},\"colorscale\":[[0.0,\"#0d0887\"],[0.1111111111111111,\"#46039f\"],[0.2222222222222222,\"#7201a8\"],[0.3333333333333333,\"#9c179e\"],[0.4444444444444444,\"#bd3786\"],[0.5555555555555556,\"#d8576b\"],[0.6666666666666666,\"#ed7953\"],[0.7777777777777778,\"#fb9f3a\"],[0.8888888888888888,\"#fdca26\"],[1.0,\"#f0f921\"]],\"type\":\"histogram2d\"}],\"histogram\":[{\"marker\":{\"pattern\":{\"fillmode\":\"overlay\",\"size\":10,\"solidity\":0.2}},\"type\":\"histogram\"}],\"mesh3d\":[{\"colorbar\":{\"outlinewidth\":0,\"ticks\":\"\"},\"type\":\"mesh3d\"}],\"parcoords\":[{\"line\":{\"colorbar\":{\"outlinewidth\":0,\"ticks\":\"\"}},\"type\":\"parcoords\"}],\"pie\":[{\"automargin\":true,\"type\":\"pie\"}],\"scatter3d\":[{\"line\":{\"colorbar\":{\"outlinewidth\":0,\"ticks\":\"\"}},\"marker\":{\"colorbar\":{\"outlinewidth\":0,\"ticks\":\"\"}},\"type\":\"scatter3d\"}],\"scattercarpet\":[{\"marker\":{\"colorbar\":{\"outlinewidth\":0,\"ticks\":\"\"}},\"type\":\"scattercarpet\"}],\"scattergeo\":[{\"marker\":{\"colorbar\":{\"outlinewidth\":0,\"ticks\":\"\"}},\"type\":\"scattergeo\"}],\"scattergl\":[{\"marker\":{\"colorbar\":{\"outlinewidth\":0,\"ticks\":\"\"}},\"type\":\"scattergl\"}],\"scattermapbox\":[{\"marker\":{\"colorbar\":{\"outlinewidth\":0,\"ticks\":\"\"}},\"type\":\"scattermapbox\"}],\"scatterpolargl\":[{\"marker\":{\"colorbar\":{\"outlinewidth\":0,\"ticks\":\"\"}},\"type\":\"scatterpolargl\"}],\"scatterpolar\":[{\"marker\":{\"colorbar\":{\"outlinewidth\":0,\"ticks\":\"\"}},\"type\":\"scatterpolar\"}],\"scatter\":[{\"fillpattern\":{\"fillmode\":\"overlay\",\"size\":10,\"solidity\":0.2},\"type\":\"scatter\"}],\"scatterternary\":[{\"marker\":{\"colorbar\":{\"outlinewidth\":0,\"ticks\":\"\"}},\"type\":\"scatterternary\"}],\"surface\":[{\"colorbar\":{\"outlinewidth\":0,\"ticks\":\"\"},\"colorscale\":[[0.0,\"#0d0887\"],[0.1111111111111111,\"#46039f\"],[0.2222222222222222,\"#7201a8\"],[0.3333333333333333,\"#9c179e\"],[0.4444444444444444,\"#bd3786\"],[0.5555555555555556,\"#d8576b\"],[0.6666666666666666,\"#ed7953\"],[0.7777777777777778,\"#fb9f3a\"],[0.8888888888888888,\"#fdca26\"],[1.0,\"#f0f921\"]],\"type\":\"surface\"}],\"table\":[{\"cells\":{\"fill\":{\"color\":\"#EBF0F8\"},\"line\":{\"color\":\"white\"}},\"header\":{\"fill\":{\"color\":\"#C8D4E3\"},\"line\":{\"color\":\"white\"}},\"type\":\"table\"}]},\"layout\":{\"annotationdefaults\":{\"arrowcolor\":\"#2a3f5f\",\"arrowhead\":0,\"arrowwidth\":1},\"autotypenumbers\":\"strict\",\"coloraxis\":{\"colorbar\":{\"outlinewidth\":0,\"ticks\":\"\"}},\"colorscale\":{\"diverging\":[[0,\"#8e0152\"],[0.1,\"#c51b7d\"],[0.2,\"#de77ae\"],[0.3,\"#f1b6da\"],[0.4,\"#fde0ef\"],[0.5,\"#f7f7f7\"],[0.6,\"#e6f5d0\"],[0.7,\"#b8e186\"],[0.8,\"#7fbc41\"],[0.9,\"#4d9221\"],[1,\"#276419\"]],\"sequential\":[[0.0,\"#0d0887\"],[0.1111111111111111,\"#46039f\"],[0.2222222222222222,\"#7201a8\"],[0.3333333333333333,\"#9c179e\"],[0.4444444444444444,\"#bd3786\"],[0.5555555555555556,\"#d8576b\"],[0.6666666666666666,\"#ed7953\"],[0.7777777777777778,\"#fb9f3a\"],[0.8888888888888888,\"#fdca26\"],[1.0,\"#f0f921\"]],\"sequentialminus\":[[0.0,\"#0d0887\"],[0.1111111111111111,\"#46039f\"],[0.2222222222222222,\"#7201a8\"],[0.3333333333333333,\"#9c179e\"],[0.4444444444444444,\"#bd3786\"],[0.5555555555555556,\"#d8576b\"],[0.6666666666666666,\"#ed7953\"],[0.7777777777777778,\"#fb9f3a\"],[0.8888888888888888,\"#fdca26\"],[1.0,\"#f0f921\"]]},\"colorway\":[\"#636efa\",\"#EF553B\",\"#00cc96\",\"#ab63fa\",\"#FFA15A\",\"#19d3f3\",\"#FF6692\",\"#B6E880\",\"#FF97FF\",\"#FECB52\"],\"font\":{\"color\":\"#2a3f5f\"},\"geo\":{\"bgcolor\":\"white\",\"lakecolor\":\"white\",\"landcolor\":\"#E5ECF6\",\"showlakes\":true,\"showland\":true,\"subunitcolor\":\"white\"},\"hoverlabel\":{\"align\":\"left\"},\"hovermode\":\"closest\",\"mapbox\":{\"style\":\"light\"},\"paper_bgcolor\":\"white\",\"plot_bgcolor\":\"#E5ECF6\",\"polar\":{\"angularaxis\":{\"gridcolor\":\"white\",\"linecolor\":\"white\",\"ticks\":\"\"},\"bgcolor\":\"#E5ECF6\",\"radialaxis\":{\"gridcolor\":\"white\",\"linecolor\":\"white\",\"ticks\":\"\"}},\"scene\":{\"xaxis\":{\"backgroundcolor\":\"#E5ECF6\",\"gridcolor\":\"white\",\"gridwidth\":2,\"linecolor\":\"white\",\"showbackground\":true,\"ticks\":\"\",\"zerolinecolor\":\"white\"},\"yaxis\":{\"backgroundcolor\":\"#E5ECF6\",\"gridcolor\":\"white\",\"gridwidth\":2,\"linecolor\":\"white\",\"showbackground\":true,\"ticks\":\"\",\"zerolinecolor\":\"white\"},\"zaxis\":{\"backgroundcolor\":\"#E5ECF6\",\"gridcolor\":\"white\",\"gridwidth\":2,\"linecolor\":\"white\",\"showbackground\":true,\"ticks\":\"\",\"zerolinecolor\":\"white\"}},\"shapedefaults\":{\"line\":{\"color\":\"#2a3f5f\"}},\"ternary\":{\"aaxis\":{\"gridcolor\":\"white\",\"linecolor\":\"white\",\"ticks\":\"\"},\"baxis\":{\"gridcolor\":\"white\",\"linecolor\":\"white\",\"ticks\":\"\"},\"bgcolor\":\"#E5ECF6\",\"caxis\":{\"gridcolor\":\"white\",\"linecolor\":\"white\",\"ticks\":\"\"}},\"title\":{\"x\":0.05},\"xaxis\":{\"automargin\":true,\"gridcolor\":\"white\",\"linecolor\":\"white\",\"ticks\":\"\",\"title\":{\"standoff\":15},\"zerolinecolor\":\"white\",\"zerolinewidth\":2},\"yaxis\":{\"automargin\":true,\"gridcolor\":\"white\",\"linecolor\":\"white\",\"ticks\":\"\",\"title\":{\"standoff\":15},\"zerolinecolor\":\"white\",\"zerolinewidth\":2}}},\"title\":{\"font\":{\"color\":\"#4D5663\"}},\"xaxis\":{\"gridcolor\":\"#E1E5ED\",\"showgrid\":true,\"tickfont\":{\"color\":\"#4D5663\"},\"title\":{\"font\":{\"color\":\"#4D5663\"},\"text\":\"\"},\"zerolinecolor\":\"#E1E5ED\"},\"yaxis\":{\"gridcolor\":\"#E1E5ED\",\"showgrid\":true,\"tickfont\":{\"color\":\"#4D5663\"},\"title\":{\"font\":{\"color\":\"#4D5663\"},\"text\":\"\"},\"zerolinecolor\":\"#E1E5ED\"}},                        {\"showLink\": true, \"linkText\": \"Export to plot.ly\", \"plotlyServerURL\": \"https://plot.ly\", \"responsive\": true}                    ).then(function(){\n",
       "                            \n",
       "var gd = document.getElementById('7ee60c66-b919-457d-9c55-bd1264746633');\n",
       "var x = new MutationObserver(function (mutations, observer) {{\n",
       "        var display = window.getComputedStyle(gd).display;\n",
       "        if (!display || display === 'none') {{\n",
       "            console.log([gd, 'removed!']);\n",
       "            Plotly.purge(gd);\n",
       "            observer.disconnect();\n",
       "        }}\n",
       "}});\n",
       "\n",
       "// Listen for the removal of the full notebook cells\n",
       "var notebookContainer = gd.closest('#notebook-container');\n",
       "if (notebookContainer) {{\n",
       "    x.observe(notebookContainer, {childList: true});\n",
       "}}\n",
       "\n",
       "// Listen for the clearing of the current output cell\n",
       "var outputEl = gd.closest('.output');\n",
       "if (outputEl) {{\n",
       "    x.observe(outputEl, {childList: true});\n",
       "}}\n",
       "\n",
       "                        })                };                });            </script>        </div>"
      ]
     },
     "metadata": {},
     "output_type": "display_data"
    }
   ],
   "source": [
    "df1.iplot ( kind=\"bubble\" , x=\"A\" , y=\"B\" , size=\"C\" ) "
   ]
  },
  {
   "cell_type": "code",
   "execution_count": 22,
   "id": "eac598ce",
   "metadata": {},
   "outputs": [
    {
     "data": {
      "application/vnd.plotly.v1+json": {
       "config": {
        "linkText": "Export to plot.ly",
        "plotlyServerURL": "https://plot.ly",
        "showLink": true
       },
       "data": [
        {
         "histfunc": "count",
         "histnorm": "",
         "marker": {
          "color": "rgba(255, 153, 51, 1.0)",
          "line": {
           "color": "#4D5663",
           "width": 1.3
          }
         },
         "name": "A",
         "nbinsx": 10,
         "opacity": 0.8,
         "orientation": "v",
         "type": "histogram",
         "x": [
          0.512752939029791,
          -0.3553419617198243,
          -0.27929092762229374,
          0.13715381120273906,
          -0.10561595646288185,
          -0.1599097109111184,
          -0.4979472496059992,
          0.157104113124573,
          -0.46293873496051735,
          2.485418431861522,
          -0.4516734756190726,
          -1.493458861952407,
          -0.026482791768084567,
          -0.2757463899836123,
          2.241694624786081,
          -0.5129572406266717,
          0.15252616393685708,
          1.3865506913062904,
          -0.4983345548729902,
          0.307249958853756,
          -1.128251054831078,
          -0.8075072847154674,
          -0.6363660077137355,
          -0.3713082499903116,
          1.0441461790223507,
          0.3414257868465785,
          -0.5322617919291063,
          -1.2591308173815023,
          0.7009125457086441,
          0.9967249848203381,
          0.5553427242848349,
          -0.1710629029221637,
          -0.09347269250359294,
          -0.06269091796217952,
          -0.8889925758821092,
          1.0218299933351225,
          0.8210081659849187,
          0.44322827056598846,
          -0.4184786434300998,
          -0.08940115509505929,
          0.7269703626378548,
          0.24703444042561,
          0.05660618906374495,
          -0.46715813740333273,
          0.02946942295050563,
          -2.0148452428808628,
          -1.8538320646658921,
          -0.3354297970013657,
          1.6395349929699676,
          1.8490226882208158,
          -0.1512933010494933,
          -0.5005603686679456,
          0.7287108498117928,
          1.298360623953065,
          0.05835482274762789,
          0.05404720881988463,
          1.6448478378071496,
          -0.2165273389788695,
          -0.01089034092055172,
          -0.6396922580512779,
          0.1659230506263948,
          -0.26904140973624013,
          -0.15555495444472764,
          0.9466288861187291,
          0.49900398554713205,
          -2.175214685296227,
          0.09718808811786087,
          2.708148103191192,
          -0.7877907963975526,
          -0.0014491244335431606,
          -0.11955410895494896,
          -0.012562024727582138,
          -0.38147657376126753,
          1.1364951029280372,
          -0.3185237106734018,
          -2.2316850554714165,
          -1.332370837239957,
          1.1773780023580709,
          0.02886572654773463,
          -1.345659142078511,
          0.8985612990834209,
          0.7222788050675611,
          -1.3802880760915244,
          -1.9585194457414203,
          -2.1686577556553375,
          -0.8500871395049288,
          0.10917120767171398,
          0.4795289001080743,
          1.2234004610201688,
          0.8152430704621533,
          1.0968304321670168,
          -1.4067781777797062,
          0.05849673408436882,
          0.7533432362097038,
          0.015432162011626286,
          -1.2840022615670568,
          1.0343567428530556,
          0.6022038052564009,
          -0.5734790425194495,
          -0.061518042568631644
         ],
         "xaxis": "x",
         "yaxis": "y"
        },
        {
         "line": {
          "color": "rgba(128, 128, 128, 1.0)",
          "dash": "solid",
          "shape": "linear",
          "width": 1.3
         },
         "marker": {
          "size": 2,
          "symbol": "circle"
         },
         "mode": "markers",
         "name": "A",
         "text": "",
         "type": "scatter",
         "x": [
          0.9495836228334081,
          -0.7100194112250915,
          1.650112399487089,
          0.7207073489887325,
          -0.6598783128597964,
          0.18061985623530957,
          -0.4113123196925393,
          -0.8059169160909352,
          -0.45030841232826324,
          -0.8649897640802658,
          1.0102208397481613,
          -1.0723396880437734,
          -0.6968940084156565,
          -0.8645673092942562,
          2.1955425731858553,
          -1.8863114244239756,
          0.8957455972821831,
          0.678767466446716,
          -0.8943159560446318,
          -0.09741963407826157,
          0.7654188247816236,
          -0.3061372125342001,
          0.5819132563211112,
          -0.8670704822495087,
          -1.1685354191395143,
          0.4987062070583795,
          -1.2664917103538968,
          -0.0020470918678063186,
          0.3121952440872714,
          -0.16072843272068324,
          0.11875890069643805,
          0.44986031105381663,
          -1.2372941389702115,
          -0.0699148743189868,
          0.5722458274120602,
          -0.908423657263562,
          0.9938975291952103,
          0.7958846288611234,
          2.301904816453025,
          -0.03442714273076457,
          1.9790174693194467,
          2.610010540348577,
          0.32989197333371956,
          0.8624799408253738,
          0.1139651001292569,
          0.4707004527178716,
          -1.5716325921736916,
          -0.24216538524890424,
          1.2948587449311602,
          2.4104001599038,
          0.06946876011078847,
          0.14121954910246642,
          -1.758843335651598,
          -0.34023316429089806,
          -0.615902806569471,
          0.5258757904723518,
          0.768142038676994,
          -0.6217746021507302,
          0.40561366010531047,
          0.0611695638678798,
          -0.13738126847244095,
          1.0648377553030648,
          -1.8221199689954444,
          -0.8653744519128183,
          0.6777054680280602,
          2.497494640335452,
          0.15104718570411105,
          1.6886883956295087,
          0.2150663109619358,
          1.1726393230041428,
          -0.6033410253786355,
          -1.1128029280466678,
          -1.3753978791796673,
          -1.6083436278421894,
          0.3251529185534095,
          -0.23507903877710437,
          0.6854681379288818,
          -1.041259674279969,
          -0.6804639148664574,
          0.8121246030044645,
          1.3458243345424477,
          -0.11174265897113703,
          0.8968517311317901,
          1.1561368291141871,
          0.14505918969787704,
          -0.18489325889499017,
          0.28894923373935066,
          0.9245649933210359,
          0.09791212574998187,
          1.735864656117559,
          1.8020648684561578,
          1.1660229778070796,
          1.6705341417911646,
          0.7029421504635976,
          -0.09985353358039065,
          0.6613232704319956,
          0.7436371685517646,
          -1.1581864717986816,
          -0.0517374783828689,
          0.01597140932841376
         ],
         "xaxis": "x2",
         "y": [
          0.512752939029791,
          -0.3553419617198243,
          -0.27929092762229374,
          0.13715381120273906,
          -0.10561595646288185,
          -0.1599097109111184,
          -0.4979472496059992,
          0.157104113124573,
          -0.46293873496051735,
          2.485418431861522,
          -0.4516734756190726,
          -1.493458861952407,
          -0.026482791768084567,
          -0.2757463899836123,
          2.241694624786081,
          -0.5129572406266717,
          0.15252616393685708,
          1.3865506913062904,
          -0.4983345548729902,
          0.307249958853756,
          -1.128251054831078,
          -0.8075072847154674,
          -0.6363660077137355,
          -0.3713082499903116,
          1.0441461790223507,
          0.3414257868465785,
          -0.5322617919291063,
          -1.2591308173815023,
          0.7009125457086441,
          0.9967249848203381,
          0.5553427242848349,
          -0.1710629029221637,
          -0.09347269250359294,
          -0.06269091796217952,
          -0.8889925758821092,
          1.0218299933351225,
          0.8210081659849187,
          0.44322827056598846,
          -0.4184786434300998,
          -0.08940115509505929,
          0.7269703626378548,
          0.24703444042561,
          0.05660618906374495,
          -0.46715813740333273,
          0.02946942295050563,
          -2.0148452428808628,
          -1.8538320646658921,
          -0.3354297970013657,
          1.6395349929699676,
          1.8490226882208158,
          -0.1512933010494933,
          -0.5005603686679456,
          0.7287108498117928,
          1.298360623953065,
          0.05835482274762789,
          0.05404720881988463,
          1.6448478378071496,
          -0.2165273389788695,
          -0.01089034092055172,
          -0.6396922580512779,
          0.1659230506263948,
          -0.26904140973624013,
          -0.15555495444472764,
          0.9466288861187291,
          0.49900398554713205,
          -2.175214685296227,
          0.09718808811786087,
          2.708148103191192,
          -0.7877907963975526,
          -0.0014491244335431606,
          -0.11955410895494896,
          -0.012562024727582138,
          -0.38147657376126753,
          1.1364951029280372,
          -0.3185237106734018,
          -2.2316850554714165,
          -1.332370837239957,
          1.1773780023580709,
          0.02886572654773463,
          -1.345659142078511,
          0.8985612990834209,
          0.7222788050675611,
          -1.3802880760915244,
          -1.9585194457414203,
          -2.1686577556553375,
          -0.8500871395049288,
          0.10917120767171398,
          0.4795289001080743,
          1.2234004610201688,
          0.8152430704621533,
          1.0968304321670168,
          -1.4067781777797062,
          0.05849673408436882,
          0.7533432362097038,
          0.015432162011626286,
          -1.2840022615670568,
          1.0343567428530556,
          0.6022038052564009,
          -0.5734790425194495,
          -0.061518042568631644
         ],
         "yaxis": "y2"
        },
        {
         "line": {
          "color": "rgba(128, 128, 128, 1.0)",
          "dash": "solid",
          "shape": "linear",
          "width": 1.3
         },
         "marker": {
          "size": 2,
          "symbol": "circle"
         },
         "mode": "markers",
         "name": "A",
         "text": "",
         "type": "scatter",
         "x": [
          0.647918339125702,
          -0.6629874159950747,
          -1.365185908111771,
          -2.0075225889599912,
          0.35654496700388316,
          1.3006874023536812,
          0.6835665697629982,
          -0.1401688964319155,
          -0.5803277472699386,
          0.6923895199692292,
          0.11043568798289007,
          -2.04023863493297,
          -1.4862374677794092,
          -0.8038954840842417,
          -0.4135429899954026,
          -0.19033116277557574,
          -0.5832375643284965,
          -0.7939887159905965,
          0.6763710647834456,
          0.622834178952044,
          0.19795849857076636,
          0.9230244541099311,
          0.9102873282566336,
          -1.578134272455675,
          2.248498612388913,
          -0.618276094493357,
          -1.642332191049332,
          -0.04954032303581414,
          1.273426373834263,
          0.05231784690273851,
          0.2170359373006094,
          -0.621871739089189,
          1.7856015664211622,
          0.43911657462324843,
          -1.4061425872715332,
          -0.32187333746658625,
          -0.23938813708705242,
          1.7833946355736527,
          -0.37324468282187484,
          -1.0666543693021822,
          -1.5485146171686575,
          0.20222191754419228,
          1.5230706386496686,
          0.616125792570182,
          -0.060507670904036276,
          -1.2248084283541232,
          -0.044431380557908934,
          2.2728044609439206,
          -1.7719469687907905,
          -0.5033840112064768,
          0.3851516439195813,
          -0.46447582205570065,
          -0.41975194804749727,
          0.04487714083101872,
          -2.008098012532532,
          0.2570531685060416,
          0.4336246485117831,
          0.7873621484585646,
          -0.7858747473947723,
          -2.249721885545336,
          0.2608393620754042,
          -0.35116999546835553,
          -1.4189477335205365,
          0.2452825146149802,
          0.40435417415188973,
          0.09930232430532347,
          -1.6741987610616293,
          0.42798943237457315,
          1.1160057602750102,
          -0.08809469183071897,
          1.0374511726902327,
          0.8647984505493161,
          -2.02602321230138,
          -1.8973360600586375,
          1.3290420228656905,
          -0.08532051099166421,
          -0.1618291189602749,
          3.36589901332965,
          0.2853060111168622,
          1.4909104779129705,
          2.603046817481854,
          0.07057420879162299,
          -0.3349264401219666,
          -0.27214487332199866,
          0.11621477136899505,
          -1.9653993496117967,
          -0.6532103410624271,
          0.2363608302426708,
          0.9248339096229946,
          1.044452994302072,
          -0.568127620861377,
          0.9347943385510102,
          -1.4674844783936958,
          -0.6593242696058286,
          0.33773560085113274,
          -0.9564585499347026,
          -1.0816546603266393,
          -0.0990998967519054,
          -0.6780371610061101,
          -0.4661359234137232
         ],
         "xaxis": "x3",
         "y": [
          0.512752939029791,
          -0.3553419617198243,
          -0.27929092762229374,
          0.13715381120273906,
          -0.10561595646288185,
          -0.1599097109111184,
          -0.4979472496059992,
          0.157104113124573,
          -0.46293873496051735,
          2.485418431861522,
          -0.4516734756190726,
          -1.493458861952407,
          -0.026482791768084567,
          -0.2757463899836123,
          2.241694624786081,
          -0.5129572406266717,
          0.15252616393685708,
          1.3865506913062904,
          -0.4983345548729902,
          0.307249958853756,
          -1.128251054831078,
          -0.8075072847154674,
          -0.6363660077137355,
          -0.3713082499903116,
          1.0441461790223507,
          0.3414257868465785,
          -0.5322617919291063,
          -1.2591308173815023,
          0.7009125457086441,
          0.9967249848203381,
          0.5553427242848349,
          -0.1710629029221637,
          -0.09347269250359294,
          -0.06269091796217952,
          -0.8889925758821092,
          1.0218299933351225,
          0.8210081659849187,
          0.44322827056598846,
          -0.4184786434300998,
          -0.08940115509505929,
          0.7269703626378548,
          0.24703444042561,
          0.05660618906374495,
          -0.46715813740333273,
          0.02946942295050563,
          -2.0148452428808628,
          -1.8538320646658921,
          -0.3354297970013657,
          1.6395349929699676,
          1.8490226882208158,
          -0.1512933010494933,
          -0.5005603686679456,
          0.7287108498117928,
          1.298360623953065,
          0.05835482274762789,
          0.05404720881988463,
          1.6448478378071496,
          -0.2165273389788695,
          -0.01089034092055172,
          -0.6396922580512779,
          0.1659230506263948,
          -0.26904140973624013,
          -0.15555495444472764,
          0.9466288861187291,
          0.49900398554713205,
          -2.175214685296227,
          0.09718808811786087,
          2.708148103191192,
          -0.7877907963975526,
          -0.0014491244335431606,
          -0.11955410895494896,
          -0.012562024727582138,
          -0.38147657376126753,
          1.1364951029280372,
          -0.3185237106734018,
          -2.2316850554714165,
          -1.332370837239957,
          1.1773780023580709,
          0.02886572654773463,
          -1.345659142078511,
          0.8985612990834209,
          0.7222788050675611,
          -1.3802880760915244,
          -1.9585194457414203,
          -2.1686577556553375,
          -0.8500871395049288,
          0.10917120767171398,
          0.4795289001080743,
          1.2234004610201688,
          0.8152430704621533,
          1.0968304321670168,
          -1.4067781777797062,
          0.05849673408436882,
          0.7533432362097038,
          0.015432162011626286,
          -1.2840022615670568,
          1.0343567428530556,
          0.6022038052564009,
          -0.5734790425194495,
          -0.061518042568631644
         ],
         "yaxis": "y3"
        },
        {
         "line": {
          "color": "rgba(128, 128, 128, 1.0)",
          "dash": "solid",
          "shape": "linear",
          "width": 1.3
         },
         "marker": {
          "size": 2,
          "symbol": "circle"
         },
         "mode": "markers",
         "name": "A",
         "text": "",
         "type": "scatter",
         "x": [
          -0.19631981906212687,
          -0.6519713807353804,
          -1.0649846722973384,
          0.2276268403009993,
          0.7048164209836024,
          -1.4446783704695936,
          -2.033750158183124,
          0.5138908127633827,
          0.5743634695953264,
          -1.3657451693518634,
          0.4637907687699757,
          1.0844078896291873,
          -0.8199961871709128,
          0.7302810084439927,
          1.1501886667067136,
          1.4068956037099702,
          1.508692417359712,
          -0.122429546415331,
          -1.2139029828276917,
          -1.3915936060875007,
          -0.3238322412559266,
          1.3434653001668608,
          -0.5185807775608965,
          -0.7107820957370212,
          -0.4464055579970659,
          -0.9606481511417176,
          -0.295817297356241,
          -0.7965590857577352,
          0.006067325117813681,
          -0.4809220256345543,
          1.028630144482865,
          -0.3991139925170933,
          0.03907052978298096,
          1.4539224977284508,
          1.2368047827803776,
          1.498742536272704,
          0.9555284868160445,
          -0.4319859168096048,
          0.07204665511014491,
          0.15138773782731127,
          -0.0016863454597473644,
          -0.66704262100987,
          0.8234927800554659,
          0.9355289432127771,
          -0.6529971281881106,
          1.5998032068698078,
          -1.158827929365611,
          -0.04136818612304619,
          1.0781454686574732,
          0.21721131798324592,
          1.534521058113346,
          -1.750652204012357,
          0.9872822474417707,
          -1.197496541939758,
          -1.0439173878772081,
          0.09596236413985537,
          -0.6568654252222857,
          0.706633110663512,
          -1.211932613051174,
          0.671873724489011,
          -0.3898892118405459,
          0.9970459716634278,
          -0.28713960225161106,
          -0.010341133054459198,
          -0.9767493981679324,
          -0.18844975221423968,
          -0.7820893042608988,
          -1.8529738370200275,
          1.4738531760079354,
          -0.23686088155185786,
          -0.8470745256434993,
          -2.05765141244495,
          0.8174144337022742,
          -1.4106119727042548,
          -0.7248926917781047,
          -0.8969630071984197,
          -0.6419860011659925,
          -0.375072540951662,
          0.17237805217223748,
          -0.5805831220436499,
          -1.0090042945869997,
          -0.360630514240928,
          0.06712082805980472,
          -1.0222964654995608,
          -1.3111878556748808,
          -0.6265000694373624,
          -0.45147531022127435,
          -1.1298686894301744,
          -1.7403524915989772,
          -0.20931072894096553,
          -0.4243133313934241,
          -0.4252201065654679,
          -0.9829243053422797,
          0.6344429869787069,
          0.4895108597241183,
          0.9515124340705648,
          -1.2456264225617408,
          -0.003231469493402177,
          -0.4297021911016993,
          -1.0168190422430656
         ],
         "xaxis": "x4",
         "y": [
          0.512752939029791,
          -0.3553419617198243,
          -0.27929092762229374,
          0.13715381120273906,
          -0.10561595646288185,
          -0.1599097109111184,
          -0.4979472496059992,
          0.157104113124573,
          -0.46293873496051735,
          2.485418431861522,
          -0.4516734756190726,
          -1.493458861952407,
          -0.026482791768084567,
          -0.2757463899836123,
          2.241694624786081,
          -0.5129572406266717,
          0.15252616393685708,
          1.3865506913062904,
          -0.4983345548729902,
          0.307249958853756,
          -1.128251054831078,
          -0.8075072847154674,
          -0.6363660077137355,
          -0.3713082499903116,
          1.0441461790223507,
          0.3414257868465785,
          -0.5322617919291063,
          -1.2591308173815023,
          0.7009125457086441,
          0.9967249848203381,
          0.5553427242848349,
          -0.1710629029221637,
          -0.09347269250359294,
          -0.06269091796217952,
          -0.8889925758821092,
          1.0218299933351225,
          0.8210081659849187,
          0.44322827056598846,
          -0.4184786434300998,
          -0.08940115509505929,
          0.7269703626378548,
          0.24703444042561,
          0.05660618906374495,
          -0.46715813740333273,
          0.02946942295050563,
          -2.0148452428808628,
          -1.8538320646658921,
          -0.3354297970013657,
          1.6395349929699676,
          1.8490226882208158,
          -0.1512933010494933,
          -0.5005603686679456,
          0.7287108498117928,
          1.298360623953065,
          0.05835482274762789,
          0.05404720881988463,
          1.6448478378071496,
          -0.2165273389788695,
          -0.01089034092055172,
          -0.6396922580512779,
          0.1659230506263948,
          -0.26904140973624013,
          -0.15555495444472764,
          0.9466288861187291,
          0.49900398554713205,
          -2.175214685296227,
          0.09718808811786087,
          2.708148103191192,
          -0.7877907963975526,
          -0.0014491244335431606,
          -0.11955410895494896,
          -0.012562024727582138,
          -0.38147657376126753,
          1.1364951029280372,
          -0.3185237106734018,
          -2.2316850554714165,
          -1.332370837239957,
          1.1773780023580709,
          0.02886572654773463,
          -1.345659142078511,
          0.8985612990834209,
          0.7222788050675611,
          -1.3802880760915244,
          -1.9585194457414203,
          -2.1686577556553375,
          -0.8500871395049288,
          0.10917120767171398,
          0.4795289001080743,
          1.2234004610201688,
          0.8152430704621533,
          1.0968304321670168,
          -1.4067781777797062,
          0.05849673408436882,
          0.7533432362097038,
          0.015432162011626286,
          -1.2840022615670568,
          1.0343567428530556,
          0.6022038052564009,
          -0.5734790425194495,
          -0.061518042568631644
         ],
         "yaxis": "y4"
        },
        {
         "line": {
          "color": "rgba(128, 128, 128, 1.0)",
          "dash": "solid",
          "shape": "linear",
          "width": 1.3
         },
         "marker": {
          "size": 2,
          "symbol": "circle"
         },
         "mode": "markers",
         "name": "B",
         "text": "",
         "type": "scatter",
         "x": [
          0.512752939029791,
          -0.3553419617198243,
          -0.27929092762229374,
          0.13715381120273906,
          -0.10561595646288185,
          -0.1599097109111184,
          -0.4979472496059992,
          0.157104113124573,
          -0.46293873496051735,
          2.485418431861522,
          -0.4516734756190726,
          -1.493458861952407,
          -0.026482791768084567,
          -0.2757463899836123,
          2.241694624786081,
          -0.5129572406266717,
          0.15252616393685708,
          1.3865506913062904,
          -0.4983345548729902,
          0.307249958853756,
          -1.128251054831078,
          -0.8075072847154674,
          -0.6363660077137355,
          -0.3713082499903116,
          1.0441461790223507,
          0.3414257868465785,
          -0.5322617919291063,
          -1.2591308173815023,
          0.7009125457086441,
          0.9967249848203381,
          0.5553427242848349,
          -0.1710629029221637,
          -0.09347269250359294,
          -0.06269091796217952,
          -0.8889925758821092,
          1.0218299933351225,
          0.8210081659849187,
          0.44322827056598846,
          -0.4184786434300998,
          -0.08940115509505929,
          0.7269703626378548,
          0.24703444042561,
          0.05660618906374495,
          -0.46715813740333273,
          0.02946942295050563,
          -2.0148452428808628,
          -1.8538320646658921,
          -0.3354297970013657,
          1.6395349929699676,
          1.8490226882208158,
          -0.1512933010494933,
          -0.5005603686679456,
          0.7287108498117928,
          1.298360623953065,
          0.05835482274762789,
          0.05404720881988463,
          1.6448478378071496,
          -0.2165273389788695,
          -0.01089034092055172,
          -0.6396922580512779,
          0.1659230506263948,
          -0.26904140973624013,
          -0.15555495444472764,
          0.9466288861187291,
          0.49900398554713205,
          -2.175214685296227,
          0.09718808811786087,
          2.708148103191192,
          -0.7877907963975526,
          -0.0014491244335431606,
          -0.11955410895494896,
          -0.012562024727582138,
          -0.38147657376126753,
          1.1364951029280372,
          -0.3185237106734018,
          -2.2316850554714165,
          -1.332370837239957,
          1.1773780023580709,
          0.02886572654773463,
          -1.345659142078511,
          0.8985612990834209,
          0.7222788050675611,
          -1.3802880760915244,
          -1.9585194457414203,
          -2.1686577556553375,
          -0.8500871395049288,
          0.10917120767171398,
          0.4795289001080743,
          1.2234004610201688,
          0.8152430704621533,
          1.0968304321670168,
          -1.4067781777797062,
          0.05849673408436882,
          0.7533432362097038,
          0.015432162011626286,
          -1.2840022615670568,
          1.0343567428530556,
          0.6022038052564009,
          -0.5734790425194495,
          -0.061518042568631644
         ],
         "xaxis": "x5",
         "y": [
          0.9495836228334081,
          -0.7100194112250915,
          1.650112399487089,
          0.7207073489887325,
          -0.6598783128597964,
          0.18061985623530957,
          -0.4113123196925393,
          -0.8059169160909352,
          -0.45030841232826324,
          -0.8649897640802658,
          1.0102208397481613,
          -1.0723396880437734,
          -0.6968940084156565,
          -0.8645673092942562,
          2.1955425731858553,
          -1.8863114244239756,
          0.8957455972821831,
          0.678767466446716,
          -0.8943159560446318,
          -0.09741963407826157,
          0.7654188247816236,
          -0.3061372125342001,
          0.5819132563211112,
          -0.8670704822495087,
          -1.1685354191395143,
          0.4987062070583795,
          -1.2664917103538968,
          -0.0020470918678063186,
          0.3121952440872714,
          -0.16072843272068324,
          0.11875890069643805,
          0.44986031105381663,
          -1.2372941389702115,
          -0.0699148743189868,
          0.5722458274120602,
          -0.908423657263562,
          0.9938975291952103,
          0.7958846288611234,
          2.301904816453025,
          -0.03442714273076457,
          1.9790174693194467,
          2.610010540348577,
          0.32989197333371956,
          0.8624799408253738,
          0.1139651001292569,
          0.4707004527178716,
          -1.5716325921736916,
          -0.24216538524890424,
          1.2948587449311602,
          2.4104001599038,
          0.06946876011078847,
          0.14121954910246642,
          -1.758843335651598,
          -0.34023316429089806,
          -0.615902806569471,
          0.5258757904723518,
          0.768142038676994,
          -0.6217746021507302,
          0.40561366010531047,
          0.0611695638678798,
          -0.13738126847244095,
          1.0648377553030648,
          -1.8221199689954444,
          -0.8653744519128183,
          0.6777054680280602,
          2.497494640335452,
          0.15104718570411105,
          1.6886883956295087,
          0.2150663109619358,
          1.1726393230041428,
          -0.6033410253786355,
          -1.1128029280466678,
          -1.3753978791796673,
          -1.6083436278421894,
          0.3251529185534095,
          -0.23507903877710437,
          0.6854681379288818,
          -1.041259674279969,
          -0.6804639148664574,
          0.8121246030044645,
          1.3458243345424477,
          -0.11174265897113703,
          0.8968517311317901,
          1.1561368291141871,
          0.14505918969787704,
          -0.18489325889499017,
          0.28894923373935066,
          0.9245649933210359,
          0.09791212574998187,
          1.735864656117559,
          1.8020648684561578,
          1.1660229778070796,
          1.6705341417911646,
          0.7029421504635976,
          -0.09985353358039065,
          0.6613232704319956,
          0.7436371685517646,
          -1.1581864717986816,
          -0.0517374783828689,
          0.01597140932841376
         ],
         "yaxis": "y5"
        },
        {
         "histfunc": "count",
         "histnorm": "",
         "marker": {
          "color": "rgba(55, 128, 191, 1.0)",
          "line": {
           "color": "#4D5663",
           "width": 1.3
          }
         },
         "name": "B",
         "nbinsx": 10,
         "opacity": 0.8,
         "orientation": "v",
         "type": "histogram",
         "x": [
          0.9495836228334081,
          -0.7100194112250915,
          1.650112399487089,
          0.7207073489887325,
          -0.6598783128597964,
          0.18061985623530957,
          -0.4113123196925393,
          -0.8059169160909352,
          -0.45030841232826324,
          -0.8649897640802658,
          1.0102208397481613,
          -1.0723396880437734,
          -0.6968940084156565,
          -0.8645673092942562,
          2.1955425731858553,
          -1.8863114244239756,
          0.8957455972821831,
          0.678767466446716,
          -0.8943159560446318,
          -0.09741963407826157,
          0.7654188247816236,
          -0.3061372125342001,
          0.5819132563211112,
          -0.8670704822495087,
          -1.1685354191395143,
          0.4987062070583795,
          -1.2664917103538968,
          -0.0020470918678063186,
          0.3121952440872714,
          -0.16072843272068324,
          0.11875890069643805,
          0.44986031105381663,
          -1.2372941389702115,
          -0.0699148743189868,
          0.5722458274120602,
          -0.908423657263562,
          0.9938975291952103,
          0.7958846288611234,
          2.301904816453025,
          -0.03442714273076457,
          1.9790174693194467,
          2.610010540348577,
          0.32989197333371956,
          0.8624799408253738,
          0.1139651001292569,
          0.4707004527178716,
          -1.5716325921736916,
          -0.24216538524890424,
          1.2948587449311602,
          2.4104001599038,
          0.06946876011078847,
          0.14121954910246642,
          -1.758843335651598,
          -0.34023316429089806,
          -0.615902806569471,
          0.5258757904723518,
          0.768142038676994,
          -0.6217746021507302,
          0.40561366010531047,
          0.0611695638678798,
          -0.13738126847244095,
          1.0648377553030648,
          -1.8221199689954444,
          -0.8653744519128183,
          0.6777054680280602,
          2.497494640335452,
          0.15104718570411105,
          1.6886883956295087,
          0.2150663109619358,
          1.1726393230041428,
          -0.6033410253786355,
          -1.1128029280466678,
          -1.3753978791796673,
          -1.6083436278421894,
          0.3251529185534095,
          -0.23507903877710437,
          0.6854681379288818,
          -1.041259674279969,
          -0.6804639148664574,
          0.8121246030044645,
          1.3458243345424477,
          -0.11174265897113703,
          0.8968517311317901,
          1.1561368291141871,
          0.14505918969787704,
          -0.18489325889499017,
          0.28894923373935066,
          0.9245649933210359,
          0.09791212574998187,
          1.735864656117559,
          1.8020648684561578,
          1.1660229778070796,
          1.6705341417911646,
          0.7029421504635976,
          -0.09985353358039065,
          0.6613232704319956,
          0.7436371685517646,
          -1.1581864717986816,
          -0.0517374783828689,
          0.01597140932841376
         ],
         "xaxis": "x6",
         "yaxis": "y6"
        },
        {
         "line": {
          "color": "rgba(128, 128, 128, 1.0)",
          "dash": "solid",
          "shape": "linear",
          "width": 1.3
         },
         "marker": {
          "size": 2,
          "symbol": "circle"
         },
         "mode": "markers",
         "name": "B",
         "text": "",
         "type": "scatter",
         "x": [
          0.647918339125702,
          -0.6629874159950747,
          -1.365185908111771,
          -2.0075225889599912,
          0.35654496700388316,
          1.3006874023536812,
          0.6835665697629982,
          -0.1401688964319155,
          -0.5803277472699386,
          0.6923895199692292,
          0.11043568798289007,
          -2.04023863493297,
          -1.4862374677794092,
          -0.8038954840842417,
          -0.4135429899954026,
          -0.19033116277557574,
          -0.5832375643284965,
          -0.7939887159905965,
          0.6763710647834456,
          0.622834178952044,
          0.19795849857076636,
          0.9230244541099311,
          0.9102873282566336,
          -1.578134272455675,
          2.248498612388913,
          -0.618276094493357,
          -1.642332191049332,
          -0.04954032303581414,
          1.273426373834263,
          0.05231784690273851,
          0.2170359373006094,
          -0.621871739089189,
          1.7856015664211622,
          0.43911657462324843,
          -1.4061425872715332,
          -0.32187333746658625,
          -0.23938813708705242,
          1.7833946355736527,
          -0.37324468282187484,
          -1.0666543693021822,
          -1.5485146171686575,
          0.20222191754419228,
          1.5230706386496686,
          0.616125792570182,
          -0.060507670904036276,
          -1.2248084283541232,
          -0.044431380557908934,
          2.2728044609439206,
          -1.7719469687907905,
          -0.5033840112064768,
          0.3851516439195813,
          -0.46447582205570065,
          -0.41975194804749727,
          0.04487714083101872,
          -2.008098012532532,
          0.2570531685060416,
          0.4336246485117831,
          0.7873621484585646,
          -0.7858747473947723,
          -2.249721885545336,
          0.2608393620754042,
          -0.35116999546835553,
          -1.4189477335205365,
          0.2452825146149802,
          0.40435417415188973,
          0.09930232430532347,
          -1.6741987610616293,
          0.42798943237457315,
          1.1160057602750102,
          -0.08809469183071897,
          1.0374511726902327,
          0.8647984505493161,
          -2.02602321230138,
          -1.8973360600586375,
          1.3290420228656905,
          -0.08532051099166421,
          -0.1618291189602749,
          3.36589901332965,
          0.2853060111168622,
          1.4909104779129705,
          2.603046817481854,
          0.07057420879162299,
          -0.3349264401219666,
          -0.27214487332199866,
          0.11621477136899505,
          -1.9653993496117967,
          -0.6532103410624271,
          0.2363608302426708,
          0.9248339096229946,
          1.044452994302072,
          -0.568127620861377,
          0.9347943385510102,
          -1.4674844783936958,
          -0.6593242696058286,
          0.33773560085113274,
          -0.9564585499347026,
          -1.0816546603266393,
          -0.0990998967519054,
          -0.6780371610061101,
          -0.4661359234137232
         ],
         "xaxis": "x7",
         "y": [
          0.9495836228334081,
          -0.7100194112250915,
          1.650112399487089,
          0.7207073489887325,
          -0.6598783128597964,
          0.18061985623530957,
          -0.4113123196925393,
          -0.8059169160909352,
          -0.45030841232826324,
          -0.8649897640802658,
          1.0102208397481613,
          -1.0723396880437734,
          -0.6968940084156565,
          -0.8645673092942562,
          2.1955425731858553,
          -1.8863114244239756,
          0.8957455972821831,
          0.678767466446716,
          -0.8943159560446318,
          -0.09741963407826157,
          0.7654188247816236,
          -0.3061372125342001,
          0.5819132563211112,
          -0.8670704822495087,
          -1.1685354191395143,
          0.4987062070583795,
          -1.2664917103538968,
          -0.0020470918678063186,
          0.3121952440872714,
          -0.16072843272068324,
          0.11875890069643805,
          0.44986031105381663,
          -1.2372941389702115,
          -0.0699148743189868,
          0.5722458274120602,
          -0.908423657263562,
          0.9938975291952103,
          0.7958846288611234,
          2.301904816453025,
          -0.03442714273076457,
          1.9790174693194467,
          2.610010540348577,
          0.32989197333371956,
          0.8624799408253738,
          0.1139651001292569,
          0.4707004527178716,
          -1.5716325921736916,
          -0.24216538524890424,
          1.2948587449311602,
          2.4104001599038,
          0.06946876011078847,
          0.14121954910246642,
          -1.758843335651598,
          -0.34023316429089806,
          -0.615902806569471,
          0.5258757904723518,
          0.768142038676994,
          -0.6217746021507302,
          0.40561366010531047,
          0.0611695638678798,
          -0.13738126847244095,
          1.0648377553030648,
          -1.8221199689954444,
          -0.8653744519128183,
          0.6777054680280602,
          2.497494640335452,
          0.15104718570411105,
          1.6886883956295087,
          0.2150663109619358,
          1.1726393230041428,
          -0.6033410253786355,
          -1.1128029280466678,
          -1.3753978791796673,
          -1.6083436278421894,
          0.3251529185534095,
          -0.23507903877710437,
          0.6854681379288818,
          -1.041259674279969,
          -0.6804639148664574,
          0.8121246030044645,
          1.3458243345424477,
          -0.11174265897113703,
          0.8968517311317901,
          1.1561368291141871,
          0.14505918969787704,
          -0.18489325889499017,
          0.28894923373935066,
          0.9245649933210359,
          0.09791212574998187,
          1.735864656117559,
          1.8020648684561578,
          1.1660229778070796,
          1.6705341417911646,
          0.7029421504635976,
          -0.09985353358039065,
          0.6613232704319956,
          0.7436371685517646,
          -1.1581864717986816,
          -0.0517374783828689,
          0.01597140932841376
         ],
         "yaxis": "y7"
        },
        {
         "line": {
          "color": "rgba(128, 128, 128, 1.0)",
          "dash": "solid",
          "shape": "linear",
          "width": 1.3
         },
         "marker": {
          "size": 2,
          "symbol": "circle"
         },
         "mode": "markers",
         "name": "B",
         "text": "",
         "type": "scatter",
         "x": [
          -0.19631981906212687,
          -0.6519713807353804,
          -1.0649846722973384,
          0.2276268403009993,
          0.7048164209836024,
          -1.4446783704695936,
          -2.033750158183124,
          0.5138908127633827,
          0.5743634695953264,
          -1.3657451693518634,
          0.4637907687699757,
          1.0844078896291873,
          -0.8199961871709128,
          0.7302810084439927,
          1.1501886667067136,
          1.4068956037099702,
          1.508692417359712,
          -0.122429546415331,
          -1.2139029828276917,
          -1.3915936060875007,
          -0.3238322412559266,
          1.3434653001668608,
          -0.5185807775608965,
          -0.7107820957370212,
          -0.4464055579970659,
          -0.9606481511417176,
          -0.295817297356241,
          -0.7965590857577352,
          0.006067325117813681,
          -0.4809220256345543,
          1.028630144482865,
          -0.3991139925170933,
          0.03907052978298096,
          1.4539224977284508,
          1.2368047827803776,
          1.498742536272704,
          0.9555284868160445,
          -0.4319859168096048,
          0.07204665511014491,
          0.15138773782731127,
          -0.0016863454597473644,
          -0.66704262100987,
          0.8234927800554659,
          0.9355289432127771,
          -0.6529971281881106,
          1.5998032068698078,
          -1.158827929365611,
          -0.04136818612304619,
          1.0781454686574732,
          0.21721131798324592,
          1.534521058113346,
          -1.750652204012357,
          0.9872822474417707,
          -1.197496541939758,
          -1.0439173878772081,
          0.09596236413985537,
          -0.6568654252222857,
          0.706633110663512,
          -1.211932613051174,
          0.671873724489011,
          -0.3898892118405459,
          0.9970459716634278,
          -0.28713960225161106,
          -0.010341133054459198,
          -0.9767493981679324,
          -0.18844975221423968,
          -0.7820893042608988,
          -1.8529738370200275,
          1.4738531760079354,
          -0.23686088155185786,
          -0.8470745256434993,
          -2.05765141244495,
          0.8174144337022742,
          -1.4106119727042548,
          -0.7248926917781047,
          -0.8969630071984197,
          -0.6419860011659925,
          -0.375072540951662,
          0.17237805217223748,
          -0.5805831220436499,
          -1.0090042945869997,
          -0.360630514240928,
          0.06712082805980472,
          -1.0222964654995608,
          -1.3111878556748808,
          -0.6265000694373624,
          -0.45147531022127435,
          -1.1298686894301744,
          -1.7403524915989772,
          -0.20931072894096553,
          -0.4243133313934241,
          -0.4252201065654679,
          -0.9829243053422797,
          0.6344429869787069,
          0.4895108597241183,
          0.9515124340705648,
          -1.2456264225617408,
          -0.003231469493402177,
          -0.4297021911016993,
          -1.0168190422430656
         ],
         "xaxis": "x8",
         "y": [
          0.9495836228334081,
          -0.7100194112250915,
          1.650112399487089,
          0.7207073489887325,
          -0.6598783128597964,
          0.18061985623530957,
          -0.4113123196925393,
          -0.8059169160909352,
          -0.45030841232826324,
          -0.8649897640802658,
          1.0102208397481613,
          -1.0723396880437734,
          -0.6968940084156565,
          -0.8645673092942562,
          2.1955425731858553,
          -1.8863114244239756,
          0.8957455972821831,
          0.678767466446716,
          -0.8943159560446318,
          -0.09741963407826157,
          0.7654188247816236,
          -0.3061372125342001,
          0.5819132563211112,
          -0.8670704822495087,
          -1.1685354191395143,
          0.4987062070583795,
          -1.2664917103538968,
          -0.0020470918678063186,
          0.3121952440872714,
          -0.16072843272068324,
          0.11875890069643805,
          0.44986031105381663,
          -1.2372941389702115,
          -0.0699148743189868,
          0.5722458274120602,
          -0.908423657263562,
          0.9938975291952103,
          0.7958846288611234,
          2.301904816453025,
          -0.03442714273076457,
          1.9790174693194467,
          2.610010540348577,
          0.32989197333371956,
          0.8624799408253738,
          0.1139651001292569,
          0.4707004527178716,
          -1.5716325921736916,
          -0.24216538524890424,
          1.2948587449311602,
          2.4104001599038,
          0.06946876011078847,
          0.14121954910246642,
          -1.758843335651598,
          -0.34023316429089806,
          -0.615902806569471,
          0.5258757904723518,
          0.768142038676994,
          -0.6217746021507302,
          0.40561366010531047,
          0.0611695638678798,
          -0.13738126847244095,
          1.0648377553030648,
          -1.8221199689954444,
          -0.8653744519128183,
          0.6777054680280602,
          2.497494640335452,
          0.15104718570411105,
          1.6886883956295087,
          0.2150663109619358,
          1.1726393230041428,
          -0.6033410253786355,
          -1.1128029280466678,
          -1.3753978791796673,
          -1.6083436278421894,
          0.3251529185534095,
          -0.23507903877710437,
          0.6854681379288818,
          -1.041259674279969,
          -0.6804639148664574,
          0.8121246030044645,
          1.3458243345424477,
          -0.11174265897113703,
          0.8968517311317901,
          1.1561368291141871,
          0.14505918969787704,
          -0.18489325889499017,
          0.28894923373935066,
          0.9245649933210359,
          0.09791212574998187,
          1.735864656117559,
          1.8020648684561578,
          1.1660229778070796,
          1.6705341417911646,
          0.7029421504635976,
          -0.09985353358039065,
          0.6613232704319956,
          0.7436371685517646,
          -1.1581864717986816,
          -0.0517374783828689,
          0.01597140932841376
         ],
         "yaxis": "y8"
        },
        {
         "line": {
          "color": "rgba(128, 128, 128, 1.0)",
          "dash": "solid",
          "shape": "linear",
          "width": 1.3
         },
         "marker": {
          "size": 2,
          "symbol": "circle"
         },
         "mode": "markers",
         "name": "C",
         "text": "",
         "type": "scatter",
         "x": [
          0.512752939029791,
          -0.3553419617198243,
          -0.27929092762229374,
          0.13715381120273906,
          -0.10561595646288185,
          -0.1599097109111184,
          -0.4979472496059992,
          0.157104113124573,
          -0.46293873496051735,
          2.485418431861522,
          -0.4516734756190726,
          -1.493458861952407,
          -0.026482791768084567,
          -0.2757463899836123,
          2.241694624786081,
          -0.5129572406266717,
          0.15252616393685708,
          1.3865506913062904,
          -0.4983345548729902,
          0.307249958853756,
          -1.128251054831078,
          -0.8075072847154674,
          -0.6363660077137355,
          -0.3713082499903116,
          1.0441461790223507,
          0.3414257868465785,
          -0.5322617919291063,
          -1.2591308173815023,
          0.7009125457086441,
          0.9967249848203381,
          0.5553427242848349,
          -0.1710629029221637,
          -0.09347269250359294,
          -0.06269091796217952,
          -0.8889925758821092,
          1.0218299933351225,
          0.8210081659849187,
          0.44322827056598846,
          -0.4184786434300998,
          -0.08940115509505929,
          0.7269703626378548,
          0.24703444042561,
          0.05660618906374495,
          -0.46715813740333273,
          0.02946942295050563,
          -2.0148452428808628,
          -1.8538320646658921,
          -0.3354297970013657,
          1.6395349929699676,
          1.8490226882208158,
          -0.1512933010494933,
          -0.5005603686679456,
          0.7287108498117928,
          1.298360623953065,
          0.05835482274762789,
          0.05404720881988463,
          1.6448478378071496,
          -0.2165273389788695,
          -0.01089034092055172,
          -0.6396922580512779,
          0.1659230506263948,
          -0.26904140973624013,
          -0.15555495444472764,
          0.9466288861187291,
          0.49900398554713205,
          -2.175214685296227,
          0.09718808811786087,
          2.708148103191192,
          -0.7877907963975526,
          -0.0014491244335431606,
          -0.11955410895494896,
          -0.012562024727582138,
          -0.38147657376126753,
          1.1364951029280372,
          -0.3185237106734018,
          -2.2316850554714165,
          -1.332370837239957,
          1.1773780023580709,
          0.02886572654773463,
          -1.345659142078511,
          0.8985612990834209,
          0.7222788050675611,
          -1.3802880760915244,
          -1.9585194457414203,
          -2.1686577556553375,
          -0.8500871395049288,
          0.10917120767171398,
          0.4795289001080743,
          1.2234004610201688,
          0.8152430704621533,
          1.0968304321670168,
          -1.4067781777797062,
          0.05849673408436882,
          0.7533432362097038,
          0.015432162011626286,
          -1.2840022615670568,
          1.0343567428530556,
          0.6022038052564009,
          -0.5734790425194495,
          -0.061518042568631644
         ],
         "xaxis": "x9",
         "y": [
          0.647918339125702,
          -0.6629874159950747,
          -1.365185908111771,
          -2.0075225889599912,
          0.35654496700388316,
          1.3006874023536812,
          0.6835665697629982,
          -0.1401688964319155,
          -0.5803277472699386,
          0.6923895199692292,
          0.11043568798289007,
          -2.04023863493297,
          -1.4862374677794092,
          -0.8038954840842417,
          -0.4135429899954026,
          -0.19033116277557574,
          -0.5832375643284965,
          -0.7939887159905965,
          0.6763710647834456,
          0.622834178952044,
          0.19795849857076636,
          0.9230244541099311,
          0.9102873282566336,
          -1.578134272455675,
          2.248498612388913,
          -0.618276094493357,
          -1.642332191049332,
          -0.04954032303581414,
          1.273426373834263,
          0.05231784690273851,
          0.2170359373006094,
          -0.621871739089189,
          1.7856015664211622,
          0.43911657462324843,
          -1.4061425872715332,
          -0.32187333746658625,
          -0.23938813708705242,
          1.7833946355736527,
          -0.37324468282187484,
          -1.0666543693021822,
          -1.5485146171686575,
          0.20222191754419228,
          1.5230706386496686,
          0.616125792570182,
          -0.060507670904036276,
          -1.2248084283541232,
          -0.044431380557908934,
          2.2728044609439206,
          -1.7719469687907905,
          -0.5033840112064768,
          0.3851516439195813,
          -0.46447582205570065,
          -0.41975194804749727,
          0.04487714083101872,
          -2.008098012532532,
          0.2570531685060416,
          0.4336246485117831,
          0.7873621484585646,
          -0.7858747473947723,
          -2.249721885545336,
          0.2608393620754042,
          -0.35116999546835553,
          -1.4189477335205365,
          0.2452825146149802,
          0.40435417415188973,
          0.09930232430532347,
          -1.6741987610616293,
          0.42798943237457315,
          1.1160057602750102,
          -0.08809469183071897,
          1.0374511726902327,
          0.8647984505493161,
          -2.02602321230138,
          -1.8973360600586375,
          1.3290420228656905,
          -0.08532051099166421,
          -0.1618291189602749,
          3.36589901332965,
          0.2853060111168622,
          1.4909104779129705,
          2.603046817481854,
          0.07057420879162299,
          -0.3349264401219666,
          -0.27214487332199866,
          0.11621477136899505,
          -1.9653993496117967,
          -0.6532103410624271,
          0.2363608302426708,
          0.9248339096229946,
          1.044452994302072,
          -0.568127620861377,
          0.9347943385510102,
          -1.4674844783936958,
          -0.6593242696058286,
          0.33773560085113274,
          -0.9564585499347026,
          -1.0816546603266393,
          -0.0990998967519054,
          -0.6780371610061101,
          -0.4661359234137232
         ],
         "yaxis": "y9"
        },
        {
         "line": {
          "color": "rgba(128, 128, 128, 1.0)",
          "dash": "solid",
          "shape": "linear",
          "width": 1.3
         },
         "marker": {
          "size": 2,
          "symbol": "circle"
         },
         "mode": "markers",
         "name": "C",
         "text": "",
         "type": "scatter",
         "x": [
          0.9495836228334081,
          -0.7100194112250915,
          1.650112399487089,
          0.7207073489887325,
          -0.6598783128597964,
          0.18061985623530957,
          -0.4113123196925393,
          -0.8059169160909352,
          -0.45030841232826324,
          -0.8649897640802658,
          1.0102208397481613,
          -1.0723396880437734,
          -0.6968940084156565,
          -0.8645673092942562,
          2.1955425731858553,
          -1.8863114244239756,
          0.8957455972821831,
          0.678767466446716,
          -0.8943159560446318,
          -0.09741963407826157,
          0.7654188247816236,
          -0.3061372125342001,
          0.5819132563211112,
          -0.8670704822495087,
          -1.1685354191395143,
          0.4987062070583795,
          -1.2664917103538968,
          -0.0020470918678063186,
          0.3121952440872714,
          -0.16072843272068324,
          0.11875890069643805,
          0.44986031105381663,
          -1.2372941389702115,
          -0.0699148743189868,
          0.5722458274120602,
          -0.908423657263562,
          0.9938975291952103,
          0.7958846288611234,
          2.301904816453025,
          -0.03442714273076457,
          1.9790174693194467,
          2.610010540348577,
          0.32989197333371956,
          0.8624799408253738,
          0.1139651001292569,
          0.4707004527178716,
          -1.5716325921736916,
          -0.24216538524890424,
          1.2948587449311602,
          2.4104001599038,
          0.06946876011078847,
          0.14121954910246642,
          -1.758843335651598,
          -0.34023316429089806,
          -0.615902806569471,
          0.5258757904723518,
          0.768142038676994,
          -0.6217746021507302,
          0.40561366010531047,
          0.0611695638678798,
          -0.13738126847244095,
          1.0648377553030648,
          -1.8221199689954444,
          -0.8653744519128183,
          0.6777054680280602,
          2.497494640335452,
          0.15104718570411105,
          1.6886883956295087,
          0.2150663109619358,
          1.1726393230041428,
          -0.6033410253786355,
          -1.1128029280466678,
          -1.3753978791796673,
          -1.6083436278421894,
          0.3251529185534095,
          -0.23507903877710437,
          0.6854681379288818,
          -1.041259674279969,
          -0.6804639148664574,
          0.8121246030044645,
          1.3458243345424477,
          -0.11174265897113703,
          0.8968517311317901,
          1.1561368291141871,
          0.14505918969787704,
          -0.18489325889499017,
          0.28894923373935066,
          0.9245649933210359,
          0.09791212574998187,
          1.735864656117559,
          1.8020648684561578,
          1.1660229778070796,
          1.6705341417911646,
          0.7029421504635976,
          -0.09985353358039065,
          0.6613232704319956,
          0.7436371685517646,
          -1.1581864717986816,
          -0.0517374783828689,
          0.01597140932841376
         ],
         "xaxis": "x10",
         "y": [
          0.647918339125702,
          -0.6629874159950747,
          -1.365185908111771,
          -2.0075225889599912,
          0.35654496700388316,
          1.3006874023536812,
          0.6835665697629982,
          -0.1401688964319155,
          -0.5803277472699386,
          0.6923895199692292,
          0.11043568798289007,
          -2.04023863493297,
          -1.4862374677794092,
          -0.8038954840842417,
          -0.4135429899954026,
          -0.19033116277557574,
          -0.5832375643284965,
          -0.7939887159905965,
          0.6763710647834456,
          0.622834178952044,
          0.19795849857076636,
          0.9230244541099311,
          0.9102873282566336,
          -1.578134272455675,
          2.248498612388913,
          -0.618276094493357,
          -1.642332191049332,
          -0.04954032303581414,
          1.273426373834263,
          0.05231784690273851,
          0.2170359373006094,
          -0.621871739089189,
          1.7856015664211622,
          0.43911657462324843,
          -1.4061425872715332,
          -0.32187333746658625,
          -0.23938813708705242,
          1.7833946355736527,
          -0.37324468282187484,
          -1.0666543693021822,
          -1.5485146171686575,
          0.20222191754419228,
          1.5230706386496686,
          0.616125792570182,
          -0.060507670904036276,
          -1.2248084283541232,
          -0.044431380557908934,
          2.2728044609439206,
          -1.7719469687907905,
          -0.5033840112064768,
          0.3851516439195813,
          -0.46447582205570065,
          -0.41975194804749727,
          0.04487714083101872,
          -2.008098012532532,
          0.2570531685060416,
          0.4336246485117831,
          0.7873621484585646,
          -0.7858747473947723,
          -2.249721885545336,
          0.2608393620754042,
          -0.35116999546835553,
          -1.4189477335205365,
          0.2452825146149802,
          0.40435417415188973,
          0.09930232430532347,
          -1.6741987610616293,
          0.42798943237457315,
          1.1160057602750102,
          -0.08809469183071897,
          1.0374511726902327,
          0.8647984505493161,
          -2.02602321230138,
          -1.8973360600586375,
          1.3290420228656905,
          -0.08532051099166421,
          -0.1618291189602749,
          3.36589901332965,
          0.2853060111168622,
          1.4909104779129705,
          2.603046817481854,
          0.07057420879162299,
          -0.3349264401219666,
          -0.27214487332199866,
          0.11621477136899505,
          -1.9653993496117967,
          -0.6532103410624271,
          0.2363608302426708,
          0.9248339096229946,
          1.044452994302072,
          -0.568127620861377,
          0.9347943385510102,
          -1.4674844783936958,
          -0.6593242696058286,
          0.33773560085113274,
          -0.9564585499347026,
          -1.0816546603266393,
          -0.0990998967519054,
          -0.6780371610061101,
          -0.4661359234137232
         ],
         "yaxis": "y10"
        },
        {
         "histfunc": "count",
         "histnorm": "",
         "marker": {
          "color": "rgba(50, 171, 96, 1.0)",
          "line": {
           "color": "#4D5663",
           "width": 1.3
          }
         },
         "name": "C",
         "nbinsx": 10,
         "opacity": 0.8,
         "orientation": "v",
         "type": "histogram",
         "x": [
          0.647918339125702,
          -0.6629874159950747,
          -1.365185908111771,
          -2.0075225889599912,
          0.35654496700388316,
          1.3006874023536812,
          0.6835665697629982,
          -0.1401688964319155,
          -0.5803277472699386,
          0.6923895199692292,
          0.11043568798289007,
          -2.04023863493297,
          -1.4862374677794092,
          -0.8038954840842417,
          -0.4135429899954026,
          -0.19033116277557574,
          -0.5832375643284965,
          -0.7939887159905965,
          0.6763710647834456,
          0.622834178952044,
          0.19795849857076636,
          0.9230244541099311,
          0.9102873282566336,
          -1.578134272455675,
          2.248498612388913,
          -0.618276094493357,
          -1.642332191049332,
          -0.04954032303581414,
          1.273426373834263,
          0.05231784690273851,
          0.2170359373006094,
          -0.621871739089189,
          1.7856015664211622,
          0.43911657462324843,
          -1.4061425872715332,
          -0.32187333746658625,
          -0.23938813708705242,
          1.7833946355736527,
          -0.37324468282187484,
          -1.0666543693021822,
          -1.5485146171686575,
          0.20222191754419228,
          1.5230706386496686,
          0.616125792570182,
          -0.060507670904036276,
          -1.2248084283541232,
          -0.044431380557908934,
          2.2728044609439206,
          -1.7719469687907905,
          -0.5033840112064768,
          0.3851516439195813,
          -0.46447582205570065,
          -0.41975194804749727,
          0.04487714083101872,
          -2.008098012532532,
          0.2570531685060416,
          0.4336246485117831,
          0.7873621484585646,
          -0.7858747473947723,
          -2.249721885545336,
          0.2608393620754042,
          -0.35116999546835553,
          -1.4189477335205365,
          0.2452825146149802,
          0.40435417415188973,
          0.09930232430532347,
          -1.6741987610616293,
          0.42798943237457315,
          1.1160057602750102,
          -0.08809469183071897,
          1.0374511726902327,
          0.8647984505493161,
          -2.02602321230138,
          -1.8973360600586375,
          1.3290420228656905,
          -0.08532051099166421,
          -0.1618291189602749,
          3.36589901332965,
          0.2853060111168622,
          1.4909104779129705,
          2.603046817481854,
          0.07057420879162299,
          -0.3349264401219666,
          -0.27214487332199866,
          0.11621477136899505,
          -1.9653993496117967,
          -0.6532103410624271,
          0.2363608302426708,
          0.9248339096229946,
          1.044452994302072,
          -0.568127620861377,
          0.9347943385510102,
          -1.4674844783936958,
          -0.6593242696058286,
          0.33773560085113274,
          -0.9564585499347026,
          -1.0816546603266393,
          -0.0990998967519054,
          -0.6780371610061101,
          -0.4661359234137232
         ],
         "xaxis": "x11",
         "yaxis": "y11"
        },
        {
         "line": {
          "color": "rgba(128, 128, 128, 1.0)",
          "dash": "solid",
          "shape": "linear",
          "width": 1.3
         },
         "marker": {
          "size": 2,
          "symbol": "circle"
         },
         "mode": "markers",
         "name": "C",
         "text": "",
         "type": "scatter",
         "x": [
          -0.19631981906212687,
          -0.6519713807353804,
          -1.0649846722973384,
          0.2276268403009993,
          0.7048164209836024,
          -1.4446783704695936,
          -2.033750158183124,
          0.5138908127633827,
          0.5743634695953264,
          -1.3657451693518634,
          0.4637907687699757,
          1.0844078896291873,
          -0.8199961871709128,
          0.7302810084439927,
          1.1501886667067136,
          1.4068956037099702,
          1.508692417359712,
          -0.122429546415331,
          -1.2139029828276917,
          -1.3915936060875007,
          -0.3238322412559266,
          1.3434653001668608,
          -0.5185807775608965,
          -0.7107820957370212,
          -0.4464055579970659,
          -0.9606481511417176,
          -0.295817297356241,
          -0.7965590857577352,
          0.006067325117813681,
          -0.4809220256345543,
          1.028630144482865,
          -0.3991139925170933,
          0.03907052978298096,
          1.4539224977284508,
          1.2368047827803776,
          1.498742536272704,
          0.9555284868160445,
          -0.4319859168096048,
          0.07204665511014491,
          0.15138773782731127,
          -0.0016863454597473644,
          -0.66704262100987,
          0.8234927800554659,
          0.9355289432127771,
          -0.6529971281881106,
          1.5998032068698078,
          -1.158827929365611,
          -0.04136818612304619,
          1.0781454686574732,
          0.21721131798324592,
          1.534521058113346,
          -1.750652204012357,
          0.9872822474417707,
          -1.197496541939758,
          -1.0439173878772081,
          0.09596236413985537,
          -0.6568654252222857,
          0.706633110663512,
          -1.211932613051174,
          0.671873724489011,
          -0.3898892118405459,
          0.9970459716634278,
          -0.28713960225161106,
          -0.010341133054459198,
          -0.9767493981679324,
          -0.18844975221423968,
          -0.7820893042608988,
          -1.8529738370200275,
          1.4738531760079354,
          -0.23686088155185786,
          -0.8470745256434993,
          -2.05765141244495,
          0.8174144337022742,
          -1.4106119727042548,
          -0.7248926917781047,
          -0.8969630071984197,
          -0.6419860011659925,
          -0.375072540951662,
          0.17237805217223748,
          -0.5805831220436499,
          -1.0090042945869997,
          -0.360630514240928,
          0.06712082805980472,
          -1.0222964654995608,
          -1.3111878556748808,
          -0.6265000694373624,
          -0.45147531022127435,
          -1.1298686894301744,
          -1.7403524915989772,
          -0.20931072894096553,
          -0.4243133313934241,
          -0.4252201065654679,
          -0.9829243053422797,
          0.6344429869787069,
          0.4895108597241183,
          0.9515124340705648,
          -1.2456264225617408,
          -0.003231469493402177,
          -0.4297021911016993,
          -1.0168190422430656
         ],
         "xaxis": "x12",
         "y": [
          0.647918339125702,
          -0.6629874159950747,
          -1.365185908111771,
          -2.0075225889599912,
          0.35654496700388316,
          1.3006874023536812,
          0.6835665697629982,
          -0.1401688964319155,
          -0.5803277472699386,
          0.6923895199692292,
          0.11043568798289007,
          -2.04023863493297,
          -1.4862374677794092,
          -0.8038954840842417,
          -0.4135429899954026,
          -0.19033116277557574,
          -0.5832375643284965,
          -0.7939887159905965,
          0.6763710647834456,
          0.622834178952044,
          0.19795849857076636,
          0.9230244541099311,
          0.9102873282566336,
          -1.578134272455675,
          2.248498612388913,
          -0.618276094493357,
          -1.642332191049332,
          -0.04954032303581414,
          1.273426373834263,
          0.05231784690273851,
          0.2170359373006094,
          -0.621871739089189,
          1.7856015664211622,
          0.43911657462324843,
          -1.4061425872715332,
          -0.32187333746658625,
          -0.23938813708705242,
          1.7833946355736527,
          -0.37324468282187484,
          -1.0666543693021822,
          -1.5485146171686575,
          0.20222191754419228,
          1.5230706386496686,
          0.616125792570182,
          -0.060507670904036276,
          -1.2248084283541232,
          -0.044431380557908934,
          2.2728044609439206,
          -1.7719469687907905,
          -0.5033840112064768,
          0.3851516439195813,
          -0.46447582205570065,
          -0.41975194804749727,
          0.04487714083101872,
          -2.008098012532532,
          0.2570531685060416,
          0.4336246485117831,
          0.7873621484585646,
          -0.7858747473947723,
          -2.249721885545336,
          0.2608393620754042,
          -0.35116999546835553,
          -1.4189477335205365,
          0.2452825146149802,
          0.40435417415188973,
          0.09930232430532347,
          -1.6741987610616293,
          0.42798943237457315,
          1.1160057602750102,
          -0.08809469183071897,
          1.0374511726902327,
          0.8647984505493161,
          -2.02602321230138,
          -1.8973360600586375,
          1.3290420228656905,
          -0.08532051099166421,
          -0.1618291189602749,
          3.36589901332965,
          0.2853060111168622,
          1.4909104779129705,
          2.603046817481854,
          0.07057420879162299,
          -0.3349264401219666,
          -0.27214487332199866,
          0.11621477136899505,
          -1.9653993496117967,
          -0.6532103410624271,
          0.2363608302426708,
          0.9248339096229946,
          1.044452994302072,
          -0.568127620861377,
          0.9347943385510102,
          -1.4674844783936958,
          -0.6593242696058286,
          0.33773560085113274,
          -0.9564585499347026,
          -1.0816546603266393,
          -0.0990998967519054,
          -0.6780371610061101,
          -0.4661359234137232
         ],
         "yaxis": "y12"
        },
        {
         "line": {
          "color": "rgba(128, 128, 128, 1.0)",
          "dash": "solid",
          "shape": "linear",
          "width": 1.3
         },
         "marker": {
          "size": 2,
          "symbol": "circle"
         },
         "mode": "markers",
         "name": "D",
         "text": "",
         "type": "scatter",
         "x": [
          0.512752939029791,
          -0.3553419617198243,
          -0.27929092762229374,
          0.13715381120273906,
          -0.10561595646288185,
          -0.1599097109111184,
          -0.4979472496059992,
          0.157104113124573,
          -0.46293873496051735,
          2.485418431861522,
          -0.4516734756190726,
          -1.493458861952407,
          -0.026482791768084567,
          -0.2757463899836123,
          2.241694624786081,
          -0.5129572406266717,
          0.15252616393685708,
          1.3865506913062904,
          -0.4983345548729902,
          0.307249958853756,
          -1.128251054831078,
          -0.8075072847154674,
          -0.6363660077137355,
          -0.3713082499903116,
          1.0441461790223507,
          0.3414257868465785,
          -0.5322617919291063,
          -1.2591308173815023,
          0.7009125457086441,
          0.9967249848203381,
          0.5553427242848349,
          -0.1710629029221637,
          -0.09347269250359294,
          -0.06269091796217952,
          -0.8889925758821092,
          1.0218299933351225,
          0.8210081659849187,
          0.44322827056598846,
          -0.4184786434300998,
          -0.08940115509505929,
          0.7269703626378548,
          0.24703444042561,
          0.05660618906374495,
          -0.46715813740333273,
          0.02946942295050563,
          -2.0148452428808628,
          -1.8538320646658921,
          -0.3354297970013657,
          1.6395349929699676,
          1.8490226882208158,
          -0.1512933010494933,
          -0.5005603686679456,
          0.7287108498117928,
          1.298360623953065,
          0.05835482274762789,
          0.05404720881988463,
          1.6448478378071496,
          -0.2165273389788695,
          -0.01089034092055172,
          -0.6396922580512779,
          0.1659230506263948,
          -0.26904140973624013,
          -0.15555495444472764,
          0.9466288861187291,
          0.49900398554713205,
          -2.175214685296227,
          0.09718808811786087,
          2.708148103191192,
          -0.7877907963975526,
          -0.0014491244335431606,
          -0.11955410895494896,
          -0.012562024727582138,
          -0.38147657376126753,
          1.1364951029280372,
          -0.3185237106734018,
          -2.2316850554714165,
          -1.332370837239957,
          1.1773780023580709,
          0.02886572654773463,
          -1.345659142078511,
          0.8985612990834209,
          0.7222788050675611,
          -1.3802880760915244,
          -1.9585194457414203,
          -2.1686577556553375,
          -0.8500871395049288,
          0.10917120767171398,
          0.4795289001080743,
          1.2234004610201688,
          0.8152430704621533,
          1.0968304321670168,
          -1.4067781777797062,
          0.05849673408436882,
          0.7533432362097038,
          0.015432162011626286,
          -1.2840022615670568,
          1.0343567428530556,
          0.6022038052564009,
          -0.5734790425194495,
          -0.061518042568631644
         ],
         "xaxis": "x13",
         "y": [
          -0.19631981906212687,
          -0.6519713807353804,
          -1.0649846722973384,
          0.2276268403009993,
          0.7048164209836024,
          -1.4446783704695936,
          -2.033750158183124,
          0.5138908127633827,
          0.5743634695953264,
          -1.3657451693518634,
          0.4637907687699757,
          1.0844078896291873,
          -0.8199961871709128,
          0.7302810084439927,
          1.1501886667067136,
          1.4068956037099702,
          1.508692417359712,
          -0.122429546415331,
          -1.2139029828276917,
          -1.3915936060875007,
          -0.3238322412559266,
          1.3434653001668608,
          -0.5185807775608965,
          -0.7107820957370212,
          -0.4464055579970659,
          -0.9606481511417176,
          -0.295817297356241,
          -0.7965590857577352,
          0.006067325117813681,
          -0.4809220256345543,
          1.028630144482865,
          -0.3991139925170933,
          0.03907052978298096,
          1.4539224977284508,
          1.2368047827803776,
          1.498742536272704,
          0.9555284868160445,
          -0.4319859168096048,
          0.07204665511014491,
          0.15138773782731127,
          -0.0016863454597473644,
          -0.66704262100987,
          0.8234927800554659,
          0.9355289432127771,
          -0.6529971281881106,
          1.5998032068698078,
          -1.158827929365611,
          -0.04136818612304619,
          1.0781454686574732,
          0.21721131798324592,
          1.534521058113346,
          -1.750652204012357,
          0.9872822474417707,
          -1.197496541939758,
          -1.0439173878772081,
          0.09596236413985537,
          -0.6568654252222857,
          0.706633110663512,
          -1.211932613051174,
          0.671873724489011,
          -0.3898892118405459,
          0.9970459716634278,
          -0.28713960225161106,
          -0.010341133054459198,
          -0.9767493981679324,
          -0.18844975221423968,
          -0.7820893042608988,
          -1.8529738370200275,
          1.4738531760079354,
          -0.23686088155185786,
          -0.8470745256434993,
          -2.05765141244495,
          0.8174144337022742,
          -1.4106119727042548,
          -0.7248926917781047,
          -0.8969630071984197,
          -0.6419860011659925,
          -0.375072540951662,
          0.17237805217223748,
          -0.5805831220436499,
          -1.0090042945869997,
          -0.360630514240928,
          0.06712082805980472,
          -1.0222964654995608,
          -1.3111878556748808,
          -0.6265000694373624,
          -0.45147531022127435,
          -1.1298686894301744,
          -1.7403524915989772,
          -0.20931072894096553,
          -0.4243133313934241,
          -0.4252201065654679,
          -0.9829243053422797,
          0.6344429869787069,
          0.4895108597241183,
          0.9515124340705648,
          -1.2456264225617408,
          -0.003231469493402177,
          -0.4297021911016993,
          -1.0168190422430656
         ],
         "yaxis": "y13"
        },
        {
         "line": {
          "color": "rgba(128, 128, 128, 1.0)",
          "dash": "solid",
          "shape": "linear",
          "width": 1.3
         },
         "marker": {
          "size": 2,
          "symbol": "circle"
         },
         "mode": "markers",
         "name": "D",
         "text": "",
         "type": "scatter",
         "x": [
          0.9495836228334081,
          -0.7100194112250915,
          1.650112399487089,
          0.7207073489887325,
          -0.6598783128597964,
          0.18061985623530957,
          -0.4113123196925393,
          -0.8059169160909352,
          -0.45030841232826324,
          -0.8649897640802658,
          1.0102208397481613,
          -1.0723396880437734,
          -0.6968940084156565,
          -0.8645673092942562,
          2.1955425731858553,
          -1.8863114244239756,
          0.8957455972821831,
          0.678767466446716,
          -0.8943159560446318,
          -0.09741963407826157,
          0.7654188247816236,
          -0.3061372125342001,
          0.5819132563211112,
          -0.8670704822495087,
          -1.1685354191395143,
          0.4987062070583795,
          -1.2664917103538968,
          -0.0020470918678063186,
          0.3121952440872714,
          -0.16072843272068324,
          0.11875890069643805,
          0.44986031105381663,
          -1.2372941389702115,
          -0.0699148743189868,
          0.5722458274120602,
          -0.908423657263562,
          0.9938975291952103,
          0.7958846288611234,
          2.301904816453025,
          -0.03442714273076457,
          1.9790174693194467,
          2.610010540348577,
          0.32989197333371956,
          0.8624799408253738,
          0.1139651001292569,
          0.4707004527178716,
          -1.5716325921736916,
          -0.24216538524890424,
          1.2948587449311602,
          2.4104001599038,
          0.06946876011078847,
          0.14121954910246642,
          -1.758843335651598,
          -0.34023316429089806,
          -0.615902806569471,
          0.5258757904723518,
          0.768142038676994,
          -0.6217746021507302,
          0.40561366010531047,
          0.0611695638678798,
          -0.13738126847244095,
          1.0648377553030648,
          -1.8221199689954444,
          -0.8653744519128183,
          0.6777054680280602,
          2.497494640335452,
          0.15104718570411105,
          1.6886883956295087,
          0.2150663109619358,
          1.1726393230041428,
          -0.6033410253786355,
          -1.1128029280466678,
          -1.3753978791796673,
          -1.6083436278421894,
          0.3251529185534095,
          -0.23507903877710437,
          0.6854681379288818,
          -1.041259674279969,
          -0.6804639148664574,
          0.8121246030044645,
          1.3458243345424477,
          -0.11174265897113703,
          0.8968517311317901,
          1.1561368291141871,
          0.14505918969787704,
          -0.18489325889499017,
          0.28894923373935066,
          0.9245649933210359,
          0.09791212574998187,
          1.735864656117559,
          1.8020648684561578,
          1.1660229778070796,
          1.6705341417911646,
          0.7029421504635976,
          -0.09985353358039065,
          0.6613232704319956,
          0.7436371685517646,
          -1.1581864717986816,
          -0.0517374783828689,
          0.01597140932841376
         ],
         "xaxis": "x14",
         "y": [
          -0.19631981906212687,
          -0.6519713807353804,
          -1.0649846722973384,
          0.2276268403009993,
          0.7048164209836024,
          -1.4446783704695936,
          -2.033750158183124,
          0.5138908127633827,
          0.5743634695953264,
          -1.3657451693518634,
          0.4637907687699757,
          1.0844078896291873,
          -0.8199961871709128,
          0.7302810084439927,
          1.1501886667067136,
          1.4068956037099702,
          1.508692417359712,
          -0.122429546415331,
          -1.2139029828276917,
          -1.3915936060875007,
          -0.3238322412559266,
          1.3434653001668608,
          -0.5185807775608965,
          -0.7107820957370212,
          -0.4464055579970659,
          -0.9606481511417176,
          -0.295817297356241,
          -0.7965590857577352,
          0.006067325117813681,
          -0.4809220256345543,
          1.028630144482865,
          -0.3991139925170933,
          0.03907052978298096,
          1.4539224977284508,
          1.2368047827803776,
          1.498742536272704,
          0.9555284868160445,
          -0.4319859168096048,
          0.07204665511014491,
          0.15138773782731127,
          -0.0016863454597473644,
          -0.66704262100987,
          0.8234927800554659,
          0.9355289432127771,
          -0.6529971281881106,
          1.5998032068698078,
          -1.158827929365611,
          -0.04136818612304619,
          1.0781454686574732,
          0.21721131798324592,
          1.534521058113346,
          -1.750652204012357,
          0.9872822474417707,
          -1.197496541939758,
          -1.0439173878772081,
          0.09596236413985537,
          -0.6568654252222857,
          0.706633110663512,
          -1.211932613051174,
          0.671873724489011,
          -0.3898892118405459,
          0.9970459716634278,
          -0.28713960225161106,
          -0.010341133054459198,
          -0.9767493981679324,
          -0.18844975221423968,
          -0.7820893042608988,
          -1.8529738370200275,
          1.4738531760079354,
          -0.23686088155185786,
          -0.8470745256434993,
          -2.05765141244495,
          0.8174144337022742,
          -1.4106119727042548,
          -0.7248926917781047,
          -0.8969630071984197,
          -0.6419860011659925,
          -0.375072540951662,
          0.17237805217223748,
          -0.5805831220436499,
          -1.0090042945869997,
          -0.360630514240928,
          0.06712082805980472,
          -1.0222964654995608,
          -1.3111878556748808,
          -0.6265000694373624,
          -0.45147531022127435,
          -1.1298686894301744,
          -1.7403524915989772,
          -0.20931072894096553,
          -0.4243133313934241,
          -0.4252201065654679,
          -0.9829243053422797,
          0.6344429869787069,
          0.4895108597241183,
          0.9515124340705648,
          -1.2456264225617408,
          -0.003231469493402177,
          -0.4297021911016993,
          -1.0168190422430656
         ],
         "yaxis": "y14"
        },
        {
         "line": {
          "color": "rgba(128, 128, 128, 1.0)",
          "dash": "solid",
          "shape": "linear",
          "width": 1.3
         },
         "marker": {
          "size": 2,
          "symbol": "circle"
         },
         "mode": "markers",
         "name": "D",
         "text": "",
         "type": "scatter",
         "x": [
          0.647918339125702,
          -0.6629874159950747,
          -1.365185908111771,
          -2.0075225889599912,
          0.35654496700388316,
          1.3006874023536812,
          0.6835665697629982,
          -0.1401688964319155,
          -0.5803277472699386,
          0.6923895199692292,
          0.11043568798289007,
          -2.04023863493297,
          -1.4862374677794092,
          -0.8038954840842417,
          -0.4135429899954026,
          -0.19033116277557574,
          -0.5832375643284965,
          -0.7939887159905965,
          0.6763710647834456,
          0.622834178952044,
          0.19795849857076636,
          0.9230244541099311,
          0.9102873282566336,
          -1.578134272455675,
          2.248498612388913,
          -0.618276094493357,
          -1.642332191049332,
          -0.04954032303581414,
          1.273426373834263,
          0.05231784690273851,
          0.2170359373006094,
          -0.621871739089189,
          1.7856015664211622,
          0.43911657462324843,
          -1.4061425872715332,
          -0.32187333746658625,
          -0.23938813708705242,
          1.7833946355736527,
          -0.37324468282187484,
          -1.0666543693021822,
          -1.5485146171686575,
          0.20222191754419228,
          1.5230706386496686,
          0.616125792570182,
          -0.060507670904036276,
          -1.2248084283541232,
          -0.044431380557908934,
          2.2728044609439206,
          -1.7719469687907905,
          -0.5033840112064768,
          0.3851516439195813,
          -0.46447582205570065,
          -0.41975194804749727,
          0.04487714083101872,
          -2.008098012532532,
          0.2570531685060416,
          0.4336246485117831,
          0.7873621484585646,
          -0.7858747473947723,
          -2.249721885545336,
          0.2608393620754042,
          -0.35116999546835553,
          -1.4189477335205365,
          0.2452825146149802,
          0.40435417415188973,
          0.09930232430532347,
          -1.6741987610616293,
          0.42798943237457315,
          1.1160057602750102,
          -0.08809469183071897,
          1.0374511726902327,
          0.8647984505493161,
          -2.02602321230138,
          -1.8973360600586375,
          1.3290420228656905,
          -0.08532051099166421,
          -0.1618291189602749,
          3.36589901332965,
          0.2853060111168622,
          1.4909104779129705,
          2.603046817481854,
          0.07057420879162299,
          -0.3349264401219666,
          -0.27214487332199866,
          0.11621477136899505,
          -1.9653993496117967,
          -0.6532103410624271,
          0.2363608302426708,
          0.9248339096229946,
          1.044452994302072,
          -0.568127620861377,
          0.9347943385510102,
          -1.4674844783936958,
          -0.6593242696058286,
          0.33773560085113274,
          -0.9564585499347026,
          -1.0816546603266393,
          -0.0990998967519054,
          -0.6780371610061101,
          -0.4661359234137232
         ],
         "xaxis": "x15",
         "y": [
          -0.19631981906212687,
          -0.6519713807353804,
          -1.0649846722973384,
          0.2276268403009993,
          0.7048164209836024,
          -1.4446783704695936,
          -2.033750158183124,
          0.5138908127633827,
          0.5743634695953264,
          -1.3657451693518634,
          0.4637907687699757,
          1.0844078896291873,
          -0.8199961871709128,
          0.7302810084439927,
          1.1501886667067136,
          1.4068956037099702,
          1.508692417359712,
          -0.122429546415331,
          -1.2139029828276917,
          -1.3915936060875007,
          -0.3238322412559266,
          1.3434653001668608,
          -0.5185807775608965,
          -0.7107820957370212,
          -0.4464055579970659,
          -0.9606481511417176,
          -0.295817297356241,
          -0.7965590857577352,
          0.006067325117813681,
          -0.4809220256345543,
          1.028630144482865,
          -0.3991139925170933,
          0.03907052978298096,
          1.4539224977284508,
          1.2368047827803776,
          1.498742536272704,
          0.9555284868160445,
          -0.4319859168096048,
          0.07204665511014491,
          0.15138773782731127,
          -0.0016863454597473644,
          -0.66704262100987,
          0.8234927800554659,
          0.9355289432127771,
          -0.6529971281881106,
          1.5998032068698078,
          -1.158827929365611,
          -0.04136818612304619,
          1.0781454686574732,
          0.21721131798324592,
          1.534521058113346,
          -1.750652204012357,
          0.9872822474417707,
          -1.197496541939758,
          -1.0439173878772081,
          0.09596236413985537,
          -0.6568654252222857,
          0.706633110663512,
          -1.211932613051174,
          0.671873724489011,
          -0.3898892118405459,
          0.9970459716634278,
          -0.28713960225161106,
          -0.010341133054459198,
          -0.9767493981679324,
          -0.18844975221423968,
          -0.7820893042608988,
          -1.8529738370200275,
          1.4738531760079354,
          -0.23686088155185786,
          -0.8470745256434993,
          -2.05765141244495,
          0.8174144337022742,
          -1.4106119727042548,
          -0.7248926917781047,
          -0.8969630071984197,
          -0.6419860011659925,
          -0.375072540951662,
          0.17237805217223748,
          -0.5805831220436499,
          -1.0090042945869997,
          -0.360630514240928,
          0.06712082805980472,
          -1.0222964654995608,
          -1.3111878556748808,
          -0.6265000694373624,
          -0.45147531022127435,
          -1.1298686894301744,
          -1.7403524915989772,
          -0.20931072894096553,
          -0.4243133313934241,
          -0.4252201065654679,
          -0.9829243053422797,
          0.6344429869787069,
          0.4895108597241183,
          0.9515124340705648,
          -1.2456264225617408,
          -0.003231469493402177,
          -0.4297021911016993,
          -1.0168190422430656
         ],
         "yaxis": "y15"
        },
        {
         "histfunc": "count",
         "histnorm": "",
         "marker": {
          "color": "rgba(128, 0, 128, 1.0)",
          "line": {
           "color": "#4D5663",
           "width": 1.3
          }
         },
         "name": "D",
         "nbinsx": 10,
         "opacity": 0.8,
         "orientation": "v",
         "type": "histogram",
         "x": [
          -0.19631981906212687,
          -0.6519713807353804,
          -1.0649846722973384,
          0.2276268403009993,
          0.7048164209836024,
          -1.4446783704695936,
          -2.033750158183124,
          0.5138908127633827,
          0.5743634695953264,
          -1.3657451693518634,
          0.4637907687699757,
          1.0844078896291873,
          -0.8199961871709128,
          0.7302810084439927,
          1.1501886667067136,
          1.4068956037099702,
          1.508692417359712,
          -0.122429546415331,
          -1.2139029828276917,
          -1.3915936060875007,
          -0.3238322412559266,
          1.3434653001668608,
          -0.5185807775608965,
          -0.7107820957370212,
          -0.4464055579970659,
          -0.9606481511417176,
          -0.295817297356241,
          -0.7965590857577352,
          0.006067325117813681,
          -0.4809220256345543,
          1.028630144482865,
          -0.3991139925170933,
          0.03907052978298096,
          1.4539224977284508,
          1.2368047827803776,
          1.498742536272704,
          0.9555284868160445,
          -0.4319859168096048,
          0.07204665511014491,
          0.15138773782731127,
          -0.0016863454597473644,
          -0.66704262100987,
          0.8234927800554659,
          0.9355289432127771,
          -0.6529971281881106,
          1.5998032068698078,
          -1.158827929365611,
          -0.04136818612304619,
          1.0781454686574732,
          0.21721131798324592,
          1.534521058113346,
          -1.750652204012357,
          0.9872822474417707,
          -1.197496541939758,
          -1.0439173878772081,
          0.09596236413985537,
          -0.6568654252222857,
          0.706633110663512,
          -1.211932613051174,
          0.671873724489011,
          -0.3898892118405459,
          0.9970459716634278,
          -0.28713960225161106,
          -0.010341133054459198,
          -0.9767493981679324,
          -0.18844975221423968,
          -0.7820893042608988,
          -1.8529738370200275,
          1.4738531760079354,
          -0.23686088155185786,
          -0.8470745256434993,
          -2.05765141244495,
          0.8174144337022742,
          -1.4106119727042548,
          -0.7248926917781047,
          -0.8969630071984197,
          -0.6419860011659925,
          -0.375072540951662,
          0.17237805217223748,
          -0.5805831220436499,
          -1.0090042945869997,
          -0.360630514240928,
          0.06712082805980472,
          -1.0222964654995608,
          -1.3111878556748808,
          -0.6265000694373624,
          -0.45147531022127435,
          -1.1298686894301744,
          -1.7403524915989772,
          -0.20931072894096553,
          -0.4243133313934241,
          -0.4252201065654679,
          -0.9829243053422797,
          0.6344429869787069,
          0.4895108597241183,
          0.9515124340705648,
          -1.2456264225617408,
          -0.003231469493402177,
          -0.4297021911016993,
          -1.0168190422430656
         ],
         "xaxis": "x16",
         "yaxis": "y16"
        }
       ],
       "layout": {
        "bargap": 0.02,
        "legend": {
         "bgcolor": "#F5F6F9",
         "font": {
          "color": "#4D5663"
         }
        },
        "paper_bgcolor": "#F5F6F9",
        "plot_bgcolor": "#F5F6F9",
        "showlegend": false,
        "template": {
         "data": {
          "bar": [
           {
            "error_x": {
             "color": "#2a3f5f"
            },
            "error_y": {
             "color": "#2a3f5f"
            },
            "marker": {
             "line": {
              "color": "#E5ECF6",
              "width": 0.5
             },
             "pattern": {
              "fillmode": "overlay",
              "size": 10,
              "solidity": 0.2
             }
            },
            "type": "bar"
           }
          ],
          "barpolar": [
           {
            "marker": {
             "line": {
              "color": "#E5ECF6",
              "width": 0.5
             },
             "pattern": {
              "fillmode": "overlay",
              "size": 10,
              "solidity": 0.2
             }
            },
            "type": "barpolar"
           }
          ],
          "carpet": [
           {
            "aaxis": {
             "endlinecolor": "#2a3f5f",
             "gridcolor": "white",
             "linecolor": "white",
             "minorgridcolor": "white",
             "startlinecolor": "#2a3f5f"
            },
            "baxis": {
             "endlinecolor": "#2a3f5f",
             "gridcolor": "white",
             "linecolor": "white",
             "minorgridcolor": "white",
             "startlinecolor": "#2a3f5f"
            },
            "type": "carpet"
           }
          ],
          "choropleth": [
           {
            "colorbar": {
             "outlinewidth": 0,
             "ticks": ""
            },
            "type": "choropleth"
           }
          ],
          "contour": [
           {
            "colorbar": {
             "outlinewidth": 0,
             "ticks": ""
            },
            "colorscale": [
             [
              0,
              "#0d0887"
             ],
             [
              0.1111111111111111,
              "#46039f"
             ],
             [
              0.2222222222222222,
              "#7201a8"
             ],
             [
              0.3333333333333333,
              "#9c179e"
             ],
             [
              0.4444444444444444,
              "#bd3786"
             ],
             [
              0.5555555555555556,
              "#d8576b"
             ],
             [
              0.6666666666666666,
              "#ed7953"
             ],
             [
              0.7777777777777778,
              "#fb9f3a"
             ],
             [
              0.8888888888888888,
              "#fdca26"
             ],
             [
              1,
              "#f0f921"
             ]
            ],
            "type": "contour"
           }
          ],
          "contourcarpet": [
           {
            "colorbar": {
             "outlinewidth": 0,
             "ticks": ""
            },
            "type": "contourcarpet"
           }
          ],
          "heatmap": [
           {
            "colorbar": {
             "outlinewidth": 0,
             "ticks": ""
            },
            "colorscale": [
             [
              0,
              "#0d0887"
             ],
             [
              0.1111111111111111,
              "#46039f"
             ],
             [
              0.2222222222222222,
              "#7201a8"
             ],
             [
              0.3333333333333333,
              "#9c179e"
             ],
             [
              0.4444444444444444,
              "#bd3786"
             ],
             [
              0.5555555555555556,
              "#d8576b"
             ],
             [
              0.6666666666666666,
              "#ed7953"
             ],
             [
              0.7777777777777778,
              "#fb9f3a"
             ],
             [
              0.8888888888888888,
              "#fdca26"
             ],
             [
              1,
              "#f0f921"
             ]
            ],
            "type": "heatmap"
           }
          ],
          "heatmapgl": [
           {
            "colorbar": {
             "outlinewidth": 0,
             "ticks": ""
            },
            "colorscale": [
             [
              0,
              "#0d0887"
             ],
             [
              0.1111111111111111,
              "#46039f"
             ],
             [
              0.2222222222222222,
              "#7201a8"
             ],
             [
              0.3333333333333333,
              "#9c179e"
             ],
             [
              0.4444444444444444,
              "#bd3786"
             ],
             [
              0.5555555555555556,
              "#d8576b"
             ],
             [
              0.6666666666666666,
              "#ed7953"
             ],
             [
              0.7777777777777778,
              "#fb9f3a"
             ],
             [
              0.8888888888888888,
              "#fdca26"
             ],
             [
              1,
              "#f0f921"
             ]
            ],
            "type": "heatmapgl"
           }
          ],
          "histogram": [
           {
            "marker": {
             "pattern": {
              "fillmode": "overlay",
              "size": 10,
              "solidity": 0.2
             }
            },
            "type": "histogram"
           }
          ],
          "histogram2d": [
           {
            "colorbar": {
             "outlinewidth": 0,
             "ticks": ""
            },
            "colorscale": [
             [
              0,
              "#0d0887"
             ],
             [
              0.1111111111111111,
              "#46039f"
             ],
             [
              0.2222222222222222,
              "#7201a8"
             ],
             [
              0.3333333333333333,
              "#9c179e"
             ],
             [
              0.4444444444444444,
              "#bd3786"
             ],
             [
              0.5555555555555556,
              "#d8576b"
             ],
             [
              0.6666666666666666,
              "#ed7953"
             ],
             [
              0.7777777777777778,
              "#fb9f3a"
             ],
             [
              0.8888888888888888,
              "#fdca26"
             ],
             [
              1,
              "#f0f921"
             ]
            ],
            "type": "histogram2d"
           }
          ],
          "histogram2dcontour": [
           {
            "colorbar": {
             "outlinewidth": 0,
             "ticks": ""
            },
            "colorscale": [
             [
              0,
              "#0d0887"
             ],
             [
              0.1111111111111111,
              "#46039f"
             ],
             [
              0.2222222222222222,
              "#7201a8"
             ],
             [
              0.3333333333333333,
              "#9c179e"
             ],
             [
              0.4444444444444444,
              "#bd3786"
             ],
             [
              0.5555555555555556,
              "#d8576b"
             ],
             [
              0.6666666666666666,
              "#ed7953"
             ],
             [
              0.7777777777777778,
              "#fb9f3a"
             ],
             [
              0.8888888888888888,
              "#fdca26"
             ],
             [
              1,
              "#f0f921"
             ]
            ],
            "type": "histogram2dcontour"
           }
          ],
          "mesh3d": [
           {
            "colorbar": {
             "outlinewidth": 0,
             "ticks": ""
            },
            "type": "mesh3d"
           }
          ],
          "parcoords": [
           {
            "line": {
             "colorbar": {
              "outlinewidth": 0,
              "ticks": ""
             }
            },
            "type": "parcoords"
           }
          ],
          "pie": [
           {
            "automargin": true,
            "type": "pie"
           }
          ],
          "scatter": [
           {
            "fillpattern": {
             "fillmode": "overlay",
             "size": 10,
             "solidity": 0.2
            },
            "type": "scatter"
           }
          ],
          "scatter3d": [
           {
            "line": {
             "colorbar": {
              "outlinewidth": 0,
              "ticks": ""
             }
            },
            "marker": {
             "colorbar": {
              "outlinewidth": 0,
              "ticks": ""
             }
            },
            "type": "scatter3d"
           }
          ],
          "scattercarpet": [
           {
            "marker": {
             "colorbar": {
              "outlinewidth": 0,
              "ticks": ""
             }
            },
            "type": "scattercarpet"
           }
          ],
          "scattergeo": [
           {
            "marker": {
             "colorbar": {
              "outlinewidth": 0,
              "ticks": ""
             }
            },
            "type": "scattergeo"
           }
          ],
          "scattergl": [
           {
            "marker": {
             "colorbar": {
              "outlinewidth": 0,
              "ticks": ""
             }
            },
            "type": "scattergl"
           }
          ],
          "scattermapbox": [
           {
            "marker": {
             "colorbar": {
              "outlinewidth": 0,
              "ticks": ""
             }
            },
            "type": "scattermapbox"
           }
          ],
          "scatterpolar": [
           {
            "marker": {
             "colorbar": {
              "outlinewidth": 0,
              "ticks": ""
             }
            },
            "type": "scatterpolar"
           }
          ],
          "scatterpolargl": [
           {
            "marker": {
             "colorbar": {
              "outlinewidth": 0,
              "ticks": ""
             }
            },
            "type": "scatterpolargl"
           }
          ],
          "scatterternary": [
           {
            "marker": {
             "colorbar": {
              "outlinewidth": 0,
              "ticks": ""
             }
            },
            "type": "scatterternary"
           }
          ],
          "surface": [
           {
            "colorbar": {
             "outlinewidth": 0,
             "ticks": ""
            },
            "colorscale": [
             [
              0,
              "#0d0887"
             ],
             [
              0.1111111111111111,
              "#46039f"
             ],
             [
              0.2222222222222222,
              "#7201a8"
             ],
             [
              0.3333333333333333,
              "#9c179e"
             ],
             [
              0.4444444444444444,
              "#bd3786"
             ],
             [
              0.5555555555555556,
              "#d8576b"
             ],
             [
              0.6666666666666666,
              "#ed7953"
             ],
             [
              0.7777777777777778,
              "#fb9f3a"
             ],
             [
              0.8888888888888888,
              "#fdca26"
             ],
             [
              1,
              "#f0f921"
             ]
            ],
            "type": "surface"
           }
          ],
          "table": [
           {
            "cells": {
             "fill": {
              "color": "#EBF0F8"
             },
             "line": {
              "color": "white"
             }
            },
            "header": {
             "fill": {
              "color": "#C8D4E3"
             },
             "line": {
              "color": "white"
             }
            },
            "type": "table"
           }
          ]
         },
         "layout": {
          "annotationdefaults": {
           "arrowcolor": "#2a3f5f",
           "arrowhead": 0,
           "arrowwidth": 1
          },
          "autotypenumbers": "strict",
          "coloraxis": {
           "colorbar": {
            "outlinewidth": 0,
            "ticks": ""
           }
          },
          "colorscale": {
           "diverging": [
            [
             0,
             "#8e0152"
            ],
            [
             0.1,
             "#c51b7d"
            ],
            [
             0.2,
             "#de77ae"
            ],
            [
             0.3,
             "#f1b6da"
            ],
            [
             0.4,
             "#fde0ef"
            ],
            [
             0.5,
             "#f7f7f7"
            ],
            [
             0.6,
             "#e6f5d0"
            ],
            [
             0.7,
             "#b8e186"
            ],
            [
             0.8,
             "#7fbc41"
            ],
            [
             0.9,
             "#4d9221"
            ],
            [
             1,
             "#276419"
            ]
           ],
           "sequential": [
            [
             0,
             "#0d0887"
            ],
            [
             0.1111111111111111,
             "#46039f"
            ],
            [
             0.2222222222222222,
             "#7201a8"
            ],
            [
             0.3333333333333333,
             "#9c179e"
            ],
            [
             0.4444444444444444,
             "#bd3786"
            ],
            [
             0.5555555555555556,
             "#d8576b"
            ],
            [
             0.6666666666666666,
             "#ed7953"
            ],
            [
             0.7777777777777778,
             "#fb9f3a"
            ],
            [
             0.8888888888888888,
             "#fdca26"
            ],
            [
             1,
             "#f0f921"
            ]
           ],
           "sequentialminus": [
            [
             0,
             "#0d0887"
            ],
            [
             0.1111111111111111,
             "#46039f"
            ],
            [
             0.2222222222222222,
             "#7201a8"
            ],
            [
             0.3333333333333333,
             "#9c179e"
            ],
            [
             0.4444444444444444,
             "#bd3786"
            ],
            [
             0.5555555555555556,
             "#d8576b"
            ],
            [
             0.6666666666666666,
             "#ed7953"
            ],
            [
             0.7777777777777778,
             "#fb9f3a"
            ],
            [
             0.8888888888888888,
             "#fdca26"
            ],
            [
             1,
             "#f0f921"
            ]
           ]
          },
          "colorway": [
           "#636efa",
           "#EF553B",
           "#00cc96",
           "#ab63fa",
           "#FFA15A",
           "#19d3f3",
           "#FF6692",
           "#B6E880",
           "#FF97FF",
           "#FECB52"
          ],
          "font": {
           "color": "#2a3f5f"
          },
          "geo": {
           "bgcolor": "white",
           "lakecolor": "white",
           "landcolor": "#E5ECF6",
           "showlakes": true,
           "showland": true,
           "subunitcolor": "white"
          },
          "hoverlabel": {
           "align": "left"
          },
          "hovermode": "closest",
          "mapbox": {
           "style": "light"
          },
          "paper_bgcolor": "white",
          "plot_bgcolor": "#E5ECF6",
          "polar": {
           "angularaxis": {
            "gridcolor": "white",
            "linecolor": "white",
            "ticks": ""
           },
           "bgcolor": "#E5ECF6",
           "radialaxis": {
            "gridcolor": "white",
            "linecolor": "white",
            "ticks": ""
           }
          },
          "scene": {
           "xaxis": {
            "backgroundcolor": "#E5ECF6",
            "gridcolor": "white",
            "gridwidth": 2,
            "linecolor": "white",
            "showbackground": true,
            "ticks": "",
            "zerolinecolor": "white"
           },
           "yaxis": {
            "backgroundcolor": "#E5ECF6",
            "gridcolor": "white",
            "gridwidth": 2,
            "linecolor": "white",
            "showbackground": true,
            "ticks": "",
            "zerolinecolor": "white"
           },
           "zaxis": {
            "backgroundcolor": "#E5ECF6",
            "gridcolor": "white",
            "gridwidth": 2,
            "linecolor": "white",
            "showbackground": true,
            "ticks": "",
            "zerolinecolor": "white"
           }
          },
          "shapedefaults": {
           "line": {
            "color": "#2a3f5f"
           }
          },
          "ternary": {
           "aaxis": {
            "gridcolor": "white",
            "linecolor": "white",
            "ticks": ""
           },
           "baxis": {
            "gridcolor": "white",
            "linecolor": "white",
            "ticks": ""
           },
           "bgcolor": "#E5ECF6",
           "caxis": {
            "gridcolor": "white",
            "linecolor": "white",
            "ticks": ""
           }
          },
          "title": {
           "x": 0.05
          },
          "xaxis": {
           "automargin": true,
           "gridcolor": "white",
           "linecolor": "white",
           "ticks": "",
           "title": {
            "standoff": 15
           },
           "zerolinecolor": "white",
           "zerolinewidth": 2
          },
          "yaxis": {
           "automargin": true,
           "gridcolor": "white",
           "linecolor": "white",
           "ticks": "",
           "title": {
            "standoff": 15
           },
           "zerolinecolor": "white",
           "zerolinewidth": 2
          }
         }
        },
        "title": {
         "font": {
          "color": "#4D5663"
         }
        },
        "xaxis": {
         "anchor": "y",
         "domain": [
          0,
          0.2125
         ],
         "gridcolor": "#E1E5ED",
         "showgrid": false,
         "tickfont": {
          "color": "#4D5663"
         },
         "title": {
          "font": {
           "color": "#4D5663"
          },
          "text": ""
         },
         "zerolinecolor": "#E1E5ED"
        },
        "xaxis10": {
         "anchor": "y10",
         "domain": [
          0.2625,
          0.475
         ],
         "gridcolor": "#E1E5ED",
         "showgrid": false,
         "tickfont": {
          "color": "#4D5663"
         },
         "title": {
          "font": {
           "color": "#4D5663"
          },
          "text": ""
         },
         "zerolinecolor": "#E1E5ED"
        },
        "xaxis11": {
         "anchor": "y11",
         "domain": [
          0.525,
          0.7375
         ],
         "gridcolor": "#E1E5ED",
         "showgrid": false,
         "tickfont": {
          "color": "#4D5663"
         },
         "title": {
          "font": {
           "color": "#4D5663"
          },
          "text": ""
         },
         "zerolinecolor": "#E1E5ED"
        },
        "xaxis12": {
         "anchor": "y12",
         "domain": [
          0.7875,
          1
         ],
         "gridcolor": "#E1E5ED",
         "showgrid": false,
         "tickfont": {
          "color": "#4D5663"
         },
         "title": {
          "font": {
           "color": "#4D5663"
          },
          "text": ""
         },
         "zerolinecolor": "#E1E5ED"
        },
        "xaxis13": {
         "anchor": "y13",
         "domain": [
          0,
          0.2125
         ],
         "gridcolor": "#E1E5ED",
         "showgrid": false,
         "tickfont": {
          "color": "#4D5663"
         },
         "title": {
          "font": {
           "color": "#4D5663"
          },
          "text": ""
         },
         "zerolinecolor": "#E1E5ED"
        },
        "xaxis14": {
         "anchor": "y14",
         "domain": [
          0.2625,
          0.475
         ],
         "gridcolor": "#E1E5ED",
         "showgrid": false,
         "tickfont": {
          "color": "#4D5663"
         },
         "title": {
          "font": {
           "color": "#4D5663"
          },
          "text": ""
         },
         "zerolinecolor": "#E1E5ED"
        },
        "xaxis15": {
         "anchor": "y15",
         "domain": [
          0.525,
          0.7375
         ],
         "gridcolor": "#E1E5ED",
         "showgrid": false,
         "tickfont": {
          "color": "#4D5663"
         },
         "title": {
          "font": {
           "color": "#4D5663"
          },
          "text": ""
         },
         "zerolinecolor": "#E1E5ED"
        },
        "xaxis16": {
         "anchor": "y16",
         "domain": [
          0.7875,
          1
         ],
         "gridcolor": "#E1E5ED",
         "showgrid": false,
         "tickfont": {
          "color": "#4D5663"
         },
         "title": {
          "font": {
           "color": "#4D5663"
          },
          "text": ""
         },
         "zerolinecolor": "#E1E5ED"
        },
        "xaxis2": {
         "anchor": "y2",
         "domain": [
          0.2625,
          0.475
         ],
         "gridcolor": "#E1E5ED",
         "showgrid": false,
         "tickfont": {
          "color": "#4D5663"
         },
         "title": {
          "font": {
           "color": "#4D5663"
          },
          "text": ""
         },
         "zerolinecolor": "#E1E5ED"
        },
        "xaxis3": {
         "anchor": "y3",
         "domain": [
          0.525,
          0.7375
         ],
         "gridcolor": "#E1E5ED",
         "showgrid": false,
         "tickfont": {
          "color": "#4D5663"
         },
         "title": {
          "font": {
           "color": "#4D5663"
          },
          "text": ""
         },
         "zerolinecolor": "#E1E5ED"
        },
        "xaxis4": {
         "anchor": "y4",
         "domain": [
          0.7875,
          1
         ],
         "gridcolor": "#E1E5ED",
         "showgrid": false,
         "tickfont": {
          "color": "#4D5663"
         },
         "title": {
          "font": {
           "color": "#4D5663"
          },
          "text": ""
         },
         "zerolinecolor": "#E1E5ED"
        },
        "xaxis5": {
         "anchor": "y5",
         "domain": [
          0,
          0.2125
         ],
         "gridcolor": "#E1E5ED",
         "showgrid": false,
         "tickfont": {
          "color": "#4D5663"
         },
         "title": {
          "font": {
           "color": "#4D5663"
          },
          "text": ""
         },
         "zerolinecolor": "#E1E5ED"
        },
        "xaxis6": {
         "anchor": "y6",
         "domain": [
          0.2625,
          0.475
         ],
         "gridcolor": "#E1E5ED",
         "showgrid": false,
         "tickfont": {
          "color": "#4D5663"
         },
         "title": {
          "font": {
           "color": "#4D5663"
          },
          "text": ""
         },
         "zerolinecolor": "#E1E5ED"
        },
        "xaxis7": {
         "anchor": "y7",
         "domain": [
          0.525,
          0.7375
         ],
         "gridcolor": "#E1E5ED",
         "showgrid": false,
         "tickfont": {
          "color": "#4D5663"
         },
         "title": {
          "font": {
           "color": "#4D5663"
          },
          "text": ""
         },
         "zerolinecolor": "#E1E5ED"
        },
        "xaxis8": {
         "anchor": "y8",
         "domain": [
          0.7875,
          1
         ],
         "gridcolor": "#E1E5ED",
         "showgrid": false,
         "tickfont": {
          "color": "#4D5663"
         },
         "title": {
          "font": {
           "color": "#4D5663"
          },
          "text": ""
         },
         "zerolinecolor": "#E1E5ED"
        },
        "xaxis9": {
         "anchor": "y9",
         "domain": [
          0,
          0.2125
         ],
         "gridcolor": "#E1E5ED",
         "showgrid": false,
         "tickfont": {
          "color": "#4D5663"
         },
         "title": {
          "font": {
           "color": "#4D5663"
          },
          "text": ""
         },
         "zerolinecolor": "#E1E5ED"
        },
        "yaxis": {
         "anchor": "x",
         "domain": [
          0.8025,
          1
         ],
         "gridcolor": "#E1E5ED",
         "showgrid": false,
         "tickfont": {
          "color": "#4D5663"
         },
         "title": {
          "font": {
           "color": "#4D5663"
          },
          "text": ""
         },
         "zerolinecolor": "#E1E5ED"
        },
        "yaxis10": {
         "anchor": "x10",
         "domain": [
          0.2675,
          0.465
         ],
         "gridcolor": "#E1E5ED",
         "showgrid": false,
         "tickfont": {
          "color": "#4D5663"
         },
         "title": {
          "font": {
           "color": "#4D5663"
          },
          "text": ""
         },
         "zerolinecolor": "#E1E5ED"
        },
        "yaxis11": {
         "anchor": "x11",
         "domain": [
          0.2675,
          0.465
         ],
         "gridcolor": "#E1E5ED",
         "showgrid": false,
         "tickfont": {
          "color": "#4D5663"
         },
         "title": {
          "font": {
           "color": "#4D5663"
          },
          "text": ""
         },
         "zerolinecolor": "#E1E5ED"
        },
        "yaxis12": {
         "anchor": "x12",
         "domain": [
          0.2675,
          0.465
         ],
         "gridcolor": "#E1E5ED",
         "showgrid": false,
         "tickfont": {
          "color": "#4D5663"
         },
         "title": {
          "font": {
           "color": "#4D5663"
          },
          "text": ""
         },
         "zerolinecolor": "#E1E5ED"
        },
        "yaxis13": {
         "anchor": "x13",
         "domain": [
          0,
          0.1975
         ],
         "gridcolor": "#E1E5ED",
         "showgrid": false,
         "tickfont": {
          "color": "#4D5663"
         },
         "title": {
          "font": {
           "color": "#4D5663"
          },
          "text": ""
         },
         "zerolinecolor": "#E1E5ED"
        },
        "yaxis14": {
         "anchor": "x14",
         "domain": [
          0,
          0.1975
         ],
         "gridcolor": "#E1E5ED",
         "showgrid": false,
         "tickfont": {
          "color": "#4D5663"
         },
         "title": {
          "font": {
           "color": "#4D5663"
          },
          "text": ""
         },
         "zerolinecolor": "#E1E5ED"
        },
        "yaxis15": {
         "anchor": "x15",
         "domain": [
          0,
          0.1975
         ],
         "gridcolor": "#E1E5ED",
         "showgrid": false,
         "tickfont": {
          "color": "#4D5663"
         },
         "title": {
          "font": {
           "color": "#4D5663"
          },
          "text": ""
         },
         "zerolinecolor": "#E1E5ED"
        },
        "yaxis16": {
         "anchor": "x16",
         "domain": [
          0,
          0.1975
         ],
         "gridcolor": "#E1E5ED",
         "showgrid": false,
         "tickfont": {
          "color": "#4D5663"
         },
         "title": {
          "font": {
           "color": "#4D5663"
          },
          "text": ""
         },
         "zerolinecolor": "#E1E5ED"
        },
        "yaxis2": {
         "anchor": "x2",
         "domain": [
          0.8025,
          1
         ],
         "gridcolor": "#E1E5ED",
         "showgrid": false,
         "tickfont": {
          "color": "#4D5663"
         },
         "title": {
          "font": {
           "color": "#4D5663"
          },
          "text": ""
         },
         "zerolinecolor": "#E1E5ED"
        },
        "yaxis3": {
         "anchor": "x3",
         "domain": [
          0.8025,
          1
         ],
         "gridcolor": "#E1E5ED",
         "showgrid": false,
         "tickfont": {
          "color": "#4D5663"
         },
         "title": {
          "font": {
           "color": "#4D5663"
          },
          "text": ""
         },
         "zerolinecolor": "#E1E5ED"
        },
        "yaxis4": {
         "anchor": "x4",
         "domain": [
          0.8025,
          1
         ],
         "gridcolor": "#E1E5ED",
         "showgrid": false,
         "tickfont": {
          "color": "#4D5663"
         },
         "title": {
          "font": {
           "color": "#4D5663"
          },
          "text": ""
         },
         "zerolinecolor": "#E1E5ED"
        },
        "yaxis5": {
         "anchor": "x5",
         "domain": [
          0.535,
          0.7325
         ],
         "gridcolor": "#E1E5ED",
         "showgrid": false,
         "tickfont": {
          "color": "#4D5663"
         },
         "title": {
          "font": {
           "color": "#4D5663"
          },
          "text": ""
         },
         "zerolinecolor": "#E1E5ED"
        },
        "yaxis6": {
         "anchor": "x6",
         "domain": [
          0.535,
          0.7325
         ],
         "gridcolor": "#E1E5ED",
         "showgrid": false,
         "tickfont": {
          "color": "#4D5663"
         },
         "title": {
          "font": {
           "color": "#4D5663"
          },
          "text": ""
         },
         "zerolinecolor": "#E1E5ED"
        },
        "yaxis7": {
         "anchor": "x7",
         "domain": [
          0.535,
          0.7325
         ],
         "gridcolor": "#E1E5ED",
         "showgrid": false,
         "tickfont": {
          "color": "#4D5663"
         },
         "title": {
          "font": {
           "color": "#4D5663"
          },
          "text": ""
         },
         "zerolinecolor": "#E1E5ED"
        },
        "yaxis8": {
         "anchor": "x8",
         "domain": [
          0.535,
          0.7325
         ],
         "gridcolor": "#E1E5ED",
         "showgrid": false,
         "tickfont": {
          "color": "#4D5663"
         },
         "title": {
          "font": {
           "color": "#4D5663"
          },
          "text": ""
         },
         "zerolinecolor": "#E1E5ED"
        },
        "yaxis9": {
         "anchor": "x9",
         "domain": [
          0.2675,
          0.465
         ],
         "gridcolor": "#E1E5ED",
         "showgrid": false,
         "tickfont": {
          "color": "#4D5663"
         },
         "title": {
          "font": {
           "color": "#4D5663"
          },
          "text": ""
         },
         "zerolinecolor": "#E1E5ED"
        }
       }
      },
      "text/html": [
       "<div>                            <div id=\"0609be0c-ca61-4a18-8976-92bb329fb8b2\" class=\"plotly-graph-div\" style=\"height:525px; width:100%;\"></div>            <script type=\"text/javascript\">                require([\"plotly\"], function(Plotly) {                    window.PLOTLYENV=window.PLOTLYENV || {};\n",
       "                    window.PLOTLYENV.BASE_URL='https://plot.ly';                                    if (document.getElementById(\"0609be0c-ca61-4a18-8976-92bb329fb8b2\")) {                    Plotly.newPlot(                        \"0609be0c-ca61-4a18-8976-92bb329fb8b2\",                        [{\"histfunc\":\"count\",\"histnorm\":\"\",\"marker\":{\"color\":\"rgba(255, 153, 51, 1.0)\",\"line\":{\"color\":\"#4D5663\",\"width\":1.3}},\"name\":\"A\",\"nbinsx\":10,\"opacity\":0.8,\"orientation\":\"v\",\"x\":[0.512752939029791,-0.3553419617198243,-0.27929092762229374,0.13715381120273906,-0.10561595646288185,-0.1599097109111184,-0.4979472496059992,0.157104113124573,-0.46293873496051735,2.485418431861522,-0.4516734756190726,-1.493458861952407,-0.026482791768084567,-0.2757463899836123,2.241694624786081,-0.5129572406266717,0.15252616393685708,1.3865506913062904,-0.4983345548729902,0.307249958853756,-1.128251054831078,-0.8075072847154674,-0.6363660077137355,-0.3713082499903116,1.0441461790223507,0.3414257868465785,-0.5322617919291063,-1.2591308173815023,0.7009125457086441,0.9967249848203381,0.5553427242848349,-0.1710629029221637,-0.09347269250359294,-0.06269091796217952,-0.8889925758821092,1.0218299933351225,0.8210081659849187,0.44322827056598846,-0.4184786434300998,-0.08940115509505929,0.7269703626378548,0.24703444042561,0.05660618906374495,-0.46715813740333273,0.02946942295050563,-2.0148452428808628,-1.8538320646658921,-0.3354297970013657,1.6395349929699676,1.8490226882208158,-0.1512933010494933,-0.5005603686679456,0.7287108498117928,1.298360623953065,0.05835482274762789,0.05404720881988463,1.6448478378071496,-0.2165273389788695,-0.01089034092055172,-0.6396922580512779,0.1659230506263948,-0.26904140973624013,-0.15555495444472764,0.9466288861187291,0.49900398554713205,-2.175214685296227,0.09718808811786087,2.708148103191192,-0.7877907963975526,-0.0014491244335431606,-0.11955410895494896,-0.012562024727582138,-0.38147657376126753,1.1364951029280372,-0.3185237106734018,-2.2316850554714165,-1.332370837239957,1.1773780023580709,0.02886572654773463,-1.345659142078511,0.8985612990834209,0.7222788050675611,-1.3802880760915244,-1.9585194457414203,-2.1686577556553375,-0.8500871395049288,0.10917120767171398,0.4795289001080743,1.2234004610201688,0.8152430704621533,1.0968304321670168,-1.4067781777797062,0.05849673408436882,0.7533432362097038,0.015432162011626286,-1.2840022615670568,1.0343567428530556,0.6022038052564009,-0.5734790425194495,-0.061518042568631644],\"xaxis\":\"x\",\"yaxis\":\"y\",\"type\":\"histogram\"},{\"line\":{\"color\":\"rgba(128, 128, 128, 1.0)\",\"dash\":\"solid\",\"shape\":\"linear\",\"width\":1.3},\"marker\":{\"size\":2,\"symbol\":\"circle\"},\"mode\":\"markers\",\"name\":\"A\",\"text\":\"\",\"x\":[0.9495836228334081,-0.7100194112250915,1.650112399487089,0.7207073489887325,-0.6598783128597964,0.18061985623530957,-0.4113123196925393,-0.8059169160909352,-0.45030841232826324,-0.8649897640802658,1.0102208397481613,-1.0723396880437734,-0.6968940084156565,-0.8645673092942562,2.1955425731858553,-1.8863114244239756,0.8957455972821831,0.678767466446716,-0.8943159560446318,-0.09741963407826157,0.7654188247816236,-0.3061372125342001,0.5819132563211112,-0.8670704822495087,-1.1685354191395143,0.4987062070583795,-1.2664917103538968,-0.0020470918678063186,0.3121952440872714,-0.16072843272068324,0.11875890069643805,0.44986031105381663,-1.2372941389702115,-0.0699148743189868,0.5722458274120602,-0.908423657263562,0.9938975291952103,0.7958846288611234,2.301904816453025,-0.03442714273076457,1.9790174693194467,2.610010540348577,0.32989197333371956,0.8624799408253738,0.1139651001292569,0.4707004527178716,-1.5716325921736916,-0.24216538524890424,1.2948587449311602,2.4104001599038,0.06946876011078847,0.14121954910246642,-1.758843335651598,-0.34023316429089806,-0.615902806569471,0.5258757904723518,0.768142038676994,-0.6217746021507302,0.40561366010531047,0.0611695638678798,-0.13738126847244095,1.0648377553030648,-1.8221199689954444,-0.8653744519128183,0.6777054680280602,2.497494640335452,0.15104718570411105,1.6886883956295087,0.2150663109619358,1.1726393230041428,-0.6033410253786355,-1.1128029280466678,-1.3753978791796673,-1.6083436278421894,0.3251529185534095,-0.23507903877710437,0.6854681379288818,-1.041259674279969,-0.6804639148664574,0.8121246030044645,1.3458243345424477,-0.11174265897113703,0.8968517311317901,1.1561368291141871,0.14505918969787704,-0.18489325889499017,0.28894923373935066,0.9245649933210359,0.09791212574998187,1.735864656117559,1.8020648684561578,1.1660229778070796,1.6705341417911646,0.7029421504635976,-0.09985353358039065,0.6613232704319956,0.7436371685517646,-1.1581864717986816,-0.0517374783828689,0.01597140932841376],\"xaxis\":\"x2\",\"y\":[0.512752939029791,-0.3553419617198243,-0.27929092762229374,0.13715381120273906,-0.10561595646288185,-0.1599097109111184,-0.4979472496059992,0.157104113124573,-0.46293873496051735,2.485418431861522,-0.4516734756190726,-1.493458861952407,-0.026482791768084567,-0.2757463899836123,2.241694624786081,-0.5129572406266717,0.15252616393685708,1.3865506913062904,-0.4983345548729902,0.307249958853756,-1.128251054831078,-0.8075072847154674,-0.6363660077137355,-0.3713082499903116,1.0441461790223507,0.3414257868465785,-0.5322617919291063,-1.2591308173815023,0.7009125457086441,0.9967249848203381,0.5553427242848349,-0.1710629029221637,-0.09347269250359294,-0.06269091796217952,-0.8889925758821092,1.0218299933351225,0.8210081659849187,0.44322827056598846,-0.4184786434300998,-0.08940115509505929,0.7269703626378548,0.24703444042561,0.05660618906374495,-0.46715813740333273,0.02946942295050563,-2.0148452428808628,-1.8538320646658921,-0.3354297970013657,1.6395349929699676,1.8490226882208158,-0.1512933010494933,-0.5005603686679456,0.7287108498117928,1.298360623953065,0.05835482274762789,0.05404720881988463,1.6448478378071496,-0.2165273389788695,-0.01089034092055172,-0.6396922580512779,0.1659230506263948,-0.26904140973624013,-0.15555495444472764,0.9466288861187291,0.49900398554713205,-2.175214685296227,0.09718808811786087,2.708148103191192,-0.7877907963975526,-0.0014491244335431606,-0.11955410895494896,-0.012562024727582138,-0.38147657376126753,1.1364951029280372,-0.3185237106734018,-2.2316850554714165,-1.332370837239957,1.1773780023580709,0.02886572654773463,-1.345659142078511,0.8985612990834209,0.7222788050675611,-1.3802880760915244,-1.9585194457414203,-2.1686577556553375,-0.8500871395049288,0.10917120767171398,0.4795289001080743,1.2234004610201688,0.8152430704621533,1.0968304321670168,-1.4067781777797062,0.05849673408436882,0.7533432362097038,0.015432162011626286,-1.2840022615670568,1.0343567428530556,0.6022038052564009,-0.5734790425194495,-0.061518042568631644],\"yaxis\":\"y2\",\"type\":\"scatter\"},{\"line\":{\"color\":\"rgba(128, 128, 128, 1.0)\",\"dash\":\"solid\",\"shape\":\"linear\",\"width\":1.3},\"marker\":{\"size\":2,\"symbol\":\"circle\"},\"mode\":\"markers\",\"name\":\"A\",\"text\":\"\",\"x\":[0.647918339125702,-0.6629874159950747,-1.365185908111771,-2.0075225889599912,0.35654496700388316,1.3006874023536812,0.6835665697629982,-0.1401688964319155,-0.5803277472699386,0.6923895199692292,0.11043568798289007,-2.04023863493297,-1.4862374677794092,-0.8038954840842417,-0.4135429899954026,-0.19033116277557574,-0.5832375643284965,-0.7939887159905965,0.6763710647834456,0.622834178952044,0.19795849857076636,0.9230244541099311,0.9102873282566336,-1.578134272455675,2.248498612388913,-0.618276094493357,-1.642332191049332,-0.04954032303581414,1.273426373834263,0.05231784690273851,0.2170359373006094,-0.621871739089189,1.7856015664211622,0.43911657462324843,-1.4061425872715332,-0.32187333746658625,-0.23938813708705242,1.7833946355736527,-0.37324468282187484,-1.0666543693021822,-1.5485146171686575,0.20222191754419228,1.5230706386496686,0.616125792570182,-0.060507670904036276,-1.2248084283541232,-0.044431380557908934,2.2728044609439206,-1.7719469687907905,-0.5033840112064768,0.3851516439195813,-0.46447582205570065,-0.41975194804749727,0.04487714083101872,-2.008098012532532,0.2570531685060416,0.4336246485117831,0.7873621484585646,-0.7858747473947723,-2.249721885545336,0.2608393620754042,-0.35116999546835553,-1.4189477335205365,0.2452825146149802,0.40435417415188973,0.09930232430532347,-1.6741987610616293,0.42798943237457315,1.1160057602750102,-0.08809469183071897,1.0374511726902327,0.8647984505493161,-2.02602321230138,-1.8973360600586375,1.3290420228656905,-0.08532051099166421,-0.1618291189602749,3.36589901332965,0.2853060111168622,1.4909104779129705,2.603046817481854,0.07057420879162299,-0.3349264401219666,-0.27214487332199866,0.11621477136899505,-1.9653993496117967,-0.6532103410624271,0.2363608302426708,0.9248339096229946,1.044452994302072,-0.568127620861377,0.9347943385510102,-1.4674844783936958,-0.6593242696058286,0.33773560085113274,-0.9564585499347026,-1.0816546603266393,-0.0990998967519054,-0.6780371610061101,-0.4661359234137232],\"xaxis\":\"x3\",\"y\":[0.512752939029791,-0.3553419617198243,-0.27929092762229374,0.13715381120273906,-0.10561595646288185,-0.1599097109111184,-0.4979472496059992,0.157104113124573,-0.46293873496051735,2.485418431861522,-0.4516734756190726,-1.493458861952407,-0.026482791768084567,-0.2757463899836123,2.241694624786081,-0.5129572406266717,0.15252616393685708,1.3865506913062904,-0.4983345548729902,0.307249958853756,-1.128251054831078,-0.8075072847154674,-0.6363660077137355,-0.3713082499903116,1.0441461790223507,0.3414257868465785,-0.5322617919291063,-1.2591308173815023,0.7009125457086441,0.9967249848203381,0.5553427242848349,-0.1710629029221637,-0.09347269250359294,-0.06269091796217952,-0.8889925758821092,1.0218299933351225,0.8210081659849187,0.44322827056598846,-0.4184786434300998,-0.08940115509505929,0.7269703626378548,0.24703444042561,0.05660618906374495,-0.46715813740333273,0.02946942295050563,-2.0148452428808628,-1.8538320646658921,-0.3354297970013657,1.6395349929699676,1.8490226882208158,-0.1512933010494933,-0.5005603686679456,0.7287108498117928,1.298360623953065,0.05835482274762789,0.05404720881988463,1.6448478378071496,-0.2165273389788695,-0.01089034092055172,-0.6396922580512779,0.1659230506263948,-0.26904140973624013,-0.15555495444472764,0.9466288861187291,0.49900398554713205,-2.175214685296227,0.09718808811786087,2.708148103191192,-0.7877907963975526,-0.0014491244335431606,-0.11955410895494896,-0.012562024727582138,-0.38147657376126753,1.1364951029280372,-0.3185237106734018,-2.2316850554714165,-1.332370837239957,1.1773780023580709,0.02886572654773463,-1.345659142078511,0.8985612990834209,0.7222788050675611,-1.3802880760915244,-1.9585194457414203,-2.1686577556553375,-0.8500871395049288,0.10917120767171398,0.4795289001080743,1.2234004610201688,0.8152430704621533,1.0968304321670168,-1.4067781777797062,0.05849673408436882,0.7533432362097038,0.015432162011626286,-1.2840022615670568,1.0343567428530556,0.6022038052564009,-0.5734790425194495,-0.061518042568631644],\"yaxis\":\"y3\",\"type\":\"scatter\"},{\"line\":{\"color\":\"rgba(128, 128, 128, 1.0)\",\"dash\":\"solid\",\"shape\":\"linear\",\"width\":1.3},\"marker\":{\"size\":2,\"symbol\":\"circle\"},\"mode\":\"markers\",\"name\":\"A\",\"text\":\"\",\"x\":[-0.19631981906212687,-0.6519713807353804,-1.0649846722973384,0.2276268403009993,0.7048164209836024,-1.4446783704695936,-2.033750158183124,0.5138908127633827,0.5743634695953264,-1.3657451693518634,0.4637907687699757,1.0844078896291873,-0.8199961871709128,0.7302810084439927,1.1501886667067136,1.4068956037099702,1.508692417359712,-0.122429546415331,-1.2139029828276917,-1.3915936060875007,-0.3238322412559266,1.3434653001668608,-0.5185807775608965,-0.7107820957370212,-0.4464055579970659,-0.9606481511417176,-0.295817297356241,-0.7965590857577352,0.006067325117813681,-0.4809220256345543,1.028630144482865,-0.3991139925170933,0.03907052978298096,1.4539224977284508,1.2368047827803776,1.498742536272704,0.9555284868160445,-0.4319859168096048,0.07204665511014491,0.15138773782731127,-0.0016863454597473644,-0.66704262100987,0.8234927800554659,0.9355289432127771,-0.6529971281881106,1.5998032068698078,-1.158827929365611,-0.04136818612304619,1.0781454686574732,0.21721131798324592,1.534521058113346,-1.750652204012357,0.9872822474417707,-1.197496541939758,-1.0439173878772081,0.09596236413985537,-0.6568654252222857,0.706633110663512,-1.211932613051174,0.671873724489011,-0.3898892118405459,0.9970459716634278,-0.28713960225161106,-0.010341133054459198,-0.9767493981679324,-0.18844975221423968,-0.7820893042608988,-1.8529738370200275,1.4738531760079354,-0.23686088155185786,-0.8470745256434993,-2.05765141244495,0.8174144337022742,-1.4106119727042548,-0.7248926917781047,-0.8969630071984197,-0.6419860011659925,-0.375072540951662,0.17237805217223748,-0.5805831220436499,-1.0090042945869997,-0.360630514240928,0.06712082805980472,-1.0222964654995608,-1.3111878556748808,-0.6265000694373624,-0.45147531022127435,-1.1298686894301744,-1.7403524915989772,-0.20931072894096553,-0.4243133313934241,-0.4252201065654679,-0.9829243053422797,0.6344429869787069,0.4895108597241183,0.9515124340705648,-1.2456264225617408,-0.003231469493402177,-0.4297021911016993,-1.0168190422430656],\"xaxis\":\"x4\",\"y\":[0.512752939029791,-0.3553419617198243,-0.27929092762229374,0.13715381120273906,-0.10561595646288185,-0.1599097109111184,-0.4979472496059992,0.157104113124573,-0.46293873496051735,2.485418431861522,-0.4516734756190726,-1.493458861952407,-0.026482791768084567,-0.2757463899836123,2.241694624786081,-0.5129572406266717,0.15252616393685708,1.3865506913062904,-0.4983345548729902,0.307249958853756,-1.128251054831078,-0.8075072847154674,-0.6363660077137355,-0.3713082499903116,1.0441461790223507,0.3414257868465785,-0.5322617919291063,-1.2591308173815023,0.7009125457086441,0.9967249848203381,0.5553427242848349,-0.1710629029221637,-0.09347269250359294,-0.06269091796217952,-0.8889925758821092,1.0218299933351225,0.8210081659849187,0.44322827056598846,-0.4184786434300998,-0.08940115509505929,0.7269703626378548,0.24703444042561,0.05660618906374495,-0.46715813740333273,0.02946942295050563,-2.0148452428808628,-1.8538320646658921,-0.3354297970013657,1.6395349929699676,1.8490226882208158,-0.1512933010494933,-0.5005603686679456,0.7287108498117928,1.298360623953065,0.05835482274762789,0.05404720881988463,1.6448478378071496,-0.2165273389788695,-0.01089034092055172,-0.6396922580512779,0.1659230506263948,-0.26904140973624013,-0.15555495444472764,0.9466288861187291,0.49900398554713205,-2.175214685296227,0.09718808811786087,2.708148103191192,-0.7877907963975526,-0.0014491244335431606,-0.11955410895494896,-0.012562024727582138,-0.38147657376126753,1.1364951029280372,-0.3185237106734018,-2.2316850554714165,-1.332370837239957,1.1773780023580709,0.02886572654773463,-1.345659142078511,0.8985612990834209,0.7222788050675611,-1.3802880760915244,-1.9585194457414203,-2.1686577556553375,-0.8500871395049288,0.10917120767171398,0.4795289001080743,1.2234004610201688,0.8152430704621533,1.0968304321670168,-1.4067781777797062,0.05849673408436882,0.7533432362097038,0.015432162011626286,-1.2840022615670568,1.0343567428530556,0.6022038052564009,-0.5734790425194495,-0.061518042568631644],\"yaxis\":\"y4\",\"type\":\"scatter\"},{\"line\":{\"color\":\"rgba(128, 128, 128, 1.0)\",\"dash\":\"solid\",\"shape\":\"linear\",\"width\":1.3},\"marker\":{\"size\":2,\"symbol\":\"circle\"},\"mode\":\"markers\",\"name\":\"B\",\"text\":\"\",\"x\":[0.512752939029791,-0.3553419617198243,-0.27929092762229374,0.13715381120273906,-0.10561595646288185,-0.1599097109111184,-0.4979472496059992,0.157104113124573,-0.46293873496051735,2.485418431861522,-0.4516734756190726,-1.493458861952407,-0.026482791768084567,-0.2757463899836123,2.241694624786081,-0.5129572406266717,0.15252616393685708,1.3865506913062904,-0.4983345548729902,0.307249958853756,-1.128251054831078,-0.8075072847154674,-0.6363660077137355,-0.3713082499903116,1.0441461790223507,0.3414257868465785,-0.5322617919291063,-1.2591308173815023,0.7009125457086441,0.9967249848203381,0.5553427242848349,-0.1710629029221637,-0.09347269250359294,-0.06269091796217952,-0.8889925758821092,1.0218299933351225,0.8210081659849187,0.44322827056598846,-0.4184786434300998,-0.08940115509505929,0.7269703626378548,0.24703444042561,0.05660618906374495,-0.46715813740333273,0.02946942295050563,-2.0148452428808628,-1.8538320646658921,-0.3354297970013657,1.6395349929699676,1.8490226882208158,-0.1512933010494933,-0.5005603686679456,0.7287108498117928,1.298360623953065,0.05835482274762789,0.05404720881988463,1.6448478378071496,-0.2165273389788695,-0.01089034092055172,-0.6396922580512779,0.1659230506263948,-0.26904140973624013,-0.15555495444472764,0.9466288861187291,0.49900398554713205,-2.175214685296227,0.09718808811786087,2.708148103191192,-0.7877907963975526,-0.0014491244335431606,-0.11955410895494896,-0.012562024727582138,-0.38147657376126753,1.1364951029280372,-0.3185237106734018,-2.2316850554714165,-1.332370837239957,1.1773780023580709,0.02886572654773463,-1.345659142078511,0.8985612990834209,0.7222788050675611,-1.3802880760915244,-1.9585194457414203,-2.1686577556553375,-0.8500871395049288,0.10917120767171398,0.4795289001080743,1.2234004610201688,0.8152430704621533,1.0968304321670168,-1.4067781777797062,0.05849673408436882,0.7533432362097038,0.015432162011626286,-1.2840022615670568,1.0343567428530556,0.6022038052564009,-0.5734790425194495,-0.061518042568631644],\"xaxis\":\"x5\",\"y\":[0.9495836228334081,-0.7100194112250915,1.650112399487089,0.7207073489887325,-0.6598783128597964,0.18061985623530957,-0.4113123196925393,-0.8059169160909352,-0.45030841232826324,-0.8649897640802658,1.0102208397481613,-1.0723396880437734,-0.6968940084156565,-0.8645673092942562,2.1955425731858553,-1.8863114244239756,0.8957455972821831,0.678767466446716,-0.8943159560446318,-0.09741963407826157,0.7654188247816236,-0.3061372125342001,0.5819132563211112,-0.8670704822495087,-1.1685354191395143,0.4987062070583795,-1.2664917103538968,-0.0020470918678063186,0.3121952440872714,-0.16072843272068324,0.11875890069643805,0.44986031105381663,-1.2372941389702115,-0.0699148743189868,0.5722458274120602,-0.908423657263562,0.9938975291952103,0.7958846288611234,2.301904816453025,-0.03442714273076457,1.9790174693194467,2.610010540348577,0.32989197333371956,0.8624799408253738,0.1139651001292569,0.4707004527178716,-1.5716325921736916,-0.24216538524890424,1.2948587449311602,2.4104001599038,0.06946876011078847,0.14121954910246642,-1.758843335651598,-0.34023316429089806,-0.615902806569471,0.5258757904723518,0.768142038676994,-0.6217746021507302,0.40561366010531047,0.0611695638678798,-0.13738126847244095,1.0648377553030648,-1.8221199689954444,-0.8653744519128183,0.6777054680280602,2.497494640335452,0.15104718570411105,1.6886883956295087,0.2150663109619358,1.1726393230041428,-0.6033410253786355,-1.1128029280466678,-1.3753978791796673,-1.6083436278421894,0.3251529185534095,-0.23507903877710437,0.6854681379288818,-1.041259674279969,-0.6804639148664574,0.8121246030044645,1.3458243345424477,-0.11174265897113703,0.8968517311317901,1.1561368291141871,0.14505918969787704,-0.18489325889499017,0.28894923373935066,0.9245649933210359,0.09791212574998187,1.735864656117559,1.8020648684561578,1.1660229778070796,1.6705341417911646,0.7029421504635976,-0.09985353358039065,0.6613232704319956,0.7436371685517646,-1.1581864717986816,-0.0517374783828689,0.01597140932841376],\"yaxis\":\"y5\",\"type\":\"scatter\"},{\"histfunc\":\"count\",\"histnorm\":\"\",\"marker\":{\"color\":\"rgba(55, 128, 191, 1.0)\",\"line\":{\"color\":\"#4D5663\",\"width\":1.3}},\"name\":\"B\",\"nbinsx\":10,\"opacity\":0.8,\"orientation\":\"v\",\"x\":[0.9495836228334081,-0.7100194112250915,1.650112399487089,0.7207073489887325,-0.6598783128597964,0.18061985623530957,-0.4113123196925393,-0.8059169160909352,-0.45030841232826324,-0.8649897640802658,1.0102208397481613,-1.0723396880437734,-0.6968940084156565,-0.8645673092942562,2.1955425731858553,-1.8863114244239756,0.8957455972821831,0.678767466446716,-0.8943159560446318,-0.09741963407826157,0.7654188247816236,-0.3061372125342001,0.5819132563211112,-0.8670704822495087,-1.1685354191395143,0.4987062070583795,-1.2664917103538968,-0.0020470918678063186,0.3121952440872714,-0.16072843272068324,0.11875890069643805,0.44986031105381663,-1.2372941389702115,-0.0699148743189868,0.5722458274120602,-0.908423657263562,0.9938975291952103,0.7958846288611234,2.301904816453025,-0.03442714273076457,1.9790174693194467,2.610010540348577,0.32989197333371956,0.8624799408253738,0.1139651001292569,0.4707004527178716,-1.5716325921736916,-0.24216538524890424,1.2948587449311602,2.4104001599038,0.06946876011078847,0.14121954910246642,-1.758843335651598,-0.34023316429089806,-0.615902806569471,0.5258757904723518,0.768142038676994,-0.6217746021507302,0.40561366010531047,0.0611695638678798,-0.13738126847244095,1.0648377553030648,-1.8221199689954444,-0.8653744519128183,0.6777054680280602,2.497494640335452,0.15104718570411105,1.6886883956295087,0.2150663109619358,1.1726393230041428,-0.6033410253786355,-1.1128029280466678,-1.3753978791796673,-1.6083436278421894,0.3251529185534095,-0.23507903877710437,0.6854681379288818,-1.041259674279969,-0.6804639148664574,0.8121246030044645,1.3458243345424477,-0.11174265897113703,0.8968517311317901,1.1561368291141871,0.14505918969787704,-0.18489325889499017,0.28894923373935066,0.9245649933210359,0.09791212574998187,1.735864656117559,1.8020648684561578,1.1660229778070796,1.6705341417911646,0.7029421504635976,-0.09985353358039065,0.6613232704319956,0.7436371685517646,-1.1581864717986816,-0.0517374783828689,0.01597140932841376],\"xaxis\":\"x6\",\"yaxis\":\"y6\",\"type\":\"histogram\"},{\"line\":{\"color\":\"rgba(128, 128, 128, 1.0)\",\"dash\":\"solid\",\"shape\":\"linear\",\"width\":1.3},\"marker\":{\"size\":2,\"symbol\":\"circle\"},\"mode\":\"markers\",\"name\":\"B\",\"text\":\"\",\"x\":[0.647918339125702,-0.6629874159950747,-1.365185908111771,-2.0075225889599912,0.35654496700388316,1.3006874023536812,0.6835665697629982,-0.1401688964319155,-0.5803277472699386,0.6923895199692292,0.11043568798289007,-2.04023863493297,-1.4862374677794092,-0.8038954840842417,-0.4135429899954026,-0.19033116277557574,-0.5832375643284965,-0.7939887159905965,0.6763710647834456,0.622834178952044,0.19795849857076636,0.9230244541099311,0.9102873282566336,-1.578134272455675,2.248498612388913,-0.618276094493357,-1.642332191049332,-0.04954032303581414,1.273426373834263,0.05231784690273851,0.2170359373006094,-0.621871739089189,1.7856015664211622,0.43911657462324843,-1.4061425872715332,-0.32187333746658625,-0.23938813708705242,1.7833946355736527,-0.37324468282187484,-1.0666543693021822,-1.5485146171686575,0.20222191754419228,1.5230706386496686,0.616125792570182,-0.060507670904036276,-1.2248084283541232,-0.044431380557908934,2.2728044609439206,-1.7719469687907905,-0.5033840112064768,0.3851516439195813,-0.46447582205570065,-0.41975194804749727,0.04487714083101872,-2.008098012532532,0.2570531685060416,0.4336246485117831,0.7873621484585646,-0.7858747473947723,-2.249721885545336,0.2608393620754042,-0.35116999546835553,-1.4189477335205365,0.2452825146149802,0.40435417415188973,0.09930232430532347,-1.6741987610616293,0.42798943237457315,1.1160057602750102,-0.08809469183071897,1.0374511726902327,0.8647984505493161,-2.02602321230138,-1.8973360600586375,1.3290420228656905,-0.08532051099166421,-0.1618291189602749,3.36589901332965,0.2853060111168622,1.4909104779129705,2.603046817481854,0.07057420879162299,-0.3349264401219666,-0.27214487332199866,0.11621477136899505,-1.9653993496117967,-0.6532103410624271,0.2363608302426708,0.9248339096229946,1.044452994302072,-0.568127620861377,0.9347943385510102,-1.4674844783936958,-0.6593242696058286,0.33773560085113274,-0.9564585499347026,-1.0816546603266393,-0.0990998967519054,-0.6780371610061101,-0.4661359234137232],\"xaxis\":\"x7\",\"y\":[0.9495836228334081,-0.7100194112250915,1.650112399487089,0.7207073489887325,-0.6598783128597964,0.18061985623530957,-0.4113123196925393,-0.8059169160909352,-0.45030841232826324,-0.8649897640802658,1.0102208397481613,-1.0723396880437734,-0.6968940084156565,-0.8645673092942562,2.1955425731858553,-1.8863114244239756,0.8957455972821831,0.678767466446716,-0.8943159560446318,-0.09741963407826157,0.7654188247816236,-0.3061372125342001,0.5819132563211112,-0.8670704822495087,-1.1685354191395143,0.4987062070583795,-1.2664917103538968,-0.0020470918678063186,0.3121952440872714,-0.16072843272068324,0.11875890069643805,0.44986031105381663,-1.2372941389702115,-0.0699148743189868,0.5722458274120602,-0.908423657263562,0.9938975291952103,0.7958846288611234,2.301904816453025,-0.03442714273076457,1.9790174693194467,2.610010540348577,0.32989197333371956,0.8624799408253738,0.1139651001292569,0.4707004527178716,-1.5716325921736916,-0.24216538524890424,1.2948587449311602,2.4104001599038,0.06946876011078847,0.14121954910246642,-1.758843335651598,-0.34023316429089806,-0.615902806569471,0.5258757904723518,0.768142038676994,-0.6217746021507302,0.40561366010531047,0.0611695638678798,-0.13738126847244095,1.0648377553030648,-1.8221199689954444,-0.8653744519128183,0.6777054680280602,2.497494640335452,0.15104718570411105,1.6886883956295087,0.2150663109619358,1.1726393230041428,-0.6033410253786355,-1.1128029280466678,-1.3753978791796673,-1.6083436278421894,0.3251529185534095,-0.23507903877710437,0.6854681379288818,-1.041259674279969,-0.6804639148664574,0.8121246030044645,1.3458243345424477,-0.11174265897113703,0.8968517311317901,1.1561368291141871,0.14505918969787704,-0.18489325889499017,0.28894923373935066,0.9245649933210359,0.09791212574998187,1.735864656117559,1.8020648684561578,1.1660229778070796,1.6705341417911646,0.7029421504635976,-0.09985353358039065,0.6613232704319956,0.7436371685517646,-1.1581864717986816,-0.0517374783828689,0.01597140932841376],\"yaxis\":\"y7\",\"type\":\"scatter\"},{\"line\":{\"color\":\"rgba(128, 128, 128, 1.0)\",\"dash\":\"solid\",\"shape\":\"linear\",\"width\":1.3},\"marker\":{\"size\":2,\"symbol\":\"circle\"},\"mode\":\"markers\",\"name\":\"B\",\"text\":\"\",\"x\":[-0.19631981906212687,-0.6519713807353804,-1.0649846722973384,0.2276268403009993,0.7048164209836024,-1.4446783704695936,-2.033750158183124,0.5138908127633827,0.5743634695953264,-1.3657451693518634,0.4637907687699757,1.0844078896291873,-0.8199961871709128,0.7302810084439927,1.1501886667067136,1.4068956037099702,1.508692417359712,-0.122429546415331,-1.2139029828276917,-1.3915936060875007,-0.3238322412559266,1.3434653001668608,-0.5185807775608965,-0.7107820957370212,-0.4464055579970659,-0.9606481511417176,-0.295817297356241,-0.7965590857577352,0.006067325117813681,-0.4809220256345543,1.028630144482865,-0.3991139925170933,0.03907052978298096,1.4539224977284508,1.2368047827803776,1.498742536272704,0.9555284868160445,-0.4319859168096048,0.07204665511014491,0.15138773782731127,-0.0016863454597473644,-0.66704262100987,0.8234927800554659,0.9355289432127771,-0.6529971281881106,1.5998032068698078,-1.158827929365611,-0.04136818612304619,1.0781454686574732,0.21721131798324592,1.534521058113346,-1.750652204012357,0.9872822474417707,-1.197496541939758,-1.0439173878772081,0.09596236413985537,-0.6568654252222857,0.706633110663512,-1.211932613051174,0.671873724489011,-0.3898892118405459,0.9970459716634278,-0.28713960225161106,-0.010341133054459198,-0.9767493981679324,-0.18844975221423968,-0.7820893042608988,-1.8529738370200275,1.4738531760079354,-0.23686088155185786,-0.8470745256434993,-2.05765141244495,0.8174144337022742,-1.4106119727042548,-0.7248926917781047,-0.8969630071984197,-0.6419860011659925,-0.375072540951662,0.17237805217223748,-0.5805831220436499,-1.0090042945869997,-0.360630514240928,0.06712082805980472,-1.0222964654995608,-1.3111878556748808,-0.6265000694373624,-0.45147531022127435,-1.1298686894301744,-1.7403524915989772,-0.20931072894096553,-0.4243133313934241,-0.4252201065654679,-0.9829243053422797,0.6344429869787069,0.4895108597241183,0.9515124340705648,-1.2456264225617408,-0.003231469493402177,-0.4297021911016993,-1.0168190422430656],\"xaxis\":\"x8\",\"y\":[0.9495836228334081,-0.7100194112250915,1.650112399487089,0.7207073489887325,-0.6598783128597964,0.18061985623530957,-0.4113123196925393,-0.8059169160909352,-0.45030841232826324,-0.8649897640802658,1.0102208397481613,-1.0723396880437734,-0.6968940084156565,-0.8645673092942562,2.1955425731858553,-1.8863114244239756,0.8957455972821831,0.678767466446716,-0.8943159560446318,-0.09741963407826157,0.7654188247816236,-0.3061372125342001,0.5819132563211112,-0.8670704822495087,-1.1685354191395143,0.4987062070583795,-1.2664917103538968,-0.0020470918678063186,0.3121952440872714,-0.16072843272068324,0.11875890069643805,0.44986031105381663,-1.2372941389702115,-0.0699148743189868,0.5722458274120602,-0.908423657263562,0.9938975291952103,0.7958846288611234,2.301904816453025,-0.03442714273076457,1.9790174693194467,2.610010540348577,0.32989197333371956,0.8624799408253738,0.1139651001292569,0.4707004527178716,-1.5716325921736916,-0.24216538524890424,1.2948587449311602,2.4104001599038,0.06946876011078847,0.14121954910246642,-1.758843335651598,-0.34023316429089806,-0.615902806569471,0.5258757904723518,0.768142038676994,-0.6217746021507302,0.40561366010531047,0.0611695638678798,-0.13738126847244095,1.0648377553030648,-1.8221199689954444,-0.8653744519128183,0.6777054680280602,2.497494640335452,0.15104718570411105,1.6886883956295087,0.2150663109619358,1.1726393230041428,-0.6033410253786355,-1.1128029280466678,-1.3753978791796673,-1.6083436278421894,0.3251529185534095,-0.23507903877710437,0.6854681379288818,-1.041259674279969,-0.6804639148664574,0.8121246030044645,1.3458243345424477,-0.11174265897113703,0.8968517311317901,1.1561368291141871,0.14505918969787704,-0.18489325889499017,0.28894923373935066,0.9245649933210359,0.09791212574998187,1.735864656117559,1.8020648684561578,1.1660229778070796,1.6705341417911646,0.7029421504635976,-0.09985353358039065,0.6613232704319956,0.7436371685517646,-1.1581864717986816,-0.0517374783828689,0.01597140932841376],\"yaxis\":\"y8\",\"type\":\"scatter\"},{\"line\":{\"color\":\"rgba(128, 128, 128, 1.0)\",\"dash\":\"solid\",\"shape\":\"linear\",\"width\":1.3},\"marker\":{\"size\":2,\"symbol\":\"circle\"},\"mode\":\"markers\",\"name\":\"C\",\"text\":\"\",\"x\":[0.512752939029791,-0.3553419617198243,-0.27929092762229374,0.13715381120273906,-0.10561595646288185,-0.1599097109111184,-0.4979472496059992,0.157104113124573,-0.46293873496051735,2.485418431861522,-0.4516734756190726,-1.493458861952407,-0.026482791768084567,-0.2757463899836123,2.241694624786081,-0.5129572406266717,0.15252616393685708,1.3865506913062904,-0.4983345548729902,0.307249958853756,-1.128251054831078,-0.8075072847154674,-0.6363660077137355,-0.3713082499903116,1.0441461790223507,0.3414257868465785,-0.5322617919291063,-1.2591308173815023,0.7009125457086441,0.9967249848203381,0.5553427242848349,-0.1710629029221637,-0.09347269250359294,-0.06269091796217952,-0.8889925758821092,1.0218299933351225,0.8210081659849187,0.44322827056598846,-0.4184786434300998,-0.08940115509505929,0.7269703626378548,0.24703444042561,0.05660618906374495,-0.46715813740333273,0.02946942295050563,-2.0148452428808628,-1.8538320646658921,-0.3354297970013657,1.6395349929699676,1.8490226882208158,-0.1512933010494933,-0.5005603686679456,0.7287108498117928,1.298360623953065,0.05835482274762789,0.05404720881988463,1.6448478378071496,-0.2165273389788695,-0.01089034092055172,-0.6396922580512779,0.1659230506263948,-0.26904140973624013,-0.15555495444472764,0.9466288861187291,0.49900398554713205,-2.175214685296227,0.09718808811786087,2.708148103191192,-0.7877907963975526,-0.0014491244335431606,-0.11955410895494896,-0.012562024727582138,-0.38147657376126753,1.1364951029280372,-0.3185237106734018,-2.2316850554714165,-1.332370837239957,1.1773780023580709,0.02886572654773463,-1.345659142078511,0.8985612990834209,0.7222788050675611,-1.3802880760915244,-1.9585194457414203,-2.1686577556553375,-0.8500871395049288,0.10917120767171398,0.4795289001080743,1.2234004610201688,0.8152430704621533,1.0968304321670168,-1.4067781777797062,0.05849673408436882,0.7533432362097038,0.015432162011626286,-1.2840022615670568,1.0343567428530556,0.6022038052564009,-0.5734790425194495,-0.061518042568631644],\"xaxis\":\"x9\",\"y\":[0.647918339125702,-0.6629874159950747,-1.365185908111771,-2.0075225889599912,0.35654496700388316,1.3006874023536812,0.6835665697629982,-0.1401688964319155,-0.5803277472699386,0.6923895199692292,0.11043568798289007,-2.04023863493297,-1.4862374677794092,-0.8038954840842417,-0.4135429899954026,-0.19033116277557574,-0.5832375643284965,-0.7939887159905965,0.6763710647834456,0.622834178952044,0.19795849857076636,0.9230244541099311,0.9102873282566336,-1.578134272455675,2.248498612388913,-0.618276094493357,-1.642332191049332,-0.04954032303581414,1.273426373834263,0.05231784690273851,0.2170359373006094,-0.621871739089189,1.7856015664211622,0.43911657462324843,-1.4061425872715332,-0.32187333746658625,-0.23938813708705242,1.7833946355736527,-0.37324468282187484,-1.0666543693021822,-1.5485146171686575,0.20222191754419228,1.5230706386496686,0.616125792570182,-0.060507670904036276,-1.2248084283541232,-0.044431380557908934,2.2728044609439206,-1.7719469687907905,-0.5033840112064768,0.3851516439195813,-0.46447582205570065,-0.41975194804749727,0.04487714083101872,-2.008098012532532,0.2570531685060416,0.4336246485117831,0.7873621484585646,-0.7858747473947723,-2.249721885545336,0.2608393620754042,-0.35116999546835553,-1.4189477335205365,0.2452825146149802,0.40435417415188973,0.09930232430532347,-1.6741987610616293,0.42798943237457315,1.1160057602750102,-0.08809469183071897,1.0374511726902327,0.8647984505493161,-2.02602321230138,-1.8973360600586375,1.3290420228656905,-0.08532051099166421,-0.1618291189602749,3.36589901332965,0.2853060111168622,1.4909104779129705,2.603046817481854,0.07057420879162299,-0.3349264401219666,-0.27214487332199866,0.11621477136899505,-1.9653993496117967,-0.6532103410624271,0.2363608302426708,0.9248339096229946,1.044452994302072,-0.568127620861377,0.9347943385510102,-1.4674844783936958,-0.6593242696058286,0.33773560085113274,-0.9564585499347026,-1.0816546603266393,-0.0990998967519054,-0.6780371610061101,-0.4661359234137232],\"yaxis\":\"y9\",\"type\":\"scatter\"},{\"line\":{\"color\":\"rgba(128, 128, 128, 1.0)\",\"dash\":\"solid\",\"shape\":\"linear\",\"width\":1.3},\"marker\":{\"size\":2,\"symbol\":\"circle\"},\"mode\":\"markers\",\"name\":\"C\",\"text\":\"\",\"x\":[0.9495836228334081,-0.7100194112250915,1.650112399487089,0.7207073489887325,-0.6598783128597964,0.18061985623530957,-0.4113123196925393,-0.8059169160909352,-0.45030841232826324,-0.8649897640802658,1.0102208397481613,-1.0723396880437734,-0.6968940084156565,-0.8645673092942562,2.1955425731858553,-1.8863114244239756,0.8957455972821831,0.678767466446716,-0.8943159560446318,-0.09741963407826157,0.7654188247816236,-0.3061372125342001,0.5819132563211112,-0.8670704822495087,-1.1685354191395143,0.4987062070583795,-1.2664917103538968,-0.0020470918678063186,0.3121952440872714,-0.16072843272068324,0.11875890069643805,0.44986031105381663,-1.2372941389702115,-0.0699148743189868,0.5722458274120602,-0.908423657263562,0.9938975291952103,0.7958846288611234,2.301904816453025,-0.03442714273076457,1.9790174693194467,2.610010540348577,0.32989197333371956,0.8624799408253738,0.1139651001292569,0.4707004527178716,-1.5716325921736916,-0.24216538524890424,1.2948587449311602,2.4104001599038,0.06946876011078847,0.14121954910246642,-1.758843335651598,-0.34023316429089806,-0.615902806569471,0.5258757904723518,0.768142038676994,-0.6217746021507302,0.40561366010531047,0.0611695638678798,-0.13738126847244095,1.0648377553030648,-1.8221199689954444,-0.8653744519128183,0.6777054680280602,2.497494640335452,0.15104718570411105,1.6886883956295087,0.2150663109619358,1.1726393230041428,-0.6033410253786355,-1.1128029280466678,-1.3753978791796673,-1.6083436278421894,0.3251529185534095,-0.23507903877710437,0.6854681379288818,-1.041259674279969,-0.6804639148664574,0.8121246030044645,1.3458243345424477,-0.11174265897113703,0.8968517311317901,1.1561368291141871,0.14505918969787704,-0.18489325889499017,0.28894923373935066,0.9245649933210359,0.09791212574998187,1.735864656117559,1.8020648684561578,1.1660229778070796,1.6705341417911646,0.7029421504635976,-0.09985353358039065,0.6613232704319956,0.7436371685517646,-1.1581864717986816,-0.0517374783828689,0.01597140932841376],\"xaxis\":\"x10\",\"y\":[0.647918339125702,-0.6629874159950747,-1.365185908111771,-2.0075225889599912,0.35654496700388316,1.3006874023536812,0.6835665697629982,-0.1401688964319155,-0.5803277472699386,0.6923895199692292,0.11043568798289007,-2.04023863493297,-1.4862374677794092,-0.8038954840842417,-0.4135429899954026,-0.19033116277557574,-0.5832375643284965,-0.7939887159905965,0.6763710647834456,0.622834178952044,0.19795849857076636,0.9230244541099311,0.9102873282566336,-1.578134272455675,2.248498612388913,-0.618276094493357,-1.642332191049332,-0.04954032303581414,1.273426373834263,0.05231784690273851,0.2170359373006094,-0.621871739089189,1.7856015664211622,0.43911657462324843,-1.4061425872715332,-0.32187333746658625,-0.23938813708705242,1.7833946355736527,-0.37324468282187484,-1.0666543693021822,-1.5485146171686575,0.20222191754419228,1.5230706386496686,0.616125792570182,-0.060507670904036276,-1.2248084283541232,-0.044431380557908934,2.2728044609439206,-1.7719469687907905,-0.5033840112064768,0.3851516439195813,-0.46447582205570065,-0.41975194804749727,0.04487714083101872,-2.008098012532532,0.2570531685060416,0.4336246485117831,0.7873621484585646,-0.7858747473947723,-2.249721885545336,0.2608393620754042,-0.35116999546835553,-1.4189477335205365,0.2452825146149802,0.40435417415188973,0.09930232430532347,-1.6741987610616293,0.42798943237457315,1.1160057602750102,-0.08809469183071897,1.0374511726902327,0.8647984505493161,-2.02602321230138,-1.8973360600586375,1.3290420228656905,-0.08532051099166421,-0.1618291189602749,3.36589901332965,0.2853060111168622,1.4909104779129705,2.603046817481854,0.07057420879162299,-0.3349264401219666,-0.27214487332199866,0.11621477136899505,-1.9653993496117967,-0.6532103410624271,0.2363608302426708,0.9248339096229946,1.044452994302072,-0.568127620861377,0.9347943385510102,-1.4674844783936958,-0.6593242696058286,0.33773560085113274,-0.9564585499347026,-1.0816546603266393,-0.0990998967519054,-0.6780371610061101,-0.4661359234137232],\"yaxis\":\"y10\",\"type\":\"scatter\"},{\"histfunc\":\"count\",\"histnorm\":\"\",\"marker\":{\"color\":\"rgba(50, 171, 96, 1.0)\",\"line\":{\"color\":\"#4D5663\",\"width\":1.3}},\"name\":\"C\",\"nbinsx\":10,\"opacity\":0.8,\"orientation\":\"v\",\"x\":[0.647918339125702,-0.6629874159950747,-1.365185908111771,-2.0075225889599912,0.35654496700388316,1.3006874023536812,0.6835665697629982,-0.1401688964319155,-0.5803277472699386,0.6923895199692292,0.11043568798289007,-2.04023863493297,-1.4862374677794092,-0.8038954840842417,-0.4135429899954026,-0.19033116277557574,-0.5832375643284965,-0.7939887159905965,0.6763710647834456,0.622834178952044,0.19795849857076636,0.9230244541099311,0.9102873282566336,-1.578134272455675,2.248498612388913,-0.618276094493357,-1.642332191049332,-0.04954032303581414,1.273426373834263,0.05231784690273851,0.2170359373006094,-0.621871739089189,1.7856015664211622,0.43911657462324843,-1.4061425872715332,-0.32187333746658625,-0.23938813708705242,1.7833946355736527,-0.37324468282187484,-1.0666543693021822,-1.5485146171686575,0.20222191754419228,1.5230706386496686,0.616125792570182,-0.060507670904036276,-1.2248084283541232,-0.044431380557908934,2.2728044609439206,-1.7719469687907905,-0.5033840112064768,0.3851516439195813,-0.46447582205570065,-0.41975194804749727,0.04487714083101872,-2.008098012532532,0.2570531685060416,0.4336246485117831,0.7873621484585646,-0.7858747473947723,-2.249721885545336,0.2608393620754042,-0.35116999546835553,-1.4189477335205365,0.2452825146149802,0.40435417415188973,0.09930232430532347,-1.6741987610616293,0.42798943237457315,1.1160057602750102,-0.08809469183071897,1.0374511726902327,0.8647984505493161,-2.02602321230138,-1.8973360600586375,1.3290420228656905,-0.08532051099166421,-0.1618291189602749,3.36589901332965,0.2853060111168622,1.4909104779129705,2.603046817481854,0.07057420879162299,-0.3349264401219666,-0.27214487332199866,0.11621477136899505,-1.9653993496117967,-0.6532103410624271,0.2363608302426708,0.9248339096229946,1.044452994302072,-0.568127620861377,0.9347943385510102,-1.4674844783936958,-0.6593242696058286,0.33773560085113274,-0.9564585499347026,-1.0816546603266393,-0.0990998967519054,-0.6780371610061101,-0.4661359234137232],\"xaxis\":\"x11\",\"yaxis\":\"y11\",\"type\":\"histogram\"},{\"line\":{\"color\":\"rgba(128, 128, 128, 1.0)\",\"dash\":\"solid\",\"shape\":\"linear\",\"width\":1.3},\"marker\":{\"size\":2,\"symbol\":\"circle\"},\"mode\":\"markers\",\"name\":\"C\",\"text\":\"\",\"x\":[-0.19631981906212687,-0.6519713807353804,-1.0649846722973384,0.2276268403009993,0.7048164209836024,-1.4446783704695936,-2.033750158183124,0.5138908127633827,0.5743634695953264,-1.3657451693518634,0.4637907687699757,1.0844078896291873,-0.8199961871709128,0.7302810084439927,1.1501886667067136,1.4068956037099702,1.508692417359712,-0.122429546415331,-1.2139029828276917,-1.3915936060875007,-0.3238322412559266,1.3434653001668608,-0.5185807775608965,-0.7107820957370212,-0.4464055579970659,-0.9606481511417176,-0.295817297356241,-0.7965590857577352,0.006067325117813681,-0.4809220256345543,1.028630144482865,-0.3991139925170933,0.03907052978298096,1.4539224977284508,1.2368047827803776,1.498742536272704,0.9555284868160445,-0.4319859168096048,0.07204665511014491,0.15138773782731127,-0.0016863454597473644,-0.66704262100987,0.8234927800554659,0.9355289432127771,-0.6529971281881106,1.5998032068698078,-1.158827929365611,-0.04136818612304619,1.0781454686574732,0.21721131798324592,1.534521058113346,-1.750652204012357,0.9872822474417707,-1.197496541939758,-1.0439173878772081,0.09596236413985537,-0.6568654252222857,0.706633110663512,-1.211932613051174,0.671873724489011,-0.3898892118405459,0.9970459716634278,-0.28713960225161106,-0.010341133054459198,-0.9767493981679324,-0.18844975221423968,-0.7820893042608988,-1.8529738370200275,1.4738531760079354,-0.23686088155185786,-0.8470745256434993,-2.05765141244495,0.8174144337022742,-1.4106119727042548,-0.7248926917781047,-0.8969630071984197,-0.6419860011659925,-0.375072540951662,0.17237805217223748,-0.5805831220436499,-1.0090042945869997,-0.360630514240928,0.06712082805980472,-1.0222964654995608,-1.3111878556748808,-0.6265000694373624,-0.45147531022127435,-1.1298686894301744,-1.7403524915989772,-0.20931072894096553,-0.4243133313934241,-0.4252201065654679,-0.9829243053422797,0.6344429869787069,0.4895108597241183,0.9515124340705648,-1.2456264225617408,-0.003231469493402177,-0.4297021911016993,-1.0168190422430656],\"xaxis\":\"x12\",\"y\":[0.647918339125702,-0.6629874159950747,-1.365185908111771,-2.0075225889599912,0.35654496700388316,1.3006874023536812,0.6835665697629982,-0.1401688964319155,-0.5803277472699386,0.6923895199692292,0.11043568798289007,-2.04023863493297,-1.4862374677794092,-0.8038954840842417,-0.4135429899954026,-0.19033116277557574,-0.5832375643284965,-0.7939887159905965,0.6763710647834456,0.622834178952044,0.19795849857076636,0.9230244541099311,0.9102873282566336,-1.578134272455675,2.248498612388913,-0.618276094493357,-1.642332191049332,-0.04954032303581414,1.273426373834263,0.05231784690273851,0.2170359373006094,-0.621871739089189,1.7856015664211622,0.43911657462324843,-1.4061425872715332,-0.32187333746658625,-0.23938813708705242,1.7833946355736527,-0.37324468282187484,-1.0666543693021822,-1.5485146171686575,0.20222191754419228,1.5230706386496686,0.616125792570182,-0.060507670904036276,-1.2248084283541232,-0.044431380557908934,2.2728044609439206,-1.7719469687907905,-0.5033840112064768,0.3851516439195813,-0.46447582205570065,-0.41975194804749727,0.04487714083101872,-2.008098012532532,0.2570531685060416,0.4336246485117831,0.7873621484585646,-0.7858747473947723,-2.249721885545336,0.2608393620754042,-0.35116999546835553,-1.4189477335205365,0.2452825146149802,0.40435417415188973,0.09930232430532347,-1.6741987610616293,0.42798943237457315,1.1160057602750102,-0.08809469183071897,1.0374511726902327,0.8647984505493161,-2.02602321230138,-1.8973360600586375,1.3290420228656905,-0.08532051099166421,-0.1618291189602749,3.36589901332965,0.2853060111168622,1.4909104779129705,2.603046817481854,0.07057420879162299,-0.3349264401219666,-0.27214487332199866,0.11621477136899505,-1.9653993496117967,-0.6532103410624271,0.2363608302426708,0.9248339096229946,1.044452994302072,-0.568127620861377,0.9347943385510102,-1.4674844783936958,-0.6593242696058286,0.33773560085113274,-0.9564585499347026,-1.0816546603266393,-0.0990998967519054,-0.6780371610061101,-0.4661359234137232],\"yaxis\":\"y12\",\"type\":\"scatter\"},{\"line\":{\"color\":\"rgba(128, 128, 128, 1.0)\",\"dash\":\"solid\",\"shape\":\"linear\",\"width\":1.3},\"marker\":{\"size\":2,\"symbol\":\"circle\"},\"mode\":\"markers\",\"name\":\"D\",\"text\":\"\",\"x\":[0.512752939029791,-0.3553419617198243,-0.27929092762229374,0.13715381120273906,-0.10561595646288185,-0.1599097109111184,-0.4979472496059992,0.157104113124573,-0.46293873496051735,2.485418431861522,-0.4516734756190726,-1.493458861952407,-0.026482791768084567,-0.2757463899836123,2.241694624786081,-0.5129572406266717,0.15252616393685708,1.3865506913062904,-0.4983345548729902,0.307249958853756,-1.128251054831078,-0.8075072847154674,-0.6363660077137355,-0.3713082499903116,1.0441461790223507,0.3414257868465785,-0.5322617919291063,-1.2591308173815023,0.7009125457086441,0.9967249848203381,0.5553427242848349,-0.1710629029221637,-0.09347269250359294,-0.06269091796217952,-0.8889925758821092,1.0218299933351225,0.8210081659849187,0.44322827056598846,-0.4184786434300998,-0.08940115509505929,0.7269703626378548,0.24703444042561,0.05660618906374495,-0.46715813740333273,0.02946942295050563,-2.0148452428808628,-1.8538320646658921,-0.3354297970013657,1.6395349929699676,1.8490226882208158,-0.1512933010494933,-0.5005603686679456,0.7287108498117928,1.298360623953065,0.05835482274762789,0.05404720881988463,1.6448478378071496,-0.2165273389788695,-0.01089034092055172,-0.6396922580512779,0.1659230506263948,-0.26904140973624013,-0.15555495444472764,0.9466288861187291,0.49900398554713205,-2.175214685296227,0.09718808811786087,2.708148103191192,-0.7877907963975526,-0.0014491244335431606,-0.11955410895494896,-0.012562024727582138,-0.38147657376126753,1.1364951029280372,-0.3185237106734018,-2.2316850554714165,-1.332370837239957,1.1773780023580709,0.02886572654773463,-1.345659142078511,0.8985612990834209,0.7222788050675611,-1.3802880760915244,-1.9585194457414203,-2.1686577556553375,-0.8500871395049288,0.10917120767171398,0.4795289001080743,1.2234004610201688,0.8152430704621533,1.0968304321670168,-1.4067781777797062,0.05849673408436882,0.7533432362097038,0.015432162011626286,-1.2840022615670568,1.0343567428530556,0.6022038052564009,-0.5734790425194495,-0.061518042568631644],\"xaxis\":\"x13\",\"y\":[-0.19631981906212687,-0.6519713807353804,-1.0649846722973384,0.2276268403009993,0.7048164209836024,-1.4446783704695936,-2.033750158183124,0.5138908127633827,0.5743634695953264,-1.3657451693518634,0.4637907687699757,1.0844078896291873,-0.8199961871709128,0.7302810084439927,1.1501886667067136,1.4068956037099702,1.508692417359712,-0.122429546415331,-1.2139029828276917,-1.3915936060875007,-0.3238322412559266,1.3434653001668608,-0.5185807775608965,-0.7107820957370212,-0.4464055579970659,-0.9606481511417176,-0.295817297356241,-0.7965590857577352,0.006067325117813681,-0.4809220256345543,1.028630144482865,-0.3991139925170933,0.03907052978298096,1.4539224977284508,1.2368047827803776,1.498742536272704,0.9555284868160445,-0.4319859168096048,0.07204665511014491,0.15138773782731127,-0.0016863454597473644,-0.66704262100987,0.8234927800554659,0.9355289432127771,-0.6529971281881106,1.5998032068698078,-1.158827929365611,-0.04136818612304619,1.0781454686574732,0.21721131798324592,1.534521058113346,-1.750652204012357,0.9872822474417707,-1.197496541939758,-1.0439173878772081,0.09596236413985537,-0.6568654252222857,0.706633110663512,-1.211932613051174,0.671873724489011,-0.3898892118405459,0.9970459716634278,-0.28713960225161106,-0.010341133054459198,-0.9767493981679324,-0.18844975221423968,-0.7820893042608988,-1.8529738370200275,1.4738531760079354,-0.23686088155185786,-0.8470745256434993,-2.05765141244495,0.8174144337022742,-1.4106119727042548,-0.7248926917781047,-0.8969630071984197,-0.6419860011659925,-0.375072540951662,0.17237805217223748,-0.5805831220436499,-1.0090042945869997,-0.360630514240928,0.06712082805980472,-1.0222964654995608,-1.3111878556748808,-0.6265000694373624,-0.45147531022127435,-1.1298686894301744,-1.7403524915989772,-0.20931072894096553,-0.4243133313934241,-0.4252201065654679,-0.9829243053422797,0.6344429869787069,0.4895108597241183,0.9515124340705648,-1.2456264225617408,-0.003231469493402177,-0.4297021911016993,-1.0168190422430656],\"yaxis\":\"y13\",\"type\":\"scatter\"},{\"line\":{\"color\":\"rgba(128, 128, 128, 1.0)\",\"dash\":\"solid\",\"shape\":\"linear\",\"width\":1.3},\"marker\":{\"size\":2,\"symbol\":\"circle\"},\"mode\":\"markers\",\"name\":\"D\",\"text\":\"\",\"x\":[0.9495836228334081,-0.7100194112250915,1.650112399487089,0.7207073489887325,-0.6598783128597964,0.18061985623530957,-0.4113123196925393,-0.8059169160909352,-0.45030841232826324,-0.8649897640802658,1.0102208397481613,-1.0723396880437734,-0.6968940084156565,-0.8645673092942562,2.1955425731858553,-1.8863114244239756,0.8957455972821831,0.678767466446716,-0.8943159560446318,-0.09741963407826157,0.7654188247816236,-0.3061372125342001,0.5819132563211112,-0.8670704822495087,-1.1685354191395143,0.4987062070583795,-1.2664917103538968,-0.0020470918678063186,0.3121952440872714,-0.16072843272068324,0.11875890069643805,0.44986031105381663,-1.2372941389702115,-0.0699148743189868,0.5722458274120602,-0.908423657263562,0.9938975291952103,0.7958846288611234,2.301904816453025,-0.03442714273076457,1.9790174693194467,2.610010540348577,0.32989197333371956,0.8624799408253738,0.1139651001292569,0.4707004527178716,-1.5716325921736916,-0.24216538524890424,1.2948587449311602,2.4104001599038,0.06946876011078847,0.14121954910246642,-1.758843335651598,-0.34023316429089806,-0.615902806569471,0.5258757904723518,0.768142038676994,-0.6217746021507302,0.40561366010531047,0.0611695638678798,-0.13738126847244095,1.0648377553030648,-1.8221199689954444,-0.8653744519128183,0.6777054680280602,2.497494640335452,0.15104718570411105,1.6886883956295087,0.2150663109619358,1.1726393230041428,-0.6033410253786355,-1.1128029280466678,-1.3753978791796673,-1.6083436278421894,0.3251529185534095,-0.23507903877710437,0.6854681379288818,-1.041259674279969,-0.6804639148664574,0.8121246030044645,1.3458243345424477,-0.11174265897113703,0.8968517311317901,1.1561368291141871,0.14505918969787704,-0.18489325889499017,0.28894923373935066,0.9245649933210359,0.09791212574998187,1.735864656117559,1.8020648684561578,1.1660229778070796,1.6705341417911646,0.7029421504635976,-0.09985353358039065,0.6613232704319956,0.7436371685517646,-1.1581864717986816,-0.0517374783828689,0.01597140932841376],\"xaxis\":\"x14\",\"y\":[-0.19631981906212687,-0.6519713807353804,-1.0649846722973384,0.2276268403009993,0.7048164209836024,-1.4446783704695936,-2.033750158183124,0.5138908127633827,0.5743634695953264,-1.3657451693518634,0.4637907687699757,1.0844078896291873,-0.8199961871709128,0.7302810084439927,1.1501886667067136,1.4068956037099702,1.508692417359712,-0.122429546415331,-1.2139029828276917,-1.3915936060875007,-0.3238322412559266,1.3434653001668608,-0.5185807775608965,-0.7107820957370212,-0.4464055579970659,-0.9606481511417176,-0.295817297356241,-0.7965590857577352,0.006067325117813681,-0.4809220256345543,1.028630144482865,-0.3991139925170933,0.03907052978298096,1.4539224977284508,1.2368047827803776,1.498742536272704,0.9555284868160445,-0.4319859168096048,0.07204665511014491,0.15138773782731127,-0.0016863454597473644,-0.66704262100987,0.8234927800554659,0.9355289432127771,-0.6529971281881106,1.5998032068698078,-1.158827929365611,-0.04136818612304619,1.0781454686574732,0.21721131798324592,1.534521058113346,-1.750652204012357,0.9872822474417707,-1.197496541939758,-1.0439173878772081,0.09596236413985537,-0.6568654252222857,0.706633110663512,-1.211932613051174,0.671873724489011,-0.3898892118405459,0.9970459716634278,-0.28713960225161106,-0.010341133054459198,-0.9767493981679324,-0.18844975221423968,-0.7820893042608988,-1.8529738370200275,1.4738531760079354,-0.23686088155185786,-0.8470745256434993,-2.05765141244495,0.8174144337022742,-1.4106119727042548,-0.7248926917781047,-0.8969630071984197,-0.6419860011659925,-0.375072540951662,0.17237805217223748,-0.5805831220436499,-1.0090042945869997,-0.360630514240928,0.06712082805980472,-1.0222964654995608,-1.3111878556748808,-0.6265000694373624,-0.45147531022127435,-1.1298686894301744,-1.7403524915989772,-0.20931072894096553,-0.4243133313934241,-0.4252201065654679,-0.9829243053422797,0.6344429869787069,0.4895108597241183,0.9515124340705648,-1.2456264225617408,-0.003231469493402177,-0.4297021911016993,-1.0168190422430656],\"yaxis\":\"y14\",\"type\":\"scatter\"},{\"line\":{\"color\":\"rgba(128, 128, 128, 1.0)\",\"dash\":\"solid\",\"shape\":\"linear\",\"width\":1.3},\"marker\":{\"size\":2,\"symbol\":\"circle\"},\"mode\":\"markers\",\"name\":\"D\",\"text\":\"\",\"x\":[0.647918339125702,-0.6629874159950747,-1.365185908111771,-2.0075225889599912,0.35654496700388316,1.3006874023536812,0.6835665697629982,-0.1401688964319155,-0.5803277472699386,0.6923895199692292,0.11043568798289007,-2.04023863493297,-1.4862374677794092,-0.8038954840842417,-0.4135429899954026,-0.19033116277557574,-0.5832375643284965,-0.7939887159905965,0.6763710647834456,0.622834178952044,0.19795849857076636,0.9230244541099311,0.9102873282566336,-1.578134272455675,2.248498612388913,-0.618276094493357,-1.642332191049332,-0.04954032303581414,1.273426373834263,0.05231784690273851,0.2170359373006094,-0.621871739089189,1.7856015664211622,0.43911657462324843,-1.4061425872715332,-0.32187333746658625,-0.23938813708705242,1.7833946355736527,-0.37324468282187484,-1.0666543693021822,-1.5485146171686575,0.20222191754419228,1.5230706386496686,0.616125792570182,-0.060507670904036276,-1.2248084283541232,-0.044431380557908934,2.2728044609439206,-1.7719469687907905,-0.5033840112064768,0.3851516439195813,-0.46447582205570065,-0.41975194804749727,0.04487714083101872,-2.008098012532532,0.2570531685060416,0.4336246485117831,0.7873621484585646,-0.7858747473947723,-2.249721885545336,0.2608393620754042,-0.35116999546835553,-1.4189477335205365,0.2452825146149802,0.40435417415188973,0.09930232430532347,-1.6741987610616293,0.42798943237457315,1.1160057602750102,-0.08809469183071897,1.0374511726902327,0.8647984505493161,-2.02602321230138,-1.8973360600586375,1.3290420228656905,-0.08532051099166421,-0.1618291189602749,3.36589901332965,0.2853060111168622,1.4909104779129705,2.603046817481854,0.07057420879162299,-0.3349264401219666,-0.27214487332199866,0.11621477136899505,-1.9653993496117967,-0.6532103410624271,0.2363608302426708,0.9248339096229946,1.044452994302072,-0.568127620861377,0.9347943385510102,-1.4674844783936958,-0.6593242696058286,0.33773560085113274,-0.9564585499347026,-1.0816546603266393,-0.0990998967519054,-0.6780371610061101,-0.4661359234137232],\"xaxis\":\"x15\",\"y\":[-0.19631981906212687,-0.6519713807353804,-1.0649846722973384,0.2276268403009993,0.7048164209836024,-1.4446783704695936,-2.033750158183124,0.5138908127633827,0.5743634695953264,-1.3657451693518634,0.4637907687699757,1.0844078896291873,-0.8199961871709128,0.7302810084439927,1.1501886667067136,1.4068956037099702,1.508692417359712,-0.122429546415331,-1.2139029828276917,-1.3915936060875007,-0.3238322412559266,1.3434653001668608,-0.5185807775608965,-0.7107820957370212,-0.4464055579970659,-0.9606481511417176,-0.295817297356241,-0.7965590857577352,0.006067325117813681,-0.4809220256345543,1.028630144482865,-0.3991139925170933,0.03907052978298096,1.4539224977284508,1.2368047827803776,1.498742536272704,0.9555284868160445,-0.4319859168096048,0.07204665511014491,0.15138773782731127,-0.0016863454597473644,-0.66704262100987,0.8234927800554659,0.9355289432127771,-0.6529971281881106,1.5998032068698078,-1.158827929365611,-0.04136818612304619,1.0781454686574732,0.21721131798324592,1.534521058113346,-1.750652204012357,0.9872822474417707,-1.197496541939758,-1.0439173878772081,0.09596236413985537,-0.6568654252222857,0.706633110663512,-1.211932613051174,0.671873724489011,-0.3898892118405459,0.9970459716634278,-0.28713960225161106,-0.010341133054459198,-0.9767493981679324,-0.18844975221423968,-0.7820893042608988,-1.8529738370200275,1.4738531760079354,-0.23686088155185786,-0.8470745256434993,-2.05765141244495,0.8174144337022742,-1.4106119727042548,-0.7248926917781047,-0.8969630071984197,-0.6419860011659925,-0.375072540951662,0.17237805217223748,-0.5805831220436499,-1.0090042945869997,-0.360630514240928,0.06712082805980472,-1.0222964654995608,-1.3111878556748808,-0.6265000694373624,-0.45147531022127435,-1.1298686894301744,-1.7403524915989772,-0.20931072894096553,-0.4243133313934241,-0.4252201065654679,-0.9829243053422797,0.6344429869787069,0.4895108597241183,0.9515124340705648,-1.2456264225617408,-0.003231469493402177,-0.4297021911016993,-1.0168190422430656],\"yaxis\":\"y15\",\"type\":\"scatter\"},{\"histfunc\":\"count\",\"histnorm\":\"\",\"marker\":{\"color\":\"rgba(128, 0, 128, 1.0)\",\"line\":{\"color\":\"#4D5663\",\"width\":1.3}},\"name\":\"D\",\"nbinsx\":10,\"opacity\":0.8,\"orientation\":\"v\",\"x\":[-0.19631981906212687,-0.6519713807353804,-1.0649846722973384,0.2276268403009993,0.7048164209836024,-1.4446783704695936,-2.033750158183124,0.5138908127633827,0.5743634695953264,-1.3657451693518634,0.4637907687699757,1.0844078896291873,-0.8199961871709128,0.7302810084439927,1.1501886667067136,1.4068956037099702,1.508692417359712,-0.122429546415331,-1.2139029828276917,-1.3915936060875007,-0.3238322412559266,1.3434653001668608,-0.5185807775608965,-0.7107820957370212,-0.4464055579970659,-0.9606481511417176,-0.295817297356241,-0.7965590857577352,0.006067325117813681,-0.4809220256345543,1.028630144482865,-0.3991139925170933,0.03907052978298096,1.4539224977284508,1.2368047827803776,1.498742536272704,0.9555284868160445,-0.4319859168096048,0.07204665511014491,0.15138773782731127,-0.0016863454597473644,-0.66704262100987,0.8234927800554659,0.9355289432127771,-0.6529971281881106,1.5998032068698078,-1.158827929365611,-0.04136818612304619,1.0781454686574732,0.21721131798324592,1.534521058113346,-1.750652204012357,0.9872822474417707,-1.197496541939758,-1.0439173878772081,0.09596236413985537,-0.6568654252222857,0.706633110663512,-1.211932613051174,0.671873724489011,-0.3898892118405459,0.9970459716634278,-0.28713960225161106,-0.010341133054459198,-0.9767493981679324,-0.18844975221423968,-0.7820893042608988,-1.8529738370200275,1.4738531760079354,-0.23686088155185786,-0.8470745256434993,-2.05765141244495,0.8174144337022742,-1.4106119727042548,-0.7248926917781047,-0.8969630071984197,-0.6419860011659925,-0.375072540951662,0.17237805217223748,-0.5805831220436499,-1.0090042945869997,-0.360630514240928,0.06712082805980472,-1.0222964654995608,-1.3111878556748808,-0.6265000694373624,-0.45147531022127435,-1.1298686894301744,-1.7403524915989772,-0.20931072894096553,-0.4243133313934241,-0.4252201065654679,-0.9829243053422797,0.6344429869787069,0.4895108597241183,0.9515124340705648,-1.2456264225617408,-0.003231469493402177,-0.4297021911016993,-1.0168190422430656],\"xaxis\":\"x16\",\"yaxis\":\"y16\",\"type\":\"histogram\"}],                        {\"bargap\":0.02,\"legend\":{\"bgcolor\":\"#F5F6F9\",\"font\":{\"color\":\"#4D5663\"}},\"paper_bgcolor\":\"#F5F6F9\",\"plot_bgcolor\":\"#F5F6F9\",\"showlegend\":false,\"template\":{\"data\":{\"barpolar\":[{\"marker\":{\"line\":{\"color\":\"#E5ECF6\",\"width\":0.5},\"pattern\":{\"fillmode\":\"overlay\",\"size\":10,\"solidity\":0.2}},\"type\":\"barpolar\"}],\"bar\":[{\"error_x\":{\"color\":\"#2a3f5f\"},\"error_y\":{\"color\":\"#2a3f5f\"},\"marker\":{\"line\":{\"color\":\"#E5ECF6\",\"width\":0.5},\"pattern\":{\"fillmode\":\"overlay\",\"size\":10,\"solidity\":0.2}},\"type\":\"bar\"}],\"carpet\":[{\"aaxis\":{\"endlinecolor\":\"#2a3f5f\",\"gridcolor\":\"white\",\"linecolor\":\"white\",\"minorgridcolor\":\"white\",\"startlinecolor\":\"#2a3f5f\"},\"baxis\":{\"endlinecolor\":\"#2a3f5f\",\"gridcolor\":\"white\",\"linecolor\":\"white\",\"minorgridcolor\":\"white\",\"startlinecolor\":\"#2a3f5f\"},\"type\":\"carpet\"}],\"choropleth\":[{\"colorbar\":{\"outlinewidth\":0,\"ticks\":\"\"},\"type\":\"choropleth\"}],\"contourcarpet\":[{\"colorbar\":{\"outlinewidth\":0,\"ticks\":\"\"},\"type\":\"contourcarpet\"}],\"contour\":[{\"colorbar\":{\"outlinewidth\":0,\"ticks\":\"\"},\"colorscale\":[[0.0,\"#0d0887\"],[0.1111111111111111,\"#46039f\"],[0.2222222222222222,\"#7201a8\"],[0.3333333333333333,\"#9c179e\"],[0.4444444444444444,\"#bd3786\"],[0.5555555555555556,\"#d8576b\"],[0.6666666666666666,\"#ed7953\"],[0.7777777777777778,\"#fb9f3a\"],[0.8888888888888888,\"#fdca26\"],[1.0,\"#f0f921\"]],\"type\":\"contour\"}],\"heatmapgl\":[{\"colorbar\":{\"outlinewidth\":0,\"ticks\":\"\"},\"colorscale\":[[0.0,\"#0d0887\"],[0.1111111111111111,\"#46039f\"],[0.2222222222222222,\"#7201a8\"],[0.3333333333333333,\"#9c179e\"],[0.4444444444444444,\"#bd3786\"],[0.5555555555555556,\"#d8576b\"],[0.6666666666666666,\"#ed7953\"],[0.7777777777777778,\"#fb9f3a\"],[0.8888888888888888,\"#fdca26\"],[1.0,\"#f0f921\"]],\"type\":\"heatmapgl\"}],\"heatmap\":[{\"colorbar\":{\"outlinewidth\":0,\"ticks\":\"\"},\"colorscale\":[[0.0,\"#0d0887\"],[0.1111111111111111,\"#46039f\"],[0.2222222222222222,\"#7201a8\"],[0.3333333333333333,\"#9c179e\"],[0.4444444444444444,\"#bd3786\"],[0.5555555555555556,\"#d8576b\"],[0.6666666666666666,\"#ed7953\"],[0.7777777777777778,\"#fb9f3a\"],[0.8888888888888888,\"#fdca26\"],[1.0,\"#f0f921\"]],\"type\":\"heatmap\"}],\"histogram2dcontour\":[{\"colorbar\":{\"outlinewidth\":0,\"ticks\":\"\"},\"colorscale\":[[0.0,\"#0d0887\"],[0.1111111111111111,\"#46039f\"],[0.2222222222222222,\"#7201a8\"],[0.3333333333333333,\"#9c179e\"],[0.4444444444444444,\"#bd3786\"],[0.5555555555555556,\"#d8576b\"],[0.6666666666666666,\"#ed7953\"],[0.7777777777777778,\"#fb9f3a\"],[0.8888888888888888,\"#fdca26\"],[1.0,\"#f0f921\"]],\"type\":\"histogram2dcontour\"}],\"histogram2d\":[{\"colorbar\":{\"outlinewidth\":0,\"ticks\":\"\"},\"colorscale\":[[0.0,\"#0d0887\"],[0.1111111111111111,\"#46039f\"],[0.2222222222222222,\"#7201a8\"],[0.3333333333333333,\"#9c179e\"],[0.4444444444444444,\"#bd3786\"],[0.5555555555555556,\"#d8576b\"],[0.6666666666666666,\"#ed7953\"],[0.7777777777777778,\"#fb9f3a\"],[0.8888888888888888,\"#fdca26\"],[1.0,\"#f0f921\"]],\"type\":\"histogram2d\"}],\"histogram\":[{\"marker\":{\"pattern\":{\"fillmode\":\"overlay\",\"size\":10,\"solidity\":0.2}},\"type\":\"histogram\"}],\"mesh3d\":[{\"colorbar\":{\"outlinewidth\":0,\"ticks\":\"\"},\"type\":\"mesh3d\"}],\"parcoords\":[{\"line\":{\"colorbar\":{\"outlinewidth\":0,\"ticks\":\"\"}},\"type\":\"parcoords\"}],\"pie\":[{\"automargin\":true,\"type\":\"pie\"}],\"scatter3d\":[{\"line\":{\"colorbar\":{\"outlinewidth\":0,\"ticks\":\"\"}},\"marker\":{\"colorbar\":{\"outlinewidth\":0,\"ticks\":\"\"}},\"type\":\"scatter3d\"}],\"scattercarpet\":[{\"marker\":{\"colorbar\":{\"outlinewidth\":0,\"ticks\":\"\"}},\"type\":\"scattercarpet\"}],\"scattergeo\":[{\"marker\":{\"colorbar\":{\"outlinewidth\":0,\"ticks\":\"\"}},\"type\":\"scattergeo\"}],\"scattergl\":[{\"marker\":{\"colorbar\":{\"outlinewidth\":0,\"ticks\":\"\"}},\"type\":\"scattergl\"}],\"scattermapbox\":[{\"marker\":{\"colorbar\":{\"outlinewidth\":0,\"ticks\":\"\"}},\"type\":\"scattermapbox\"}],\"scatterpolargl\":[{\"marker\":{\"colorbar\":{\"outlinewidth\":0,\"ticks\":\"\"}},\"type\":\"scatterpolargl\"}],\"scatterpolar\":[{\"marker\":{\"colorbar\":{\"outlinewidth\":0,\"ticks\":\"\"}},\"type\":\"scatterpolar\"}],\"scatter\":[{\"fillpattern\":{\"fillmode\":\"overlay\",\"size\":10,\"solidity\":0.2},\"type\":\"scatter\"}],\"scatterternary\":[{\"marker\":{\"colorbar\":{\"outlinewidth\":0,\"ticks\":\"\"}},\"type\":\"scatterternary\"}],\"surface\":[{\"colorbar\":{\"outlinewidth\":0,\"ticks\":\"\"},\"colorscale\":[[0.0,\"#0d0887\"],[0.1111111111111111,\"#46039f\"],[0.2222222222222222,\"#7201a8\"],[0.3333333333333333,\"#9c179e\"],[0.4444444444444444,\"#bd3786\"],[0.5555555555555556,\"#d8576b\"],[0.6666666666666666,\"#ed7953\"],[0.7777777777777778,\"#fb9f3a\"],[0.8888888888888888,\"#fdca26\"],[1.0,\"#f0f921\"]],\"type\":\"surface\"}],\"table\":[{\"cells\":{\"fill\":{\"color\":\"#EBF0F8\"},\"line\":{\"color\":\"white\"}},\"header\":{\"fill\":{\"color\":\"#C8D4E3\"},\"line\":{\"color\":\"white\"}},\"type\":\"table\"}]},\"layout\":{\"annotationdefaults\":{\"arrowcolor\":\"#2a3f5f\",\"arrowhead\":0,\"arrowwidth\":1},\"autotypenumbers\":\"strict\",\"coloraxis\":{\"colorbar\":{\"outlinewidth\":0,\"ticks\":\"\"}},\"colorscale\":{\"diverging\":[[0,\"#8e0152\"],[0.1,\"#c51b7d\"],[0.2,\"#de77ae\"],[0.3,\"#f1b6da\"],[0.4,\"#fde0ef\"],[0.5,\"#f7f7f7\"],[0.6,\"#e6f5d0\"],[0.7,\"#b8e186\"],[0.8,\"#7fbc41\"],[0.9,\"#4d9221\"],[1,\"#276419\"]],\"sequential\":[[0.0,\"#0d0887\"],[0.1111111111111111,\"#46039f\"],[0.2222222222222222,\"#7201a8\"],[0.3333333333333333,\"#9c179e\"],[0.4444444444444444,\"#bd3786\"],[0.5555555555555556,\"#d8576b\"],[0.6666666666666666,\"#ed7953\"],[0.7777777777777778,\"#fb9f3a\"],[0.8888888888888888,\"#fdca26\"],[1.0,\"#f0f921\"]],\"sequentialminus\":[[0.0,\"#0d0887\"],[0.1111111111111111,\"#46039f\"],[0.2222222222222222,\"#7201a8\"],[0.3333333333333333,\"#9c179e\"],[0.4444444444444444,\"#bd3786\"],[0.5555555555555556,\"#d8576b\"],[0.6666666666666666,\"#ed7953\"],[0.7777777777777778,\"#fb9f3a\"],[0.8888888888888888,\"#fdca26\"],[1.0,\"#f0f921\"]]},\"colorway\":[\"#636efa\",\"#EF553B\",\"#00cc96\",\"#ab63fa\",\"#FFA15A\",\"#19d3f3\",\"#FF6692\",\"#B6E880\",\"#FF97FF\",\"#FECB52\"],\"font\":{\"color\":\"#2a3f5f\"},\"geo\":{\"bgcolor\":\"white\",\"lakecolor\":\"white\",\"landcolor\":\"#E5ECF6\",\"showlakes\":true,\"showland\":true,\"subunitcolor\":\"white\"},\"hoverlabel\":{\"align\":\"left\"},\"hovermode\":\"closest\",\"mapbox\":{\"style\":\"light\"},\"paper_bgcolor\":\"white\",\"plot_bgcolor\":\"#E5ECF6\",\"polar\":{\"angularaxis\":{\"gridcolor\":\"white\",\"linecolor\":\"white\",\"ticks\":\"\"},\"bgcolor\":\"#E5ECF6\",\"radialaxis\":{\"gridcolor\":\"white\",\"linecolor\":\"white\",\"ticks\":\"\"}},\"scene\":{\"xaxis\":{\"backgroundcolor\":\"#E5ECF6\",\"gridcolor\":\"white\",\"gridwidth\":2,\"linecolor\":\"white\",\"showbackground\":true,\"ticks\":\"\",\"zerolinecolor\":\"white\"},\"yaxis\":{\"backgroundcolor\":\"#E5ECF6\",\"gridcolor\":\"white\",\"gridwidth\":2,\"linecolor\":\"white\",\"showbackground\":true,\"ticks\":\"\",\"zerolinecolor\":\"white\"},\"zaxis\":{\"backgroundcolor\":\"#E5ECF6\",\"gridcolor\":\"white\",\"gridwidth\":2,\"linecolor\":\"white\",\"showbackground\":true,\"ticks\":\"\",\"zerolinecolor\":\"white\"}},\"shapedefaults\":{\"line\":{\"color\":\"#2a3f5f\"}},\"ternary\":{\"aaxis\":{\"gridcolor\":\"white\",\"linecolor\":\"white\",\"ticks\":\"\"},\"baxis\":{\"gridcolor\":\"white\",\"linecolor\":\"white\",\"ticks\":\"\"},\"bgcolor\":\"#E5ECF6\",\"caxis\":{\"gridcolor\":\"white\",\"linecolor\":\"white\",\"ticks\":\"\"}},\"title\":{\"x\":0.05},\"xaxis\":{\"automargin\":true,\"gridcolor\":\"white\",\"linecolor\":\"white\",\"ticks\":\"\",\"title\":{\"standoff\":15},\"zerolinecolor\":\"white\",\"zerolinewidth\":2},\"yaxis\":{\"automargin\":true,\"gridcolor\":\"white\",\"linecolor\":\"white\",\"ticks\":\"\",\"title\":{\"standoff\":15},\"zerolinecolor\":\"white\",\"zerolinewidth\":2}}},\"title\":{\"font\":{\"color\":\"#4D5663\"}},\"xaxis\":{\"anchor\":\"y\",\"domain\":[0.0,0.2125],\"gridcolor\":\"#E1E5ED\",\"showgrid\":false,\"tickfont\":{\"color\":\"#4D5663\"},\"title\":{\"font\":{\"color\":\"#4D5663\"},\"text\":\"\"},\"zerolinecolor\":\"#E1E5ED\"},\"yaxis\":{\"anchor\":\"x\",\"domain\":[0.8025,1.0],\"gridcolor\":\"#E1E5ED\",\"showgrid\":false,\"tickfont\":{\"color\":\"#4D5663\"},\"title\":{\"font\":{\"color\":\"#4D5663\"},\"text\":\"\"},\"zerolinecolor\":\"#E1E5ED\"},\"xaxis2\":{\"anchor\":\"y2\",\"domain\":[0.2625,0.475],\"gridcolor\":\"#E1E5ED\",\"showgrid\":false,\"tickfont\":{\"color\":\"#4D5663\"},\"title\":{\"font\":{\"color\":\"#4D5663\"},\"text\":\"\"},\"zerolinecolor\":\"#E1E5ED\"},\"yaxis2\":{\"anchor\":\"x2\",\"domain\":[0.8025,1.0],\"gridcolor\":\"#E1E5ED\",\"showgrid\":false,\"tickfont\":{\"color\":\"#4D5663\"},\"title\":{\"font\":{\"color\":\"#4D5663\"},\"text\":\"\"},\"zerolinecolor\":\"#E1E5ED\"},\"xaxis3\":{\"anchor\":\"y3\",\"domain\":[0.525,0.7375],\"gridcolor\":\"#E1E5ED\",\"showgrid\":false,\"tickfont\":{\"color\":\"#4D5663\"},\"title\":{\"font\":{\"color\":\"#4D5663\"},\"text\":\"\"},\"zerolinecolor\":\"#E1E5ED\"},\"yaxis3\":{\"anchor\":\"x3\",\"domain\":[0.8025,1.0],\"gridcolor\":\"#E1E5ED\",\"showgrid\":false,\"tickfont\":{\"color\":\"#4D5663\"},\"title\":{\"font\":{\"color\":\"#4D5663\"},\"text\":\"\"},\"zerolinecolor\":\"#E1E5ED\"},\"xaxis4\":{\"anchor\":\"y4\",\"domain\":[0.7875,1.0],\"gridcolor\":\"#E1E5ED\",\"showgrid\":false,\"tickfont\":{\"color\":\"#4D5663\"},\"title\":{\"font\":{\"color\":\"#4D5663\"},\"text\":\"\"},\"zerolinecolor\":\"#E1E5ED\"},\"yaxis4\":{\"anchor\":\"x4\",\"domain\":[0.8025,1.0],\"gridcolor\":\"#E1E5ED\",\"showgrid\":false,\"tickfont\":{\"color\":\"#4D5663\"},\"title\":{\"font\":{\"color\":\"#4D5663\"},\"text\":\"\"},\"zerolinecolor\":\"#E1E5ED\"},\"xaxis5\":{\"anchor\":\"y5\",\"domain\":[0.0,0.2125],\"gridcolor\":\"#E1E5ED\",\"showgrid\":false,\"tickfont\":{\"color\":\"#4D5663\"},\"title\":{\"font\":{\"color\":\"#4D5663\"},\"text\":\"\"},\"zerolinecolor\":\"#E1E5ED\"},\"yaxis5\":{\"anchor\":\"x5\",\"domain\":[0.535,0.7325],\"gridcolor\":\"#E1E5ED\",\"showgrid\":false,\"tickfont\":{\"color\":\"#4D5663\"},\"title\":{\"font\":{\"color\":\"#4D5663\"},\"text\":\"\"},\"zerolinecolor\":\"#E1E5ED\"},\"xaxis6\":{\"anchor\":\"y6\",\"domain\":[0.2625,0.475],\"gridcolor\":\"#E1E5ED\",\"showgrid\":false,\"tickfont\":{\"color\":\"#4D5663\"},\"title\":{\"font\":{\"color\":\"#4D5663\"},\"text\":\"\"},\"zerolinecolor\":\"#E1E5ED\"},\"yaxis6\":{\"anchor\":\"x6\",\"domain\":[0.535,0.7325],\"gridcolor\":\"#E1E5ED\",\"showgrid\":false,\"tickfont\":{\"color\":\"#4D5663\"},\"title\":{\"font\":{\"color\":\"#4D5663\"},\"text\":\"\"},\"zerolinecolor\":\"#E1E5ED\"},\"xaxis7\":{\"anchor\":\"y7\",\"domain\":[0.525,0.7375],\"gridcolor\":\"#E1E5ED\",\"showgrid\":false,\"tickfont\":{\"color\":\"#4D5663\"},\"title\":{\"font\":{\"color\":\"#4D5663\"},\"text\":\"\"},\"zerolinecolor\":\"#E1E5ED\"},\"yaxis7\":{\"anchor\":\"x7\",\"domain\":[0.535,0.7325],\"gridcolor\":\"#E1E5ED\",\"showgrid\":false,\"tickfont\":{\"color\":\"#4D5663\"},\"title\":{\"font\":{\"color\":\"#4D5663\"},\"text\":\"\"},\"zerolinecolor\":\"#E1E5ED\"},\"xaxis8\":{\"anchor\":\"y8\",\"domain\":[0.7875,1.0],\"gridcolor\":\"#E1E5ED\",\"showgrid\":false,\"tickfont\":{\"color\":\"#4D5663\"},\"title\":{\"font\":{\"color\":\"#4D5663\"},\"text\":\"\"},\"zerolinecolor\":\"#E1E5ED\"},\"yaxis8\":{\"anchor\":\"x8\",\"domain\":[0.535,0.7325],\"gridcolor\":\"#E1E5ED\",\"showgrid\":false,\"tickfont\":{\"color\":\"#4D5663\"},\"title\":{\"font\":{\"color\":\"#4D5663\"},\"text\":\"\"},\"zerolinecolor\":\"#E1E5ED\"},\"xaxis9\":{\"anchor\":\"y9\",\"domain\":[0.0,0.2125],\"gridcolor\":\"#E1E5ED\",\"showgrid\":false,\"tickfont\":{\"color\":\"#4D5663\"},\"title\":{\"font\":{\"color\":\"#4D5663\"},\"text\":\"\"},\"zerolinecolor\":\"#E1E5ED\"},\"yaxis9\":{\"anchor\":\"x9\",\"domain\":[0.2675,0.465],\"gridcolor\":\"#E1E5ED\",\"showgrid\":false,\"tickfont\":{\"color\":\"#4D5663\"},\"title\":{\"font\":{\"color\":\"#4D5663\"},\"text\":\"\"},\"zerolinecolor\":\"#E1E5ED\"},\"xaxis10\":{\"anchor\":\"y10\",\"domain\":[0.2625,0.475],\"gridcolor\":\"#E1E5ED\",\"showgrid\":false,\"tickfont\":{\"color\":\"#4D5663\"},\"title\":{\"font\":{\"color\":\"#4D5663\"},\"text\":\"\"},\"zerolinecolor\":\"#E1E5ED\"},\"yaxis10\":{\"anchor\":\"x10\",\"domain\":[0.2675,0.465],\"gridcolor\":\"#E1E5ED\",\"showgrid\":false,\"tickfont\":{\"color\":\"#4D5663\"},\"title\":{\"font\":{\"color\":\"#4D5663\"},\"text\":\"\"},\"zerolinecolor\":\"#E1E5ED\"},\"xaxis11\":{\"anchor\":\"y11\",\"domain\":[0.525,0.7375],\"gridcolor\":\"#E1E5ED\",\"showgrid\":false,\"tickfont\":{\"color\":\"#4D5663\"},\"title\":{\"font\":{\"color\":\"#4D5663\"},\"text\":\"\"},\"zerolinecolor\":\"#E1E5ED\"},\"yaxis11\":{\"anchor\":\"x11\",\"domain\":[0.2675,0.465],\"gridcolor\":\"#E1E5ED\",\"showgrid\":false,\"tickfont\":{\"color\":\"#4D5663\"},\"title\":{\"font\":{\"color\":\"#4D5663\"},\"text\":\"\"},\"zerolinecolor\":\"#E1E5ED\"},\"xaxis12\":{\"anchor\":\"y12\",\"domain\":[0.7875,1.0],\"gridcolor\":\"#E1E5ED\",\"showgrid\":false,\"tickfont\":{\"color\":\"#4D5663\"},\"title\":{\"font\":{\"color\":\"#4D5663\"},\"text\":\"\"},\"zerolinecolor\":\"#E1E5ED\"},\"yaxis12\":{\"anchor\":\"x12\",\"domain\":[0.2675,0.465],\"gridcolor\":\"#E1E5ED\",\"showgrid\":false,\"tickfont\":{\"color\":\"#4D5663\"},\"title\":{\"font\":{\"color\":\"#4D5663\"},\"text\":\"\"},\"zerolinecolor\":\"#E1E5ED\"},\"xaxis13\":{\"anchor\":\"y13\",\"domain\":[0.0,0.2125],\"gridcolor\":\"#E1E5ED\",\"showgrid\":false,\"tickfont\":{\"color\":\"#4D5663\"},\"title\":{\"font\":{\"color\":\"#4D5663\"},\"text\":\"\"},\"zerolinecolor\":\"#E1E5ED\"},\"yaxis13\":{\"anchor\":\"x13\",\"domain\":[0.0,0.1975],\"gridcolor\":\"#E1E5ED\",\"showgrid\":false,\"tickfont\":{\"color\":\"#4D5663\"},\"title\":{\"font\":{\"color\":\"#4D5663\"},\"text\":\"\"},\"zerolinecolor\":\"#E1E5ED\"},\"xaxis14\":{\"anchor\":\"y14\",\"domain\":[0.2625,0.475],\"gridcolor\":\"#E1E5ED\",\"showgrid\":false,\"tickfont\":{\"color\":\"#4D5663\"},\"title\":{\"font\":{\"color\":\"#4D5663\"},\"text\":\"\"},\"zerolinecolor\":\"#E1E5ED\"},\"yaxis14\":{\"anchor\":\"x14\",\"domain\":[0.0,0.1975],\"gridcolor\":\"#E1E5ED\",\"showgrid\":false,\"tickfont\":{\"color\":\"#4D5663\"},\"title\":{\"font\":{\"color\":\"#4D5663\"},\"text\":\"\"},\"zerolinecolor\":\"#E1E5ED\"},\"xaxis15\":{\"anchor\":\"y15\",\"domain\":[0.525,0.7375],\"gridcolor\":\"#E1E5ED\",\"showgrid\":false,\"tickfont\":{\"color\":\"#4D5663\"},\"title\":{\"font\":{\"color\":\"#4D5663\"},\"text\":\"\"},\"zerolinecolor\":\"#E1E5ED\"},\"yaxis15\":{\"anchor\":\"x15\",\"domain\":[0.0,0.1975],\"gridcolor\":\"#E1E5ED\",\"showgrid\":false,\"tickfont\":{\"color\":\"#4D5663\"},\"title\":{\"font\":{\"color\":\"#4D5663\"},\"text\":\"\"},\"zerolinecolor\":\"#E1E5ED\"},\"xaxis16\":{\"anchor\":\"y16\",\"domain\":[0.7875,1.0],\"gridcolor\":\"#E1E5ED\",\"showgrid\":false,\"tickfont\":{\"color\":\"#4D5663\"},\"title\":{\"font\":{\"color\":\"#4D5663\"},\"text\":\"\"},\"zerolinecolor\":\"#E1E5ED\"},\"yaxis16\":{\"anchor\":\"x16\",\"domain\":[0.0,0.1975],\"gridcolor\":\"#E1E5ED\",\"showgrid\":false,\"tickfont\":{\"color\":\"#4D5663\"},\"title\":{\"font\":{\"color\":\"#4D5663\"},\"text\":\"\"},\"zerolinecolor\":\"#E1E5ED\"}},                        {\"showLink\": true, \"linkText\": \"Export to plot.ly\", \"plotlyServerURL\": \"https://plot.ly\", \"responsive\": true}                    ).then(function(){\n",
       "                            \n",
       "var gd = document.getElementById('0609be0c-ca61-4a18-8976-92bb329fb8b2');\n",
       "var x = new MutationObserver(function (mutations, observer) {{\n",
       "        var display = window.getComputedStyle(gd).display;\n",
       "        if (!display || display === 'none') {{\n",
       "            console.log([gd, 'removed!']);\n",
       "            Plotly.purge(gd);\n",
       "            observer.disconnect();\n",
       "        }}\n",
       "}});\n",
       "\n",
       "// Listen for the removal of the full notebook cells\n",
       "var notebookContainer = gd.closest('#notebook-container');\n",
       "if (notebookContainer) {{\n",
       "    x.observe(notebookContainer, {childList: true});\n",
       "}}\n",
       "\n",
       "// Listen for the clearing of the current output cell\n",
       "var outputEl = gd.closest('.output');\n",
       "if (outputEl) {{\n",
       "    x.observe(outputEl, {childList: true});\n",
       "}}\n",
       "\n",
       "                        })                };                });            </script>        </div>"
      ]
     },
     "metadata": {},
     "output_type": "display_data"
    }
   ],
   "source": [
    "df1.scatter_matrix()"
   ]
  },
  {
   "cell_type": "code",
   "execution_count": null,
   "id": "0aebea42",
   "metadata": {},
   "outputs": [],
   "source": []
  }
 ],
 "metadata": {
  "kernelspec": {
   "display_name": "Python 3 (ipykernel)",
   "language": "python",
   "name": "python3"
  },
  "language_info": {
   "codemirror_mode": {
    "name": "ipython",
    "version": 3
   },
   "file_extension": ".py",
   "mimetype": "text/x-python",
   "name": "python",
   "nbconvert_exporter": "python",
   "pygments_lexer": "ipython3",
   "version": "3.10.9"
  }
 },
 "nbformat": 4,
 "nbformat_minor": 5
}
